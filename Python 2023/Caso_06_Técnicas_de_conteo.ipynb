{
  "nbformat": 4,
  "nbformat_minor": 0,
  "metadata": {
    "colab": {
      "provenance": [],
      "authorship_tag": "ABX9TyPb3wscgcc2Q1BqpxAZH32s",
      "include_colab_link": true
    },
    "kernelspec": {
      "name": "python3",
      "display_name": "Python 3"
    },
    "language_info": {
      "name": "python"
    }
  },
  "cells": [
    {
      "cell_type": "markdown",
      "metadata": {
        "id": "view-in-github",
        "colab_type": "text"
      },
      "source": [
        "<a href=\"https://colab.research.google.com/github/rpizarrog/probabilidad-y-estad-stica/blob/master/Python%202023/Caso_06_T%C3%A9cnicas_de_conteo.ipynb\" target=\"_parent\"><img src=\"https://colab.research.google.com/assets/colab-badge.svg\" alt=\"Open In Colab\"/></a>"
      ]
    },
    {
      "cell_type": "code",
      "execution_count": 170,
      "metadata": {
        "id": "gza-jI383WTj"
      },
      "outputs": [],
      "source": []
    },
    {
      "cell_type": "markdown",
      "source": [
        "# Objetivo\n",
        "\n",
        "Aplicar y simular algunas técnicas de conteo para determinar probabilidades.\n",
        "\n",
        "# Descripción\n",
        "\n",
        "-   Cargar librerías\n",
        "-   Cargar datos del url: https://raw.githubusercontent.com/rpizarrog/probabilidad-y-estad-stica/master/datos/datos_ropa.csv\n",
        "-   Aplicar técnicas de conteo aditivo y multiplicativo.\n",
        "-   Analizaar las técnicas de cnteo y responder a preguntas del caso.\n",
        "-   Interpretar el caso."
      ],
      "metadata": {
        "id": "PyL7mATG3bSc"
      }
    },
    {
      "cell_type": "markdown",
      "source": [
        "## Marco conceptual\n",
        "\n",
        "## ¿Que son las técnicas de conteo en probabilidad?\n",
        "\n",
        "Las técnicas de conteo son estrategias matemáticas usadas en probabilidad y estadística que permiten determinar el número total de casos o eventos o situaciones a partir de contabilizar cada uno de ellos dentro de un espacio muestral.\n",
        "\n",
        "El espacio muestral se define con una literal matemática ***S***\n",
        "\n",
        "### Principio suma o aditivo\n",
        "\n",
        "Contar cuántas ocasiones existe de un evento dentro de un espacio muestral.\n",
        "\n",
        "Se tienen cuatro opciones a elegir en un espacio muestral identificada **S**, ¿Cual es el número de opciones?.\n",
        "\n",
        "Imaginar que se tienen ciertas opciones 'A, B, C y D para desplazarse de un lugar a otro.\n",
        "\n",
        "\n",
        "\n"
      ],
      "metadata": {
        "id": "O5MTXklV4M3s"
      }
    },
    {
      "cell_type": "code",
      "source": [
        "S = [\"A\", 'B', 'C', 'D']\n",
        "n_opciones = len(S)\n",
        "print(\"El número total de opciones de S es cuatro.\", n_opciones)"
      ],
      "metadata": {
        "colab": {
          "base_uri": "https://localhost:8080/"
        },
        "id": "okiI-QM64dfj",
        "outputId": "a854ab64-7e4d-4ea7-d34c-4fbc56eee4d8"
      },
      "execution_count": 171,
      "outputs": [
        {
          "output_type": "stream",
          "name": "stdout",
          "text": [
            "El número total de opciones de S es cuatro. 4\n"
          ]
        }
      ]
    },
    {
      "cell_type": "markdown",
      "source": [
        "El principio aditivo significa contar las opciones.\n",
        "\n",
        "¿En cuántas ocasiones existe A dentro de S?. Una ¿En cuántas ocasiones existe B dentro de S?. Una ¿En cuántas ocasiones existe C dentro de S?. Respueta: Una.\n",
        "\n",
        "Imaginar que se acude a una tienda de ropa se pueden elegir algún producto de entre varios de ellos; pantalones, camisas, playeras, zapatos.\n",
        "\n",
        "Se identifica **S** nuevamente como espacio muestral que contiene todos los elementos de la muestra.\n",
        "\n"
      ],
      "metadata": {
        "id": "METUN76K4yJW"
      }
    },
    {
      "cell_type": "code",
      "source": [
        "productos = ['PANTALON', 'CAMISA', 'PLAYERA', 'ZAPATO']\n",
        "productos\n",
        "\n",
        "n_productos = len(productos)\n",
        "print(\"El número total de opciones de productos diferentes es: \", n_productos)"
      ],
      "metadata": {
        "colab": {
          "base_uri": "https://localhost:8080/"
        },
        "id": "SSvvvE4x4-XM",
        "outputId": "fb8a52fe-9cf7-4a14-a9b8-3dbf9d04ef1d"
      },
      "execution_count": 172,
      "outputs": [
        {
          "output_type": "stream",
          "name": "stdout",
          "text": [
            "El número total de opciones de productos diferentes es:  4\n"
          ]
        }
      ]
    },
    {
      "cell_type": "markdown",
      "source": [
        "### Principio multiplicativo\n",
        "\n",
        "Combina el principio aditivo con la operación de multiplicación.\n",
        "\n",
        "Se trata de multiplicar las opciones de un tipo por las opciones de otro tipo y sumar los resultados de cada alternativa.\n",
        "\n",
        "Se decide ir a una tienda de ropa, se puede adquirir, P Pantalones, C Camisas, P Playeras, Z Zapatos (cuatro productos); existe por cada producto marcas de fabricantes específicas. De cada tipo de productos existen diferentes marcas X, Y y Z (tres marcas). De igual forma se puede elegir alguna talla de cualquier marca de algún tipo de productos.\n",
        "\n",
        "La idea es determinar la cantidad de opciones que se tienen en total utilizando el principio multiplicativo.\n",
        "\n",
        "-   ¿Cuántas y cuáles opciones existen para elegir un sólo producto diferente?, Es el total de productos. **Resp**. cuatro opciones, un producto diferente de cada uno.\n",
        "\n",
        "-   ¿Cuántas opciones se tienen para elegir una marca de pantalón. **Resp**. tres\n",
        "\n",
        "-   ¿Cuántas opciones se tienen para elegir una marca de camisa. **Resp**. tres\n",
        "\n",
        "-   ¿Cuántas opciones se tienen para elegir una marca de playera. **Resp**. tres\n",
        "\n",
        "-   ¿Cuántas opciones se tienen para elegir una marca de zapato. **Resp**. tres"
      ],
      "metadata": {
        "id": "y-bjEX_m5G8N"
      }
    },
    {
      "cell_type": "code",
      "source": [
        "marcas = [\"X\", \"Y\", \"Z\"]\n",
        "n_marcas = len(marcas)\n",
        "print(\"Marcas diferentes a elegir son: \", n_marcas)"
      ],
      "metadata": {
        "colab": {
          "base_uri": "https://localhost:8080/"
        },
        "id": "1YaawFnH6F6_",
        "outputId": "e9e1dbf4-2d94-4f29-9834-b8606f0dcd8a"
      },
      "execution_count": 173,
      "outputs": [
        {
          "output_type": "stream",
          "name": "stdout",
          "text": [
            "Marcas diferentes a elegir son:  3\n"
          ]
        }
      ]
    },
    {
      "cell_type": "markdown",
      "source": [
        "-   ¿Cuántas opciones existen para elegir un tipo de producto de alguna marca en particular?. **Resp**. $$ 4\\text{ productos diferentes}\\times 3\\text{ marcas diferentes} = 12$$"
      ],
      "metadata": {
        "id": "orcY4Oeg6hnG"
      }
    },
    {
      "cell_type": "code",
      "source": [
        "print(\"Alternativas de elegir algún producto y marca diferente son: \", n_productos * n_marcas)"
      ],
      "metadata": {
        "colab": {
          "base_uri": "https://localhost:8080/"
        },
        "id": "UY8P7DLg6kXH",
        "outputId": "e107023b-830e-4c17-a099-233bf823404b"
      },
      "execution_count": 174,
      "outputs": [
        {
          "output_type": "stream",
          "name": "stdout",
          "text": [
            "Alternativas de elegir algún producto y marca diferente son:  12\n"
          ]
        }
      ]
    },
    {
      "cell_type": "markdown",
      "source": [
        "Existe variedad en tallas de cada producto diferente, es decir, los pantalones, las camisas y las playeras tienen tallas diferentes, C Chica, M Mediana, G Grande, X Extra Grande:\n",
        "\n",
        "-   De los pantalones existe talla C, M y G, son tres tallas\n",
        "\n",
        "-   De las camisas existen tallas M y G, son dos tallas\n",
        "\n",
        "-   De las playeras existen tallas C, M, G y X, son cuatro tallas\n",
        "\n",
        "-   De los zapatos existen medidas 24, 25, 26, 27 y 28 en tallas centímetros., son cinco tallas o medidas."
      ],
      "metadata": {
        "id": "331RN1y-6zmt"
      }
    },
    {
      "cell_type": "code",
      "source": [
        "tallas_PANTALON = [\"C\", \"M\", \"G\"]\n",
        "tallas_CAMISAS = [\"M\", \"G\"]\n",
        "tallas_PLAYERAS = [\"C\", \"M\", \"G\", \"X\"]\n",
        "\n",
        "# Los zapatos tienen medidas particulares\n",
        "tallas_ZAPATOS = ['24', '25', '26' , '27', '28']\n",
        "\n",
        "print(\"PANTALON: \", tallas_PANTALON)\n",
        "print(\"CAMISAS: \",tallas_CAMISAS)\n",
        "print(\"PLAYERAS: \",tallas_PLAYERAS)\n",
        "print(\"ZAPATOS: \",tallas_ZAPATOS)"
      ],
      "metadata": {
        "colab": {
          "base_uri": "https://localhost:8080/"
        },
        "id": "U9MKPIpr7BCt",
        "outputId": "7bb911ef-6e10-4675-fcaf-0df52a27d8c3"
      },
      "execution_count": 175,
      "outputs": [
        {
          "output_type": "stream",
          "name": "stdout",
          "text": [
            "PANTALON:  ['C', 'M', 'G']\n",
            "CAMISAS:  ['M', 'G']\n",
            "PLAYERAS:  ['C', 'M', 'G', 'X']\n",
            "ZAPATOS:  ['24', '25', '26', '27', '28']\n"
          ]
        }
      ]
    },
    {
      "cell_type": "markdown",
      "source": [
        "¿Cuántas opciones hay en total de elegir un producto distinto de marca diferente y de talla única?.\n",
        "\n"
      ],
      "metadata": {
        "id": "_S2zChp79CpX"
      }
    },
    {
      "cell_type": "code",
      "source": [
        "n_tallas_pantalones = len(tallas_PANTALON)\n",
        "n_tallas_camisas = len(tallas_CAMISAS)\n",
        "n_tallas_playeras = len(tallas_PLAYERAS)\n",
        "n_tallas_zapatos = len(tallas_ZAPATOS)\n",
        "\n",
        "print (n_tallas_pantalones)\n",
        "print(n_tallas_camisas)\n",
        "print(n_tallas_playeras)\n",
        "print(n_tallas_zapatos)\n",
        "\n",
        "n_opciones = (n_marcas * n_tallas_pantalones)  + (n_marcas * n_tallas_camisas) + (n_marcas * n_tallas_playeras) + (n_marcas * n_tallas_zapatos)\n",
        "\n",
        "print(\"Existen varias alternativas de elegir producto, marca y talla diferente, son: \", n_opciones)"
      ],
      "metadata": {
        "colab": {
          "base_uri": "https://localhost:8080/"
        },
        "id": "lnj97PyP9FRy",
        "outputId": "519a1636-eed6-476e-8ee9-ab002ab1b6d3"
      },
      "execution_count": 176,
      "outputs": [
        {
          "output_type": "stream",
          "name": "stdout",
          "text": [
            "3\n",
            "2\n",
            "4\n",
            "5\n",
            "Existen varias alternativas de elegir producto, marca y talla diferente, son:  42\n"
          ]
        }
      ]
    },
    {
      "cell_type": "markdown",
      "source": [
        "$$\n",
        "opciones = (nmarcas \\times ntallaspantalones) + (nmarcas \\times ntallascamisas) + \\\\ (nmarcas \\times ntallasplayeras) + (nmarcas \\times ntallaszapatos)\n",
        "$$\n",
        "\n",
        "$$\n",
        "(3 \\times 3) + (3 \\times 2) + \\\\ (3 \\times 4) + (3 \\times 5) = 42\n",
        "$$"
      ],
      "metadata": {
        "id": "PILfzBsY9tPu"
      }
    },
    {
      "cell_type": "markdown",
      "source": [
        "Si se multiplica el número de opciones de marcas de cada producto por sus correspondientes tallas y sumando parcialmente cada resultado para determinar finalmente el total de opciones.\n",
        "\n",
        "Se aplica un principio aditivo y multiplicativo para encontrar la cantidad de opciones y poder elegir un producto de entre todo el espacio muestral **S**.\n",
        "\n",
        "¿Que sucede si de entre todos los productos hay alternativas de seleccionar para el género femenino y para el género masculino?\n",
        "\n",
        "$$\n",
        "opciones = (nmarcas \\times ntallas.pantalones \\times ngeneros) + (nmarcas \\times ntallascamisas\\times ngeneros) + \\\\ (nmarcas \\times ntallasplayeras\\times n.generos) + (nmarcas \\times nzapatos\\times ngeneros)\n",
        "$$\n",
        "\n",
        "$$\n",
        "(3 \\times 3 \\times 2) + (3 \\times 2 \\times 2) + \\\\ (3 \\times 4 \\times 2) + (3 \\times 5 \\times 2) = 84\n",
        "$$"
      ],
      "metadata": {
        "id": "THAB2iswALCO"
      }
    },
    {
      "cell_type": "markdown",
      "source": [
        "## Cargar librerías\n",
        "\n"
      ],
      "metadata": {
        "id": "t4hFX4OGA9rr"
      }
    },
    {
      "cell_type": "code",
      "source": [
        "import pandas as pd\n",
        "import numpy as np"
      ],
      "metadata": {
        "id": "VCYqzD-yBHz3"
      },
      "execution_count": 177,
      "outputs": []
    },
    {
      "cell_type": "markdown",
      "source": [
        "# Desarrollo\n",
        "\n",
        "## Espacio muestral\n",
        "\n",
        "Se visualiza todo el espacio muestral **S**\n",
        "\n",
        "Se cargan los datos\n",
        "\n",
        "La función *len()* devuelve la cantidad de registros u observaciones de un *data.frame*."
      ],
      "metadata": {
        "id": "zpQYn-gv4Hw3"
      }
    },
    {
      "cell_type": "code",
      "source": [
        "# URL del archivo CSV\n",
        "url = \"https://raw.githubusercontent.com/rpizarrog/probabilidad-y-estad-stica/master/datos/datos_ropa.csv\"\n",
        "\n",
        "# Cargar los datos en un DataFrame\n",
        "datos = pd.read_csv(url)\n",
        "\n",
        "\n",
        "print(\"Los primeros y últimos to registros de datos (alumnos)\")\n",
        "\n",
        "print(datos.head(42))\n",
        "print(datos.tail(42))\n",
        "# datos"
      ],
      "metadata": {
        "colab": {
          "base_uri": "https://localhost:8080/"
        },
        "id": "sdNCGBhuBSL_",
        "outputId": "3b8a771f-f3a4-49ac-b544-a9ae539ca3e2"
      },
      "execution_count": 178,
      "outputs": [
        {
          "output_type": "stream",
          "name": "stdout",
          "text": [
            "Los primeros y últimos to registros de datos (alumnos)\n",
            "   productos marcas tallas    generos  cantidad\n",
            "0   PANTALON      X      C   FEMENINO         6\n",
            "1   PANTALON      Y      C   FEMENINO         3\n",
            "2   PANTALON      Z      C   FEMENINO         2\n",
            "3   PANTALON      X      M   FEMENINO         4\n",
            "4   PANTALON      Y      M   FEMENINO         3\n",
            "5   PANTALON      Z      M   FEMENINO         6\n",
            "6   PANTALON      X      G   FEMENINO         1\n",
            "7   PANTALON      Y      G   FEMENINO         7\n",
            "8   PANTALON      Z      G   FEMENINO         3\n",
            "9   PANTALON      X      C  MASCULINO         7\n",
            "10  PANTALON      Y      C  MASCULINO         2\n",
            "11  PANTALON      Z      C  MASCULINO         3\n",
            "12  PANTALON      X      M  MASCULINO         8\n",
            "13  PANTALON      Y      M  MASCULINO         2\n",
            "14  PANTALON      Z      M  MASCULINO         1\n",
            "15  PANTALON      X      G  MASCULINO         8\n",
            "16  PANTALON      Y      G  MASCULINO         3\n",
            "17  PANTALON      Z      G  MASCULINO         7\n",
            "18    CAMISA      X      M   FEMENINO         4\n",
            "19    CAMISA      Y      M   FEMENINO         2\n",
            "20    CAMISA      Z      M   FEMENINO         7\n",
            "21    CAMISA      X      G   FEMENINO         3\n",
            "22    CAMISA      Y      G   FEMENINO         4\n",
            "23    CAMISA      Z      G   FEMENINO         4\n",
            "24    CAMISA      X      M  MASCULINO         1\n",
            "25    CAMISA      Y      M  MASCULINO         8\n",
            "26    CAMISA      Z      M  MASCULINO         7\n",
            "27    CAMISA      X      G  MASCULINO         2\n",
            "28    CAMISA      Y      G  MASCULINO         7\n",
            "29    CAMISA      Z      G  MASCULINO         7\n",
            "30   PLAYERA      X      C   FEMENINO         2\n",
            "31   PLAYERA      Y      C   FEMENINO         1\n",
            "32   PLAYERA      Z      C   FEMENINO         6\n",
            "33   PLAYERA      X      M   FEMENINO         4\n",
            "34   PLAYERA      Y      M   FEMENINO         6\n",
            "35   PLAYERA      Z      M   FEMENINO         4\n",
            "36   PLAYERA      X      G   FEMENINO         8\n",
            "37   PLAYERA      Y      G   FEMENINO         8\n",
            "38   PLAYERA      Z      G   FEMENINO         7\n",
            "39   PLAYERA      X      X   FEMENINO         8\n",
            "40   PLAYERA      Y      X   FEMENINO         4\n",
            "41   PLAYERA      Z      X   FEMENINO         5\n",
            "   productos marcas tallas    generos  cantidad\n",
            "42   PLAYERA      X      C  MASCULINO         1\n",
            "43   PLAYERA      Y      C  MASCULINO         7\n",
            "44   PLAYERA      Z      C  MASCULINO         2\n",
            "45   PLAYERA      X      M  MASCULINO         7\n",
            "46   PLAYERA      Y      M  MASCULINO         7\n",
            "47   PLAYERA      Z      M  MASCULINO         5\n",
            "48   PLAYERA      X      G  MASCULINO         4\n",
            "49   PLAYERA      Y      G  MASCULINO         8\n",
            "50   PLAYERA      Z      G  MASCULINO         6\n",
            "51   PLAYERA      X      X  MASCULINO         2\n",
            "52   PLAYERA      Y      X  MASCULINO         6\n",
            "53   PLAYERA      Z      X  MASCULINO         1\n",
            "54    ZAPATO      X     24   FEMENINO         3\n",
            "55    ZAPATO      Y     24   FEMENINO         4\n",
            "56    ZAPATO      Z     24   FEMENINO         7\n",
            "57    ZAPATO      X     25   FEMENINO         4\n",
            "58    ZAPATO      Y     25   FEMENINO         5\n",
            "59    ZAPATO      Z     25   FEMENINO         8\n",
            "60    ZAPATO      X     26   FEMENINO         4\n",
            "61    ZAPATO      Y     26   FEMENINO         1\n",
            "62    ZAPATO      Z     26   FEMENINO         7\n",
            "63    ZAPATO      X     27   FEMENINO         4\n",
            "64    ZAPATO      Y     27   FEMENINO         1\n",
            "65    ZAPATO      Z     27   FEMENINO         7\n",
            "66    ZAPATO      X     28   FEMENINO         8\n",
            "67    ZAPATO      Y     28   FEMENINO         3\n",
            "68    ZAPATO      Z     28   FEMENINO         4\n",
            "69    ZAPATO      X     24  MASCULINO         8\n",
            "70    ZAPATO      Y     24  MASCULINO         7\n",
            "71    ZAPATO      Z     24  MASCULINO         1\n",
            "72    ZAPATO      X     25  MASCULINO         3\n",
            "73    ZAPATO      Y     25  MASCULINO         8\n",
            "74    ZAPATO      Z     25  MASCULINO         1\n",
            "75    ZAPATO      X     26  MASCULINO         1\n",
            "76    ZAPATO      Y     26  MASCULINO         2\n",
            "77    ZAPATO      Z     26  MASCULINO         5\n",
            "78    ZAPATO      X     27  MASCULINO         3\n",
            "79    ZAPATO      Y     27  MASCULINO         5\n",
            "80    ZAPATO      Z     27  MASCULINO         2\n",
            "81    ZAPATO      X     28  MASCULINO         1\n",
            "82    ZAPATO      Y     28  MASCULINO         2\n",
            "83    ZAPATO      Z     28  MASCULINO         5\n"
          ]
        }
      ]
    },
    {
      "cell_type": "markdown",
      "source": [
        "Hay 84 productos diferentes, son 5 variables de interés: el producto, la marca, la talla, el genero y la cantidad de prendas que hay de cada producto.\n",
        "\n",
        "Si hubiese un solo producto de cada marca, talla y género, ¿cuántos productos diferentes?: **82** (si hubiese uno de cada uno).\n",
        "\n",
        "Si se incluye la cantidad de prendas que hay de cada producto ¿cuántos hay en total?: **375**.\n"
      ],
      "metadata": {
        "id": "uEuEBq0WBqwX"
      }
    },
    {
      "cell_type": "code",
      "source": [
        "n = len(datos)\n",
        "N = sum(datos['cantidad'])\n",
        "print (\"Hay \", n, \"productos diferentes en total\")\n",
        "print (\"Hay \", N, \"productos en total incluyendo cantidad de cada uno\")"
      ],
      "metadata": {
        "colab": {
          "base_uri": "https://localhost:8080/"
        },
        "id": "bzgy3u3gCjtR",
        "outputId": "5565f699-10fe-44a0-b81c-1cf35edc67bf"
      },
      "execution_count": 179,
      "outputs": [
        {
          "output_type": "stream",
          "name": "stdout",
          "text": [
            "Hay  84 productos diferentes en total\n",
            "Hay  375 productos en total incluyendo cantidad de cada uno\n"
          ]
        }
      ]
    },
    {
      "cell_type": "markdown",
      "source": [
        "El caso identifica a:\n",
        "$$\n",
        "n = 84 \\text{ como total de productos diferentes para cantidad de un producto de cada uno}\n",
        "$$\n",
        "\n",
        "$$\n",
        "N = 375\\text{ total de productos diferentes incluyendo cantidades que hay de cada uno}\n",
        "$$\n",
        "\n",
        "La frecuencia de cada producto dividio entre n o N se obtienen la frecuencia relativa lo que da lugar a la frecuencia porcentual y a la probabilidad.\n",
        "\n",
        "$$\n",
        "\\text{frec relativa} = \\frac{f}{n}\n",
        "$$\n",
        "\n",
        "$$\n",
        "P = \\text{probabilidad} = \\frac{f}{n}\\times{100}\n",
        "\\text{ en valores porcentaules %}\n",
        "$$\n",
        "\n",
        "\n"
      ],
      "metadata": {
        "id": "5X6qhPz5Fpl5"
      }
    },
    {
      "cell_type": "markdown",
      "source": [
        "## Preguntas del caso\n"
      ],
      "metadata": {
        "id": "9XNnzU2FGWCZ"
      }
    },
    {
      "cell_type": "markdown",
      "source": [
        "**En caso de que hubiese sólo un artículo de cada tipo de producto de cada marca de cada talla y de cada género**.\n",
        "\n",
        "-   ¿Cuántas opciones hay de elegir un pantalón de entre todo el espacio muestral y cuál es la probabilidad? Resp. $18 / 84 = 0.2142 ≈ 21.42\\%$\n",
        "\n",
        "Filtrar registros en Python puede hacer mediante la expresión de la variable a comparr seguido de operadores relacinales *'==', '<', '>', '<=', '>=', '!='* incluyendo operadores lógicos *'and', 'or', 'not'* y funciones.\n",
        "\n",
        "\n",
        "\n"
      ],
      "metadata": {
        "id": "9PhEU2VxGYE7"
      }
    },
    {
      "cell_type": "code",
      "source": [
        "condicion = \"Si solo hubiese un solo artículo, el espacio muestral es \"+str(n)+\".\"\n",
        "producto = \"PANTALON\"\n",
        "productos = datos[datos['productos'] == producto ]\n",
        "print(productos)\n",
        "\n",
        "n_productos = len(productos)\n",
        "\n",
        "print(condicion, \"\\nExisten \", n_productos, \" opciones de elegir\", producto, \" de entre todo el espacio muestral\", \", representan \",  round(n_productos / n,4), \" o sea, la probabilidad de elegir es de: \", np.round(n_productos / n * 100, 2), \"%  del total del espacio muestral.\")"
      ],
      "metadata": {
        "colab": {
          "base_uri": "https://localhost:8080/"
        },
        "id": "U8IIUUrmILO1",
        "outputId": "9c776052-3160-41c9-8f1f-378d833ef557"
      },
      "execution_count": 180,
      "outputs": [
        {
          "output_type": "stream",
          "name": "stdout",
          "text": [
            "   productos marcas tallas    generos  cantidad\n",
            "0   PANTALON      X      C   FEMENINO         6\n",
            "1   PANTALON      Y      C   FEMENINO         3\n",
            "2   PANTALON      Z      C   FEMENINO         2\n",
            "3   PANTALON      X      M   FEMENINO         4\n",
            "4   PANTALON      Y      M   FEMENINO         3\n",
            "5   PANTALON      Z      M   FEMENINO         6\n",
            "6   PANTALON      X      G   FEMENINO         1\n",
            "7   PANTALON      Y      G   FEMENINO         7\n",
            "8   PANTALON      Z      G   FEMENINO         3\n",
            "9   PANTALON      X      C  MASCULINO         7\n",
            "10  PANTALON      Y      C  MASCULINO         2\n",
            "11  PANTALON      Z      C  MASCULINO         3\n",
            "12  PANTALON      X      M  MASCULINO         8\n",
            "13  PANTALON      Y      M  MASCULINO         2\n",
            "14  PANTALON      Z      M  MASCULINO         1\n",
            "15  PANTALON      X      G  MASCULINO         8\n",
            "16  PANTALON      Y      G  MASCULINO         3\n",
            "17  PANTALON      Z      G  MASCULINO         7\n",
            "Si solo hubiese un solo artículo, el espacio muestral es 84. \n",
            "Existen  18  opciones de elegir PANTALON  de entre todo el espacio muestral , representan  0.2143  o sea, la probabilidad de elegir es de:  21.43 %  del total del espacio muestral.\n"
          ]
        }
      ]
    },
    {
      "cell_type": "markdown",
      "source": [
        "-   ¿Cuántas opciones hay de elegir una camisa de entre todo el espacio muestral? Resp. $12 / 84 = 0.1428 ≈ 14.28\\%$"
      ],
      "metadata": {
        "id": "zckhmjW8U6z1"
      }
    },
    {
      "cell_type": "code",
      "source": [
        "condicion = \"Si solo hubiese un solo artículo, el espacio muestral es \"+str(n)+\".\"\n",
        "producto = \"CAMISA\"\n",
        "productos = datos[datos['productos'] == producto ]\n",
        "print(productos)\n",
        "\n",
        "n_productos = len(productos)\n",
        "\n",
        "print(condicion, \"\\nExisten \", n_productos, \" opciones de elegir\", producto, \" de entre todo el espacio muestral\", \", representan \",  round(n_productos / n,4), \" o sea, la probabilidad de elegir es de:\", np.round(n_productos / n * 100, 2), \"%  del total del espacio muestral.\")"
      ],
      "metadata": {
        "colab": {
          "base_uri": "https://localhost:8080/"
        },
        "id": "ztgxzihgVLaV",
        "outputId": "89c5e897-828d-4e94-ef0e-cd31bba6d56f"
      },
      "execution_count": 181,
      "outputs": [
        {
          "output_type": "stream",
          "name": "stdout",
          "text": [
            "   productos marcas tallas    generos  cantidad\n",
            "18    CAMISA      X      M   FEMENINO         4\n",
            "19    CAMISA      Y      M   FEMENINO         2\n",
            "20    CAMISA      Z      M   FEMENINO         7\n",
            "21    CAMISA      X      G   FEMENINO         3\n",
            "22    CAMISA      Y      G   FEMENINO         4\n",
            "23    CAMISA      Z      G   FEMENINO         4\n",
            "24    CAMISA      X      M  MASCULINO         1\n",
            "25    CAMISA      Y      M  MASCULINO         8\n",
            "26    CAMISA      Z      M  MASCULINO         7\n",
            "27    CAMISA      X      G  MASCULINO         2\n",
            "28    CAMISA      Y      G  MASCULINO         7\n",
            "29    CAMISA      Z      G  MASCULINO         7\n",
            "Si solo hubiese un solo artículo, el espacio muestral es 84. \n",
            "Existen  12  opciones de elegir CAMISA  de entre todo el espacio muestral , representan  0.1429  o sea, la probabilidad de elegir es de: 14.29 %  del total del espacio muestral.\n"
          ]
        }
      ]
    },
    {
      "cell_type": "markdown",
      "source": [
        "-   ¿Cuántas opciones hay de elegir una playera de entre todo el espacio muestral? Resp. $24 / 84 = 0.2857 ≈ 28.57\\%$"
      ],
      "metadata": {
        "id": "V0JYmR0pV_SE"
      }
    },
    {
      "cell_type": "code",
      "source": [
        "condicion = \"Si solo hubiese un solo artículo, el espacio muestral es \"+str(n)+\".\"\n",
        "producto = \"PLAYERA\"\n",
        "productos = datos[datos['productos'] == producto ]\n",
        "print(productos)\n",
        "\n",
        "n_productos = len(productos)\n",
        "\n",
        "print(condicion, \"\\nExisten \", n_productos, \" opciones de elegir\", producto, \" de entre todo el espacio muestral\", \", representan \",  round(n_productos / n,4), \" o sea, la probabilidad de elegir es de: \", np.round(n_productos / n * 100, 2), \"%  del total del espacio muestral.\")"
      ],
      "metadata": {
        "colab": {
          "base_uri": "https://localhost:8080/"
        },
        "id": "swhEiKrrVvXV",
        "outputId": "b9cc4e94-c1b6-447e-cab2-3c0a71f75f8d"
      },
      "execution_count": 182,
      "outputs": [
        {
          "output_type": "stream",
          "name": "stdout",
          "text": [
            "   productos marcas tallas    generos  cantidad\n",
            "30   PLAYERA      X      C   FEMENINO         2\n",
            "31   PLAYERA      Y      C   FEMENINO         1\n",
            "32   PLAYERA      Z      C   FEMENINO         6\n",
            "33   PLAYERA      X      M   FEMENINO         4\n",
            "34   PLAYERA      Y      M   FEMENINO         6\n",
            "35   PLAYERA      Z      M   FEMENINO         4\n",
            "36   PLAYERA      X      G   FEMENINO         8\n",
            "37   PLAYERA      Y      G   FEMENINO         8\n",
            "38   PLAYERA      Z      G   FEMENINO         7\n",
            "39   PLAYERA      X      X   FEMENINO         8\n",
            "40   PLAYERA      Y      X   FEMENINO         4\n",
            "41   PLAYERA      Z      X   FEMENINO         5\n",
            "42   PLAYERA      X      C  MASCULINO         1\n",
            "43   PLAYERA      Y      C  MASCULINO         7\n",
            "44   PLAYERA      Z      C  MASCULINO         2\n",
            "45   PLAYERA      X      M  MASCULINO         7\n",
            "46   PLAYERA      Y      M  MASCULINO         7\n",
            "47   PLAYERA      Z      M  MASCULINO         5\n",
            "48   PLAYERA      X      G  MASCULINO         4\n",
            "49   PLAYERA      Y      G  MASCULINO         8\n",
            "50   PLAYERA      Z      G  MASCULINO         6\n",
            "51   PLAYERA      X      X  MASCULINO         2\n",
            "52   PLAYERA      Y      X  MASCULINO         6\n",
            "53   PLAYERA      Z      X  MASCULINO         1\n",
            "Si solo hubiese un solo artículo, el espacio muestral es 84. \n",
            "Existen  24  opciones de elegir PLAYERA  de entre todo el espacio muestral , representan  0.2857  o sea, la probabilidad de elegir es de:  28.57 %  del total del espacio muestral.\n"
          ]
        }
      ]
    },
    {
      "cell_type": "markdown",
      "source": [
        "-   ¿Cuántas opciones hay de elegir unos zapatos (par de zapatos) de entre todo el espacio muestral? Resp. $30 / 84 = 0.3571 ≈ 35.71\\%$\n",
        "\n",
        "\n",
        "\n",
        "\n"
      ],
      "metadata": {
        "id": "-suAHgD-K6t4"
      }
    },
    {
      "cell_type": "code",
      "source": [
        "condicion = \"Si solo hubiese un solo artículo, el espacio muestral es \"+str(n)+\".\"\n",
        "producto = \"ZAPATO\" # PAR DE ZAPATOS\n",
        "productos = datos[datos['productos'] == producto ]\n",
        "print(productos)\n",
        "\n",
        "n_productos = len(productos)\n",
        "\n",
        "print(condicion, \"\\nExisten \", n_productos, \" opciones de elegir\", producto, \" de entre todo el espacio muestral\", \", representan \",  round(n_productos / n,4), \" o sea, la probabilidad de elegir es de: \", np.round(n_productos / n * 100, 2), \"%  del total del espacio muestral.\")"
      ],
      "metadata": {
        "colab": {
          "base_uri": "https://localhost:8080/"
        },
        "id": "eMm4tc5mLB4y",
        "outputId": "5aace94f-a878-4251-82fb-3000a96d7e8c"
      },
      "execution_count": 183,
      "outputs": [
        {
          "output_type": "stream",
          "name": "stdout",
          "text": [
            "   productos marcas tallas    generos  cantidad\n",
            "54    ZAPATO      X     24   FEMENINO         3\n",
            "55    ZAPATO      Y     24   FEMENINO         4\n",
            "56    ZAPATO      Z     24   FEMENINO         7\n",
            "57    ZAPATO      X     25   FEMENINO         4\n",
            "58    ZAPATO      Y     25   FEMENINO         5\n",
            "59    ZAPATO      Z     25   FEMENINO         8\n",
            "60    ZAPATO      X     26   FEMENINO         4\n",
            "61    ZAPATO      Y     26   FEMENINO         1\n",
            "62    ZAPATO      Z     26   FEMENINO         7\n",
            "63    ZAPATO      X     27   FEMENINO         4\n",
            "64    ZAPATO      Y     27   FEMENINO         1\n",
            "65    ZAPATO      Z     27   FEMENINO         7\n",
            "66    ZAPATO      X     28   FEMENINO         8\n",
            "67    ZAPATO      Y     28   FEMENINO         3\n",
            "68    ZAPATO      Z     28   FEMENINO         4\n",
            "69    ZAPATO      X     24  MASCULINO         8\n",
            "70    ZAPATO      Y     24  MASCULINO         7\n",
            "71    ZAPATO      Z     24  MASCULINO         1\n",
            "72    ZAPATO      X     25  MASCULINO         3\n",
            "73    ZAPATO      Y     25  MASCULINO         8\n",
            "74    ZAPATO      Z     25  MASCULINO         1\n",
            "75    ZAPATO      X     26  MASCULINO         1\n",
            "76    ZAPATO      Y     26  MASCULINO         2\n",
            "77    ZAPATO      Z     26  MASCULINO         5\n",
            "78    ZAPATO      X     27  MASCULINO         3\n",
            "79    ZAPATO      Y     27  MASCULINO         5\n",
            "80    ZAPATO      Z     27  MASCULINO         2\n",
            "81    ZAPATO      X     28  MASCULINO         1\n",
            "82    ZAPATO      Y     28  MASCULINO         2\n",
            "83    ZAPATO      Z     28  MASCULINO         5\n",
            "Si solo hubiese un solo artículo, el espacio muestral es 84. \n",
            "Existen  30  opciones de elegir ZAPATO  de entre todo el espacio muestral , representan  0.3571  o sea, la probabilidad de elegir es de:  35.71 %  del total del espacio muestral.\n"
          ]
        }
      ]
    },
    {
      "cell_type": "markdown",
      "source": [
        "¿Cuántas opciones hay de elegir unos pantalones de la marca Z?.\n",
        "\n",
        "$10 / 84 = 0.119≈ 11.9\\%$\n",
        "\n"
      ],
      "metadata": {
        "id": "_e20e_kCdvw7"
      }
    },
    {
      "cell_type": "code",
      "source": [
        "condicion = \"Si solo hubiese un solo artículo, el espacio muestral es \"+str(n)+\".\"\n",
        "producto = \"ZAPATO\" # PAR DE ZAPATOS\n",
        "productos = datos[(datos['productos'] == producto) & (datos['marcas'] == 'Z') ]\n",
        "print(productos)\n",
        "print(\"n=\", n)\n",
        "\n",
        "n_productos = len(productos)\n",
        "print(\"n_productos\", n_productos)\n",
        "\n",
        "print(condicion, \"\\nExisten \", n_productos, \"opciones de elegir\", producto, \"marca Z\",\"de entre todo el espacio muestral\", \", representan \",  round(n_productos / n,4), \"o sea, la probabilidad de elegir es de:\", np.round(n_productos / n * 100, 2), \"% del total del espacio muestral.\")"
      ],
      "metadata": {
        "colab": {
          "base_uri": "https://localhost:8080/"
        },
        "id": "B4q_fSxCd2Sh",
        "outputId": "6886289e-b58a-4e71-b226-fbc724216594"
      },
      "execution_count": 189,
      "outputs": [
        {
          "output_type": "stream",
          "name": "stdout",
          "text": [
            "   productos marcas tallas    generos  cantidad\n",
            "56    ZAPATO      Z     24   FEMENINO         7\n",
            "59    ZAPATO      Z     25   FEMENINO         8\n",
            "62    ZAPATO      Z     26   FEMENINO         7\n",
            "65    ZAPATO      Z     27   FEMENINO         7\n",
            "68    ZAPATO      Z     28   FEMENINO         4\n",
            "71    ZAPATO      Z     24  MASCULINO         1\n",
            "74    ZAPATO      Z     25  MASCULINO         1\n",
            "77    ZAPATO      Z     26  MASCULINO         5\n",
            "80    ZAPATO      Z     27  MASCULINO         2\n",
            "83    ZAPATO      Z     28  MASCULINO         5\n",
            "n= 84\n",
            "n_productos 10\n",
            "Si solo hubiese un solo artículo, el espacio muestral es 84. \n",
            "Existen  10 opciones de elegir ZAPATO marca Z de entre todo el espacio muestral , representan  0.119 o sea, la probabilidad de elegir es de: 11.9 % del total del espacio muestral.\n"
          ]
        }
      ]
    },
    {
      "cell_type": "markdown",
      "source": [
        "**En caso de que se tome en cuenta la cantidad de prendas de cada  de cada producto**.\n",
        "\n",
        "¿Cuántas opciones hay de elegir unos pantalones del género femenino de entre todo el espacio muestral incluyendo la candiad e prendas que hay? Resp.  35/375=0.0933 ≈ 9.33\\%\n",
        "\n",
        "Se necesita la suma de pantalones del género femenino.\n",
        "\n"
      ],
      "metadata": {
        "id": "wt3A96o1YPt2"
      }
    },
    {
      "cell_type": "code",
      "source": [
        "condicion = \"tomando en cuenta la cantidad de prendas de cada producto. El espacio muestral es \"+str(N)+\".\"\n",
        "producto = \"PANTALON\" # PANTALON\n",
        "productos = datos[(datos['generos'] == \"FEMENINO\") & (datos['productos'] == \"PANTALON\")] # datos['productos'] == \"PANTALON\"] # & datos['generos'] == \"FEMENINO\"]\n",
        "print(productos)\n",
        "n_productos = sum(productos['cantidad'])\n",
        "\n",
        "print(condicion, \"\\nExisten \", n_productos, \" opciones de elegir\", producto, \"FEMENINO\", \"de entre todo el espacio muestral\", \", representan \",  round(n_productos / N,4), \" o sea, la probabilidad de elegir es de: \", np.round(n_productos / N * 100, 2), \"%  del total del espacio muestral.\")"
      ],
      "metadata": {
        "colab": {
          "base_uri": "https://localhost:8080/"
        },
        "id": "wbTgjssdYtjR",
        "outputId": "c544c8fe-a4e8-4ac9-c8d6-1f3f07e4c271"
      },
      "execution_count": 192,
      "outputs": [
        {
          "output_type": "stream",
          "name": "stdout",
          "text": [
            "  productos marcas tallas   generos  cantidad\n",
            "0  PANTALON      X      C  FEMENINO         6\n",
            "1  PANTALON      Y      C  FEMENINO         3\n",
            "2  PANTALON      Z      C  FEMENINO         2\n",
            "3  PANTALON      X      M  FEMENINO         4\n",
            "4  PANTALON      Y      M  FEMENINO         3\n",
            "5  PANTALON      Z      M  FEMENINO         6\n",
            "6  PANTALON      X      G  FEMENINO         1\n",
            "7  PANTALON      Y      G  FEMENINO         7\n",
            "8  PANTALON      Z      G  FEMENINO         3\n",
            "tomando en cuenta la cantidad de prendas de cada producto. El espacio muestral es 375. \n",
            "Existen  35  opciones de elegir PANTALON FEMENINO de entre todo el espacio muestral , representan  0.0933  o sea, la probabilidad de elegir es de:  9.33 %  del total del espacio muestral.\n"
          ]
        }
      ]
    },
    {
      "cell_type": "markdown",
      "source": [
        "# Interpretación\n",
        "\n",
        "Son ideas personales de los participantes, alumnos sobre lo que se desarrolla, a que conclusiones llegan.\n",
        "\n",
        "De las preguntas 1 a 3, conteste descriptiva y narrativa, de las preguntas 4 en adelante realice el cálculo de probabilidades y muestre los resultados.\n",
        "\n",
        "1. ¿Para que sirven técnicas de conteo aditivas y multiplicativas?\n",
        "\n",
        "2. ¿Qué representa un diagrama de árbol e términos de probabilidad?\n",
        "\n",
        "3. ¿Cómo determinar probabilidades?\n",
        "\n",
        "**En caso de que solo hubiese un producto de cada uno.** $n=84$\n",
        "\n",
        "4. ¿Cuántas y cuáles ocasiones existen para elegir un producto que sea pantalón y del género Femenino?, ¿cuál es su probabilidad?\n",
        "\n",
        "5. ¿Cuántas y cuáles ocasiones existen para elegir un producto que sea pantalón y del género Masculino?, ¿cuál es su probabilidad?\n",
        "\n",
        "6. ¿Cuáles, cuántas opciones y cuál es la probabilidad que existe de elegir unos zapatos de marca X del género Femenino y del número 24?\n",
        "\n",
        "**En caso de que se tome en cuenta la cantidad de prendas de cada  de cada producto.** $N=375$\n",
        "\n",
        "7. ¿Cuáles, cuántas opciones y cuál es la probabilidad que existe de elegir unos zapatos de marca Y del género Masculino y del número 28?\n",
        "\n",
        "8. ¿Cuáles, cuántas opciones y cuál es la probabilidad que existe de elegir unos zapatos del número 24?\n",
        "\n",
        "9. ¿Cuáles, cuántas opciones y cuál es la probabilidad que existe de elegir unos zapatos de marca Z del número 22?\n",
        "\n"
      ],
      "metadata": {
        "id": "lJw0_5A3XHAg"
      }
    }
  ]
}