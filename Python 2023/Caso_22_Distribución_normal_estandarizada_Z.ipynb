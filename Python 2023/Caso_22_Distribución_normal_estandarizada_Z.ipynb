{
  "nbformat": 4,
  "nbformat_minor": 0,
  "metadata": {
    "colab": {
      "provenance": [],
      "authorship_tag": "ABX9TyNavPfITmt9w3c4WJ5OdwBv",
      "include_colab_link": true
    },
    "kernelspec": {
      "name": "python3",
      "display_name": "Python 3"
    },
    "language_info": {
      "name": "python"
    }
  },
  "cells": [
    {
      "cell_type": "markdown",
      "metadata": {
        "id": "view-in-github",
        "colab_type": "text"
      },
      "source": [
        "<a href=\"https://colab.research.google.com/github/rpizarrog/probabilidad-y-estad-stica/blob/master/Python%202023/Caso_22_Distribuci%C3%B3n_normal_estandarizada_Z.ipynb\" target=\"_parent\"><img src=\"https://colab.research.google.com/assets/colab-badge.svg\" alt=\"Open In Colab\"/></a>"
      ]
    },
    {
      "cell_type": "markdown",
      "source": [
        "# Distribución norma estándar Z\n",
        "\n"
      ],
      "metadata": {
        "id": "tO45omx2HzhY"
      }
    },
    {
      "cell_type": "markdown",
      "source": [
        "# Objetivo\n",
        "\n",
        "Tranformar valores de una variable continua $x$ a valores de $z$ para calcular probabilidades en función de una distribución normal estándar $z$\n",
        "\n"
      ],
      "metadata": {
        "id": "Se3zYN2wH3m5"
      }
    },
    {
      "cell_type": "markdown",
      "source": [
        "# Descripción\n",
        "\n",
        "- Cargar librerías\n",
        "- Cargar funciones\n",
        "- Fórmula de z\n",
        "- Transfoamr valores de $x$ a $z$\n",
        "- Calcular probabilidades\n",
        "\n",
        "\n"
      ],
      "metadata": {
        "id": "xNw4hp7EIIju"
      }
    },
    {
      "cell_type": "markdown",
      "source": [
        "# Fundamento teórico\n",
        "\n",
        "La distribución normal estándar o distribución normal tipificada es una distribución normal singular cuya denominación es media igual a cero y desviación estándar igual a 1. μ=0; σ=1.\n",
        "\n",
        "Se necesita una variable, $z$ que representa el producto de una transformación o cambio de variable continua $x$ que sigue una distribución normal del tipo $N(μ = 0, σ = 1$.\n",
        "\n",
        "Esta transformación se llama tipificación (también estandarización o normalización):\n",
        "\n",
        "¿Porqué $z$?, en general, el valor de $z$\n",
        "se interpreta como el número de desviaciones estándar que están comprendidas entre el promedio y un cierto valor de variable $x$.\n",
        "\n",
        "Se identifica $z$ como la diferencia entre un valor de la variable y el promedio, expresada esta diferencia en cantidad de desviaciones estándar.[mendenhall2006?)].\n",
        "\n",
        "Entonces, a partir de cualquier variable aleatoria $x$ que siga una distribución normal, se puede obtener otra característica $z$ con una distribución normal estándar, sin más que efectuar la transformación conforme y de acuerdo a la fórmula.\n",
        "\n",
        "## Fórmula para calcular $z$\n",
        "\n",
        "$$\n",
        "z = \\frac{x - \\mu}{\\sigma}\n",
        "$$\n",
        "\n",
        "$$\n",
        "x \\text{ es el valor de una variable aleatoria continua de una distribución  normal} \\\\\n",
        "\\sigma \\text{ desviación estándar de población} \\\\\n",
        "\\mu \\text{ media de la población}\n",
        "$$\n",
        "\n",
        "## Regla empírica\n",
        "\n",
        "- Aproximadamente 68% de las observaciones caerán entre más y menos una desviación estándar de la media.\n",
        "- Aproximadamente 95% de las observaciones caerán entre más y menos dos desviaciones estándar de la media.\n",
        "- Prácticamente todas, o 99.7% de las observaciones caerán entre más y menos tres desviaciones estándar de la media.[@lind2015].\n"
      ],
      "metadata": {
        "id": "Sc7Bgpr5Ia3z"
      }
    },
    {
      "cell_type": "markdown",
      "source": [
        "# Interpretación\n",
        "\n",
        "- ¿qué significa transforamr variables aleatorias $z$ a variables $z$?\n",
        "- ¿qué caracteríticas tiene una distribución estándar $z$?\n",
        "- ¿para qué se utiliza la distribución normal estándar $z$?\n"
      ],
      "metadata": {
        "id": "EdFOczDHJuXZ"
      }
    },
    {
      "cell_type": "markdown",
      "source": [
        "# Bibliografía\n",
        "\n",
        "- Mendenhall, William, Robert J. Beaver, and Barbara M. Beaver. 2006. Introducción a La Probabilidad y Estadística. 13a Edición."
      ],
      "metadata": {
        "id": "ZdiuhhIsJqkR"
      }
    }
  ]
}