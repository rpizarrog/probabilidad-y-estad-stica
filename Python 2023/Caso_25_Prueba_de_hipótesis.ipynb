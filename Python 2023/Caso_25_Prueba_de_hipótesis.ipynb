{
  "nbformat": 4,
  "nbformat_minor": 0,
  "metadata": {
    "colab": {
      "provenance": [],
      "authorship_tag": "ABX9TyOrr04xse/5rKaFSWlSHj83",
      "include_colab_link": true
    },
    "kernelspec": {
      "name": "python3",
      "display_name": "Python 3"
    },
    "language_info": {
      "name": "python"
    }
  },
  "cells": [
    {
      "cell_type": "markdown",
      "metadata": {
        "id": "view-in-github",
        "colab_type": "text"
      },
      "source": [
        "<a href=\"https://colab.research.google.com/github/rpizarrog/probabilidad-y-estad-stica/blob/master/Python%202023/Caso_25_Prueba_de_hip%C3%B3tesis.ipynb\" target=\"_parent\"><img src=\"https://colab.research.google.com/assets/colab-badge.svg\" alt=\"Open In Colab\"/></a>"
      ]
    },
    {
      "cell_type": "code",
      "execution_count": null,
      "metadata": {
        "id": "R15Z04DUSAt0"
      },
      "outputs": [],
      "source": [
        "# Caso 25. Prueba de hipótesis\n",
        "\n",
        "# Objetivo\n",
        "\n",
        "Realizar prueba de hipótesis\n",
        "\n"
      ]
    },
    {
      "cell_type": "markdown",
      "source": [
        "# Descripcón\n",
        "\n",
        "- Cargar librerpias\n",
        "- Cargar funciones para este caso\n",
        "- Identificar datos inicales de ejercicios para prueba de hipótesis a dos colas, hipótesis nula alternativa y comprobación.\n",
        "- Identificar datos inicales de ejercicios para prueba de hipótesis cola a la izqueirda, hipótesis nula alternativa y comprobación.\n",
        "- Identificar datos inicales de ejercicios para prueba de hipótesis cola a la derecha, hipótesis nula alternativa y comprobación.\n"
      ],
      "metadata": {
        "id": "7cKFjawySTMT"
      }
    },
    {
      "cell_type": "markdown",
      "source": [
        "# Fundamento teórico"
      ],
      "metadata": {
        "id": "cnsumB-tS1Kh"
      }
    },
    {
      "cell_type": "markdown",
      "source": [
        "# Desarrollo\n",
        "\n"
      ],
      "metadata": {
        "id": "yEi9MxiBSua7"
      }
    },
    {
      "cell_type": "markdown",
      "source": [
        "## Cargar librerías"
      ],
      "metadata": {
        "id": "V1LmaJX-SwIr"
      }
    },
    {
      "cell_type": "markdown",
      "source": [
        "## Cargar funciones"
      ],
      "metadata": {
        "id": "zt_YhrkLSy-y"
      }
    },
    {
      "cell_type": "markdown",
      "source": [
        "# Interpretación del caso\n",
        "\n"
      ],
      "metadata": {
        "id": "OqIkw88tTCiL"
      }
    },
    {
      "cell_type": "markdown",
      "source": [
        "# Bibliografía\n",
        "\n",
        "- Devore, Jay L. 2016. Fundamentos de Probabilidad y Estadística. Primera Edición. CENGAGE."
      ],
      "metadata": {
        "id": "LZqgEYevTEjE"
      }
    },
    {
      "cell_type": "markdown",
      "source": [],
      "metadata": {
        "id": "Ju0cBnldSPu2"
      }
    }
  ]
}