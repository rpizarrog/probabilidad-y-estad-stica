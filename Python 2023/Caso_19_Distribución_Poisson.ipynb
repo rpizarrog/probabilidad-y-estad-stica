{
  "nbformat": 4,
  "nbformat_minor": 0,
  "metadata": {
    "colab": {
      "provenance": [],
      "authorship_tag": "ABX9TyM823Y6uELYwhS7hHSFt1Ba",
      "include_colab_link": true
    },
    "kernelspec": {
      "name": "python3",
      "display_name": "Python 3"
    },
    "language_info": {
      "name": "python"
    }
  },
  "cells": [
    {
      "cell_type": "markdown",
      "metadata": {
        "id": "view-in-github",
        "colab_type": "text"
      },
      "source": [
        "<a href=\"https://colab.research.google.com/github/rpizarrog/probabilidad-y-estad-stica/blob/master/Python%202023/Caso_19_Distribuci%C3%B3n_Poisson.ipynb\" target=\"_parent\"><img src=\"https://colab.research.google.com/assets/colab-badge.svg\" alt=\"Open In Colab\"/></a>"
      ]
    },
    {
      "cell_type": "markdown",
      "source": [
        "# Objetivo\n",
        "\n",
        "Calcular probabilidades, valor esperado y dispersión de ejercicios de distribucón *Poisson*.\n",
        "\n",
        "# Descripción\n",
        "\n",
        "- Se cargan librerías\n",
        "- Se cargan funciones precodificadoas\n",
        "- Se describen ejercicios relacionados con la distribución de probabilidad de *Poisson*\n",
        "- De cada ejercicio se determina la tabla de distribución.\n",
        "- De cada ejercicio se calculan probabilidades.\n",
        "- De cada ejercicio se calcula valor esperado, variazna y desviación estándar.\n",
        "- Se interpreta cada ejercicio\n",
        "- Al final se interpreta el caso\n",
        "\n"
      ],
      "metadata": {
        "id": "7EoFz1jHlKsQ"
      }
    },
    {
      "cell_type": "markdown",
      "source": [
        "# Fundamento teórico\n"
      ],
      "metadata": {
        "id": "Gu-iI2w4l4Je"
      }
    },
    {
      "cell_type": "markdown",
      "source": [
        "# Desarrollo\n",
        "\n"
      ],
      "metadata": {
        "id": "ViB230Fdl66B"
      }
    },
    {
      "cell_type": "markdown",
      "source": [
        "## Cargar librerías\n",
        "\n"
      ],
      "metadata": {
        "id": "IjMexvx3l8R-"
      }
    },
    {
      "cell_type": "code",
      "source": [
        "# Pendiente"
      ],
      "metadata": {
        "id": "TBIhx0hNmGHI"
      },
      "execution_count": null,
      "outputs": []
    },
    {
      "cell_type": "markdown",
      "source": [
        "## Cargar funciones"
      ],
      "metadata": {
        "id": "Ymb3Gl0Nl-qP"
      }
    },
    {
      "cell_type": "code",
      "source": [
        "# Pendiente"
      ],
      "metadata": {
        "id": "LcNQUfQKmIpW"
      },
      "execution_count": null,
      "outputs": []
    },
    {
      "cell_type": "markdown",
      "source": [
        "# Interpretación del caso\n",
        "\n"
      ],
      "metadata": {
        "id": "D19Q72f4mBA5"
      }
    },
    {
      "cell_type": "markdown",
      "source": [
        "# Bibliografía"
      ],
      "metadata": {
        "id": "S73X--d-mDE-"
      }
    }
  ]
}