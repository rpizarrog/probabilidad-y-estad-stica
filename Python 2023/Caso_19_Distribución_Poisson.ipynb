{
  "nbformat": 4,
  "nbformat_minor": 0,
  "metadata": {
    "colab": {
      "provenance": [],
      "authorship_tag": "ABX9TyPG3hjwRhyEf0l4XRHPugCT",
      "include_colab_link": true
    },
    "kernelspec": {
      "name": "python3",
      "display_name": "Python 3"
    },
    "language_info": {
      "name": "python"
    }
  },
  "cells": [
    {
      "cell_type": "markdown",
      "metadata": {
        "id": "view-in-github",
        "colab_type": "text"
      },
      "source": [
        "<a href=\"https://colab.research.google.com/github/rpizarrog/probabilidad-y-estad-stica/blob/master/Python%202023/Caso_19_Distribuci%C3%B3n_Poisson.ipynb\" target=\"_parent\"><img src=\"https://colab.research.google.com/assets/colab-badge.svg\" alt=\"Open In Colab\"/></a>"
      ]
    },
    {
      "cell_type": "markdown",
      "source": [
        "# Objetivo\n",
        "\n",
        "Calcular probabilidades, valor esperado y dispersión de ejercicios de distribucón *Poisson*.\n",
        "\n",
        "# Descripción\n",
        "\n",
        "- Se cargan librerías\n",
        "- Se cargan funciones precodificadoas\n",
        "- Se describen ejercicios relacionados con la distribución de probabilidad de *Poisson*\n",
        "- De cada ejercicio se determina la tabla de distribución.\n",
        "- De cada ejercicio se calculan probabilidades.\n",
        "- De cada ejercicio se calcula valor esperado, variazna y desviación estándar.\n",
        "- Se interpreta cada ejercicio\n",
        "- Al final se interpreta el caso\n",
        "\n"
      ],
      "metadata": {
        "id": "7EoFz1jHlKsQ"
      }
    },
    {
      "cell_type": "markdown",
      "source": [
        "# Fundamento teórico\n",
        "\n",
        "Otra variable aleatoria discreta que tiene numerosas aplicaciones prácticas es la variable aleatoria de Poisson. Su distribución de probabilidad da un buen modelo para datos que representa el número de sucesos de un evento especificado en una unidad determinada de tiempo o espacio (Mendenhall, Beaver, and Beaver 2006).\n",
        "\n",
        "Los experimentos que dan valores numéricos de una variable aleatoria X, el número de resultados que ocurren durante un intervalo dado o en una región específica, se llaman experimentos de Poisson.(Walpole, Myers, and Myers 2012)\n",
        "\n",
        "Esta distribución discreta, suele usarse para estimar el número de veces que sucede un hecho determinado (ocurrencias) en un intervalo de tiempo o de espacio. Por ejemplo,\n",
        "\n",
        "- La variable de interés va desde el número promedio de automóviles que llegan (llegadas) a un lavado de coches en una hora o\n",
        "\n",
        "- El número medio de reparaciones necesarias en $10$ kms. de una autopista o,\n",
        "\n",
        "- El número promedio de fugas de agua en tubería en un lapso $3$ meses.\n",
        "\n",
        "- El número de focos promedio que fallan en una cantidad de lote de $1000$ focos.\n",
        "\n",
        "- El número medio de fugas en $100$ kms.de tubería, entre otros (Anderson, Sweeney, and Williams 2008).\n",
        "\n",
        "## Fórmula de probabilidad\n",
        "\n",
        "$$\n",
        "f(x) = \\frac{{e^{ - \\mu }\\cdot \\mu ^x }}{{x!}}\n",
        "$$\n",
        "\n",
        "en donde:\n",
        "\n",
        "- $f(x)$ es la función de probabilidad para valores de $x=0,1,2,3..,n$\n",
        ".\n",
        "\n",
        "- $μ$ es el valor medio esperado en cierto lapso de tiempo. Algunas veces expresado como $λ$ lambda.\n",
        "\n",
        "- $x$ es la variable aleatoria. Es una variable aleatoria discreta $(x=0,1,.2,...)$\n",
        "\n",
        "- $e$ valor constante, es la base de los logaritmos naturales 2.71728\n",
        ".\n",
        "\n",
        "## Propiedades de un evento Poisson:\n",
        "\n",
        "- La probabilidad de ocurrencia es la misma para cualquiera de dos intervalos de la misma longitud.\n",
        "\n",
        "- La ocurrencia o no ocurrencia en cualquier intervalo es independiente de la ocurrencia o no ocurrencia en cualquier otro intervalo.\n",
        "\n",
        "- El factor de proporcionalidad para la probabilidad de un hecho en un intervalo infinitésimo. Se le suele designar como parámetro de intensidad y corresponde con el número medio de hechos que cabe esperar que se produzcan en un intervalo unitario (media de la distribución);\n",
        "\n",
        "- El valor de la media también coincide con la varianza de la distribución.\n",
        "\n",
        "- Se trata de un modelo discreto y que el campo de variación de la variable será el conjunto de los número naturales, incluido el cero: $x∈{0, 1, 2, 3, 4 ..., ..., n}$\n",
        "\n",
        "## Probabilidad acumulada\n",
        "$$\n",
        "F(x) =\n",
        "\\sum_{0}^{n}f.x_i\n",
        "$$\n",
        "\n",
        "La probabilidad acumulada debe ser $1$ o $100\\%$.\n"
      ],
      "metadata": {
        "id": "Gu-iI2w4l4Je"
      }
    },
    {
      "cell_type": "markdown",
      "source": [
        "## Valor medio o valor esperado $VE$\n",
        "\n",
        "$$\n",
        "E(X) =\n",
        "\\lambda\n",
        "$$\n",
        "\n",
        "## La varianza\n",
        "$$\n",
        "varianza = \\sigma^{2} =\n",
        "\\lambda\n",
        "$$\n",
        "## La desviación estándar\n",
        "\n",
        "$$\n",
        "\\sigma = \\sqrt{Var(x)} =\n",
        "\\sqrt{\\sigma^{2}}\n",
        "$$\n",
        "\n",
        "## Funciones en Python\n",
        "\n",
        "En Python se puede utilizar la biblioteca *scipy.stats* para trabajar con la distribución de *Poisson*.\n",
        "\n",
        "- Función para generar números aleatorios *poisson.rvs(mu=lambda, size= n)*\n",
        "- Función para calcular probabilidad *poisson.rvs(mu=lambda, size= ?)*\n",
        "- Función para generar números aleatorios *poisson.pmf(x, mu=lambda)*\n",
        "- Función para probabilidad acumulada * poisson.cdf(x, mu=lambda)*\n",
        "\n",
        "\n"
      ],
      "metadata": {
        "id": "afczfVLKopkQ"
      }
    },
    {
      "cell_type": "markdown",
      "source": [
        "# Desarrollo\n",
        "\n"
      ],
      "metadata": {
        "id": "ViB230Fdl66B"
      }
    },
    {
      "cell_type": "markdown",
      "source": [
        "## Cargar librerías\n",
        "\n"
      ],
      "metadata": {
        "id": "IjMexvx3l8R-"
      }
    },
    {
      "cell_type": "code",
      "source": [
        "# Se cargan librerías adecuadas\n",
        "import numpy as np\n",
        "import matplotlib.pyplot as plt\n",
        "from scipy.stats import poisson\n",
        "from scipy.special import comb # Para combinaciones\n",
        "\n",
        "import pandas as pd\n",
        "\n",
        "from IPython.display import display, HTML # Para ver HTML\n",
        "import math as mt"
      ],
      "metadata": {
        "id": "TBIhx0hNmGHI"
      },
      "execution_count": 42,
      "outputs": []
    },
    {
      "cell_type": "markdown",
      "source": [
        "## Cargar funciones"
      ],
      "metadata": {
        "id": "Ymb3Gl0Nl-qP"
      }
    },
    {
      "cell_type": "code",
      "source": [
        "def f_prob_poisson(x, media):\n",
        "  e = mt.exp(1)\n",
        "  probabilidad = (media ** x) * (e ** (-media)) / mt.factorial(x)\n",
        "  return probabilidad\n",
        "\n",
        "def f_tabla_hyper (xi, media):\n",
        "  # Calcular las probabilidades para cada valor de xi\n",
        "\n",
        "  probabilidades = [poisson.pmf(x, mu=media) for x in xi]\n",
        "  # Calcular las probabilidades acumuladas\n",
        "  probabilidades_acumuladas = [poisson.cdf(x, mu=media) for x in xi]\n",
        "\n",
        "  # Crear un DataFrame para la tabla de probabilidades\n",
        "  tabla_probabilidades = pd.DataFrame({'x': xi, 'P(X = x)': probabilidades, 'P(X <= x)': probabilidades_acumuladas})\n",
        "\n",
        "  # Mostrar la tabla de probabilidades\n",
        "  #print(tabla_probabilidades)\n",
        "  return (tabla_probabilidades)\n",
        "def f_graficos_probabilidad_discreta(tabla):\n",
        "    # Crear un DataFrame a partir de la tabla de probabilidad\n",
        "    df = pd.DataFrame(tabla)\n",
        "\n",
        "    # Gráfico de barras de probabilidad\n",
        "    plt.figure(figsize=(10, 4))\n",
        "    plt.subplot(1, 2, 1)\n",
        "    plt.bar(df.index, df['P(X = x)'], color='skyblue')\n",
        "    plt.xticks(df.index, df['x'])  # Establecer etiquetas personalizadas en el eje x\n",
        "    plt.xlabel('x')\n",
        "    plt.ylabel('Probabilidad')\n",
        "    plt.title('Gráfico de Barras de Probabilidad')\n",
        "\n",
        "    # Gráfico lineal de probabilidad acumulada\n",
        "    plt.subplot(1, 2, 2)\n",
        "    plt.plot(df.index, df['P(X <= x)'], marker='o', color='green')\n",
        "    plt.xticks(df.index, df['x'])  # Establecer etiquetas personalizadas en el eje x\n",
        "    plt.xlabel('x')\n",
        "    plt.ylabel('Probabilidad Acumulada')\n",
        "    plt.title('Gráfico Lineal de Probabilidad Acumulada')\n",
        "\n",
        "    plt.tight_layout()\n",
        "    plt.show()\n",
        "\n",
        "def f_graficos_probabilidad_discreta_VE_ds(tabla, VE, ds):\n",
        "    # Crear un DataFrame a partir de la tabla de probabilidad\n",
        "    df = pd.DataFrame(tabla)\n",
        "\n",
        "    # Gráfico de barras de probabilidad\n",
        "    plt.figure(figsize=(10, 4))\n",
        "    plt.subplot(1, 2, 1)\n",
        "    plt.bar(df.index, df['P(X = x)'], color='skyblue')\n",
        "\n",
        "    # El Valor esperado y desviación izq y der\n",
        "    # Agregar una línea punteada\n",
        "    plt.axvline(x=VE, color='red', linestyle='--', label='VE='+str(np.round(VE, 2)))\n",
        "    plt.axvline(x=VE - ds, color='blue', linestyle='--', label='Desv. Std='+str(np.round(ds, 2)))\n",
        "    plt.axvline(x=VE + ds, color='blue', linestyle='--')\n",
        "\n",
        "    plt.xticks(df.index, df['x'])  # Establecer etiquetas personalizadas en el eje x\n",
        "    plt.xlabel('x')\n",
        "    plt.ylabel('Probabilidad')\n",
        "    plt.title('Gráfico de Barras de Probabilidad con VE y Desv Std.')\n",
        "\n",
        "    plt.tight_layout()\n",
        "    plt.legend()\n",
        "    plt.show()"
      ],
      "metadata": {
        "id": "LcNQUfQKmIpW"
      },
      "execution_count": 43,
      "outputs": []
    },
    {
      "cell_type": "markdown",
      "source": [
        "## Ejercicio de llegadas de autos a un estacionamiento de un Banco\n",
        "\n",
        "Se desea saber el número de llegadas, en un lapso de $15$ minutos, a la rampa del cajero automático de un banco (Anderson, Sweeney, and Williams 2008).\n",
        "\n",
        "Si se puede suponer que la probabilidad de llegada de los automóviles es la misma en cualesquiera de dos lapsos de la misma duración y si la llegada o no llegada de un automóvil en cualquier lapso es independiente de la llegada o no llegada de un automóvil en cualquier otro lapso, se puede aplicar la función de probabilidad de Poisson.\n",
        "\n",
        "Dichas condiciones se satisfacen y en un análisis de datos pasados encuentra que el número promedio de automóviles que llegan en un lapso de 15 minutos es igual a $media = \\lambda = 10$;\n",
        "\n",
        "La variable aleatoria es $x$ número de automóviles que llegan en un lapso de 15 minutos.\n",
        "\n",
        "¿Cuál es la probabilidad de que lleguen exactamente 5, $f(x=5)$ automóviles en 15 minutos."
      ],
      "metadata": {
        "id": "rZaxx3HXrtkP"
      }
    },
    {
      "cell_type": "markdown",
      "source": [
        "### Inicializando variables"
      ],
      "metadata": {
        "id": "VxH9yZWrsK2C"
      }
    },
    {
      "cell_type": "code",
      "source": [
        "xi = [0, 1, 2, 3, 4, 5, 6, 7, 8, 9, 10] # Puede variar\n",
        "media = 10\n"
      ],
      "metadata": {
        "id": "ndzqkYDosNqc"
      },
      "execution_count": 44,
      "outputs": []
    },
    {
      "cell_type": "markdown",
      "source": [
        "### Probabilidad de que $f(x=5)$\n",
        "\n",
        "Se ejecuta la función *f_prob_poisson()* previamente preparada para calcular una probabilidad especifica de acuerdo con la fórmula de probabilidad de *Poisson*."
      ],
      "metadata": {
        "id": "cJ6bvUGHsdsv"
      }
    },
    {
      "cell_type": "code",
      "source": [
        "x = 5\n",
        "probabilidad = f_prob_poisson(x=x, media = media)\n",
        "print (\"La probabilidad de que llegan 5 autmóviles en un lapso de 15 minutos es de: \", np.round(probabilidad * 100, 2), \"%\")\n"
      ],
      "metadata": {
        "colab": {
          "base_uri": "https://localhost:8080/"
        },
        "id": "4Gm9jg9CshVY",
        "outputId": "c059dad5-b8c1-4400-c1e9-b05ab9adb70d"
      },
      "execution_count": 45,
      "outputs": [
        {
          "output_type": "stream",
          "name": "stdout",
          "text": [
            "La probabilidad de que llegan 5 autmóviles en un lapso de 15 minutos es de:  3.78 %\n"
          ]
        }
      ]
    },
    {
      "cell_type": "markdown",
      "source": [
        "### Tabla de probabilidad\n",
        "\n",
        "Se estima una llegada desde 0 a 10 autos $n=10$, ¿cuáles son las probabildia de 0 a 10?\n",
        "\n",
        "\n"
      ],
      "metadata": {
        "id": "4MSRl7EItC_L"
      }
    },
    {
      "cell_type": "code",
      "source": [
        "n = media * 2\n",
        "xi = [i for i in range(n+1)]\n",
        "print(xi)"
      ],
      "metadata": {
        "colab": {
          "base_uri": "https://localhost:8080/"
        },
        "id": "3LL4DppAtMNW",
        "outputId": "b7ff461c-0e69-4c09-bd4c-46379bc7531c"
      },
      "execution_count": 46,
      "outputs": [
        {
          "output_type": "stream",
          "name": "stdout",
          "text": [
            "[0, 1, 2, 3, 4, 5, 6, 7, 8, 9, 10, 11, 12, 13, 14, 15, 16, 17, 18, 19, 20]\n"
          ]
        }
      ]
    },
    {
      "cell_type": "markdown",
      "source": [
        "### Construir tabla de probabilidad\n",
        "\n",
        "Se manda llamar la función previamente codificada para construir la tabla de la distribución de *Poisson*.\n"
      ],
      "metadata": {
        "id": "EYpUWg0FuEtf"
      }
    },
    {
      "cell_type": "code",
      "source": [
        "tabla = f_tabla_hyper(xi, media)\n",
        "# print(tabla)\n",
        "tabla_html = tabla.to_html(index=False, classes='table table-bordered table-striped')\n",
        "\n",
        "# Imprimir la tabla HTML\n",
        "# Mostrar la tabla directamente\n",
        "display(HTML(tabla_html))"
      ],
      "metadata": {
        "colab": {
          "base_uri": "https://localhost:8080/",
          "height": 708
        },
        "id": "7hs4wis7uGra",
        "outputId": "7182cb4e-5a1e-40f9-e703-a66390430b2c"
      },
      "execution_count": 47,
      "outputs": [
        {
          "output_type": "display_data",
          "data": {
            "text/plain": [
              "<IPython.core.display.HTML object>"
            ],
            "text/html": [
              "<table border=\"1\" class=\"dataframe table table-bordered table-striped\">\n",
              "  <thead>\n",
              "    <tr style=\"text-align: right;\">\n",
              "      <th>x</th>\n",
              "      <th>P(X = x)</th>\n",
              "      <th>P(X &lt;= x)</th>\n",
              "    </tr>\n",
              "  </thead>\n",
              "  <tbody>\n",
              "    <tr>\n",
              "      <td>0</td>\n",
              "      <td>0.000045</td>\n",
              "      <td>0.000045</td>\n",
              "    </tr>\n",
              "    <tr>\n",
              "      <td>1</td>\n",
              "      <td>0.000454</td>\n",
              "      <td>0.000499</td>\n",
              "    </tr>\n",
              "    <tr>\n",
              "      <td>2</td>\n",
              "      <td>0.002270</td>\n",
              "      <td>0.002769</td>\n",
              "    </tr>\n",
              "    <tr>\n",
              "      <td>3</td>\n",
              "      <td>0.007567</td>\n",
              "      <td>0.010336</td>\n",
              "    </tr>\n",
              "    <tr>\n",
              "      <td>4</td>\n",
              "      <td>0.018917</td>\n",
              "      <td>0.029253</td>\n",
              "    </tr>\n",
              "    <tr>\n",
              "      <td>5</td>\n",
              "      <td>0.037833</td>\n",
              "      <td>0.067086</td>\n",
              "    </tr>\n",
              "    <tr>\n",
              "      <td>6</td>\n",
              "      <td>0.063055</td>\n",
              "      <td>0.130141</td>\n",
              "    </tr>\n",
              "    <tr>\n",
              "      <td>7</td>\n",
              "      <td>0.090079</td>\n",
              "      <td>0.220221</td>\n",
              "    </tr>\n",
              "    <tr>\n",
              "      <td>8</td>\n",
              "      <td>0.112599</td>\n",
              "      <td>0.332820</td>\n",
              "    </tr>\n",
              "    <tr>\n",
              "      <td>9</td>\n",
              "      <td>0.125110</td>\n",
              "      <td>0.457930</td>\n",
              "    </tr>\n",
              "    <tr>\n",
              "      <td>10</td>\n",
              "      <td>0.125110</td>\n",
              "      <td>0.583040</td>\n",
              "    </tr>\n",
              "    <tr>\n",
              "      <td>11</td>\n",
              "      <td>0.113736</td>\n",
              "      <td>0.696776</td>\n",
              "    </tr>\n",
              "    <tr>\n",
              "      <td>12</td>\n",
              "      <td>0.094780</td>\n",
              "      <td>0.791556</td>\n",
              "    </tr>\n",
              "    <tr>\n",
              "      <td>13</td>\n",
              "      <td>0.072908</td>\n",
              "      <td>0.864464</td>\n",
              "    </tr>\n",
              "    <tr>\n",
              "      <td>14</td>\n",
              "      <td>0.052077</td>\n",
              "      <td>0.916542</td>\n",
              "    </tr>\n",
              "    <tr>\n",
              "      <td>15</td>\n",
              "      <td>0.034718</td>\n",
              "      <td>0.951260</td>\n",
              "    </tr>\n",
              "    <tr>\n",
              "      <td>16</td>\n",
              "      <td>0.021699</td>\n",
              "      <td>0.972958</td>\n",
              "    </tr>\n",
              "    <tr>\n",
              "      <td>17</td>\n",
              "      <td>0.012764</td>\n",
              "      <td>0.985722</td>\n",
              "    </tr>\n",
              "    <tr>\n",
              "      <td>18</td>\n",
              "      <td>0.007091</td>\n",
              "      <td>0.992813</td>\n",
              "    </tr>\n",
              "    <tr>\n",
              "      <td>19</td>\n",
              "      <td>0.003732</td>\n",
              "      <td>0.996546</td>\n",
              "    </tr>\n",
              "    <tr>\n",
              "      <td>20</td>\n",
              "      <td>0.001866</td>\n",
              "      <td>0.998412</td>\n",
              "    </tr>\n",
              "  </tbody>\n",
              "</table>"
            ]
          },
          "metadata": {}
        }
      ]
    },
    {
      "cell_type": "markdown",
      "source": [
        "### Visualizar probabilidad\n",
        "\n",
        "Se manda llamar *f_graficos_probabilidad_discreta()*"
      ],
      "metadata": {
        "id": "stPDZKHzuuQj"
      }
    },
    {
      "cell_type": "code",
      "source": [
        "f_graficos_probabilidad_discreta(tabla)"
      ],
      "metadata": {
        "colab": {
          "base_uri": "https://localhost:8080/",
          "height": 407
        },
        "id": "W8t7k8UzuwsS",
        "outputId": "fc3ac86f-c317-485f-ebc6-20479fd2d973"
      },
      "execution_count": 48,
      "outputs": [
        {
          "output_type": "display_data",
          "data": {
            "text/plain": [
              "<Figure size 1000x400 with 2 Axes>"
            ],
            "image/png": "[encoded data removed]"
          },
          "metadata": {}
        }
      ]
    },
    {
      "cell_type": "markdown",
      "source": [
        "### Valor esperado\n",
        "\n",
        "Conforme a la fórmula:"
      ],
      "metadata": {
        "id": "4dR9ui2ovXr4"
      }
    },
    {
      "cell_type": "code",
      "source": [
        "VE = media\n",
        "print (\"El valor esperado VE es: \", np.round(VE, 4))"
      ],
      "metadata": {
        "colab": {
          "base_uri": "https://localhost:8080/"
        },
        "id": "nmF7oTrdqjNR",
        "outputId": "86c2b32a-d0a1-43d1-f982-e149de31191f"
      },
      "execution_count": 49,
      "outputs": [
        {
          "output_type": "stream",
          "name": "stdout",
          "text": [
            "El valor esperado VE es:  10\n"
          ]
        }
      ]
    },
    {
      "cell_type": "markdown",
      "source": [
        "### Varianza\n",
        "\n",
        "Conforme a la fórmula"
      ],
      "metadata": {
        "id": "SId6hH-Lvyl6"
      }
    },
    {
      "cell_type": "code",
      "source": [
        "varianza = VE\n",
        "print (\"La varianza es: \", np.round(varianza, 4))"
      ],
      "metadata": {
        "colab": {
          "base_uri": "https://localhost:8080/"
        },
        "id": "ZLZH8yvav3Tq",
        "outputId": "6c24126f-7720-4f36-f632-435cc7ffd044"
      },
      "execution_count": 50,
      "outputs": [
        {
          "output_type": "stream",
          "name": "stdout",
          "text": [
            "La varianza es:  10\n"
          ]
        }
      ]
    },
    {
      "cell_type": "markdown",
      "source": [
        "### Desviación estándar\n",
        "\n",
        "La raiz cuadrada de la varianza"
      ],
      "metadata": {
        "id": "Q-942cHvv0FK"
      }
    },
    {
      "cell_type": "code",
      "source": [
        "desv_std = np.sqrt(varianza)\n",
        "print (\"La desviación estándar es: \", np.round(desv_std, 4))"
      ],
      "metadata": {
        "colab": {
          "base_uri": "https://localhost:8080/"
        },
        "id": "hjEib_i6v2Zr",
        "outputId": "eac07c35-3b16-41af-8046-1b1be2e35e7d"
      },
      "execution_count": 51,
      "outputs": [
        {
          "output_type": "stream",
          "name": "stdout",
          "text": [
            "La desviación estándar es:  3.1623\n"
          ]
        }
      ]
    },
    {
      "cell_type": "markdown",
      "source": [
        "### Visualizar probabilidad con VE y desviación estándar\n",
        "\n"
      ],
      "metadata": {
        "id": "_ID-LtfSwY9z"
      }
    },
    {
      "cell_type": "code",
      "source": [
        "f_graficos_probabilidad_discreta_VE_ds(tabla, VE, desv_std)\n",
        "\n"
      ],
      "metadata": {
        "colab": {
          "base_uri": "https://localhost:8080/",
          "height": 407
        },
        "id": "sbsvQpHcwgby",
        "outputId": "33e9ad2e-aa0a-465c-fc49-81528a05d832"
      },
      "execution_count": 52,
      "outputs": [
        {
          "output_type": "display_data",
          "data": {
            "text/plain": [
              "<Figure size 1000x400 with 1 Axes>"
            ],
            "image/png": "[encoded data removed]"
          },
          "metadata": {}
        }
      ]
    },
    {
      "cell_type": "markdown",
      "source": [
        "# Interpretación del caso\n",
        "\n",
        "- Del ejercicio de llegadas de autos a un banco en 15 minutos\n",
        "  - ¿cuál es la probabilidad de que lleguen 5 autos, $f(x=5)$?\n",
        "  - Cúal es la probabilidad de que lleguen 15 autos, $f(x=15)$?\n",
        "  - Cúal es la probabilidad de que lleguen de entre 8 y 12 automóviles, $f(8 \\le x \\le 12)$?\n",
        "  - ¿Cuál es la probabildia de que lleguen mas de 15 carros?, $F(x>15)$.\n",
        "  \n",
        "\n"
      ],
      "metadata": {
        "id": "D19Q72f4mBA5"
      }
    },
    {
      "cell_type": "markdown",
      "source": [
        "# Bibliografía\n",
        "\n",
        "- Anderson, David R., Dennis J. Sweeney, and Thomas A. Williams. 2008. Estadística Para Administración y Economía. 10th ed. Australia • Brasil • Corea • España • Estados Unidos • Japón • México • Reino Unido • Singapur: Cengage Learning,.\n",
        "\n",
        "- Mendenhall, William, Robert J. Beaver, and Barbara M. Beaver. 2006. Introducción a La Probabilidad y Estadística. 13a Edición.\n",
        "\n",
        "- Walpole, Ronald E., Raymond H. Myers, and Sharon L. Myers. 2012. Probabilidad y Estadística Para Ingeniería y Ciencias. Novena Edición. México: Pearson."
      ],
      "metadata": {
        "id": "S73X--d-mDE-"
      }
    }
  ]
}