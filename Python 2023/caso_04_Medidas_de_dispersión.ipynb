{
  "nbformat": 4,
  "nbformat_minor": 0,
  "metadata": {
    "colab": {
      "provenance": [],
      "authorship_tag": "ABX9TyMpFfLmsaqZFJW+pdyCrlh6",
      "include_colab_link": true
    },
    "kernelspec": {
      "name": "python3",
      "display_name": "Python 3"
    },
    "language_info": {
      "name": "python"
    }
  },
  "cells": [
    {
      "cell_type": "markdown",
      "metadata": {
        "id": "view-in-github",
        "colab_type": "text"
      },
      "source": [
        "<a href=\"https://colab.research.google.com/github/rpizarrog/probabilidad-y-estad-stica/blob/master/Python%202023/caso_04_Medidas_de_dispersi%C3%B3n.ipynb\" target=\"_parent\"><img src=\"https://colab.research.google.com/assets/colab-badge.svg\" alt=\"Open In Colab\"/></a>"
      ]
    },
    {
      "cell_type": "code",
      "execution_count": 68,
      "metadata": {
        "id": "N1FMpECsV3AO"
      },
      "outputs": [],
      "source": []
    },
    {
      "cell_type": "markdown",
      "source": [
        "# Objetivo\n",
        "\n",
        "Determinar medidas de dispersión de edades de presonas\n"
      ],
      "metadata": {
        "id": "A1gEK0szV3m6"
      }
    },
    {
      "cell_type": "markdown",
      "source": [
        "# Desarrollo\n",
        "\n"
      ],
      "metadata": {
        "id": "SYgQWYXvWF3Q"
      }
    },
    {
      "cell_type": "markdown",
      "source": [
        "## Cargar librerías\n"
      ],
      "metadata": {
        "id": "FM7EZz46WH74"
      }
    },
    {
      "cell_type": "code",
      "source": [
        "import numpy as np\n",
        "import pandas as pd\n",
        "import matplotlib.pyplot as plt\n"
      ],
      "metadata": {
        "id": "d1zvbfctWJqZ"
      },
      "execution_count": 69,
      "outputs": []
    },
    {
      "cell_type": "markdown",
      "source": [
        "## Crear los datos\n"
      ],
      "metadata": {
        "id": "5rFJyazuWWNx"
      }
    },
    {
      "cell_type": "code",
      "source": [
        "edades = [18, 19, 20, 19, 20, 19, 18, 19, 22, 24, 25, 26, 23,\n",
        "          28, 27, 24, 23, 24, 25, 26, 27, 28, 24, 25, 24, 23] # lista de edades\n",
        "print(edades)\n",
        "\n",
        "n = len(edades)\n",
        "print(\"Número de observaciones o edades: \", n)"
      ],
      "metadata": {
        "colab": {
          "base_uri": "https://localhost:8080/"
        },
        "id": "WPnSX8S7WYIp",
        "outputId": "33e2794c-a7cb-464e-e779-6c34d702f930"
      },
      "execution_count": 70,
      "outputs": [
        {
          "output_type": "stream",
          "name": "stdout",
          "text": [
            "[18, 19, 20, 19, 20, 19, 18, 19, 22, 24, 25, 26, 23, 28, 27, 24, 23, 24, 25, 26, 27, 28, 24, 25, 24, 23]\n",
            "Número de observaciones o edades:  26\n"
          ]
        }
      ]
    },
    {
      "cell_type": "markdown",
      "source": [
        "## Estadísticos decsriptivos\n",
        "\n",
        "Se determina la media, mediana, máximo, mínimo y desviación estándar de las edades\n",
        "\n"
      ],
      "metadata": {
        "id": "iJh_LFvqWmVZ"
      }
    },
    {
      "cell_type": "code",
      "source": [
        "# Crear un DataFrame de pandas\n",
        "datos = pd.DataFrame({'Edades': edades})\n",
        "\n",
        "print(\"El conjunto de datos\")\n",
        "print(datos)\n",
        "# Calcular la media\n",
        "media = np.mean(edades)\n",
        "\n",
        "# Calcular la mediana\n",
        "mediana = np.median(edades)\n",
        "\n",
        "# Calcular la desviación estándar\n",
        "desviacion_estandar = np.std(edades)\n",
        "\n",
        "# Calcular el mínimo y el máximo\n",
        "minimo = np.min(edades)\n",
        "maximo = np.max(edades)\n",
        "\n",
        "# Imprimir los resultados\n",
        "print(\"Media:\", media)\n",
        "print(\"Mediana:\", mediana)\n",
        "print(\"Desviación Estándar:\", desviacion_estandar)\n",
        "print(\"Mínimo:\", minimo)\n",
        "print(\"Máximo:\", maximo)\n",
        "\n",
        "print(\"Con función describe. Deben ser los mismos ... estadísticos\")\n",
        "datos.describe()\n"
      ],
      "metadata": {
        "colab": {
          "base_uri": "https://localhost:8080/",
          "height": 977
        },
        "id": "xcSFLaobWyLu",
        "outputId": "ed964157-eeff-4ab7-bb95-5501345e3b73"
      },
      "execution_count": 71,
      "outputs": [
        {
          "output_type": "stream",
          "name": "stdout",
          "text": [
            "El conjunto de datos\n",
            "    Edades\n",
            "0       18\n",
            "1       19\n",
            "2       20\n",
            "3       19\n",
            "4       20\n",
            "5       19\n",
            "6       18\n",
            "7       19\n",
            "8       22\n",
            "9       24\n",
            "10      25\n",
            "11      26\n",
            "12      23\n",
            "13      28\n",
            "14      27\n",
            "15      24\n",
            "16      23\n",
            "17      24\n",
            "18      25\n",
            "19      26\n",
            "20      27\n",
            "21      28\n",
            "22      24\n",
            "23      25\n",
            "24      24\n",
            "25      23\n",
            "Media: 23.076923076923077\n",
            "Mediana: 24.0\n",
            "Desviación Estándar: 3.099914104555367\n",
            "Mínimo: 18\n",
            "Máximo: 28\n",
            "Con función describe. Deben ser los mismos ... estadísticos\n"
          ]
        },
        {
          "output_type": "stream",
          "name": "stderr",
          "text": [
            "/usr/local/lib/python3.10/dist-packages/IPython/core/formatters.py:345: FutureWarning: In future versions `DataFrame.to_latex` is expected to utilise the base implementation of `Styler.to_latex` for formatting and rendering. The arguments signature may therefore change. It is recommended instead to use `DataFrame.style.to_latex` which also contains additional functionality.\n",
            "  return method()\n"
          ]
        },
        {
          "output_type": "execute_result",
          "data": {
            "text/plain": [
              "          Edades\n",
              "count  26.000000\n",
              "mean   23.076923\n",
              "std     3.161305\n",
              "min    18.000000\n",
              "25%    20.000000\n",
              "50%    24.000000\n",
              "75%    25.000000\n",
              "max    28.000000"
            ],
            "text/html": [
              "\n",
              "  <div id=\"df-12bf0b60-5385-42a9-8914-56485e63a30a\" class=\"colab-df-container\">\n",
              "    <div>\n",
              "<style scoped>\n",
              "    .dataframe tbody tr th:only-of-type {\n",
              "        vertical-align: middle;\n",
              "    }\n",
              "\n",
              "    .dataframe tbody tr th {\n",
              "        vertical-align: top;\n",
              "    }\n",
              "\n",
              "    .dataframe thead th {\n",
              "        text-align: right;\n",
              "    }\n",
              "</style>\n",
              "<table border=\"1\" class=\"dataframe\">\n",
              "  <thead>\n",
              "    <tr style=\"text-align: right;\">\n",
              "      <th></th>\n",
              "      <th>Edades</th>\n",
              "    </tr>\n",
              "  </thead>\n",
              "  <tbody>\n",
              "    <tr>\n",
              "      <th>count</th>\n",
              "      <td>26.000000</td>\n",
              "    </tr>\n",
              "    <tr>\n",
              "      <th>mean</th>\n",
              "      <td>23.076923</td>\n",
              "    </tr>\n",
              "    <tr>\n",
              "      <th>std</th>\n",
              "      <td>3.161305</td>\n",
              "    </tr>\n",
              "    <tr>\n",
              "      <th>min</th>\n",
              "      <td>18.000000</td>\n",
              "    </tr>\n",
              "    <tr>\n",
              "      <th>25%</th>\n",
              "      <td>20.000000</td>\n",
              "    </tr>\n",
              "    <tr>\n",
              "      <th>50%</th>\n",
              "      <td>24.000000</td>\n",
              "    </tr>\n",
              "    <tr>\n",
              "      <th>75%</th>\n",
              "      <td>25.000000</td>\n",
              "    </tr>\n",
              "    <tr>\n",
              "      <th>max</th>\n",
              "      <td>28.000000</td>\n",
              "    </tr>\n",
              "  </tbody>\n",
              "</table>\n",
              "</div>\n",
              "    <div class=\"colab-df-buttons\">\n",
              "\n",
              "  <div class=\"colab-df-container\">\n",
              "    <button class=\"colab-df-convert\" onclick=\"convertToInteractive('df-12bf0b60-5385-42a9-8914-56485e63a30a')\"\n",
              "            title=\"Convert this dataframe to an interactive table.\"\n",
              "            style=\"display:none;\">\n",
              "\n",
              "  <svg xmlns=\"http://www.w3.org/2000/svg\" height=\"24px\" viewBox=\"0 -960 960 960\">\n",
              "    <path d=\"M120-120v-720h720v720H120Zm60-500h600v-160H180v160Zm220 220h160v-160H400v160Zm0 220h160v-160H400v160ZM180-400h160v-160H180v160Zm440 0h160v-160H620v160ZM180-180h160v-160H180v160Zm440 0h160v-160H620v160Z\"/>\n",
              "  </svg>\n",
              "    </button>\n",
              "\n",
              "  <style>\n",
              "    .colab-df-container {\n",
              "      display:flex;\n",
              "      gap: 12px;\n",
              "    }\n",
              "\n",
              "    .colab-df-convert {\n",
              "      background-color: #E8F0FE;\n",
              "      border: none;\n",
              "      border-radius: 50%;\n",
              "      cursor: pointer;\n",
              "      display: none;\n",
              "      fill: #1967D2;\n",
              "      height: 32px;\n",
              "      padding: 0 0 0 0;\n",
              "      width: 32px;\n",
              "    }\n",
              "\n",
              "    .colab-df-convert:hover {\n",
              "      background-color: #E2EBFA;\n",
              "      box-shadow: 0px 1px 2px rgba(60, 64, 67, 0.3), 0px 1px 3px 1px rgba(60, 64, 67, 0.15);\n",
              "      fill: #174EA6;\n",
              "    }\n",
              "\n",
              "    .colab-df-buttons div {\n",
              "      margin-bottom: 4px;\n",
              "    }\n",
              "\n",
              "    [theme=dark] .colab-df-convert {\n",
              "      background-color: #3B4455;\n",
              "      fill: #D2E3FC;\n",
              "    }\n",
              "\n",
              "    [theme=dark] .colab-df-convert:hover {\n",
              "      background-color: #434B5C;\n",
              "      box-shadow: 0px 1px 3px 1px rgba(0, 0, 0, 0.15);\n",
              "      filter: drop-shadow(0px 1px 2px rgba(0, 0, 0, 0.3));\n",
              "      fill: #FFFFFF;\n",
              "    }\n",
              "  </style>\n",
              "\n",
              "    <script>\n",
              "      const buttonEl =\n",
              "        document.querySelector('#df-12bf0b60-5385-42a9-8914-56485e63a30a button.colab-df-convert');\n",
              "      buttonEl.style.display =\n",
              "        google.colab.kernel.accessAllowed ? 'block' : 'none';\n",
              "\n",
              "      async function convertToInteractive(key) {\n",
              "        const element = document.querySelector('#df-12bf0b60-5385-42a9-8914-56485e63a30a');\n",
              "        const dataTable =\n",
              "          await google.colab.kernel.invokeFunction('convertToInteractive',\n",
              "                                                    [key], {});\n",
              "        if (!dataTable) return;\n",
              "\n",
              "        const docLinkHtml = 'Like what you see? Visit the ' +\n",
              "          '<a target=\"_blank\" href=https://colab.research.google.com/notebooks/data_table.ipynb>data table notebook</a>'\n",
              "          + ' to learn more about interactive tables.';\n",
              "        element.innerHTML = '';\n",
              "        dataTable['output_type'] = 'display_data';\n",
              "        await google.colab.output.renderOutput(dataTable, element);\n",
              "        const docLink = document.createElement('div');\n",
              "        docLink.innerHTML = docLinkHtml;\n",
              "        element.appendChild(docLink);\n",
              "      }\n",
              "    </script>\n",
              "  </div>\n",
              "\n",
              "\n",
              "<div id=\"df-5f1ab9ec-4a59-48f9-92cf-b3d78dbee4ea\">\n",
              "  <button class=\"colab-df-quickchart\" onclick=\"quickchart('df-5f1ab9ec-4a59-48f9-92cf-b3d78dbee4ea')\"\n",
              "            title=\"Suggest charts.\"\n",
              "            style=\"display:none;\">\n",
              "\n",
              "<svg xmlns=\"http://www.w3.org/2000/svg\" height=\"24px\"viewBox=\"0 0 24 24\"\n",
              "     width=\"24px\">\n",
              "    <g>\n",
              "        <path d=\"M19 3H5c-1.1 0-2 .9-2 2v14c0 1.1.9 2 2 2h14c1.1 0 2-.9 2-2V5c0-1.1-.9-2-2-2zM9 17H7v-7h2v7zm4 0h-2V7h2v10zm4 0h-2v-4h2v4z\"/>\n",
              "    </g>\n",
              "</svg>\n",
              "  </button>\n",
              "\n",
              "<style>\n",
              "  .colab-df-quickchart {\n",
              "      --bg-color: #E8F0FE;\n",
              "      --fill-color: #1967D2;\n",
              "      --hover-bg-color: #E2EBFA;\n",
              "      --hover-fill-color: #174EA6;\n",
              "      --disabled-fill-color: #AAA;\n",
              "      --disabled-bg-color: #DDD;\n",
              "  }\n",
              "\n",
              "  [theme=dark] .colab-df-quickchart {\n",
              "      --bg-color: #3B4455;\n",
              "      --fill-color: #D2E3FC;\n",
              "      --hover-bg-color: #434B5C;\n",
              "      --hover-fill-color: #FFFFFF;\n",
              "      --disabled-bg-color: #3B4455;\n",
              "      --disabled-fill-color: #666;\n",
              "  }\n",
              "\n",
              "  .colab-df-quickchart {\n",
              "    background-color: var(--bg-color);\n",
              "    border: none;\n",
              "    border-radius: 50%;\n",
              "    cursor: pointer;\n",
              "    display: none;\n",
              "    fill: var(--fill-color);\n",
              "    height: 32px;\n",
              "    padding: 0;\n",
              "    width: 32px;\n",
              "  }\n",
              "\n",
              "  .colab-df-quickchart:hover {\n",
              "    background-color: var(--hover-bg-color);\n",
              "    box-shadow: 0 1px 2px rgba(60, 64, 67, 0.3), 0 1px 3px 1px rgba(60, 64, 67, 0.15);\n",
              "    fill: var(--button-hover-fill-color);\n",
              "  }\n",
              "\n",
              "  .colab-df-quickchart-complete:disabled,\n",
              "  .colab-df-quickchart-complete:disabled:hover {\n",
              "    background-color: var(--disabled-bg-color);\n",
              "    fill: var(--disabled-fill-color);\n",
              "    box-shadow: none;\n",
              "  }\n",
              "\n",
              "  .colab-df-spinner {\n",
              "    border: 2px solid var(--fill-color);\n",
              "    border-color: transparent;\n",
              "    border-bottom-color: var(--fill-color);\n",
              "    animation:\n",
              "      spin 1s steps(1) infinite;\n",
              "  }\n",
              "\n",
              "  @keyframes spin {\n",
              "    0% {\n",
              "      border-color: transparent;\n",
              "      border-bottom-color: var(--fill-color);\n",
              "      border-left-color: var(--fill-color);\n",
              "    }\n",
              "    20% {\n",
              "      border-color: transparent;\n",
              "      border-left-color: var(--fill-color);\n",
              "      border-top-color: var(--fill-color);\n",
              "    }\n",
              "    30% {\n",
              "      border-color: transparent;\n",
              "      border-left-color: var(--fill-color);\n",
              "      border-top-color: var(--fill-color);\n",
              "      border-right-color: var(--fill-color);\n",
              "    }\n",
              "    40% {\n",
              "      border-color: transparent;\n",
              "      border-right-color: var(--fill-color);\n",
              "      border-top-color: var(--fill-color);\n",
              "    }\n",
              "    60% {\n",
              "      border-color: transparent;\n",
              "      border-right-color: var(--fill-color);\n",
              "    }\n",
              "    80% {\n",
              "      border-color: transparent;\n",
              "      border-right-color: var(--fill-color);\n",
              "      border-bottom-color: var(--fill-color);\n",
              "    }\n",
              "    90% {\n",
              "      border-color: transparent;\n",
              "      border-bottom-color: var(--fill-color);\n",
              "    }\n",
              "  }\n",
              "</style>\n",
              "\n",
              "  <script>\n",
              "    async function quickchart(key) {\n",
              "      const quickchartButtonEl =\n",
              "        document.querySelector('#' + key + ' button');\n",
              "      quickchartButtonEl.disabled = true;  // To prevent multiple clicks.\n",
              "      quickchartButtonEl.classList.add('colab-df-spinner');\n",
              "      try {\n",
              "        const charts = await google.colab.kernel.invokeFunction(\n",
              "            'suggestCharts', [key], {});\n",
              "      } catch (error) {\n",
              "        console.error('Error during call to suggestCharts:', error);\n",
              "      }\n",
              "      quickchartButtonEl.classList.remove('colab-df-spinner');\n",
              "      quickchartButtonEl.classList.add('colab-df-quickchart-complete');\n",
              "    }\n",
              "    (() => {\n",
              "      let quickchartButtonEl =\n",
              "        document.querySelector('#df-5f1ab9ec-4a59-48f9-92cf-b3d78dbee4ea button');\n",
              "      quickchartButtonEl.style.display =\n",
              "        google.colab.kernel.accessAllowed ? 'block' : 'none';\n",
              "    })();\n",
              "  </script>\n",
              "</div>\n",
              "    </div>\n",
              "  </div>\n"
            ],
            "text/latex": "\\begin{tabular}{lr}\n\\toprule\n{} &     Edades \\\\\n\\midrule\ncount &  26.000000 \\\\\nmean  &  23.076923 \\\\\nstd   &   3.161305 \\\\\nmin   &  18.000000 \\\\\n25\\%   &  20.000000 \\\\\n50\\%   &  24.000000 \\\\\n75\\%   &  25.000000 \\\\\nmax   &  28.000000 \\\\\n\\bottomrule\n\\end{tabular}\n"
          },
          "metadata": {},
          "execution_count": 71
        }
      ]
    },
    {
      "cell_type": "markdown",
      "source": [],
      "metadata": {
        "id": "Fh1aWQLEW52X"
      }
    },
    {
      "cell_type": "markdown",
      "source": [
        "## Visualizar los estadísticos\n",
        "\n",
        "Se visualiza el histograma de los datos numéricos con una línea de la media y relación con la desviación estándar."
      ],
      "metadata": {
        "id": "4VU4QLR-W53i"
      }
    },
    {
      "cell_type": "code",
      "source": [
        "# Crear un histograma\n",
        "# Crear un histograma\n",
        "plt.hist(edades, bins=8, edgecolor='k', alpha=0.7)\n",
        "plt.axvline(media, color='red', linestyle='dashed', linewidth=2, label=f'Media = {media:.2f}')\n",
        "plt.axvline(media - desviacion_estandar, color='orange', linestyle='dashed', linewidth=2, label=f'Desv. Estándar = {desviacion_estandar:.2f}')\n",
        "plt.axvline(media + desviacion_estandar, color='orange', linestyle='dashed', linewidth=2)\n",
        "plt.title('Histograma de Edades con Media y Desviación Estándar')\n",
        "plt.xlabel('Edades')\n",
        "plt.ylabel('Frecuencia')\n",
        "plt.legend()\n",
        "plt.show()\n"
      ],
      "metadata": {
        "colab": {
          "base_uri": "https://localhost:8080/",
          "height": 472
        },
        "id": "fPQXTT-9W8WZ",
        "outputId": "0b169802-a6bb-48c1-eea0-6160c5fdece1"
      },
      "execution_count": 75,
      "outputs": [
        {
          "output_type": "display_data",
          "data": {
            "text/plain": [
              "<Figure size 640x480 with 1 Axes>"
            ],
            "image/png": "[encoded data removed]"
          },
          "metadata": {}
        }
      ]
    },
    {
      "cell_type": "markdown",
      "source": [],
      "metadata": {
        "id": "IxGXOJWtZEux"
      }
    },
    {
      "cell_type": "markdown",
      "source": [
        "La media de los datos 23.08 en la línea de color rojo representa el promedio de las edades (la media aritmética) y la línea en color amarillo representa la desviación estándar o la variabilidad de los datos con un valor de 3.10, es decir que tanto varían las edades en promedio hacia abajo (iquierda) de la media o por encima (derecha) de la media."
      ],
      "metadata": {
        "id": "0lyM1rt_ZEv1"
      }
    },
    {
      "cell_type": "markdown",
      "source": [
        "## Fórmula de la varianza y desviación estándar\n",
        "\n",
        "### Varianza $\\sigma^2$;\n",
        "\n",
        "$$\n",
        "\\sigma^2 = \\frac{\\sum_{i=1}^N(x_i- \\mu)^2}{N}\n",
        "$$\n",
        "\n",
        "### Desviación Estándar $\\sigma$.\n",
        "\n",
        "La desviación estándar es la raiz cuadrada de la varianza y represnta la variabilida de los datos en las mismas unidades que la media.\n",
        "\n",
        "$$\n",
        "\\sigma = \\sqrt{\\frac{\\sum_{i=1}^N(x_i- \\mu)^2}{N}}=\\sqrt{\\sigma^2}\n",
        "$$\n"
      ],
      "metadata": {
        "id": "FUaF-aL-ZiC6"
      }
    },
    {
      "cell_type": "markdown",
      "source": [
        "## Deterinando desviación estándar de edades (cálculo manual)\n",
        "\n",
        "Se determina la desviación estándar por medio de la construcción de una tabla que va identificando los coeficientes conforme a la fórmula.\n",
        "\n",
        "El resultado de la desviación estándar calculado manualmente, debe ser el mismo que se determina con la función *np.std(edades)* de lal librería *numpy* arriba descrito.\n"
      ],
      "metadata": {
        "id": "Ggsj0EPwaX1a"
      }
    },
    {
      "cell_type": "code",
      "source": [
        "print(edades)\n"
      ],
      "metadata": {
        "colab": {
          "base_uri": "https://localhost:8080/"
        },
        "id": "MRhvQisEaryw",
        "outputId": "ae76df2c-481e-4efd-bf99-522bbe69fccc"
      },
      "execution_count": 73,
      "outputs": [
        {
          "output_type": "stream",
          "name": "stdout",
          "text": [
            "[18, 19, 20, 19, 20, 19, 18, 19, 22, 24, 25, 26, 23, 28, 27, 24, 23, 24, 25, 26, 27, 28, 24, 25, 24, 23]\n"
          ]
        }
      ]
    },
    {
      "cell_type": "markdown",
      "source": [
        "### Construyendo la tabla\n",
        "\n",
        "* 'x': representa los valores de edades.\n",
        "* 'x_me': La media de edades y/o de x.\n",
        "* 'x-x_me': La diferencia de cada valor x y la media.\n",
        "* '(x-x_me)^2': es el cuadrado de la diferencia de cada valor x y la media. La sumatoria de esta columna divido entre el valo de *n* es la *varianza* y la raiz cuadrada de la varianza es la *desviación estándar* de los datos.\n",
        "\n",
        "\n",
        "\n",
        "\n",
        "> Bloc con sangría\n",
        "\n",
        "\n"
      ],
      "metadata": {
        "id": "9l4Z_F0qbiXD"
      }
    },
    {
      "cell_type": "code",
      "source": [
        "\n",
        "# Generar columnas siguientes\n",
        "tabla = pd.DataFrame({'x': edades})\n",
        "tabla['x_me'] = media\n",
        "tabla['x-x_me'] = tabla['x']- tabla['x_me']\n",
        "tabla['(x-x_me)^2'] = tabla['x-x_me']**2  # Al cuadraddo\n",
        "\n",
        "\n",
        "print(tabla)\n",
        "\n",
        "sumatoria = sum(tabla['(x-x_me)^2'])\n",
        "\n",
        "\n",
        "varianza = sumatoria / n\n",
        "desv_std = np.sqrt(varianza)\n",
        "print(\"La varianza \", varianza, \"Con np.var(): \", np.var(edades))\n",
        "print(\"La desviación estándar: \", desv_std, \"Con np.std()\", np.std(edades))\n",
        "\n"
      ],
      "metadata": {
        "colab": {
          "base_uri": "https://localhost:8080/"
        },
        "id": "hrmx_96RmNJP",
        "outputId": "247badb2-562f-40bd-e56a-714c2e58a166"
      },
      "execution_count": 76,
      "outputs": [
        {
          "output_type": "stream",
          "name": "stdout",
          "text": [
            "     x       x_me    x-x_me  (x-x_me)^2\n",
            "0   18  23.076923 -5.076923   25.775148\n",
            "1   19  23.076923 -4.076923   16.621302\n",
            "2   20  23.076923 -3.076923    9.467456\n",
            "3   19  23.076923 -4.076923   16.621302\n",
            "4   20  23.076923 -3.076923    9.467456\n",
            "5   19  23.076923 -4.076923   16.621302\n",
            "6   18  23.076923 -5.076923   25.775148\n",
            "7   19  23.076923 -4.076923   16.621302\n",
            "8   22  23.076923 -1.076923    1.159763\n",
            "9   24  23.076923  0.923077    0.852071\n",
            "10  25  23.076923  1.923077    3.698225\n",
            "11  26  23.076923  2.923077    8.544379\n",
            "12  23  23.076923 -0.076923    0.005917\n",
            "13  28  23.076923  4.923077   24.236686\n",
            "14  27  23.076923  3.923077   15.390533\n",
            "15  24  23.076923  0.923077    0.852071\n",
            "16  23  23.076923 -0.076923    0.005917\n",
            "17  24  23.076923  0.923077    0.852071\n",
            "18  25  23.076923  1.923077    3.698225\n",
            "19  26  23.076923  2.923077    8.544379\n",
            "20  27  23.076923  3.923077   15.390533\n",
            "21  28  23.076923  4.923077   24.236686\n",
            "22  24  23.076923  0.923077    0.852071\n",
            "23  25  23.076923  1.923077    3.698225\n",
            "24  24  23.076923  0.923077    0.852071\n",
            "25  23  23.076923 -0.076923    0.005917\n",
            "La varianza  9.609467455621301 Con np.var():  9.609467455621303\n",
            "La desviación estándar:  3.0999141045553666 Con np.std() 3.099914104555367\n"
          ]
        }
      ]
    },
    {
      "cell_type": "markdown",
      "source": [
        "El cálculo de la variabildiad de los datos con el cálculo de la varianza y desviación estándar tanto detallando la fórmula con la construcción de tabla o utilizando las fnciones *var()* y *std() de la biblioteca  *numpy*, deben salir el mismo resultado para estos datos de edades\n",
        "\n"
      ],
      "metadata": {
        "id": "_VYECC_LqfEJ"
      }
    },
    {
      "cell_type": "markdown",
      "source": [
        "# Interpretación\n",
        "\n",
        "Pendiente ..."
      ],
      "metadata": {
        "id": "sUZ3Z0pPrFU-"
      }
    }
  ]
}