{
  "nbformat": 4,
  "nbformat_minor": 0,
  "metadata": {
    "colab": {
      "provenance": [],
      "authorship_tag": "ABX9TyMaOvJLdJ+/FdI0JhV7HQtN",
      "include_colab_link": true
    },
    "kernelspec": {
      "name": "python3",
      "display_name": "Python 3"
    },
    "language_info": {
      "name": "python"
    }
  },
  "cells": [
    {
      "cell_type": "markdown",
      "metadata": {
        "id": "view-in-github",
        "colab_type": "text"
      },
      "source": [
        "<a href=\"https://colab.research.google.com/github/rpizarrog/probabilidad-y-estad-stica/blob/master/Python%202023/Caso_18_Distribuci%C3%B3n_hipergeom%C3%A9trica.ipynb\" target=\"_parent\"><img src=\"https://colab.research.google.com/assets/colab-badge.svg\" alt=\"Open In Colab\"/></a>"
      ]
    },
    {
      "cell_type": "markdown",
      "source": [
        "# Distribución hipergeométrica\n",
        "\n",
        "# Objetivo\n",
        "\n",
        "Calcular probabilidades, valor esperado y dispersión de datos de una distribución hipergeométrica.\n",
        "\n",
        "# Descripción\n",
        "\n",
        "Realizar cálculos de probabilidad conforme a la distribución de probabilidad hipergeométrica a partir de valores iniciales de los ejercicios.\n",
        "\n",
        "Se generan las tablas de probabilidad conforme a distribución hipergeométrica, se identifican los valores de probabilidad cuando la variable discreta $x$ tenga algún exactamente algún valor, $\\leq$ a algún valor o $\\gt$ o $\\geq$, entre otros.\n",
        "\n",
        "Se calcula valor esperado, varianza y desviación estándar de ejercicios con características de distribuciones hipergeométrica.\n",
        "\n"
      ],
      "metadata": {
        "id": "NDE22uDpudnz"
      }
    },
    {
      "cell_type": "markdown",
      "source": [
        "# Fundamento teórico\n",
        "\n",
        "La distribución de probabilidad hipergeométrica está estrechamente relacionada con la distribución binomial. Pero difieren en dos puntos: en la distribución hipergeométrica, los ensayos no son independientes y la probabilidad de éxito varía de ensayo a ensayo [@anderson2008].\n",
        "\n",
        "La distribución de probabilidad de la variable aleatoria hipergeométrica $x$, el número de éxitos en una muestra aleatoria de tamaño $n$ que se selecciona de $N$ artículos, en los que $k$ se denomina éxito y $N - k$ se le llama fracaso [@camacho_avila_probabilidad_2019].\n",
        "\n",
        "La distribución hipergeométrica es especialmente útil en todos aquellos casos en los que se extraigan muestras o se realicen experiencias repetidas sin devolución del elemento extraído o sin retornar a la situación experimental inicial\n",
        "\n",
        "Es una distribución fundamental en el estudio de muestras pequeñas de poblaciones y en el cálculo de probabilidades de juegos de azar. Tiene grandes aplicaciones en el control de calidad, para procesos experimentales en los que no es posible retornar a la situación de partida [@cañas].\n",
        "\n",
        "Como en el caso de la distribución binomial, la distribución hipergeométrica se aplica en el muestreo de aceptación, donde se toman muestras del material o las partes de los lotes con el fin de determinar si se acepta o no el lote completo [@walpole2012].\n",
        "\n",
        "En Python se puede utilizar la biblioteca *scipy.stats* para trabajar con distribuciones hipergeométricas.\n",
        "\n",
        "La distribución hipergeométrica se utiliza para modelar situaciones donde se extraen elementos sin reemplazo de un conjunto finito.\n",
        "\n",
        "- La función *hypergeom.rvs(M=K, n=n, N=N, *size=5) permite generar números aleatorios,\n",
        "\n",
        "- La función *hypergeom.pmf(x, M=K, n=n, N=N)* permite para calcular la densidad de probabilidad,\n",
        "\n",
        "- La función *hypergeom.cdf(x, M=K, n=n, N=N)* calcula la probabilidad acumulada de una distribución hipergeométrica\n",
        "\n",
        "\n"
      ],
      "metadata": {
        "id": "mHFMYiDIuqeq"
      }
    },
    {
      "cell_type": "markdown",
      "source": [
        "## Fórmulas de distribución hipergeométrica\n",
        "\n",
        "\n",
        "### Fórmula de probabilidad\n",
        "\n",
        "La fórmula de la distribución hipergeométrica\n",
        "\n",
        "$$f(x) =  \\frac{\\binom{r}{x} \\cdot \\binom{N-r}{n-x}}{\\binom{N}{n}}   $$\n",
        "\n",
        "Dónde:\n",
        "\n",
        "-   $f(x)$ es la probabilidad de $x$ o la función de distribución\n",
        "\n",
        "-   $n$ número de ensayos o longitud de la muestra casos que se extraen\n",
        "\n",
        "-   $N$ número de elementos de la población\n",
        "\n",
        "-   $r$ número de elementos exitosos en relación a la población\n",
        "\n",
        "-   $x$ Valor de la variable aleatoria discreta $0,1,2,3, ... ...,n$ hasta el valor de $n$ tamaño de la muestra [@anderson_estadistica_2008].\n",
        "\n",
        "-   ${\\binom{r}{x}}$ Parte izquierda del numerador, representan el número de formas (combinaciones) en que se toman $x$ éxitos de un total de $r$ éxitos que hay en la población,\n",
        "\n",
        "-   $\\binom{N-r}{n-x}$ parte derecha del numerador representa el número de maneras en que se puede tomar $n - x$ fracasos de un total de $N - r$ elementos que hay en la población.\n",
        "\n",
        "-   $\\binom{N}{n}$ como denominador representan el número de maneras (cantidad de combinaciones) en que es posible tomar una muestra de tamaño $n$ de una población de tamaño $N$; [@anderson_estadistica_2008].\n",
        "\n",
        "Recordando la fórmula para determinar el número de combinaciones en grupos de $n$ elementos de una población total de $N$ está dada por:\\\n",
        "$$C_{n}^{N} = \\binom{N}{n} = \\frac{N!}{n!\\cdot(N-n)!}$$\n",
        "\n",
        "Entonces desarrollando la fórmula con las combinaciones la función de probabilidad hipergeométrica queda de la siguiente manera:\n",
        "\n",
        "$$\n",
        "f(x) = \\frac{\\binom{r}{x} \\cdot \\binom{N-r}{n-x}}{\\binom{N}{n}} = \\frac{ (\\frac{r!}{x!\\cdot(r-x)!})\\cdot(\\frac{(N-r)!}{(n-x)!\\cdot((N-r) - (n-x))!})}{\\frac{N!}{n!\\cdot(N-n)!}}\n",
        "$$\n",
        "\n",
        "- $N$ es el tamaño de población,\n",
        "\n",
        "- $n$ es el tamaño de la muestra extraída,\n",
        "\n",
        "- $r$ es el número de elementos en la población original que pertenecen a la categoría deseada (exitosos) y\n",
        "\n",
        "- $x$ es la variable aleatoria o el número de elementos en la muestra que pertenecen a dicha categoría.\n",
        "\n",
        "### Fórmula de probabilidad acumulada\n",
        "\n",
        "$$\n",
        "F(x) =\n",
        "\\sum_{0}^{n}f.x_i\n",
        "$$\n",
        "\n",
        "El total de la probabilidad acumulada debe ser $1$.\n",
        "\n",
        "### Valor esperado\n",
        "\n",
        "El valor esperado significa lo que se espera que suceda como estimación promedio o esperanza media en una distribución de tipo discreta como la hipergeométrica o la binomia o la Poisson entre otras.\n",
        "$$\n",
        "VE(x) = \\mu = n  \\cdot \\frac{r}{N}\n",
        "$$\n",
        "\n",
        "\n",
        "### Fórmula para varianza\n",
        "\n",
        "$$\n",
        "varianza = \\sigma^{2} = n  \\cdot \\frac{r}{N} \\cdot (1 - \\frac{r}{N}) \\cdot \\frac{N-n}{N-1}\n",
        "$$\n",
        "\n",
        "### Fórmula de la desviación estándar\n",
        "\n",
        "$$\n",
        "\\sigma = \\sqrt{varianza} = \\sqrt{\\sigma^{2}}\n",
        "$$"
      ],
      "metadata": {
        "id": "47GToZj7wqDT"
      }
    },
    {
      "cell_type": "markdown",
      "source": [
        "# Desarrollo\n",
        "\n"
      ],
      "metadata": {
        "id": "c8jvTV8-wxCR"
      }
    },
    {
      "cell_type": "markdown",
      "source": [
        "## Cargar librerías\n"
      ],
      "metadata": {
        "id": "WKcsXYbKwyVj"
      }
    },
    {
      "cell_type": "code",
      "source": [
        "# Pendiente\n",
        "# Se cargan librerías adecuadas\n",
        "import numpy as np\n",
        "import matplotlib.pyplot as plt\n",
        "from scipy.stats import hypergeom\n",
        "from scipy.special import comb # Para combinaciones\n",
        "\n",
        "import pandas as pd\n",
        "\n",
        "from IPython.display import display, HTML # Para ver HTML\n"
      ],
      "metadata": {
        "id": "h_hToYhLw0Xq"
      },
      "execution_count": 2,
      "outputs": []
    },
    {
      "cell_type": "markdown",
      "source": [
        "## Cargar funciones\n"
      ],
      "metadata": {
        "id": "mqLbW6vGw1k4"
      }
    },
    {
      "cell_type": "code",
      "source": [
        "def f_prob_hyper(x, r, n, N):\n",
        "  probabilidad = (comb(r, x) * comb(N - r, n - x)) / comb(N, n)\n",
        "  return probabilidad\n",
        "\n",
        "def f_tabla_hyper (xi, r, n, N):\n",
        "  # Calcular las probabilidades para cada valor de xi\n",
        "\n",
        "  probabilidades = [hypergeom.pmf(x, M=N, n=r, N=n) for x in xi]\n",
        "# Formatear las probabilidades con 6 decimales sin notación científica\n",
        "  probabilidades = [f'{p:.6f}' for p in probabilidades]\n",
        "\n",
        "  # Calcular las probabilidades acumuladas\n",
        "  probabilidades_acumuladas = [hypergeom.cdf(x, M=N, n=r, N=n) for x in xi]\n",
        "  # Formatear las probabilidades con 6 decimales sin notación científica\n",
        "  probabilidades_acumuladas = [f'{p:.6f}' for p in probabilidades_acumuladas]\n",
        "\n",
        "  # Crear un DataFrame para la tabla de probabilidades\n",
        "  tabla_probabilidades = pd.DataFrame({'x': xi, 'P(X = x)': probabilidades, 'P(X <= x)': probabilidades_acumuladas})\n",
        "\n",
        "  # Mostrar la tabla de probabilidades\n",
        "  #print(tabla_probabilidades)\n",
        "  return (tabla_probabilidades)\n",
        "def f_graficos_probabilidad_discreta(tabla):\n",
        "    # Crear un DataFrame a partir de la tabla de probabilidad\n",
        "    df = pd.DataFrame(tabla)\n",
        "\n",
        "    # Gráfico de barras de probabilidad\n",
        "    plt.figure(figsize=(10, 4))\n",
        "    plt.subplot(1, 2, 1)\n",
        "    plt.bar(df.index, df['P(X = x)'], color='skyblue')\n",
        "    plt.xticks(df.index, df['x'])  # Establecer etiquetas personalizadas en el eje x\n",
        "    plt.xlabel('x')\n",
        "    plt.ylabel('Probabilidad')\n",
        "    plt.title('Gráfico de Barras de Probabilidad')\n",
        "\n",
        "    # Gráfico lineal de probabilidad acumulada\n",
        "    plt.subplot(1, 2, 2)\n",
        "    plt.plot(df.index, df['P(X <= x)'], marker='o', color='green')\n",
        "    plt.xticks(df.index, df['x'])  # Establecer etiquetas personalizadas en el eje x\n",
        "    plt.xlabel('x')\n",
        "    plt.ylabel('Probabilidad Acumulada')\n",
        "    plt.title('Gráfico Lineal de Probabilidad Acumulada')\n",
        "\n",
        "    plt.tight_layout()\n",
        "    plt.show()\n",
        "\n",
        "def f_graficos_probabilidad_discreta_VE_ds(tabla, VE, ds):\n",
        "    # Crear un DataFrame a partir de la tabla de probabilidad\n",
        "    df = pd.DataFrame(tabla)\n",
        "\n",
        "    # Gráfico de barras de probabilidad\n",
        "    plt.figure(figsize=(10, 4))\n",
        "    plt.subplot(1, 1, 1)\n",
        "    plt.bar(df.index, df['P(X = x)'], color='skyblue')\n",
        "\n",
        "    # El Valor esperado y desviación izq y der\n",
        "    # Agregar una línea punteada\n",
        "    plt.axvline(x=VE, color='red', linestyle='--', label='VE='+str(np.round(VE, 2)))\n",
        "    plt.axvline(x=VE - ds, color='blue', linestyle='--', label='Desv. Std='+str(np.round(ds, 2)))\n",
        "    plt.axvline(x=VE + ds, color='blue', linestyle='--')\n",
        "\n",
        "    plt.xticks(df.index, df['x'])  # Establecer etiquetas personalizadas en el eje x\n",
        "    plt.xlabel('x')\n",
        "    plt.ylabel('Probabilidad')\n",
        "    plt.title('Gráfico de Barras de Probabilidad con VE y Desv Std.')\n",
        "\n",
        "    plt.tight_layout()\n",
        "    plt.legend()\n",
        "    plt.show()"
      ],
      "metadata": {
        "id": "mVxhSM3Qw3fp"
      },
      "execution_count": 3,
      "outputs": []
    },
    {
      "cell_type": "markdown",
      "source": [
        "## Canicas blancas y canicas negras\n",
        "\n",
        "-   $N=15$ Total de canicas de la población.\n",
        "\n",
        "-   $r = 9$ Canicas blancas. Casos exitosos.\n",
        "\n",
        "-   $n =$ Cantidad que se extrae $5$. Tamaño de la muestra.\n",
        "\n",
        "-   $x_i=\\text{{0, 1, 2, 3, 4, 5}}$ Variable aleatoria que puede tener valores desde $0$ hasta tamaño de la muestra $n$."
      ],
      "metadata": {
        "id": "cx7zSfpU6BPN"
      }
    },
    {
      "cell_type": "markdown",
      "source": [
        "### Inicializar variables\n"
      ],
      "metadata": {
        "id": "n9V9cdkK6wSD"
      }
    },
    {
      "cell_type": "code",
      "source": [
        "r = 9   # Número total de canicas blancas (éxito) en la población\n",
        "N = 15  # Tamaño total de la población\n",
        "n = 5   # Tamaño de la muestra\n",
        "xi = [0, 1, 2, 3, 4, 5]\n",
        "print (\"Inicialización de variables\")\n",
        "print (\"r es el número de casos de (éxito) en la población: \", r)\n",
        "print (\"N es el tamaño total de la población: \", N)\n",
        "print (\"n es el tamaño de la muestra: \", n)\n",
        "print (\"Valores de x \", xi)"
      ],
      "metadata": {
        "id": "l0TzAQNe6y2z",
        "colab": {
          "base_uri": "https://localhost:8080/"
        },
        "outputId": "6cc55ca5-d405-4400-e790-37bcf3910350"
      },
      "execution_count": 4,
      "outputs": [
        {
          "output_type": "stream",
          "name": "stdout",
          "text": [
            "Inicialización de variables\n",
            "r es el número de casos de (éxito) en la población:  9\n",
            "N es el tamaño total de la población:  15\n",
            "n es el tamaño de la muestra:  5\n",
            "Valores de x  [0, 1, 2, 3, 4, 5]\n"
          ]
        }
      ]
    },
    {
      "cell_type": "markdown",
      "source": [
        "### Calcular probabilidad para $f(x=3)$\n",
        "\n",
        "Llamando la función *f_prob_hype()* que multiplica combinaciones.\n",
        "\n",
        "Con la función de probabilidad hipergeométrica *hypergeom.pmf(x, M=N, n=r, N=n)*, las literales que se utilizan como parámetros hay que alinearlos conforme a los argumentos que serían las variables incialmente definidas.\n",
        "\n",
        "- El parámetro *M* es el tamaño de la población o sea *N* como argumento.\n",
        "- El parmaétro *n* son los casos exitosos o sea *r* como argumento.\n",
        "- *N* es el tamaño de la muestra o sea *n* en el argumento.\n"
      ],
      "metadata": {
        "id": "1tHfpfHb__VN"
      }
    },
    {
      "cell_type": "markdown",
      "source": [
        "$$\n",
        "N = 15; r = 9; n = 5; (N-r) = 6; x = 3\n",
        "$$\n",
        "$$\n",
        "p(x) = f(x) = \\frac{\\binom{r}{x} \\cdot \\binom{N-r}{n-x}}{\\binom{N}{n}} = \\frac{\n",
        "(\\frac{r!}{x!\\cdot(r-x)!})\\cdot(\\frac{(N-r)!}{(n-x)!\\cdot((N-r) -\n",
        "(n-x))!})}{\\frac{N!}{n!\\cdot(N-n)!}}\n",
        "$$\n",
        "Y el cálculo sería:\n",
        "$$\n",
        "P(x=3) = \\frac{\\binom{9}{3} \\cdot \\binom{15-9}{5-3}}{\\binom{15}{5}} =\n",
        "\\frac{ (\\frac{9!}{3!\\cdot(9-3)!})\\cdot(\\frac{(15-9)!}{(5-3)!\\cdot((15-9)\n",
        "- (5-3))!})}{\\frac{15!}{5!\\cdot(15-5)!}}=\\frac{84\\times15}{3003}=0.4195\n",
        "$$"
      ],
      "metadata": {
        "id": "HeM9shFLeQ6K"
      }
    },
    {
      "cell_type": "code",
      "source": [
        "\n",
        "# Calcular P(X = 3)\n",
        "x = 3  # Número de canicas blancas que úede haber en la muestra\n",
        "\n",
        "probabilidad = f_prob_hyper(x=x, r = r, n=n, N = N)\n",
        "print (np.round(probabilidad, 4))\n",
        "print(\"La probabilidad de extraer \", x , \" canicas blancas de la muestra de \", n, \"es \", np.round(probabilidad * 100, 2), \"%\")\n",
        "\n",
        "# Se debe generar el mismo valor, se actualiza la variable probabilidad\n",
        "probabilidad = hypergeom.pmf(x, M=N, n=r, N=n)\n",
        "print (\"Deben ser el mismo valor: ...\")\n",
        "print(\"La probabilidad de extraer \", x , \" canicas blancas de la muestra de \", n, \"es \", np.round(probabilidad * 100, 2), \"%\")\n",
        "\n"
      ],
      "metadata": {
        "colab": {
          "base_uri": "https://localhost:8080/"
        },
        "id": "jYr-ZAyn9d6t",
        "outputId": "2fd8b259-78a4-4d6d-bce8-0e782543dd5b"
      },
      "execution_count": 28,
      "outputs": [
        {
          "output_type": "stream",
          "name": "stdout",
          "text": [
            "0.001\n",
            "La probabilidad de extraer  3  canicas blancas de la muestra de  5 es  0.1 %\n",
            "Deben ser el mismo valor: ...\n",
            "La probabilidad de extraer  3  canicas blancas de la muestra de  5 es  0.1 %\n"
          ]
        }
      ]
    },
    {
      "cell_type": "markdown",
      "source": [
        "### Crear tabla de distribución\n",
        "\n",
        "Se construye tabla de distribucion con la función *f_tabla_hyper()* previamente codificada"
      ],
      "metadata": {
        "id": "eObc_AQz6z36"
      }
    },
    {
      "cell_type": "code",
      "source": [
        "tabla = f_tabla_hyper(xi, r, n, N)\n",
        "# print(tabla)\n",
        "tabla_html = tabla.to_html(index=False, classes='table table-bordered table-striped')\n",
        "\n",
        "# Imprimir la tabla HTML\n",
        "# Mostrar la tabla directamente\n",
        "display(HTML(tabla_html))"
      ],
      "metadata": {
        "colab": {
          "base_uri": "https://localhost:8080/",
          "height": 237
        },
        "id": "u4N3jwNA62dn",
        "outputId": "585126ff-bdfb-4a1a-d419-0b13cacd96c3"
      },
      "execution_count": 6,
      "outputs": [
        {
          "output_type": "display_data",
          "data": {
            "text/plain": [
              "<IPython.core.display.HTML object>"
            ],
            "text/html": [
              "<table border=\"1\" class=\"dataframe table table-bordered table-striped\">\n",
              "  <thead>\n",
              "    <tr style=\"text-align: right;\">\n",
              "      <th>x</th>\n",
              "      <th>P(X = x)</th>\n",
              "      <th>P(X &lt;= x)</th>\n",
              "    </tr>\n",
              "  </thead>\n",
              "  <tbody>\n",
              "    <tr>\n",
              "      <td>0</td>\n",
              "      <td>0.001998</td>\n",
              "      <td>0.001998</td>\n",
              "    </tr>\n",
              "    <tr>\n",
              "      <td>1</td>\n",
              "      <td>0.044955</td>\n",
              "      <td>0.046953</td>\n",
              "    </tr>\n",
              "    <tr>\n",
              "      <td>2</td>\n",
              "      <td>0.239760</td>\n",
              "      <td>0.286713</td>\n",
              "    </tr>\n",
              "    <tr>\n",
              "      <td>3</td>\n",
              "      <td>0.419580</td>\n",
              "      <td>0.706294</td>\n",
              "    </tr>\n",
              "    <tr>\n",
              "      <td>4</td>\n",
              "      <td>0.251748</td>\n",
              "      <td>0.958042</td>\n",
              "    </tr>\n",
              "    <tr>\n",
              "      <td>5</td>\n",
              "      <td>0.041958</td>\n",
              "      <td>1.000000</td>\n",
              "    </tr>\n",
              "  </tbody>\n",
              "</table>"
            ]
          },
          "metadata": {}
        }
      ]
    },
    {
      "cell_type": "markdown",
      "source": [
        "### Visualizar probabilidades\n",
        "\n"
      ],
      "metadata": {
        "id": "-M6Zyf54F1pG"
      }
    },
    {
      "cell_type": "code",
      "source": [
        "f_graficos_probabilidad_discreta(tabla)"
      ],
      "metadata": {
        "colab": {
          "base_uri": "https://localhost:8080/",
          "height": 407
        },
        "id": "RjylO07tF48V",
        "outputId": "ddf81ca8-0cc2-441f-ce19-22848880ea37"
      },
      "execution_count": 7,
      "outputs": [
        {
          "output_type": "display_data",
          "data": {
            "text/plain": [
              "<Figure size 1000x400 with 2 Axes>"
            ],
            "image/png": "[encoded data removed]"
          },
          "metadata": {}
        }
      ]
    },
    {
      "cell_type": "markdown",
      "source": [
        "### Valor esperado\n"
      ],
      "metadata": {
        "id": "BJGPAxAtGG8F"
      }
    },
    {
      "cell_type": "code",
      "source": [
        "VE = n * (r/N)\n",
        "print (\"Valor esperado : \", np.round(VE, 4))\n"
      ],
      "metadata": {
        "colab": {
          "base_uri": "https://localhost:8080/"
        },
        "id": "APEnfGBQGY1l",
        "outputId": "cb93a7fb-8e3c-4f4b-f3b4-d9b0faa5f143"
      },
      "execution_count": 8,
      "outputs": [
        {
          "output_type": "stream",
          "name": "stdout",
          "text": [
            "Valor esperado :  3.0\n"
          ]
        }
      ]
    },
    {
      "cell_type": "markdown",
      "source": [
        "Se espera que se obtengan o extraigan $3$ canicas blancas. ¿pero cuánto puede variar?"
      ],
      "metadata": {
        "id": "1qZM_MrXJLUB"
      }
    },
    {
      "cell_type": "markdown",
      "source": [
        "### Varianza\n",
        "\n"
      ],
      "metadata": {
        "id": "W1kKndUDGJRG"
      }
    },
    {
      "cell_type": "code",
      "source": [
        "varianza = VE * (1 - r/N) * ((N-n) / (N-1))\n",
        "print (\"La varianza es de : \", np.round(varianza, 4))"
      ],
      "metadata": {
        "colab": {
          "base_uri": "https://localhost:8080/"
        },
        "id": "1lYv2AokGgHV",
        "outputId": "ebfe17c4-0512-42e7-e2c6-cde5ae9403cd"
      },
      "execution_count": 9,
      "outputs": [
        {
          "output_type": "stream",
          "name": "stdout",
          "text": [
            "La varianza es de :  0.8571\n"
          ]
        }
      ]
    },
    {
      "cell_type": "markdown",
      "source": [
        "### Desviación estándar\n"
      ],
      "metadata": {
        "id": "6Qm1cqCmGUEk"
      }
    },
    {
      "cell_type": "code",
      "source": [
        "desv_std = np.sqrt(varianza)\n",
        "print (\"La desviación estándar es de: \", np.round(desv_std, 4))"
      ],
      "metadata": {
        "colab": {
          "base_uri": "https://localhost:8080/"
        },
        "id": "8H2-EV_xGc-2",
        "outputId": "41e2b600-5540-4993-e6a5-46ed202a070e"
      },
      "execution_count": 10,
      "outputs": [
        {
          "output_type": "stream",
          "name": "stdout",
          "text": [
            "La desviación estándar es de:  0.9258\n"
          ]
        }
      ]
    },
    {
      "cell_type": "markdown",
      "source": [
        "La desviación estándar, significa que de las 3 canicas que se espera que sean blancas puede variar aproximadamente una canica más o una canica menos es decir, tal vez 4 o 2."
      ],
      "metadata": {
        "id": "ivHSQZ1XMnrT"
      }
    },
    {
      "cell_type": "markdown",
      "source": [
        "### Visualizar probabilidades con VE y Desv. Std.\n"
      ],
      "metadata": {
        "id": "7xShUUR_GiOl"
      }
    },
    {
      "cell_type": "code",
      "source": [
        "f_graficos_probabilidad_discreta_VE_ds(tabla, VE, desv_std)"
      ],
      "metadata": {
        "colab": {
          "base_uri": "https://localhost:8080/",
          "height": 407
        },
        "id": "0RSwlZeyGluj",
        "outputId": "dc4a058d-5e05-4f03-83c2-043b7b118ed9"
      },
      "execution_count": 11,
      "outputs": [
        {
          "output_type": "display_data",
          "data": {
            "text/plain": [
              "<Figure size 1000x400 with 1 Axes>"
            ],
            "image/png": "[encoded data removed]"
          },
          "metadata": {}
        }
      ]
    },
    {
      "cell_type": "markdown",
      "source": [
        "## Baraja española\n",
        "\n",
        "Suponga la extracción aleatoria de $n = 8$ elementos de un conjunto formado por $N=40$ elementos totales (cartas baraja española) de los cuales $r=10$ son del tipo oros (salir oro) y $30$ son del tipo complementario (no salir oro).\n",
        "\n",
        "Si se realizan las extracciones sin devolver los elementos extraídos y se identifica a $x$\n",
        "al número de elementos del tipo oros que se extraen en las 8 cartas; $x$\n",
        "sigue una distribución hipergeométrica.\n",
        "\n",
        "- ¿Cuál es la probabilidad de extraer 2 oros? $f(x=2)$,\n",
        "- ¿Cuál es la probabilidad de extraer 5 oros? $f(x=4)$,\n",
        "- ¿Cuál es la probabilidad por debajo de 4 oros? $F(x\\le2)$,\n",
        "- ¿Cuál es la probabilidad de extraer entre 3 y 4  oros? $f(3 \\le x \\le 2)$,\n"
      ],
      "metadata": {
        "id": "PyMeZqHJJAhD"
      }
    },
    {
      "cell_type": "markdown",
      "source": [
        "### Inicializar valores\n"
      ],
      "metadata": {
        "id": "9HeyXpeyJe9h"
      }
    },
    {
      "cell_type": "code",
      "source": [
        "r = 10   # Número de casos de (éxito) en la población. Oros\n",
        "N = 40  # Tamaño total de la población\n",
        "n = 8   # Tamaño de la muestra\n",
        "xi = [0, 1, 2, 3, 4, 5, 6, 7, 8]\n",
        "print (\"Inicialización de variables\")\n",
        "print (\"r es el número de casos de (éxito) en la población: \", r)\n",
        "print (\"N es el tamanño total de la población: \", N)\n",
        "print (\"n es el tamaño de la muestra: \", n)\n",
        "print (\"Valores de x \", xi)\n"
      ],
      "metadata": {
        "colab": {
          "base_uri": "https://localhost:8080/"
        },
        "id": "j5UVsOTpJg4_",
        "outputId": "c4ffa7b5-6582-4e51-9063-259b3456078a"
      },
      "execution_count": 12,
      "outputs": [
        {
          "output_type": "stream",
          "name": "stdout",
          "text": [
            "Inicialización de variables\n",
            "r es el número de casos de (éxito) en la población:  10\n",
            "N es el tamanño total de la población:  40\n",
            "n es el tamaño de la muestra:  8\n",
            "Valores de x  [0, 1, 2, 3, 4, 5, 6, 7, 8]\n"
          ]
        }
      ]
    },
    {
      "cell_type": "markdown",
      "source": [
        "### Calcular probabilidad para $f(x=2)$"
      ],
      "metadata": {
        "id": "FZ5WuPc8Q9g5"
      }
    },
    {
      "cell_type": "code",
      "source": [
        "# Calcular P(X = 2)\n",
        "x = 2  # Número de oros que puede haber en la muestra\n",
        "\n",
        "probabilidad = f_prob_hyper(x=x, r = r, n=n, N = N)\n",
        "print (np.round(probabilidad, 4))\n",
        "print(\"La probabilidad de extraer \", x , \" oros de la muestra de \", n, \"es \", np.round(probabilidad * 100, 2), \"%\")\n"
      ],
      "metadata": {
        "colab": {
          "base_uri": "https://localhost:8080/"
        },
        "id": "MUEtGePaREbQ",
        "outputId": "c2b985c2-3ffa-40fc-9119-e834e6ae9657"
      },
      "execution_count": 27,
      "outputs": [
        {
          "output_type": "stream",
          "name": "stdout",
          "text": [
            "0.0354\n",
            "La probabilidad de extraer  2  oros de la muestra de  5 es  3.54 %\n"
          ]
        }
      ]
    },
    {
      "cell_type": "markdown",
      "source": [
        "### Tabla de probabilidad"
      ],
      "metadata": {
        "id": "J27X1TQRRaD8"
      }
    },
    {
      "cell_type": "code",
      "source": [
        "tabla = f_tabla_hyper(xi, r, n, N)\n",
        "# print(tabla)\n",
        "tabla_html = tabla.to_html(index=False, classes='table table-bordered table-striped')\n",
        "\n",
        "# Imprimir la tabla HTML\n",
        "# Mostrar la tabla directamente\n",
        "display(HTML(tabla_html))"
      ],
      "metadata": {
        "colab": {
          "base_uri": "https://localhost:8080/",
          "height": 331
        },
        "id": "gjuxQs0KRcgC",
        "outputId": "6198b55c-6358-4e85-b4e0-c21eaa7351b6"
      },
      "execution_count": 14,
      "outputs": [
        {
          "output_type": "display_data",
          "data": {
            "text/plain": [
              "<IPython.core.display.HTML object>"
            ],
            "text/html": [
              "<table border=\"1\" class=\"dataframe table table-bordered table-striped\">\n",
              "  <thead>\n",
              "    <tr style=\"text-align: right;\">\n",
              "      <th>x</th>\n",
              "      <th>P(X = x)</th>\n",
              "      <th>P(X &lt;= x)</th>\n",
              "    </tr>\n",
              "  </thead>\n",
              "  <tbody>\n",
              "    <tr>\n",
              "      <td>0</td>\n",
              "      <td>0.076106</td>\n",
              "      <td>0.076106</td>\n",
              "    </tr>\n",
              "    <tr>\n",
              "      <td>1</td>\n",
              "      <td>0.264717</td>\n",
              "      <td>0.340824</td>\n",
              "    </tr>\n",
              "    <tr>\n",
              "      <td>2</td>\n",
              "      <td>0.347441</td>\n",
              "      <td>0.688265</td>\n",
              "    </tr>\n",
              "    <tr>\n",
              "      <td>3</td>\n",
              "      <td>0.222363</td>\n",
              "      <td>0.910627</td>\n",
              "    </tr>\n",
              "    <tr>\n",
              "      <td>4</td>\n",
              "      <td>0.074834</td>\n",
              "      <td>0.985461</td>\n",
              "    </tr>\n",
              "    <tr>\n",
              "      <td>5</td>\n",
              "      <td>0.013304</td>\n",
              "      <td>0.998765</td>\n",
              "    </tr>\n",
              "    <tr>\n",
              "      <td>6</td>\n",
              "      <td>0.001188</td>\n",
              "      <td>0.999953</td>\n",
              "    </tr>\n",
              "    <tr>\n",
              "      <td>7</td>\n",
              "      <td>0.000047</td>\n",
              "      <td>0.999999</td>\n",
              "    </tr>\n",
              "    <tr>\n",
              "      <td>8</td>\n",
              "      <td>0.000001</td>\n",
              "      <td>1.000000</td>\n",
              "    </tr>\n",
              "  </tbody>\n",
              "</table>"
            ]
          },
          "metadata": {}
        }
      ]
    },
    {
      "cell_type": "markdown",
      "source": [
        "### Visualizar probabilidad"
      ],
      "metadata": {
        "id": "PI4T1orsSSJR"
      }
    },
    {
      "cell_type": "code",
      "source": [
        "f_graficos_probabilidad_discreta(tabla)"
      ],
      "metadata": {
        "colab": {
          "base_uri": "https://localhost:8080/",
          "height": 407
        },
        "id": "UJu6Lb24SXwy",
        "outputId": "682e8a43-613f-4a8d-898a-92782668bafa"
      },
      "execution_count": 15,
      "outputs": [
        {
          "output_type": "display_data",
          "data": {
            "text/plain": [
              "<Figure size 1000x400 with 2 Axes>"
            ],
            "image/png": "[encoded data removed]"
          },
          "metadata": {}
        }
      ]
    },
    {
      "cell_type": "markdown",
      "source": [
        "### Valor esperado"
      ],
      "metadata": {
        "id": "QDGWyWssShpB"
      }
    },
    {
      "cell_type": "code",
      "source": [
        "VE = n * (r/N)\n",
        "print (\"Valor esperado : \", np.round(VE, 4))"
      ],
      "metadata": {
        "colab": {
          "base_uri": "https://localhost:8080/"
        },
        "id": "60hzvHqjSp3S",
        "outputId": "0e4dc383-064a-47df-c161-ec6e8ab9b795"
      },
      "execution_count": 16,
      "outputs": [
        {
          "output_type": "stream",
          "name": "stdout",
          "text": [
            "Valor esperado :  2.0\n"
          ]
        }
      ]
    },
    {
      "cell_type": "markdown",
      "source": [
        "### Varianza\n"
      ],
      "metadata": {
        "id": "18lHAtaESjL_"
      }
    },
    {
      "cell_type": "code",
      "source": [
        "varianza = VE * (1 - r/N) * ((N-n) / (N-1))\n",
        "print (\"La varianza es de : \", np.round(varianza, 4))"
      ],
      "metadata": {
        "colab": {
          "base_uri": "https://localhost:8080/"
        },
        "id": "v00DPiQISteA",
        "outputId": "7bd3adfd-2459-42ee-812e-1b9cc63306e7"
      },
      "execution_count": 17,
      "outputs": [
        {
          "output_type": "stream",
          "name": "stdout",
          "text": [
            "La varianza es de :  1.2308\n"
          ]
        }
      ]
    },
    {
      "cell_type": "markdown",
      "source": [
        "### Desviación estándar"
      ],
      "metadata": {
        "id": "LRKREH-YSkuo"
      }
    },
    {
      "cell_type": "code",
      "source": [
        "desv_std = np.sqrt(varianza)\n",
        "print (\"La desviación estándar es de: \", np.round(desv_std, 4))"
      ],
      "metadata": {
        "colab": {
          "base_uri": "https://localhost:8080/"
        },
        "id": "pSeukTtLSxQi",
        "outputId": "87287417-0c70-40a1-a5b6-4e8b2d5b82ea"
      },
      "execution_count": 18,
      "outputs": [
        {
          "output_type": "stream",
          "name": "stdout",
          "text": [
            "La desviación estándar es de:  1.1094\n"
          ]
        }
      ]
    },
    {
      "cell_type": "markdown",
      "source": [
        "### Visualizar probabilidad con VE y Desv. Std\n"
      ],
      "metadata": {
        "id": "tMKbHMgvXaUT"
      }
    },
    {
      "cell_type": "code",
      "source": [
        "f_graficos_probabilidad_discreta_VE_ds(tabla, VE, desv_std)"
      ],
      "metadata": {
        "colab": {
          "base_uri": "https://localhost:8080/",
          "height": 407
        },
        "id": "N7xVoaGoXeAw",
        "outputId": "1283da7b-242f-4dfb-8938-6668b96f0d59"
      },
      "execution_count": 19,
      "outputs": [
        {
          "output_type": "display_data",
          "data": {
            "text/plain": [
              "<Figure size 1000x400 with 1 Axes>"
            ],
            "image/png": "[encoded data removed]"
          },
          "metadata": {}
        }
      ]
    },
    {
      "cell_type": "markdown",
      "source": [
        "## Lote de componentes\n",
        "\n",
        "Lotes con $N=40$ componentes, históricamente hay $r=3$ defectuosos en todo el lote .Si se encuentra más de $3$ es inaceptable el lote o es falta de calidad.\n",
        "\n",
        "El procedimiento para obtener muestras del lote consiste en seleccionar $n=5$ componentes al azar y rechazar el lote si se encuentra un componente defectuoso.\n",
        "\n",
        "¿Cuál es la probabilidad de que, en la muestra, se encuentre exactamente un componente defectuoso $f(x=1)$, si en todo el lote hay 3 defectuosos?\n",
        "\n",
        "Si se utiliza la distribución hipergeométrica con $n=5$,$N=40$,$r=3$.\n",
        " y $x=1$, se encuentra que la probabilidad de obtener un componente defectuoso es:"
      ],
      "metadata": {
        "id": "B9erF7LnT14q"
      }
    },
    {
      "cell_type": "markdown",
      "source": [
        "### Inicialización de variables"
      ],
      "metadata": {
        "id": "nBrX0ucuVnKg"
      }
    },
    {
      "cell_type": "code",
      "source": [
        "r = 3   # Número total de componentes defectuososo (éxito) en la población\n",
        "N = 40  # Tamaño total de la población\n",
        "n = 5   # Tamaño de la muestra\n",
        "xi = [0, 1, 2, 3, 4, 5]\n",
        "print (\"Inicialización de variables\")\n",
        "print (\"r es el número de casos de (éxito) en la población: \", r)\n",
        "print (\"N es el tamaño total de la población: \", N)\n",
        "print (\"n es el tamaño de la muestra: \", n)\n",
        "print (\"Valores de x \", xi)"
      ],
      "metadata": {
        "colab": {
          "base_uri": "https://localhost:8080/"
        },
        "id": "n6ussYsnVpSQ",
        "outputId": "73754dd4-3dd1-46ed-d938-852a2d328f69"
      },
      "execution_count": 20,
      "outputs": [
        {
          "output_type": "stream",
          "name": "stdout",
          "text": [
            "Inicialización de variables\n",
            "r es el número de casos de (éxito) en la población:  3\n",
            "N es el tamaño total de la población:  40\n",
            "n es el tamaño de la muestra:  5\n",
            "Valores de x  [0, 1, 2, 3, 4, 5]\n"
          ]
        }
      ]
    },
    {
      "cell_type": "markdown",
      "source": [
        "### Probabilida para $f(x=1)$"
      ],
      "metadata": {
        "id": "Xj0NaveJV_f5"
      }
    },
    {
      "cell_type": "code",
      "source": [
        "# Calcular P(X = 1)\n",
        "x = 1  # Componentes defectuosos que puede haber en la muestra\n",
        "\n",
        "probabilidad = f_prob_hyper(x=x, r = r, n=n, N = N)\n",
        "print (np.round(probabilidad, 4))\n",
        "print(\"La probabilidad de extraer \", x , \" componentes defectuosos de la muestra de \", n, \"es \", np.round(probabilidad * 100, 2), \"%\")\n"
      ],
      "metadata": {
        "colab": {
          "base_uri": "https://localhost:8080/"
        },
        "id": "qRvI361KWAVJ",
        "outputId": "2ca553b6-18ef-43cf-a491-62c5ca974096"
      },
      "execution_count": 21,
      "outputs": [
        {
          "output_type": "stream",
          "name": "stdout",
          "text": [
            "0.3011\n",
            "La probabilidad de extraer  1  componentes defectuosos de la muestra de  5 es  30.11 %\n"
          ]
        }
      ]
    },
    {
      "cell_type": "markdown",
      "source": [
        "### Tabla de probabilidad"
      ],
      "metadata": {
        "id": "ULlfifrKWkaz"
      }
    },
    {
      "cell_type": "code",
      "source": [
        "tabla = f_tabla_hyper(xi, r, n, N)\n",
        "# print(tabla)\n",
        "tabla_html = tabla.to_html(index=False, classes='table table-bordered table-striped')\n",
        "\n",
        "# Imprimir la tabla HTML\n",
        "# Mostrar la tabla directamente\n",
        "display(HTML(tabla_html))"
      ],
      "metadata": {
        "colab": {
          "base_uri": "https://localhost:8080/",
          "height": 237
        },
        "id": "UCHjNGw6WmgQ",
        "outputId": "339c7b8f-08fd-4cf0-91ec-7b1fcf766eb1"
      },
      "execution_count": 22,
      "outputs": [
        {
          "output_type": "display_data",
          "data": {
            "text/plain": [
              "<IPython.core.display.HTML object>"
            ],
            "text/html": [
              "<table border=\"1\" class=\"dataframe table table-bordered table-striped\">\n",
              "  <thead>\n",
              "    <tr style=\"text-align: right;\">\n",
              "      <th>x</th>\n",
              "      <th>P(X = x)</th>\n",
              "      <th>P(X &lt;= x)</th>\n",
              "    </tr>\n",
              "  </thead>\n",
              "  <tbody>\n",
              "    <tr>\n",
              "      <td>0</td>\n",
              "      <td>0.662449</td>\n",
              "      <td>0.662449</td>\n",
              "    </tr>\n",
              "    <tr>\n",
              "      <td>1</td>\n",
              "      <td>0.301113</td>\n",
              "      <td>0.963563</td>\n",
              "    </tr>\n",
              "    <tr>\n",
              "      <td>2</td>\n",
              "      <td>0.035425</td>\n",
              "      <td>0.998988</td>\n",
              "    </tr>\n",
              "    <tr>\n",
              "      <td>3</td>\n",
              "      <td>0.001012</td>\n",
              "      <td>1.000000</td>\n",
              "    </tr>\n",
              "    <tr>\n",
              "      <td>4</td>\n",
              "      <td>0.000000</td>\n",
              "      <td>1.000000</td>\n",
              "    </tr>\n",
              "    <tr>\n",
              "      <td>5</td>\n",
              "      <td>0.000000</td>\n",
              "      <td>1.000000</td>\n",
              "    </tr>\n",
              "  </tbody>\n",
              "</table>"
            ]
          },
          "metadata": {}
        }
      ]
    },
    {
      "cell_type": "markdown",
      "source": [
        "### Valor esperado\n"
      ],
      "metadata": {
        "id": "nwnevcJsWw1o"
      }
    },
    {
      "cell_type": "code",
      "source": [
        "VE = n * (r/N)\n",
        "print (\"Valor esperado : \", np.round(VE, 4))"
      ],
      "metadata": {
        "colab": {
          "base_uri": "https://localhost:8080/"
        },
        "id": "0CByN-WGW20J",
        "outputId": "773e2d17-d4b9-45b3-e132-d11cdd0b8dab"
      },
      "execution_count": 23,
      "outputs": [
        {
          "output_type": "stream",
          "name": "stdout",
          "text": [
            "Valor esperado :  0.375\n"
          ]
        }
      ]
    },
    {
      "cell_type": "markdown",
      "source": [
        "### Varianza"
      ],
      "metadata": {
        "id": "HCyEp08dWy6J"
      }
    },
    {
      "cell_type": "code",
      "source": [
        "varianza = VE * (1 - r/N) * ((N-n) / (N-1))\n",
        "print (\"La varianza es de : \", np.round(varianza, 4))"
      ],
      "metadata": {
        "colab": {
          "base_uri": "https://localhost:8080/"
        },
        "id": "nQuqf_IWW3UY",
        "outputId": "b6d3e3ac-2106-40e9-f8a2-b16bd496ef1e"
      },
      "execution_count": 24,
      "outputs": [
        {
          "output_type": "stream",
          "name": "stdout",
          "text": [
            "La varianza es de :  0.3113\n"
          ]
        }
      ]
    },
    {
      "cell_type": "markdown",
      "source": [
        "### Desviación estándar"
      ],
      "metadata": {
        "id": "gHieZJmbW0aq"
      }
    },
    {
      "cell_type": "code",
      "source": [
        "desv_std = np.sqrt(varianza)\n",
        "print (\"La desviación estándar es de: \", np.round(desv_std, 4))"
      ],
      "metadata": {
        "colab": {
          "base_uri": "https://localhost:8080/"
        },
        "id": "YUIkM2EIW2Ww",
        "outputId": "206737a5-db15-4306-cce8-0e91eec5c8e2"
      },
      "execution_count": 25,
      "outputs": [
        {
          "output_type": "stream",
          "name": "stdout",
          "text": [
            "La desviación estándar es de:  0.5579\n"
          ]
        }
      ]
    },
    {
      "cell_type": "markdown",
      "source": [
        "### Visualizar probabilidad con VE y Desv. Std."
      ],
      "metadata": {
        "id": "Oq_RlA4TXT56"
      }
    },
    {
      "cell_type": "markdown",
      "source": [
        "## Fábrica de fusibles\n",
        "\n",
        "Una empresa fabrica fusibles que empaca en cajas de $N=12$ unidades cada una. Asuma que un inspector selecciona al azar $n=3$ de los $N=12$ fusibles de una caja para inspeccionarlos.\n",
        "\n",
        "Si la caja contiene exactamente $r=5$ fusibles defectuosos,\n",
        "\n",
        "En este ejercicio:\n",
        "\n",
        "- $N=12$ Total de elementos\n",
        "- $n=3$ Extracción de la muestra\n",
        "- $r=5$ Número de casos exitosos\n",
        "- $x$ es la cantidad de fusible defectuosos como variable aleatoria discreta, desde 0\n",
        " hasta $n$. o hasta un valor específico(Anderson, Sweeney, and Williams 2008)."
      ],
      "metadata": {
        "id": "1R3ybsEFaFtU"
      }
    },
    {
      "cell_type": "code",
      "source": [
        "f_graficos_probabilidad_discreta_VE_ds(tabla, VE, desv_std)"
      ],
      "metadata": {
        "colab": {
          "base_uri": "https://localhost:8080/",
          "height": 407
        },
        "id": "qZQtkHLhXYc4",
        "outputId": "b60f2f5a-ae20-44e7-c4db-7db42d051689"
      },
      "execution_count": 26,
      "outputs": [
        {
          "output_type": "display_data",
          "data": {
            "text/plain": [
              "<Figure size 1000x400 with 1 Axes>"
            ],
            "image/png": "[encoded data removed]"
          },
          "metadata": {}
        }
      ]
    },
    {
      "cell_type": "markdown",
      "source": [
        "## Quejas de consumidores\n",
        "\n",
        "Una empresa de envío de paquetería, recibe quejas de los clientes en relación a su servicio de entrega. Históricamene las quejas son en relación a que los paquetes se entregan en horarios muy tarde (tal vez después de las 8:00 PM), el $50\\%$ de las quejas precisamente son que se hacen entregas muy tarde, el resto de las quejas es de otro tipo de inconformidades.\n",
        "\n",
        "Se hace un estudio de una muestra de $n=5$ del total de $N=30$ quejas que se reciben mensualmente.\n",
        "\n",
        "- ¿Cuál es la probabilidad de que de esas quejas de los clientes existan 2 que sean por cuestiones de que la entrega se hace muy tarde?, $f(x=2)$.\n",
        "- ¿Cuál es la probabilidad de recibir mas de dos quejas $F(x>2)$ por cuestiones de que la entrega se hace muy tarde?, $f(x=2)$.\n",
        "- ¿Cuál es el valor esperado de quejas por concepto de entrega tardía?\n",
        "- ¿Cuál es la desviación estándar?\n",
        "\n",
        "**A realizar por el alumno y/o en clase**\n"
      ],
      "metadata": {
        "id": "zIE3RQpPdTSK"
      }
    },
    {
      "cell_type": "markdown",
      "source": [
        "## Estudiante de leyes\n",
        "\n",
        "Un estudiante tiene que preparar $N=50$ temas artículos constitucionales. En el examen se sacan tres a sorteo $n=3$,  de los cuales deberá exponer uno y aprobar al menos uno $f(x=1)$. El estudiante decide estudiar o preparar solamente la mitad y probar suerte. $r=25$.\n",
        "\n",
        "$N=50$ la población; $n=3$ la muestra; $r=25$ los que estudia, son los casos de éxito; $x$ representa cada uno de los temas desde $1$ hasta los que haya estudiado, o sea $x=0,1,2,3 ... 25$\n",
        "\n",
        "- ¿Cuál es la probabilidad de que no apruebe el examen es decir que no pase ningún tema o sea que lo toque los que no haya estudiado?, $f(x=0)$.\n",
        "- ¿Cuál es la probabilidad de que apruebe el examen es decir que sepa un tema?, $f(x=1)$.\n",
        "- ¿Cuál es el valor esperado?\n",
        "- ¿Cuál es la desviación estándar?\n",
        "- ¿Qué significado tienen estos estadísticos?\n",
        "\n",
        "**A realizar por el alumno y/o en clase**"
      ],
      "metadata": {
        "id": "3f-2OBIQdbTY"
      }
    },
    {
      "cell_type": "markdown",
      "source": [
        "# Interpretación del caso\n",
        "\n",
        "- ¿Cómo se interpreta el valor esperado de una distribución discreta como la hipergeométrica u otra distribución discreta como la binomial o la Poisson?\n",
        "- ¿Que significa varianza de una distribución de probabilidad?\n",
        "- ¿Qué significa desviación estándar de una distribución de probabilidad y ¿cuál es la diferencia con la varianza? y ¿qué relación hay con el valor esperado?\n",
        "\n",
        "Responder a las preguntas de probabilidad de cada ejercicio del caso:\n",
        "\n",
        "- Del ejercicio de canicas blancas:\n",
        "  - ¿cual es la probabilida de extraer dos canicas blancas de las 5?. f(x=2).\n",
        "  - ¿cual es la probabilidad de extraer más de 3 canicas blancas de las 5?. $F(x>3)$.\n",
        "  - ¿Qué significado tiene el valor esperado $VE$ y la desviación estándar del ejercicio de canicas?\n",
        "- Del ejercicio de baraja española:\n",
        "  - ¿Cuál es la probabilidad de extraer 2 oros? $f(x=2)$,\n",
        "  - ¿Cuál es la probabilidad de extraer 5 oros? $f(x=4)$,\n",
        "  - ¿Cuál es la probabilidad por debajo de 4 oros? $F(x≤2)$,\n",
        "  - ¿Cuál es la probabilidad de extraer entre 3 y 4 oros?  $F(3≤x≤2)$\n",
        "  - ¿Qué significado tiene el valor esperado $VE$ y la desviación estándar del ejercicio de la baraja española?\n",
        "- Del lote de componentes defectuosos:\n",
        "  - ¿Cuál es la probabilidad de encontrar 0 componentes defectuosos?, $f(x=0)$\n",
        "  - ¿Cuál es la probabilidad de encontrar más de un componente defectuosos?, $F(x>1)$\n",
        "  - ¿Qué significado tiene el valor esperado $VE$ y la desviación estándar del ejercicio de componentes defectuosos?\n",
        "- Del ejercicio de fábrica de fusibles\n",
        "  - ¿Cuál es la probabilidad de que el inspector encuentre que uno de los tres fusibles esté defectuoso? , $f(x=1)$.\n",
        "  - ¿Cuál es la probabilidad de encontrar menos de tres fusibles defectuosos $P(x≤2)=P(X=0)+P(x=1)+P(x=2)$ o la función acumulada hasta tres $F(x=3)$.\n",
        "  - ¿Cuál es el valor esperado del ejercicio de fábrica de fusibles?\n",
        "  - ¿Cuál es la desviación estándar?\n",
        "  - ¿Qué significado tiene el valor esperado $VE$ y la desviación estándar en el ejercicio de fábrica de fusibles?\n",
        "- Quejas de consumidores\n",
        "  - ¿Cuál es la probabilidad de que de esas quejas de los clientes existan 2 que sean por cuestiones de que la entrega se hace muy tarde?,  f(x=2) .\n",
        "  - ¿Cuál es la probabilidad de recibir mas de dos quejas  F(x>2)  por cuestiones de que la entrega se hace muy tarde?,  f(x=2) .\n",
        "  - ¿Cuál es el valor esperado de quejas por concepto de entrega tardía?\n",
        "  - ¿Cuál es la desviación estándar?\n",
        "- Del ejercicio del estudiante de leyes:\n",
        "  - ¿Cuál es la probabilidad de que no apruebe el examen es decir que no pase ningún tema o sea que lo toque los que no haya estudiado?, $f(x=0)$.\n",
        "  - ¿Cuál es la probabilidad de que apruebe el examen es decir que sepa un tema?, $f(x=1)$.\n",
        "  - ¿Cuál es el valor esperado?\n",
        "  - ¿Cuál es la desviación estándar?\n",
        "  - ¿Qué significado tienen estos estadísticos?\n",
        "  \n"
      ],
      "metadata": {
        "id": "SS0ZpG9syv2k"
      }
    },
    {
      "cell_type": "markdown",
      "source": [
        "# Bibliografía\n",
        "\n",
        "- Anderson, David R., Dennis J. Sweeney, and Thomas A. Williams. 2008. Estadística Para Administración y Economía. 10th ed. Australia • Brasil • Corea • España • Estados Unidos • Japón • México • Reino Unido • Singapur: Cengage Learning,.\n",
        "\n",
        "- Camacho Avila, Marcela. 2019. “Probabilidad y Estadística. Modelos Probabilísticos.” 2019. http://148.215.1.182/bitstream/handle/20.500.11799/108238/secme-34236_1.pdf?sequence=1.\n",
        "\n",
        "- Cañas, Juan. s.f. Distribución hipergeométrica. https://proyectodescartes.org/iCartesiLibri/materiales_didacticos/EstadisticaProbabilidadInferencia/VAdiscreta/4_1DistribucionHipergeometrica/index.html\n",
        "\n",
        "- Walpole, Ronald E., Raymond H. Myers, and Sharon L. Myers. 2012. Probabilidad y Estadística Para Ingeniería y Ciencias. Novena Edición. México: Pearson.\n",
        "\n",
        "- https://rpubs.com/rpizarro/1045192"
      ],
      "metadata": {
        "id": "AwkDQcMHy3iZ"
      }
    }
  ]
}