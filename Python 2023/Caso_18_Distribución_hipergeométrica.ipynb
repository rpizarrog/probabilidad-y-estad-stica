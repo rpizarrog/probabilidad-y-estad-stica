{
  "nbformat": 4,
  "nbformat_minor": 0,
  "metadata": {
    "colab": {
      "provenance": [],
      "authorship_tag": "ABX9TyPfh/awe2+BvwglcbYgoQgo",
      "include_colab_link": true
    },
    "kernelspec": {
      "name": "python3",
      "display_name": "Python 3"
    },
    "language_info": {
      "name": "python"
    }
  },
  "cells": [
    {
      "cell_type": "markdown",
      "metadata": {
        "id": "view-in-github",
        "colab_type": "text"
      },
      "source": [
        "<a href=\"https://colab.research.google.com/github/rpizarrog/probabilidad-y-estad-stica/blob/master/Python%202023/Caso_18_Distribuci%C3%B3n_hipergeom%C3%A9trica.ipynb\" target=\"_parent\"><img src=\"https://colab.research.google.com/assets/colab-badge.svg\" alt=\"Open In Colab\"/></a>"
      ]
    },
    {
      "cell_type": "markdown",
      "source": [
        "# Distribución hipergeométrica\n",
        "\n",
        "# Objetivo\n",
        "\n",
        "Calcular probabilidades, valor esperado y dispersión de datos de una distribución hipergeométrica.\n",
        "\n",
        "# Descripción\n",
        "\n",
        "Realizar cálculos de probabilidad conforme a la distribución de probabilidad hipergeométrica a partir de valores iniciales de los ejercicios.\n",
        "\n",
        "Se generan las tablas de probabilidad conforme a distribución hipergeométrica, se identifican los valores de probabilidad cuando la variable discreta $x$ tenga algún exactamente algún valor, $\\leq$ a algún valor o $\\gt$ o $\\geq$, entre otros.\n",
        "\n",
        "Se calcula valor esperado, varianza y desviación estándar de ejercicios con características de distribuciones hipergeométrica.\n",
        "\n"
      ],
      "metadata": {
        "id": "NDE22uDpudnz"
      }
    },
    {
      "cell_type": "markdown",
      "source": [
        "# Fundamento teórico\n",
        "\n",
        "La distribución de probabilidad hipergeométrica está estrechamente relacionada con la distribución binomial. Pero difieren en dos puntos: en la distribución hipergeométrica, los ensayos no son independientes y la probabilidad de éxito varía de ensayo a ensayo [@anderson2008].\n",
        "\n",
        "La distribución de probabilidad de la variable aleatoria hipergeométrica $x$, el número de éxitos en una muestra aleatoria de tamaño $n$ que se selecciona de $N$ artículos, en los que $k$ se denomina éxito y $N - k$ se le llama fracaso [@camacho_avila_probabilidad_2019].\n",
        "\n",
        "La distribución hipergeométrica es especialmente útil en todos aquellos casos en los que se extraigan muestras o se realicen experiencias repetidas sin devolución del elemento extraído o sin retornar a la situación experimental inicial\n",
        "\n",
        "Es una distribución fundamental en el estudio de muestras pequeñas de poblaciones y en el cálculo de probabilidades de juegos de azar. Tiene grandes aplicaciones en el control de calidad, para procesos experimentales en los que no es posible retornar a la situación de partida [@cañas].\n",
        "\n",
        "Como en el caso de la distribución binomial, la distribución hipergeométrica se aplica en el muestreo de aceptación, donde se toman muestras del material o las partes de los lotes con el fin de determinar si se acepta o no el lote completo [@walpole2012].\n",
        "\n",
        "En Python se puede utilizar la biblioteca *scipy.stats* para trabajar con distribuciones hipergeométricas.\n",
        "\n",
        "La distribución hipergeométrica se utiliza para modelar situaciones donde se extraen elementos sin reemplazo de un conjunto finito.\n",
        "\n",
        "- La función *hypergeom.rvs(M=K, n=n, N=N, *size=5) permite generar números aleatorios,\n",
        "\n",
        "- La función *hypergeom.pmf(x, M=K, n=n, N=N)* permite para calcular la densidad de probabilidad,\n",
        "\n",
        "- La función *hypergeom.cdf(x, M=K, n=n, N=N)* calcula la probabilidad acumulada de una distribución hipergeométrica\n",
        "\n",
        "\n"
      ],
      "metadata": {
        "id": "mHFMYiDIuqeq"
      }
    },
    {
      "cell_type": "markdown",
      "source": [
        "## Fórmulas de distribución hipergeométrica\n",
        "\n",
        "\n",
        "### Fórmula de probabilidad\n",
        "\n",
        "La fórmula de la distribución hipergeométrica\n",
        "\n",
        "$$f(x) =  \\frac{\\binom{r}{x} \\cdot \\binom{N-r}{n-x}}{\\binom{N}{n}}   $$\n",
        "\n",
        "Dónde:\n",
        "\n",
        "-   $f(x)$ es la probabilidad de $x$ o la función de distribución\n",
        "\n",
        "-   $n$ número de ensayos o longitud de la muestra casos que se extraen\n",
        "\n",
        "-   $N$ número de elementos de la población\n",
        "\n",
        "-   $r$ número de elementos exitosos en relación a la población\n",
        "\n",
        "-   $x$ Valor de la variable aleatoria discreta $0,1,2,3, ... ...,n.muestra$ hasta el valor $n$ de la muestra [@anderson_estadistica_2008].\n",
        "\n",
        "-   ${\\binom{r}{x}}$ Parte izquierda del numerador, representan el número de formas (combinaciones) en que se toman $x$ éxitos de un total de $r$ éxitos que hay en la población,\n",
        "\n",
        "-   $\\binom{N-r}{n-x}$ parte derecha del numerador representa el número de maneras en que se puede tomar $n - x$ fracasos de un total de $N - r$ elementos que hay en la población.\n",
        "\n",
        "-   $\\binom{N}{n}$ como denominador representan el número de maneras (cantidad de combinaciones) en que es posible tomar una muestra de tamaño $n$ de una población de tamaño $N$; [@anderson_estadistica_2008].\n",
        "\n",
        "Recordando la fórmula para determinar el número de combinaciones en grupos de $n$ elementos de una población total de $N$ está dada por:\\\n",
        "$$C_{n}^{N} = \\binom{N}{n} = \\frac{N!}{n!\\cdot(N-n)!}$$\n",
        "\n",
        "Entonces desarrollando la fórmula con las combinaciones la función de probabilidad hipergeométrica queda de la siguiente manera:\n",
        "\n",
        "$$\n",
        "f(x) = \\frac{\\binom{r}{x} \\cdot \\binom{N-r}{n-x}}{\\binom{N}{n}} = \\frac{ (\\frac{r!}{x!\\cdot(r-x)!})\\cdot(\\frac{(N-r)!}{(n-x)!\\cdot((N-r) - (n-x))!})}{\\frac{N!}{n!\\cdot(N-n)!}}\n",
        "$$\n",
        "\n",
        "- $N$ es el tamaño de población,\n",
        "\n",
        "- $n$ es el tamaño de la muestra extraída,\n",
        "\n",
        "- $r$ es el número de elementos en la población original que pertenecen a la categoría deseada (exitosos) y\n",
        "\n",
        "- $x$ es la variable aleatoria o el número de elementos en la muestra que pertenecen a dicha categoría.\n",
        "\n",
        "### Fórmula de probabilidad acumulada\n",
        "\n",
        "$$\n",
        "F(x) =\n",
        "\\sum_{0}^{n}f.x_i\n",
        "$$\n",
        "\n",
        "El total de la probabilidad acumulada debe ser $1$.\n",
        "\n",
        "### Valor esperado\n",
        "\n",
        "El valor esperado significa lo que se espera que suceda como estimación promedio o esperanza media en una distribución de tipo discreta como la hipergeométrica o la binomia o la Poisson entre otras.\n",
        "$$\n",
        "VE(x) = \\mu = n  \\cdot \\frac{r}{N}\n",
        "$$\n",
        "\n",
        "\n",
        "### Fórmula para varianza\n",
        "\n",
        "$$\n",
        "varianza = \\sigma^{2} = n  \\cdot \\frac{r}{N} \\cdot (1 - \\frac{r}{N}) \\cdot \\frac{N-n}{N-1}\n",
        "$$\n",
        "\n",
        "### Fórmula de la desviación estándar\n",
        "\n",
        "$$\n",
        "\\sigma = \\sqrt{varianza} = \\sqrt{\\sigma^{2}}\n",
        "$$"
      ],
      "metadata": {
        "id": "47GToZj7wqDT"
      }
    },
    {
      "cell_type": "markdown",
      "source": [
        "# Desarrollo\n",
        "\n"
      ],
      "metadata": {
        "id": "c8jvTV8-wxCR"
      }
    },
    {
      "cell_type": "markdown",
      "source": [
        "## Cargar librerías\n"
      ],
      "metadata": {
        "id": "WKcsXYbKwyVj"
      }
    },
    {
      "cell_type": "code",
      "source": [
        "# Pendiente\n",
        "# Se cargan librerías adecuadas\n",
        "import numpy as np\n",
        "import matplotlib.pyplot as plt\n",
        "from scipy.stats import hypergeom\n",
        "from scipy.special import comb # Para combinaciones\n",
        "\n",
        "import pandas as pd\n",
        "\n",
        "from IPython.display import display, HTML # Para ver HTML\n"
      ],
      "metadata": {
        "id": "h_hToYhLw0Xq"
      },
      "execution_count": 9,
      "outputs": []
    },
    {
      "cell_type": "markdown",
      "source": [
        "## Cargar funciones\n"
      ],
      "metadata": {
        "id": "mqLbW6vGw1k4"
      }
    },
    {
      "cell_type": "code",
      "source": [
        "def f_prob_hyper(x, r, n, N):\n",
        "  probabilidad = (comb(r, x) * comb(N - r, n - x)) / comb(N, n)\n",
        "  return probabilidad\n",
        "\n",
        "def f_tabla_hyper (xi, r, n, N):\n",
        "  # Calcular las probabilidades para cada valor de xi\n",
        "\n",
        "  probabilidades = [hypergeom.pmf(x, M=N, n=r, N=n) for x in xi]\n",
        "  # Calcular las probabilidades acumuladas\n",
        "  probabilidades_acumuladas = [hypergeom.cdf(x, M=N, n=r, N=n) for x in xi]\n",
        "\n",
        "  # Crear un DataFrame para la tabla de probabilidades\n",
        "  tabla_probabilidades = pd.DataFrame({'x': xi, 'P(X = x)': probabilidades, 'P(X <= x)': probabilidades_acumuladas})\n",
        "\n",
        "  # Mostrar la tabla de probabilidades\n",
        "  #print(tabla_probabilidades)\n",
        "  return (tabla_probabilidades)\n",
        "def f_graficos_probabilidad_discreta(tabla):\n",
        "    # Crear un DataFrame a partir de la tabla de probabilidad\n",
        "    df = pd.DataFrame(tabla)\n",
        "\n",
        "    # Gráfico de barras de probabilidad\n",
        "    plt.figure(figsize=(10, 4))\n",
        "    plt.subplot(1, 2, 1)\n",
        "    plt.bar(df.index, df['P(X = x)'], color='skyblue')\n",
        "    plt.xticks(df.index, df['x'])  # Establecer etiquetas personalizadas en el eje x\n",
        "    plt.xlabel('x')\n",
        "    plt.ylabel('Probabilidad')\n",
        "    plt.title('Gráfico de Barras de Probabilidad')\n",
        "\n",
        "    # Gráfico lineal de probabilidad acumulada\n",
        "    plt.subplot(1, 2, 2)\n",
        "    plt.plot(df.index, df['P(X <= x)'], marker='o', color='green')\n",
        "    plt.xticks(df.index, df['x'])  # Establecer etiquetas personalizadas en el eje x\n",
        "    plt.xlabel('x')\n",
        "    plt.ylabel('Probabilidad Acumulada')\n",
        "    plt.title('Gráfico Lineal de Probabilidad Acumulada')\n",
        "\n",
        "    plt.tight_layout()\n",
        "    plt.show()\n",
        "\n",
        "def f_graficos_probabilidad_discreta_VE_ds(tabla, VE, ds):\n",
        "    # Crear un DataFrame a partir de la tabla de probabilidad\n",
        "    df = pd.DataFrame(tabla)\n",
        "\n",
        "    # Gráfico de barras de probabilidad\n",
        "    plt.figure(figsize=(10, 4))\n",
        "    plt.subplot(1, 2, 1)\n",
        "    plt.bar(df.index, df['P(X = x)'], color='skyblue')\n",
        "\n",
        "    # El Valor esperado y desviación izq y der\n",
        "    # Agregar una línea punteada\n",
        "    plt.axvline(x=VE, color='red', linestyle='--', label='VE='+str(np.round(VE, 2)))\n",
        "    plt.axvline(x=VE - ds, color='blue', linestyle='--', label='Desv. Std='+str(np.round(ds, 2)))\n",
        "    plt.axvline(x=VE + ds, color='blue', linestyle='--')\n",
        "\n",
        "    plt.xticks(df.index, df['x'])  # Establecer etiquetas personalizadas en el eje x\n",
        "    plt.xlabel('x')\n",
        "    plt.ylabel('Probabilidad')\n",
        "    plt.title('Gráfico de Barras de Probabilidad con VE y Desv Std.')\n",
        "\n",
        "    plt.tight_layout()\n",
        "    plt.legend()\n",
        "    plt.show()"
      ],
      "metadata": {
        "id": "mVxhSM3Qw3fp"
      },
      "execution_count": 8,
      "outputs": []
    },
    {
      "cell_type": "markdown",
      "source": [
        "## Canicas blancas y canicas negras\n",
        "\n",
        "-   $N=15$ Total de canicas de la población.\n",
        "\n",
        "-   $r = 9$ Canicas blancas. Casos exitosos.\n",
        "\n",
        "-   $n =$ Cantidad que se extrae $5$. Tamaño de la muestra.\n",
        "\n",
        "-   $x_i=\\text{{0, 1, 2, 3, 4, 5}}$ Variable aleatoria que puede tener valores desde $0$ hasta tamaño de la muestra $n$."
      ],
      "metadata": {
        "id": "cx7zSfpU6BPN"
      }
    },
    {
      "cell_type": "markdown",
      "source": [
        "### Inicializar variables\n"
      ],
      "metadata": {
        "id": "n9V9cdkK6wSD"
      }
    },
    {
      "cell_type": "code",
      "source": [
        "r = 9   # Número total de canicas blancas (éxito) en la población\n",
        "N = 15  # Tamaño total de la población\n",
        "n = 5   # Tamaño de la muestra\n",
        "xi = [0, 1, 2, 3, 4, 5]\n",
        "print (\"Inicialización de variables\")\n",
        "print (\"r es el número de casos de (éxito) en la población: \", r)\n",
        "print (\"N es el tamaño total de la población: \", N)\n",
        "print (\"n es el tamaño de la muestra: \", n)\n",
        "print (\"Valores de x \", xi)"
      ],
      "metadata": {
        "id": "l0TzAQNe6y2z",
        "colab": {
          "base_uri": "https://localhost:8080/"
        },
        "outputId": "f52dd1bc-0b0f-4ab1-88c6-1cc07bc397ab"
      },
      "execution_count": 6,
      "outputs": [
        {
          "output_type": "stream",
          "name": "stdout",
          "text": [
            "Inicialización de variables\n",
            "r es el número de casos de (éxito) en la población:  9\n",
            "N es el tamanño total de la población:  15\n",
            "n es el tamaño de la muestra:  5\n",
            "Valores de x  [0, 1, 2, 3, 4, 5]\n"
          ]
        }
      ]
    },
    {
      "cell_type": "markdown",
      "source": [
        "### Calcular probabilidad para f(x=3)\n",
        "\n",
        "Llamando la función *f_prob_hype()* que multiplica combinaciones.\n",
        "\n",
        "Con la función de probabilidad hipergeométrica *hypergeom.pmf(x, M=N, n=r, N=n)*, las literales que se utilizan como parámetros hay que alinearlos conforme a los argumentos que serían las variables incialmente definidas.\n",
        "\n",
        "- El parámetro *M* es el tamaño de la población o sea *N* como argumento.\n",
        "- El parmaétro *n* son los casos exitosos o sea *r* como argumento.\n",
        "- *N* es el tamaño de la muestra o sea *n* en el argumento.\n"
      ],
      "metadata": {
        "id": "1tHfpfHb__VN"
      }
    },
    {
      "cell_type": "code",
      "source": [
        "\n",
        "# Calcular P(X = 3)\n",
        "x = 3  # Número de canicas blancas que úede haber en la muestra\n",
        "\n",
        "probabilidad = f_prob_hyper(x=3, r = 9, n=5, N = 15)\n",
        "print (np.round(probabilidad, 4))\n",
        "print(\"La probabilidad de extraer \", x , \" canicas blancas de la muestra de \", n, \"es \", np.round(probabilidad * 100, 2), \"%\")\n",
        "\n",
        "# Se debe generar el mismo valor, se actualiza la variable probabilidad\n",
        "probabilidad = hypergeom.pmf(x, M=N, n=r, N=n)\n",
        "print (\"Deben ser el mismo valor: ...\")\n",
        "print(\"La probabilidad de extraer \", x , \" canicas blancas de la muestra de \", n, \"es \", np.round(probabilidad * 100, 2), \"%\")\n",
        "\n"
      ],
      "metadata": {
        "colab": {
          "base_uri": "https://localhost:8080/"
        },
        "id": "jYr-ZAyn9d6t",
        "outputId": "5eb0fa37-6adc-4a4c-ee49-5934e2bd170d"
      },
      "execution_count": 13,
      "outputs": [
        {
          "output_type": "stream",
          "name": "stdout",
          "text": [
            "0.4196\n",
            "La probabilidad de extraer  3  canicas blancas de la muestra de  5 es  41.96 %\n",
            "Deben ser el mismo valor: ...\n",
            "La probabilidad de extraer  3  canicas blancas de la muestra de  5 es  41.96 %\n"
          ]
        }
      ]
    },
    {
      "cell_type": "markdown",
      "source": [
        "### Crear tabla de distribución\n",
        "\n",
        "Se construye tabla de distribucion con la función *f_tabla_hyper()* previamente codificada"
      ],
      "metadata": {
        "id": "eObc_AQz6z36"
      }
    },
    {
      "cell_type": "code",
      "source": [
        "tabla = f_tabla_hyper(xi, r, n, N)\n",
        "# print(tabla)\n",
        "tabla_html = tabla.to_html(index=False, classes='table table-bordered table-striped')\n",
        "\n",
        "# Imprimir la tabla HTML\n",
        "# Mostrar la tabla directamente\n",
        "display(HTML(tabla_html))"
      ],
      "metadata": {
        "colab": {
          "base_uri": "https://localhost:8080/",
          "height": 237
        },
        "id": "u4N3jwNA62dn",
        "outputId": "500f1e42-1c89-41be-8ab3-e3d902190195"
      },
      "execution_count": null,
      "outputs": [
        {
          "output_type": "display_data",
          "data": {
            "text/plain": [
              "<IPython.core.display.HTML object>"
            ],
            "text/html": [
              "<table border=\"1\" class=\"dataframe table table-bordered table-striped\">\n",
              "  <thead>\n",
              "    <tr style=\"text-align: right;\">\n",
              "      <th>x</th>\n",
              "      <th>P(X = x)</th>\n",
              "      <th>P(X &lt;= x)</th>\n",
              "    </tr>\n",
              "  </thead>\n",
              "  <tbody>\n",
              "    <tr>\n",
              "      <td>0</td>\n",
              "      <td>0.001998</td>\n",
              "      <td>0.001998</td>\n",
              "    </tr>\n",
              "    <tr>\n",
              "      <td>1</td>\n",
              "      <td>0.044955</td>\n",
              "      <td>0.046953</td>\n",
              "    </tr>\n",
              "    <tr>\n",
              "      <td>2</td>\n",
              "      <td>0.239760</td>\n",
              "      <td>0.286713</td>\n",
              "    </tr>\n",
              "    <tr>\n",
              "      <td>3</td>\n",
              "      <td>0.419580</td>\n",
              "      <td>0.706294</td>\n",
              "    </tr>\n",
              "    <tr>\n",
              "      <td>4</td>\n",
              "      <td>0.251748</td>\n",
              "      <td>0.958042</td>\n",
              "    </tr>\n",
              "    <tr>\n",
              "      <td>5</td>\n",
              "      <td>0.041958</td>\n",
              "      <td>1.000000</td>\n",
              "    </tr>\n",
              "  </tbody>\n",
              "</table>"
            ]
          },
          "metadata": {}
        }
      ]
    },
    {
      "cell_type": "markdown",
      "source": [
        "### Visualizar probabilidades\n",
        "\n"
      ],
      "metadata": {
        "id": "-M6Zyf54F1pG"
      }
    },
    {
      "cell_type": "code",
      "source": [
        "f_graficos_probabilidad_discreta(tabla)"
      ],
      "metadata": {
        "colab": {
          "base_uri": "https://localhost:8080/",
          "height": 407
        },
        "id": "RjylO07tF48V",
        "outputId": "ea171450-260c-4b94-f39d-7862842d0702"
      },
      "execution_count": null,
      "outputs": [
        {
          "output_type": "display_data",
          "data": {
            "text/plain": [
              "<Figure size 1000x400 with 2 Axes>"
            ],
            "image/png": "[encoded data removed]"
          },
          "metadata": {}
        }
      ]
    },
    {
      "cell_type": "markdown",
      "source": [
        "### Valor esperado\n"
      ],
      "metadata": {
        "id": "BJGPAxAtGG8F"
      }
    },
    {
      "cell_type": "code",
      "source": [
        "VE = n * (r/N)\n",
        "print (\"Valor esperado : \", np.round(VE, 4))\n"
      ],
      "metadata": {
        "colab": {
          "base_uri": "https://localhost:8080/"
        },
        "id": "APEnfGBQGY1l",
        "outputId": "50aa9351-c25d-44f9-99cf-fb4d0146b1da"
      },
      "execution_count": null,
      "outputs": [
        {
          "output_type": "stream",
          "name": "stdout",
          "text": [
            "Valor esperado :  3.0\n"
          ]
        }
      ]
    },
    {
      "cell_type": "markdown",
      "source": [
        "Se espera que se obtengan o extraigan $3$ canicas blancas. ¿pero cuánto puede variar?"
      ],
      "metadata": {
        "id": "1qZM_MrXJLUB"
      }
    },
    {
      "cell_type": "markdown",
      "source": [
        "### Varianza\n",
        "\n"
      ],
      "metadata": {
        "id": "W1kKndUDGJRG"
      }
    },
    {
      "cell_type": "code",
      "source": [
        "varianza = VE * (1 - r/N) * ((N-n) / (N-1))\n",
        "varianza\n",
        "\n",
        "print (\"La varianza es de : \", np.round(varianza, 4))"
      ],
      "metadata": {
        "colab": {
          "base_uri": "https://localhost:8080/"
        },
        "id": "1lYv2AokGgHV",
        "outputId": "ae93b7fa-5aab-42d6-fb2f-a001683e0fef"
      },
      "execution_count": null,
      "outputs": [
        {
          "output_type": "stream",
          "name": "stdout",
          "text": [
            "La varianza es de :  0.8571\n"
          ]
        }
      ]
    },
    {
      "cell_type": "markdown",
      "source": [
        "### Desviación estándar\n"
      ],
      "metadata": {
        "id": "6Qm1cqCmGUEk"
      }
    },
    {
      "cell_type": "code",
      "source": [
        "desv_std = np.sqrt(varianza)\n",
        "print (\"La desviación estándar es de: \", np.round(desv_std, 4))"
      ],
      "metadata": {
        "colab": {
          "base_uri": "https://localhost:8080/"
        },
        "id": "8H2-EV_xGc-2",
        "outputId": "4063587e-316f-4fd7-e096-79bc63cdee73"
      },
      "execution_count": null,
      "outputs": [
        {
          "output_type": "stream",
          "name": "stdout",
          "text": [
            "La desviación estándar es de:  0.9258\n"
          ]
        }
      ]
    },
    {
      "cell_type": "markdown",
      "source": [
        "La desviación estándar, significa que de las 3 canicas que se espera que sean blancas puede variar aproximadamente una canica más o una canica menos es decir, tal vez 4 o 2."
      ],
      "metadata": {
        "id": "ivHSQZ1XMnrT"
      }
    },
    {
      "cell_type": "markdown",
      "source": [
        "### Visualizar probabilidades con VE y Desv. Std.\n"
      ],
      "metadata": {
        "id": "7xShUUR_GiOl"
      }
    },
    {
      "cell_type": "code",
      "source": [
        "f_graficos_probabilidad_discreta_VE_ds(tabla, VE, desv_std)"
      ],
      "metadata": {
        "colab": {
          "base_uri": "https://localhost:8080/",
          "height": 407
        },
        "id": "0RSwlZeyGluj",
        "outputId": "021a3bca-651c-4459-b890-0061bb8f80b9"
      },
      "execution_count": null,
      "outputs": [
        {
          "output_type": "display_data",
          "data": {
            "text/plain": [
              "<Figure size 1000x400 with 1 Axes>"
            ],
            "image/png": "[encoded data removed]"
          },
          "metadata": {}
        }
      ]
    },
    {
      "cell_type": "markdown",
      "source": [
        "## Baraja española\n",
        "\n",
        "Suponga la extracción aleatoria de $n = 8$ elementos de un conjunto formado por $N=40$ elementos totales (cartas baraja española) de los cuales $r=10$ son del tipo oros (salir oro) y $30$ son del tipo complementario (no salir oro).\n",
        "\n",
        "Si se realizan las extracciones sin devolver los elementos extraídos y se identifica a $x$\n",
        "al número de elementos del tipo oros que se extraen en las 8 cartas; $x$\n",
        "sigue una distribución hipergeométrica.\n",
        "\n",
        "- ¿Cuál es la probabilidad de extraer 2 oros? $f(x=2)$,\n",
        "- ¿Cuál es la probabilidad de extraer 5 oros? $f(x=4)$,\n",
        "- ¿Cuál es la probabilidad por debajo de 4 oros? $F(x\\le2)$,\n",
        "- ¿Cuál es la probabilidad de extraer entre 3 y 4  oros? $f(3 \\le x \\le 2)$,\n"
      ],
      "metadata": {
        "id": "PyMeZqHJJAhD"
      }
    },
    {
      "cell_type": "markdown",
      "source": [
        "### Inicializar valores\n"
      ],
      "metadata": {
        "id": "9HeyXpeyJe9h"
      }
    },
    {
      "cell_type": "code",
      "source": [
        "r = 10   # Número de casos de (éxito) en la población. Oros\n",
        "N = 15  # Tamaño total de la población\n",
        "n = 8   # Tamaño de la muestra\n",
        "xi = [0, 1, 2, 3, 4, 5, 6, 7, 8]\n",
        "print (\"Inicialización de variables\")\n",
        "print (\"r es el número de casos de (éxito) en la población: \", r)\n",
        "print (\"N es el tamanño total de la población: \", N)\n",
        "print (\"n es el tamaño de la muestra: \", n)\n",
        "print (\"Valores de x \", xi)\n"
      ],
      "metadata": {
        "colab": {
          "base_uri": "https://localhost:8080/"
        },
        "id": "j5UVsOTpJg4_",
        "outputId": "7c85f50d-6254-46d4-97e4-93016234e208"
      },
      "execution_count": 16,
      "outputs": [
        {
          "output_type": "stream",
          "name": "stdout",
          "text": [
            "Inicialización de variables\n",
            "r es el número de casos de (éxito) en la población:  10\n",
            "N es el tamanño total de la población:  15\n",
            "n es el tamaño de la muestra:  8\n",
            "Valores de x  [0, 1, 2, 3, 4, 5, 6, 7, 8]\n"
          ]
        }
      ]
    },
    {
      "cell_type": "markdown",
      "source": [
        "### Calcular probabilidad para f(x=2)"
      ],
      "metadata": {
        "id": "FZ5WuPc8Q9g5"
      }
    },
    {
      "cell_type": "code",
      "source": [
        "# Calcular P(X = 2)\n",
        "x = 3  # Número de oros que puede haber en la muestra\n",
        "\n",
        "probabilidad = f_prob_hyper(x=x, r = r, n=n, N = N)\n",
        "print (np.round(probabilidad, 4))\n",
        "print(\"La probabilidad de extraer \", x , \" oros de la muestra de \", n, \"es \", np.round(probabilidad * 100, 2), \"%\")\n"
      ],
      "metadata": {
        "colab": {
          "base_uri": "https://localhost:8080/"
        },
        "id": "MUEtGePaREbQ",
        "outputId": "e33889c6-8597-4f47-d18f-2f63af96b7d8"
      },
      "execution_count": 17,
      "outputs": [
        {
          "output_type": "stream",
          "name": "stdout",
          "text": [
            "0.0186\n",
            "La probabilidad de extraer  3  oros de la muestra de  8 es  1.86 %\n"
          ]
        }
      ]
    },
    {
      "cell_type": "markdown",
      "source": [
        "### Tabla de probabilidad"
      ],
      "metadata": {
        "id": "J27X1TQRRaD8"
      }
    },
    {
      "cell_type": "code",
      "source": [
        "tabla = f_tabla_hyper(xi, r, n, N)\n",
        "# print(tabla)\n",
        "tabla_html = tabla.to_html(index=False, classes='table table-bordered table-striped')\n",
        "\n",
        "# Imprimir la tabla HTML\n",
        "# Mostrar la tabla directamente\n",
        "display(HTML(tabla_html))"
      ],
      "metadata": {
        "colab": {
          "base_uri": "https://localhost:8080/",
          "height": 331
        },
        "id": "gjuxQs0KRcgC",
        "outputId": "bc54b30f-d3e3-43c7-8f06-cd9cc604103d"
      },
      "execution_count": 18,
      "outputs": [
        {
          "output_type": "display_data",
          "data": {
            "text/plain": [
              "<IPython.core.display.HTML object>"
            ],
            "text/html": [
              "<table border=\"1\" class=\"dataframe table table-bordered table-striped\">\n",
              "  <thead>\n",
              "    <tr style=\"text-align: right;\">\n",
              "      <th>x</th>\n",
              "      <th>P(X = x)</th>\n",
              "      <th>P(X &lt;= x)</th>\n",
              "    </tr>\n",
              "  </thead>\n",
              "  <tbody>\n",
              "    <tr>\n",
              "      <td>0</td>\n",
              "      <td>0.000000</td>\n",
              "      <td>0.000000</td>\n",
              "    </tr>\n",
              "    <tr>\n",
              "      <td>1</td>\n",
              "      <td>0.000000</td>\n",
              "      <td>0.000000</td>\n",
              "    </tr>\n",
              "    <tr>\n",
              "      <td>2</td>\n",
              "      <td>0.000000</td>\n",
              "      <td>0.000000</td>\n",
              "    </tr>\n",
              "    <tr>\n",
              "      <td>3</td>\n",
              "      <td>0.018648</td>\n",
              "      <td>0.018648</td>\n",
              "    </tr>\n",
              "    <tr>\n",
              "      <td>4</td>\n",
              "      <td>0.163170</td>\n",
              "      <td>0.181818</td>\n",
              "    </tr>\n",
              "    <tr>\n",
              "      <td>5</td>\n",
              "      <td>0.391608</td>\n",
              "      <td>0.573427</td>\n",
              "    </tr>\n",
              "    <tr>\n",
              "      <td>6</td>\n",
              "      <td>0.326340</td>\n",
              "      <td>0.899767</td>\n",
              "    </tr>\n",
              "    <tr>\n",
              "      <td>7</td>\n",
              "      <td>0.093240</td>\n",
              "      <td>0.993007</td>\n",
              "    </tr>\n",
              "    <tr>\n",
              "      <td>8</td>\n",
              "      <td>0.006993</td>\n",
              "      <td>1.000000</td>\n",
              "    </tr>\n",
              "  </tbody>\n",
              "</table>"
            ]
          },
          "metadata": {}
        }
      ]
    },
    {
      "cell_type": "markdown",
      "source": [
        "### Visualizar probabilidad"
      ],
      "metadata": {
        "id": "PI4T1orsSSJR"
      }
    },
    {
      "cell_type": "code",
      "source": [
        "f_graficos_probabilidad_discreta(tabla)"
      ],
      "metadata": {
        "colab": {
          "base_uri": "https://localhost:8080/",
          "height": 407
        },
        "id": "UJu6Lb24SXwy",
        "outputId": "450313cf-1461-4536-97d3-6199b520cc35"
      },
      "execution_count": 19,
      "outputs": [
        {
          "output_type": "display_data",
          "data": {
            "text/plain": [
              "<Figure size 1000x400 with 2 Axes>"
            ],
            "image/png": "[encoded data removed]"
          },
          "metadata": {}
        }
      ]
    },
    {
      "cell_type": "markdown",
      "source": [
        "### Valor esperado"
      ],
      "metadata": {
        "id": "QDGWyWssShpB"
      }
    },
    {
      "cell_type": "code",
      "source": [
        "VE = n * (r/N)\n",
        "print (\"Valor esperado : \", np.round(VE, 4))"
      ],
      "metadata": {
        "colab": {
          "base_uri": "https://localhost:8080/"
        },
        "id": "60hzvHqjSp3S",
        "outputId": "e494f056-8347-4177-9274-49f00b58b29f"
      },
      "execution_count": 23,
      "outputs": [
        {
          "output_type": "stream",
          "name": "stdout",
          "text": [
            "Valor esperado :  5.3333\n"
          ]
        }
      ]
    },
    {
      "cell_type": "markdown",
      "source": [
        "### Varianza\n"
      ],
      "metadata": {
        "id": "18lHAtaESjL_"
      }
    },
    {
      "cell_type": "code",
      "source": [
        "varianza = VE * (1 - r/N) * ((N-n) / (N-1))\n",
        "varianza\n",
        "\n",
        "print (\"La varianza es de : \", np.round(varianza, 4))"
      ],
      "metadata": {
        "colab": {
          "base_uri": "https://localhost:8080/"
        },
        "id": "v00DPiQISteA",
        "outputId": "e1a90c51-aa4a-4a71-f67a-af7462bf0b0c"
      },
      "execution_count": 24,
      "outputs": [
        {
          "output_type": "stream",
          "name": "stdout",
          "text": [
            "La varianza es de :  0.8889\n"
          ]
        }
      ]
    },
    {
      "cell_type": "markdown",
      "source": [
        "### Desviación estándar"
      ],
      "metadata": {
        "id": "LRKREH-YSkuo"
      }
    },
    {
      "cell_type": "code",
      "source": [
        "desv_std = np.sqrt(varianza)\n",
        "print (\"La desviación estándar es de: \", np.round(desv_std, 4))"
      ],
      "metadata": {
        "colab": {
          "base_uri": "https://localhost:8080/"
        },
        "id": "pSeukTtLSxQi",
        "outputId": "aec5a2bb-31f8-45fa-b9e2-3dfb9fc3e207"
      },
      "execution_count": 25,
      "outputs": [
        {
          "output_type": "stream",
          "name": "stdout",
          "text": [
            "La desviación estándar es de:  0.9428\n"
          ]
        }
      ]
    },
    {
      "cell_type": "markdown",
      "source": [
        "# Interpretación del caso\n",
        "\n",
        "- ¿Cómo se interpreta el valor esperado de una distribución discreta como la hipergeométrica u otra distribución discreta como la binomial o la Poisson?\n",
        "- ¿Que significa varianza de una distribución de probabilidad?\n",
        "* ¿Qué significa desviación estándar de una distribución de probabilidad y ¿cuál es la diferencia con la varianza? y ¿qué relación hay con el valor esperado?\n",
        "\n",
        "Responder a las preguntas de probabilidad de cada ejercicio del caso:\n",
        "\n",
        "- Del ejercicio de canicas blancas:\n",
        "  - ¿cual es la probabilida de extraer dos canicas blancas de las 5?. f(x=2).\n",
        "  - ¿cual es la probabilidad de extraer más de 3 canicas blancas de las 5?. $F(x>3)$.\n",
        "- Del ejercicio de baraja española:\n",
        "  - ¿Cuál es la probabilidad de extraer 2 oros? $f(x=2)$,\n",
        "  - ¿Cuál es la probabilidad de extraer 5 oros? $f(x=4)$,\n",
        "  - ¿Cuál es la probabilidad por debajo de 4 oros? $F(x≤2)$,\n",
        "  - ¿Cuál es la probabilidad de extraer entre 3 y 4 oros?  $F(3≤x≤2)$\n",
        "\n",
        "\n"
      ],
      "metadata": {
        "id": "SS0ZpG9syv2k"
      }
    },
    {
      "cell_type": "markdown",
      "source": [
        "# Bibliografía\n",
        "\n",
        "- Anderson, David R., Dennis J. Sweeney, and Thomas A. Williams. 2008. Estadística Para Administración y Economía. 10th ed. Australia • Brasil • Corea • España • Estados Unidos • Japón • México • Reino Unido • Singapur: Cengage Learning,.\n",
        "\n",
        "- Camacho Avila, Marcela. 2019. “Probabilidad y Estadística. Modelos Probabilísticos.” 2019. http://148.215.1.182/bitstream/handle/20.500.11799/108238/secme-34236_1.pdf?sequence=1.\n",
        "\n",
        "- Cañas, Juan. s.f. Distribución hipergeométrica. https://proyectodescartes.org/iCartesiLibri/materiales_didacticos/EstadisticaProbabilidadInferencia/VAdiscreta/4_1DistribucionHipergeometrica/index.html\n",
        "\n",
        "- Walpole, Ronald E., Raymond H. Myers, and Sharon L. Myers. 2012. Probabilidad y Estadística Para Ingeniería y Ciencias. Novena Edición. México: Pearson.\n",
        "\n",
        "- https://rpubs.com/rpizarro/1045192"
      ],
      "metadata": {
        "id": "AwkDQcMHy3iZ"
      }
    }
  ]
}