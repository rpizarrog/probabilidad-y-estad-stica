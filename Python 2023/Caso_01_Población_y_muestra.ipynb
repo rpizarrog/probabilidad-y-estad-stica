{
  "nbformat": 4,
  "nbformat_minor": 0,
  "metadata": {
    "colab": {
      "provenance": [],
      "authorship_tag": "ABX9TyPI/Kkv/l5CHExXuLEGuxvr"
    },
    "kernelspec": {
      "name": "python3",
      "display_name": "Python 3"
    },
    "language_info": {
      "name": "python"
    }
  },
  "cells": [
    {
      "cell_type": "markdown",
      "source": [
        "# Objetivo\n",
        "\n",
        "Simular datos de una población y de una muestra describiendo la media poblacional y la media muestral para su adecuada interpretación.\n",
        "\n"
      ],
      "metadata": {
        "id": "dADMTFvwg0aD"
      }
    },
    {
      "cell_type": "markdown",
      "source": [
        "# Desarrollo\n",
        "\n",
        "Construir una población de 650 números con valores entre 18 y 30. Representando edades de personas\n",
        "Determinar una muestra del 10% de la población de dichos edades.\n",
        "\n"
      ],
      "metadata": {
        "id": "bwDxz3RyhRlT"
      }
    },
    {
      "cell_type": "markdown",
      "source": [
        "## Cargar librerías"
      ],
      "metadata": {
        "id": "fj3ZvUJ-hnCL"
      }
    },
    {
      "cell_type": "code",
      "source": [
        "# Cargar librerías\n",
        "\n",
        "import random\n",
        "import numpy as np\n",
        "import pandas as pd\n",
        "\n",
        "random.seed(2023) # Semilla para valores aleatorios"
      ],
      "metadata": {
        "id": "L8sxEBB8hZO4"
      },
      "execution_count": 65,
      "outputs": []
    },
    {
      "cell_type": "markdown",
      "source": [
        "### Generando población de edades\n",
        "\n",
        "La variable población es una lista que contienen 650 elementos generados aleatorioamente y represnta la población de la variable de interés edad.\n"
      ],
      "metadata": {
        "id": "EUPT7sq6mLGO"
      }
    },
    {
      "cell_type": "code",
      "source": [
        "poblacion = []\n",
        "\n",
        "for i in range(650):\n",
        "    edad = random.randint(18, 30)\n",
        "    poblacion.append(edad)\n",
        "\n",
        "print(edades)"
      ],
      "metadata": {
        "colab": {
          "base_uri": "https://localhost:8080/"
        },
        "id": "SrsigvbnmUTN",
        "outputId": "70c65977-b879-4373-db7e-330ae0e35540"
      },
      "execution_count": null,
      "outputs": [
        {
          "output_type": "stream",
          "name": "stdout",
          "text": [
            "[23, 25, 28, 23, 26, 24, 19, 24, 18, 20, 25, 23, 23, 21, 20, 29, 30, 27, 30, 25, 21, 20, 26, 18, 26, 29, 27, 20, 21, 24, 21, 26, 30, 18, 19, 27, 19, 19, 28, 25, 25, 28, 18, 30, 29, 25, 18, 27, 20, 27, 25, 30, 23, 30, 21, 20, 27, 27, 30, 19, 27, 24, 22, 28, 19, 20, 27, 26, 24, 20, 20, 27, 30, 21, 26, 30, 26, 24, 26, 21, 24, 18, 18, 19, 24, 25, 25, 19, 24, 24, 23, 29, 19, 29, 23, 23, 19, 28, 18, 21, 19, 21, 21, 28, 22, 23, 18, 18, 26, 18, 23, 30, 26, 20, 20, 22, 20, 25, 21, 20, 30, 25, 22, 22, 29, 28, 26, 30, 18, 26, 24, 22, 27, 27, 28, 18, 21, 24, 19, 21, 21, 24, 26, 24, 26, 29, 21, 23, 20, 20, 28, 27, 18, 27, 24, 19, 25, 18, 20, 18, 23, 30, 23, 19, 22, 23, 28, 26, 28, 18, 23, 19, 27, 20, 23, 24, 23, 23, 28, 18, 22, 27, 19, 26, 30, 30, 23, 18, 29, 21, 22, 18, 22, 21, 19, 29, 25, 30, 19, 29, 21, 28, 30, 23, 30, 26, 25, 20, 25, 29, 23, 21, 26, 20, 30, 23, 26, 23, 18, 24, 18, 23, 22, 24, 28, 23, 28, 21, 19, 22, 30, 20, 29, 26, 29, 19, 24, 27, 30, 26, 20, 29, 23, 26, 21, 18, 20, 24, 21, 20, 18, 28, 25, 21, 29, 24, 25, 22, 23, 22, 25, 21, 20, 23, 29, 28, 19, 25, 21, 29, 19, 30, 28, 30, 19, 21, 21, 21, 26, 27, 26, 24, 30, 28, 30, 29, 21, 30, 25, 29, 23, 26, 21, 18, 21, 22, 26, 18, 30, 30, 23, 27, 22, 21, 28, 19, 30, 20, 20, 25, 20, 25, 18, 23, 26, 19, 20, 29, 30, 22, 21, 21, 21, 23, 22, 21, 29, 24, 21, 29, 21, 25, 23, 20, 23, 24, 21, 27, 24, 24, 28, 24, 19, 19, 26, 29, 20, 30, 26, 18, 27, 29, 26, 23, 23, 25, 21, 26, 23, 21, 23, 27, 24, 26, 29, 24, 23, 25, 23, 25, 18, 30, 27, 18, 26, 24, 24, 27, 18, 21, 18, 18, 26, 23, 30, 24, 26, 21, 20, 29, 23, 27, 29, 27, 25, 25, 19, 20, 25, 23, 20, 22, 28, 23, 20, 19, 24, 25, 18, 19, 29, 28, 28, 20, 27, 26, 19, 27, 27, 24, 24, 29, 25, 19, 24, 23, 20, 28, 26, 27, 18, 24, 20, 30, 28, 25, 29, 24, 25, 22, 19, 27, 21, 29, 25, 29, 23, 27, 23, 21, 24, 19, 20, 24, 23, 18, 27, 24, 18, 25, 30, 18, 29, 23, 24, 23, 23, 21, 21, 29, 28, 26, 22, 26, 25, 21, 18, 21, 18, 22, 28, 24, 22, 27, 26, 24, 18, 18, 23, 29, 27, 26, 29, 22, 23, 28, 29, 27, 21, 23, 30, 23, 19, 30, 23, 20, 30, 26, 22, 29, 30, 29, 24, 21, 23, 26, 26, 21, 22, 18, 28, 20, 22, 25, 25, 26, 22, 26, 23, 28, 26, 23, 29, 30, 25, 21, 21, 20, 28, 25, 22, 21, 25, 19, 23, 21, 21, 18, 19, 21, 29, 20, 22, 20, 30, 24, 23, 25, 30, 20, 28, 25, 22, 20, 30, 25, 23, 28, 21, 30, 29, 25, 27, 18, 29, 30, 26, 24, 25, 23, 21, 18, 20, 26, 22, 22, 19, 24, 26, 24, 26, 20, 25, 24, 18, 21, 22, 25, 19, 30, 23, 20, 20, 22, 28, 18, 27, 26, 23, 28, 19, 22, 26, 28, 27, 25, 27, 24, 22, 20, 25, 25, 29, 22, 20, 28, 28, 24, 22, 20, 25, 24, 27, 27, 25, 28, 27, 21, 30, 25, 19, 26, 22, 26, 25, 19, 28, 23, 30, 26]\n"
          ]
        }
      ]
    },
    {
      "cell_type": "markdown",
      "source": [
        "Media aritmética de la población\n",
        "\n",
        "$$\n",
        "\\mu = \\sum_{i=1}^{N}=\\frac{x_i}{N}=\\frac{x_1+x_2+x_3+ ... x_{650}}{650}\n",
        "$$\n",
        "\n",
        "\n"
      ],
      "metadata": {
        "id": "lvy3ywyli6ls"
      }
    },
    {
      "cell_type": "code",
      "source": [
        "promedio = sum(poblacion) / 650\n",
        "promedio"
      ],
      "metadata": {
        "colab": {
          "base_uri": "https://localhost:8080/"
        },
        "id": "44SZVlqtjuyF",
        "outputId": "d26cd510-c40a-42ac-c0b0-3eccd3c7aa95"
      },
      "execution_count": null,
      "outputs": [
        {
          "output_type": "execute_result",
          "data": {
            "text/plain": [
              "24.14"
            ]
          },
          "metadata": {},
          "execution_count": 53
        }
      ]
    },
    {
      "cell_type": "code",
      "source": [
        "print(poblacion)"
      ],
      "metadata": {
        "id": "hW_RGTNlkEfU",
        "colab": {
          "base_uri": "https://localhost:8080/"
        },
        "outputId": "67a9e3d9-f0a1-453c-b589-6cfb0f158b6a"
      },
      "execution_count": null,
      "outputs": [
        {
          "output_type": "stream",
          "name": "stdout",
          "text": [
            "[28, 18, 23, 30, 28, 22, 29, 24, 23, 22, 19, 22, 27, 24, 19, 21, 29, 21, 28, 30, 21, 20, 29, 26, 30, 19, 27, 23, 28, 22, 22, 23, 30, 24, 21, 18, 27, 19, 30, 20, 24, 18, 18, 22, 20, 21, 21, 23, 21, 24, 20, 29, 18, 27, 26, 26, 28, 20, 19, 19, 20, 30, 27, 22, 26, 27, 27, 22, 22, 18, 21, 27, 20, 24, 28, 19, 29, 20, 23, 25, 22, 28, 24, 23, 30, 19, 30, 19, 25, 26, 30, 26, 25, 26, 30, 21, 19, 22, 28, 20, 18, 28, 26, 28, 18, 22, 27, 25, 30, 20, 21, 24, 23, 30, 26, 26, 21, 29, 18, 18, 30, 22, 21, 29, 21, 19, 19, 19, 22, 28, 29, 28, 26, 29, 25, 21, 26, 22, 27, 26, 28, 20, 26, 19, 25, 26, 23, 30, 30, 28, 19, 18, 24, 24, 22, 21, 21, 19, 26, 27, 24, 26, 23, 19, 25, 30, 29, 30, 26, 29, 28, 27, 22, 25, 20, 30, 30, 26, 23, 24, 25, 29, 19, 22, 20, 22, 30, 20, 21, 30, 28, 20, 20, 30, 27, 26, 21, 19, 27, 28, 25, 30, 25, 29, 28, 30, 26, 22, 28, 22, 23, 18, 25, 30, 23, 18, 27, 22, 22, 22, 23, 25, 29, 22, 30, 29, 23, 23, 29, 18, 30, 28, 26, 26, 21, 30, 21, 30, 18, 19, 18, 27, 18, 29, 20, 22, 27, 20, 22, 19, 23, 27, 19, 26, 24, 22, 19, 23, 21, 24, 24, 30, 19, 26, 27, 28, 24, 28, 26, 21, 19, 24, 26, 26, 21, 30, 23, 23, 25, 20, 29, 30, 19, 19, 18, 26, 24, 21, 22, 26, 20, 29, 24, 30, 18, 22, 26, 24, 20, 28, 22, 21, 20, 18, 25, 28, 30, 18, 28, 19, 18, 29, 27, 24, 22, 27, 20, 21, 28, 27, 19, 28, 29, 25, 25, 23, 29, 27, 18, 26, 20, 22, 30, 22, 25, 24, 21, 30, 22, 19, 18, 19, 30, 25, 19, 21, 18, 26, 30, 28, 26, 20, 29, 24, 23, 24, 19, 18, 18, 22, 27, 29, 26, 25, 20, 22, 21, 21, 28, 23, 24, 24, 23, 24, 24, 18, 22, 20, 29, 19, 28, 18, 25, 26, 21, 30, 23, 22, 22, 25, 24, 20, 20, 21, 28, 27, 28, 28, 21, 19, 28, 24, 26, 28, 24, 29, 28, 23, 19, 22, 24, 24, 30, 30, 27, 24, 20, 20, 29, 18, 24, 27, 26, 22, 30, 30, 27, 27, 20, 25, 21, 30, 27, 21, 26, 26, 25, 22, 26, 21, 22, 27, 29, 30, 26, 30, 25, 30, 18, 18, 23, 22, 25, 28, 29, 25, 28, 21, 27, 30, 18, 27, 18, 26, 28, 27, 20, 29, 22, 25, 28, 24, 24, 23, 29, 18, 23, 24, 26, 27, 27, 26, 24, 24, 20, 19, 30, 28, 20, 29, 20, 22, 23, 29, 18, 28, 25, 23, 18, 19, 18, 22, 18, 19, 19, 21, 28, 25, 19, 21, 18, 24, 22, 28, 24, 27, 18, 29, 20, 29, 26, 28, 30, 18, 26, 21, 28, 18, 18, 24, 22, 30, 27, 25, 21, 23, 18, 27, 27, 25, 23, 18, 18, 21, 23, 20, 22, 27, 22, 25, 25, 29, 29, 29, 23, 27, 18, 24, 27, 24, 19, 25, 28, 25, 22, 24, 27, 27, 30, 29, 25, 28, 26, 23, 27, 29, 20, 30, 28, 24, 29, 24, 30, 23, 22, 18, 24, 24, 24, 27, 30, 24, 18, 21, 19, 27, 23, 29, 27, 26, 29, 24, 24, 24, 19, 19, 25, 27, 18, 25, 21, 22, 27, 23, 24, 26, 23, 20, 18, 24, 27, 29, 30, 19, 23, 27, 27, 25, 20, 29, 27, 28, 18, 22, 26, 21, 18, 30, 20, 21, 20, 27, 27, 29, 28, 29, 27, 27, 27, 29]\n"
          ]
        }
      ]
    },
    {
      "cell_type": "code",
      "source": [
        "# Calcular la media o el promedio utilizando NumPy y l afunción mean()\n",
        "mean_edades = np.mean(poblacion)\n",
        "print (mean_edades)\n"
      ],
      "metadata": {
        "colab": {
          "base_uri": "https://localhost:8080/"
        },
        "id": "nMgZQbuulPW1",
        "outputId": "3f71ae6a-a9fe-4ab4-bafd-49162a41a2e9"
      },
      "execution_count": 70,
      "outputs": [
        {
          "output_type": "stream",
          "name": "stdout",
          "text": [
            "24.14\n"
          ]
        }
      ]
    },
    {
      "cell_type": "markdown",
      "source": [
        "Describir los datos con la función describe()\n",
        "\n",
        "Se convierte antes la lista de población a un conjunto de datos data.frame llamado df_edades.\n",
        "\n",
        "La función describe arroja parámetros tales como la cantidd de elementos count, el valor mínimo y máximo, los cuartiles, la media y la desviación estándar."
      ],
      "metadata": {
        "id": "9JhtZI2qx_Pn"
      }
    },
    {
      "cell_type": "code",
      "source": [
        "df_edades = pd.DataFrame(poblacion, columns=[\"edades\"])\n",
        "\n",
        "# Obtener el resumen estadístico utilizando describe()\n",
        "resumen_estadistico = df_edades[\"edades\"].describe()\n",
        "\n",
        "print(resumen_estadistico)"
      ],
      "metadata": {
        "colab": {
          "base_uri": "https://localhost:8080/"
        },
        "id": "wYcxn9nQr3PQ",
        "outputId": "7c8a51bd-1704-4306-c91e-3ffc9c6427b4"
      },
      "execution_count": 73,
      "outputs": [
        {
          "output_type": "stream",
          "name": "stdout",
          "text": [
            "count    650.000000\n",
            "mean      24.140000\n",
            "std        3.785517\n",
            "min       18.000000\n",
            "25%       21.000000\n",
            "50%       24.000000\n",
            "75%       27.000000\n",
            "max       30.000000\n",
            "Name: edades, dtype: float64\n"
          ]
        }
      ]
    },
    {
      "cell_type": "markdown",
      "source": [
        "### Generando una muestra del 10% a partir de datos de la población\n",
        "\n"
      ],
      "metadata": {
        "id": "cgK8nCLqmdHE"
      }
    },
    {
      "cell_type": "code",
      "source": [
        "muestra = random.sample(poblacion, 65)\n",
        "print(muestra)"
      ],
      "metadata": {
        "colab": {
          "base_uri": "https://localhost:8080/"
        },
        "id": "9ZgZKX7gm9zd",
        "outputId": "45749a11-59e7-4b16-b015-42d29fce09a2"
      },
      "execution_count": 64,
      "outputs": [
        {
          "output_type": "stream",
          "name": "stdout",
          "text": [
            "[20, 21, 21, 27, 27, 22, 21, 27, 26, 19, 18, 23, 23, 28, 19, 18, 25, 21, 18, 24, 27, 20, 28, 20, 28, 26, 22, 28, 24, 22, 20, 25, 24, 18, 23, 19, 24, 18, 27, 20, 19, 19, 21, 19, 28, 28, 20, 27, 30, 20, 27, 24, 23, 22, 27, 20, 26, 30, 19, 21, 26, 18, 24, 28, 19]\n"
          ]
        }
      ]
    },
    {
      "cell_type": "markdown",
      "source": [
        "Estadísiticos de la muestra media aritmética\n",
        "\n",
        "$$\n",
        "\\bar{x}=\\sum_{i=1}^{n}= \\frac{x_i}{n}\n",
        "$$\n"
      ],
      "metadata": {
        "id": "ZMpnZO7dnCRM"
      }
    },
    {
      "cell_type": "code",
      "source": [
        "n = 65\n",
        "promedio_muestra = sum(muestra) / (n)\n",
        "print(promedio_muestra)\n"
      ],
      "metadata": {
        "colab": {
          "base_uri": "https://localhost:8080/"
        },
        "id": "2v129lv1nGcc",
        "outputId": "3b786cef-6cd7-4b3a-e10b-6a92d4e51785"
      },
      "execution_count": null,
      "outputs": [
        {
          "output_type": "stream",
          "name": "stdout",
          "text": [
            "23.76923076923077\n"
          ]
        }
      ]
    },
    {
      "cell_type": "code",
      "source": [
        "print(mean(muestra))"
      ],
      "metadata": {
        "colab": {
          "base_uri": "https://localhost:8080/"
        },
        "id": "0TeU0ZthnaLm",
        "outputId": "7fe5e16c-5035-4781-82fc-5c757f5baa98"
      },
      "execution_count": 74,
      "outputs": [
        {
          "output_type": "stream",
          "name": "stdout",
          "text": [
            "23.015384615384615\n"
          ]
        }
      ]
    },
    {
      "cell_type": "markdown",
      "source": [
        "### Estadísticos con describe()\n",
        "\n",
        "Se generan los estadísticos de la muestra"
      ],
      "metadata": {
        "id": "9Cnedkw6zITp"
      }
    },
    {
      "cell_type": "code",
      "source": [
        "df_muestra_edades = pd.DataFrame(muestra, columns=[\"edades\"])\n",
        "\n",
        "# Obtener el resumen estadístico utilizando describe()\n",
        "resumen_estadistico = df_muestra_edades[\"edades\"].describe()\n",
        "\n",
        "print(resumen_estadistico)"
      ],
      "metadata": {
        "colab": {
          "base_uri": "https://localhost:8080/"
        },
        "id": "NjLNp2BtzNkY",
        "outputId": "96261a88-50d6-430b-b453-d12674ec339d"
      },
      "execution_count": 75,
      "outputs": [
        {
          "output_type": "stream",
          "name": "stdout",
          "text": [
            "count    65.000000\n",
            "mean     23.015385\n",
            "std       3.599012\n",
            "min      18.000000\n",
            "25%      20.000000\n",
            "50%      23.000000\n",
            "75%      27.000000\n",
            "max      30.000000\n",
            "Name: edades, dtype: float64\n"
          ]
        }
      ]
    },
    {
      "cell_type": "markdown",
      "source": [
        "\n",
        "# Interpretación\n",
        "\n",
        "Se construyó una población de 650 personas que tienen una edad entre 18 y 30 años. $N=650$\n",
        "\n",
        "Se determinó el parámetro de la media poblacion sienso este igual 23.89. $μ = 23.89$.\n",
        "\n",
        "Se extrajo una muestra del 10% de la población. $n=65$\n",
        "\n",
        "La media de la muestra fue de 24.67. $\\bar{x} = 24.67$\n",
        "\n",
        "Los valores de la media son similares y la diferencia se le conoce como error muestral de la media, que es la diferencia que hay entre la media de la población y la media de la muestra.\n",
        "\n",
        "Las diferencias encontradas con describe() entre los estadísticos de la muestra y los parámetros de la población se le llama errores muestrales."
      ],
      "metadata": {
        "id": "GHxFvxSjodPP"
      }
    },
    {
      "cell_type": "code",
      "source": [],
      "metadata": {
        "id": "qvinxVBzy8JS"
      },
      "execution_count": null,
      "outputs": []
    }
  ]
}