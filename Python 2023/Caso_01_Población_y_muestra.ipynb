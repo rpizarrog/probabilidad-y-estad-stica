{
  "nbformat": 4,
  "nbformat_minor": 0,
  "metadata": {
    "colab": {
      "provenance": [],
      "authorship_tag": "ABX9TyP9nfnpx9Xyal2lWhYqU6fU",
      "include_colab_link": true
    },
    "kernelspec": {
      "name": "python3",
      "display_name": "Python 3"
    },
    "language_info": {
      "name": "python"
    }
  },
  "cells": [
    {
      "cell_type": "markdown",
      "metadata": {
        "id": "view-in-github",
        "colab_type": "text"
      },
      "source": [
        "<a href=\"https://colab.research.google.com/github/rpizarrog/probabilidad-y-estad-stica/blob/master/Python%202023/Caso_01_Poblaci%C3%B3n_y_muestra.ipynb\" target=\"_parent\"><img src=\"https://colab.research.google.com/assets/colab-badge.svg\" alt=\"Open In Colab\"/></a>"
      ]
    },
    {
      "cell_type": "markdown",
      "source": [
        "# Objetivo\n",
        "\n",
        "Simular datos de una población y de una muestra describiendo la media poblacional y la media muestral para su adecuada interpretación.\n",
        "\n"
      ],
      "metadata": {
        "id": "dADMTFvwg0aD"
      }
    },
    {
      "cell_type": "markdown",
      "source": [
        "# Desarrollo\n",
        "\n",
        "Construir una población de 650 números con valores entre 18 y 30. Representando edades de personas\n",
        "Determinar una muestra del 10% de la población de dichos edades.\n",
        "\n"
      ],
      "metadata": {
        "id": "bwDxz3RyhRlT"
      }
    },
    {
      "cell_type": "markdown",
      "source": [
        "## Cargar librerías"
      ],
      "metadata": {
        "id": "fj3ZvUJ-hnCL"
      }
    },
    {
      "cell_type": "code",
      "source": [
        "# Cargar librerías\n",
        "\n",
        "import random\n",
        "import numpy as np\n",
        "import pandas as pd\n",
        "\n",
        "random.seed(2023) # Semilla para valores aleatorios"
      ],
      "metadata": {
        "id": "L8sxEBB8hZO4"
      },
      "execution_count": 124,
      "outputs": []
    },
    {
      "cell_type": "markdown",
      "source": [
        "### Generando población de edades\n",
        "\n",
        "La variable población es una lista que contienen 650 elementos generados aleatorioamente y represnta la población de la variable de interés edad.\n"
      ],
      "metadata": {
        "id": "EUPT7sq6mLGO"
      }
    },
    {
      "cell_type": "code",
      "source": [
        "poblacion = []\n",
        "\n",
        "for i in range(650):\n",
        "    edad = random.randint(18, 30)\n",
        "    poblacion.append(edad)\n",
        "\n",
        "print(edades)"
      ],
      "metadata": {
        "colab": {
          "base_uri": "https://localhost:8080/"
        },
        "id": "SrsigvbnmUTN",
        "outputId": "84a22441-9310-4d5f-aec7-2bf1a220881c"
      },
      "execution_count": 125,
      "outputs": [
        {
          "output_type": "stream",
          "name": "stdout",
          "text": [
            "[23, 25, 28, 23, 26, 24, 19, 24, 18, 20, 25, 23, 23, 21, 20, 29, 30, 27, 30, 25, 21, 20, 26, 18, 26, 29, 27, 20, 21, 24, 21, 26, 30, 18, 19, 27, 19, 19, 28, 25, 25, 28, 18, 30, 29, 25, 18, 27, 20, 27, 25, 30, 23, 30, 21, 20, 27, 27, 30, 19, 27, 24, 22, 28, 19, 20, 27, 26, 24, 20, 20, 27, 30, 21, 26, 30, 26, 24, 26, 21, 24, 18, 18, 19, 24, 25, 25, 19, 24, 24, 23, 29, 19, 29, 23, 23, 19, 28, 18, 21, 19, 21, 21, 28, 22, 23, 18, 18, 26, 18, 23, 30, 26, 20, 20, 22, 20, 25, 21, 20, 30, 25, 22, 22, 29, 28, 26, 30, 18, 26, 24, 22, 27, 27, 28, 18, 21, 24, 19, 21, 21, 24, 26, 24, 26, 29, 21, 23, 20, 20, 28, 27, 18, 27, 24, 19, 25, 18, 20, 18, 23, 30, 23, 19, 22, 23, 28, 26, 28, 18, 23, 19, 27, 20, 23, 24, 23, 23, 28, 18, 22, 27, 19, 26, 30, 30, 23, 18, 29, 21, 22, 18, 22, 21, 19, 29, 25, 30, 19, 29, 21, 28, 30, 23, 30, 26, 25, 20, 25, 29, 23, 21, 26, 20, 30, 23, 26, 23, 18, 24, 18, 23, 22, 24, 28, 23, 28, 21, 19, 22, 30, 20, 29, 26, 29, 19, 24, 27, 30, 26, 20, 29, 23, 26, 21, 18, 20, 24, 21, 20, 18, 28, 25, 21, 29, 24, 25, 22, 23, 22, 25, 21, 20, 23, 29, 28, 19, 25, 21, 29, 19, 30, 28, 30, 19, 21, 21, 21, 26, 27, 26, 24, 30, 28, 30, 29, 21, 30, 25, 29, 23, 26, 21, 18, 21, 22, 26, 18, 30, 30, 23, 27, 22, 21, 28, 19, 30, 20, 20, 25, 20, 25, 18, 23, 26, 19, 20, 29, 30, 22, 21, 21, 21, 23, 22, 21, 29, 24, 21, 29, 21, 25, 23, 20, 23, 24, 21, 27, 24, 24, 28, 24, 19, 19, 26, 29, 20, 30, 26, 18, 27, 29, 26, 23, 23, 25, 21, 26, 23, 21, 23, 27, 24, 26, 29, 24, 23, 25, 23, 25, 18, 30, 27, 18, 26, 24, 24, 27, 18, 21, 18, 18, 26, 23, 30, 24, 26, 21, 20, 29, 23, 27, 29, 27, 25, 25, 19, 20, 25, 23, 20, 22, 28, 23, 20, 19, 24, 25, 18, 19, 29, 28, 28, 20, 27, 26, 19, 27, 27, 24, 24, 29, 25, 19, 24, 23, 20, 28, 26, 27, 18, 24, 20, 30, 28, 25, 29, 24, 25, 22, 19, 27, 21, 29, 25, 29, 23, 27, 23, 21, 24, 19, 20, 24, 23, 18, 27, 24, 18, 25, 30, 18, 29, 23, 24, 23, 23, 21, 21, 29, 28, 26, 22, 26, 25, 21, 18, 21, 18, 22, 28, 24, 22, 27, 26, 24, 18, 18, 23, 29, 27, 26, 29, 22, 23, 28, 29, 27, 21, 23, 30, 23, 19, 30, 23, 20, 30, 26, 22, 29, 30, 29, 24, 21, 23, 26, 26, 21, 22, 18, 28, 20, 22, 25, 25, 26, 22, 26, 23, 28, 26, 23, 29, 30, 25, 21, 21, 20, 28, 25, 22, 21, 25, 19, 23, 21, 21, 18, 19, 21, 29, 20, 22, 20, 30, 24, 23, 25, 30, 20, 28, 25, 22, 20, 30, 25, 23, 28, 21, 30, 29, 25, 27, 18, 29, 30, 26, 24, 25, 23, 21, 18, 20, 26, 22, 22, 19, 24, 26, 24, 26, 20, 25, 24, 18, 21, 22, 25, 19, 30, 23, 20, 20, 22, 28, 18, 27, 26, 23, 28, 19, 22, 26, 28, 27, 25, 27, 24, 22, 20, 25, 25, 29, 22, 20, 28, 28, 24, 22, 20, 25, 24, 27, 27, 25, 28, 27, 21, 30, 25, 19, 26, 22, 26, 25, 19, 28, 23, 30, 26]\n"
          ]
        }
      ]
    },
    {
      "cell_type": "markdown",
      "source": [
        "Media aritmética de la población\n",
        "\n",
        "$$\n",
        "\\mu = \\sum_{i=1}^{N}=\\frac{x_i}{N}=\\frac{x_1+x_2+x_3+ ... x_{650}}{650}\n",
        "$$\n",
        "\n",
        "\n"
      ],
      "metadata": {
        "id": "lvy3ywyli6ls"
      }
    },
    {
      "cell_type": "code",
      "source": [
        "promedio = sum(poblacion) / 650\n",
        "promedio"
      ],
      "metadata": {
        "colab": {
          "base_uri": "https://localhost:8080/"
        },
        "id": "44SZVlqtjuyF",
        "outputId": "a8aa856c-53f6-4dc4-bcff-92c4a7818178"
      },
      "execution_count": 126,
      "outputs": [
        {
          "output_type": "execute_result",
          "data": {
            "text/plain": [
              "23.883076923076924"
            ]
          },
          "metadata": {},
          "execution_count": 126
        }
      ]
    },
    {
      "cell_type": "code",
      "source": [
        "print(poblacion)"
      ],
      "metadata": {
        "id": "hW_RGTNlkEfU",
        "colab": {
          "base_uri": "https://localhost:8080/"
        },
        "outputId": "d4072ce8-8386-42a5-fd35-ac1354c5e88c"
      },
      "execution_count": 127,
      "outputs": [
        {
          "output_type": "stream",
          "name": "stdout",
          "text": [
            "[24, 29, 25, 24, 23, 27, 27, 23, 28, 19, 30, 19, 28, 22, 29, 26, 29, 26, 22, 20, 21, 20, 28, 18, 21, 23, 19, 27, 20, 29, 30, 18, 21, 20, 25, 25, 26, 23, 26, 19, 19, 26, 25, 25, 18, 30, 19, 27, 21, 29, 27, 28, 29, 19, 27, 19, 19, 20, 24, 25, 28, 21, 27, 28, 20, 26, 21, 22, 22, 28, 29, 19, 27, 29, 18, 23, 25, 20, 22, 19, 26, 24, 27, 28, 23, 22, 23, 22, 20, 20, 29, 25, 19, 29, 23, 26, 21, 20, 26, 23, 26, 28, 19, 18, 22, 20, 18, 22, 20, 29, 21, 20, 28, 30, 22, 24, 26, 29, 19, 24, 30, 29, 25, 29, 24, 19, 30, 29, 28, 23, 30, 23, 19, 19, 25, 25, 25, 19, 27, 27, 24, 21, 18, 24, 27, 27, 28, 21, 23, 18, 21, 19, 19, 28, 22, 20, 22, 21, 29, 27, 28, 18, 22, 18, 24, 23, 24, 18, 29, 27, 23, 29, 22, 28, 28, 19, 29, 23, 27, 30, 26, 19, 22, 22, 18, 21, 26, 21, 23, 22, 20, 20, 26, 19, 19, 30, 21, 20, 27, 21, 28, 19, 26, 22, 27, 21, 18, 27, 27, 20, 29, 23, 25, 24, 29, 22, 29, 25, 19, 27, 21, 18, 26, 24, 20, 28, 19, 18, 30, 25, 20, 24, 27, 23, 29, 29, 28, 23, 28, 21, 27, 21, 28, 19, 18, 30, 26, 24, 19, 24, 25, 27, 20, 21, 21, 19, 25, 18, 27, 29, 18, 23, 23, 28, 25, 24, 26, 18, 27, 26, 21, 24, 24, 27, 25, 24, 30, 27, 22, 22, 20, 19, 27, 22, 20, 28, 30, 29, 26, 30, 21, 25, 22, 28, 25, 30, 23, 30, 27, 19, 26, 28, 29, 30, 24, 22, 30, 18, 19, 22, 28, 18, 26, 19, 29, 26, 21, 27, 19, 21, 19, 22, 27, 30, 28, 23, 26, 27, 24, 20, 26, 23, 18, 27, 23, 28, 29, 22, 19, 28, 24, 18, 26, 18, 25, 20, 24, 26, 22, 25, 30, 28, 29, 19, 29, 19, 19, 25, 19, 18, 20, 28, 26, 27, 21, 22, 24, 29, 27, 25, 22, 30, 22, 25, 21, 29, 23, 22, 23, 29, 20, 26, 29, 29, 21, 21, 25, 28, 22, 30, 22, 27, 22, 24, 26, 26, 27, 29, 21, 29, 23, 20, 26, 23, 25, 19, 19, 20, 19, 28, 18, 22, 24, 22, 20, 22, 19, 20, 23, 23, 20, 25, 21, 28, 21, 18, 25, 22, 30, 25, 23, 26, 18, 25, 26, 18, 23, 26, 30, 23, 28, 20, 21, 27, 27, 30, 20, 19, 22, 24, 18, 27, 20, 26, 20, 24, 25, 20, 23, 26, 27, 28, 24, 25, 28, 26, 25, 20, 25, 30, 28, 28, 24, 19, 21, 21, 21, 18, 30, 21, 18, 29, 19, 23, 27, 22, 27, 22, 19, 29, 23, 29, 22, 29, 19, 29, 27, 19, 23, 21, 30, 27, 24, 20, 18, 19, 28, 30, 25, 25, 20, 28, 19, 27, 24, 25, 21, 18, 27, 25, 22, 26, 18, 27, 26, 23, 23, 18, 22, 20, 25, 28, 27, 25, 20, 26, 21, 18, 26, 18, 20, 23, 24, 22, 27, 27, 24, 20, 23, 28, 27, 27, 20, 22, 22, 24, 20, 25, 27, 28, 19, 18, 21, 26, 27, 19, 25, 26, 29, 23, 29, 25, 22, 23, 30, 24, 23, 23, 24, 30, 28, 28, 21, 21, 26, 21, 19, 23, 28, 26, 19, 28, 26, 29, 25, 18, 24, 29, 29, 21, 27, 21, 28, 25, 19, 20, 23, 18, 29, 26, 25, 21, 18, 29, 21, 28, 26, 20, 25, 29, 28, 20, 24, 29, 24, 24, 23, 20, 27, 27, 19, 23, 20, 20, 26, 18, 28, 18, 22, 20, 23, 29, 30, 25, 27, 28, 27, 18, 27, 18]\n"
          ]
        }
      ]
    },
    {
      "cell_type": "code",
      "source": [
        "# Calcular la media o el promedio utilizando NumPy y l afunción mean()\n",
        "mean_edades = np.mean(poblacion)\n",
        "print (mean_edades)\n"
      ],
      "metadata": {
        "colab": {
          "base_uri": "https://localhost:8080/"
        },
        "id": "nMgZQbuulPW1",
        "outputId": "5c2dbfe3-42b0-491b-df03-dc245021eabb"
      },
      "execution_count": 128,
      "outputs": [
        {
          "output_type": "stream",
          "name": "stdout",
          "text": [
            "23.883076923076924\n"
          ]
        }
      ]
    },
    {
      "cell_type": "markdown",
      "source": [
        "Describir los datos con la función describe()\n",
        "\n",
        "Se convierte antes la lista de población a un conjunto de datos data.frame llamado df_edades.\n",
        "\n",
        "La función describe arroja parámetros tales como la cantidd de elementos count, el valor mínimo y máximo, los cuartiles, la media y la desviación estándar."
      ],
      "metadata": {
        "id": "9JhtZI2qx_Pn"
      }
    },
    {
      "cell_type": "code",
      "source": [
        "df_edades = pd.DataFrame(poblacion, columns=[\"edades\"])\n",
        "\n",
        "# Obtener el resumen estadístico utilizando describe()\n",
        "resumen_estadistico = df_edades[\"edades\"].describe()\n",
        "\n",
        "print(resumen_estadistico)"
      ],
      "metadata": {
        "colab": {
          "base_uri": "https://localhost:8080/"
        },
        "id": "wYcxn9nQr3PQ",
        "outputId": "acf310c5-0c6f-4cf3-eb71-807a7cd6c05f"
      },
      "execution_count": 129,
      "outputs": [
        {
          "output_type": "stream",
          "name": "stdout",
          "text": [
            "count    650.000000\n",
            "mean      23.883077\n",
            "std        3.681276\n",
            "min       18.000000\n",
            "25%       21.000000\n",
            "50%       24.000000\n",
            "75%       27.000000\n",
            "max       30.000000\n",
            "Name: edades, dtype: float64\n"
          ]
        }
      ]
    },
    {
      "cell_type": "markdown",
      "source": [
        "### Generando una muestra del 10% a partir de datos de la población\n",
        "\n"
      ],
      "metadata": {
        "id": "cgK8nCLqmdHE"
      }
    },
    {
      "cell_type": "code",
      "source": [
        "muestra = random.sample(poblacion, 65)\n",
        "print(muestra)"
      ],
      "metadata": {
        "colab": {
          "base_uri": "https://localhost:8080/"
        },
        "id": "9ZgZKX7gm9zd",
        "outputId": "47d858a5-44a4-4b56-d362-1eb64d6f12a2"
      },
      "execution_count": 130,
      "outputs": [
        {
          "output_type": "stream",
          "name": "stdout",
          "text": [
            "[30, 19, 22, 22, 27, 20, 28, 19, 21, 27, 29, 23, 21, 19, 23, 24, 28, 29, 28, 20, 25, 28, 23, 19, 25, 29, 26, 18, 22, 18, 26, 24, 26, 20, 29, 19, 20, 22, 27, 23, 30, 25, 19, 19, 23, 29, 22, 27, 19, 19, 26, 20, 22, 22, 23, 19, 23, 21, 27, 30, 18, 25, 20, 28, 27]\n"
          ]
        }
      ]
    },
    {
      "cell_type": "markdown",
      "source": [
        "Estadísiticos de la muestra media aritmética\n",
        "\n",
        "$$\n",
        "\\bar{x}=\\sum_{i=1}^{n}= \\frac{x_i}{n}\n",
        "$$\n"
      ],
      "metadata": {
        "id": "ZMpnZO7dnCRM"
      }
    },
    {
      "cell_type": "code",
      "source": [
        "n = 65\n",
        "promedio_muestra = sum(muestra) / (n)\n",
        "print(promedio_muestra)\n"
      ],
      "metadata": {
        "colab": {
          "base_uri": "https://localhost:8080/"
        },
        "id": "2v129lv1nGcc",
        "outputId": "91ca3a39-602c-45ea-c7a2-757966554320"
      },
      "execution_count": 131,
      "outputs": [
        {
          "output_type": "stream",
          "name": "stdout",
          "text": [
            "23.553846153846155\n"
          ]
        }
      ]
    },
    {
      "cell_type": "code",
      "source": [
        "print(mean(muestra))"
      ],
      "metadata": {
        "colab": {
          "base_uri": "https://localhost:8080/"
        },
        "id": "0TeU0ZthnaLm",
        "outputId": "85e78c20-9d6a-4c17-eb31-428d740c117e"
      },
      "execution_count": 132,
      "outputs": [
        {
          "output_type": "stream",
          "name": "stdout",
          "text": [
            "23.553846153846155\n"
          ]
        }
      ]
    },
    {
      "cell_type": "markdown",
      "source": [
        "### Estadísticos con describe()\n",
        "\n",
        "Se generan los estadísticos de la muestra"
      ],
      "metadata": {
        "id": "9Cnedkw6zITp"
      }
    },
    {
      "cell_type": "code",
      "source": [
        "df_muestra_edades = pd.DataFrame(muestra, columns=[\"edades\"])\n",
        "\n",
        "# Obtener el resumen estadístico utilizando describe()\n",
        "resumen_estadistico = df_muestra_edades[\"edades\"].describe()\n",
        "\n",
        "print(resumen_estadistico)"
      ],
      "metadata": {
        "colab": {
          "base_uri": "https://localhost:8080/"
        },
        "id": "NjLNp2BtzNkY",
        "outputId": "42d82d47-3c42-423e-fff9-9ee83c7e05ce"
      },
      "execution_count": 133,
      "outputs": [
        {
          "output_type": "stream",
          "name": "stdout",
          "text": [
            "count    65.000000\n",
            "mean     23.553846\n",
            "std       3.729237\n",
            "min      18.000000\n",
            "25%      20.000000\n",
            "50%      23.000000\n",
            "75%      27.000000\n",
            "max      30.000000\n",
            "Name: edades, dtype: float64\n"
          ]
        }
      ]
    },
    {
      "cell_type": "markdown",
      "source": [
        "\n",
        "# Interpretación\n",
        "\n",
        "Se construyó una población de 650 personas que tienen una edad entre 18 y 30 años. $N=650$\n",
        "\n",
        "Se determinó el parámetro de la media poblacional siendo este igual 23.88. $μ = 23.88$.\n",
        "\n",
        "Se extrajo una muestra del 10% de la población. $n=65$\n",
        "\n",
        "La media de la muestra fue de 23.55. $\\bar{x} = 23.55$\n",
        "\n",
        "Los valores de la media son similares y la diferencia se le conoce como error muestral de la media, que es la diferencia que hay entre la media de la población y la media de la muestra.\n",
        "\n",
        "Las diferencias encontradas con describe() entre los estadísticos de la muestra y los parámetros de la población se le llama errores muestrales."
      ],
      "metadata": {
        "id": "GHxFvxSjodPP"
      }
    },
    {
      "cell_type": "code",
      "source": [],
      "metadata": {
        "id": "qvinxVBzy8JS"
      },
      "execution_count": 133,
      "outputs": []
    }
  ]
}