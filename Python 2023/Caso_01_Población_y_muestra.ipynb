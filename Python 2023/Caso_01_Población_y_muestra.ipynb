{
  "nbformat": 4,
  "nbformat_minor": 0,
  "metadata": {
    "colab": {
      "provenance": [],
      "authorship_tag": "ABX9TyM9vO5EQwZ7k3M8zMMWccgT",
      "include_colab_link": true
    },
    "kernelspec": {
      "name": "python3",
      "display_name": "Python 3"
    },
    "language_info": {
      "name": "python"
    }
  },
  "cells": [
    {
      "cell_type": "markdown",
      "metadata": {
        "id": "view-in-github",
        "colab_type": "text"
      },
      "source": [
        "<a href=\"https://colab.research.google.com/github/rpizarrog/probabilidad-y-estad-stica/blob/master/Python%202023/Caso_01_Poblaci%C3%B3n_y_muestra.ipynb\" target=\"_parent\"><img src=\"https://colab.research.google.com/assets/colab-badge.svg\" alt=\"Open In Colab\"/></a>"
      ]
    },
    {
      "cell_type": "markdown",
      "source": [
        "# Objetivo\n",
        "\n",
        "Simular datos de una población y de una muestra describiendo la media poblacional y la media muestral para su adecuada interpretación.\n",
        "\n"
      ],
      "metadata": {
        "id": "dADMTFvwg0aD"
      }
    },
    {
      "cell_type": "markdown",
      "source": [
        "# Desarrollo\n",
        "\n",
        "Construir una población de 650 números con valores entre 18 y 30. Representando edades de personas\n",
        "Determinar una muestra del 10% de la población de dichos edades.\n",
        "\n"
      ],
      "metadata": {
        "id": "bwDxz3RyhRlT"
      }
    },
    {
      "cell_type": "markdown",
      "source": [
        "## Cargar librerías"
      ],
      "metadata": {
        "id": "fj3ZvUJ-hnCL"
      }
    },
    {
      "cell_type": "code",
      "source": [
        "# Cargar librerías\n",
        "\n",
        "import random\n",
        "import numpy as np\n",
        "import pandas as pd\n",
        "\n",
        "random.seed(2023) # Semilla para valores aleatorios"
      ],
      "metadata": {
        "id": "L8sxEBB8hZO4"
      },
      "execution_count": 143,
      "outputs": []
    },
    {
      "cell_type": "markdown",
      "source": [
        "### Generando población de edades\n",
        "\n",
        "La variable población es una lista que contienen 650 elementos generados aleatorioamente y represnta la población de la variable de interés edad.\n"
      ],
      "metadata": {
        "id": "EUPT7sq6mLGO"
      }
    },
    {
      "cell_type": "code",
      "source": [
        "poblacion = []\n",
        "\n",
        "for i in range(650):\n",
        "    edad = random.randint(18, 30)\n",
        "    poblacion.append(edad)\n",
        "\n",
        "print(poblacion)"
      ],
      "metadata": {
        "colab": {
          "base_uri": "https://localhost:8080/"
        },
        "id": "SrsigvbnmUTN",
        "outputId": "2349aa81-6332-4d82-d2b8-a3bfb9b18410"
      },
      "execution_count": 144,
      "outputs": [
        {
          "output_type": "stream",
          "name": "stdout",
          "text": [
            "[24, 29, 25, 24, 23, 27, 27, 23, 28, 19, 30, 19, 28, 22, 29, 26, 29, 26, 22, 20, 21, 20, 28, 18, 21, 23, 19, 27, 20, 29, 30, 18, 21, 20, 25, 25, 26, 23, 26, 19, 19, 26, 25, 25, 18, 30, 19, 27, 21, 29, 27, 28, 29, 19, 27, 19, 19, 20, 24, 25, 28, 21, 27, 28, 20, 26, 21, 22, 22, 28, 29, 19, 27, 29, 18, 23, 25, 20, 22, 19, 26, 24, 27, 28, 23, 22, 23, 22, 20, 20, 29, 25, 19, 29, 23, 26, 21, 20, 26, 23, 26, 28, 19, 18, 22, 20, 18, 22, 20, 29, 21, 20, 28, 30, 22, 24, 26, 29, 19, 24, 30, 29, 25, 29, 24, 19, 30, 29, 28, 23, 30, 23, 19, 19, 25, 25, 25, 19, 27, 27, 24, 21, 18, 24, 27, 27, 28, 21, 23, 18, 21, 19, 19, 28, 22, 20, 22, 21, 29, 27, 28, 18, 22, 18, 24, 23, 24, 18, 29, 27, 23, 29, 22, 28, 28, 19, 29, 23, 27, 30, 26, 19, 22, 22, 18, 21, 26, 21, 23, 22, 20, 20, 26, 19, 19, 30, 21, 20, 27, 21, 28, 19, 26, 22, 27, 21, 18, 27, 27, 20, 29, 23, 25, 24, 29, 22, 29, 25, 19, 27, 21, 18, 26, 24, 20, 28, 19, 18, 30, 25, 20, 24, 27, 23, 29, 29, 28, 23, 28, 21, 27, 21, 28, 19, 18, 30, 26, 24, 19, 24, 25, 27, 20, 21, 21, 19, 25, 18, 27, 29, 18, 23, 23, 28, 25, 24, 26, 18, 27, 26, 21, 24, 24, 27, 25, 24, 30, 27, 22, 22, 20, 19, 27, 22, 20, 28, 30, 29, 26, 30, 21, 25, 22, 28, 25, 30, 23, 30, 27, 19, 26, 28, 29, 30, 24, 22, 30, 18, 19, 22, 28, 18, 26, 19, 29, 26, 21, 27, 19, 21, 19, 22, 27, 30, 28, 23, 26, 27, 24, 20, 26, 23, 18, 27, 23, 28, 29, 22, 19, 28, 24, 18, 26, 18, 25, 20, 24, 26, 22, 25, 30, 28, 29, 19, 29, 19, 19, 25, 19, 18, 20, 28, 26, 27, 21, 22, 24, 29, 27, 25, 22, 30, 22, 25, 21, 29, 23, 22, 23, 29, 20, 26, 29, 29, 21, 21, 25, 28, 22, 30, 22, 27, 22, 24, 26, 26, 27, 29, 21, 29, 23, 20, 26, 23, 25, 19, 19, 20, 19, 28, 18, 22, 24, 22, 20, 22, 19, 20, 23, 23, 20, 25, 21, 28, 21, 18, 25, 22, 30, 25, 23, 26, 18, 25, 26, 18, 23, 26, 30, 23, 28, 20, 21, 27, 27, 30, 20, 19, 22, 24, 18, 27, 20, 26, 20, 24, 25, 20, 23, 26, 27, 28, 24, 25, 28, 26, 25, 20, 25, 30, 28, 28, 24, 19, 21, 21, 21, 18, 30, 21, 18, 29, 19, 23, 27, 22, 27, 22, 19, 29, 23, 29, 22, 29, 19, 29, 27, 19, 23, 21, 30, 27, 24, 20, 18, 19, 28, 30, 25, 25, 20, 28, 19, 27, 24, 25, 21, 18, 27, 25, 22, 26, 18, 27, 26, 23, 23, 18, 22, 20, 25, 28, 27, 25, 20, 26, 21, 18, 26, 18, 20, 23, 24, 22, 27, 27, 24, 20, 23, 28, 27, 27, 20, 22, 22, 24, 20, 25, 27, 28, 19, 18, 21, 26, 27, 19, 25, 26, 29, 23, 29, 25, 22, 23, 30, 24, 23, 23, 24, 30, 28, 28, 21, 21, 26, 21, 19, 23, 28, 26, 19, 28, 26, 29, 25, 18, 24, 29, 29, 21, 27, 21, 28, 25, 19, 20, 23, 18, 29, 26, 25, 21, 18, 29, 21, 28, 26, 20, 25, 29, 28, 20, 24, 29, 24, 24, 23, 20, 27, 27, 19, 23, 20, 20, 26, 18, 28, 18, 22, 20, 23, 29, 30, 25, 27, 28, 27, 18, 27, 18]\n"
          ]
        }
      ]
    },
    {
      "cell_type": "markdown",
      "source": [
        "Media aritmética de la población\n",
        "\n",
        "$$\n",
        "\\mu = \\sum_{i=1}^{N}=\\frac{x_i}{N}=\\frac{x_1+x_2+x_3+ ... x_{650}}{650}\n",
        "$$\n",
        "\n",
        "\n"
      ],
      "metadata": {
        "id": "lvy3ywyli6ls"
      }
    },
    {
      "cell_type": "code",
      "source": [
        "promedio = sum(poblacion) / 650\n",
        "promedio"
      ],
      "metadata": {
        "colab": {
          "base_uri": "https://localhost:8080/"
        },
        "id": "44SZVlqtjuyF",
        "outputId": "fcb040d1-ea1e-4b70-a4c6-1726ee6d67d9"
      },
      "execution_count": 145,
      "outputs": [
        {
          "output_type": "execute_result",
          "data": {
            "text/plain": [
              "23.883076923076924"
            ]
          },
          "metadata": {},
          "execution_count": 145
        }
      ]
    },
    {
      "cell_type": "code",
      "source": [
        "# Calcular la media o el promedio utilizando NumPy y l afunción mean()\n",
        "mean_edades = np.mean(poblacion)\n",
        "print (mean_edades)\n"
      ],
      "metadata": {
        "colab": {
          "base_uri": "https://localhost:8080/"
        },
        "id": "nMgZQbuulPW1",
        "outputId": "c4e4aac1-501d-4b59-e9ea-4d4450464c8e"
      },
      "execution_count": 146,
      "outputs": [
        {
          "output_type": "stream",
          "name": "stdout",
          "text": [
            "23.883076923076924\n"
          ]
        }
      ]
    },
    {
      "cell_type": "markdown",
      "source": [
        "Describir los datos con la función describe()\n",
        "\n",
        "Se convierte antes la lista de población a un conjunto de datos data.frame llamado df_edades.\n",
        "\n",
        "La función describe arroja parámetros tales como la cantidd de elementos count, el valor mínimo y máximo, los cuartiles, la media y la desviación estándar."
      ],
      "metadata": {
        "id": "9JhtZI2qx_Pn"
      }
    },
    {
      "cell_type": "code",
      "source": [
        "df_edades = pd.DataFrame(poblacion, columns=[\"edades\"])\n",
        "\n",
        "# Obtener el resumen estadístico utilizando describe()\n",
        "resumen_estadistico = df_edades[\"edades\"].describe()\n",
        "\n",
        "print(resumen_estadistico)"
      ],
      "metadata": {
        "colab": {
          "base_uri": "https://localhost:8080/"
        },
        "id": "wYcxn9nQr3PQ",
        "outputId": "c0c16ea5-436a-438f-e0f8-86be6c3285aa"
      },
      "execution_count": 147,
      "outputs": [
        {
          "output_type": "stream",
          "name": "stdout",
          "text": [
            "count    650.000000\n",
            "mean      23.883077\n",
            "std        3.681276\n",
            "min       18.000000\n",
            "25%       21.000000\n",
            "50%       24.000000\n",
            "75%       27.000000\n",
            "max       30.000000\n",
            "Name: edades, dtype: float64\n"
          ]
        }
      ]
    },
    {
      "cell_type": "markdown",
      "source": [
        "### Generando una muestra del 10% a partir de datos de la población\n",
        "\n"
      ],
      "metadata": {
        "id": "cgK8nCLqmdHE"
      }
    },
    {
      "cell_type": "code",
      "source": [
        "muestra = random.sample(poblacion, 65)\n",
        "print(muestra)"
      ],
      "metadata": {
        "colab": {
          "base_uri": "https://localhost:8080/"
        },
        "id": "9ZgZKX7gm9zd",
        "outputId": "f3720900-dad8-4070-f2ea-677ad3a80eb6"
      },
      "execution_count": 148,
      "outputs": [
        {
          "output_type": "stream",
          "name": "stdout",
          "text": [
            "[30, 19, 22, 22, 27, 20, 28, 19, 21, 27, 29, 23, 21, 19, 23, 24, 28, 29, 28, 20, 25, 28, 23, 19, 25, 29, 26, 18, 22, 18, 26, 24, 26, 20, 29, 19, 20, 22, 27, 23, 30, 25, 19, 19, 23, 29, 22, 27, 19, 19, 26, 20, 22, 22, 23, 19, 23, 21, 27, 30, 18, 25, 20, 28, 27]\n"
          ]
        }
      ]
    },
    {
      "cell_type": "markdown",
      "source": [
        "Estadísiticos de la muestra media aritmética\n",
        "\n",
        "$$\n",
        "\\bar{x}=\\sum_{i=1}^{n}= \\frac{x_i}{n}\n",
        "$$\n"
      ],
      "metadata": {
        "id": "ZMpnZO7dnCRM"
      }
    },
    {
      "cell_type": "code",
      "source": [
        "n = 65\n",
        "promedio_muestra = sum(muestra) / (n)\n",
        "print(promedio_muestra)\n"
      ],
      "metadata": {
        "colab": {
          "base_uri": "https://localhost:8080/"
        },
        "id": "2v129lv1nGcc",
        "outputId": "a443e74b-a563-466b-d2a5-aaf39268753e"
      },
      "execution_count": 149,
      "outputs": [
        {
          "output_type": "stream",
          "name": "stdout",
          "text": [
            "23.553846153846155\n"
          ]
        }
      ]
    },
    {
      "cell_type": "code",
      "source": [
        "print(mean(muestra))"
      ],
      "metadata": {
        "colab": {
          "base_uri": "https://localhost:8080/"
        },
        "id": "0TeU0ZthnaLm",
        "outputId": "03dcd803-13c3-4976-d7f0-90f93ceb5a78"
      },
      "execution_count": 150,
      "outputs": [
        {
          "output_type": "stream",
          "name": "stdout",
          "text": [
            "23.553846153846155\n"
          ]
        }
      ]
    },
    {
      "cell_type": "markdown",
      "source": [
        "### Estadísticos con describe()\n",
        "\n",
        "Se generan los estadísticos de la muestra"
      ],
      "metadata": {
        "id": "9Cnedkw6zITp"
      }
    },
    {
      "cell_type": "code",
      "source": [
        "df_muestra_edades = pd.DataFrame(muestra, columns=[\"edades\"])\n",
        "\n",
        "# Obtener el resumen estadístico utilizando describe()\n",
        "resumen_estadistico = df_muestra_edades[\"edades\"].describe()\n",
        "\n",
        "print(resumen_estadistico)"
      ],
      "metadata": {
        "colab": {
          "base_uri": "https://localhost:8080/"
        },
        "id": "NjLNp2BtzNkY",
        "outputId": "d527ce2b-cd40-4e81-943e-f7208ba96e27"
      },
      "execution_count": 151,
      "outputs": [
        {
          "output_type": "stream",
          "name": "stdout",
          "text": [
            "count    65.000000\n",
            "mean     23.553846\n",
            "std       3.729237\n",
            "min      18.000000\n",
            "25%      20.000000\n",
            "50%      23.000000\n",
            "75%      27.000000\n",
            "max      30.000000\n",
            "Name: edades, dtype: float64\n"
          ]
        }
      ]
    },
    {
      "cell_type": "markdown",
      "source": [
        "\n",
        "# Interpretación\n",
        "\n",
        "Se construyó una población de 650 personas que tienen una edad entre 18 y 30 años. $N=650$\n",
        "\n",
        "Se determinó el parámetro de la media poblacional siendo este igual 23.88. $μ = 23.88$.\n",
        "\n",
        "Se extrajo una muestra del 10% de la población. $n=65$\n",
        "\n",
        "La media de la muestra fue de 23.55. $\\bar{x} = 23.55$\n",
        "\n",
        "Los valores de la media son similares y la diferencia se le conoce como error muestral de la media, que es la diferencia que hay entre la media de la población y la media de la muestra.\n",
        "\n",
        "Las diferencias encontradas con describe() entre los estadísticos de la muestra y los parámetros de la población se le llama errores muestrales."
      ],
      "metadata": {
        "id": "GHxFvxSjodPP"
      }
    }
  ]
}