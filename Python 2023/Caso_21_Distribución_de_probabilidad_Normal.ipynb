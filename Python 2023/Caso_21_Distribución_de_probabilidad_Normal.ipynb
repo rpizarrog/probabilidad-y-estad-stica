{
  "nbformat": 4,
  "nbformat_minor": 0,
  "metadata": {
    "colab": {
      "provenance": [],
      "authorship_tag": "ABX9TyNkhibtXK78cNRRU6IFwjIj",
      "include_colab_link": true
    },
    "kernelspec": {
      "name": "python3",
      "display_name": "Python 3"
    },
    "language_info": {
      "name": "python"
    }
  },
  "cells": [
    {
      "cell_type": "markdown",
      "metadata": {
        "id": "view-in-github",
        "colab_type": "text"
      },
      "source": [
        "<a href=\"https://colab.research.google.com/github/rpizarrog/probabilidad-y-estad-stica/blob/master/Python%202023/Caso_21_Distribuci%C3%B3n_de_probabilidad_Normal.ipynb\" target=\"_parent\"><img src=\"https://colab.research.google.com/assets/colab-badge.svg\" alt=\"Open In Colab\"/></a>"
      ]
    },
    {
      "cell_type": "markdown",
      "source": [
        "# Distribución de probabilidad normal\n",
        "\n",
        "# Objetivo\n",
        "\n",
        "Calcular probabilidades, valor esperado y variabildiad de datos de varibles aleatorias con comportamiento de distribución  normal.\n"
      ],
      "metadata": {
        "id": "1_yEB2X2TG4b"
      }
    },
    {
      "cell_type": "markdown",
      "source": [
        "# Descripción\n",
        "\n",
        "- Se cargan librerías adecuadas\n",
        "- Se cargan funciones adecuadas\n",
        "- Se describen ejercicios extraídos de literatura de contexos diversos con caraterísticas de distribuciones normales.\n",
        "- Se calculan probabilidades\n",
        "- Se calculan valores esperados y variabilidad de los datos,\n",
        "- Se calculan números aletorios\n",
        "- Se calculan valores de variable aletoria $x$ a partir de probabilidades específicas\n"
      ],
      "metadata": {
        "id": "Yz1Pab9QTbTJ"
      }
    },
    {
      "cell_type": "markdown",
      "source": [
        "# Fundamento teórico\n",
        "\n"
      ],
      "metadata": {
        "id": "nrTLgAyUT_Xd"
      }
    },
    {
      "cell_type": "markdown",
      "source": [
        "# Desarrollo\n"
      ],
      "metadata": {
        "id": "hzsdP4GWUAzA"
      }
    },
    {
      "cell_type": "markdown",
      "source": [
        "## Cargar librerías"
      ],
      "metadata": {
        "id": "KSaZ25PGUDDT"
      }
    },
    {
      "cell_type": "code",
      "source": [
        "import numpy as np\n",
        "from scipy.stats import norm\n",
        "import matplotlib.pyplot as plt"
      ],
      "metadata": {
        "id": "OcPqoJD1UFh4"
      },
      "execution_count": 2,
      "outputs": []
    },
    {
      "cell_type": "markdown",
      "source": [
        "## Cargar funciones"
      ],
      "metadata": {
        "id": "HdcIAsSfUGyA"
      }
    },
    {
      "cell_type": "code",
      "source": [
        "def f_densidad_normal ():"
      ],
      "metadata": {
        "id": "D9CAKO8tUIIc"
      },
      "execution_count": null,
      "outputs": []
    },
    {
      "cell_type": "markdown",
      "source": [
        "#"
      ],
      "metadata": {
        "id": "vHAbTchiVVux"
      }
    },
    {
      "cell_type": "markdown",
      "source": [
        "# Desarrollo\n"
      ],
      "metadata": {
        "id": "GKjFX7HJUJ2j"
      }
    },
    {
      "cell_type": "markdown",
      "source": [
        "## Calcular números aleatorios\n",
        "\n",
        "Se puede generar números aletorios mediante la función de la bilioteca *numpy* con la función *random.normal(media, desviación, size)*.\n",
        "\n",
        "La función de generación de números aletorios requiere el valor de la media y la desviación de los datos así como la cantidad de números aleatorios a generar.\n",
        "\n",
        "Ls siguiente instrucción genera 10 números aleatorios con media igual a $\\mu = 80$ y desviación estándar de $\\sigma = 5$"
      ],
      "metadata": {
        "id": "KwOYCckAVacn"
      }
    },
    {
      "cell_type": "code",
      "source": [
        "# Generar 10 números aleatorios de una distribución normal con media 0 y desviación estándar 1\n",
        "num_aleatorios = np.random.normal(80, 5, 10)\n",
        "print(num_aleatorios)"
      ],
      "metadata": {
        "colab": {
          "base_uri": "https://localhost:8080/"
        },
        "id": "LEm5-lJHVcfL",
        "outputId": "e8d0e4f6-8bd7-4b73-ed7c-b56b0b111932"
      },
      "execution_count": 6,
      "outputs": [
        {
          "output_type": "stream",
          "name": "stdout",
          "text": [
            "[93.38433709 88.19889798 79.56566415 78.30985114 82.78741717 78.91796505\n",
            " 70.99638915 86.55982296 77.16101889 86.14744312]\n"
          ]
        }
      ]
    },
    {
      "cell_type": "markdown",
      "source": [
        "Se puede generar números aletorios mediante la función *norm.rvs(loc = 80, scale = 5, size = 10)* de la biblioteca scipi.stats.\n",
        "\n",
        "Se generan 10 números aletorios con media igual a  $μ=80$  y desviación estándar de  $\\sigma=5$"
      ],
      "metadata": {
        "id": "cVzV2QlAV02C"
      }
    },
    {
      "cell_type": "code",
      "source": [
        "num_aleatorios = norm.rvs(loc = 80, scale = 5, size = 10)\n",
        "num_aleatorios"
      ],
      "metadata": {
        "colab": {
          "base_uri": "https://localhost:8080/"
        },
        "id": "uMl8SkIxV7R8",
        "outputId": "cda5a853-0ff6-402f-b36c-a63c7e554e3d"
      },
      "execution_count": 10,
      "outputs": [
        {
          "output_type": "execute_result",
          "data": {
            "text/plain": [
              "array([78.43557569, 82.25875506, 79.91504556, 76.55123255, 80.44564715,\n",
              "       86.19706511, 79.89061687, 74.86665279, 85.9261617 , 79.43056313])"
            ]
          },
          "metadata": {},
          "execution_count": 10
        }
      ]
    },
    {
      "cell_type": "markdown",
      "source": [
        "## Pendiente Ej 1\n"
      ],
      "metadata": {
        "id": "NauWDEmAUMC0"
      }
    },
    {
      "cell_type": "markdown",
      "source": [
        "## Pendiente Ej 2"
      ],
      "metadata": {
        "id": "NT2Neup_UNeD"
      }
    },
    {
      "cell_type": "markdown",
      "source": [
        "# Interpretación del caso"
      ],
      "metadata": {
        "id": "qp6LUK8dURy5"
      }
    }
  ]
}