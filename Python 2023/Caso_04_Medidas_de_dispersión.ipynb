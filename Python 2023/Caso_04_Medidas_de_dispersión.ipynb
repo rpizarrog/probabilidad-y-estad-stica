{
  "nbformat": 4,
  "nbformat_minor": 0,
  "metadata": {
    "colab": {
      "provenance": [],
      "authorship_tag": "ABX9TyPSvrqx/Zdd3i9te5MyXGDy",
      "include_colab_link": true
    },
    "kernelspec": {
      "name": "python3",
      "display_name": "Python 3"
    },
    "language_info": {
      "name": "python"
    }
  },
  "cells": [
    {
      "cell_type": "markdown",
      "metadata": {
        "id": "view-in-github",
        "colab_type": "text"
      },
      "source": [
        "<a href=\"https://colab.research.google.com/github/rpizarrog/probabilidad-y-estad-stica/blob/master/Python%202023/Caso_04_Medidas_de_dispersi%C3%B3n.ipynb\" target=\"_parent\"><img src=\"https://colab.research.google.com/assets/colab-badge.svg\" alt=\"Open In Colab\"/></a>"
      ]
    },
    {
      "cell_type": "markdown",
      "source": [
        "# Objetivo\n",
        "\n",
        "Determinar medidas de dispersión de edades de presonas\n"
      ],
      "metadata": {
        "id": "A1gEK0szV3m6"
      }
    },
    {
      "cell_type": "markdown",
      "source": [
        "# Desarrollo\n",
        "\n"
      ],
      "metadata": {
        "id": "SYgQWYXvWF3Q"
      }
    },
    {
      "cell_type": "markdown",
      "source": [
        "## Cargar librerías\n"
      ],
      "metadata": {
        "id": "FM7EZz46WH74"
      }
    },
    {
      "cell_type": "code",
      "source": [
        "import numpy as np\n",
        "import pandas as pd\n",
        "import matplotlib.pyplot as plt\n"
      ],
      "metadata": {
        "id": "d1zvbfctWJqZ"
      },
      "execution_count": null,
      "outputs": []
    },
    {
      "cell_type": "markdown",
      "source": [
        "## Crear los datos\n"
      ],
      "metadata": {
        "id": "5rFJyazuWWNx"
      }
    },
    {
      "cell_type": "code",
      "source": [
        "# Los datos significa edades de personas. YA NO\n",
        "# Los datos son estaturas de personas en centímetros\n",
        "estaturas = [165, 175, 169, 180, 178, 170, 168, 160, 172, 153, 166, 175, 180, 169, 180, 170, 172, 170, 170, 170] # lista de estaturas\n",
        "print(estaturas)\n",
        "\n",
        "n = len(estaturas)\n",
        "print(\"Número de observaciones o estaturas de personas: \", n)"
      ],
      "metadata": {
        "colab": {
          "base_uri": "https://localhost:8080/"
        },
        "id": "WPnSX8S7WYIp",
        "outputId": "db86cf13-aa7d-4afd-940b-feacad4c6861"
      },
      "execution_count": null,
      "outputs": [
        {
          "output_type": "stream",
          "name": "stdout",
          "text": [
            "[165, 175, 169, 180, 178, 170, 168, 160, 172, 153, 166, 175, 180, 169, 180, 170, 172, 170, 170, 170]\n",
            "Número de observaciones o estaturas de personas:  20\n"
          ]
        }
      ]
    },
    {
      "cell_type": "markdown",
      "source": [
        "## Estadísticos decsriptivos\n",
        "\n",
        "Se determina la media, mediana, máximo, mínimo y desviación estándar de las edades\n",
        "\n"
      ],
      "metadata": {
        "id": "iJh_LFvqWmVZ"
      }
    },
    {
      "cell_type": "code",
      "source": [
        "# Crear un DataFrame de pandas\n",
        "datos = pd.DataFrame({'Estaturas': estaturas})\n",
        "\n",
        "print(\"El conjunto de datos\")\n",
        "print(datos)\n",
        "# Calcular la media\n",
        "media = np.mean(estaturas)\n",
        "\n",
        "# Calcular la mediana\n",
        "mediana = np.median(estaturas)\n",
        "\n",
        "# Calcular la desviación estándar\n",
        "desviacion_estandar = np.std(estaturas)\n",
        "\n",
        "# Calcular el mínimo y el máximo\n",
        "minimo = np.min(estaturas)\n",
        "maximo = np.max(estaturas)\n",
        "\n",
        "# Imprimir los resultados\n",
        "print(\"Media:\", media)\n",
        "print(\"Mediana:\", mediana)\n",
        "print(\"Desviación Estándar:\", desviacion_estandar)\n",
        "print(\"Mínimo:\", minimo)\n",
        "print(\"Máximo:\", maximo)\n",
        "\n",
        "print(\"Con función describe. Deben ser los mismos ... estadísticos\")\n",
        "datos.describe()\n"
      ],
      "metadata": {
        "colab": {
          "base_uri": "https://localhost:8080/",
          "height": 799
        },
        "id": "xcSFLaobWyLu",
        "outputId": "976e1cfa-c0aa-4cb3-8b4a-537cdac23e36"
      },
      "execution_count": null,
      "outputs": [
        {
          "output_type": "stream",
          "name": "stdout",
          "text": [
            "El conjunto de datos\n",
            "    Estaturas\n",
            "0         165\n",
            "1         175\n",
            "2         169\n",
            "3         180\n",
            "4         178\n",
            "5         170\n",
            "6         168\n",
            "7         160\n",
            "8         172\n",
            "9         153\n",
            "10        166\n",
            "11        175\n",
            "12        180\n",
            "13        169\n",
            "14        180\n",
            "15        170\n",
            "16        172\n",
            "17        170\n",
            "18        170\n",
            "19        170\n",
            "Media: 170.6\n",
            "Mediana: 170.0\n",
            "Desviación Estándar: 6.5222695436481315\n",
            "Mínimo: 153\n",
            "Máximo: 180\n",
            "Con función describe. Deben ser los mismos ... estadísticos\n"
          ]
        },
        {
          "output_type": "execute_result",
          "data": {
            "text/plain": [
              "        Estaturas\n",
              "count   20.000000\n",
              "mean   170.600000\n",
              "std      6.691707\n",
              "min    153.000000\n",
              "25%    168.750000\n",
              "50%    170.000000\n",
              "75%    175.000000\n",
              "max    180.000000"
            ],
            "text/html": [
              "\n",
              "  <div id=\"df-0e3886bf-b54b-41bd-97dd-6e44f74a9e0a\" class=\"colab-df-container\">\n",
              "    <div>\n",
              "<style scoped>\n",
              "    .dataframe tbody tr th:only-of-type {\n",
              "        vertical-align: middle;\n",
              "    }\n",
              "\n",
              "    .dataframe tbody tr th {\n",
              "        vertical-align: top;\n",
              "    }\n",
              "\n",
              "    .dataframe thead th {\n",
              "        text-align: right;\n",
              "    }\n",
              "</style>\n",
              "<table border=\"1\" class=\"dataframe\">\n",
              "  <thead>\n",
              "    <tr style=\"text-align: right;\">\n",
              "      <th></th>\n",
              "      <th>Estaturas</th>\n",
              "    </tr>\n",
              "  </thead>\n",
              "  <tbody>\n",
              "    <tr>\n",
              "      <th>count</th>\n",
              "      <td>20.000000</td>\n",
              "    </tr>\n",
              "    <tr>\n",
              "      <th>mean</th>\n",
              "      <td>170.600000</td>\n",
              "    </tr>\n",
              "    <tr>\n",
              "      <th>std</th>\n",
              "      <td>6.691707</td>\n",
              "    </tr>\n",
              "    <tr>\n",
              "      <th>min</th>\n",
              "      <td>153.000000</td>\n",
              "    </tr>\n",
              "    <tr>\n",
              "      <th>25%</th>\n",
              "      <td>168.750000</td>\n",
              "    </tr>\n",
              "    <tr>\n",
              "      <th>50%</th>\n",
              "      <td>170.000000</td>\n",
              "    </tr>\n",
              "    <tr>\n",
              "      <th>75%</th>\n",
              "      <td>175.000000</td>\n",
              "    </tr>\n",
              "    <tr>\n",
              "      <th>max</th>\n",
              "      <td>180.000000</td>\n",
              "    </tr>\n",
              "  </tbody>\n",
              "</table>\n",
              "</div>\n",
              "    <div class=\"colab-df-buttons\">\n",
              "\n",
              "  <div class=\"colab-df-container\">\n",
              "    <button class=\"colab-df-convert\" onclick=\"convertToInteractive('df-0e3886bf-b54b-41bd-97dd-6e44f74a9e0a')\"\n",
              "            title=\"Convert this dataframe to an interactive table.\"\n",
              "            style=\"display:none;\">\n",
              "\n",
              "  <svg xmlns=\"http://www.w3.org/2000/svg\" height=\"24px\" viewBox=\"0 -960 960 960\">\n",
              "    <path d=\"M120-120v-720h720v720H120Zm60-500h600v-160H180v160Zm220 220h160v-160H400v160Zm0 220h160v-160H400v160ZM180-400h160v-160H180v160Zm440 0h160v-160H620v160ZM180-180h160v-160H180v160Zm440 0h160v-160H620v160Z\"/>\n",
              "  </svg>\n",
              "    </button>\n",
              "\n",
              "  <style>\n",
              "    .colab-df-container {\n",
              "      display:flex;\n",
              "      gap: 12px;\n",
              "    }\n",
              "\n",
              "    .colab-df-convert {\n",
              "      background-color: #E8F0FE;\n",
              "      border: none;\n",
              "      border-radius: 50%;\n",
              "      cursor: pointer;\n",
              "      display: none;\n",
              "      fill: #1967D2;\n",
              "      height: 32px;\n",
              "      padding: 0 0 0 0;\n",
              "      width: 32px;\n",
              "    }\n",
              "\n",
              "    .colab-df-convert:hover {\n",
              "      background-color: #E2EBFA;\n",
              "      box-shadow: 0px 1px 2px rgba(60, 64, 67, 0.3), 0px 1px 3px 1px rgba(60, 64, 67, 0.15);\n",
              "      fill: #174EA6;\n",
              "    }\n",
              "\n",
              "    .colab-df-buttons div {\n",
              "      margin-bottom: 4px;\n",
              "    }\n",
              "\n",
              "    [theme=dark] .colab-df-convert {\n",
              "      background-color: #3B4455;\n",
              "      fill: #D2E3FC;\n",
              "    }\n",
              "\n",
              "    [theme=dark] .colab-df-convert:hover {\n",
              "      background-color: #434B5C;\n",
              "      box-shadow: 0px 1px 3px 1px rgba(0, 0, 0, 0.15);\n",
              "      filter: drop-shadow(0px 1px 2px rgba(0, 0, 0, 0.3));\n",
              "      fill: #FFFFFF;\n",
              "    }\n",
              "  </style>\n",
              "\n",
              "    <script>\n",
              "      const buttonEl =\n",
              "        document.querySelector('#df-0e3886bf-b54b-41bd-97dd-6e44f74a9e0a button.colab-df-convert');\n",
              "      buttonEl.style.display =\n",
              "        google.colab.kernel.accessAllowed ? 'block' : 'none';\n",
              "\n",
              "      async function convertToInteractive(key) {\n",
              "        const element = document.querySelector('#df-0e3886bf-b54b-41bd-97dd-6e44f74a9e0a');\n",
              "        const dataTable =\n",
              "          await google.colab.kernel.invokeFunction('convertToInteractive',\n",
              "                                                    [key], {});\n",
              "        if (!dataTable) return;\n",
              "\n",
              "        const docLinkHtml = 'Like what you see? Visit the ' +\n",
              "          '<a target=\"_blank\" href=https://colab.research.google.com/notebooks/data_table.ipynb>data table notebook</a>'\n",
              "          + ' to learn more about interactive tables.';\n",
              "        element.innerHTML = '';\n",
              "        dataTable['output_type'] = 'display_data';\n",
              "        await google.colab.output.renderOutput(dataTable, element);\n",
              "        const docLink = document.createElement('div');\n",
              "        docLink.innerHTML = docLinkHtml;\n",
              "        element.appendChild(docLink);\n",
              "      }\n",
              "    </script>\n",
              "  </div>\n",
              "\n",
              "\n",
              "<div id=\"df-b80b1c22-1d33-4e32-a915-b391d645df4c\">\n",
              "  <button class=\"colab-df-quickchart\" onclick=\"quickchart('df-b80b1c22-1d33-4e32-a915-b391d645df4c')\"\n",
              "            title=\"Suggest charts.\"\n",
              "            style=\"display:none;\">\n",
              "\n",
              "<svg xmlns=\"http://www.w3.org/2000/svg\" height=\"24px\"viewBox=\"0 0 24 24\"\n",
              "     width=\"24px\">\n",
              "    <g>\n",
              "        <path d=\"M19 3H5c-1.1 0-2 .9-2 2v14c0 1.1.9 2 2 2h14c1.1 0 2-.9 2-2V5c0-1.1-.9-2-2-2zM9 17H7v-7h2v7zm4 0h-2V7h2v10zm4 0h-2v-4h2v4z\"/>\n",
              "    </g>\n",
              "</svg>\n",
              "  </button>\n",
              "\n",
              "<style>\n",
              "  .colab-df-quickchart {\n",
              "      --bg-color: #E8F0FE;\n",
              "      --fill-color: #1967D2;\n",
              "      --hover-bg-color: #E2EBFA;\n",
              "      --hover-fill-color: #174EA6;\n",
              "      --disabled-fill-color: #AAA;\n",
              "      --disabled-bg-color: #DDD;\n",
              "  }\n",
              "\n",
              "  [theme=dark] .colab-df-quickchart {\n",
              "      --bg-color: #3B4455;\n",
              "      --fill-color: #D2E3FC;\n",
              "      --hover-bg-color: #434B5C;\n",
              "      --hover-fill-color: #FFFFFF;\n",
              "      --disabled-bg-color: #3B4455;\n",
              "      --disabled-fill-color: #666;\n",
              "  }\n",
              "\n",
              "  .colab-df-quickchart {\n",
              "    background-color: var(--bg-color);\n",
              "    border: none;\n",
              "    border-radius: 50%;\n",
              "    cursor: pointer;\n",
              "    display: none;\n",
              "    fill: var(--fill-color);\n",
              "    height: 32px;\n",
              "    padding: 0;\n",
              "    width: 32px;\n",
              "  }\n",
              "\n",
              "  .colab-df-quickchart:hover {\n",
              "    background-color: var(--hover-bg-color);\n",
              "    box-shadow: 0 1px 2px rgba(60, 64, 67, 0.3), 0 1px 3px 1px rgba(60, 64, 67, 0.15);\n",
              "    fill: var(--button-hover-fill-color);\n",
              "  }\n",
              "\n",
              "  .colab-df-quickchart-complete:disabled,\n",
              "  .colab-df-quickchart-complete:disabled:hover {\n",
              "    background-color: var(--disabled-bg-color);\n",
              "    fill: var(--disabled-fill-color);\n",
              "    box-shadow: none;\n",
              "  }\n",
              "\n",
              "  .colab-df-spinner {\n",
              "    border: 2px solid var(--fill-color);\n",
              "    border-color: transparent;\n",
              "    border-bottom-color: var(--fill-color);\n",
              "    animation:\n",
              "      spin 1s steps(1) infinite;\n",
              "  }\n",
              "\n",
              "  @keyframes spin {\n",
              "    0% {\n",
              "      border-color: transparent;\n",
              "      border-bottom-color: var(--fill-color);\n",
              "      border-left-color: var(--fill-color);\n",
              "    }\n",
              "    20% {\n",
              "      border-color: transparent;\n",
              "      border-left-color: var(--fill-color);\n",
              "      border-top-color: var(--fill-color);\n",
              "    }\n",
              "    30% {\n",
              "      border-color: transparent;\n",
              "      border-left-color: var(--fill-color);\n",
              "      border-top-color: var(--fill-color);\n",
              "      border-right-color: var(--fill-color);\n",
              "    }\n",
              "    40% {\n",
              "      border-color: transparent;\n",
              "      border-right-color: var(--fill-color);\n",
              "      border-top-color: var(--fill-color);\n",
              "    }\n",
              "    60% {\n",
              "      border-color: transparent;\n",
              "      border-right-color: var(--fill-color);\n",
              "    }\n",
              "    80% {\n",
              "      border-color: transparent;\n",
              "      border-right-color: var(--fill-color);\n",
              "      border-bottom-color: var(--fill-color);\n",
              "    }\n",
              "    90% {\n",
              "      border-color: transparent;\n",
              "      border-bottom-color: var(--fill-color);\n",
              "    }\n",
              "  }\n",
              "</style>\n",
              "\n",
              "  <script>\n",
              "    async function quickchart(key) {\n",
              "      const quickchartButtonEl =\n",
              "        document.querySelector('#' + key + ' button');\n",
              "      quickchartButtonEl.disabled = true;  // To prevent multiple clicks.\n",
              "      quickchartButtonEl.classList.add('colab-df-spinner');\n",
              "      try {\n",
              "        const charts = await google.colab.kernel.invokeFunction(\n",
              "            'suggestCharts', [key], {});\n",
              "      } catch (error) {\n",
              "        console.error('Error during call to suggestCharts:', error);\n",
              "      }\n",
              "      quickchartButtonEl.classList.remove('colab-df-spinner');\n",
              "      quickchartButtonEl.classList.add('colab-df-quickchart-complete');\n",
              "    }\n",
              "    (() => {\n",
              "      let quickchartButtonEl =\n",
              "        document.querySelector('#df-b80b1c22-1d33-4e32-a915-b391d645df4c button');\n",
              "      quickchartButtonEl.style.display =\n",
              "        google.colab.kernel.accessAllowed ? 'block' : 'none';\n",
              "    })();\n",
              "  </script>\n",
              "</div>\n",
              "    </div>\n",
              "  </div>\n"
            ]
          },
          "metadata": {},
          "execution_count": 5
        }
      ]
    },
    {
      "cell_type": "markdown",
      "source": [],
      "metadata": {
        "id": "Fh1aWQLEW52X"
      }
    },
    {
      "cell_type": "markdown",
      "source": [
        "## Visualizar los estadísticos\n",
        "\n",
        "Se visualiza el histograma de los datos numéricos con una línea de la media y relación con la desviación estándar."
      ],
      "metadata": {
        "id": "4VU4QLR-W53i"
      }
    },
    {
      "cell_type": "code",
      "source": [
        "# Crear un histograma\n",
        "# Crear un histograma\n",
        "plt.hist(estaturas, bins=8, edgecolor='k', alpha=0.7)\n",
        "plt.axvline(media, color='red', linestyle='dashed', linewidth=2, label=f'Media = {media:.2f}')\n",
        "plt.axvline(media - desviacion_estandar, color='orange', linestyle='dashed', linewidth=2, label=f'Desv. Estándar = {desviacion_estandar:.2f}')\n",
        "plt.axvline(media + desviacion_estandar, color='orange', linestyle='dashed', linewidth=2)\n",
        "plt.title('Histograma de estaturas con Media y Desviación Estándar')\n",
        "plt.xlabel('Estaturas')\n",
        "plt.ylabel('Frecuencia')\n",
        "plt.legend()\n",
        "plt.show()\n"
      ],
      "metadata": {
        "colab": {
          "base_uri": "https://localhost:8080/",
          "height": 472
        },
        "id": "fPQXTT-9W8WZ",
        "outputId": "47c88387-4702-4458-ee85-0f122f06ea25"
      },
      "execution_count": null,
      "outputs": [
        {
          "output_type": "display_data",
          "data": {
            "text/plain": [
              "<Figure size 640x480 with 1 Axes>"
            ],
            "image/png": "[encoded data removed]"
          },
          "metadata": {}
        }
      ]
    },
    {
      "cell_type": "markdown",
      "source": [],
      "metadata": {
        "id": "IxGXOJWtZEux"
      }
    },
    {
      "cell_type": "markdown",
      "source": [
        "La media de los datos 164.40 en la línea de color rojo representa el promedio de las edades (la media aritmética) y la línea en color amarillo representa la desviación estándar o la variabilidad de los datos con un valor de 20.04, es decir que tanto varían las edades en promedio hacia abajo (iquierda) de la media o por encima (derecha) de la media."
      ],
      "metadata": {
        "id": "0lyM1rt_ZEv1"
      }
    },
    {
      "cell_type": "markdown",
      "source": [
        "## Fórmula de la varianza y desviación estándar\n",
        "\n",
        "### Varianza $\\sigma^2$;\n",
        "\n",
        "$$\n",
        "\\sigma^2 = \\frac{\\sum_{i=1}^N(x_i- \\mu)^2}{N}\n",
        "$$\n",
        "\n",
        "### Desviación Estándar $\\sigma$.\n",
        "\n",
        "La desviación estándar es la raiz cuadrada de la varianza y represnta la variabilida de los datos en las mismas unidades que la media.\n",
        "\n",
        "$$\n",
        "\\sigma = \\sqrt{\\frac{\\sum_{i=1}^N(x_i- \\mu)^2}{N}}=\\sqrt{\\sigma^2}\n",
        "$$\n"
      ],
      "metadata": {
        "id": "FUaF-aL-ZiC6"
      }
    },
    {
      "cell_type": "markdown",
      "source": [
        "## Deterinando desviación estándar de edades (cálculo manual)\n",
        "\n",
        "Se determina la desviación estándar por medio de la construcción de una tabla que va identificando los coeficientes conforme a la fórmula.\n",
        "\n",
        "El resultado de la desviación estándar calculado manualmente, debe ser el mismo que se determina con la función *np.std(edades)* de lal librería *numpy* arriba descrito.\n"
      ],
      "metadata": {
        "id": "Ggsj0EPwaX1a"
      }
    },
    {
      "cell_type": "code",
      "source": [
        "print(estaturas)\n"
      ],
      "metadata": {
        "colab": {
          "base_uri": "https://localhost:8080/"
        },
        "id": "MRhvQisEaryw",
        "outputId": "7c9d2d39-5ac2-4e54-86b9-da1daff5b45e"
      },
      "execution_count": null,
      "outputs": [
        {
          "output_type": "stream",
          "name": "stdout",
          "text": [
            "[165, 175, 169, 180, 178, 170, 168, 160, 172, 153, 166, 175, 180, 169, 180, 170, 172, 170, 170, 170]\n"
          ]
        }
      ]
    },
    {
      "cell_type": "markdown",
      "source": [
        "### Construyendo la tabla\n",
        "\n",
        "* 'x': representa los valores de edades.\n",
        "* 'x_me': La media de edades y/o de x.\n",
        "* 'x-x_me': La diferencia de cada valor x y la media.\n",
        "* '(x-x_me)^2': es el cuadrado de la diferencia de cada valor x y la media. La sumatoria de esta columna divido entre el valo de *n* es la *varianza* y la raiz cuadrada de la varianza es la *desviación estándar* de los datos.\n",
        "\n",
        "\n",
        "\n",
        "\n",
        "> Bloc con sangría\n",
        "\n",
        "\n"
      ],
      "metadata": {
        "id": "9l4Z_F0qbiXD"
      }
    },
    {
      "cell_type": "code",
      "source": [
        "\n",
        "# Generar columnas siguientes\n",
        "tabla = pd.DataFrame({'x': estaturas})\n",
        "tabla['x_me'] = media\n",
        "tabla['x-x_me'] = tabla['x']- tabla['x_me']\n",
        "tabla['(x-x_me)^2'] = tabla['x-x_me']**2  # Al cuadraddo\n",
        "\n",
        "\n",
        "print(tabla)\n",
        "\n",
        "sumatoria = sum(tabla['(x-x_me)^2'])\n",
        "\n",
        "\n",
        "varianza = sumatoria / n\n",
        "desv_std = np.sqrt(varianza)\n",
        "print(\"La varianza \", varianza, \"Con np.var(): \", np.var(estaturas))\n",
        "print(\"La desviación estándar: \", desv_std, \"Con np.std()\", np.std(estaturas))\n",
        "\n"
      ],
      "metadata": {
        "colab": {
          "base_uri": "https://localhost:8080/"
        },
        "id": "hrmx_96RmNJP",
        "outputId": "80e1e350-ad83-4d8c-818f-f8cf9ae30240"
      },
      "execution_count": null,
      "outputs": [
        {
          "output_type": "stream",
          "name": "stdout",
          "text": [
            "      x   x_me  x-x_me  (x-x_me)^2\n",
            "0   165  170.6    -5.6       31.36\n",
            "1   175  170.6     4.4       19.36\n",
            "2   169  170.6    -1.6        2.56\n",
            "3   180  170.6     9.4       88.36\n",
            "4   178  170.6     7.4       54.76\n",
            "5   170  170.6    -0.6        0.36\n",
            "6   168  170.6    -2.6        6.76\n",
            "7   160  170.6   -10.6      112.36\n",
            "8   172  170.6     1.4        1.96\n",
            "9   153  170.6   -17.6      309.76\n",
            "10  166  170.6    -4.6       21.16\n",
            "11  175  170.6     4.4       19.36\n",
            "12  180  170.6     9.4       88.36\n",
            "13  169  170.6    -1.6        2.56\n",
            "14  180  170.6     9.4       88.36\n",
            "15  170  170.6    -0.6        0.36\n",
            "16  172  170.6     1.4        1.96\n",
            "17  170  170.6    -0.6        0.36\n",
            "18  170  170.6    -0.6        0.36\n",
            "19  170  170.6    -0.6        0.36\n",
            "La varianza  42.540000000000006 Con np.var():  42.540000000000006\n",
            "La desviación estándar:  6.5222695436481315 Con np.std() 6.5222695436481315\n"
          ]
        }
      ]
    },
    {
      "cell_type": "markdown",
      "source": [
        "El cálculo de la variabildiad de los datos con el cálculo de la varianza y desviación estándar tanto detallando la fórmula con la construcción de tabla o utilizando las fnciones *var()* y *std() de la biblioteca  *numpy*, deben salir el mismo resultado para estos datos de edades\n",
        "\n"
      ],
      "metadata": {
        "id": "_VYECC_LqfEJ"
      }
    },
    {
      "cell_type": "markdown",
      "source": [
        "# Interpretación\n",
        "\n",
        "Se utilziaron unos datos que represntna la estatura de personas\n",
        "El valor de n es de 20 observaciones o 20 datos\n",
        "La media aritmética fue de aproximadamente 170.04\n",
        "La desviaicón estándar fue de 6.04\n",
        "\n",
        "La desvición estándar significa que tanto varían los datos con respecto a la media aritmética\n",
        "\n",
        "Se visualizó un histograma que represnta la distribución de los datos idengtificando la media airtime´tica en color rojo y  la desviación etánra en color amarillo.\n",
        "\n"
      ],
      "metadata": {
        "id": "sUZ3Z0pPrFU-"
      }
    }
  ]
}