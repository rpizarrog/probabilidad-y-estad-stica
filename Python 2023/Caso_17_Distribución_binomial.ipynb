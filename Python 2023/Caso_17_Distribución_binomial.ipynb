{
  "nbformat": 4,
  "nbformat_minor": 0,
  "metadata": {
    "colab": {
      "provenance": [],
      "authorship_tag": "ABX9TyNp3/xpXh29yHgX0gob9Gfu",
      "include_colab_link": true
    },
    "kernelspec": {
      "name": "python3",
      "display_name": "Python 3"
    },
    "language_info": {
      "name": "python"
    }
  },
  "cells": [
    {
      "cell_type": "markdown",
      "metadata": {
        "id": "view-in-github",
        "colab_type": "text"
      },
      "source": [
        "<a href=\"https://colab.research.google.com/github/rpizarrog/probabilidad-y-estad-stica/blob/master/Python%202023/Caso_17_Distribuci%C3%B3n_binomial.ipynb\" target=\"_parent\"><img src=\"https://colab.research.google.com/assets/colab-badge.svg\" alt=\"Open In Colab\"/></a>"
      ]
    },
    {
      "cell_type": "code",
      "execution_count": null,
      "metadata": {
        "id": "gG33XvXP1nyA"
      },
      "outputs": [],
      "source": []
    },
    {
      "cell_type": "markdown",
      "source": [
        "# Distribución binomial\n",
        "\n",
        "# Objetivo\n",
        "\n",
        "Calcular probabilidades, valor esperado y dispersión de datos de una distribución binomial\n",
        "\n",
        "\n",
        "# Descripción\n",
        "\n",
        "Se identifican ejercicios casos de la literatura de **distribuciones de probabilidad binomial** y se realizan cálculos de probabilidades, se visualiza la densidad el diagrama de barra y la probabilidad acumulada determinan el valor esperado y se calcula la varianza y la desviación estándar.\n",
        "\n",
        "\n",
        "\n"
      ],
      "metadata": {
        "id": "N2nR2qyc12kn"
      }
    },
    {
      "cell_type": "markdown",
      "source": [
        "# Fundamento teórico\n",
        "\n",
        "El experimento de lanzar al aire una moneda es un ejemplo sencillo de una variable aleatoria binomial. Muchos experimentos prácticos resultan en datos similares a que salga cara o cruz al tirar la moneda (Mendenhall, Beaver, and Beaver 2006)\n",
        "\n",
        "Un experimento binomial es el que tiene estas cinco características:\n",
        "\n",
        "- El experimento consiste en n\n",
        " intentos idénticos.\n",
        "\n",
        "- Cada intento resulta en uno de dos resultados, el resultado uno se llama éxito, $S$, y el otro se llama fracaso, $F$.\n",
        "\n",
        "- La probabilidad de éxito en un solo intento es igual a p y es igual de un intento a otro.\n",
        "\n",
        "- La probabilidad de fracaso es igual a q=(1−p).\n",
        "\n",
        "- Los intentos son independientes.\n",
        "\n",
        "El interés es el valor de $x$ , o sea, el número de éxitos observado durante los n\n",
        " intentos, para x=0,1,2,…,n. (Mendenhall, Beaver, and Beaver 2006).\n",
        "\n",
        "Un experimento de Bernoulli puede tener como resultado un éxito con probabilidad $p$ y un fracaso con probabilidad $q=1−p$.\n",
        "\n",
        "Entonces, la distribución de probabilidad de la variable aleatoria binomial $x$\n",
        ", el número de éxito $k$\n",
        " en $n$  ensayos independientes (Walpole, Myers, and Myers 2012):\n",
        "\n",
        "La distribución binomial se utiliza para modelar el número de éxitos en una secuencia de ensayos independientes, donde cada ensayo tiene solo dos resultados posibles: éxito o fracaso.\n",
        "\n",
        "La distribución binomial se caracteriza por dos parámetros: $n$ (el número de ensayos) y $p$ (la probabilidad de éxito en un solo ensayo).\n",
        "\n",
        "Para realizar un ejercicio en Python con la distribución binomial, se puede utilizar la biblioteca *scipy.stats* y estas funciones:\n",
        "\n",
        "- Función de probabilidad *binom.pmf(k, n, p)*\n",
        "- Función acumulada *binom.cdf(k, n, p)*\n",
        "\n",
        "- Función para generar números aleatorios *binom.rvs(n, p, size=100)*\n",
        "\n",
        "## Fórmulas de distribución binomial\n",
        "\n",
        "### Fórmula de probabilidad\n",
        "$$\n",
        "f(x) = prob(x=k) = \\binom{n}{k} \\cdot p^{k} \\cdot q^{(n-k)}\n",
        "$$\n",
        "\n",
        "Para $x = 0,1,2,3...n$\n",
        "\n",
        "y recordando las combinaciones cuantos éxitos $k$ en $n$ ensayos. Interpretar que $x = k$ para la fórmula. Al final el cálculo de la probabildia queda:\n",
        "\n",
        "$$\n",
        "f(x) = \\binom{n}{k} = \\frac{n!}{k!\\cdot(n-k)!} \\cdot p^{k} \\cdot q^{(n-k)}\n",
        "$$\n",
        "\n",
        "### La función acumulada es:\n",
        "\n",
        "$$\n",
        "F(x) =\n",
        "\\sum_{0}^{n}f.x_i\n",
        "$$\n",
        "\n",
        "### Valor esperado\n",
        "\n",
        "El valor esperado está dado por: $$\\mu = n \\cdot p$$\n",
        "\n",
        "\n",
        "### Varianza y desviación estándar\n",
        "\n",
        "La varianza y la desviación estándar se determinan mediante:\n",
        "\n",
        "$$\n",
        "\\sigma^{2} = n \\cdot p \\cdot(1-p)\n",
        "$$\n",
        "y\n",
        "\n",
        "$$\n",
        "\\sigma = \\sqrt{\\sigma^{2}}\n",
        "$$"
      ],
      "metadata": {
        "id": "CdrR3UEY2KHe"
      }
    },
    {
      "cell_type": "markdown",
      "source": [
        "# Desarrollo\n",
        "\n"
      ],
      "metadata": {
        "id": "WFV70FbU15Ev"
      }
    },
    {
      "cell_type": "markdown",
      "source": [
        "## Cargar librerías\n",
        "\n"
      ],
      "metadata": {
        "id": "MSeYP7Wo16J-"
      }
    },
    {
      "cell_type": "code",
      "source": [
        "# Se cargan librerías adecuadas\n",
        "import numpy as np\n",
        "import matplotlib.pyplot as plt\n",
        "from scipy.stats import binom\n",
        "\n",
        "import pandas as pd"
      ],
      "metadata": {
        "id": "zu7phrp62MQ2"
      },
      "execution_count": 35,
      "outputs": []
    },
    {
      "cell_type": "markdown",
      "source": [
        "## Crear funciones\n",
        "\n"
      ],
      "metadata": {
        "id": "t7ny0_B3-4Pw"
      }
    },
    {
      "cell_type": "code",
      "source": [
        "def f_tabla_binomial (x, n, p):\n",
        "  # Calcular las probabilidades para cada valor de x\n",
        "  probabilidades = [binom.pmf(x, n, p) for x in xi]\n",
        "\n",
        "  # Calcular las probabilidades acumuladas\n",
        "  probabilidades_acumuladas = [binom.cdf(x, n, p) for x in xi]\n",
        "\n",
        "  # Crear un DataFrame para la tabla de probabilidades\n",
        "  tabla_probabilidades = pd.DataFrame({'x': valores_x, 'P(X = x)': probabilidades, 'P(X <= x)': probabilidades_acumuladas})\n",
        "\n",
        "  # Mostrar la tabla de probabilidades\n",
        "  #print(tabla_probabilidades)\n",
        "  return (tabla_probabilidades)\n",
        "def f_graficos_probabilidad_discreta(tabla):\n",
        "    # Crear un DataFrame a partir de la tabla de probabilidad\n",
        "    df = pd.DataFrame(tabla)\n",
        "\n",
        "    # Gráfico de barras de probabilidad\n",
        "    plt.figure(figsize=(10, 4))\n",
        "    plt.subplot(1, 2, 1)\n",
        "    plt.bar(df.index, df['P(X = x)'], color='skyblue')\n",
        "    plt.xticks(df.index, df['x'])  # Establecer etiquetas personalizadas en el eje x\n",
        "    plt.xlabel('x')\n",
        "    plt.ylabel('Probabilidad')\n",
        "    plt.title('Gráfico de Barras de Probabilidad')\n",
        "\n",
        "    # Gráfico lineal de probabilidad acumulada\n",
        "    plt.subplot(1, 2, 2)\n",
        "    plt.plot(df.index, df['P(X <= x)'], marker='o', color='green')\n",
        "    plt.xticks(df.index, df['x'])  # Establecer etiquetas personalizadas en el eje x\n",
        "    plt.xlabel('x')\n",
        "    plt.ylabel('Probabilidad Acumulada')\n",
        "    plt.title('Gráfico Lineal de Probabilidad Acumulada')\n",
        "\n",
        "    plt.tight_layout()\n",
        "    plt.show()"
      ],
      "metadata": {
        "id": "grMXkEJE-6TB"
      },
      "execution_count": 40,
      "outputs": []
    },
    {
      "cell_type": "markdown",
      "source": [
        "## Ejercicio de tienda de ropa\n",
        "\n",
        "De acuerdo con la experiencia, el gerente de la tienda estima que la probabilidad de que un cliente realice una compra es $0.30$ o $30\\%$.\n",
        "\n",
        "Se pide:\n",
        "\n",
        "- Identificar las probabilidad para cuando se compre $\\text{{0,1,2,3}}$, determinar la tabla de probabilidad incluyendo probabilidad acumulada. Tabla de probabilidad\n",
        "\n",
        "- Encontrar la probabilidad de que compren dos clientes $f(x=2) = ?$\n",
        "\n",
        "- Encontrar la probabilidad de que compren los tres próximos clientes $f(x=3)$.\n",
        "\n",
        "- Encontrar la probabilidad de que sean menor o igual que dos $f(x\\le2) = ?$.\n",
        "\n",
        "- Calcular la probabilidad de que sean mayor que dos $f(x>2)$.\n",
        "\n",
        "- Determinar el valor esperado $VE$y su significado.\n",
        "\n",
        "- Determinar la varianza $\\sigma^2$ y la desviación estándar $\\sigma$ y su significado\n",
        "\n",
        "- Interpretar el ejercicio\n",
        "\n"
      ],
      "metadata": {
        "id": "s1jRQUie6Sdb"
      }
    },
    {
      "cell_type": "markdown",
      "source": [
        "### Inicializar variables"
      ],
      "metadata": {
        "id": "ATIftsqlAwQ9"
      }
    },
    {
      "cell_type": "code",
      "source": [
        "p = 0.30\n",
        "q = 1 - p\n",
        "xi = [0, 1, 2, 3, 4, 5, 6, 7, 8, 9, 10]\n",
        "n = 10 # Número de ensayos"
      ],
      "metadata": {
        "id": "_mHqlB057CRQ"
      },
      "execution_count": 30,
      "outputs": []
    },
    {
      "cell_type": "markdown",
      "source": [
        "### Construir tabla\n",
        "\n",
        "Solo mandar llamar la función previamente creada"
      ],
      "metadata": {
        "id": "zNxdS6VV7Wto"
      }
    },
    {
      "cell_type": "code",
      "source": [
        "\n",
        "tabla = f_tabla_binomial(x, n, p)\n",
        "print (tabla)\n",
        "\n"
      ],
      "metadata": {
        "colab": {
          "base_uri": "https://localhost:8080/"
        },
        "id": "LDtc0SbU7Y7i",
        "outputId": "0dc3d228-d0c8-4447-cdec-22fb37c36643"
      },
      "execution_count": 41,
      "outputs": [
        {
          "output_type": "stream",
          "name": "stdout",
          "text": [
            "     x  P(X = x)  P(X <= x)\n",
            "0    0  0.028248   0.028248\n",
            "1    1  0.121061   0.149308\n",
            "2    2  0.233474   0.382783\n",
            "3    3  0.266828   0.649611\n",
            "4    4  0.200121   0.849732\n",
            "5    5  0.102919   0.952651\n",
            "6    6  0.036757   0.989408\n",
            "7    7  0.009002   0.998410\n",
            "8    8  0.001447   0.999856\n",
            "9    9  0.000138   0.999994\n",
            "10  10  0.000006   1.000000\n"
          ]
        }
      ]
    },
    {
      "cell_type": "markdown",
      "source": [
        "## Visualizar probabilidades\n",
        "\n"
      ],
      "metadata": {
        "id": "YikMC0o1_I03"
      }
    },
    {
      "cell_type": "code",
      "source": [
        "f_graficos_probabilidad_discreta(tabla)"
      ],
      "metadata": {
        "colab": {
          "base_uri": "https://localhost:8080/",
          "height": 407
        },
        "id": "V2Vm4ZUt_LSh",
        "outputId": "dc7ec334-152f-45c9-b5b4-e85844a7485f"
      },
      "execution_count": 42,
      "outputs": [
        {
          "output_type": "display_data",
          "data": {
            "text/plain": [
              "<Figure size 1000x400 with 2 Axes>"
            ],
            "image/png": "[encoded data removed]"
          },
          "metadata": {}
        }
      ]
    },
    {
      "cell_type": "markdown",
      "source": [
        "## Valor esperado\n",
        "\n"
      ],
      "metadata": {
        "id": "yNtTYvGv_rwq"
      }
    },
    {
      "cell_type": "code",
      "source": [
        "VE = n * p\n",
        "print (\"El valor esperado es: \", np.round(VE, 4))"
      ],
      "metadata": {
        "colab": {
          "base_uri": "https://localhost:8080/"
        },
        "id": "xBGvkTDx_x5v",
        "outputId": "cd793734-4f08-4183-ac38-f75f2577f723"
      },
      "execution_count": 43,
      "outputs": [
        {
          "output_type": "stream",
          "name": "stdout",
          "text": [
            "El valor esperado es:  3.0\n"
          ]
        }
      ]
    },
    {
      "cell_type": "markdown",
      "source": [
        "## Varianza\n"
      ],
      "metadata": {
        "id": "N2UgNlOJ_4e2"
      }
    },
    {
      "cell_type": "code",
      "source": [
        "varianza = n * p *(1 - p)\n",
        "print (\"La varianza es: \", np.round(varianza, 4))\n",
        "print (\"La desviación estándar : \", np.round(np.sqrt(varianza), 4))"
      ],
      "metadata": {
        "colab": {
          "base_uri": "https://localhost:8080/"
        },
        "id": "HDz8Y91f_6LB",
        "outputId": "548b8ad1-b65a-4f82-c11c-63b4049c260d"
      },
      "execution_count": 46,
      "outputs": [
        {
          "output_type": "stream",
          "name": "stdout",
          "text": [
            "La varianza es:  2.1\n",
            "La desviación estándar :  1.4491\n"
          ]
        }
      ]
    },
    {
      "cell_type": "markdown",
      "source": [
        "Significa que puede espera que compren $3$ clientes y puede variar $1.4$ hacia arriba o hacia abajo, es decir de $2$ a $5$ clientes aproximadamente."
      ],
      "metadata": {
        "id": "VGY2CrQFAXYL"
      }
    },
    {
      "cell_type": "markdown",
      "source": [
        "# Interpretación\n",
        "\n",
        "Contestar las preguntas del cada ejercicio\n",
        "\n",
        "- Preguntas de la Tienda\n",
        "\n"
      ],
      "metadata": {
        "id": "zRJNRf5GA4Z5"
      }
    },
    {
      "cell_type": "markdown",
      "source": [
        "# Bibliografía\n",
        "\n",
        "- Anderson, David R., Dennis J. Sweeney, and Thomas A. Williams. 2008. Estadística Para Administración y Economía. 10th ed. Australia • Brasil • Corea • España • Estados Unidos • Japón • México • Reino Unido • Singapur: Cengage Learning,.\n",
        "\n",
        "- Mendenhall, William, Robert J. Beaver, and Barbara M. Beaver. 2006. Introducción a La Probabilidad y Estadística. 13a Edición.\n",
        "\n",
        "- Walpole, Ronald E., Raymond H. Myers, and Sharon L. Myers. 2012. Probabilidad y Estadística Para Ingeniería y Ciencias. Novena Edición. México: Pearson."
      ],
      "metadata": {
        "id": "OHpuV5miBAOa"
      }
    }
  ]
}