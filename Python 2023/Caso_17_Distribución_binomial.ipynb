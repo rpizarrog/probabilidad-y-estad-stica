{
  "nbformat": 4,
  "nbformat_minor": 0,
  "metadata": {
    "colab": {
      "provenance": [],
      "authorship_tag": "ABX9TyNI8/hCgwsEudabCHpzcrf8",
      "include_colab_link": true
    },
    "kernelspec": {
      "name": "python3",
      "display_name": "Python 3"
    },
    "language_info": {
      "name": "python"
    }
  },
  "cells": [
    {
      "cell_type": "markdown",
      "metadata": {
        "id": "view-in-github",
        "colab_type": "text"
      },
      "source": [
        "<a href=\"https://colab.research.google.com/github/rpizarrog/probabilidad-y-estad-stica/blob/master/Python%202023/Caso_17_Distribuci%C3%B3n_binomial.ipynb\" target=\"_parent\"><img src=\"https://colab.research.google.com/assets/colab-badge.svg\" alt=\"Open In Colab\"/></a>"
      ]
    },
    {
      "cell_type": "markdown",
      "source": [
        "# Distribución binomial\n",
        "\n",
        "# Objetivo\n",
        "\n",
        "Calcular probabilidades, valor esperado y dispersión de datos de una distribución binomial\n",
        "\n",
        "\n",
        "# Descripción\n",
        "\n",
        "Se identifican ejercicios casos de la literatura de **distribuciones de probabilidad binomial** y se realizan cálculos de probabilidades, se visualiza la densidad el diagrama de barra y la probabilidad acumulada determinan el valor esperado y se calcula la varianza y la desviación estándar.\n",
        "\n",
        "\n",
        "\n"
      ],
      "metadata": {
        "id": "N2nR2qyc12kn"
      }
    },
    {
      "cell_type": "markdown",
      "source": [
        "# Fundamento teórico\n",
        "\n",
        "El experimento de lanzar al aire una moneda es un ejemplo sencillo de una variable aleatoria binomial. Muchos experimentos prácticos resultan en datos similares a que salga cara o cruz al tirar la moneda (Mendenhall, Beaver, and Beaver 2006)\n",
        "\n",
        "Un experimento binomial es el que tiene estas cinco características:\n",
        "\n",
        "- El experimento consiste en n\n",
        " intentos idénticos.\n",
        "\n",
        "- Cada intento resulta en uno de dos resultados, el resultado uno se llama éxito, $S$, y el otro se llama fracaso, $F$.\n",
        "\n",
        "- La probabilidad de éxito en un solo intento es igual a p y es igual de un intento a otro.\n",
        "\n",
        "- La probabilidad de fracaso es igual a q=(1−p).\n",
        "\n",
        "- Los intentos son independientes.\n",
        "\n",
        "El interés es el valor de $x$ , o sea, el número de éxitos observado durante los n\n",
        " intentos, para x=0,1,2,…,n. (Mendenhall, Beaver, and Beaver 2006).\n",
        "\n",
        "Un experimento de Bernoulli puede tener como resultado un éxito con probabilidad $p$ y un fracaso con probabilidad $q=1−p$.\n",
        "\n",
        "Entonces, la distribución de probabilidad de la variable aleatoria binomial $x$\n",
        ", el número de éxito $k$\n",
        " en $n$  ensayos independientes (Walpole, Myers, and Myers 2012):\n",
        "\n",
        "La distribución binomial se utiliza para modelar el número de éxitos en una secuencia de ensayos independientes, donde cada ensayo tiene solo dos resultados posibles: éxito o fracaso.\n",
        "\n",
        "La distribución binomial se caracteriza por dos parámetros: $n$ (el número de ensayos) y $p$ (la probabilidad de éxito en un solo ensayo).\n",
        "\n",
        "Para realizar un ejercicio en Python con la distribución binomial, se puede utilizar la biblioteca *scipy.stats* y estas funciones:\n",
        "\n",
        "- Función de probabilidad *binom.pmf(k, n, p)*\n",
        "- Función acumulada *binom.cdf(k, n, p)*\n",
        "\n",
        "- Función para generar números aleatorios *binom.rvs(n, p, size=100)*\n",
        "\n",
        "## Fórmulas de distribución binomial\n",
        "\n",
        "### Fórmula de probabilidad\n",
        "$$\n",
        "f(x) = prob(x=k) = \\binom{n}{k} \\cdot p^{k} \\cdot q^{(n-k)}\n",
        "$$\n",
        "\n",
        "Para $x = 0,1,2,3...n$\n",
        "\n",
        "y recordando las combinaciones cuantos éxitos $k$ en $n$ ensayos. Interpretar que $x = k$ para la fórmula. Al final el cálculo de la probabildia queda:\n",
        "\n",
        "$$\n",
        "f(x) = \\binom{n}{k} = \\frac{n!}{k!\\cdot(n-k)!} \\cdot p^{k} \\cdot q^{(n-k)}\n",
        "$$\n",
        "\n",
        "### La función acumulada es:\n",
        "\n",
        "$$\n",
        "F(x) =\n",
        "\\sum_{0}^{n}f.x_i\n",
        "$$\n",
        "\n",
        "### Valor esperado\n",
        "\n",
        "El valor esperado está dado por: $$\\mu = n \\cdot p$$\n",
        "\n",
        "\n",
        "### Varianza y desviación estándar\n",
        "\n",
        "La varianza y la desviación estándar se determinan mediante:\n",
        "\n",
        "$$\n",
        "\\sigma^{2} = n \\cdot p \\cdot(1-p)\n",
        "$$\n",
        "y\n",
        "\n",
        "$$\n",
        "\\sigma = \\sqrt{\\sigma^{2}}\n",
        "$$"
      ],
      "metadata": {
        "id": "CdrR3UEY2KHe"
      }
    },
    {
      "cell_type": "markdown",
      "source": [
        "# Desarrollo\n",
        "\n"
      ],
      "metadata": {
        "id": "WFV70FbU15Ev"
      }
    },
    {
      "cell_type": "markdown",
      "source": [
        "## Cargar librerías\n",
        "\n"
      ],
      "metadata": {
        "id": "MSeYP7Wo16J-"
      }
    },
    {
      "cell_type": "code",
      "source": [],
      "metadata": {
        "id": "nyprHF1VRxWY"
      },
      "execution_count": 13,
      "outputs": []
    },
    {
      "cell_type": "code",
      "source": [
        "# Se cargan librerías adecuadas\n",
        "import numpy as np\n",
        "import matplotlib.pyplot as plt\n",
        "from scipy.stats import binom\n",
        "\n",
        "import pandas as pd"
      ],
      "metadata": {
        "id": "zu7phrp62MQ2"
      },
      "execution_count": 14,
      "outputs": []
    },
    {
      "cell_type": "markdown",
      "source": [
        "## Crear funciones\n",
        "\n"
      ],
      "metadata": {
        "id": "t7ny0_B3-4Pw"
      }
    },
    {
      "cell_type": "code",
      "source": [
        "def f_tabla_binomial (xi, n, p):\n",
        "  # Calcular las probabilidades para cada valor de x\n",
        "  probabilidades = [binom.pmf(x, n, p) for x in xi]\n",
        "\n",
        "  # Calcular las probabilidades acumuladas\n",
        "  probabilidades_acumuladas = [binom.cdf(x, n, p) for x in xi]\n",
        "\n",
        "  # Crear un DataFrame para la tabla de probabilidades\n",
        "  tabla_probabilidades = pd.DataFrame({'x': x, 'P(X = x)': probabilidades, 'P(X <= x)': probabilidades_acumuladas})\n",
        "\n",
        "  # Mostrar la tabla de probabilidades\n",
        "  #print(tabla_probabilidades)\n",
        "  return (tabla_probabilidades)\n",
        "def f_graficos_probabilidad_discreta(tabla):\n",
        "    # Crear un DataFrame a partir de la tabla de probabilidad\n",
        "    df = pd.DataFrame(tabla)\n",
        "\n",
        "    # Gráfico de barras de probabilidad\n",
        "    plt.figure(figsize=(10, 4))\n",
        "    plt.subplot(1, 2, 1)\n",
        "    plt.bar(df.index, df['P(X = x)'], color='skyblue')\n",
        "    plt.xticks(df.index, df['x'])  # Establecer etiquetas personalizadas en el eje x\n",
        "    plt.xlabel('x')\n",
        "    plt.ylabel('Probabilidad')\n",
        "    plt.title('Gráfico de Barras de Probabilidad')\n",
        "\n",
        "    # Gráfico lineal de probabilidad acumulada\n",
        "    plt.subplot(1, 2, 2)\n",
        "    plt.plot(df.index, df['P(X <= x)'], marker='o', color='green')\n",
        "    plt.xticks(df.index, df['x'])  # Establecer etiquetas personalizadas en el eje x\n",
        "    plt.xlabel('x')\n",
        "    plt.ylabel('Probabilidad Acumulada')\n",
        "    plt.title('Gráfico Lineal de Probabilidad Acumulada')\n",
        "\n",
        "    plt.tight_layout()\n",
        "    plt.show()\n",
        "\n",
        "def f_graficos_probabilidad_discreta_VE_ds(tabla, VE, ds):\n",
        "    # Crear un DataFrame a partir de la tabla de probabilidad\n",
        "    df = pd.DataFrame(tabla)\n",
        "\n",
        "    # Gráfico de barras de probabilidad\n",
        "    plt.figure(figsize=(10, 4))\n",
        "    plt.subplot(1, 2, 1)\n",
        "    plt.bar(df.index, df['P(X = x)'], color='skyblue')\n",
        "\n",
        "    # El Valor esperado y desviación izq y der\n",
        "    # Agregar una línea punteada\n",
        "    plt.axvline(x=VE, color='red', linestyle='--', label='VE='+str(np.round(VE, 2)))\n",
        "    plt.axvline(x=VE - ds, color='blue', linestyle='--', label='Desv. Std='+str(np.round(ds, 2)))\n",
        "    plt.axvline(x=VE + ds, color='blue', linestyle='--')\n",
        "\n",
        "    plt.xticks(df.index, df['x'])  # Establecer etiquetas personalizadas en el eje x\n",
        "    plt.xlabel('x')\n",
        "    plt.ylabel('Probabilidad')\n",
        "    plt.title('Gráfico de Barras de Probabilidad con VE y Desv Std.')\n",
        "\n",
        "    plt.tight_layout()\n",
        "    plt.legend()\n",
        "    plt.show()\n"
      ],
      "metadata": {
        "id": "grMXkEJE-6TB"
      },
      "execution_count": 15,
      "outputs": []
    },
    {
      "cell_type": "markdown",
      "source": [
        "## Ejercicio de tienda de ropa\n",
        "\n",
        "De acuerdo con la experiencia, el gerente de la tienda estima que la probabilidad de que un cliente realice una compra es $0.30$ o $30\\%$.\n",
        "\n",
        "Se pide:\n",
        "\n",
        "- Identificar las probabilidad para cuando se compre $\\text{{0,1,2,3}}$, determinar la tabla de probabilidad incluyendo probabilidad acumulada. Tabla de probabilidad\n",
        "\n",
        "- Encontrar la probabilidad de que compren dos clientes $f(x=2) = ?$\n",
        "\n",
        "- Encontrar la probabilidad de que compren los tres próximos clientes $f(x=3)$.\n",
        "\n",
        "- Encontrar la probabilidad de que sean menor o igual que dos $f(x\\le2) = ?$.\n",
        "\n",
        "- Calcular la probabilidad de que sean mayor que dos $f(x>2)$.\n",
        "\n",
        "- Determinar el valor esperado $VE$y su significado.\n",
        "\n",
        "- Determinar la varianza $\\sigma^2$ y la desviación estándar $\\sigma$ y su significado\n",
        "\n",
        "- Interpretar el ejercicio\n",
        "\n"
      ],
      "metadata": {
        "id": "s1jRQUie6Sdb"
      }
    },
    {
      "cell_type": "markdown",
      "source": [
        "### Inicializar variables"
      ],
      "metadata": {
        "id": "ATIftsqlAwQ9"
      }
    },
    {
      "cell_type": "code",
      "source": [
        "p = 0.30\n",
        "q = 1 - p\n",
        "xi = [0, 1, 2, 3, 4, 5, 6, 7, 8, 9, 10]\n",
        "n = 10 # Número de ensayos"
      ],
      "metadata": {
        "id": "_mHqlB057CRQ"
      },
      "execution_count": 16,
      "outputs": []
    },
    {
      "cell_type": "markdown",
      "source": [
        "### Construir tabla\n",
        "\n",
        "Solo mandar llamar la función previamente creada"
      ],
      "metadata": {
        "id": "zNxdS6VV7Wto"
      }
    },
    {
      "cell_type": "code",
      "source": [
        "\n",
        "tabla = f_tabla_binomial(xi, n, p)\n",
        "print (tabla)\n",
        "\n"
      ],
      "metadata": {
        "colab": {
          "base_uri": "https://localhost:8080/"
        },
        "id": "LDtc0SbU7Y7i",
        "outputId": "fe497d43-0998-4265-a845-178e53f7c4dd"
      },
      "execution_count": 17,
      "outputs": [
        {
          "output_type": "stream",
          "name": "stdout",
          "text": [
            "     x  P(X = x)  P(X <= x)\n",
            "0   10  0.028248   0.028248\n",
            "1   10  0.121061   0.149308\n",
            "2   10  0.233474   0.382783\n",
            "3   10  0.266828   0.649611\n",
            "4   10  0.200121   0.849732\n",
            "5   10  0.102919   0.952651\n",
            "6   10  0.036757   0.989408\n",
            "7   10  0.009002   0.998410\n",
            "8   10  0.001447   0.999856\n",
            "9   10  0.000138   0.999994\n",
            "10  10  0.000006   1.000000\n"
          ]
        }
      ]
    },
    {
      "cell_type": "code",
      "source": [
        "for x in xi:\n",
        "  print(x)"
      ],
      "metadata": {
        "colab": {
          "base_uri": "https://localhost:8080/"
        },
        "id": "tioocm704xPr",
        "outputId": "6d8fc66e-7f2e-4891-af77-c579e6b3c0c8"
      },
      "execution_count": 18,
      "outputs": [
        {
          "output_type": "stream",
          "name": "stdout",
          "text": [
            "0\n",
            "1\n",
            "2\n",
            "3\n",
            "4\n",
            "5\n",
            "6\n",
            "7\n",
            "8\n",
            "9\n",
            "10\n"
          ]
        }
      ]
    },
    {
      "cell_type": "markdown",
      "source": [
        "### Visualizar probabilidades\n",
        "\n"
      ],
      "metadata": {
        "id": "YikMC0o1_I03"
      }
    },
    {
      "cell_type": "code",
      "source": [
        "f_graficos_probabilidad_discreta(tabla)"
      ],
      "metadata": {
        "colab": {
          "base_uri": "https://localhost:8080/",
          "height": 407
        },
        "id": "V2Vm4ZUt_LSh",
        "outputId": "934e55e3-ddb9-4663-b63a-f77fad9b75de"
      },
      "execution_count": 19,
      "outputs": [
        {
          "output_type": "display_data",
          "data": {
            "text/plain": [
              "<Figure size 1000x400 with 2 Axes>"
            ],
            "image/png": "[encoded data removed]"
          },
          "metadata": {}
        }
      ]
    },
    {
      "cell_type": "markdown",
      "source": [
        "### Valor esperado\n",
        "\n"
      ],
      "metadata": {
        "id": "yNtTYvGv_rwq"
      }
    },
    {
      "cell_type": "code",
      "source": [
        "VE = n * p\n",
        "print (\"El valor esperado es: \", np.round(VE, 4))"
      ],
      "metadata": {
        "colab": {
          "base_uri": "https://localhost:8080/"
        },
        "id": "xBGvkTDx_x5v",
        "outputId": "a73dbf2e-cce4-40c0-f087-94f7ef3f6677"
      },
      "execution_count": 20,
      "outputs": [
        {
          "output_type": "stream",
          "name": "stdout",
          "text": [
            "El valor esperado es:  3.0\n"
          ]
        }
      ]
    },
    {
      "cell_type": "markdown",
      "source": [
        "### Varianza y desviación estándar\n"
      ],
      "metadata": {
        "id": "N2UgNlOJ_4e2"
      }
    },
    {
      "cell_type": "code",
      "source": [
        "varianza = n * p *(1 - p)\n",
        "print (\"La varianza es: \", np.round(varianza, 4))\n",
        "\n",
        "desv_std = np.sqrt(varianza)\n",
        "print (\"La desviación estándar : \", np.round(desv_std, 4))"
      ],
      "metadata": {
        "colab": {
          "base_uri": "https://localhost:8080/"
        },
        "id": "HDz8Y91f_6LB",
        "outputId": "3674178e-ae06-497b-9508-0fece20433f2"
      },
      "execution_count": 21,
      "outputs": [
        {
          "output_type": "stream",
          "name": "stdout",
          "text": [
            "La varianza es:  2.1\n",
            "La desviación estándar :  1.4491\n"
          ]
        }
      ]
    },
    {
      "cell_type": "markdown",
      "source": [
        "### Visualizar con VE y Desv. Std.\n",
        "\n"
      ],
      "metadata": {
        "id": "1aVZXq5gWA9I"
      }
    },
    {
      "cell_type": "code",
      "source": [
        "f_graficos_probabilidad_discreta_VE_ds(tabla, VE, desv_std)"
      ],
      "metadata": {
        "colab": {
          "base_uri": "https://localhost:8080/",
          "height": 407
        },
        "id": "NiWSmSiHWGhA",
        "outputId": "4a1deabb-7f15-491b-987f-e388386efd31"
      },
      "execution_count": 22,
      "outputs": [
        {
          "output_type": "display_data",
          "data": {
            "text/plain": [
              "<Figure size 1000x400 with 1 Axes>"
            ],
            "image/png": "[encoded data removed]"
          },
          "metadata": {}
        }
      ]
    },
    {
      "cell_type": "markdown",
      "source": [
        "Significa que puede espera que compren $3$ clientes y puede variar $1.4$ hacia arriba o hacia abajo, es decir de $2$ a $5$ clientes aproximadamente."
      ],
      "metadata": {
        "id": "VGY2CrQFAXYL"
      }
    },
    {
      "cell_type": "markdown",
      "source": [
        "## Jugador de basquetbol\n",
        "\n",
        "Un jugador llamado Rubén Pizarro encesta con probabilidad 0.55. (“La Distribución Binomial o de Bernoulli,” n.d.): Ver enlace https://rpubs.com/rpizarro/1045185\n",
        "\n",
        "Determinar las probabilidad de los tiros del 0 al 8 con la tabla de probabilidad. $n=8$.\n",
        "\n",
        "- Determinar la probabilidad de encestar cuatro tiros $f(x=4)$.\n",
        "\n",
        "- Determinar la probabilidad de encestar todos tiros o sea seis $f(x=6)$.\n",
        "\n",
        "- Determinar la probabilidad de encestar al menos tres $f(x≤3)$\n",
        " o, probabildia acumulda de $F(x=3)$\n",
        "\n",
        "- Determinar el valor esperado VE\n",
        "\n",
        "- Determinar la varianza y su desviación estándar\n",
        "\n",
        "- Interpretar el ejercicio"
      ],
      "metadata": {
        "id": "0CTiLZG9aC_7"
      }
    },
    {
      "cell_type": "markdown",
      "source": [
        "### Inicializar variables\n"
      ],
      "metadata": {
        "id": "hDHwPymmaacH"
      }
    },
    {
      "cell_type": "code",
      "source": [
        "p = 0.55\n",
        "q = 1 - p\n",
        "xi = [0, 1, 2, 3, 4, 5, 6, 7, 8]\n",
        "n = 8 # Número de ensayos"
      ],
      "metadata": {
        "id": "h7J0uLt9acRy"
      },
      "execution_count": 23,
      "outputs": []
    },
    {
      "cell_type": "markdown",
      "source": [
        "### Construir tabla\n",
        "\n",
        "Solo mandar llamar la función previamente creada"
      ],
      "metadata": {
        "id": "aeE6tz4pajim"
      }
    },
    {
      "cell_type": "code",
      "source": [
        "tabla = f_tabla_binomial(xi, n, p)\n",
        "print (tabla)"
      ],
      "metadata": {
        "colab": {
          "base_uri": "https://localhost:8080/"
        },
        "id": "eabBqOwJalpG",
        "outputId": "b6ca02e2-0252-42c5-c3be-e171e97c4ae4"
      },
      "execution_count": 24,
      "outputs": [
        {
          "output_type": "stream",
          "name": "stdout",
          "text": [
            "    x  P(X = x)  P(X <= x)\n",
            "0  10  0.001682   0.001682\n",
            "1  10  0.016441   0.018123\n",
            "2  10  0.070333   0.088456\n",
            "3  10  0.171925   0.260381\n",
            "4  10  0.262663   0.523044\n",
            "5  10  0.256826   0.779870\n",
            "6  10  0.156949   0.936819\n",
            "7  10  0.054808   0.991627\n",
            "8  10  0.008373   1.000000\n"
          ]
        }
      ]
    },
    {
      "cell_type": "markdown",
      "source": [
        "### Visualizar probabilidades\n"
      ],
      "metadata": {
        "id": "hVVC4NsUa-be"
      }
    },
    {
      "cell_type": "code",
      "source": [
        "f_graficos_probabilidad_discreta(tabla)"
      ],
      "metadata": {
        "colab": {
          "base_uri": "https://localhost:8080/",
          "height": 407
        },
        "id": "P3K0texlbAXO",
        "outputId": "71cf6c04-52b4-4ec5-9d25-c815db4f1f78"
      },
      "execution_count": 25,
      "outputs": [
        {
          "output_type": "display_data",
          "data": {
            "text/plain": [
              "<Figure size 1000x400 with 2 Axes>"
            ],
            "image/png": "[encoded data removed]"
          },
          "metadata": {}
        }
      ]
    },
    {
      "cell_type": "markdown",
      "source": [
        "### Valor esperado\n"
      ],
      "metadata": {
        "id": "MQGBY1VybD8w"
      }
    },
    {
      "cell_type": "code",
      "source": [
        "VE = n * p\n",
        "print (\"El valor esperado es: \", np.round(VE, 4))"
      ],
      "metadata": {
        "colab": {
          "base_uri": "https://localhost:8080/"
        },
        "id": "nq7l2IxZbFuY",
        "outputId": "7de45fb1-3b8a-4d5b-9960-807d9cc4bd91"
      },
      "execution_count": 26,
      "outputs": [
        {
          "output_type": "stream",
          "name": "stdout",
          "text": [
            "El valor esperado es:  4.4\n"
          ]
        }
      ]
    },
    {
      "cell_type": "markdown",
      "source": [
        "### Varianza y desviación estándar\n"
      ],
      "metadata": {
        "id": "bkrNsY6tbT1R"
      }
    },
    {
      "cell_type": "code",
      "source": [
        "varianza = n * p *(1 - p)\n",
        "print (\"La varianza es: \", np.round(varianza, 4))\n",
        "\n",
        "desv_std = np.sqrt(varianza)\n",
        "print (\"La desviación estándar : \", np.round(desv_std, 4))"
      ],
      "metadata": {
        "colab": {
          "base_uri": "https://localhost:8080/"
        },
        "id": "oo2_eXvXbViC",
        "outputId": "47721da1-c6a7-4048-a811-026e4d4e33da"
      },
      "execution_count": 27,
      "outputs": [
        {
          "output_type": "stream",
          "name": "stdout",
          "text": [
            "La varianza es:  1.98\n",
            "La desviación estándar :  1.4071\n"
          ]
        }
      ]
    },
    {
      "cell_type": "markdown",
      "source": [
        "### Visualizar con VE y Desv. Std.\n"
      ],
      "metadata": {
        "id": "O2m-rfJHca1A"
      }
    },
    {
      "cell_type": "code",
      "source": [
        "f_graficos_probabilidad_discreta_VE_ds(tabla, VE, desv_std)"
      ],
      "metadata": {
        "colab": {
          "base_uri": "https://localhost:8080/",
          "height": 407
        },
        "id": "4tTkxgh0cldq",
        "outputId": "ad15c232-083f-46ff-9a7d-fafeb331b197"
      },
      "execution_count": 28,
      "outputs": [
        {
          "output_type": "display_data",
          "data": {
            "text/plain": [
              "<Figure size 1000x400 with 1 Axes>"
            ],
            "image/png": "[encoded data removed]"
          },
          "metadata": {}
        }
      ]
    },
    {
      "cell_type": "markdown",
      "source": [
        "## Recuperacón de pacientes\n",
        "\n",
        "La probabilidad de que un paciente se recupere de una rara enfermedad sanguínea es $0.40\\%$. Si se sabe que $n=15$ personas contraen tal enfermedad,\n",
        "\n",
        "- Determine tabla de probabilidad de 1 al 15, incluyendo el 0.\n",
        "\n",
        "- Visualizar la gráfica de probabilidades.\n",
        "\n",
        "- ¿Cuál es la probabilidad de que sobrevivan exactamente cinco? $f(x=5)$\n",
        "\n",
        "- ¿Cuál es la probabilidad de que sobrevivan al menos diez, $f(x\\le10)$.\n",
        "\n",
        "- ¿Cuál es la probabilidad de que sobrevivan de tres a ocho? y $f(3 \\le x \\le 8)$\n",
        "\n",
        "- ¿Cuál es el valor esperado $VE$ o la\n",
        "esperanza media?\n",
        "\n",
        "- ¿Cual es la varianza y la desviación estándar?\n",
        "\n",
        "- ¿Cómo se comportarían las probabilidades para un experimento de 100 personas?\n",
        "\n",
        "Ejercicio extraído de (Walpole, Myers, and Myers 2012).\n",
        "\n",
        "**Complementar y construir por parte del alumno repitiendo el mismo proceso que el ejercicio de la tienda y el jugador de basquetbol**."
      ],
      "metadata": {
        "id": "2KAQX3kSdDUN"
      }
    },
    {
      "cell_type": "markdown",
      "source": [
        "## Examen\n",
        "\n",
        "Un estudio refleja que al aplicar un examen de estadística la probabilidad de aprobar (éxito) es del $60\\%$, se pide lo siguiente:\n",
        "\n",
        "- Encuentre la tabla de distribución binomial para 30 estudiantes que presentan el examen\n",
        "\n",
        "- ¿Cuál es la probabilidad de que aprueben 5 alumnos?, $f(x=5)$.\n",
        "\n",
        "- ¿Cuál es la probabilidad de que aprueben 10 alumnos?, $f(x=10)$.\n",
        "\n",
        "- ¿Cuál es la probabilidad de que aprueben 15 o menos alumnos? $f(x \\le 15)$.\n",
        "\n",
        "- ¿Cuál es la probabilidad de que aprueben entre 10 y 20 alumnos?, $f(10 \\le x \\le 20)$.\n",
        "\n",
        "- ¿Cuál es la probabilidad de que aprueben mas de 25 alumnos?, $f(x \\ge 25)$.\n",
        "\n",
        "- Determinar el valor esperado VE y su significado.\n",
        "\n",
        "- Determinar la varianza y su desviación estándard y su significado.\n",
        "\n",
        "**Complementar y construir por parte del alumno repitiendo el mismo proceso que el ejercicio de la tienda y el jugador de basquetbol**."
      ],
      "metadata": {
        "id": "DhI9KEUneF2v"
      }
    },
    {
      "cell_type": "markdown",
      "source": [
        "## Revisión de contaminantes autobuses\n",
        "\n",
        "Un grupo de agentes de tránsito sale a una vía principal para revisar el estado de los autobuses de transporte intermunicipal.\n",
        "\n",
        "De datos históricos se sabe que un $10\\%$\n",
        "de los camiones generan una mayor cantidad de humo de la permitida. En cada jornada los agentes revisan siempre $n=18$ unidades (autobuses).\n",
        "\n",
        "Se asume que el estado de un autobús es independiente del estado de los otros autobuses. (Hernández 2021).\n",
        "\n",
        "- Construir la tabla de distribución\n",
        "\n",
        "- Visualizar la densidad o las probabilidades para cada variable discreta\n",
        "\n",
        "- Calcular la probabilidad de que se encuentren exactamente 2 buses $f(x=2)$ que generan una mayor cantidad de humo de la permitida.\n",
        "\n",
        "- Calcular la probabilidad de que el número de autobuses que sobrepasan el límite de generación de gases sea al menos 4, $f(x<4)$\n",
        "\n",
        "- Calcular la probabilidad de que existan MAS DE TRES (a partir de CUATRO) autobuses que emitan gases por encima de lo permitido en la norma, $f(x > 3)$\n",
        "\n",
        "- Calcular el valor esperado $VE$.\n",
        "\n",
        "- Calcular la varianza y la desviación.\n",
        "\n",
        "- Generar una muestra aleatoria de 100 valores y comparar las frecuencias relativas con las probabilidad originales.\n",
        "\n",
        "**Complementar y construir por parte del alumno repitiendo el mismo proceso que el ejercicio de la tienda y el jugador de basquetbol**."
      ],
      "metadata": {
        "id": "WUlkzBHAfpLj"
      }
    },
    {
      "cell_type": "markdown",
      "source": [
        "# Interpretación\n",
        "\n",
        "Contestar las preguntas del cada ejercicio\n",
        "\n",
        "- Preguntas de los compradores de la tienda\n",
        "- Preguntas del jugador de basquetbol\n",
        "- Preguntas de la recuperación de pacientes\n",
        "- Preguntas del examen\n",
        "- Preguntas de revisión de autobuses\n"
      ],
      "metadata": {
        "id": "zRJNRf5GA4Z5"
      }
    },
    {
      "cell_type": "markdown",
      "source": [
        "# Bibliografía\n",
        "\n",
        "- Anderson, David R., Dennis J. Sweeney, and Thomas A. Williams. 2008. Estadística Para Administración y Economía. 10th ed. Australia • Brasil • Corea • España • Estados Unidos • Japón • México • Reino Unido • Singapur: Cengage Learning,.\n",
        "\n",
        "- Mendenhall, William, Robert J. Beaver, and Barbara M. Beaver. 2006. Introducción a La Probabilidad y Estadística. 13a Edición.\n",
        "\n",
        "- Walpole, Ronald E., Raymond H. Myers, and Sharon L. Myers. 2012. Probabilidad y Estadística Para Ingeniería y Ciencias. Novena Edición. México: Pearson."
      ],
      "metadata": {
        "id": "OHpuV5miBAOa"
      }
    }
  ]
}