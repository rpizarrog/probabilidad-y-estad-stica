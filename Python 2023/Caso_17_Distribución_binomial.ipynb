{
  "nbformat": 4,
  "nbformat_minor": 0,
  "metadata": {
    "colab": {
      "provenance": [],
      "authorship_tag": "ABX9TyMJIhrZrGzcHR3fwwOqkftx",
      "include_colab_link": true
    },
    "kernelspec": {
      "name": "python3",
      "display_name": "Python 3"
    },
    "language_info": {
      "name": "python"
    }
  },
  "cells": [
    {
      "cell_type": "markdown",
      "metadata": {
        "id": "view-in-github",
        "colab_type": "text"
      },
      "source": [
        "<a href=\"https://colab.research.google.com/github/rpizarrog/probabilidad-y-estad-stica/blob/master/Python%202023/Caso_17_Distribuci%C3%B3n_binomial.ipynb\" target=\"_parent\"><img src=\"https://colab.research.google.com/assets/colab-badge.svg\" alt=\"Open In Colab\"/></a>"
      ]
    },
    {
      "cell_type": "code",
      "execution_count": null,
      "metadata": {
        "id": "gG33XvXP1nyA"
      },
      "outputs": [],
      "source": []
    },
    {
      "cell_type": "markdown",
      "source": [
        "# Distribución binomial\n",
        "\n",
        "# Objetivo\n",
        "\n",
        "Calcular probabilidades, valor esperado y dispersión de datos de una distribución binomial\n",
        "\n",
        "\n",
        "# Descripcón\n",
        "\n",
        "\n"
      ],
      "metadata": {
        "id": "N2nR2qyc12kn"
      }
    },
    {
      "cell_type": "markdown",
      "source": [
        "# Fundamento teórico"
      ],
      "metadata": {
        "id": "CdrR3UEY2KHe"
      }
    },
    {
      "cell_type": "markdown",
      "source": [
        "# Desarrollo\n",
        "\n"
      ],
      "metadata": {
        "id": "WFV70FbU15Ev"
      }
    },
    {
      "cell_type": "markdown",
      "source": [
        "## Cargar librerías\n",
        "\n"
      ],
      "metadata": {
        "id": "MSeYP7Wo16J-"
      }
    },
    {
      "cell_type": "code",
      "source": [
        "# Se cargan librerías adecuadas\n"
      ],
      "metadata": {
        "id": "zu7phrp62MQ2"
      },
      "execution_count": null,
      "outputs": []
    }
  ]
}