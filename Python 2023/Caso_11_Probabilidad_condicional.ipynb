{
  "nbformat": 4,
  "nbformat_minor": 0,
  "metadata": {
    "colab": {
      "provenance": [],
      "authorship_tag": "ABX9TyMZhZpS6xdjq7BQOIlxuwUQ",
      "include_colab_link": true
    },
    "kernelspec": {
      "name": "python3",
      "display_name": "Python 3"
    },
    "language_info": {
      "name": "python"
    }
  },
  "cells": [
    {
      "cell_type": "markdown",
      "metadata": {
        "id": "view-in-github",
        "colab_type": "text"
      },
      "source": [
        "<a href=\"https://colab.research.google.com/github/rpizarrog/probabilidad-y-estad-stica/blob/master/Python%202023/Caso_11_Probabilidad_condicional.ipynb\" target=\"_parent\"><img src=\"https://colab.research.google.com/assets/colab-badge.svg\" alt=\"Open In Colab\"/></a>"
      ]
    },
    {
      "cell_type": "markdown",
      "source": [
        "# Objetivo\n",
        "\n",
        "Determinar la probabilidad condicional\n",
        "\n",
        "# Descripción\n",
        "\n",
        "De un conjunto de varios ejercicios extraídos de de la literatura de probabilidad de entre libros y sitios WEB se de termina la probabilidad condicional a partir de datos iniciales.\n",
        "\n",
        "Lo datos iniciales pueden ser la frecuencias, las probabilidad de evento A y evento B así como la probabilidad de intersección entre ambos eventos o conjunto, con ello se determina la probabilidad condicional utilizando la fórmula que se cita más adelante.\n",
        "\n",
        "# Fundamento teórico\n",
        "\n",
        "La probabilidad y la estadística están relacionadas en una forma importante. La probabilidad se emplea como herramienta; permite que se evalúe la confiabilidad de las conclusiones acerca de la población cuando tenga sólo información muestral.\n",
        "\n",
        "Por otra parte, la probabilidad indica el grado de certidumbre o certeza de un suceso o fenómeno estudiado, en la investigación científica existen muchos fenómenos en los cuales es necesario determinar la probabilidad de que un evento ocurra o dejen de ocurrir, para lo cual el estudio de este campo, es necesario, además tiene aplicaciones muy importantes en investigación; dado que es base para la inferencia estadística que permite el estudio de muestras con el objetivo de inferir o extrapolar características de estas a una población.\n",
        "\n",
        "## Axiomas de la probabilidad\n",
        "\n",
        "Un axioma de probabilidad es el componente principal de un sistema de condiciones que deben cumplirse y junto con las pautas de inferencia especifican un sistema deductivo, para que una función determinada sobre un conjunto de eventos determine sus probabilidades.\n",
        "\n",
        "Existe un conjunto de axiomas que fueron formulados por el matemático ruso Kolmogórov. Por lo que se les denomina axiomas de Kolmogorov.\n",
        "\n",
        "### Axioma 1\n",
        "\n",
        "La probabilidad de un evento E no es negativa y debe ser menor o igua a 1 $$\n",
        "0 < p(E) < 1\n",
        "$$\n",
        "\n",
        "Significa que al determinar una probabilidad sobre cualquier evento siempre es cero o superior y menor o gual a uno.\n",
        "\n",
        "Ejemplo: Pensar en la probabilidad de que llueva el dia de hoy: es probable que no llueva, probabilidad igual a cero; es probable que llueva en 0.50 o del 50%; y de que sea seguro que llueva 1 o 100%.\n",
        "\n",
        "La probabilidad de un evento seguro es igual a 1 y se denota $$P(Evento Seguro) = 1$$\n",
        "\n",
        "Ejemplo: En la mano cerrada se tienen dos monedas de a peso Mexicano, si es abre el puño y se extrae una moneda, ¿que tan probable es que sea de a un peso?. La probabilidad es de 1 o del 100% porque es indudable que al sacar la moneda sea de a un peso y únicamente sea a 1 un peso.\n",
        "\n",
        "### Axioma 2\n",
        "\n",
        "Si dos eventos son mutuamente excluyentes, la probabilidad de obtener A o B es igual a la probabilidad de obtener A más la probabilidad de obtener B.\n",
        "\n",
        "$$\n",
        "P(A \\cup B) = P(A) + P(B)\n",
        "$$\n",
        "\n",
        "Ejemplo. si se lanz una moneda al aire, ¿cuál es la probabilidad de que caiga águila o sello?. en ambos casos 1/2 o 0.5 o el 50% de que al caer la moneda, la cara arriba sea sello o águila. $$\n",
        "P(sello) = 1/2\n",
        "$$ $$\n",
        "P(aguila) = 1/2\n",
        "$$\n",
        "\n",
        "$$\\therefore$$ $$\n",
        "P(sello\\cup aguila) = P(sello) + P(aguila) = 1/2+1/2 = 1\n",
        "$$\n",
        "\n",
        "En general se puede decir que la suma de las probabilidades de todos los posibles eventos mutuamente excluyentes es igual a 1. $$\n",
        "\\sum _{i=1}^{n}P(E) = P(E_{1})+P(E_{2})+P(E_{3})+....P(E_{n}) = 1)\n",
        "$$\n",
        "\n",
        "### Axioma 3\n",
        "\n",
        "Si A es un evento cualquiera de un experimento aleatorio y A' es el complemento de A, entonces:\n",
        "\n",
        "$$\n",
        "P(A) = X\n",
        "$$ $$\n",
        "\\therefore\n",
        "$$ $$\n",
        "P(A)'= 1 - P(A) = 1 - X\n",
        "$$\n",
        "\n",
        "o también se puede expresar matemáticamente como: $$\n",
        "P(A)\\complement = 1 - P(A) = 1 - X\n",
        "$$\n",
        "\n",
        "Ejemplo: Si de un total de personas existen un $60\\%$ del género femenino, ¿cuál es el complemento de ese subconjunto? y ¿su probabilidad?. $$\n",
        "P(mujeres) = 0.60\n",
        "$$\n",
        "\n",
        "$$\n",
        "P(mujeres)' = 1 - 0.60 = 0.40\n",
        "$$\n",
        "\n",
        "o el $40\\%$ es el complemento del subconjunto mujeres.\n",
        "\n",
        "Suponiendo que $P(A)$ y $P(B)$ representan las probabilidades para los dos eventos $A$ y $B$, entonces $P(A \\cup B)$ significa la probabilidad de que ocurran A o B. Entonces la $P(A \\cup B) \\neq 0$\n",
        "\n",
        "Si no hay elementos en común entre un conjunto A y B entonces se dice que la probabilidad de la intesección entre ambos es cero $P(A\\cap B) = 0$\n",
        "\n",
        "En dado caso de que si existan elementos en común entre un subconjunto $A$ y $B$ $\\therefore$ $$\n",
        "P(A \\cup B) = P(A) + P(B) - P(A\\cap B)\n",
        "$$\n",
        "\n",
        "El cálculo de las probabilidades se determina en el entendido de que si se conoce el número de casos de un subconjunto y el número total de casos del universo, la probabilidad es determinando la frecuencia relativa.\n",
        "\n",
        "$$\n",
        "P(conjunto) = casos / n\n",
        "$$\n",
        "\n",
        "siendo $casos$ la frecuencia y $n$ el total de elementos de un universo.\n",
        "\n",
        "Ejemplo: En el caso del ejemplo de las 100 personas y existen 40 hombres, ¿Cuál es la probabilidad de elegir a una persona y que ésta se del género masculino?: $$\n",
        "n  = 100\n",
        "$$\n",
        "\n",
        "$$\n",
        "casos = 40\n",
        "$$\n",
        "\n",
        "$$\n",
        "\\therefore\n",
        "$$\n",
        "\n",
        "$$\n",
        "P(hombres) = \\frac{casos}{n} = \\frac{40}{n}  = 0.40\n",
        "$$\n",
        "\n",
        "La probabilidad de elegir a una persona del género masculino dentro de un conjunto de 100 personas es del $40\\%$\n",
        "\n",
        "## Probabilidad Condicional\n",
        "\n",
        "Se conoce como probabilidad condicional a la probabilidad de que se dé un suceso $A$, conociendo, que también se da un suceso $B$\n",
        "\n",
        "La probabilidad de un evento $A$, dado que el evento $B$ ha ocurrido, se denomina probabilidad condicional de $A$, dado que $B$ ha ocurrido, denotada por $$\n",
        "P(A | B)\n",
        "$$\n",
        "\n",
        "La fórmula de la probabilidad condicional está dada por la división de la probabilidad de la intersección de dos conjuntos o eventos entre la probabilidad del segundo evento o del segundo conjunto; se muestra de la siguiente manera:\n",
        "\n",
        "$$\n",
        "P(A | B) = \\frac{P(A \\cap B)}{P(B)}\n",
        "$$\n",
        "\n",
        "ó bien por el contrario $$\n",
        "P(B | A) = \\frac{P(B \\cap A)}{P(A)}\n",
        "$$\n",
        "\n",
        "Siempre y cuando en ambos casos la $P(B)\\ne0$ y $P(A) \\ne0$\n",
        "\n",
        "Ejemplo: Se sabe que el 50% de la población fuma y que el 10% fuma **y** es hipertensa. ¿Cuál es la probabilidad de que un hipertenso sea fumador? o ¿Cuál es la probabilidad de que una persona sea hipertensa dado que es fumador?, se entiende que dado que sea fumador.\n",
        "\n",
        "$$\n",
        "A = \\{hipertensos\\}\n",
        "$$\n",
        "\n",
        "$$\n",
        "B=\\{fumadores\\}\n",
        "$$\n",
        "\n",
        "Se busca encontrar: $$\n",
        "P(A | B) = \\text{hipertenso dado que sea fumador}\\therefore P(A | B) = ?\n",
        "$$\n",
        "\n",
        "$$\n",
        "B = \\{fumadores\\}\\therefore P(B) = 0.50\n",
        "$$\n",
        "\n",
        "$$\n",
        "P(A \\cap B) = \\{hipertenso.y.fumador\\} = 0.10\n",
        "$$\n",
        "\n",
        "$$\n",
        "\\therefore\n",
        "$$\n",
        "\n",
        "$$\n",
        "P(A | B) = \\frac{P(A \\cap B)}{P(B)} = \\frac{0.10}{0.50} = 0.20 \\therefore\n",
        "$$\n",
        "\n",
        "La probabilidad de que se elija a una persona que sea hipertensa dado que es fumador es de $0.20$ o del $20\\%$"
      ],
      "metadata": {
        "id": "tZAAzf6RIPW8"
      }
    },
    {
      "cell_type": "markdown",
      "source": [
        "# Desarrollo\n",
        "\n",
        "Se presentan ejercicios probabilidad condicional\n",
        "\n",
        "## Cargar librerías\n"
      ],
      "metadata": {
        "id": "1ScOvtiGJst0"
      }
    },
    {
      "cell_type": "code",
      "source": [
        "# Cargar librerías\n",
        "\n",
        "import numpy as np"
      ],
      "metadata": {
        "id": "lFU21N1MMIXF"
      },
      "execution_count": null,
      "outputs": []
    },
    {
      "cell_type": "markdown",
      "source": [
        "## Ejercicio 1. Probabilidad A\\|B y probabilidad B\\|A\n",
        "\n",
        "$$P(A) = 0.60 $$ $$P(B) = 0.40$$\n",
        "\n",
        "$$P(A∩B) = 0.18$$\n",
        "\n",
        "Calcular:\n",
        "\n",
        "-   P(A\\|B)\n",
        "\n",
        "$$P(A | B) = \\frac{P(A \\cap B)}{P(B)} = \\frac{0.18}{0.40}=0.45 ≈ 45\\%\n",
        "$$\n",
        "\n"
      ],
      "metadata": {
        "id": "mUjNz3MTJxm1"
      }
    },
    {
      "cell_type": "code",
      "source": [
        "prob_A = 0.60\n",
        "prob_B = 0.40\n",
        "prob_A_inter_B = 0.18\n",
        "prob_B_inter_A = prob_A_inter_B # La misma"
      ],
      "metadata": {
        "id": "F0gAgawQLUP-"
      },
      "execution_count": null,
      "outputs": []
    },
    {
      "cell_type": "markdown",
      "source": [
        "Entonces: $P(A | B)$"
      ],
      "metadata": {
        "id": "QbqOQkHyLxHc"
      }
    },
    {
      "cell_type": "code",
      "source": [
        "prob_A_dado_B = prob_A_inter_B / prob_B\n",
        "print(\"La pobabilidad de que se de A dado B es: \", np.round(prob_A_dado_B * 100, 2), \"%\")"
      ],
      "metadata": {
        "colab": {
          "base_uri": "https://localhost:8080/"
        },
        "id": "ijr4Z8rJLx-b",
        "outputId": "a53b6f1b-c47e-4049-db3c-979248aa7755"
      },
      "execution_count": null,
      "outputs": [
        {
          "output_type": "stream",
          "name": "stdout",
          "text": [
            "La pobabilidad de que se de A dado B es:  45.0 %\n"
          ]
        }
      ]
    },
    {
      "cell_type": "markdown",
      "source": [
        "-   P(B\\|A) $$P(B | A) = \\frac{P(B \\cap A)}{P(A)} = \\frac{0.18}{0.60}=0.3≈ 30\\%\n",
        "$$\n",
        "\n",
        "Entonces: $P(B | A)$"
      ],
      "metadata": {
        "id": "3dK4IQYGMf1Y"
      }
    },
    {
      "cell_type": "code",
      "source": [
        "prob_B_dado_A = prob_B_inter_A / prob_A\n",
        "print(\"La pobabilidad de que se de B dado A es: \", np.round(prob_B_dado_A * 100, 2), \"%\")"
      ],
      "metadata": {
        "colab": {
          "base_uri": "https://localhost:8080/"
        },
        "id": "YsJoQFFiMkf0",
        "outputId": "7547d878-750f-4248-d158-78c51737d281"
      },
      "execution_count": null,
      "outputs": [
        {
          "output_type": "stream",
          "name": "stdout",
          "text": [
            "La pobabilidad de que se de B dado A es:  30.0 %\n"
          ]
        }
      ]
    },
    {
      "cell_type": "markdown",
      "source": [
        "## Ejercicio 2. Hombres y mujeres trabajan y desempleados\n",
        "\n",
        "Se identifican las frecuencias de personas que trabajan y no trabajan hombre y mujeres en el sector obrero de la construcción en una ciudad pequeña X (valores en miles de presonas):\n",
        "\n",
        "| Géneros | Trabaja  | No trabaja   |Total |\n",
        "|---------|----------|-------------|------|\n",
        "| HOMBRE  |  460     |  40         | 500  |\n",
        "| MUJER   |  140     | 260         | 400  |\n",
        "| TOTAL   |  600     | 300         | 900  |\n",
        "\n"
      ],
      "metadata": {
        "id": "O1UnkcWONN-1"
      }
    },
    {
      "cell_type": "code",
      "source": [
        "hombres_trabajan = 460\n",
        "hombres_no_trabajan = 40\n",
        "mujeres_trabajan = 140\n",
        "mujeres_no_trabajan = 260\n",
        "\n",
        "# Suma de cada categoría según género\n",
        "total_hombres = hombres_trabajan + hombres_no_trabajan\n",
        "total_mujeres = mujeres_trabajan + mujeres_no_trabajan\n",
        "print(\"Total hombres\", total_hombres)\n",
        "print(\"Total mujeres\", total_mujeres)\n",
        "\n",
        "# Suma de cada categoría según si trabajan o no\n",
        "total_trabajan = hombres_trabajan + mujeres_trabajan\n",
        "total_no_trabajan = hombres_no_trabajan + mujeres_no_trabajan\n",
        "print(\"Total trabajan\", total_trabajan)\n",
        "print(\"Total no trabajan \", total_no_trabajan)\n",
        "\n",
        "# Suma total de personas\n",
        "n_personas = total_hombres + total_mujeres\n",
        "\n",
        "print(\"Total de personas:\", n_personas)\n"
      ],
      "metadata": {
        "colab": {
          "base_uri": "https://localhost:8080/"
        },
        "id": "mf3H2XBhSbcT",
        "outputId": "2a5cf8d6-2b38-48fb-cd09-48d9909da9e7"
      },
      "execution_count": 20,
      "outputs": [
        {
          "output_type": "stream",
          "name": "stdout",
          "text": [
            "Total hombres 500\n",
            "Total mujeres 400\n",
            "Total trabajan 600\n",
            "Total no trabajan  300\n",
            "Total de personas: 900\n"
          ]
        }
      ]
    },
    {
      "cell_type": "markdown",
      "source": [
        "De este contexto:\n",
        "\n",
        "* ¿cuál es la probabilidad de elegir aleatoriamente a una persona que sea hombre?\n",
        "\n",
        "* ¿cuál es la probabilidad de elegir aleatoriamente a una persona que sea mujer?\n",
        "\n",
        "* ¿cuál es la probabilidad de elegir aleatoriamente a una persona que trabaje?\n",
        "\n",
        "* ¿cuál es la probabilidad de elegir aleatoriamente a una persona que no trabaje?\n",
        "\n"
      ],
      "metadata": {
        "id": "Aj4RyC0XVxJD"
      }
    },
    {
      "cell_type": "markdown",
      "source": [
        "$$\n",
        "\\text{según el género}\\therefore\n",
        "$$\n",
        "\n",
        "$$\n",
        "p(hombre)=\\frac{500}{900}=0.5555≈55.55\\%\n",
        "$$\n",
        "\n",
        "$$\n",
        "p(mujer)=\\frac{400}{900}=0.4444≈44.44\\%\n",
        "\n",
        "$$\n",
        "\\text{según si trabajan o no}\\therefore\n",
        "$$\n",
        "\n",
        "$$\n",
        "p(trabaja)=\\frac{600}{900}=0.6666≈66.66\\%\n",
        "$$\n",
        "\n",
        "$$\n",
        "p(\\text{no trabaja})=\\frac{300}{900}=0.3333≈33.33\\%\n",
        "$$\n"
      ],
      "metadata": {
        "id": "hX74TuqGTi6d"
      }
    },
    {
      "cell_type": "code",
      "source": [
        "print(\"La probabilidad de elegir aleatoriamente a una persona que sea hombre es:\",np.round(total_hombres/n_personas * 100, 2), \"%\")\n",
        "print(\"La probabilidad de elegir aleatoriamente a una persona que sea mujer es:\",np.round(total_mujeres/n_personas * 100, 2), \"%\")\n",
        "print(\"La probabilidad de elegir aleatoriamente a una persona que trabaja:\",np.round(total_trabajan/n_personas * 100, 2), \"%\")\n",
        "print(\"La probabilidad de elegir aleatoriamente a una persona que no trabaja:\",np.round(total_no_trabajan/n_personas * 100, 2), \"%\")"
      ],
      "metadata": {
        "colab": {
          "base_uri": "https://localhost:8080/"
        },
        "id": "qF3UXl1vXdOk",
        "outputId": "c4056ef4-5739-4a17-aaf4-f996fe435f9a"
      },
      "execution_count": 29,
      "outputs": [
        {
          "output_type": "stream",
          "name": "stdout",
          "text": [
            "La probabilidad de elegir aleatoriamente a una persona que sea hombre es: 55.56 %\n",
            "La probabilidad de elegir aleatoriamente a una persona que sea mujer es: 44.44 %\n",
            "La probabilidad de elegir aleatoriamente a una persona que trabaja: 66.67 %\n",
            "La probabilidad de elegir aleatoriamente a una persona que no trabaja: 33.33 %\n"
          ]
        }
      ]
    },
    {
      "cell_type": "markdown",
      "source": [
        "De este contexto:\n",
        "\n",
        "* ¿cuál es la probabilidad de elegir aleatoriamente a una persona que trabaje y sea hombre?\n",
        "\n",
        "* ¿cuál es la probabilidad de elegir aleatoriamente a una persona que no trabaje y sea hombre?\n",
        "\n",
        "* ¿cuál es la probabilidad de elegir aleatoriamente a una persona que trabaje y sea mujer?\n",
        "\n",
        "* ¿cuál es la probabilidad de elegir aleatoriamente a una persona que no trabaje y sea mujer?\n",
        "\n",
        "\n",
        "$$\n",
        "\\text{según género y trabajan}\\therefore\n",
        "$$\n",
        "\n",
        "$$\n",
        "p(hombre\\cap trabaja)=\\frac{460}{900}=0.5111≈51.11\\%\n",
        "$$\n",
        "\n",
        "$$\n",
        "p(hombre\\cap \\text{no trabaja})=\\frac{40}{900}=0.0444≈4.44\\%\n",
        "$$\n",
        "\n",
        "$$\n",
        "\\text{según género y no trabajan}\\therefore\n",
        "$$\n",
        "\n",
        "$$\n",
        "p(mujer \\cap trabaja)=\\frac{140}{900}=0.1555≈15.55\\%\n",
        "$$\n",
        "\n",
        "$$\n",
        "p(mujer \\cap \\text{no trabaja})=\\frac{260}{900}=0.2888≈28.88\\%\n",
        "$$\n",
        "\n"
      ],
      "metadata": {
        "id": "YYgzhOBkYmJh"
      }
    },
    {
      "cell_type": "code",
      "source": [
        "print(\"La probabilidad de elegir aleatoriamente a una persona que sea hombre y trabaja:\",np.round(hombres_trabajan/n_personas * 100, 2), \"%\")\n",
        "print(\"La probabilidad de elegir aleatoriamente a una persona que sea hombre y no trabaja:\",np.round(hombres_no_trabajan/n_personas * 100, 2), \"%\")\n",
        "print(\"La probabilidad de elegir aleatoriamente a una persona que sea mujer y trabaja:\",np.round(mujeres_trabajan/n_personas * 100, 2), \"%\")\n",
        "print(\"La probabilidad de elegir aleatoriamente a una persona que sea mujer y no trabaja:\",np.round(mujeres_no_trabajan/n_personas * 100, 2), \"%\")"
      ],
      "metadata": {
        "colab": {
          "base_uri": "https://localhost:8080/"
        },
        "id": "WV2jHmRKcnUz",
        "outputId": "b1959944-47c3-412a-8b32-7e9805a3f887"
      },
      "execution_count": 31,
      "outputs": [
        {
          "output_type": "stream",
          "name": "stdout",
          "text": [
            "La probabilidad de elegir aleatoriamente a una persona que sea hombre y trabaja: 51.11 %\n",
            "La probabilidad de elegir aleatoriamente a una persona que sea hombre y no trabaja: 4.44 %\n",
            "La probabilidad de elegir aleatoriamente a una persona que sea mujer y trabaja: 15.56 %\n",
            "La probabilidad de elegir aleatoriamente a una persona que sea mujer y no trabaja: 28.89 %\n"
          ]
        }
      ]
    },
    {
      "cell_type": "markdown",
      "source": [
        "Probabilidad condicional:\n",
        "\n",
        "* ¿Cuál es la probabilidad de elegir o seleccionar a una persona que es hombre dado que trabaja?\n",
        "\n",
        "$$\n",
        "p(hombre | trabaja) = \\frac{p(hombre \\cap trabaja)}{p(trabaja)}\\\\\n",
        "p(hombre | trabaja) = \\frac{0.5111}{0.6666}=0.7667\\approx 76.67\\%\n",
        "$$\n",
        "\n",
        "$$\n",
        "P(hombre ∣ trabaja)= \\frac{460}{600} =0.7667\\approx 76.67\\%\n",
        "$$\n",
        "\n",
        "* ¿Cuál es la probabilidad de elegir o seleccionar a una persona que trabaja dado que es hombre?\n",
        "\n",
        "$$\n",
        "p(trabaja | hombre) = \\frac{p(trabaja \\cap hombre)}{p(hombre)}\\\\\n",
        "p(trabaja | hombre) = \\frac{0.5111}{0.5555}=0.9200\\approx 92.00\\%\n",
        "$$\n",
        "\n",
        "$$\n",
        "P(trabaja | hombre)= \\frac{460}{500} ≈=0.9200\\approx 92.00\\%\n",
        "$$"
      ],
      "metadata": {
        "id": "9YW6sUzqdTHJ"
      }
    },
    {
      "cell_type": "code",
      "source": [
        "# Código Python para simular la probabilidad condicional\n",
        "p_hombre_dado_trabaja = (hombres_trabajan/n_personas) / ( total_trabajan/ n_personas)\n",
        "print(\"La probabilidad de elegir aleatoriamente a una persona que sea hombre dado que trabaja:\",np.round(p_hombre_dado_trabaja * 100, 2), \"%\")\n",
        "print (\"o bien \")\n",
        "print(\"La probabilidad de elegir aleatoriamente a una persona que sea hombre dado que trabaja:\",np.round((hombres_trabajan / total_trabajan) * 100, 2), \"%\")\n",
        "print('\\n')\n",
        "p_trabaja_dado_hombre = (hombres_trabajan/n_personas) / ( total_hombres/ n_personas)\n",
        "print(\"La probabilidad de elegir aleatoriamente a una persona que trabaja dado que es hombre:\",np.round(p_trabaja_dado_hombre * 100, 2), \"%\")\n",
        "print (\"o bien \")\n",
        "print(\"La probabilidad de elegir aleatoriamente a una persona que trabaja dado que es hombre:\",np.round((hombres_trabajan / total_hombres) * 100, 2), \"%\")"
      ],
      "metadata": {
        "colab": {
          "base_uri": "https://localhost:8080/"
        },
        "id": "3KR0k98wjbxf",
        "outputId": "2c121364-d70e-4234-bd8c-1d5b91ce3b82"
      },
      "execution_count": 43,
      "outputs": [
        {
          "output_type": "stream",
          "name": "stdout",
          "text": [
            "La probabilidad de elegir aleatoriamente a una persona que sea hombre dado que trabaja: 76.67 %\n",
            "o bien \n",
            "La probabilidad de elegir aleatoriamente a una persona que sea hombre dado que trabaja: 76.67 %\n",
            "\n",
            "\n",
            "La probabilidad de elegir aleatoriamente a una persona que trabaja dado que es hombre: 92.0 %\n",
            "o bien \n",
            "La probabilidad de elegir aleatoriamente a una persona que trabaja dado que es hombre: 92.0 %\n"
          ]
        }
      ]
    },
    {
      "cell_type": "markdown",
      "source": [
        "* ¿Cuál es la probabilidad de elegir o seleccionar a una persona que es mujer dado que trabaja?\n",
        "\n",
        "$$\n",
        "p(mujer | trabaja) = \\frac{p(mujer \\cap trabaja)}{p(trabaja)}\\\\\n",
        "p(mujer | trabaja) = \\frac{0.1555}{0.444}=0.2332\\approx 23.32\\%\n",
        "$$\n",
        "\n",
        "$$\n",
        "P(mujer | trabaja)= \\frac{140}{600} =0.2333\\approx 23.33\\%\n",
        "$$\n",
        "\n",
        "* ¿Cuál es la probabilidad de elegir o seleccionar a una persona que trabaja dado que es mujer?\n",
        "\n",
        "$$\n",
        "p(trabaja | mujer) = \\frac{p(trabaja \\cap mujer)}{p(mujer)}\\\\\n",
        "p(trabaja | mujer) = \\frac{0.1555}{0.4444}=0.3499\\approx 34.99\\%\n",
        "$$\n",
        "\n",
        "$$\n",
        "P(trabaja | hombre)= \\frac{140}{400} ≈ 0.35\\approx 35.00\\%\n",
        "$$\n",
        "\n"
      ],
      "metadata": {
        "id": "a5alZk5Ijc6g"
      }
    },
    {
      "cell_type": "code",
      "source": [
        "# Código Python para simular la probabilidad condicional\n",
        "p_mujeres_dado_trabaja = (mujeres_trabajan/n_personas) / ( total_trabajan/ n_personas)\n",
        "print(\"La probabilidad de elegir aleatoriamente a una persona que sea mujer dado que trabaja:\",np.round(p_mujeres_dado_trabaja * 100, 2), \"%\")\n",
        "print (\"o bien \")\n",
        "print(\"La probabilidad de elegir aleatoriamente a una persona que sea mujer dado que trabaja:\",np.round((mujeres_trabajan / total_trabajan) * 100, 2), \"%\")\n",
        "print('\\n')\n",
        "p_trabaja_dado_mujer = (mujeres_trabajan/n_personas) / ( total_mujeres/ n_personas)\n",
        "print(\"La probabilidad de elegir aleatoriamente a una persona que trabaja dado que es mujer:\",np.round(p_trabaja_dado_mujer * 100, 2), \"%\")\n",
        "print (\"o bien \")\n",
        "print(\"La probabilidad de elegir aleatoriamente a una persona que trabaja dado que es mujer:\",np.round((mujeres_trabajan / total_mujeres) * 100, 2), \"%\")"
      ],
      "metadata": {
        "colab": {
          "base_uri": "https://localhost:8080/"
        },
        "id": "muJrhSH9jdd2",
        "outputId": "4ac97871-a48b-44a7-fcb6-dfdc247d33f7"
      },
      "execution_count": 47,
      "outputs": [
        {
          "output_type": "stream",
          "name": "stdout",
          "text": [
            "La probabilidad de elegir aleatoriamente a una persona que sea mujer dado que trabaja: 23.33 %\n",
            "o bien \n",
            "La probabilidad de elegir aleatoriamente a una persona que sea mujer dado que trabaja: 23.33 %\n",
            "\n",
            "\n",
            "La probabilidad de elegir aleatoriamente a una persona que trabaja dado que es mujer: 35.0 %\n",
            "o bien \n",
            "La probabilidad de elegir aleatoriamente a una persona que trabaja dado que es mujer: 35.0 %\n"
          ]
        }
      ]
    },
    {
      "cell_type": "markdown",
      "source": [
        "## Preguntas:\n",
        "\n",
        "* ¿Cuál es la probabilidad de elegir o seleccionar a una persona que sea hombre dado que no trabaja?\n",
        "\n",
        "* ¿Cuál es la probabilidad de elegir o seleccionar a una persona que sea mujer dado que no trabaja?\n"
      ],
      "metadata": {
        "id": "qXXDIc0usDmP"
      }
    },
    {
      "cell_type": "markdown",
      "source": [],
      "metadata": {
        "id": "rP-SEZOZrOH-"
      }
    },
    {
      "cell_type": "markdown",
      "source": [
        "# Interpretación\n",
        "\n",
        "Contestar las dos preguntas pendientes\n",
        "\n",
        "Describir alrededor de 100 palabras lo aprendido del caso"
      ],
      "metadata": {
        "id": "KDLVbBxflrBO"
      }
    }
  ]
}