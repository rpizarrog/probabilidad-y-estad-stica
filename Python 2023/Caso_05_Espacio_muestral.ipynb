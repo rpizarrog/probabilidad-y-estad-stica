{
  "nbformat": 4,
  "nbformat_minor": 0,
  "metadata": {
    "colab": {
      "provenance": [],
      "authorship_tag": "ABX9TyOfw8fRF2iaV8PkVxOoLe0w",
      "include_colab_link": true
    },
    "kernelspec": {
      "name": "python3",
      "display_name": "Python 3"
    },
    "language_info": {
      "name": "python"
    }
  },
  "cells": [
    {
      "cell_type": "markdown",
      "metadata": {
        "id": "view-in-github",
        "colab_type": "text"
      },
      "source": [
        "<a href=\"https://colab.research.google.com/github/rpizarrog/probabilidad-y-estad-stica/blob/master/Python%202023/Caso_05_Espacio_muestral.ipynb\" target=\"_parent\"><img src=\"https://colab.research.google.com/assets/colab-badge.svg\" alt=\"Open In Colab\"/></a>"
      ]
    },
    {
      "cell_type": "markdown",
      "source": [
        "# Objetivo\n",
        "\n",
        "Crear eventos a partir de un espacio muestral de alumnos."
      ],
      "metadata": {
        "id": "7u8ShwUu9K6A"
      }
    },
    {
      "cell_type": "markdown",
      "source": [
        "# Desarrollo\n",
        "## Cargar librerías"
      ],
      "metadata": {
        "id": "7pW6SuZ89TSB"
      }
    },
    {
      "cell_type": "code",
      "execution_count": 27,
      "metadata": {
        "id": "snKsly5C9IFm"
      },
      "outputs": [],
      "source": [
        "# Cargar librerías\n",
        "\n",
        "import pandas as pd\n",
        "import numpy as np"
      ]
    },
    {
      "cell_type": "markdown",
      "source": [
        "## Cargar los datos\n"
      ],
      "metadata": {
        "id": "g1kWiiEP9XUv"
      }
    },
    {
      "cell_type": "code",
      "source": [
        "# URL del archivo CSV\n",
        "url = \"https://raw.githubusercontent.com/rpizarrog/probabilidad-y-estad-stica/master/2023/datos/alumnos.csv\"\n",
        "\n",
        "# Cargar los datos en un DataFrame\n",
        "datos = pd.read_csv(url)\n",
        "\n",
        "\n",
        "print(\"Los primeros y últimos to registros de datos (alumnos)\")\n",
        "\n",
        "print(datos.head(50))\n",
        "\n",
        "print(datos.tail(50))\n",
        "\n",
        "\n",
        "\n",
        "\n",
        "\n"
      ],
      "metadata": {
        "colab": {
          "base_uri": "https://localhost:8080/"
        },
        "id": "mKV-IBg29Y6m",
        "outputId": "23ac8ff6-22f6-4af0-d2ca-28a600b26f1a"
      },
      "execution_count": 18,
      "outputs": [
        {
          "output_type": "stream",
          "name": "stdout",
          "text": [
            "Los primeros y últimos to registros de datos (alumnos)\n",
            "    matricula         carrera genero  promedio  edad   peso  altura\n",
            "0           1       ELECTRICA      M     85.71    21  82.23  182.23\n",
            "1           2        MECANICA      F     82.59    20  60.45  160.45\n",
            "2           3     INFORMATICA      M     79.50    19  77.68  177.68\n",
            "3           4      BIOQUIMICA      M     85.36    21  78.70  178.70\n",
            "4           5     MECATRONICA      F     83.81    20  57.66  157.66\n",
            "5           6             TIC      M     89.78    22  76.55  176.55\n",
            "6           7  ADMINISTRACION      F     82.83    20  58.03  158.03\n",
            "7           8    ARQUITECTURA      F     89.47    22  62.12  162.12\n",
            "8           9    ARQUITECTURA      F     84.62    21  61.74  161.74\n",
            "9          10         QUIMICA      M     84.38    21  74.67  174.67\n",
            "10         11    ARQUITECTURA      M     87.13    21  80.31  180.31\n",
            "11         12    ARQUITECTURA      M     84.57    21  82.57  182.57\n",
            "12         13         QUIMICA      M     87.95    22  81.28  181.28\n",
            "13         14       ELECTRICA      M     88.30    22  75.95  175.95\n",
            "14         15     INFORMATICA      M     83.91    20  84.12  184.12\n",
            "15         16  ADMINISTRACION      M     88.42    22  79.81  179.81\n",
            "16         17      BIOQUIMICA      F     88.06    22  60.98  160.98\n",
            "17         18         QUIMICA      M     87.57    21  83.08  183.08\n",
            "18         19           CIVIL      F     89.11    22  61.97  161.97\n",
            "19         20       ELECTRICA      M     87.98    22  82.73  182.73\n",
            "20         21     INFORMATICA      M     84.57    21  85.17  185.17\n",
            "21         22        MECANICA      M     84.98    21  78.86  178.86\n",
            "22         23      INDUSTRIAL      F     90.22    22  59.28  159.28\n",
            "23         24        MECANICA      F     86.85    21  58.22  158.22\n",
            "24         25  ADMINISTRACION      M     84.46    21  77.02  177.02\n",
            "25         26     ELECTRONICA      F     79.60    19  57.57  157.57\n",
            "26         27       ELECTRICA      F     83.82    20  58.54  158.54\n",
            "27         28        MECANICA      M     83.02    20  76.39  176.39\n",
            "28         29  ADMINISTRACION      M     91.25    23  80.17  180.17\n",
            "29         30      INDUSTRIAL      M     95.48    24  81.77  181.77\n",
            "30         31      INDUSTRIAL      F     85.05    21  60.50  160.50\n",
            "31         32    ARQUITECTURA      F     90.42    22  58.68  158.68\n",
            "32         33       ELECTRICA      F     83.19    20  58.43  158.43\n",
            "33         34             TIC      F     85.84    21  59.55  159.55\n",
            "34         35    ARQUITECTURA      F     83.79    20  61.33  161.33\n",
            "35         36     ELECTRONICA      M     84.48    21  77.19  177.19\n",
            "36         37           CIVIL      M     87.76    22  82.83  182.83\n",
            "37         38     ELECTRONICA      F     89.91    22  59.45  159.45\n",
            "38         39     ELECTRONICA      M     89.38    22  82.54  182.54\n",
            "39         40  ADMINISTRACION      F     85.57    21  61.72  161.72\n",
            "40         41  ADMINISTRACION      F     87.48    21  57.88  157.88\n",
            "41         42      BIOQUIMICA      M     87.45    21  81.06  181.06\n",
            "42         43     INFORMATICA      M     87.51    21  82.25  182.25\n",
            "43         44           CIVIL      M     85.29    21  82.92  182.92\n",
            "44         45     INFORMATICA      M     87.05    21  77.65  177.65\n",
            "45         46      INDUSTRIAL      F     88.41    22  59.99  159.99\n",
            "46         47    ARQUITECTURA      F     94.22    23  59.92  159.92\n",
            "47         48         QUIMICA      F     89.73    22  61.36  161.36\n",
            "48         49     MECATRONICA      M     87.16    21  79.55  179.55\n",
            "49         50             TIC      M     88.61    22  82.37  182.37\n",
            "      matricula         carrera genero  promedio  edad   peso  altura\n",
            "7510       7511     MECATRONICA      M     81.15    20  76.84  176.84\n",
            "7511       7512        SISTEMAS      M     82.41    20  84.72  184.72\n",
            "7512       7513        MECANICA      F     90.43    22  59.16  159.16\n",
            "7513       7514        SISTEMAS      F     80.69    19  59.41  159.41\n",
            "7514       7515     INFORMATICA      F     86.73    21  61.40  161.40\n",
            "7515       7516             TIC      M     92.40    23  81.67  181.67\n",
            "7516       7517     MECATRONICA      F     83.29    20  61.54  161.54\n",
            "7517       7518      INDUSTRIAL      M     86.08    21  80.56  180.56\n",
            "7518       7519        MECANICA      F     82.75    20  58.52  158.52\n",
            "7519       7520      INDUSTRIAL      M     87.11    21  80.27  180.27\n",
            "7520       7521     INFORMATICA      M     83.87    20  73.96  173.96\n",
            "7521       7522  ADMINISTRACION      F     84.90    21  61.75  161.75\n",
            "7522       7523    ARQUITECTURA      M     88.54    22  81.04  181.04\n",
            "7523       7524       ELECTRICA      M     83.16    20  86.25  186.25\n",
            "7524       7525             TIC      M     83.24    20  81.50  181.50\n",
            "7525       7526      BIOQUIMICA      F     83.45    20  56.36  156.36\n",
            "7526       7527        MECANICA      F     92.69    23  57.91  157.91\n",
            "7527       7528        SISTEMAS      M     90.71    22  81.73  181.73\n",
            "7528       7529        MECANICA      M     88.24    22  81.83  181.83\n",
            "7529       7530        SISTEMAS      F     92.44    23  61.30  161.30\n",
            "7530       7531             TIC      M     77.57    19  82.79  182.79\n",
            "7531       7532             TIC      M     78.79    19  83.17  183.17\n",
            "7532       7533      INDUSTRIAL      M     83.34    20  81.46  181.46\n",
            "7533       7534             TIC      F     84.84    21  62.65  162.65\n",
            "7534       7535        SISTEMAS      F     83.25    20  60.94  160.94\n",
            "7535       7536        MECANICA      F     83.63    20  56.53  156.53\n",
            "7536       7537    ARQUITECTURA      M     87.06    21  81.41  181.41\n",
            "7537       7538     MECATRONICA      M     84.64    21  76.87  176.87\n",
            "7538       7539    ARQUITECTURA      F     88.88    22  61.55  161.55\n",
            "7539       7540      INDUSTRIAL      F     78.83    19  60.16  160.16\n",
            "7540       7541     MECATRONICA      F     86.61    21  58.42  158.42\n",
            "7541       7542     MECATRONICA      M     89.57    22  77.03  177.03\n",
            "7542       7543        SISTEMAS      F     84.54    21  59.91  159.91\n",
            "7543       7544       ELECTRICA      F     88.08    22  56.42  156.42\n",
            "7544       7545      INDUSTRIAL      M     85.28    21  83.17  183.17\n",
            "7545       7546     INFORMATICA      F     90.47    22  58.15  158.15\n",
            "7546       7547       ELECTRICA      F     82.22    20  61.60  161.60\n",
            "7547       7548             TIC      F     91.55    23  56.96  156.96\n",
            "7548       7549        MECANICA      M     83.78    20  81.34  181.34\n",
            "7549       7550        SISTEMAS      F     85.61    21  57.45  157.45\n",
            "7550       7551           CIVIL      M     87.39    21  83.31  183.31\n",
            "7551       7552  ADMINISTRACION      F     90.00    22  62.62  162.62\n",
            "7552       7553     ELECTRONICA      M     87.96    22  77.44  177.44\n",
            "7553       7554      INDUSTRIAL      M     82.25    20  82.02  182.02\n",
            "7554       7555         QUIMICA      F     87.73    22  58.28  158.28\n",
            "7555       7556             TIC      M     83.24    20  76.82  176.82\n",
            "7556       7557  ADMINISTRACION      M     85.43    21  76.54  176.54\n",
            "7557       7558           CIVIL      M     83.87    20  76.25  176.25\n",
            "7558       7559        SISTEMAS      M     86.42    21  77.24  177.24\n",
            "7559       7560  ADMINISTRACION      F     83.72    20  62.85  162.85\n"
          ]
        }
      ]
    },
    {
      "cell_type": "code",
      "source": [
        "# Cuántos alumnos hay\n",
        "datos.describe()\n",
        "\n",
        "n = len(datos)   # La cantidad de datos\n",
        "print (\"Valor de n\", n)"
      ],
      "metadata": {
        "colab": {
          "base_uri": "https://localhost:8080/"
        },
        "id": "G05z4AY-E7op",
        "outputId": "2b359c4d-44b0-47e1-ddd1-f95df6ba5599"
      },
      "execution_count": 23,
      "outputs": [
        {
          "output_type": "stream",
          "name": "stdout",
          "text": [
            "Valor de n 7560\n"
          ]
        }
      ]
    },
    {
      "cell_type": "markdown",
      "source": [
        "## ¿Cúantos alumnos hay de cada carrera: SISTEMAS?\n",
        "\n"
      ],
      "metadata": {
        "id": "MWmh7tU0FeIt"
      }
    },
    {
      "cell_type": "code",
      "source": [
        "sistemas = datos[datos['carrera'] =='SISTEMAS']\n",
        "\n",
        "sistemas\n",
        "\n",
        "nsistemas = len(sistemas)\n",
        "print (\"¿Cuántos alumnos hay de sistemas \",nsistemas, )\n",
        "\n",
        "print (\"La probabilida de seleccionar un alumno de sistemas es \", np.round(nsistemas / n * 100, 4))\n"
      ],
      "metadata": {
        "colab": {
          "base_uri": "https://localhost:8080/"
        },
        "id": "duz4t7c1FiAK",
        "outputId": "2d6bdd69-ca08-46b2-b83c-175336623708"
      },
      "execution_count": 28,
      "outputs": [
        {
          "output_type": "stream",
          "name": "stdout",
          "text": [
            "¿Cuántos alumnos hay de sistemas  613\n",
            "La probabilida de seleccionar un alumno de sistemas es  8.1085\n"
          ]
        }
      ]
    },
    {
      "cell_type": "markdown",
      "source": [
        "## Preguntas\n",
        "\n",
        "De todo el espacio muestral de alumnos conteste lo siguente:\n",
        "\n",
        "* ¿Cúantos alumnos hay de cada carrera: SISTEMAS, AQUITECTURA, QUIMICA?\n",
        "* ¿Cuál es la probabilidad de seleccionar a un alumno aleatoriamente y que este sea de la carrera de SISTEMAS?\n",
        "* ¿Cuántos alumnos hay del género M Masculino?\n",
        "* ¿Cuál es la probabilida de seleccionar aleatoriamente a un alumno del género M?\n",
        "* ¿Cuántos alumnos hay del género F Femenino?\n",
        "* ¿Cuál es la probabilidad de seleccionar a un alumno del género F?\n",
        "* ¿cuántos alumnos hay entre 20 y 22 años?\n",
        "¿Cuál es la probabilidad de seleccionar a un aumno que tenga edad entre 20 y 22 años?\n",
        "* ¿Cuantos alumnos miden por encima de 190 cms de estatura?\n",
        "¿Cuál es la probabilida de elegir a un alumno que mida por encima de 190 cms?\n",
        "\n",
        "\n",
        "\n"
      ],
      "metadata": {
        "id": "yU8hY1YR-YZJ"
      }
    },
    {
      "cell_type": "markdown",
      "source": [
        "# Inerpretación\n",
        "\n",
        "Describir con al menos 100 palabras lo aprendido del caso\n",
        "\n",
        "\n"
      ],
      "metadata": {
        "id": "v2ukU1qk-59Y"
      }
    }
  ]
}