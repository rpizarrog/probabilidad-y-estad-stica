{
  "nbformat": 4,
  "nbformat_minor": 0,
  "metadata": {
    "colab": {
      "provenance": [],
      "authorship_tag": "ABX9TyNHoaRye5jKx8VP8TTTg2dx",
      "include_colab_link": true
    },
    "kernelspec": {
      "name": "python3",
      "display_name": "Python 3"
    },
    "language_info": {
      "name": "python"
    }
  },
  "cells": [
    {
      "cell_type": "markdown",
      "metadata": {
        "id": "view-in-github",
        "colab_type": "text"
      },
      "source": [
        "<a href=\"https://colab.research.google.com/github/rpizarrog/probabilidad-y-estad-stica/blob/master/Python%202023/Caso_05_Espacio_muestral.ipynb\" target=\"_parent\"><img src=\"https://colab.research.google.com/assets/colab-badge.svg\" alt=\"Open In Colab\"/></a>"
      ]
    },
    {
      "cell_type": "markdown",
      "source": [
        "# Objetivo\n",
        "\n",
        "Crear eventos a partir de un espacio muestral de alumnos."
      ],
      "metadata": {
        "id": "7u8ShwUu9K6A"
      }
    },
    {
      "cell_type": "markdown",
      "source": [
        "# Desarrollo\n",
        "## Cargar librerías"
      ],
      "metadata": {
        "id": "7pW6SuZ89TSB"
      }
    },
    {
      "cell_type": "code",
      "execution_count": 1,
      "metadata": {
        "id": "snKsly5C9IFm"
      },
      "outputs": [],
      "source": [
        "# Cargar librerpias\n",
        "\n",
        "import pandas as pd"
      ]
    },
    {
      "cell_type": "markdown",
      "source": [
        "## Cargar los datos\n"
      ],
      "metadata": {
        "id": "g1kWiiEP9XUv"
      }
    },
    {
      "cell_type": "code",
      "source": [
        "# URL del archivo CSV\n",
        "url = \"https://raw.githubusercontent.com/rpizarrog/probabilidad-y-estad-stica/master/datos/alumnos.csv\"\n",
        "\n",
        "# Cargar los datos en un DataFrame\n",
        "datos = pd.read_csv(url)\n",
        "\n",
        "\n",
        "print(\"Los primeros y últimos to registros de datos (alumnos)\")\n",
        "\n",
        "print(datos.head(50))\n",
        "\n",
        "print(datos.tail(50))\n",
        "\n",
        "\n",
        "\n",
        "\n",
        "\n"
      ],
      "metadata": {
        "colab": {
          "base_uri": "https://localhost:8080/"
        },
        "id": "mKV-IBg29Y6m",
        "outputId": "1ceeab8f-9123-4cde-849e-1df20b5aa877"
      },
      "execution_count": 8,
      "outputs": [
        {
          "output_type": "stream",
          "name": "stdout",
          "text": [
            "Los primeros y últimos to registros de datos (alumnos)\n",
            "    matricula         carrera genero  promedio  edad   peso  altura\n",
            "0           1           CIVIL      F     89.12    22  64.06  164.06\n",
            "1           2      BIOQUIMICA      M     81.94    20  80.09  180.09\n",
            "2           3      INDUSTRIAL      F     82.89    20  57.78  157.78\n",
            "3           4        SISTEMAS      M     81.00    20  76.73  176.73\n",
            "4           5           CIVIL      M     84.85    21  79.50  179.50\n",
            "5           6     ELECTRONICA      F     75.95    18  55.24  155.24\n",
            "6           7             TIC      F     82.33    20  58.22  158.22\n",
            "7           8        SISTEMAS      M     86.96    21  77.65  177.65\n",
            "8           9        MECANICA      F     88.60    22  61.16  161.16\n",
            "9          10     INFORMATICA      F     86.84    21  59.96  159.96\n",
            "10         11      INDUSTRIAL      M     89.49    22  76.59  176.59\n",
            "11         12         QUIMICA      M     85.36    21  77.57  177.57\n",
            "12         13  ADMINISTRACION      F     82.60    20  60.90  160.90\n",
            "13         14      INDUSTRIAL      F     86.32    21  59.76  159.76\n",
            "14         15     ELECTRONICA      M     85.82    21  82.33  182.33\n",
            "15         16       ELECTRICA      M     85.72    21  80.82  180.82\n",
            "16         17    ARQUITECTURA      F     83.73    20  61.78  161.78\n",
            "17         18      BIOQUIMICA      M     82.71    20  73.59  173.59\n",
            "18         19    ARQUITECTURA      F     89.53    22  62.81  162.81\n",
            "19         20  ADMINISTRACION      F     88.98    22  61.91  161.91\n",
            "20         21     MECATRONICA      M     87.26    21  81.45  181.45\n",
            "21         22      INDUSTRIAL      M     87.33    21  76.96  176.96\n",
            "22         23         QUIMICA      M     89.86    22  75.64  175.64\n",
            "23         24             TIC      F     90.20    22  60.67  160.67\n",
            "24         25             TIC      M     84.79    21  82.37  182.37\n",
            "25         26             TIC      F     83.02    20  59.00  159.00\n",
            "26         27     ELECTRONICA      F     88.25    22  61.58  161.58\n",
            "27         28      INDUSTRIAL      M     87.14    21  80.29  180.29\n",
            "28         29     ELECTRONICA      M     84.21    20  75.42  175.42\n",
            "29         30       ELECTRICA      F     85.17    21  58.91  158.91\n",
            "30         31        SISTEMAS      M     86.41    21  78.18  178.18\n",
            "31         32             TIC      F     88.88    22  58.70  158.70\n",
            "32         33        SISTEMAS      F     80.60    19  57.55  157.55\n",
            "33         34           CIVIL      F     85.24    21  59.95  159.95\n",
            "34         35     INFORMATICA      M     83.17    20  76.27  176.27\n",
            "35         36      BIOQUIMICA      M     89.73    22  76.41  176.41\n",
            "36         37           CIVIL      F     89.74    22  54.41  154.41\n",
            "37         38         QUIMICA      M     86.49    21  83.03  183.03\n",
            "38         39  ADMINISTRACION      M     86.54    21  80.58  180.58\n",
            "39         40  ADMINISTRACION      F     85.42    21  61.63  161.63\n",
            "40         41     INFORMATICA      M     85.07    21  83.03  183.03\n",
            "41         42         QUIMICA      F     88.80    22  59.61  159.61\n",
            "42         43     MECATRONICA      F     82.10    20  61.99  161.99\n",
            "43         44      INDUSTRIAL      F     81.04    20  56.95  156.95\n",
            "44         45    ARQUITECTURA      M     86.21    21  76.35  176.35\n",
            "45         46      BIOQUIMICA      F     83.25    20  61.73  161.73\n",
            "46         47     INFORMATICA      M     87.18    21  77.18  177.18\n",
            "47         48    ARQUITECTURA      F     85.10    21  60.58  160.58\n",
            "48         49      BIOQUIMICA      F     81.48    20  61.39  161.39\n",
            "49         50       ELECTRICA      F     87.28    21  62.07  162.07\n",
            "      matricula         carrera genero  promedio  edad   peso  altura\n",
            "9950       9951             TIC      M     93.03    23  84.15  184.15\n",
            "9951       9952    ARQUITECTURA      F     88.85    22  61.37  161.37\n",
            "9952       9953         QUIMICA      M     91.68    23  76.99  176.99\n",
            "9953       9954     INFORMATICA      F     88.40    22  60.99  160.99\n",
            "9954       9955     INFORMATICA      F     88.51    22  61.82  161.82\n",
            "9955       9956        SISTEMAS      F     94.08    23  64.16  164.16\n",
            "9956       9957       ELECTRICA      F     84.50    21  61.22  161.22\n",
            "9957       9958        SISTEMAS      F     91.12    22  59.58  159.58\n",
            "9958       9959     INFORMATICA      F     81.21    20  60.40  160.40\n",
            "9959       9960           CIVIL      F     86.45    21  62.37  162.37\n",
            "9960       9961     ELECTRONICA      F     89.40    22  63.52  163.52\n",
            "9961       9962           CIVIL      F     92.67    23  58.99  158.99\n",
            "9962       9963     ELECTRONICA      M     84.66    21  82.30  182.30\n",
            "9963       9964        SISTEMAS      F     95.60    24  61.83  161.83\n",
            "9964       9965      BIOQUIMICA      M     88.03    22  78.15  178.15\n",
            "9965       9966     MECATRONICA      F     84.99    21  62.94  162.94\n",
            "9966       9967      BIOQUIMICA      F     88.18    22  61.05  161.05\n",
            "9967       9968     ELECTRONICA      F     86.44    21  62.81  162.81\n",
            "9968       9969     MECATRONICA      F     80.75    19  55.59  155.59\n",
            "9969       9970  ADMINISTRACION      F     91.91    23  58.46  158.46\n",
            "9970       9971             TIC      M     85.89    21  81.67  181.67\n",
            "9971       9972           CIVIL      M     83.43    20  77.90  177.90\n",
            "9972       9973    ARQUITECTURA      F     87.31    21  56.53  156.53\n",
            "9973       9974      BIOQUIMICA      F     90.02    22  57.25  157.25\n",
            "9974       9975      INDUSTRIAL      M     84.23    20  79.43  179.43\n",
            "9975       9976  ADMINISTRACION      F     86.71    21  59.21  159.21\n",
            "9976       9977      BIOQUIMICA      M     92.03    23  81.48  181.48\n",
            "9977       9978        MECANICA      M     86.94    21  80.69  180.69\n",
            "9978       9979             TIC      F     79.73    19  59.62  159.62\n",
            "9979       9980      INDUSTRIAL      F     83.04    20  58.27  158.27\n",
            "9980       9981           CIVIL      F     85.34    21  59.31  159.31\n",
            "9981       9982    ARQUITECTURA      F     87.41    21  59.87  159.87\n",
            "9982       9983      INDUSTRIAL      M     87.14    21  81.22  181.22\n",
            "9983       9984       ELECTRICA      F     85.58    21  62.77  162.77\n",
            "9984       9985  ADMINISTRACION      F     83.40    20  61.05  161.05\n",
            "9985       9986      INDUSTRIAL      M     83.52    20  80.85  180.85\n",
            "9986       9987         QUIMICA      M     77.70    19  77.35  177.35\n",
            "9987       9988        SISTEMAS      M     81.51    20  82.59  182.59\n",
            "9988       9989        MECANICA      M     80.85    20  82.48  182.48\n",
            "9989       9990     ELECTRONICA      F     82.13    20  64.58  164.58\n",
            "9990       9991     MECATRONICA      M     80.73    19  82.04  182.04\n",
            "9991       9992        SISTEMAS      M     85.91    21  79.07  179.07\n",
            "9992       9993       ELECTRICA      M     90.20    22  82.24  182.24\n",
            "9993       9994       ELECTRICA      M     87.20    21  85.16  185.16\n",
            "9994       9995      BIOQUIMICA      M     86.34    21  80.41  180.41\n",
            "9995       9996       ELECTRICA      M     85.97    21  78.69  178.69\n",
            "9996       9997             TIC      F     91.70    23  63.88  163.88\n",
            "9997       9998             TIC      M     81.51    20  82.62  182.62\n",
            "9998       9999      INDUSTRIAL      F     85.61    21  59.27  159.27\n",
            "9999      10000      INDUSTRIAL      M     85.77    21  80.56  180.56\n"
          ]
        }
      ]
    },
    {
      "cell_type": "markdown",
      "source": [
        "## Preguntas\n",
        "\n",
        "De todo el espacio muestral de alumnos conteste lo siguente:\n",
        "\n",
        "* ¿Cúantos alumnos hay de cada carrera?\n",
        "* ¿Cuál es la probabildia de seleccionar a un alumno de la carrera de SISTEMAS?\n",
        "* ¿Cuántos alumnos hay del género M Masculino?\n",
        "* ¿Cuál es la probabilida de seleccionar a un alumno del género M?\n",
        "* ¿Cuántos alumnos hay del género F Femenino?\n",
        "* ¿Cuál es la probabilida de seleccionar a un alumno del género F?\n",
        "\n"
      ],
      "metadata": {
        "id": "yU8hY1YR-YZJ"
      }
    },
    {
      "cell_type": "markdown",
      "source": [
        "# Inerpretación\n",
        "\n",
        "Describir con al menos 100 palabras lo aprendido del caso\n",
        "\n"
      ],
      "metadata": {
        "id": "v2ukU1qk-59Y"
      }
    }
  ]
}