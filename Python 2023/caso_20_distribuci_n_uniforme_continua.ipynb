{
  "nbformat": 4,
  "nbformat_minor": 0,
  "metadata": {
    "colab": {
      "provenance": [],
      "authorship_tag": "ABX9TyOyzf+mmSCW5LtWcnbXdEL0",
      "include_colab_link": true
    },
    "kernelspec": {
      "name": "python3",
      "display_name": "Python 3"
    },
    "language_info": {
      "name": "python"
    }
  },
  "cells": [
    {
      "cell_type": "markdown",
      "metadata": {
        "id": "view-in-github",
        "colab_type": "text"
      },
      "source": [
        "<a href=\"https://colab.research.google.com/github/rpizarrog/probabilidad-y-estad-stica/blob/master/Python%202023/caso_20_distribuci_n_uniforme_continua.ipynb\" target=\"_parent\"><img src=\"https://colab.research.google.com/assets/colab-badge.svg\" alt=\"Open In Colab\"/></a>"
      ]
    },
    {
      "cell_type": "markdown",
      "source": [
        "# Distribución uniforme continua\n",
        "\n",
        "# Objetivo\n",
        "\n",
        "Calcular probabilidades de variables aletorias que se comportan bajo a distribución uniforme continua.\n",
        "\n",
        "# Decripción\n",
        "\n",
        "- Se cargan librerías.\n",
        "- Se cargan funciones previamente preparadas.\n",
        "- Se generan números aleatorios.\n",
        "- Se definen ejercicios de distribucion uniforme continua.\n",
        "- Se calculan probabilidades.\n",
        "- Se visualiza densidad y áreas bajo la curva de probabilidades.\n",
        "- Se interpreta el caso.\n",
        "\n"
      ],
      "metadata": {
        "id": "kMJHedV6zoeT"
      }
    },
    {
      "cell_type": "markdown",
      "source": [
        "# Funamento teórico\n",
        "\n",
        "La distribución uniforme es una distribución de probabilidad que modela la igualdad de posibilidad entre los eventos en un rango determinado. Puede ser discreta o continua, dependiendo del conjunto de valores que puede tomar la variable aleatoria.\n",
        "\n",
        "La distribución uniforme discreta se utiliza cuando la variable aleatoria solo puede tomar un número finito de valores, y la probabilidad de cada valor es igual. Por ejemplo, si lanzamos un dado justo, cada número del 1 al 6 tiene la misma probabilidad de 1/6 de aparecer.\n",
        "\n",
        "Por otro lado, la distribución uniforme continua se utiliza cuando la variable aleatoria puede tomar cualquier valor en un intervalo continuo, y la probabilidad de cada valor es igual. Por ejemplo, si elegimos un número al azar entre 0 y 1, cada número en ese intervalo tiene la misma probabilidad de aparecer\n",
        "\n",
        "La diferencia entre una distribución uniforme discreta y una distribución uniforme continua se encuentra en sus posibles valores.\n",
        "\n",
        "La distribución uniforme discreta solo puede tomar algunos valores dentro de un intervalo además de que los valores de x's son enteros; en cambio, la distribución uniforme continua puede tomar cualquier valor dentro del intervalo en el que está definida incluyendo enteros y números reales.\n",
        "\n",
        "En general, las distribuciones uniformes discretas solo pueden tomar valores enteros, mientras que las distribuciones uniformes continuas también pueden tomar valores decimales.\n",
        "\n",
        "La distribución uniforme continua es una familia de distribuciones de probabilidad para variables aleatorias continuas, tales que para cada miembro de la familia, todos los intervalos de igual longitud en la distribución en su rango son igualmente probables. El dominio está definido por dos parámetros, $a$ y $b$, que son sus valores mínimo y máximo respectivamente.\n",
        "\n",
        "La distribución o modelo uniforme puede considerarse como proveniente de un proceso de extracción aleatoria .El planteamiento radica en el hecho de que la probabilidad se distribuye uniformemente a lo largo de un intervalo . Así : dada una variable aleatoria continua, $x$ , definida en el intervalo $[a,b]$ de la recta real, se dice que $x$ tiene una distribución uniforme en el intervalo $[a,b]$.\n",
        "\n",
        "\n",
        "## Función de densidad\n",
        "\n",
        "$$\n",
        "f(x) =\n",
        "\\begin{cases}\n",
        "\\frac{1}{b-a} &,\\, \\text{para }a\\leq x \\leq b ,\\\\\n",
        "0&,\\, \\text{en cualquier otro caso }\n",
        "\\end{cases}\n",
        "$$\n",
        "\n",
        "La probabilidad únicamente depende del valor de $(x-a)$\n",
        "\n",
        "En donde:\n",
        "\n",
        "-   $F(x)$es la función de distribución o función de probabilidad acumulada\n",
        "\n",
        "-   $x$ es la variable aleatoria uniforme\n",
        "\n",
        "-   $a$ y $b$ son los valores del intervalo mínimo y máximo respectivamente.\n",
        "\n",
        "\n",
        "La gráfica de esta función, conocida como *curva o función de densidad,* es un **rectángulo**, por ello la distribución uniforme continua se conoce también como *distribución rectangular* y es la más simple de las distribuciones continuas. [@lifeder].\n",
        "\n",
        "\n",
        "## Función de probabilidad acumulada\n",
        "\n",
        "Para calcular probabilidades se puede determinar a función de la distribución $F(X)$ o lo que es lo mismo la Función Acumulada de probabilidad de la distribución uniforme con la siguiente fórmula:\n",
        "\n",
        "$$\n",
        "P(x) = F(x) = \\begin{cases}0; \\text{ para }x \\le a \\\\\\frac{x-a}{b-a} \\text{ para } a\\le x \\le b \\\\1 ; \\text{ para }  x >b\n",
        "\\end{cases}\n",
        "$$\n",
        "\n",
        "\n",
        "## Valor esperado VE\n",
        "\n",
        "El cálculo del valor esperado y de la varianza de una variable aleatoria continua es análogo al de una variable aleatoria discreta. Sin embargo, como en este caso interviene el cálculo integral la deducción de estas fórmulas queda fuera de los ejercicios de este caso.\n",
        "\n",
        "$$E(x) = \\frac{(a+b)}{2}$$\n",
        "\n",
        "\n",
        "## Varianza y desviación estándar\n",
        "\n",
        "$$Var(x) = \\frac{(b-a)^2}{12}$$\n",
        "\n",
        "\n",
        "$$\\alpha = \\sqrt{Var(x)}$$\n",
        "\n",
        "## Funciones en Python\n",
        "\n",
        "En programación Python se utiliza la librería *scipy.stats uniforme* que integra a las siguientes funciones para tratar con variables aleatorias de distribución uniforme continua:\n",
        "\n",
        "- Para generar números aleatorios: *uniform(loc=a, scale=b-a)* en combinación con *dist_uniforme.rvs(size=n)*\n",
        "- Para calcular la densidad: *dist_uniforme.pdf(x)*\n",
        "- Para calcular la probabilida acumulada *dist_uniforme.cdf(x)*"
      ],
      "metadata": {
        "id": "uUarr6An0qmU"
      }
    },
    {
      "cell_type": "markdown",
      "source": [
        "# Desarrollo\n",
        "\n",
        "## Cargar librerías\n"
      ],
      "metadata": {
        "id": "wmMvgCPP7DSu"
      }
    },
    {
      "cell_type": "code",
      "source": [
        "import numpy as np\n",
        "import matplotlib.pyplot as plt\n",
        "from scipy.stats import uniform"
      ],
      "metadata": {
        "id": "oYLmLBf47KTB"
      },
      "execution_count": null,
      "outputs": []
    },
    {
      "cell_type": "markdown",
      "source": [
        "## Cargar funciones"
      ],
      "metadata": {
        "id": "nb2M5IJG7LIS"
      }
    },
    {
      "cell_type": "code",
      "source": [
        "# Pendiente ...\n",
        "def f_visualizar_densidad_uniforme(x):\n",
        "  # Graficar la densidad de probabilidad\n",
        "  #x = np.linspace(a, b, 100)\n",
        "  pdf = uniform.pdf(x)\n",
        "  plt.plot(x, pdf, label='Densidad de probabilidad')\n",
        "  plt.title('Distribución Uniforme Continua - Densidad de probabilidad')\n",
        "  plt.xlabel('Valor')\n",
        "  plt.ylabel('Densidad de probabilidad')\n",
        "  plt.legend()\n",
        "  plt.show()"
      ],
      "metadata": {
        "id": "jU6Dsqb97Gx1"
      },
      "execution_count": null,
      "outputs": []
    },
    {
      "cell_type": "markdown",
      "source": [
        "### Calcular números aleatorios de distribución uniforme\n",
        "\n",
        "Se calcular valores aleatorios de entre 10 y 15.\n",
        "\n",
        "$a = 10$\n",
        "$b = 15 = 10+5$"
      ],
      "metadata": {
        "id": "krzCcx2k8jYr"
      }
    },
    {
      "cell_type": "code",
      "source": [
        "a = 10\n",
        "b = 10 + 5\n",
        "numeros_aleatorios = uniform.rvs(10, 5, size=10)\n",
        "print (numeros_aleatorios)\n",
        "\n",
        "f_visualizar_densidad_uniforme(numeros_aleatorios)"
      ],
      "metadata": {
        "colab": {
          "base_uri": "https://localhost:8080/",
          "height": 507
        },
        "id": "VChDLefm8a6Q",
        "outputId": "29605f52-3fae-43e8-aab7-da3b4474795a"
      },
      "execution_count": null,
      "outputs": [
        {
          "output_type": "stream",
          "name": "stdout",
          "text": [
            "[10.0434347  13.12204471 12.88318514 11.21544624 12.32524443 12.69780749\n",
            " 14.35993995 11.75496216 13.63336533 13.49624201]\n"
          ]
        },
        {
          "output_type": "display_data",
          "data": {
            "text/plain": [
              "<Figure size 640x480 with 1 Axes>"
            ],
            "image/png": "[encoded data removed]"
          },
          "metadata": {}
        }
      ]
    },
    {
      "cell_type": "markdown",
      "source": [
        "# Interpretación del caso\n",
        "\n",
        "\n",
        "\n",
        "# Bibliografía\n",
        "\n",
        "- Anderson, David R., Dennis J. Sweeney, and Thomas A. Williams. 2008. Estadística Para Administración y Economía. 10th ed. Australia • Brasil • Corea • España • Estados Unidos • Japón • México • Reino Unido • Singapur: Cengage Learning,.\n",
        "\n",
        "- Aqueronte. 2009. “R: Distribución Uniforme.” 2009. http://unbarquero.blogspot.com/2009/05/r-distribucion-uniforme.html.\n",
        "\n",
        "- lifeder. “Distribución uniforme continua: características, ejemplos, aplicaciones”. https://www.lifeder.com/distribucion-uniforme-continua/.\n",
        "\n"
      ],
      "metadata": {
        "id": "-HeT76Ia4TKt"
      }
    }
  ]
}