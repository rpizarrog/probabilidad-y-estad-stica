{
  "nbformat": 4,
  "nbformat_minor": 0,
  "metadata": {
    "colab": {
      "provenance": [],
      "authorship_tag": "ABX9TyMeXCbmkKba1nICIm9TeXmj",
      "include_colab_link": true
    },
    "kernelspec": {
      "name": "python3",
      "display_name": "Python 3"
    },
    "language_info": {
      "name": "python"
    }
  },
  "cells": [
    {
      "cell_type": "markdown",
      "metadata": {
        "id": "view-in-github",
        "colab_type": "text"
      },
      "source": [
        "<a href=\"https://colab.research.google.com/github/rpizarrog/probabilidad-y-estad-stica/blob/master/Python%202023/caso_06_Combinaciones_y_probabilidad.ipynb\" target=\"_parent\"><img src=\"https://colab.research.google.com/assets/colab-badge.svg\" alt=\"Open In Colab\"/></a>"
      ]
    },
    {
      "cell_type": "code",
      "execution_count": null,
      "metadata": {
        "id": "3hbdH_kwsrIR"
      },
      "outputs": [],
      "source": [
        "# Objetivo\n"
      ]
    },
    {
      "cell_type": "markdown",
      "source": [
        "# Objetivo\n",
        "\n",
        "Construir combinaciones de conjuntos de datos de nombres de personas y de símbolos alfabéticos y *dígitos*.\n"
      ],
      "metadata": {
        "id": "0WSwp08cstUs"
      }
    },
    {
      "cell_type": "markdown",
      "source": [
        "# Descripción\n",
        "\n",
        "A partir de conjuntos datos (valores individuales) realizar **combinaciones** para conocer el número de las mismas y el acomodo de los valores para su interpretación en términos de probabilidad.\n",
        "\n",
        "- Cargar librerías\n",
        "\n",
        "- Identificar fórmula de factorial\n",
        "\n",
        "- Identificar fórmula de combinaciones\n",
        "\n",
        "- Construir los datos (personas y caracteres)\n",
        "\n",
        "- Determinar probabilidades a partir del espacio muestral de las combinaciones\n",
        "\n",
        "- Encontrar probabilidad con base en frecuencia o contabilizar eventos específicos del espacio muestral\n",
        "\n",
        "- Interpretar el caso"
      ],
      "metadata": {
        "id": "EgbWH7PmtULc"
      }
    },
    {
      "cell_type": "code",
      "source": [
        "nombres = [\"Oscar\", \"Paco\", \"Paty\", \"Laura\", \"Rubén\", \"Luis\", \"Lucy\", \"Alberto\", \"Juan\"]\n",
        "n <- length(nombres)\n",
        "r <- 2 # ¿cómo agrupar?\n",
        "\n",
        "Cn <- factorial(n) / (factorial(r) * factorial(n-r))\n",
        "\n",
        "paste(\"Existen \", Cn , \" posibles combinaciones del total de \", n , \" nombres \", \" en grupos de \", r ,\" en \", r)"
      ],
      "metadata": {
        "id": "j47KuszlxuKX"
      },
      "execution_count": null,
      "outputs": []
    },
    {
      "cell_type": "markdown",
      "source": [
        "# Marco conceptual\n",
        "\n",
        "Para hacer combinaciones es necesario identificar la importancia del valor factorial de un número\n",
        "\n",
        "## Factorial\n",
        "\n",
        "El factorial de un número es el producto de $n$ por todos los naturales menores que el y se representa con el $!n$, entonces $n!=n\\times(n-1)...\\times 1$.\n",
        "\n",
        "La notación ! significa factorial; por ejemplo, 5 factorial es $5! = (5)\\cdot(4)\\cdot(3)\\cdot(2)\\cdot(1) = 120$.\n",
        "\n",
        "Nota: Factorial de $0! = 1$\n",
        "\n",
        "La función factorial es una fórmula matemática representada por el signo de exclamación $!$. En la fórmula Factorial se deben multiplicar todos los números enteros y positivos que hay entre el número que aparece en la fórmula y el número $1$.\n",
        "\n",
        "Ejemplo: hallar el factorial de 6 o se sea $6!=6\\times5\\times4\\times3\\times2\\times1=720$\n",
        "\n",
        "## Combinaciones\n",
        "\n",
        "La regla de conteo de *combinaciones* permite contar el número de resultados experimentales cuando el experimento consiste en $r$ objetos de un conjunto (usualmente mayor) de $n$ objetos.\n",
        "\n",
        "El número de combinaciones distintas de $n$ objetos distintos que se pueden formar, tomando $r$ de ellos a un tiempo.\n",
        "\n",
        "### Fórmula de combinaciones sin repetición\n",
        "\n",
        "Fórmula de combinaciones en donde no se puede repetir el mismo valor (sin repetición)\n",
        "\n",
        "$$\n",
        "S=Cn\\binom{n}{r} = \\frac{n!}{(r!\\cdot(n-r)!)}\\\\S \\text{ es el espacio muestral y la cantidad de combinaciones} \\\\Cn \\text{ es el número de combinaciones posibles}\\\\ \\binom{n}{r} \\text {es símbolo de combinar n elementos en grupos de r}\\\\ n \\text{ es el total de elementos}\\\\ r \\text{ es de cuantos en cuantos elementos se hacen grupos}\n",
        "$$\n",
        "\n",
        "#### Ejemplo 1. Nombres de personas\n",
        "\n",
        "Se trata de hacer combinaciones sin repetición con los nombres de diez personas: \"Oscar\", \"Paco\", \"Paty\", \"Laura\", \"Rubén\", \"Luis\", \"Lucy\", \"Alberto\", \"Juan\", \"Danny\" en grupos de dos.\n",
        "\n",
        "Entonces $n=10$, porque hay diez nombres o elementos y $r=2$ porque se trata de agrupar de dos en dos.\n",
        "\n",
        "¿Cuántas combinaciones deberá haber?\n",
        "\n",
        "-   Oscar y Paco\n",
        "-   Oscar y Paty\n",
        "-   Oscar y Laura\n",
        "-   Paco y Paty\n",
        "-   ... ...\n",
        "-   Paty y Laura\n",
        "-   ... ...\n",
        "-   Juan y Laura\n",
        "\n",
        "$$\n",
        "Cn\\binom{n}{r} = \\frac{n!}{(r!\\cdot(n-r)!)} \\therefore \\\\\n",
        "Cn\\binom{n=10}{r=2} = \\frac{10!}{2!\\cdot(10-2)!} =\\frac{10!}{2!\\cdot 8!}=\\frac{3628800}{2\\cdot 40320} = \\frac{3628800}{80640}=45\n",
        "$$\n"
      ],
      "metadata": {
        "id": "oErsRHHYtud1"
      }
    },
    {
      "cell_type": "code",
      "source": [
        "\n",
        "import math as mt # Para utilziar factorial\n",
        "from itertools import combinations\n",
        "\n",
        "nombres = [\"Oscar\", \"Paco\", \"Paty\", \"Laura\", \"Rubén\", \"Luis\", \"Lucy\", \"Alberto\", \"Juan\", \"Danny\"]\n",
        "n = len(nombres)\n",
        "r = 2 # ¿cómo agrupar?\n",
        "\n",
        "Cn = mt.factorial(n) / (mt.factorial(r) * mt.factorial(n-r))\n",
        "\n",
        "print(\"Existen \", Cn , \" posibles combinaciones sin repetición del total de \", n , \" nombres \", \" en grupos de \", r ,\" en \", r)\n",
        "\n",
        "print(\"Aquí las combinaciones\")\n",
        "combinaciones_nombres = list(combinations(nombres, r))\n",
        "\n",
        "# Imprime las combinaciones\n",
        "for combinacion in combinaciones_nombres:\n",
        "  print(combinacion)\n",
        "\n"
      ],
      "metadata": {
        "colab": {
          "base_uri": "https://localhost:8080/"
        },
        "id": "tMD28BnKyZjd",
        "outputId": "80487b08-e8f5-40ae-fc92-f3081fba3050"
      },
      "execution_count": 14,
      "outputs": [
        {
          "output_type": "stream",
          "name": "stdout",
          "text": [
            "Existen  45.0  posibles combinaciones sin repetición del total de  10  nombres   en grupos de  2  en  2\n",
            "Aquí las combinaciones\n",
            "('Oscar', 'Paco')\n",
            "('Oscar', 'Paty')\n",
            "('Oscar', 'Laura')\n",
            "('Oscar', 'Rubén')\n",
            "('Oscar', 'Luis')\n",
            "('Oscar', 'Lucy')\n",
            "('Oscar', 'Alberto')\n",
            "('Oscar', 'Juan')\n",
            "('Oscar', 'Danny')\n",
            "('Paco', 'Paty')\n",
            "('Paco', 'Laura')\n",
            "('Paco', 'Rubén')\n",
            "('Paco', 'Luis')\n",
            "('Paco', 'Lucy')\n",
            "('Paco', 'Alberto')\n",
            "('Paco', 'Juan')\n",
            "('Paco', 'Danny')\n",
            "('Paty', 'Laura')\n",
            "('Paty', 'Rubén')\n",
            "('Paty', 'Luis')\n",
            "('Paty', 'Lucy')\n",
            "('Paty', 'Alberto')\n",
            "('Paty', 'Juan')\n",
            "('Paty', 'Danny')\n",
            "('Laura', 'Rubén')\n",
            "('Laura', 'Luis')\n",
            "('Laura', 'Lucy')\n",
            "('Laura', 'Alberto')\n",
            "('Laura', 'Juan')\n",
            "('Laura', 'Danny')\n",
            "('Rubén', 'Luis')\n",
            "('Rubén', 'Lucy')\n",
            "('Rubén', 'Alberto')\n",
            "('Rubén', 'Juan')\n",
            "('Rubén', 'Danny')\n",
            "('Luis', 'Lucy')\n",
            "('Luis', 'Alberto')\n",
            "('Luis', 'Juan')\n",
            "('Luis', 'Danny')\n",
            "('Lucy', 'Alberto')\n",
            "('Lucy', 'Juan')\n",
            "('Lucy', 'Danny')\n",
            "('Alberto', 'Juan')\n",
            "('Alberto', 'Danny')\n",
            "('Juan', 'Danny')\n"
          ]
        }
      ]
    },
    {
      "cell_type": "markdown",
      "source": [
        "#### Ejemplo 2. Caracteres alfabéticos y dígitos.\n",
        "\n",
        "Se trata de hacer combinaciones con los caracteres del alfabeto español: \"A\", \"B\", \"C\", \"D\", \"E\", \"F\"; los dígitos 0 al 9:  \"0\", \"1\", \"2\", \"3\", \"4\", \"5\".\n",
        "\n",
        "Entonces hay $n=12$ caracteres, y se van a formar cadenas de $r=10$ porque se trata de agrupar de diez en diez.\n",
        "\n",
        "$$\n",
        "Cn\\binom{n}{r} = \\frac{n!}{(r!\\cdot(n-r)!)} \\therefore \\\\\n",
        "Cn\\binom{n=12}{r=10} = \\frac{12!}{10!\\cdot(12-10)!} =\\frac{12!}{10!\\cdot 2!}=\\frac{479001600}{3628800 cdot 2} = \\frac{479001600}{3 7257600}=66\n",
        "$$"
      ],
      "metadata": {
        "id": "jPz33Ipn5GoC"
      }
    },
    {
      "cell_type": "code",
      "source": [
        "import math as mt # Para utilizar factorial\n",
        "from itertools import combinations\n",
        "\n",
        "caracteres = [\"A\", \"B\", \"C\", \"D\", \"E\", \"F\", \"0\", \"1\", \"2\", \"3\", \"4\", \"5\"]\n",
        "n = len(caracteres)\n",
        "r = 10 # ¿cómo agrupar?\n",
        "\n",
        "Cn = mt.factorial(n) / (mt.factorial(r) * mt.factorial(n-r))\n",
        "\n",
        "\n",
        "print(\"Existen \", Cn , \" posibles combinaciones sin repetición del total de \", n , \" caracteres \", \" en grupos de \", r ,\" en \", r)\n",
        "\n",
        "print(\"Aquí las combinaciones\")\n",
        "combinaciones_caracteres = list(combinations(caracteres, r))\n",
        "\n",
        "# Imprime las combinaciones\n",
        "for combinacion in combinaciones_caracteres:\n",
        "  print(combinacion)"
      ],
      "metadata": {
        "colab": {
          "base_uri": "https://localhost:8080/"
        },
        "id": "28TxN1Vr8V63",
        "outputId": "3a3bb7f7-4cf5-4c7b-ae79-844dec067f55"
      },
      "execution_count": 3,
      "outputs": [
        {
          "output_type": "stream",
          "name": "stdout",
          "text": [
            "Existen  66.0  posibles combinaciones sin repetición del total de  12  caracteres   en grupos de  10  en  10\n",
            "Aquí las combinaciones\n",
            "('A', 'B', 'C', 'D', 'E', 'F', '0', '1', '2', '3')\n",
            "('A', 'B', 'C', 'D', 'E', 'F', '0', '1', '2', '4')\n",
            "('A', 'B', 'C', 'D', 'E', 'F', '0', '1', '2', '5')\n",
            "('A', 'B', 'C', 'D', 'E', 'F', '0', '1', '3', '4')\n",
            "('A', 'B', 'C', 'D', 'E', 'F', '0', '1', '3', '5')\n",
            "('A', 'B', 'C', 'D', 'E', 'F', '0', '1', '4', '5')\n",
            "('A', 'B', 'C', 'D', 'E', 'F', '0', '2', '3', '4')\n",
            "('A', 'B', 'C', 'D', 'E', 'F', '0', '2', '3', '5')\n",
            "('A', 'B', 'C', 'D', 'E', 'F', '0', '2', '4', '5')\n",
            "('A', 'B', 'C', 'D', 'E', 'F', '0', '3', '4', '5')\n",
            "('A', 'B', 'C', 'D', 'E', 'F', '1', '2', '3', '4')\n",
            "('A', 'B', 'C', 'D', 'E', 'F', '1', '2', '3', '5')\n",
            "('A', 'B', 'C', 'D', 'E', 'F', '1', '2', '4', '5')\n",
            "('A', 'B', 'C', 'D', 'E', 'F', '1', '3', '4', '5')\n",
            "('A', 'B', 'C', 'D', 'E', 'F', '2', '3', '4', '5')\n",
            "('A', 'B', 'C', 'D', 'E', '0', '1', '2', '3', '4')\n",
            "('A', 'B', 'C', 'D', 'E', '0', '1', '2', '3', '5')\n",
            "('A', 'B', 'C', 'D', 'E', '0', '1', '2', '4', '5')\n",
            "('A', 'B', 'C', 'D', 'E', '0', '1', '3', '4', '5')\n",
            "('A', 'B', 'C', 'D', 'E', '0', '2', '3', '4', '5')\n",
            "('A', 'B', 'C', 'D', 'E', '1', '2', '3', '4', '5')\n",
            "('A', 'B', 'C', 'D', 'F', '0', '1', '2', '3', '4')\n",
            "('A', 'B', 'C', 'D', 'F', '0', '1', '2', '3', '5')\n",
            "('A', 'B', 'C', 'D', 'F', '0', '1', '2', '4', '5')\n",
            "('A', 'B', 'C', 'D', 'F', '0', '1', '3', '4', '5')\n",
            "('A', 'B', 'C', 'D', 'F', '0', '2', '3', '4', '5')\n",
            "('A', 'B', 'C', 'D', 'F', '1', '2', '3', '4', '5')\n",
            "('A', 'B', 'C', 'D', '0', '1', '2', '3', '4', '5')\n",
            "('A', 'B', 'C', 'E', 'F', '0', '1', '2', '3', '4')\n",
            "('A', 'B', 'C', 'E', 'F', '0', '1', '2', '3', '5')\n",
            "('A', 'B', 'C', 'E', 'F', '0', '1', '2', '4', '5')\n",
            "('A', 'B', 'C', 'E', 'F', '0', '1', '3', '4', '5')\n",
            "('A', 'B', 'C', 'E', 'F', '0', '2', '3', '4', '5')\n",
            "('A', 'B', 'C', 'E', 'F', '1', '2', '3', '4', '5')\n",
            "('A', 'B', 'C', 'E', '0', '1', '2', '3', '4', '5')\n",
            "('A', 'B', 'C', 'F', '0', '1', '2', '3', '4', '5')\n",
            "('A', 'B', 'D', 'E', 'F', '0', '1', '2', '3', '4')\n",
            "('A', 'B', 'D', 'E', 'F', '0', '1', '2', '3', '5')\n",
            "('A', 'B', 'D', 'E', 'F', '0', '1', '2', '4', '5')\n",
            "('A', 'B', 'D', 'E', 'F', '0', '1', '3', '4', '5')\n",
            "('A', 'B', 'D', 'E', 'F', '0', '2', '3', '4', '5')\n",
            "('A', 'B', 'D', 'E', 'F', '1', '2', '3', '4', '5')\n",
            "('A', 'B', 'D', 'E', '0', '1', '2', '3', '4', '5')\n",
            "('A', 'B', 'D', 'F', '0', '1', '2', '3', '4', '5')\n",
            "('A', 'B', 'E', 'F', '0', '1', '2', '3', '4', '5')\n",
            "('A', 'C', 'D', 'E', 'F', '0', '1', '2', '3', '4')\n",
            "('A', 'C', 'D', 'E', 'F', '0', '1', '2', '3', '5')\n",
            "('A', 'C', 'D', 'E', 'F', '0', '1', '2', '4', '5')\n",
            "('A', 'C', 'D', 'E', 'F', '0', '1', '3', '4', '5')\n",
            "('A', 'C', 'D', 'E', 'F', '0', '2', '3', '4', '5')\n",
            "('A', 'C', 'D', 'E', 'F', '1', '2', '3', '4', '5')\n",
            "('A', 'C', 'D', 'E', '0', '1', '2', '3', '4', '5')\n",
            "('A', 'C', 'D', 'F', '0', '1', '2', '3', '4', '5')\n",
            "('A', 'C', 'E', 'F', '0', '1', '2', '3', '4', '5')\n",
            "('A', 'D', 'E', 'F', '0', '1', '2', '3', '4', '5')\n",
            "('B', 'C', 'D', 'E', 'F', '0', '1', '2', '3', '4')\n",
            "('B', 'C', 'D', 'E', 'F', '0', '1', '2', '3', '5')\n",
            "('B', 'C', 'D', 'E', 'F', '0', '1', '2', '4', '5')\n",
            "('B', 'C', 'D', 'E', 'F', '0', '1', '3', '4', '5')\n",
            "('B', 'C', 'D', 'E', 'F', '0', '2', '3', '4', '5')\n",
            "('B', 'C', 'D', 'E', 'F', '1', '2', '3', '4', '5')\n",
            "('B', 'C', 'D', 'E', '0', '1', '2', '3', '4', '5')\n",
            "('B', 'C', 'D', 'F', '0', '1', '2', '3', '4', '5')\n",
            "('B', 'C', 'E', 'F', '0', '1', '2', '3', '4', '5')\n",
            "('B', 'D', 'E', 'F', '0', '1', '2', '3', '4', '5')\n",
            "('C', 'D', 'E', 'F', '0', '1', '2', '3', '4', '5')\n"
          ]
        }
      ]
    },
    {
      "cell_type": "markdown",
      "source": [
        "## Fórmula de combinaciones con repetición\n",
        "\n",
        "$$\n",
        "CnR\\binom{n}{r}=\\binom{(r+n−1)!}{r!⋅(n−1)!}\n",
        "$$"
      ],
      "metadata": {
        "id": "RpMfeg-lyUH9"
      }
    },
    {
      "cell_type": "markdown",
      "source": [
        "### Ejemplo 3 LAnzamiento de dos datos con repetición R.\n",
        "\n",
        "Se trata de encontrar las posibles combinaciones con repetición de los dos dados. Se identifica el dado 1 y al dado 2.\n",
        "\n",
        "$$\n",
        "n = 6 ; r = 2\n",
        "$$\n",
        "\n",
        "$$\n",
        "CnR\\binom{n}{r}=Cn\\binom{n=(n+r-1)}{r=r} \\therefore\\\\Cn\\binom{n=(6+2-1)}{r=2}=\\binom{n=7}{r=2}=\\frac{n!}{r!\\cdot(n-r)!}\\therefore\\\\=\\frac{7!}{2!\\cdot(6-2)!}=\\frac{7!}{2!\\cdot5!}\\\\=\\frac{5040}{2\\cdot120}=\\frac{5040}{240}=21\n",
        "$$\n",
        "\n",
        "\n",
        "\n",
        "\n",
        "\n",
        "\n",
        "\n",
        "\n"
      ],
      "metadata": {
        "id": "Gv3DN_Hryz4r"
      }
    },
    {
      "cell_type": "code",
      "source": [
        "import math as mt # Para utilizar factorial\n",
        "from itertools import combinations_with_replacement\n",
        "\n",
        "dado = [1, 2, 3, 4, 5, 6]\n",
        "n = len(dado)\n",
        "r = 2 # ¿cómo agrupar?, de dos en dos porque hay dos dados\n",
        "\n",
        "CnR = mt.factorial(n+r-1) / (mt.factorial(r) * mt.factorial((n+r-1)-r))\n",
        "\n",
        "\n",
        "print(\"Existen \", CnR , \" posibles combinaciones con repetición del total de \", n , \" caracteres \", \" en grupos de \", r ,\" en \", r)\n",
        "\n",
        "print(\"Aquí las combinaciones con repetición de dos dados\")\n",
        "\n",
        "\n",
        "# Definir el conjunto de elementos\n",
        "elementos = [1, 2, 3, 4, 5, 6]\n",
        "\n",
        "# Número de elementos a elegir en cada combinación\n",
        "r = 2\n",
        "\n",
        "# Calcular las combinaciones con repetición\n",
        "combinaciones_dados = list(combinations_with_replacement(dado, r))\n",
        "\n",
        "# Imprimir las combinaciones\n",
        "for combinacion in combinaciones_dados:\n",
        "    print(combinacion)"
      ],
      "metadata": {
        "colab": {
          "base_uri": "https://localhost:8080/"
        },
        "id": "NifNrkYs2xVy",
        "outputId": "dbb581c1-081d-4442-d530-414f87f443f3"
      },
      "execution_count": 18,
      "outputs": [
        {
          "output_type": "stream",
          "name": "stdout",
          "text": [
            "Existen  21.0  posibles combinaciones con repetición del total de  6  caracteres   en grupos de  2  en  2\n",
            "Aquí las combinaciones con repetición de dos dados\n",
            "(1, 1)\n",
            "(1, 2)\n",
            "(1, 3)\n",
            "(1, 4)\n",
            "(1, 5)\n",
            "(1, 6)\n",
            "(2, 2)\n",
            "(2, 3)\n",
            "(2, 4)\n",
            "(2, 5)\n",
            "(2, 6)\n",
            "(3, 3)\n",
            "(3, 4)\n",
            "(3, 5)\n",
            "(3, 6)\n",
            "(4, 4)\n",
            "(4, 5)\n",
            "(4, 6)\n",
            "(5, 5)\n",
            "(5, 6)\n",
            "(6, 6)\n"
          ]
        }
      ]
    },
    {
      "cell_type": "markdown",
      "source": [
        "# Interpretación\n",
        "\n",
        "El resultado de las combinaciones permite construir un espacio muestral que ofrece la oportunidad de conocer en términos de probabilidad, la cantidad de ocasiones y lo que representa un evento conforme a todo el espacio muestral, es decir frecuencia y frecuencia porcentual.\n",
        "\n",
        "Puede haber combinacions sin repetición, y combinaciones con repetición, la diferencia es que en combinaciones con repetición, se puede repetir el mismo valor en la agrupación ocomo una opción; las fórmulas matemáticas indican la diferencia.\n",
        "\n",
        "Preguntas:\n",
        "\n",
        "¿En cuántas ocasiones aparece el nombre de 'Laura' en combinaciones de dos en dos?. Aparece nueve ocasiones.\n",
        "\n"
      ],
      "metadata": {
        "id": "JpFt47TfaCt5"
      }
    },
    {
      "cell_type": "code",
      "source": [
        "# Imprime las combinaciones\n",
        "for combinacion in combinaciones_nombres:\n",
        "    print(combinacion)\n",
        "\n",
        "# Cuántas veces aparece \"Laura\"\n",
        "# Contador para almacenar la cantidad de combinaciones que contienen \"Laura\"\n",
        "contador = 0\n",
        "nombre_a_buscar = 'Laura'\n",
        "\n",
        "for combinacion in combinaciones_nombres:\n",
        "  if nombre_a_buscar in combinacion:\n",
        "    contador += 1\n",
        "\n",
        "print(f\"'{nombre_a_buscar}' aparece en {contador} de las {len(combinaciones_nombres)} combinaciones posibles.\")\n"
      ],
      "metadata": {
        "colab": {
          "base_uri": "https://localhost:8080/"
        },
        "id": "5MAmi-vxa-BF",
        "outputId": "663e586b-84a9-4843-a4cf-889ff6764583"
      },
      "execution_count": 13,
      "outputs": [
        {
          "output_type": "stream",
          "name": "stdout",
          "text": [
            "('Oscar', 'Paco')\n",
            "('Oscar', 'Paty')\n",
            "('Oscar', 'Laura')\n",
            "('Oscar', 'Rubén')\n",
            "('Oscar', 'Luis')\n",
            "('Oscar', 'Lucy')\n",
            "('Oscar', 'Alberto')\n",
            "('Oscar', 'Juan')\n",
            "('Oscar', 'Danny')\n",
            "('Paco', 'Paty')\n",
            "('Paco', 'Laura')\n",
            "('Paco', 'Rubén')\n",
            "('Paco', 'Luis')\n",
            "('Paco', 'Lucy')\n",
            "('Paco', 'Alberto')\n",
            "('Paco', 'Juan')\n",
            "('Paco', 'Danny')\n",
            "('Paty', 'Laura')\n",
            "('Paty', 'Rubén')\n",
            "('Paty', 'Luis')\n",
            "('Paty', 'Lucy')\n",
            "('Paty', 'Alberto')\n",
            "('Paty', 'Juan')\n",
            "('Paty', 'Danny')\n",
            "('Laura', 'Rubén')\n",
            "('Laura', 'Luis')\n",
            "('Laura', 'Lucy')\n",
            "('Laura', 'Alberto')\n",
            "('Laura', 'Juan')\n",
            "('Laura', 'Danny')\n",
            "('Rubén', 'Luis')\n",
            "('Rubén', 'Lucy')\n",
            "('Rubén', 'Alberto')\n",
            "('Rubén', 'Juan')\n",
            "('Rubén', 'Danny')\n",
            "('Luis', 'Lucy')\n",
            "('Luis', 'Alberto')\n",
            "('Luis', 'Juan')\n",
            "('Luis', 'Danny')\n",
            "('Lucy', 'Alberto')\n",
            "('Lucy', 'Juan')\n",
            "('Lucy', 'Danny')\n",
            "('Alberto', 'Juan')\n",
            "('Alberto', 'Danny')\n",
            "('Juan', 'Danny')\n",
            "'Laura' aparece en 9 de las 45 combinaciones posibles.\n"
          ]
        }
      ]
    },
    {
      "cell_type": "markdown",
      "source": [
        "¿En cuántas ocasiones aparece el nombre de 'Oscar' en las combinaciones de dos en dos?, Aparece nueve ocasiones."
      ],
      "metadata": {
        "id": "_Q4mSpwXbFIH"
      }
    },
    {
      "cell_type": "markdown",
      "source": [],
      "metadata": {
        "id": "QF_0bvN2bFFr"
      }
    },
    {
      "cell_type": "code",
      "source": [
        "# Imprime las combinaciones\n",
        "for combinacion in combinaciones_nombres:\n",
        "    print(combinacion)\n",
        "\n",
        "# Cuántas veces aparece \"Oscar\"\n",
        "# Contador para almacenar la cantidad de combinaciones que contienen \"Oscar\"\n",
        "contador = 0\n",
        "nombre_a_buscar = 'Oscar'\n",
        "\n",
        "for combinacion in combinaciones_nombres:\n",
        "  if nombre_a_buscar in combinacion:\n",
        "    contador += 1\n",
        "\n",
        "print(f\"'{nombre_a_buscar}' aparece en {contador} de las {len(combinaciones_nombres)} combinaciones posibles.\")\n"
      ],
      "metadata": {
        "colab": {
          "base_uri": "https://localhost:8080/"
        },
        "outputId": "8864030f-1d82-45b6-d3f2-3ddad3adaba0",
        "id": "pYrk43jdeo95"
      },
      "execution_count": 15,
      "outputs": [
        {
          "output_type": "stream",
          "name": "stdout",
          "text": [
            "('Oscar', 'Paco')\n",
            "('Oscar', 'Paty')\n",
            "('Oscar', 'Laura')\n",
            "('Oscar', 'Rubén')\n",
            "('Oscar', 'Luis')\n",
            "('Oscar', 'Lucy')\n",
            "('Oscar', 'Alberto')\n",
            "('Oscar', 'Juan')\n",
            "('Oscar', 'Danny')\n",
            "('Paco', 'Paty')\n",
            "('Paco', 'Laura')\n",
            "('Paco', 'Rubén')\n",
            "('Paco', 'Luis')\n",
            "('Paco', 'Lucy')\n",
            "('Paco', 'Alberto')\n",
            "('Paco', 'Juan')\n",
            "('Paco', 'Danny')\n",
            "('Paty', 'Laura')\n",
            "('Paty', 'Rubén')\n",
            "('Paty', 'Luis')\n",
            "('Paty', 'Lucy')\n",
            "('Paty', 'Alberto')\n",
            "('Paty', 'Juan')\n",
            "('Paty', 'Danny')\n",
            "('Laura', 'Rubén')\n",
            "('Laura', 'Luis')\n",
            "('Laura', 'Lucy')\n",
            "('Laura', 'Alberto')\n",
            "('Laura', 'Juan')\n",
            "('Laura', 'Danny')\n",
            "('Rubén', 'Luis')\n",
            "('Rubén', 'Lucy')\n",
            "('Rubén', 'Alberto')\n",
            "('Rubén', 'Juan')\n",
            "('Rubén', 'Danny')\n",
            "('Luis', 'Lucy')\n",
            "('Luis', 'Alberto')\n",
            "('Luis', 'Juan')\n",
            "('Luis', 'Danny')\n",
            "('Lucy', 'Alberto')\n",
            "('Lucy', 'Juan')\n",
            "('Lucy', 'Danny')\n",
            "('Alberto', 'Juan')\n",
            "('Alberto', 'Danny')\n",
            "('Juan', 'Danny')\n",
            "'Oscar' aparece en 9 de las 45 combinaciones posibles.\n"
          ]
        }
      ]
    },
    {
      "cell_type": "markdown",
      "source": [
        "¿En cuántas ocasiones aparece en primera columna 'Rubén' y 'Paco' o 'Paty' en segunda columna?. Parece que en 0 ocasiones.\n"
      ],
      "metadata": {
        "id": "cG-vY4kDe-HB"
      }
    },
    {
      "cell_type": "code",
      "source": [
        "# Imprime las combinaciones\n",
        "for combinacion in combinaciones_nombres:\n",
        "    print(combinacion)\n",
        "\n",
        "# Cuántas veces aparece \"Rubén\" y \"Paco\" o \"Paty\"\n",
        "# Contador para almacenar la cantidad de combinaciones\n",
        "contador = 0\n",
        "\n",
        "for combinacion in combinaciones_nombres:\n",
        "    if combinacion[0] == \"Rubén\" and (combinacion[1] == \"Paco\" or combinacion[1] == \"Paty\"):\n",
        "        contador += 1\n",
        "\n",
        "print(\"Hay \", contador, \"combinaciones de \", \"'Rubén', 'Paco' o 'Luis'\")"
      ],
      "metadata": {
        "colab": {
          "base_uri": "https://localhost:8080/"
        },
        "id": "DSmK8C6YfSHm",
        "outputId": "76b3682f-8ce8-43db-b020-32e07fac4bbb"
      },
      "execution_count": 17,
      "outputs": [
        {
          "output_type": "stream",
          "name": "stdout",
          "text": [
            "('Oscar', 'Paco')\n",
            "('Oscar', 'Paty')\n",
            "('Oscar', 'Laura')\n",
            "('Oscar', 'Rubén')\n",
            "('Oscar', 'Luis')\n",
            "('Oscar', 'Lucy')\n",
            "('Oscar', 'Alberto')\n",
            "('Oscar', 'Juan')\n",
            "('Oscar', 'Danny')\n",
            "('Paco', 'Paty')\n",
            "('Paco', 'Laura')\n",
            "('Paco', 'Rubén')\n",
            "('Paco', 'Luis')\n",
            "('Paco', 'Lucy')\n",
            "('Paco', 'Alberto')\n",
            "('Paco', 'Juan')\n",
            "('Paco', 'Danny')\n",
            "('Paty', 'Laura')\n",
            "('Paty', 'Rubén')\n",
            "('Paty', 'Luis')\n",
            "('Paty', 'Lucy')\n",
            "('Paty', 'Alberto')\n",
            "('Paty', 'Juan')\n",
            "('Paty', 'Danny')\n",
            "('Laura', 'Rubén')\n",
            "('Laura', 'Luis')\n",
            "('Laura', 'Lucy')\n",
            "('Laura', 'Alberto')\n",
            "('Laura', 'Juan')\n",
            "('Laura', 'Danny')\n",
            "('Rubén', 'Luis')\n",
            "('Rubén', 'Lucy')\n",
            "('Rubén', 'Alberto')\n",
            "('Rubén', 'Juan')\n",
            "('Rubén', 'Danny')\n",
            "('Luis', 'Lucy')\n",
            "('Luis', 'Alberto')\n",
            "('Luis', 'Juan')\n",
            "('Luis', 'Danny')\n",
            "('Lucy', 'Alberto')\n",
            "('Lucy', 'Juan')\n",
            "('Lucy', 'Danny')\n",
            "('Alberto', 'Juan')\n",
            "('Alberto', 'Danny')\n",
            "('Juan', 'Danny')\n",
            "Hay  0 combinaciones de  'Rubén', 'Paco' o 'Luis'\n"
          ]
        }
      ]
    },
    {
      "cell_type": "markdown",
      "source": [
        "En la combinación de caracteres, ¿en cuántas ocasiones aparece la secuencia '1', '2', '3', '4'?."
      ],
      "metadata": {
        "id": "2dRt5w0jgodH"
      }
    },
    {
      "cell_type": "code",
      "source": [
        "# Pendiente\n",
        "# Elaborar el código de solución\n"
      ],
      "metadata": {
        "id": "_ks2gEicg9Hq"
      },
      "execution_count": null,
      "outputs": []
    },
    {
      "cell_type": "markdown",
      "source": [
        "En las combinaciones de los dos dados con repetición, ¿en cuántas ocaciones aparecen repetidos los números: 1,1; 2,2; 3,3; 4,4; 5,5; y 6,6?. Deben ser 6.\n"
      ],
      "metadata": {
        "id": "dzMjcVlchKEm"
      }
    },
    {
      "cell_type": "code",
      "source": [
        "# Pendiente solución\n",
        "# Hacer el código\n"
      ],
      "metadata": {
        "id": "0Dh3Z6WVhWg1"
      },
      "execution_count": null,
      "outputs": []
    },
    {
      "cell_type": "markdown",
      "source": [],
      "metadata": {
        "id": "yLQgDO9ChZFl"
      }
    },
    {
      "cell_type": "markdown",
      "source": [
        "Describir con al menos 100 palabras lo aprendido del caso\n"
      ],
      "metadata": {
        "id": "Bos1jgcIhZHK"
      }
    }
  ]
}