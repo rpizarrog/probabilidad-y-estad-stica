{
  "nbformat": 4,
  "nbformat_minor": 0,
  "metadata": {
    "colab": {
      "provenance": [],
      "authorship_tag": "ABX9TyPOgeltAePuH687p7ONzuaF",
      "include_colab_link": true
    },
    "kernelspec": {
      "name": "python3",
      "display_name": "Python 3"
    },
    "language_info": {
      "name": "python"
    }
  },
  "cells": [
    {
      "cell_type": "markdown",
      "metadata": {
        "id": "view-in-github",
        "colab_type": "text"
      },
      "source": [
        "<a href=\"https://colab.research.google.com/github/rpizarrog/probabilidad-y-estad-stica/blob/master/Python%202023/Caso_09_Teor%C3%ADa_de_probabilidad.ipynb\" target=\"_parent\"><img src=\"https://colab.research.google.com/assets/colab-badge.svg\" alt=\"Open In Colab\"/></a>"
      ]
    },
    {
      "cell_type": "markdown",
      "source": [
        "# Objetivo\n",
        "\n",
        "Desarrollar ejercicios para encontrar la probabilidad de eventos de un espacio muestral.\n"
      ],
      "metadata": {
        "id": "xh9c7RRWB5OK"
      }
    },
    {
      "cell_type": "markdown",
      "source": [
        "# Descripción\n",
        "\n",
        "Construir ejercicios de probabilidad conforme a partir de datos conforme la teoría de probabilidad.\n",
        "\n",
        "A partir de un conjunto de datos generados estimar y determinar las probabilidades.\n",
        "\n",
        "# Marco teórico\n",
        "\n",
        "Para cuando los espacios muestrales tienen un espacio finito o un número de elementos finito, la probabilidad de ocurrencia de un evento que resulta de tal experimento estadístico se evalúa utilizando un conjunto de números reales denominados pesos o probabilidades, que van de 0 a 1.\n",
        "\n",
        "Para todo punto en el espacio muestral se asigna una probabilidad tal que la suma de todas las probabilidades es 1.\n",
        "\n",
        "Si se tiene certeza para creer que al llevar a cabo el experimento es bastante probable que ocurra cierto punto muestral, le tendríamos que asignar a éste una probabilidad cercana a uno. Por el contrario, si se cree que no hay probabilidades de que ocurra cierto punto muestral, se tendría que asignar a éste una probabilidad cercana a cero.\n",
        "\n",
        "En un espacio muestral en donde todos los puntos muestrales tienen la misma oportunidad de ocurrencia, por lo tanto, se les asignan probabilidades iguales.\n",
        "\n",
        "A los puntos fuera del espacio muestral, es decir, a los eventos simples que no tienen posibilidades de ocurrir, se les asigna una probabilidad de cero.\n",
        "\n",
        "Entonces: La probabilidad de un evento A debe estar entre cero y uno\n",
        "\n",
        "$$\n",
        "0 \\le P(A) \\le 1\n",
        "$$\n",
        "\n",
        "La probabilidad de todo el espacio muestral S debe ser uno $$\n",
        "P(S) = 1\n",
        "$$\n",
        "\n",
        "La probabilidad de que no ocurra un evento es cero\n",
        "\n",
        "$$\n",
        "p(\\phi) = 0\n",
        "$$\n",
        "\n",
        "Ejemplo: lanzar un dado. La probabilidad de que caiga un 1, un 2, un 3 un 4 un 5 un 6 es la misma para cada elemento. Siendo S el espacio muestral, cual es la probabilidad de que al lanzar un dado a una mesa, el valor del mismo cara arriba sea un 5?, y ¿cuál es la probabilidad de que sea un 7?\n",
        "\n",
        "¿Cuántas veces está el 5 en el espacio muestral S?. Una sola vez.\n",
        "\n",
        "¿Cuántas veces está el 7 en el espacio muestral S?. Ninguna\n",
        "\n",
        "Entonces dividir el número de ocurrencias del 5 entre el número total de elementos N.\n",
        "\n",
        "$$\n",
        "prob = \\frac{f}{n}\n",
        "$$\n",
        "\n",
        "En términos porcentuales sería:\n",
        "\n",
        "$$\n",
        "prob = \\frac{f}{n} \\times 100\n",
        "$$"
      ],
      "metadata": {
        "id": "QU1oItPnB_vJ"
      }
    },
    {
      "cell_type": "markdown",
      "source": [
        "# Desarrollo\n",
        "\n",
        "## Cargar librerías"
      ],
      "metadata": {
        "id": "dEwy0aBCEBEw"
      }
    },
    {
      "cell_type": "code",
      "source": [
        "# Cargar librerías\n",
        "import numpy as fn\n",
        "import math as mt # Para utilizar factorial\n",
        "from itertools import permutations\n",
        "from itertools import product\n",
        "import pandas as pd\n",
        "import matplotlib.pyplot as plt\n"
      ],
      "metadata": {
        "id": "YGsxDychD4eJ"
      },
      "execution_count": 74,
      "outputs": []
    },
    {
      "cell_type": "markdown",
      "source": [
        "## Ejemplo del dado\n",
        "\n",
        "¿Cual es la probabildia de que al lanzar un dado sea 5 cara arriba?: $1/6=0.1616\\approx16.66\\%$"
      ],
      "metadata": {
        "id": "niSxhsk1EFqT"
      }
    },
    {
      "cell_type": "code",
      "source": [
        "dado = [1, 2, 3, 4, 5, 6]\n",
        "n = len(dado)\n",
        "print(\"Total del espacio muestral \", n)\n",
        "\n",
        "# Contar cuántas veces aparece el número 5\n",
        "f_cuantas = dado.count(5)\n",
        "print(\"Cuantas veces aparece el número 5:\", f_cuantas)\n",
        "print(\"La probabilidad de que al lanzar el dado sea cinco es : \", f_cuantas,\"/\",n,\"=\",fn.round(f_cuantas/n, 4),\"≈\",fn.round(f_cuantas/n * 100,2), \"%\")\n",
        "\n"
      ],
      "metadata": {
        "colab": {
          "base_uri": "https://localhost:8080/"
        },
        "id": "y3nrVTdZDEOm",
        "outputId": "d691cd21-8a41-4bf3-95a3-9e9584595286"
      },
      "execution_count": 75,
      "outputs": [
        {
          "output_type": "stream",
          "name": "stdout",
          "text": [
            "Total del espacio muestral  6\n",
            "Cuantas veces aparece el número 5: 1\n",
            "La probabilidad de que al lanzar el dado sea cinco es :  1 / 6 = 0.1667 ≈ 16.67 %\n"
          ]
        }
      ]
    },
    {
      "cell_type": "markdown",
      "source": [
        "## Lanzar dos dados\n",
        "\n",
        "¿Que probabilidad existe de que al lanzar los dos dados de que salga 10 la suma de los valores de los dos dados?.\n",
        "\n",
        "Se necesita permutacones sin repetición.\n",
        "\n"
      ],
      "metadata": {
        "id": "TvGH5yzEF0Eq"
      }
    },
    {
      "cell_type": "code",
      "source": [
        "dado = [1, 2, 3, 4, 5, 6]\n",
        "n = len(dado)\n",
        "r = 2 # ¿cómo agrupar?, de dos en dos porque hay dos dados\n",
        "\n",
        "n_PrR = n**r\n",
        "\n",
        "print(\"Existen \", n_PrR , \" posibles permutaciones con repetición del total de \", n , \" al lanzar dos dados\")\n",
        "\n",
        "print(\"Aquí las permutaciones con repetición de dos dados y la suma de los dos dados\")\n",
        "\n",
        "# Calcular las permutaciones con repetición\n",
        "permutaciones_dados = product(dado, repeat=r)\n",
        "\n",
        "# Convertir a data.frame con pandas pd\n",
        "tabla = pd.DataFrame(permutaciones_dados, columns=['Dado1', 'Dado2'])\n",
        "# print(tabla)\n",
        "\n",
        "# Agregar la columna suma\n",
        "tabla['suma'] = (tabla['Dado1'] + tabla['Dado2'])\n",
        "print(tabla)\n",
        "\n",
        "print(\"Contar en cuántas ocasiones hay la suma 10\")\n",
        "\n",
        "f_cuantas = tabla[tabla['suma'] == 10].shape[0]\n",
        "print(\"Frecuencia en que la suma es 10:\", f_cuantas)\n",
        "print(\"La probabilidad de que al lanzar dos dados la suma de 10 es: \", f_cuantas,\"/\",n_PrR,\"=\",fn.round(f_cuantas/n_PrR, 4),\"≈\",fn.round(f_cuantas/n_PrR * 100,2), \"%\")\n"
      ],
      "metadata": {
        "colab": {
          "base_uri": "https://localhost:8080/"
        },
        "id": "D_ofc_UbGMJt",
        "outputId": "064d7efb-c627-424d-b055-0cab0a74b48d"
      },
      "execution_count": 76,
      "outputs": [
        {
          "output_type": "stream",
          "name": "stdout",
          "text": [
            "Existen  36  posibles permutaciones con repetición del total de  6  al lanzar dos dados\n",
            "Aquí las permutaciones con repetición de dos dados y la suma de los dos dados\n",
            "    Dado1  Dado2  suma\n",
            "0       1      1     2\n",
            "1       1      2     3\n",
            "2       1      3     4\n",
            "3       1      4     5\n",
            "4       1      5     6\n",
            "5       1      6     7\n",
            "6       2      1     3\n",
            "7       2      2     4\n",
            "8       2      3     5\n",
            "9       2      4     6\n",
            "10      2      5     7\n",
            "11      2      6     8\n",
            "12      3      1     4\n",
            "13      3      2     5\n",
            "14      3      3     6\n",
            "15      3      4     7\n",
            "16      3      5     8\n",
            "17      3      6     9\n",
            "18      4      1     5\n",
            "19      4      2     6\n",
            "20      4      3     7\n",
            "21      4      4     8\n",
            "22      4      5     9\n",
            "23      4      6    10\n",
            "24      5      1     6\n",
            "25      5      2     7\n",
            "26      5      3     8\n",
            "27      5      4     9\n",
            "28      5      5    10\n",
            "29      5      6    11\n",
            "30      6      1     7\n",
            "31      6      2     8\n",
            "32      6      3     9\n",
            "33      6      4    10\n",
            "34      6      5    11\n",
            "35      6      6    12\n",
            "Contar en cuántas ocasiones hay la suma 10\n",
            "Frecuencia en que la suma es 10: 3\n",
            "La probabilidad de que al lanzar dos dados la suma de 10 es:  3 / 36 = 0.0833 ≈ 8.33 %\n"
          ]
        }
      ]
    },
    {
      "cell_type": "markdown",
      "source": [
        "### Juego de Black Jack\n",
        "\n",
        "Se reparten dos barajas de tipo inglesa y el jugador debe sumar los valores numéricos de las dos barajas.\n",
        "\n",
        "La pregunta es: ¿qué probabilidad existe de que al recibir dos cartas de una baraja de 52 cartas modalidad inglesa la suma de las dos cartas sea 20? y ¿cuántas y cuál es la probabilidad de que la suma sea 21?\n",
        "\n",
        "Criterios de la numeración:\n",
        "-   El As vale 11 puntos (aunque pudiera valer 1 punto).\n",
        "-   Los valores numérico valen lo que indica la carta.\n",
        "-   Las cartas de figuras o monos (J, Q y K) valen 10 puntos.\n"
      ],
      "metadata": {
        "id": "sHhjdRT_JPJP"
      }
    },
    {
      "cell_type": "code",
      "source": [
        "baraja = ['A', '2', '3', '4', '5', '6', '7', '8', '9', '10', 'J', 'Q', 'K']\n",
        "n = len(baraja)\n",
        "r = 2 # ¿cómo agrupar?, de dos en dos porque se reparten dos barajas\n",
        "\n",
        "n_PrR = n**r\n",
        "\n",
        "print(\"Existen \", n_PrR , \" posibles permutaciones con repetición del total de \", n , \" al seleccionar dos barajas de tipo inglesa\")\n",
        "\n",
        "print(\"Aquí las permutaciones con repetición de dos barjas y la suma de los puntos\")\n",
        "\n",
        "# Calcular las permutaciones con repetición\n",
        "permutaciones = product(baraja, repeat=r)\n",
        "\n",
        "# Convertir a data.frame con pandas pd\n",
        "tabla = pd.DataFrame(permutaciones, columns=['Carta1', 'Carta2'])\n",
        "# print(tabla)\n",
        "\n",
        "tabla['Puntos C1'] = [11 if carta == 'A' else 10 if carta in ['J', 'Q', 'K'] else int(carta) for carta in tabla['Carta1']]\n",
        "\n",
        "# Agregar la columna Puntos C2 dependiendo de la carta\n",
        "tabla['Puntos C2'] = [11 if carta == 'A' else 10 if carta in ['J', 'Q', 'K'] else int(carta) for carta in tabla['Carta2']]\n",
        "\n",
        "# Calcular la suma de puntos de las dos cartas\n",
        "tabla['suma'] = tabla['Puntos C1'] + tabla['Puntos C2']\n",
        "\n",
        "# Mostrar la tabla\n",
        "print(tabla)\n",
        "\n",
        "print(\"Contar en cuántas ocasiones hay la suma 20 y 21\")\n",
        "\n",
        "f_cuantas_20 = tabla[tabla['suma'] == 20].shape[0]\n",
        "f_cuantas_21 = tabla[tabla['suma'] == 21].shape[0]\n",
        "\n",
        "# De suma igual a 20\n",
        "print(\"Frecuencia en que la suma es 20:\", f_cuantas_20)\n",
        "print(\"La probabilidad de que al seleccionar dos cartas la suma sea 20 es: \", f_cuantas_20,\"/\",n_PrR,\"=\",fn.round(f_cuantas_20/n_PrR, 4),\"≈\",fn.round(f_cuantas_20/n_PrR * 100,2), \"%\")\n",
        "print(\"\\n\")\n",
        "# De suma igual a 21\n",
        "print(\"Frecuencia en que la suma es 21:\", f_cuantas_21)\n",
        "print(\"La probabilidad de que al seleccionar dos cartas la suma sea 21 es: \", f_cuantas_21,\"/\",n_PrR,\"=\",fn.round(f_cuantas_21/n_PrR, 4),\"≈\",fn.round(f_cuantas_21/n_PrR * 100,2), \"%\")"
      ],
      "metadata": {
        "colab": {
          "base_uri": "https://localhost:8080/"
        },
        "id": "gvgY0BuvJnE5",
        "outputId": "a0f780e6-60b2-492b-f829-94c96f491ed2"
      },
      "execution_count": 77,
      "outputs": [
        {
          "output_type": "stream",
          "name": "stdout",
          "text": [
            "Existen  169  posibles permutaciones con repetición del total de  13  al seleccionar dos barajas de tipo inglesa\n",
            "Aquí las permutaciones con repetición de dos barjas y la suma de los puntos\n",
            "    Carta1 Carta2  Puntos C1  Puntos C2  suma\n",
            "0        A      A         11         11    22\n",
            "1        A      2         11          2    13\n",
            "2        A      3         11          3    14\n",
            "3        A      4         11          4    15\n",
            "4        A      5         11          5    16\n",
            "..     ...    ...        ...        ...   ...\n",
            "164      K      9         10          9    19\n",
            "165      K     10         10         10    20\n",
            "166      K      J         10         10    20\n",
            "167      K      Q         10         10    20\n",
            "168      K      K         10         10    20\n",
            "\n",
            "[169 rows x 5 columns]\n",
            "Contar en cuántas ocasiones hay la suma 20 y 21\n",
            "Frecuencia en que la suma es 20: 18\n",
            "La probabilidad de que al seleccionar dos cartas la suma sea 20 es:  18 / 169 = 0.1065 ≈ 10.65 %\n",
            "\n",
            "\n",
            "Frecuencia en que la suma es 21: 8\n",
            "La probabilidad de que al seleccionar dos cartas la suma sea 21 es:  8 / 169 = 0.0473 ≈ 4.73 %\n"
          ]
        }
      ]
    },
    {
      "cell_type": "markdown",
      "source": [
        "## Diagrama de barra\n",
        "\n",
        "Construir un diagrama de barra con al variable suma de la tabla de la selección de dos barajas.\n"
      ],
      "metadata": {
        "id": "pvI2vZwKO1nu"
      }
    },
    {
      "cell_type": "code",
      "source": [
        "# Calcular la frecuencia de las sumas\n",
        "frecuencia_suma = tabla['suma'].value_counts().sort_index()\n",
        "\n",
        "# Calcular la probabilidad de cada suma\n",
        "probabilidad_suma = frecuencia_suma / n_PrR\n",
        "\n",
        "# Crear dos subplots en el mismo renglón\n",
        "fig, axs = plt.subplots(1, 2, figsize=(12, 4))\n",
        "\n",
        "# Gráfico de barras de frecuencia de sumas\n",
        "axs[0].bar(frecuencia_suma.index, frecuencia_suma.values)\n",
        "axs[0].set_xlabel('Suma de Puntos')\n",
        "axs[0].set_ylabel('Frecuencia')\n",
        "axs[0].set_title('Frecuencia de Sumas en el Juego de Cartas')\n",
        "\n",
        "# Gráfico de barras de probabilidad de sumas\n",
        "axs[1].bar(probabilidad_suma.index, probabilidad_suma.values)\n",
        "axs[1].set_xlabel('Suma de Puntos')\n",
        "axs[1].set_ylabel('Probabilidad')\n",
        "axs[1].set_title('Probabilidad de Sumas en el Juego de Cartas')\n",
        "\n",
        "# Ajustar el rango del eje x en ambos gráficos\n",
        "for ax in axs:\n",
        "    ax.set_xlim(1.5, 21.5)\n",
        "\n",
        "# Mostrar los gráficos\n",
        "plt.tight_layout()\n",
        "plt.show()\n"
      ],
      "metadata": {
        "colab": {
          "base_uri": "https://localhost:8080/",
          "height": 407
        },
        "id": "sqWkAMF7PESl",
        "outputId": "4e772340-4480-48ed-9e86-e3be880bc38e"
      },
      "execution_count": 78,
      "outputs": [
        {
          "output_type": "display_data",
          "data": {
            "text/plain": [
              "<Figure size 1200x400 with 2 Axes>"
            ],
            "image/png": "[encoded data removed]"
          },
          "metadata": {}
        }
      ]
    },
    {
      "cell_type": "markdown",
      "source": [
        "### Ruleta\n",
        "\n",
        "La ruleta tiene 39 números en colores negro y rojo ¿que probabilidad existe de que al dar vuelta se detenga en un valor en específico?\n",
        "\n",
        "¿Cuál es la la probabilidad de que al darle vuelta la ruleta se detenga en un valor específico es por ejemplo en la casilla \"20 Negro\"?. Resp: $1/72=0.0138\\approx1.38\\%$.\n",
        "\n",
        "¿Cuál es la probabilidad de que salga un color negro?. Resp:  $2/72=0.0277\\approx2.77\\%$.\n",
        "\n",
        "¿Cuál es la probabilida de que sea un valor par en color negro?. Resp $18/72=0.25\\approx25\\%$:\n",
        "\n",
        "¿Cuál es la probabilidad de que sea un valor entre 12 y 18 de color rojo?. Resp: $7/72=0.0972\\approx9.72\\%$\n",
        "\n",
        "Utilizando técica de conteo de multiplicación $36 \\times 2 = 72$\n"
      ],
      "metadata": {
        "id": "05qzZDhWTTVd"
      }
    },
    {
      "cell_type": "code",
      "source": [
        "# Crear una secuencia del 1 al 36\n",
        "numeros_negros = list(range(1, 37))\n",
        "numeros_rojos = list(range(1, 37))\n",
        "ruleta = numeros_negros + numeros_rojos\n",
        "print(ruleta)\n",
        "n = len(ruleta)\n",
        "\n",
        "print(ruleta)\n",
        "print(\"Existen \", n , \" posibles posibles casillas de la ruleta\")\n",
        "\n",
        "# Cuantas casillas 20 negro\n",
        "f_cuantas = 1\n",
        "print(\"Frecuencia en de que salga el 20 negro:\", f_cuantas)\n",
        "print(\"La probabilidad de que al dar vuelta a la ruleta se detenga en 20 negro: \", f_cuantas,\"/\",n,\"=\",fn.round(f_cuantas/n, 4),\"≈\",fn.round(f_cuantas/n * 100,2), \"%\")\n",
        "print(\"\\n\")\n",
        "\n",
        "# Cuántas casillas de color negro\n",
        "f_cuantas = (n/2)\n",
        "print(\"Frecuencia en de que salga casilla en negro:\", f_cuantas)\n",
        "print(\"La probabilidad de que al dar vuelta a la ruleta se detenga en color negro: \", f_cuantas,\"/\",n,\"=\",fn.round(f_cuantas/n, 4),\"≈\",fn.round(f_cuantas/n * 100,2), \"%\")\n",
        "print(\"\\n\")\n",
        "\n",
        "# Cuántas casillas par negro\n",
        "f_cuantas = ((n / 2) / 2)\n",
        "print(\"Frecuencia en de que salga casilla en número par color negro:\", f_cuantas)\n",
        "print(\"La probabilidad de que al dar vuelta a la ruleta se detenga en número par color negro: \", f_cuantas,\"/\",n,\"=\",fn.round(f_cuantas/n, 4),\"≈\",fn.round(f_cuantas/n * 100,2), \"%\")\n",
        "print(\"\\n\")\n",
        "\n",
        "# de que salga una casilla en un rango de 12 a 18 ya sea negro o rojo\n",
        "# 7 * 2\n",
        "f_cuantas = len(list(range(12, 18)) * 2)\n",
        "print(\"Frecuencia en de que salga casilla 12-18 negro o rojo:\", f_cuantas)\n",
        "print(\"La probabilidad de que al dar vuelta a la ruleta se detenga un valor 12-18 rojo o negro: \", f_cuantas,\"/\",n,\"=\",fn.round(f_cuantas/n, 4),\"≈\",fn.round(f_cuantas/n * 100,2), \"%\")\n",
        "print(\"\\n\")\n"
      ],
      "metadata": {
        "colab": {
          "base_uri": "https://localhost:8080/"
        },
        "id": "bIZD7HdGO8Fp",
        "outputId": "868b2584-3809-4812-a3e5-8f95cc8bb470"
      },
      "execution_count": 99,
      "outputs": [
        {
          "output_type": "stream",
          "name": "stdout",
          "text": [
            "[1, 2, 3, 4, 5, 6, 7, 8, 9, 10, 11, 12, 13, 14, 15, 16, 17, 18, 19, 20, 21, 22, 23, 24, 25, 26, 27, 28, 29, 30, 31, 32, 33, 34, 35, 36, 1, 2, 3, 4, 5, 6, 7, 8, 9, 10, 11, 12, 13, 14, 15, 16, 17, 18, 19, 20, 21, 22, 23, 24, 25, 26, 27, 28, 29, 30, 31, 32, 33, 34, 35, 36]\n",
            "[1, 2, 3, 4, 5, 6, 7, 8, 9, 10, 11, 12, 13, 14, 15, 16, 17, 18, 19, 20, 21, 22, 23, 24, 25, 26, 27, 28, 29, 30, 31, 32, 33, 34, 35, 36, 1, 2, 3, 4, 5, 6, 7, 8, 9, 10, 11, 12, 13, 14, 15, 16, 17, 18, 19, 20, 21, 22, 23, 24, 25, 26, 27, 28, 29, 30, 31, 32, 33, 34, 35, 36]\n",
            "Existen  72  posibles posibles casillas de la ruleta\n",
            "Frecuencia en de que salga el 20 negro: 1\n",
            "La probabilidad de que al dar vuelta a la ruleta se detenga en 20 negro:  1 / 72 = 0.0139 ≈ 1.39 %\n",
            "\n",
            "\n",
            "Frecuencia en de que salga casilla en negro: 36.0\n",
            "La probabilidad de que al dar vuelta a la ruleta se detenga en color negro:  36.0 / 72 = 0.5 ≈ 50.0 %\n",
            "\n",
            "\n",
            "Frecuencia en de que salga casilla en número par color negro: 18.0\n",
            "La probabilidad de que al dar vuelta a la ruleta se detenga en número par color negro:  18.0 / 72 = 0.25 ≈ 25.0 %\n",
            "\n",
            "\n",
            "Frecuencia en de que salga casilla 12-18 negro o rojo: 12\n",
            "La probabilidad de que al dar vuelta a la ruleta se detenga un valor 12-18 rojo o negro:  12 / 72 = 0.1667 ≈ 16.67 %\n",
            "\n",
            "\n"
          ]
        }
      ]
    },
    {
      "cell_type": "markdown",
      "source": [
        "## Juego de dominó y repartir 7 fichas\n",
        "\n",
        "El juego de dominó consiste en que de una cantidad de 28 fichas se reparten siete de ellas a cada jugador.\n",
        "\n",
        "Uno de los variantes del dominó es contar los puntos de cada ficha, siendo los puntos la cantidad de puntos negros que tiene cada ficha.\n",
        "\n",
        "Para este ejercicio se pide:\n",
        "\n",
        "¿Cual es la probabilidad de que la suma de puntos de las siete fichas repartidas sea manor a 15 puntos?\n",
        "\n",
        "¿Cuál es la probabilidad de que la suma de los puntos de las siete fichas sea mayor a 60 puntos?\n",
        "\n",
        "¿Cual es la probabilidad de que al repartir siete fichas de dominó la suma total esté 30 y 40 puntos?. Siendo los puntos los puntos negros de cada ficha?.\n",
        "\n",
        "¿Cual será el rango o intervalo de clase conforme a la suma de puntos existe mayor probabilidad de obtener esos puntos?"
      ],
      "metadata": {
        "id": "zIHeTWRqURcG"
      }
    },
    {
      "cell_type": "markdown",
      "source": [
        "# Interpretación del caso\n",
        "\n",
        "Contestar preguntas y describir con al menos 100 papabras lo aprendido del caso\n",
        "\n"
      ],
      "metadata": {
        "id": "s8hv8ftgZOEE"
      }
    }
  ]
}