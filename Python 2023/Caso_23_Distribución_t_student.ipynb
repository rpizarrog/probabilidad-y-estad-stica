{
  "nbformat": 4,
  "nbformat_minor": 0,
  "metadata": {
    "colab": {
      "provenance": [],
      "authorship_tag": "ABX9TyPJe5++FmNiyIrT83BdQrbJ",
      "include_colab_link": true
    },
    "kernelspec": {
      "name": "python3",
      "display_name": "Python 3"
    },
    "language_info": {
      "name": "python"
    }
  },
  "cells": [
    {
      "cell_type": "markdown",
      "metadata": {
        "id": "view-in-github",
        "colab_type": "text"
      },
      "source": [
        "<a href=\"https://colab.research.google.com/github/rpizarrog/probabilidad-y-estad-stica/blob/master/Python%202023/Caso_23_Distribuci%C3%B3n_t_student.ipynb\" target=\"_parent\"><img src=\"https://colab.research.google.com/assets/colab-badge.svg\" alt=\"Open In Colab\"/></a>"
      ]
    },
    {
      "cell_type": "markdown",
      "source": [
        "# Distribución T Student\n",
        "\n",
        "# Objetivo\n",
        "\n",
        "Utilizar funciones de una distribución *T Student* para idengificar valores de $t$, calcular función de densidad y estimar probabilidades visualizando áreas bajo la curva."
      ],
      "metadata": {
        "id": "EF3TYmb9rjVy"
      }
    },
    {
      "cell_type": "markdown",
      "source": [
        "# Descripción\n",
        "\n",
        "- Cargar librerías o bibliotecas de Python\n",
        "- Cargar funciones previmente codificadas para propósito de este caso\n",
        "- Calcular valores de t\n",
        "- Visualizar densidad\n",
        "- Visualizar probabilidades\n",
        "- Interpretar el caso\n",
        "...\n",
        "\n",
        "En el sustento teórico, se da a conocer un panorama de la importancia de la distribución *t student* comparando la campana de gauss de una distribución normal estándar y distribuciones t; se identifica la fórmula de densidad *t* y se mencionan las funciones de *Python* para procesar datos con comportaiento de una distribucuón *t student*\n",
        "\n",
        "En el desarrollo, se resuelven e interpretan algunos ejercicios con datos bajo la distribución *T Student,*."
      ],
      "metadata": {
        "id": "CK8SgrtVroMO"
      }
    },
    {
      "cell_type": "markdown",
      "source": [
        "# Fundamento teórico\n",
        "\n",
        "## Características de T Student\n",
        "\n",
        "La distribución *t student* tiene estas características:\n",
        "\n",
        "-   Tiene forma de montículo o campana de gauss y es simétrica alrededor de $t = 0$, igual que $z$ la normal estándar.\n",
        "\n",
        "-   Es más variable que $z$, con \"colas más pesadas\"; esto es, la curva $t$ no aproxima al eje horizontal con la misma rapidez que $z$. Esto es porque el estadístico $t$ abarca dos cantidades aleatorias, $\\bar{x}$ y $s$, en tanto que el estadístico $z$ tiene sólo la media muestral, $\\bar{x}$. Ver curvas de *t Student* y Normal Estándar $z$.\n",
        "\n",
        "-   La forma de la distribución $t$ depende del tamaño muestral $n$. A medida que $n$ aumenta, la variabilidad de $t$ disminuye porque la estimación $s$ de $\\sigma$ está basada en más y más información.\n",
        "\n",
        "-   Cuando $n$ sea infinitamente grande, las distribuciones $t$ y $z$ son idénticas. [@mendenhall2010].\n",
        "\n",
        "\n",
        "El divisor $(n-1)$ en la fórmula para la varianza muestral $s^2 = \\sum(\\frac{x_i-\\bar{x}}{n-1})$ se denomina número de grados de libertad **(df)** asociado con $s^2$ determina la forma de la distribución $t$. El origen del término grados de libertad es teórico y se refiere al número de desviaciones independientes elevadas al cuadrado en $s^2$ existentes para estimar $\\sigma^2$.\n",
        "\n",
        "Estos grados de libertad pueden cambiar para diferentes aplicaciones y como especifican la distribución *t* correcta a usar, es necesario recordar que hay que calcular los grados de libertad correctos para cada aplicación. [@mendenhall2010].\n",
        "\n",
        "Si la muestra tiene un valor de $t$ en el rango del nivel de confianza entonces se acepta la hipótesis de lo contrario de rechaza.\n",
        "\n",
        "## Funciones en Python para *T Student*\n",
        "\n",
        "Se puede utiliar funciones de la biblioteca la biblioteca scipy.stats proporciona funciones para trabajar con la distribución t de Student:\n",
        "\n",
        "Para toda función de la distribcuón *t student* se incorpora el argumeno de grados de libertad $gl = n-1$\n",
        "- Para generar números aleatorios se utiliza la función *t.rvs(df=grados_libertad, size=)*\n",
        "\n",
        "## ¿Para qué utilizar t student?\n",
        "\n",
        "La distribución *t de Student* se utiliza principalmente en inferencia estadística cuando se trabaja con muestras pequeñas (o muestras de las cuales no conocemos la desviación estándar de la población).\n",
        "\n",
        "- Sirve para etimar intervalos de confianza para la media: Cuando se desea calcualr el intervalo de confianza para la media de una población y la muestra es pequeña, se utiliza la distribución *t student* en lugar de la distribución normal. Esto es especialmente importante cuando la desviación estándar de la población es desconocida.\n",
        "\n",
        "- Para prueba de hipótesis para la media: Al realizar pruebas de hipótesis sobre la media de una población con una muestra pequeña y desconociendo la desviación estándar de la población, se utiliza la distribución *t student*.\n",
        "\n",
        "- Para regresión lineal: En el contexto de la regresión lineal, la distribución *t student* se utiliza para realizar pruebas sobre los coeficientes de la regresión y para construir intervalos de confianza para estos coeficientes.\n",
        "\n",
        "- Comparación de medias de dos Muestras: Cuando se comparan las medias de dos muestras independientes y ambas muestras son pequeñas, se utiliza la distribución *t student* en lugar de la distribución normal.\n",
        "\n",
        "La distribución t tiene colas más pesadas en comparación con la distribución normal, lo que refleja la mayor incertidumbre asociada con la estimación de la desviación estándar de la población a partir de una muestra pequeña. Conforme el tamaño de la muestra aumenta, la distribución t converge hacia la distribución normal estándar.\n",
        "\n",
        "## Densidad de una t student\n",
        "\n",
        "### Densidades con valores de t\n",
        "\n",
        "$$\n",
        "f(x) = \\frac{\\frac{\\gamma(gl + 1)}{2}}{\\sqrt(gl \\cdot \\pi)\\cdot \\gamma(gl/2)} \\cdot (1 + \\frac{t^2}{gl})^{\\frac{-(gl+1)}{2}} \\therefore\n",
        "$$\n",
        "\n",
        "$$\n",
        "f(x) = \\frac{\\frac{gamma(gl + 1)}{2}}{\\sqrt(gl \\cdot \\pi)\\cdot gamma(gl/2)} \\cdot (1 + \\frac{t^2}{gl})^{\\frac{-(gl+1)}{2}} \\therefore\n",
        "$$\n",
        "\n",
        "De acuerdo con la literatura consultada, la función gamma, denotada comúnmente por Γ(x), es una función matemática que generaliza el concepto de factorial para números reales y complejos. Para números enteros positivos, Γ(x) es equivalente al factorial de $!(x−1)$\n",
        "\n",
        "La función gamma está definida por la integral:\n",
        "\n",
        "$$\n",
        "Γ(x) = ∫_{0}^{∞}t^{x-1}e^{-t}dt\n",
        "$$\n",
        "\n",
        "En python se utilzia la función *t.pdf* de la bilioteca o librería *scipy.stats import t*."
      ],
      "metadata": {
        "id": "gZ6iZqFkryNG"
      }
    },
    {
      "cell_type": "markdown",
      "source": [
        "# Desarrollo\n",
        "\n"
      ],
      "metadata": {
        "id": "7yq1dAJ3r2v_"
      }
    },
    {
      "cell_type": "markdown",
      "source": [
        "## Cargar librerías\n"
      ],
      "metadata": {
        "id": "4CRiDOUdr-H3"
      }
    },
    {
      "cell_type": "code",
      "source": [
        "import numpy as np\n",
        "from scipy.stats import t"
      ],
      "metadata": {
        "id": "JUG1ja-SsAGI"
      },
      "execution_count": 1,
      "outputs": []
    },
    {
      "cell_type": "markdown",
      "source": [
        "## Cargar funciones"
      ],
      "metadata": {
        "id": "GLpBpL73sA-4"
      }
    },
    {
      "cell_type": "code",
      "source": [
        "# Pendiente"
      ],
      "metadata": {
        "id": "-2kgJiQDsCyg"
      },
      "execution_count": null,
      "outputs": []
    },
    {
      "cell_type": "markdown",
      "source": [
        "## Generar números aleatorios\n",
        "\n",
        "Sembrar semilla con valor de 2023\n"
      ],
      "metadata": {
        "id": "ppaf1QT_vzMm"
      }
    },
    {
      "cell_type": "code",
      "source": [
        "# Sembrar semilla\n",
        "np.random.seed(2023)"
      ],
      "metadata": {
        "id": "7q7q1ZqnwOc7"
      },
      "execution_count": 4,
      "outputs": []
    },
    {
      "cell_type": "markdown",
      "source": [
        "Se generan 100 números aleatorios a 10 grados de libertad; $n=100$; $gl = 10$"
      ],
      "metadata": {
        "id": "KN6PFkbmwT_L"
      }
    },
    {
      "cell_type": "code",
      "source": [
        "# Especifica los grados de libertad\n",
        "gl = 10\n",
        "\n",
        "# Genera números aleatorios bajo la distribución t de Student\n",
        "num_aleatorios = t.rvs(df=gl, size=100)\n",
        "\n",
        "# Imprime los primeros 10 números generados\n",
        "\n",
        "print(np.round(num_aleatorios, 4))"
      ],
      "metadata": {
        "colab": {
          "base_uri": "https://localhost:8080/"
        },
        "id": "65xcP69bwBb8",
        "outputId": "a6fbdc46-7ec2-4ca1-aa94-c9f4256af3f1"
      },
      "execution_count": 12,
      "outputs": [
        {
          "output_type": "stream",
          "name": "stdout",
          "text": [
            "[-0.3754 -0.1838  1.4792  0.2837  0.9261  0.5935 -0.6712  0.7042 -1.201\n",
            "  1.1266  0.4348  0.047   0.6592 -1.0676 -0.6944  0.9542 -0.5276 -0.5174\n",
            " -1.372  -0.2182  0.3342  1.1589 -0.2752  0.9055  0.8746 -0.8653 -1.8734\n",
            " -0.4786 -0.1261  1.2503  0.5003  0.4014 -0.2218  0.5274 -1.6034 -0.2243\n",
            " -0.7203  1.4464  0.4687  1.5552  1.0422 -0.3114  1.6007 -0.4129  0.8893\n",
            "  0.6865 -1.1067  0.5071  0.1888 -0.3212 -0.5589  1.7016  0.1547  0.9467\n",
            " -0.2466 -1.1912 -0.3187  0.3791 -0.9953  1.0148  0.047   1.7176  0.6918\n",
            "  1.2145 -0.2246 -0.71    1.1772 -1.1226  0.3553  1.9529  2.1077  0.1828\n",
            " -0.5708 -0.4951  0.0773  0.2993 -1.1023 -0.8084  0.1251  0.3114  0.3775\n",
            " -0.413   0.3568 -2.0209  0.078  -0.826  -0.0945 -1.5353  0.0699  0.5711\n",
            "  0.3273 -1.4189  0.6347  0.0698 -1.6712  1.0499 -0.6023 -0.7223 -0.4399\n",
            "  1.3265]\n"
          ]
        }
      ]
    },
    {
      "cell_type": "markdown",
      "source": [
        "## Calcular la densidad de los valores aleatorios\n",
        "\n",
        "Con la función de Python *t.pdf()* envándole como argumentos los números leatorios y los grados de linertad $gl$ se calcula la densidad."
      ],
      "metadata": {
        "id": "XV2Uc5HWqY6A"
      }
    },
    {
      "cell_type": "code",
      "source": [
        "densidad = t.pdf(num_aleatorios, df=gl)\n",
        "print(np.round(num_aleatorios, 4))"
      ],
      "metadata": {
        "colab": {
          "base_uri": "https://localhost:8080/"
        },
        "id": "SX9r0R1Yqcf4",
        "outputId": "95be8e0d-3123-4b48-a3eb-53b068a34687"
      },
      "execution_count": 15,
      "outputs": [
        {
          "output_type": "stream",
          "name": "stdout",
          "text": [
            "[-0.3754 -0.1838  1.4792  0.2837  0.9261  0.5935 -0.6712  0.7042 -1.201\n",
            "  1.1266  0.4348  0.047   0.6592 -1.0676 -0.6944  0.9542 -0.5276 -0.5174\n",
            " -1.372  -0.2182  0.3342  1.1589 -0.2752  0.9055  0.8746 -0.8653 -1.8734\n",
            " -0.4786 -0.1261  1.2503  0.5003  0.4014 -0.2218  0.5274 -1.6034 -0.2243\n",
            " -0.7203  1.4464  0.4687  1.5552  1.0422 -0.3114  1.6007 -0.4129  0.8893\n",
            "  0.6865 -1.1067  0.5071  0.1888 -0.3212 -0.5589  1.7016  0.1547  0.9467\n",
            " -0.2466 -1.1912 -0.3187  0.3791 -0.9953  1.0148  0.047   1.7176  0.6918\n",
            "  1.2145 -0.2246 -0.71    1.1772 -1.1226  0.3553  1.9529  2.1077  0.1828\n",
            " -0.5708 -0.4951  0.0773  0.2993 -1.1023 -0.8084  0.1251  0.3114  0.3775\n",
            " -0.413   0.3568 -2.0209  0.078  -0.826  -0.0945 -1.5353  0.0699  0.5711\n",
            "  0.3273 -1.4189  0.6347  0.0698 -1.6712  1.0499 -0.6023 -0.7223 -0.4399\n",
            "  1.3265]\n"
          ]
        }
      ]
    },
    {
      "cell_type": "markdown",
      "source": [
        "## Visualizar la densidad de una t student"
      ],
      "metadata": {
        "id": "Wshhz2DXq6PP"
      }
    },
    {
      "cell_type": "code",
      "source": [
        "# Pendiente\n",
        "# Mandar llamar una función precodificada\n",
        "# para mostrar la densidad de una t student\n"
      ],
      "metadata": {
        "id": "OrcApuVwq9B5"
      },
      "execution_count": null,
      "outputs": []
    },
    {
      "cell_type": "markdown",
      "source": [
        "# Interpretación del caso"
      ],
      "metadata": {
        "id": "ZX1vIv_Vr4MQ"
      }
    },
    {
      "cell_type": "markdown",
      "source": [
        "# Bibliografía\n",
        "\n",
        "- Anderson, David R., Dennis J. Sweeney, and Thomas A. Williams. 2008. Estadística Para Administración y Economía. 10th ed. Australia • Brasil • Corea • España • Estados Unidos • Japón • México • Reino Unido • Singapur: Cengage Learning,.\n",
        "\n",
        "- Lind, Douglas, William Marchal, and Samuel Wathen. 2015. Estadística Aplicada a Los Negocios y La Economía. Decimo Sexta. México, D.F.: McGraw-Hill.\n",
        "\n",
        "- Mendenhall, William, Robert J. Beaver, and Barbara M. Beaver. 2006. Introducción a La Probabilidad y Estadística. 13a Edición.\n",
        "\n",
        "- Walpole, Ronald E., Raymond H. Myers, and Sharon L. Myers. 2012. Probabilidad y Estadística Para Ingeniería y Ciencias. Novena Edición. México: Pearson.\n",
        "\n",
        "- https://chat.openai.com"
      ],
      "metadata": {
        "id": "atUvgsUEr50H"
      }
    }
  ]
}