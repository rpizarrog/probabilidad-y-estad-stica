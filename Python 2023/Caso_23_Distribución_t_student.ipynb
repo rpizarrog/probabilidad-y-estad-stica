{
  "nbformat": 4,
  "nbformat_minor": 0,
  "metadata": {
    "colab": {
      "provenance": [],
      "authorship_tag": "ABX9TyN7dXOtptYbX0aqlMceQD6g",
      "include_colab_link": true
    },
    "kernelspec": {
      "name": "python3",
      "display_name": "Python 3"
    },
    "language_info": {
      "name": "python"
    }
  },
  "cells": [
    {
      "cell_type": "markdown",
      "metadata": {
        "id": "view-in-github",
        "colab_type": "text"
      },
      "source": [
        "<a href=\"https://colab.research.google.com/github/rpizarrog/probabilidad-y-estad-stica/blob/master/Python%202023/Caso_23_Distribuci%C3%B3n_t_student.ipynb\" target=\"_parent\"><img src=\"https://colab.research.google.com/assets/colab-badge.svg\" alt=\"Open In Colab\"/></a>"
      ]
    },
    {
      "cell_type": "markdown",
      "source": [
        "# Distribución T Student\n",
        "\n",
        "# Objetivo\n",
        "\n",
        "Utilizar funciones de una distribución *T Student* para idengificar valores de $t$, calcular función de densidad y estimar probabilidades visualizando áreas bajo la curva."
      ],
      "metadata": {
        "id": "EF3TYmb9rjVy"
      }
    },
    {
      "cell_type": "markdown",
      "source": [
        "# Descripción\n",
        "\n",
        "- Cargar librerías o bibliotecas de Python\n",
        "- Cargar funciones previmente codificadas para propósito de este caso\n",
        "- Calcular valores de t\n",
        "- Visualizar densidad\n",
        "- Visualizar probabilidades\n",
        "- Interpretar el caso\n",
        "...\n",
        "\n",
        "En el sustento teórico, se da a conocer un panorama de la importancia de la distribución *t student* comparando la campana de gauss de una distribución normal estándar y distribuciones t; se identifica la fórmula de densidad *t* y se mencionan las funciones de *Python* para procesar datos con comportaiento de una distribucuón *t student*\n",
        "\n",
        "En el desarrollo, se resuelven e interpretan algunos ejercicios con datos bajo la distribución *T Student,*."
      ],
      "metadata": {
        "id": "CK8SgrtVroMO"
      }
    },
    {
      "cell_type": "markdown",
      "source": [
        "# Fundamento teórico\n",
        "\n",
        "## Características de T Student\n",
        "\n",
        "La distribución *t student* tiene estas características:\n",
        "\n",
        "-   Tiene forma de montículo o campana de gauss y es simétrica alrededor de $t = 0$, igual que $z$ la normal estándar.\n",
        "\n",
        "-   Es más variable que $z$, con \"colas más pesadas\"; esto es, la curva $t$ no aproxima al eje horizontal con la misma rapidez que $z$. Esto es porque el estadístico $t$ abarca dos cantidades aleatorias, $\\bar{x}$ y $s$, en tanto que el estadístico $z$ tiene sólo la media muestral, $\\bar{x}$. Ver curvas de *t Student* y Normal Estándar $z$.\n",
        "\n",
        "-   La forma de la distribución $t$ depende del tamaño muestral $n$. A medida que $n$ aumenta, la variabilidad de $t$ disminuye porque la estimación $s$ de $\\sigma$ está basada en más y más información.\n",
        "\n",
        "-   Cuando $n$ sea infinitamente grande, las distribuciones $t$ y $z$ son idénticas. [@mendenhall2010].\n",
        "\n",
        "\n",
        "El divisor $(n-1)$ en la fórmula para la varianza muestral $s^2 = \\sum(\\frac{x_i-\\bar{x}}{n-1})$ se denomina número de grados de libertad **(df)** asociado con $s^2$ determina la forma de la distribución $t$. El origen del término grados de libertad es teórico y se refiere al número de desviaciones independientes elevadas al cuadrado en $s^2$ existentes para estimar $\\sigma^2$.\n",
        "\n",
        "Estos grados de libertad pueden cambiar para diferentes aplicaciones y como especifican la distribución *t* correcta a usar, es necesario recordar que hay que calcular los grados de libertad correctos para cada aplicación. [@mendenhall2010].\n",
        "\n",
        "Si la muestra tiene un valor de $t$ en el rango del nivel de confianza entonces se acepta la hipótesis de lo contrario de rechaza.\n",
        "\n",
        "## Funciones en Python para *T Student*\n",
        "\n",
        "Se puede utiliar funciones de la biblioteca la biblioteca scipy.stats proporciona funciones para trabajar con la distribución t de Student:\n",
        "\n",
        "Para toda función de la distribcuón *t student* se incorpora el argumeno de grados de libertad $gl = n-1$\n",
        "- Para generar números aleatorios se utiliza la función *t.rvs(df=grados_libertad, size=)*\n",
        "\n",
        "## ¿Para qué utilizar t student?\n",
        "\n",
        "La distribución *t de Student* se utiliza principalmente en inferencia estadística cuando se trabaja con muestras pequeñas (o muestras de las cuales no conocemos la desviación estándar de la población).\n",
        "\n",
        "- Sirve para etimar intervalos de confianza para la media: Cuando se desea calcualr el intervalo de confianza para la media de una población y la muestra es pequeña, se utiliza la distribución *t student* en lugar de la distribución normal. Esto es especialmente importante cuando la desviación estándar de la población es desconocida.\n",
        "\n",
        "- Para prueba de hipótesis para la media: Al realizar pruebas de hipótesis sobre la media de una población con una muestra pequeña y desconociendo la desviación estándar de la población, se utiliza la distribución *t student*.\n",
        "\n",
        "- Para regresión lineal: En el contexto de la regresión lineal, la distribución *t student* se utiliza para realizar pruebas sobre los coeficientes de la regresión y para construir intervalos de confianza para estos coeficientes.\n",
        "\n",
        "- Comparación de medias de dos Muestras: Cuando se comparan las medias de dos muestras independientes y ambas muestras son pequeñas, se utiliza la distribución *t student* en lugar de la distribución normal.\n",
        "\n",
        "La distribución t tiene colas más pesadas en comparación con la distribución normal, lo que refleja la mayor incertidumbre asociada con la estimación de la desviación estándar de la población a partir de una muestra pequeña. Conforme el tamaño de la muestra aumenta, la distribución t converge hacia la distribución normal estándar."
      ],
      "metadata": {
        "id": "gZ6iZqFkryNG"
      }
    },
    {
      "cell_type": "markdown",
      "source": [
        "# Desarrollo\n",
        "\n"
      ],
      "metadata": {
        "id": "7yq1dAJ3r2v_"
      }
    },
    {
      "cell_type": "markdown",
      "source": [
        "## Cargar librerías\n"
      ],
      "metadata": {
        "id": "4CRiDOUdr-H3"
      }
    },
    {
      "cell_type": "code",
      "source": [
        "import numpy as np\n",
        "from scipy.stats import t"
      ],
      "metadata": {
        "id": "JUG1ja-SsAGI"
      },
      "execution_count": 2,
      "outputs": []
    },
    {
      "cell_type": "markdown",
      "source": [
        "## Cargar funciones"
      ],
      "metadata": {
        "id": "GLpBpL73sA-4"
      }
    },
    {
      "cell_type": "code",
      "source": [
        "# Pendiente"
      ],
      "metadata": {
        "id": "-2kgJiQDsCyg"
      },
      "execution_count": null,
      "outputs": []
    },
    {
      "cell_type": "markdown",
      "source": [
        "## Generar números aleatorios\n",
        "\n",
        "Sembrar semilla con valor de 2023\n"
      ],
      "metadata": {
        "id": "ppaf1QT_vzMm"
      }
    },
    {
      "cell_type": "code",
      "source": [
        "# Sembrar semilla\n",
        "np.random.seed(2023)"
      ],
      "metadata": {
        "id": "7q7q1ZqnwOc7"
      },
      "execution_count": 6,
      "outputs": []
    },
    {
      "cell_type": "markdown",
      "source": [
        "Se generan 100 números aleatorios a 10 grados de libertad; $n=100$; $gl = 10$"
      ],
      "metadata": {
        "id": "KN6PFkbmwT_L"
      }
    },
    {
      "cell_type": "code",
      "source": [
        "# Especifica los grados de libertad\n",
        "gl = 10\n",
        "\n",
        "# Genera números aleatorios bajo la distribución t de Student\n",
        "num_aleatorios = t.rvs(df=gl, size=100)\n",
        "\n",
        "# Imprime los primeros 10 números generados\n",
        "print(np.round(num_aleatorios, 6))"
      ],
      "metadata": {
        "colab": {
          "base_uri": "https://localhost:8080/"
        },
        "id": "65xcP69bwBb8",
        "outputId": "a407c29a-71a3-4606-be5c-56d7ceb4d2e9"
      },
      "execution_count": 9,
      "outputs": [
        {
          "output_type": "stream",
          "name": "stdout",
          "text": [
            "[-0.817885 -0.668134  0.569894 -0.123859  0.535984 -1.240426  1.576878\n",
            " -1.144743  2.331027  1.104901 -1.115909  1.25917  -0.732498  2.709147\n",
            " -0.116583 -1.105729 -1.03137  -0.119734  1.497269 -0.954765  0.770519\n",
            "  0.544829 -1.634327  0.860514  1.254074  0.813566 -1.40843  -0.02912\n",
            " -1.650177 -0.304422 -0.353859  0.411917  2.119491 -0.38653  -1.094562\n",
            "  1.206457  0.811182 -0.800193  0.690389 -0.65458   0.584924  0.031188\n",
            " -2.318644 -1.168195  0.021571  0.392619 -0.366675  4.046902  0.080044\n",
            "  0.85265  -0.757486 -2.417448 -0.236649  0.850227 -0.812312 -0.10748\n",
            "  1.566483 -2.474857  0.859232  0.654735  2.277925  1.751329 -0.477218\n",
            " -0.962651 -0.328608 -0.305513  0.789306 -0.685914 -0.178422  0.568867\n",
            " -1.006828 -1.677149 -1.341386  0.893072  2.215867  1.379286  0.965138\n",
            "  0.982585 -0.580799  3.563238 -0.846845 -0.766233  1.123967 -1.043607\n",
            "  0.678963 -1.233512  0.1676   -0.45286  -0.643695 -0.304604 -2.031803\n",
            "  0.887716  0.413647 -0.728834 -1.87936   0.03917   1.015754  0.825268\n",
            " -0.28583  -0.291267]\n"
          ]
        }
      ]
    },
    {
      "cell_type": "markdown",
      "source": [
        "# Interpretación del caso"
      ],
      "metadata": {
        "id": "ZX1vIv_Vr4MQ"
      }
    },
    {
      "cell_type": "markdown",
      "source": [
        "# Bibliografía\n",
        "\n",
        "- Anderson, David R., Dennis J. Sweeney, and Thomas A. Williams. 2008. Estadística Para Administración y Economía. 10th ed. Australia • Brasil • Corea • España • Estados Unidos • Japón • México • Reino Unido • Singapur: Cengage Learning,.\n",
        "\n",
        "- Lind, Douglas, William Marchal, and Samuel Wathen. 2015. Estadística Aplicada a Los Negocios y La Economía. Decimo Sexta. México, D.F.: McGraw-Hill.\n",
        "\n",
        "- Mendenhall, William, Robert J. Beaver, and Barbara M. Beaver. 2006. Introducción a La Probabilidad y Estadística. 13a Edición.\n",
        "\n",
        "- Walpole, Ronald E., Raymond H. Myers, and Sharon L. Myers. 2012. Probabilidad y Estadística Para Ingeniería y Ciencias. Novena Edición. México: Pearson.\n",
        "\n",
        "- https://chat.openai.com"
      ],
      "metadata": {
        "id": "atUvgsUEr50H"
      }
    }
  ]
}