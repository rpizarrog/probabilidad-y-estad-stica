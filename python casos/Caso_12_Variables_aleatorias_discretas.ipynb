{
  "nbformat": 4,
  "nbformat_minor": 0,
  "metadata": {
    "colab": {
      "provenance": [],
      "authorship_tag": "ABX9TyPRdvRbW+bGoLyeW9ySKjc9",
      "include_colab_link": true
    },
    "kernelspec": {
      "name": "python3",
      "display_name": "Python 3"
    },
    "language_info": {
      "name": "python"
    }
  },
  "cells": [
    {
      "cell_type": "markdown",
      "metadata": {
        "id": "view-in-github",
        "colab_type": "text"
      },
      "source": [
        "<a href=\"https://colab.research.google.com/github/rpizarrog/probabilidad-y-estad-stica/blob/master/python%20casos/Caso_12_Variables_aleatorias_discretas.ipynb\" target=\"_parent\"><img src=\"https://colab.research.google.com/assets/colab-badge.svg\" alt=\"Open In Colab\"/></a>"
      ]
    },
    {
      "cell_type": "markdown",
      "source": [
        "# Objetivo\n",
        "\n",
        "Visualizar variables discretas con las distribuciones discretas."
      ],
      "metadata": {
        "id": "CuiskwT36JIh"
      }
    },
    {
      "cell_type": "markdown",
      "source": [
        "# Cargar librerías\n"
      ],
      "metadata": {
        "id": "PNa6MemT6T3B"
      }
    },
    {
      "cell_type": "markdown",
      "source": [
        "# Desarrollo\n",
        "\n",
        "Visualizar distribuciones discretas de probabilidad."
      ],
      "metadata": {
        "id": "As9PSEMD8Ygu"
      }
    },
    {
      "cell_type": "code",
      "source": [
        "from scipy.stats import poisson\n",
        "from scipy.stats import hypergeom\n",
        "from scipy.stats import binom\n",
        "import matplotlib.pyplot as plt\n",
        "import numpy as np\n"
      ],
      "metadata": {
        "id": "MXH2QaFX6V9o"
      },
      "execution_count": 2,
      "outputs": []
    },
    {
      "cell_type": "markdown",
      "source": [
        "## Semilla de aletoriedad"
      ],
      "metadata": {
        "id": "GsrNJgCGiOcx"
      }
    },
    {
      "cell_type": "code",
      "source": [
        "np.random.seed(2023)"
      ],
      "metadata": {
        "id": "2mjxWj9hiSX5"
      },
      "execution_count": 6,
      "outputs": []
    },
    {
      "cell_type": "markdown",
      "source": [
        "## Distribución binomial\n",
        "\n",
        "Fórmula para determinar probabilidad de una distribucuoón binomial.\n",
        "\n",
        "$$\n",
        "f(x) = prob(x=k) = \\binom{n}{k} \\cdot\n",
        "p^{k} \\cdot q^{(n-k)}\n",
        "$$\n"
      ],
      "metadata": {
        "id": "7_r-MRal6u0W"
      }
    },
    {
      "cell_type": "markdown",
      "source": [
        "### Generar números discretos aleatorios a partir de distribución binomial\n",
        "\n",
        "Se generan 100 números aleatorios con probabilidad de éxito del 30% y se determina el valor de n (número de ensayos o experimentos) de 0 a 10."
      ],
      "metadata": {
        "id": "zErbsu-Yf-cC"
      }
    },
    {
      "cell_type": "code",
      "source": [
        "\n",
        "# Parámetros de la distribución binomial\n",
        "n = 10  # Número de ensayos\n",
        "p = 0.3  # Probabilidad de éxito en cada ensayo\n",
        "\n",
        "# Generar valores aleatorios de la distribución binomial\n",
        "valores_aleatorios = binom.rvs(n=n, p=p, size=100)\n",
        "print(valores_aleatorios)\n",
        "\n",
        "# Visualizar el histograma de los valores generados\n",
        "plt.hist(valores_aleatorios, bins=np.arange(0, n + 2) - 0.5, density=True, rwidth=0.8)\n",
        "plt.title(\"Distribución Binomial (n=10, p=0.3)\")\n",
        "plt.xticks(range(n + 1))\n",
        "plt.xlabel(\"Número de Éxitos\")\n",
        "plt.ylabel(\"Probabilidad\")\n",
        "plt.show()\n"
      ],
      "metadata": {
        "colab": {
          "base_uri": "https://localhost:8080/",
          "height": 524
        },
        "id": "gxWiu4S3611V",
        "outputId": "c2ee6b8b-ea25-48a5-9365-2d4fb6959370"
      },
      "execution_count": 7,
      "outputs": [
        {
          "output_type": "stream",
          "name": "stdout",
          "text": [
            "[2 5 3 1 1 3 0 4 3 3 3 3 3 2 2 2 2 2 3 1 3 2 2 2 2 1 3 2 2 5 4 4 3 4 4 6 5\n",
            " 1 4 2 2 3 3 3 1 6 3 4 4 2 2 4 5 3 1 5 2 3 2 3 5 4 1 5 3 2 3 3 7 4 2 3 3 1\n",
            " 3 2 0 3 5 2 4 3 0 2 3 0 4 2 4 3 2 3 3 5 3 3 3 4 1 4]\n"
          ]
        },
        {
          "output_type": "display_data",
          "data": {
            "text/plain": [
              "<Figure size 640x480 with 1 Axes>"
            ],
            "image/png": "[encoded data removed]"
          },
          "metadata": {}
        }
      ]
    },
    {
      "cell_type": "markdown",
      "source": [
        "### Probabilidades binomial\n",
        "¿Cuál es la probabilida de $x = 4$ aproximadamente 16%.\n",
        "\n",
        "¿Cuál es la probabilida de $x <=4$. Aproximadamente $84\\%$. Sumando:  $\\sum{f(x_0,x_1, x_2, x_3, x_4)}$\n",
        "\n",
        "¿Cuál es la probabilidad de $f(x > 5)$. Sumar $\\sum{f(x_6,x_7, x_8)}$ . Aproximadamente $8\\%$"
      ],
      "metadata": {
        "id": "NxEeyWL0gmd8"
      }
    },
    {
      "cell_type": "markdown",
      "source": [
        "## Distribución hipergeométrica\n",
        "\n",
        "Fórmula para determinar probabilidad de una distribución hipergeométrica.\n",
        "\n",
        "$$\n",
        "f(x) =  \\frac{\\binom{r}{x} \\cdot\n",
        "\\binom{N-r}{n-x}}{\\binom{N}{n}}\n",
        "$$\n",
        "\n",
        "### Ejercicio baraja\n",
        "\n",
        "Suponer que se tiene una baraja de cartas con 52 cartas, de las cuales 4 son ases (éxito) y 48 no son ases (fracaso). Se desea calcular la probabilidad de obtener exactamente 2 ases en una mano de 5 cartas seleccionadas al azar.\n"
      ],
      "metadata": {
        "id": "aIDnJioy6w9W"
      }
    },
    {
      "cell_type": "code",
      "source": [
        "# Parámetros de la distribución hipergeométrica\n",
        "N = 52  # Tamaño de la población\n",
        "K = 4   # Número de elementos de tipo \"éxito\" en la población\n",
        "n = 5   # Tamaño de la muestra\n",
        "\n",
        "# Calcular la probabilidad de obtener exactamente 2 ases\n",
        "x = 3  # Número de éxitos deseados\n",
        "probabilidad = hypergeom.pmf(x, N, K, n)\n",
        "\n",
        "# Visualizar la probabilidad\n",
        "print(f\"La probabilidad de obtener exactamente 2 ases en una muestra de 5 cartas es: {probabilidad:.4f}\")\n"
      ],
      "metadata": {
        "id": "QAtIxb1ufslT"
      },
      "execution_count": null,
      "outputs": []
    },
    {
      "cell_type": "markdown",
      "source": [
        "### Generar números aleatorios hipergeométrica"
      ],
      "metadata": {
        "id": "hCf5N3eif4dT"
      }
    },
    {
      "cell_type": "code",
      "source": [
        "# Generar 100 números aleatorios y representar la distribución Hipergeométrica\n",
        "\n",
        "# Parámetros de la distribución hipergeométrica\n",
        "N = 100  # Tamaño de la población\n",
        "K = 30   # Número de elementos de tipo \"éxito\" en la población\n",
        "n = 10   # Tamaño de la muestra\n",
        "\n",
        "# Generar valores aleatorios de la distribución hipergeométrica\n",
        "valores_aleatorios = hypergeom.rvs(M=N, n=K, N=n, size=N)\n",
        "print(valores_aleatorios)\n",
        "\n",
        "# Visualizar el histograma de los valores generados\n",
        "plt.hist(valores_aleatorios, bins=np.arange(0, n + 1) - 0.5, density=True, rwidth=0.8)\n",
        "plt.title(\"Distribución Hipergeométrica (N=100, K=30, n=10)\")\n",
        "plt.xticks(range(n + 1))\n",
        "plt.xlabel(\"Número de Éxitos en la Muestra\")\n",
        "plt.ylabel(\"Probabilidad\")\n",
        "plt.show()\n",
        "\n",
        "\n"
      ],
      "metadata": {
        "colab": {
          "base_uri": "https://localhost:8080/",
          "height": 524
        },
        "id": "d6DF3Tse6ztt",
        "outputId": "eb18970f-72c8-45c3-b12b-833cf28a6b8a"
      },
      "execution_count": 18,
      "outputs": [
        {
          "output_type": "stream",
          "name": "stdout",
          "text": [
            "[2 4 6 4 1 4 4 3 4 3 2 2 3 5 3 4 3 4 5 1 2 3 3 4 3 4 2 4 2 3 1 5 3 2 2 5 3\n",
            " 1 3 4 2 3 2 3 2 2 4 3 5 3 1 4 2 1 3 3 4 2 4 4 4 3 3 3 5 4 3 2 4 2 3 4 2 5\n",
            " 3 5 7 2 3 1 2 3 1 7 4 4 1 3 3 5 1 4 3 3 4 3 2 4 2 2]\n"
          ]
        },
        {
          "output_type": "display_data",
          "data": {
            "text/plain": [
              "<Figure size 640x480 with 1 Axes>"
            ],
            "image/png": "[encoded data removed]"
          },
          "metadata": {}
        }
      ]
    },
    {
      "cell_type": "markdown",
      "source": [
        "### Probabilidades hipergeométrica\n",
        "\n",
        "¿Cuál es la probabilidad de  $x=4$  aproximadamente $25\\%$.\n",
        "\n",
        "¿Cuál es la probabilidad de  $x<=4$. Aproximadamente  $82\\%$ . Sumando:  $∑f(x0,x1,x2,x3,x4)$\n",
        "\n",
        "¿Cuál es la probabilidad de  $f(x>5)$ . Sumar  $∑f(x6,x7,x8)$  . Aproximadamente  $5\\%$"
      ],
      "metadata": {
        "id": "Gs5ks8BAjCIr"
      }
    },
    {
      "cell_type": "markdown",
      "source": [
        "## Distribución Poisson\n",
        "\n",
        "Fórmula para f(x) probabilidad de Poisson.\n",
        "$$\n",
        "f(x) = \\frac{{e^{ - \\mu }\\cdot \\mu ^x }}{{x!}}\n",
        "$$"
      ],
      "metadata": {
        "id": "xvD_Xnd36a6u"
      }
    },
    {
      "cell_type": "markdown",
      "source": [
        "### Generando numeros aleatorios Poisson\n",
        "\n",
        "Generar mil valores discretos aleatorios bajo distribucion Poisson.\n"
      ],
      "metadata": {
        "id": "DwglEzktkPVE"
      }
    },
    {
      "cell_type": "code",
      "source": [
        "\n",
        "# Parámetro de la distribución de Poisson (lambda)\n",
        "mu_lambda = 3\n",
        "\n",
        "# Generar valores aleatorios de la distribución de Poisson\n",
        "valores_aleatorios = poisson.rvs(mu=mu_lambda, size=100)\n",
        "print(valores_aleatorios)\n",
        "\n",
        "# Visualizar el histograma de los valores generados\n",
        "plt.hist(valores_aleatorios, bins=np.arange(0, n + 1) - 0.5, density=True, rwidth=0.8)\n",
        "plt.title(\"Distribución de Poisson\")\n",
        "plt.show()\n"
      ],
      "metadata": {
        "colab": {
          "base_uri": "https://localhost:8080/",
          "height": 504
        },
        "id": "DRuIPuv46OE-",
        "outputId": "63ebe530-1c41-478b-ab87-4605c39db4ed"
      },
      "execution_count": 27,
      "outputs": [
        {
          "output_type": "stream",
          "name": "stdout",
          "text": [
            "[6 4 3 3 4 6 3 3 2 2 2 4 4 2 2 4 4 2 2 2 3 1 1 5 3 6 3 2 3 1 3 0 3 2 3 5 1\n",
            " 5 2 1 3 2 7 3 0 5 2 4 2 7 2 5 2 1 3 6 1 0 2 5 3 2 2 3 3 2 6 2 7 3 6 2 5 9\n",
            " 2 1 4 5 1 3 3 0 3 0 4 1 0 3 0 7 7 1 2 3 1 1 5 5 2 8]\n"
          ]
        },
        {
          "output_type": "display_data",
          "data": {
            "text/plain": [
              "<Figure size 640x480 with 1 Axes>"
            ],
            "image/png": "[encoded data removed]"
          },
          "metadata": {}
        }
      ]
    },
    {
      "cell_type": "markdown",
      "source": [
        "### Probabilidades Poisson\n",
        "\n",
        "¿Cuál es la probabilidad de  $x=4$  aproximadamente $8\\%$.\n",
        "\n",
        "¿Cuál es la probabilidad de  $x<=4$. Aproximadamente  $68\\%$ . Sumando:  $∑f(x0,x1,x2,x3,x4)$\n",
        "\n",
        "¿Cuál es la probabilidad de  $f(x>5)$ . Sumar  $∑f(x6,x7,x8)$  . Aproximadamente  $24\\%$"
      ],
      "metadata": {
        "id": "oFpP26qukyg7"
      }
    },
    {
      "cell_type": "markdown",
      "source": [
        "## Ejercicios a realizar\n",
        "\n",
        "### Ejercicio de Binomial:\n",
        "En unas pruebas de alcoholemia se ha observado que el 5% de los conductores controlados dan positivo en la prueba.\n",
        "\n",
        "Represente una simulación de cien (100) números aleatorios bajo la simulación binomial y represente su diagrama de barra con los valores de variables discretas (conductores que no pasan la prueba de alcoholímetro) de 1 a 8.\n",
        "\n",
        "$$\n",
        "n = 100\n",
        "$$\n",
        "$$\n",
        "x_i = 1,2,3,4,5,6,7,8\n",
        "$$\n",
        "\n",
        "¿Cuál es la probabilidad de que que haya 4 conductores que no pasan la prueba de alcoholímetro?\n",
        "\n",
        "¿Cuál es la probabilidad de que haya de 2 a 3 conductores que no pasan la prueba de alcoholímetro?\n",
        "\n",
        "\n",
        "\n"
      ],
      "metadata": {
        "id": "xI1Vvu4eylUD"
      }
    },
    {
      "cell_type": "markdown",
      "source": [
        "### Ejercicio hipergeométrica\n",
        "\n",
        "Pendiente ... ...\n"
      ],
      "metadata": {
        "id": "dlyqsE5BN40_"
      }
    },
    {
      "cell_type": "markdown",
      "source": [
        "### Ejercicio Poisson\n",
        "\n",
        "Pendiente ... ..."
      ],
      "metadata": {
        "id": "VVrUZ-IhmmFq"
      }
    },
    {
      "cell_type": "markdown",
      "source": [
        "# Interpretación del caso\n",
        "\n",
        "¿Cómo se generan números aletorios de variables discretas de distribución hipergeo.métrica?\n",
        "\n",
        "¿Cómo se generan números aletorios de variables discretas de distribución Poisson?\n",
        "\n",
        "¿Como determinar probabilidades de una distribución discreta?\n",
        "\n"
      ],
      "metadata": {
        "id": "OZfCUFNw9D9O"
      }
    }
  ]
}