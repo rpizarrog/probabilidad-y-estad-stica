{
  "nbformat": 4,
  "nbformat_minor": 0,
  "metadata": {
    "colab": {
      "provenance": [],
      "authorship_tag": "ABX9TyOw/BeEBEiivspkM+Ag1n+T",
      "include_colab_link": true
    },
    "kernelspec": {
      "name": "python3",
      "display_name": "Python 3"
    },
    "language_info": {
      "name": "python"
    }
  },
  "cells": [
    {
      "cell_type": "markdown",
      "metadata": {
        "id": "view-in-github",
        "colab_type": "text"
      },
      "source": [
        "<a href=\"https://colab.research.google.com/github/rpizarrog/probabilidad-y-estad-stica/blob/master/2024/Crear_funciones_para_determinar_n%C3%BAmero_menor_mayor_media_moda_mediana_.ipynb\" target=\"_parent\"><img src=\"https://colab.research.google.com/assets/colab-badge.svg\" alt=\"Open In Colab\"/></a>"
      ]
    },
    {
      "cell_type": "markdown",
      "source": [
        "# Objetivo\n",
        "\n",
        "Declarar funciones que reciba una lista de números y devuelva el número que es mayor, menor, media aritmética, moda, mediana y cantidad de núeros n, para visualizarlos en pantalla.\n",
        "\n"
      ],
      "metadata": {
        "id": "E6j34uC063f_"
      }
    },
    {
      "cell_type": "markdown",
      "source": [
        "# Descripción\n",
        "\n",
        "Se crea una función llamada *f_menor_mayor()* que devuelve de una lista de números recibida el número mayor y menor de la lista.\n",
        "\n",
        "Se crea función *f_media_moda_mediana_n()* para devolver los valores de la media aritmética, la moda, la mediana y el valor de n.\n",
        "\n",
        "Se crea una lista de números en una variable llamada *numeros*.\n",
        "\n",
        "Se manda llamar a función *f_menor_mayor()*.\n",
        "\n",
        "Se manda llamar la función *f_media_moda_mediana_n()*.\n",
        "\n",
        "\n",
        "Se visualiza en pantalla el número mayor y menor.\n",
        "\n",
        "Se visualiza en pantalla la media, la moda y la mediana de los numéros así como el valor de n.\n",
        "\n",
        "Se interpreta el caso.\n",
        "\n"
      ],
      "metadata": {
        "id": "SclJ0Esr6_gz"
      }
    },
    {
      "cell_type": "markdown",
      "source": [
        "# Desarrollo"
      ],
      "metadata": {
        "id": "oqMDNLzx7BIu"
      }
    },
    {
      "cell_type": "markdown",
      "source": [
        "## Importar librerías\n"
      ],
      "metadata": {
        "id": "B2lW5wXyAJFA"
      }
    },
    {
      "cell_type": "code",
      "source": [
        "from collections import Counter\n",
        "import statistics"
      ],
      "metadata": {
        "id": "8xdVTMUiALit"
      },
      "execution_count": 17,
      "outputs": []
    },
    {
      "cell_type": "markdown",
      "source": [
        "## Crear funciones"
      ],
      "metadata": {
        "id": "SDRjRvwyARkb"
      }
    },
    {
      "cell_type": "code",
      "source": [
        "def f_menor_mayor(numeros):\n",
        "    # Encontrar el número mayor y el número menor\n",
        "    mayor = max(numeros)\n",
        "    menor = min(numeros)\n",
        "    return mayor, menor\n",
        "\n",
        "def f_media_moda_mediana_n(numeros):\n",
        "    # Calcular la media aritmética\n",
        "    media = sum(numeros) / len(numeros)\n",
        "\n",
        "    # Calcular la moda\n",
        "    contador = Counter(numeros)\n",
        "    moda = contador.most_common(1)[0][0]\n",
        "\n",
        "    # Calcular la mediana\n",
        "    mediana = statistics.median(numeros)\n",
        "\n",
        "    # ¿Cuántos números son?\n",
        "    n = len(numeros)\n",
        "    return media, moda, mediana, n"
      ],
      "metadata": {
        "id": "lZosp1zg71q2"
      },
      "execution_count": 22,
      "outputs": []
    },
    {
      "cell_type": "markdown",
      "source": [
        "## Crear la lista de números"
      ],
      "metadata": {
        "id": "FB09fuUm79V7"
      }
    },
    {
      "cell_type": "code",
      "source": [
        "# Ejemplo de uso\n",
        "numeros = [54, 10, 30, 18, 15, 20, 21, 8, 90, 31, 65, 10, 80, 43, 54, 56,\n",
        "           24, 45, 62, 9, 32, 34, 87, 43, 23, 32, 19, 18, 19, 21, 23,\n",
        "           25, 29, 40, 54, 34, 67, 54, 65, 45, 43, 23, 45, 65, 75, 76,\n",
        "           18, 19, 21, 22, 32, 34, 45, 36, 54, 54, 34, 43, 37, 89, 78, 43,\n",
        "           40, 39, 32, 20, 18, 19, 25, 24, 26, 43, 45, 43, 20, 29, 40,\n",
        "           18, 19, 20, 30, 40, 50, 43, 42, 45, 65, 68, 90, 32, 34, 36,\n",
        "           18, 20, 24, 54, 34, 36, 74, 65, 23, 24, 26, 28, 40, 50, 42,\n",
        "           40, 34, 36, 38, 40, 42, 45, 48, 50, 32, 34, 36, 48, 64, 42,\n",
        "           28, 30, 32, 34, 46, 46, 72, 43, 18, 19, 20]\n",
        "\n",
        "print (\"Los números\")\n",
        "print(numeros)\n",
        "\n",
        "# Ordenar números\n",
        "numeros_ordenados = sorted(numeros)\n",
        "print(\"Lista ordenada:\", numeros_ordenados)"
      ],
      "metadata": {
        "colab": {
          "base_uri": "https://localhost:8080/"
        },
        "id": "yVMrnVMa7_Go",
        "outputId": "6f1837c5-dcd5-48a3-ffef-2cd2840b6b5a"
      },
      "execution_count": 26,
      "outputs": [
        {
          "output_type": "stream",
          "name": "stdout",
          "text": [
            "Los números\n",
            "[54, 10, 30, 18, 15, 20, 21, 8, 90, 31, 65, 10, 80, 43, 54, 56, 24, 45, 62, 9, 32, 34, 87, 43, 23, 32, 19, 18, 19, 21, 23, 25, 29, 40, 54, 34, 67, 54, 65, 45, 43, 23, 45, 65, 75, 76, 18, 19, 21, 22, 32, 34, 45, 36, 54, 54, 34, 43, 37, 89, 78, 43, 40, 39, 32, 20, 18, 19, 25, 24, 26, 43, 45, 43, 20, 29, 40, 18, 19, 20, 30, 40, 50, 43, 42, 45, 65, 68, 90, 32, 34, 36, 18, 20, 24, 54, 34, 36, 74, 65, 23, 24, 26, 28, 40, 50, 42, 40, 34, 36, 38, 40, 42, 45, 48, 50, 32, 34, 36, 48, 64, 42, 28, 30, 32, 34, 46, 46, 72, 43, 18, 19, 20]\n",
            "Lista ordenada: [8, 9, 10, 10, 15, 18, 18, 18, 18, 18, 18, 18, 19, 19, 19, 19, 19, 19, 20, 20, 20, 20, 20, 20, 21, 21, 21, 22, 23, 23, 23, 23, 24, 24, 24, 24, 25, 25, 26, 26, 28, 28, 29, 29, 30, 30, 30, 31, 32, 32, 32, 32, 32, 32, 32, 34, 34, 34, 34, 34, 34, 34, 34, 34, 36, 36, 36, 36, 36, 37, 38, 39, 40, 40, 40, 40, 40, 40, 40, 42, 42, 42, 42, 43, 43, 43, 43, 43, 43, 43, 43, 43, 45, 45, 45, 45, 45, 45, 45, 46, 46, 48, 48, 50, 50, 50, 54, 54, 54, 54, 54, 54, 54, 56, 62, 64, 65, 65, 65, 65, 65, 67, 68, 72, 74, 75, 76, 78, 80, 87, 89, 90, 90]\n"
          ]
        }
      ]
    },
    {
      "cell_type": "markdown",
      "source": [
        "## Ejecutar la función menor y mayor\n"
      ],
      "metadata": {
        "id": "lGsRlAqZ9A10"
      }
    },
    {
      "cell_type": "code",
      "source": [
        "mayor, menor = f_menor_mayor(numeros)\n",
        "print(\"El número mayor es:\", mayor)\n",
        "print(\"El número menor es:\", menor)"
      ],
      "metadata": {
        "colab": {
          "base_uri": "https://localhost:8080/"
        },
        "id": "Vwmre50R9Cu4",
        "outputId": "28c7b716-90d2-4ebc-8f91-c8920cc125d5"
      },
      "execution_count": 20,
      "outputs": [
        {
          "output_type": "stream",
          "name": "stdout",
          "text": [
            "El número mayor es: 90\n",
            "El número menor es: 8\n"
          ]
        }
      ]
    },
    {
      "cell_type": "markdown",
      "source": [
        "## Ejecuatr función par media moda y median"
      ],
      "metadata": {
        "id": "Xjjot1i9Ao5w"
      }
    },
    {
      "cell_type": "code",
      "source": [
        "media, moda, mediana, n = f_media_moda_mediana_n(numeros)\n",
        "\n",
        "print (\"La media es: \", media)\n",
        "print (\"La moda es: \", moda)\n",
        "print (\"La mediana es: \", mediana)\n",
        "print (\"Total de números n = \", n)\n"
      ],
      "metadata": {
        "colab": {
          "base_uri": "https://localhost:8080/"
        },
        "id": "qQInzsAI_4lR",
        "outputId": "5a8eb76b-ff11-4ec0-8ad2-b73320a0f3e1"
      },
      "execution_count": 24,
      "outputs": [
        {
          "output_type": "stream",
          "name": "stdout",
          "text": [
            "La media es:  38.83458646616541\n",
            "La moda es:  43\n",
            "La mediana es:  36\n",
            "Total de números n =  133\n"
          ]
        }
      ]
    },
    {
      "cell_type": "markdown",
      "source": [
        "# Interpretación\n",
        "\n",
        "Se hizo una función que encuentra de una lista de números recibida el número menor y mayor.\n",
        "\n",
        "Se inicializa una lista de números.\n",
        "\n",
        "Se manda llamar la función y se muestra el número menor y mayor respectivamente.\n",
        "\n",
        "Por medio de otra función se calcula la media aritmética, la moda, la mediana y el valor de n de la lista de números.\n",
        "\n",
        "Al final se visualizan en pantalla.\n",
        "\n"
      ],
      "metadata": {
        "id": "ZHLTdMEe7CiV"
      }
    }
  ]
}