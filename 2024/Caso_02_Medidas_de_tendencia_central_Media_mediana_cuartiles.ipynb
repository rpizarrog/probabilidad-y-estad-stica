{
  "nbformat": 4,
  "nbformat_minor": 0,
  "metadata": {
    "colab": {
      "provenance": [],
      "authorship_tag": "ABX9TyMBdKW+A9Mog37qhcDFy2x/",
      "include_colab_link": true
    },
    "kernelspec": {
      "name": "python3",
      "display_name": "Python 3"
    },
    "language_info": {
      "name": "python"
    }
  },
  "cells": [
    {
      "cell_type": "markdown",
      "metadata": {
        "id": "view-in-github",
        "colab_type": "text"
      },
      "source": [
        "<a href=\"https://colab.research.google.com/github/rpizarrog/probabilidad-y-estad-stica/blob/master/2024/Caso_02_Medidas_de_tendencia_central_Media_mediana_cuartiles.ipynb\" target=\"_parent\"><img src=\"https://colab.research.google.com/assets/colab-badge.svg\" alt=\"Open In Colab\"/></a>"
      ]
    },
    {
      "cell_type": "markdown",
      "source": [
        "# Objetivo\n",
        "\n",
        "Calcular medidas de tendencia central de una muestra de datos"
      ],
      "metadata": {
        "id": "7LElHYYfkXuE"
      }
    },
    {
      "cell_type": "markdown",
      "source": [
        "# Descripción\n",
        "\n",
        "* Cargar funciones.\n",
        "* Cargar librerías.\n",
        "* Construir la muestra con un rango. específico y la cantidad de datos dinámicamente.\n",
        "* Calcular los estadísticos, cantidad de datos; mínimo y máximo; media artimética; mediana; cuartiles primero, segundo y tercer cuartil.\n",
        "* Representar el histograma visualmete reflejando los valores de la media, mediana y cuartiles.\n",
        "* Calcular el rango inetrcuartílico.\n",
        "* Representar un diagrama de caja.\n",
        "* Interpretar el caso.\n",
        "\n",
        "### Conceptos ...\n",
        "\n",
        "### Cantidad de datos\n",
        "\n",
        "Si se trata de una población la cantidad de datos se identifica con $N$ si se trata de una muestra la cantidad de datos se deonota por una $n$.\n",
        "\n",
        "### Media aritmética\n",
        "\n",
        "La media significa el promedio o la suma de todos los elementos divididos entre el total de la muestra, o lo que es lo mismo es un promedio de todos los elementos.\n",
        "\n",
        "La media proporciona una medida de localización central de los datos. Si los datos son datos de una muestra, la media se denota $\\bar{x}$\n",
        "; si los datos son de una población, la media se denota con la letra griega μ\n",
        ". [@anderson_estadistica_2008].\n",
        "\n",
        "$$\n",
        "\\bar{x}=\\sum_{i=1}^{n}= \\frac{x_i}{n}\n",
        "$$\n",
        "\n",
        "### Mediana\n",
        "\n",
        "Otra medida de localización importante es la mediana. El propósito de la mediana es reflejar la tendencia central de la muestra, de manera que no esté influida por los valores extremos. Dado que las observaciones en una muestra son $x1,x2,...,x_n$\n",
        ", acomodados en orden de magnitud creciente, es decir, ordenados ascendentemente, la mediana de los datos estará dada por alguna de las maneras dependiendo si el número de elementos es par o es impar:\n",
        "\n",
        "$$\n",
        "\\tilde{x} =\\begin{Bmatrix}x_{(n+1)/2}\\text{ Si n es impar,}\n",
        "\\\\ \\frac{1}{2}\\cdot(x_{n/2}+x_{n/2+1})\\text{ Si n es par,} \\end{Bmatrix}\n",
        "$$\n",
        "\n",
        "### La moda\n",
        "\n",
        "La moda es el valor que se presenta con mayor frecuencia. [@anderson_estadistica_2008]; Indica que la moda muestral es el valor que ocurre con mayor frecuencia en los datos y es el punto sobre el eje horizontal donde la curva de una distribución de datos tiene su punto máximo. [@walpole_probabilidad_2012].\n",
        "\n",
        "### Máximos y mínimos\n",
        "\n",
        "Los valores máximos y mínimos de un conjunto de dato son los valores de la lista de valores más pequeños y mas grande en la lista de los datos. Se puede observar los valores máximos y mínimos con los datos ordenados y verificar el primer y último elemento de la lista.\n",
        "\n",
        "### Rango\n",
        "\n",
        "El rango de un conjunto de datos es el intervalo que existe entre los valores, es decir desde el valor mínimo hasta el valor máximo.\n",
        "\n",
        "Con los valores de máximo y mínimo la diferencia que existe entre ellos determina el rango.\n",
        "\n",
        "### Cuartiles\n",
        "\n",
        "Los cuartiles son una herramienta que se usa en estadística y que sirve para administrar grupos de datos previamente ordenados.\n",
        "\n",
        "Los cuartiles son los tres valores de la variable que dividen a un conjunto de datos ordenados en cuatro partes iguales.\n",
        "\n",
        "* El cuartil 1 $(Q1)$ es el percentil $25$ $(P25)$. El $25$ % de los datos son menores o iguales a $Q1$.\n",
        "\n",
        "* El cuartil 2 $(Q2)$ es la mediana y el percentil $50$ $(P50)$. El $50$ % de los datos son menores o iguales a $Q2$.\n",
        "\n",
        "* El cuartil 3 $(Q3)$ es el percentil $75$ $(P75)$. El $75$ % de los datos son menores o iguales a $Q3$.\n",
        "\n",
        "#### Primer cuartil:\n",
        "\n",
        "* Opción 1:\n",
        "Si el número de datos es impar, Q1 será el valor que se encuentra en la posición $(n+1)/4$. Si el número de datos es par, calcular el promedio de los dos valores que se encuentran en las posiciones enteras de $(n/4)$ y $(n/4 + 1)$.\n",
        "\n",
        "Ejemplo lista de datos: $n=10$\n",
        "$$\n",
        "54, 68, 98, 42, 57, 21, 18, 59, 62, 28\n",
        "$$\n",
        "\n",
        "Ordenados:\n",
        "\n",
        "$$\n",
        "18, 21, 28, 42, 54, 57, 59, 62, 68, 98\n",
        "$$\n",
        "\n",
        "El valor del cuartil $Q1$ es:\n",
        "el promedio de los valores de las posiciones$(n/4)=2$ y $(n/4 + 1)=3$; las posiciones son 2 y 3; el valor promedio es $(21+28)/2 =24.5$\n",
        "\n",
        "$$\n",
        "18, 21, 28, 42, 54, 57, 59, 62, 68, 98\n",
        "$$\n",
        "\n",
        "$n/4 = 10/4 = 2.5$, las posiciones son 2 y 3; el valor promedio es $(21+28)/2 =24.5$\n",
        "\n",
        "* Opción 2:\n",
        "$$\n",
        "  \\frac{1}{4} \\cdot (n+1) = 0.25 \\cdot(11) = \\text{posición = 2.75}\n",
        "$$\n",
        "\n",
        "$$\n",
        "Q1 = 21 + (28−21) \\cdot (1 - 0.25) = 21 + 7\\cdot 0.75 = 26.25\n",
        "$$\n",
        "\n",
        "* Opción 3:\n",
        "$$\n",
        "  \\frac{1}{4} \\cdot (n+1) = 0.25 \\cdot(11) = \\text{posición = 2.75}\n",
        "$$\n",
        "\n",
        "Como la parte fraccionaria es $0.75$ está más cercano a la posición superior o sea 3:\n",
        "$$\n",
        "Q1 = 21 + (42−28) \\cdot (1 - 0.25) = 21 + 14\\cdot 0.75 = 31.5\n",
        "$$\n",
        "\n",
        "#### Segundo cuartil Q2:\n",
        "\n",
        "Es el valor que está al $50$% de los datos, ordenados, equivale al valor de la mediana. El segundo cuartil es el valor que divide el conjunto de datos en dos partes iguales. Si se tiene un número impar de datos, la mediana será el valor que se encuentra en la posición entera $(n+1)/2$. Si se tiene un número par de datos, se deberá calcular el promedio de los dos valores centrales de las posiciones enteras; $(n/2) + (n+1)/2$:\n",
        "\n",
        "$$\n",
        "18, 21, 28, 42, 54, 57, 59, 62, 68, 98\n",
        "$$\n",
        "\n",
        "\n",
        "El valor del cuartil $Q2$ es:\n",
        "el promedio de los valores de las posiciones$(n/2)=5$ y $(n/2 + 1)=6$; las posiciones son 5 y 6; el valor promedio es $(54+57)/2 =55.5$\n",
        "\n",
        "\n",
        "#### Tercer cuartil:\n",
        "\n",
        "* Opción 1:\n",
        " Si el número de datos es impar, $Q3$ será el valor que se encuentra en la posición $(3n+1)/4$. Si el número de datos es par, se deberá calcular el promedio de los dos valores que se encuentran en las posiciones $(3n/4)$ y $(3n/4 + 1)$.\n",
        "\n",
        "Ordenados:\n",
        "\n",
        "$$\n",
        "18, 21, 28, 42, 54, 57, 59, 62, 68, 98\n",
        "$$\n",
        "\n",
        "El valor del cuartil $Q3$ es:\n",
        "el promedio de los valores de las posiciones enteras $(3\\cdot 10/4)$ y $(3\\cdot10/4 + 1)$; las posiciones son 7 y 8; el valor promedio es $(59+62)/2 =60.5$\n",
        "\n",
        "* Opción 2:\n",
        "\n",
        "$$\n",
        "  \\frac{3}{4} \\cdot (n+1) = 0.75 \\cdot(11) = \\text{posición = 8.25}\n",
        "$$\n",
        "\n",
        "Como el valor de la parte fraccionaria es $0.25$ se toman las posiciones anteriores 7 y 8:\n",
        "\n",
        "$$\n",
        "59+(62−59)\\cdot (1 - 0.25) = 59 + 3\\cdot 0.75 =59+2.25=61.25\n",
        "$$\n",
        "\n",
        "* Opción 3:\n",
        "$$\n",
        "  \\frac{3}{4} \\cdot (n+1) = 0.25 \\cdot(11) = \\text{posición = 8.25}\n",
        "$$\n",
        "\n",
        "Si la parte fraccionaria es $0.75$ y/o mayor que $0.5$ está más cercano a la posición superior o sea la siguiente:\n",
        "$$\n",
        "59+(68−62)\\cdot (1 - 0.25) = 59 + 6\\cdot 0.75 =59+4.5=63.5\n",
        "$$\n",
        "\n",
        "Los valores son aproximados: ...\n",
        "\n",
        "\n",
        "Los valores aproximados de los cuartiles son:\n",
        "\n",
        "* Q1 = 24.5\n",
        "* Q2 = 55.5\n",
        "* Q3 = 61.25\n",
        "\n",
        "En *python* puede usarse la función percentile() de la librería numpy as np para calcular los cuantiles:\n",
        "* q1 = np.percentile(numeros, 25)\n",
        "* q2 = np.percentile(numeros, 50)\n",
        "* q3 = np.percentile(numeros, 75)\n",
        "\n",
        "### Rango intercuartílago (RI)\n",
        "\n",
        "Es la diferencia que está entre el valor del tercer cuartil (Q3) menos el primer cuartil (Q1). Es una medida de dispersión que describe la amplitud de los datos en torno a la mediana de un conjunto de datos.\n",
        "\n",
        "Además el RI sirve para calcular la existencia de datos o valores atípicos en la distribucuón de los datos.\n",
        "\n",
        "$$\n",
        "RI=Q3−Q1\n",
        "$$\n",
        "\n",
        "### Valores atípicos\n",
        "\n",
        "Son valores extremos o atípicos (outliers), son los valores que están por debajo de del primer cuartil menos 1.5 veces el rango intercuartílago (RI) o que están por encima del tercer cuartil más 1.5 veces el rango intercuartílago (RI).\n",
        "\n",
        "$$\n",
        "Q1−1.5⋅RI\n",
        "$$\n",
        "o\n",
        "\n",
        "$$\n",
        "Q3+1.5⋅RI\n",
        "$$\n"
      ],
      "metadata": {
        "id": "a5cYaWUnkb70"
      }
    },
    {
      "cell_type": "markdown",
      "source": [
        "# Desarrollo\n",
        "\n",
        "## Cargar librerías"
      ],
      "metadata": {
        "id": "5oU_4ftSkdVS"
      }
    },
    {
      "cell_type": "code",
      "source": [
        "import random as rnd # Para generar números aleatorios\n",
        "import numpy as np # Para estructuras de datos\n",
        "from collections import Counter as Counter\n",
        "import statistics as sta # paes estadisticos\n",
        "import matplotlib.pyplot as plt # para graficar\n",
        "\n",
        "rnd.seed(2024) # Semilla para valores aleatoriosimport random as rnd # Para generar números aleatorios\n",
        "import numpy as np # Para estructuras de datos\n",
        "from collections import Counter as Counter\n",
        "import statistics as sta # paes estadisticos\n",
        "import matplotlib.pyplot as plt # para graficar\n",
        "import seaborn as sns # para graficar\n",
        "\n",
        "rnd.seed(2024) # Semilla para valores aleatorios"
      ],
      "metadata": {
        "id": "eJFSSAMdkq9_"
      },
      "execution_count": 180,
      "outputs": []
    },
    {
      "cell_type": "markdown",
      "source": [
        "## Cargar funciones"
      ],
      "metadata": {
        "id": "gT2a2it4lop8"
      }
    },
    {
      "cell_type": "code",
      "source": [
        "# Función cuartiles manualmente\n",
        "def f_cuartiles_manualmente(datos):\n",
        "  datos_ordenados = np.sort(datos)\n",
        "  n = len(datos)\n",
        "  print (\"n = \", n)\n",
        "  # Manualmente\n",
        "  #print (\"Cálculo manual\")\n",
        "  # Primer cuartil\n",
        "  pos = 1/4  * (n+1)\n",
        "  parte_entera = int(pos)\n",
        "  parte_fraccional = pos - parte_entera\n",
        "\n",
        "  print(\"Parte entera:\", parte_entera)\n",
        "  print(\"Parte fraccional:\", parte_fraccional)\n",
        "\n",
        "  if parte_fraccional <= 0.5:\n",
        "     print (\"indices serán \", parte_entera, \" y \", parte_entera + 1)\n",
        "     q1 = datos_ordenados[parte_entera - 1] + ((datos_ordenados[parte_entera + 1 -1]  - datos_ordenados[parte_entera -1]) * 0.75)\n",
        "     #print (\"q1 = \", q1)\n",
        "  else:\n",
        "     #print (\"indices serán \", parte_entera + 1, \" y \", parte_entera + 2)\n",
        "\n",
        "     q1 = datos_ordenados[parte_entera - 1] + ((datos_ordenados[parte_entera + 1]  - datos_ordenados[parte_entera]) * 0.75)\n",
        "     #print (\"q1 = \", q1)\n",
        "\n",
        "  # Segundo cuartil\n",
        "  # Son nones o pares\n",
        "  if n % 2 == 0:\n",
        "    # print(numero, \"es un número par\")\n",
        "    q2 = (datos_ordenados[int(n/2) -1] + datos_ordenados[int(n/2) -1 + 1] )/ 2\n",
        "  else:\n",
        "    print ((n+1)/2 - 1)\n",
        "    q2 = datos_ordenados[int((n+1)/2 - 1)]\n",
        "\n",
        "\n",
        "  # Tercer cuartil pendiente ...\n",
        "  pos = 3/4  * (n+1)\n",
        "  parte_entera = int(pos)\n",
        "  parte_fraccional = pos - parte_entera\n",
        "\n",
        "  print (\"parte entera\", parte_entera)\n",
        "  print (\"parte fraccional\", parte_fraccional)\n",
        "\n",
        "  if parte_fraccional < 0.5:\n",
        "    #print (\"indices serán \", parte_entera-1, \" y \", parte_entera )\n",
        "    #print (datos_ordenados[parte_entera-2])\n",
        "    #print ( datos_ordenados[parte_entera-1]  - datos_ordenados[parte_entera - 2])\n",
        "    #print (datos_ordenados[parte_entera-2] + (datos_ordenados[parte_entera-1]  - datos_ordenados[parte_entera - 2]) * 0.75)\n",
        "    q3 = datos_ordenados[parte_entera-2] + ((datos_ordenados[parte_entera-1]  - datos_ordenados[parte_entera - 2]) * 0.75)\n",
        "    #print (\"q3 = \", q3)\n",
        "  else:\n",
        "    #print (\"indices serán \", parte_entera + 1, \" y \", parte_entera + 2)\n",
        "\n",
        "    q3 = datos_ordenados[parte_entera - 1] + ((datos_ordenados[parte_entera]  - datos_ordenados[parte_entera -1]) * 0.25)\n",
        "    # print (\"q3 = \", q3)\n",
        "\n",
        "  return q1, q2, q3\n",
        "\n",
        "def f_cuartiles_quantile(datos):\n",
        "  q1 = np.percentile(datos, 25)\n",
        "  q2 = np.percentile(datos, 50)\n",
        "  q3 = np.percentile(datos, 75)\n",
        "  return q1, q2, q3\n",
        "\n",
        "def f_menor_mayor(numeros):\n",
        "  # Encontrar el número mayor y el número menor y mayor\n",
        "  mayor = np.max(numeros)\n",
        "  menor = np.min(numeros)\n",
        "  return menor, mayor\n",
        "\n",
        "def f_media_moda_mediana_n(numeros):\n",
        "  # Calcular la media aritmética\n",
        "  media = sum(numeros) / len(numeros)\n",
        "\n",
        "  # Calcular la moda\n",
        "  contador = Counter(numeros)\n",
        "  moda = contador.most_common(1)[0][0]\n",
        "\n",
        "  # Calcular la mediana\n",
        "  mediana = sta.median(numeros)\n",
        "\n",
        "  # ¿Cuántos números son?\n",
        "  n = len(numeros)\n",
        "  return media, moda, mediana, n\n",
        "\n",
        "def f_histograma(datos, contexto):\n",
        "  plt.hist(datos, bins=range(min, max, 5), edgecolor=\"black\")\n",
        "  plt.xlabel(contexto)\n",
        "\n",
        "  # Agregar líneas punteadas roja, azul y verde para representar media, mediana y moda\n",
        "  media, moda, mediana, N = f_media_moda_mediana_n(datos)\n",
        "  plt.axvline(x=media, color='red', linestyle='--', linewidth=2, label=f'Media: {media:.2f}')\n",
        "  plt.axvline(x=mediana, color='blue', linestyle='--', linewidth=2, label=f'Mediana: {mediana:.2f}')\n",
        "  plt.axvline(x=moda, color='yellow', linestyle='--', linewidth=2, label=f'Moda: {moda:.2f}')\n",
        "\n",
        "  plt.ylabel(\"Frecuencia\")\n",
        "  plt.title(\"Distribución de los datos: \"+contexto)\n",
        "\n",
        "  plt.legend()\n",
        "  plt.grid(False)\n",
        "  plt.show()\n",
        "\n",
        "def f_diagrama_caja (datos, contexto):\n",
        "  plt.boxplot(numeros, vert=False)\n",
        "  plt.xlabel(contexto)\n",
        "  plt.ylabel('Valor')\n",
        "  plt.title('Diagrama de Caja')\n",
        "\n",
        "  # Calculando cuartiles d ela funci´pn previamente creada\n",
        "  q1, q2, q3= f_cuartiles_quantile(numeros)\n",
        "  # Añadir leyendas para los cuartiles\n",
        "  plt.axvline(x=q1, color='blue', linestyle='--', linewidth=1, label=f'Q1: {q1:.2f}')\n",
        "  plt.axvline(x=q2, color='blue', linestyle='--', linewidth=1, label=f'Q2:Mediana: {q2:.2f}')\n",
        "  plt.axvline(x=q3, color='blue', linestyle='--', linewidth=1, label=f'Q3: {q3:.2f}')\n",
        "\n",
        "  # Añadir leyenda adicional\n",
        "  plt.legend()\n",
        "\n",
        "  plt.show()\n",
        ""
      ],
      "metadata": {
        "id": "pCtE-KZLkvOF"
      },
      "execution_count": 181,
      "outputs": []
    },
    {
      "cell_type": "markdown",
      "source": [
        "## Generando números\n"
      ],
      "metadata": {
        "id": "L5nc41NBk-fE"
      }
    },
    {
      "cell_type": "code",
      "source": [
        "# Generar una lista de N = 650 números aleatorios en el rango de 70 a 100\n",
        "min = 70\n",
        "max = 100\n",
        "N = 650\n",
        "numeros = [rnd.randint(min, max) for _ in range(N)]\n",
        "print(numeros)\n",
        "\n",
        "# Provocando datos atípicos\n",
        "numeros.extend([50, 30, 110, 120])\n",
        "\n",
        "numeros_ordenados = np.sort(numeros)\n",
        "print (\"Números ordenados\")\n",
        "print (numeros_ordenados)"
      ],
      "metadata": {
        "colab": {
          "base_uri": "https://localhost:8080/"
        },
        "id": "TgWbXa8AlBAn",
        "outputId": "6b1e7cd8-eff2-46d9-d7e8-822e65c4fb4f"
      },
      "execution_count": 182,
      "outputs": [
        {
          "output_type": "stream",
          "name": "stdout",
          "text": [
            "[85, 75, 93, 88, 79, 76, 98, 93, 83, 94, 92, 94, 78, 87, 77, 90, 96, 93, 85, 81, 83, 86, 93, 89, 100, 76, 79, 87, 92, 80, 86, 72, 93, 94, 97, 76, 92, 94, 93, 84, 99, 92, 96, 97, 90, 74, 87, 76, 97, 83, 71, 94, 81, 90, 83, 84, 73, 93, 93, 74, 94, 80, 82, 80, 81, 95, 76, 80, 83, 83, 80, 88, 76, 98, 97, 83, 77, 76, 71, 93, 77, 94, 70, 97, 78, 97, 86, 80, 94, 100, 88, 95, 92, 83, 89, 73, 80, 97, 90, 89, 94, 77, 77, 84, 81, 74, 76, 81, 85, 89, 96, 90, 74, 78, 82, 89, 80, 80, 100, 92, 92, 84, 97, 75, 91, 92, 94, 97, 74, 80, 99, 76, 88, 91, 72, 73, 100, 96, 75, 70, 98, 74, 84, 92, 77, 81, 77, 72, 76, 95, 79, 77, 92, 84, 89, 78, 85, 86, 98, 83, 91, 83, 76, 96, 72, 79, 79, 78, 74, 88, 91, 93, 78, 86, 73, 85, 76, 98, 76, 95, 82, 75, 86, 97, 77, 80, 81, 94, 92, 98, 95, 71, 88, 98, 99, 91, 87, 82, 99, 93, 93, 100, 90, 72, 73, 77, 71, 86, 74, 100, 96, 76, 99, 90, 89, 99, 72, 100, 86, 75, 77, 85, 88, 95, 93, 75, 75, 72, 74, 89, 73, 95, 100, 89, 87, 95, 89, 90, 70, 89, 73, 87, 75, 87, 92, 80, 70, 73, 78, 70, 75, 71, 73, 90, 97, 89, 91, 89, 93, 76, 88, 76, 90, 76, 84, 75, 85, 80, 78, 93, 84, 90, 84, 96, 92, 95, 96, 76, 82, 88, 97, 84, 97, 83, 89, 92, 74, 98, 76, 75, 79, 82, 76, 94, 75, 81, 84, 91, 70, 73, 80, 91, 70, 94, 77, 94, 86, 83, 91, 71, 76, 89, 84, 87, 85, 87, 95, 71, 83, 80, 70, 86, 80, 87, 98, 100, 98, 78, 91, 93, 75, 77, 89, 73, 96, 95, 97, 83, 72, 100, 98, 74, 75, 70, 97, 80, 79, 100, 99, 78, 85, 75, 81, 96, 84, 99, 83, 100, 85, 89, 80, 75, 71, 94, 73, 73, 81, 83, 90, 100, 75, 86, 92, 73, 71, 91, 83, 98, 70, 95, 99, 98, 100, 78, 77, 73, 80, 87, 97, 88, 74, 76, 88, 88, 73, 83, 73, 100, 89, 92, 92, 78, 83, 87, 75, 94, 77, 100, 70, 86, 73, 76, 82, 87, 88, 83, 84, 88, 95, 75, 96, 90, 99, 77, 87, 99, 94, 79, 98, 96, 78, 88, 81, 84, 90, 73, 82, 82, 94, 79, 80, 86, 86, 77, 77, 96, 94, 95, 81, 77, 83, 95, 84, 88, 79, 79, 100, 91, 91, 99, 76, 84, 90, 87, 71, 78, 82, 96, 90, 76, 78, 83, 86, 74, 90, 80, 79, 92, 87, 95, 100, 74, 94, 72, 86, 77, 84, 89, 78, 79, 77, 90, 86, 82, 93, 79, 100, 75, 100, 98, 99, 100, 85, 95, 81, 100, 70, 89, 90, 82, 92, 72, 94, 93, 98, 74, 73, 83, 89, 80, 76, 94, 100, 100, 72, 94, 88, 78, 71, 95, 90, 94, 78, 91, 97, 86, 76, 100, 97, 95, 83, 75, 76, 92, 85, 96, 78, 72, 84, 73, 73, 88, 78, 74, 93, 82, 95, 88, 96, 90, 73, 77, 94, 88, 77, 75, 79, 90, 98, 74, 96, 92, 99, 95, 82, 91, 73, 74, 80, 83, 80, 90, 92, 80, 87, 96, 94, 77, 70, 89, 78, 82, 74, 88, 78, 75, 86, 95, 98, 78, 76, 98, 98, 87, 74, 92, 83, 93, 87, 76, 74, 96, 74, 91, 92, 77, 78, 70, 90, 89, 91, 73, 83, 86, 83, 71, 85, 74, 78, 92, 81, 84, 81, 79, 85, 98, 91, 88, 84, 99, 87, 90, 71, 91, 99, 79, 75, 82, 90, 98]\n",
            "Números ordenados\n",
            "[ 30  50  70  70  70  70  70  70  70  70  70  70  70  70  70  70  71  71\n",
            "  71  71  71  71  71  71  71  71  71  71  71  72  72  72  72  72  72  72\n",
            "  72  72  72  72  72  73  73  73  73  73  73  73  73  73  73  73  73  73\n",
            "  73  73  73  73  73  73  73  73  73  73  73  73  74  74  74  74  74  74\n",
            "  74  74  74  74  74  74  74  74  74  74  74  74  74  74  74  74  74  75\n",
            "  75  75  75  75  75  75  75  75  75  75  75  75  75  75  75  75  75  75\n",
            "  75  75  75  75  75  76  76  76  76  76  76  76  76  76  76  76  76  76\n",
            "  76  76  76  76  76  76  76  76  76  76  76  76  76  76  76  76  76  77\n",
            "  77  77  77  77  77  77  77  77  77  77  77  77  77  77  77  77  77  77\n",
            "  77  77  77  77  77  77  78  78  78  78  78  78  78  78  78  78  78  78\n",
            "  78  78  78  78  78  78  78  78  78  78  78  78  78  79  79  79  79  79\n",
            "  79  79  79  79  79  79  79  79  79  79  79  79  80  80  80  80  80  80\n",
            "  80  80  80  80  80  80  80  80  80  80  80  80  80  80  80  80  80  80\n",
            "  80  81  81  81  81  81  81  81  81  81  81  81  81  81  81  81  82  82\n",
            "  82  82  82  82  82  82  82  82  82  82  82  82  82  82  83  83  83  83\n",
            "  83  83  83  83  83  83  83  83  83  83  83  83  83  83  83  83  83  83\n",
            "  83  83  83  83  83  83  84  84  84  84  84  84  84  84  84  84  84  84\n",
            "  84  84  84  84  84  84  84  84  84  85  85  85  85  85  85  85  85  85\n",
            "  85  85  85  85  85  86  86  86  86  86  86  86  86  86  86  86  86  86\n",
            "  86  86  86  86  86  86  86  87  87  87  87  87  87  87  87  87  87  87\n",
            "  87  87  87  87  87  87  87  87  87  88  88  88  88  88  88  88  88  88\n",
            "  88  88  88  88  88  88  88  88  88  88  88  88  88  89  89  89  89  89\n",
            "  89  89  89  89  89  89  89  89  89  89  89  89  89  89  89  89  89  89\n",
            "  90  90  90  90  90  90  90  90  90  90  90  90  90  90  90  90  90  90\n",
            "  90  90  90  90  90  90  90  90  91  91  91  91  91  91  91  91  91  91\n",
            "  91  91  91  91  91  91  91  91  91  92  92  92  92  92  92  92  92  92\n",
            "  92  92  92  92  92  92  92  92  92  92  92  92  92  92  92  92  93  93\n",
            "  93  93  93  93  93  93  93  93  93  93  93  93  93  93  93  93  93  93\n",
            "  94  94  94  94  94  94  94  94  94  94  94  94  94  94  94  94  94  94\n",
            "  94  94  94  94  94  94  94  94  95  95  95  95  95  95  95  95  95  95\n",
            "  95  95  95  95  95  95  95  95  95  95  95  95  96  96  96  96  96  96\n",
            "  96  96  96  96  96  96  96  96  96  96  96  96  96  97  97  97  97  97\n",
            "  97  97  97  97  97  97  97  97  97  97  97  97  97  98  98  98  98  98\n",
            "  98  98  98  98  98  98  98  98  98  98  98  98  98  98  98  98  98  99\n",
            "  99  99  99  99  99  99  99  99  99  99  99  99  99  99  99 100 100 100\n",
            " 100 100 100 100 100 100 100 100 100 100 100 100 100 100 100 100 100 100\n",
            " 100 100 100 100 110 120]\n"
          ]
        }
      ]
    },
    {
      "cell_type": "markdown",
      "source": [
        "## Histograma de números\n",
        "\n"
      ],
      "metadata": {
        "id": "Ei44F5LxlzY0"
      }
    },
    {
      "cell_type": "code",
      "source": [
        "f_histograma(numeros, \"Promedio escolar\")"
      ],
      "metadata": {
        "colab": {
          "base_uri": "https://localhost:8080/",
          "height": 472
        },
        "id": "5d2oHKzgl1n-",
        "outputId": "26fe41f4-46d5-4e9e-9874-7cf458d7bf86"
      },
      "execution_count": 183,
      "outputs": [
        {
          "output_type": "display_data",
          "data": {
            "text/plain": [
              "<Figure size 640x480 with 1 Axes>"
            ],
            "image/png": "[encoded data removed]"
          },
          "metadata": {}
        }
      ]
    },
    {
      "cell_type": "markdown",
      "source": [
        "## Histograma con densidad\n"
      ],
      "metadata": {
        "id": "-Ia_E0GYmXnO"
      }
    },
    {
      "cell_type": "code",
      "source": [
        "sns.histplot(x = numeros, bins=range(70, 101, 5), kde = True, kde_kws = {'bw_adjust': 0.5})"
      ],
      "metadata": {
        "colab": {
          "base_uri": "https://localhost:8080/",
          "height": 447
        },
        "id": "m346Q_sImZjm",
        "outputId": "3e5ac4d5-b922-4732-b5ad-3e274ab67bd5"
      },
      "execution_count": 184,
      "outputs": [
        {
          "output_type": "execute_result",
          "data": {
            "text/plain": [
              "<Axes: ylabel='Count'>"
            ]
          },
          "metadata": {},
          "execution_count": 184
        },
        {
          "output_type": "display_data",
          "data": {
            "text/plain": [
              "<Figure size 640x480 with 1 Axes>"
            ],
            "image/png": "[encoded data removed]"
          },
          "metadata": {}
        }
      ]
    },
    {
      "cell_type": "markdown",
      "source": [
        "## Calculando cuartiles\n"
      ],
      "metadata": {
        "id": "Dbafh89MnXWp"
      }
    },
    {
      "cell_type": "code",
      "source": [
        "q1, q2, q3= f_cuartiles_quantile(numeros)\n",
        "print (\"Q1: \", q1)\n",
        "print (\"Q2: \", q2)\n",
        "print (\"Mediana:\", np.median(numeros))\n",
        "print (\"Q3: \", q3)"
      ],
      "metadata": {
        "colab": {
          "base_uri": "https://localhost:8080/"
        },
        "id": "BXoY_qPanZAl",
        "outputId": "1a8c3ad7-518c-4de4-e93d-2540748d4fc5"
      },
      "execution_count": 185,
      "outputs": [
        {
          "output_type": "stream",
          "name": "stdout",
          "text": [
            "Q1:  77.0\n",
            "Q2:  85.0\n",
            "Mediana: 85.0\n",
            "Q3:  93.0\n"
          ]
        }
      ]
    },
    {
      "cell_type": "markdown",
      "source": [
        "## Diagrama de caja\n",
        "\n",
        "El diagrama de caja identifica los cuartiles de los datos y la existencia de datos atípicos.\n",
        "\n",
        "\n"
      ],
      "metadata": {
        "id": "mNjKwDMkl772"
      }
    },
    {
      "cell_type": "code",
      "source": [
        "f_diagrama_caja (numeros, \"Promedio calificaciones\")"
      ],
      "metadata": {
        "colab": {
          "base_uri": "https://localhost:8080/",
          "height": 472
        },
        "id": "GabEOv6iofE0",
        "outputId": "fd369a96-bccd-4664-c732-8b8d0243b1f5"
      },
      "execution_count": 186,
      "outputs": [
        {
          "output_type": "display_data",
          "data": {
            "text/plain": [
              "<Figure size 640x480 with 1 Axes>"
            ],
            "image/png": "[encoded data removed]"
          },
          "metadata": {}
        }
      ]
    },
    {
      "cell_type": "markdown",
      "source": [
        "## Rango intercuartílago\n",
        "\n"
      ],
      "metadata": {
        "id": "PhSf_E5PtWtl"
      }
    },
    {
      "cell_type": "code",
      "source": [
        "RI = q3 - q1\n",
        "print (\"El rango intercuarílago es: \", RI)"
      ],
      "metadata": {
        "colab": {
          "base_uri": "https://localhost:8080/"
        },
        "id": "BwLzt8LDtab1",
        "outputId": "1e7a52ad-cdff-4773-9e50-3df8115efc76"
      },
      "execution_count": 187,
      "outputs": [
        {
          "output_type": "stream",
          "name": "stdout",
          "text": [
            "El rango intercuarílago es:  16.0\n"
          ]
        }
      ]
    },
    {
      "cell_type": "markdown",
      "source": [
        "# Interpretación\n",
        "\n",
        "Pendiente ...\n",
        "\n",
        "* ¿Cuál es el contexto de los datos?\n",
        "* ¿Cuáles fueron los estadístios significativos de los números: media artimética, mediana, moda, mínimo, máximo, valor de n?\n",
        "* ¿Que significa el histograma?\n",
        "* ¿Qué son los cuartiles?\n",
        "* ¿Como se puede visualziar los cuartiles?, con un diagrama de caja y ¿que representa?\n",
        "* ¿Qué son datos atípicos (*outliers*)?\n",
        "* ¿En la simulación de números cuáles valores son atípicos?\n",
        "* ¿estos valores atípicos serían errores errores?, si, no , posiblemente, describa.\n",
        "* ¿Qué les deja el caso?\n",
        "\n"
      ],
      "metadata": {
        "id": "r_2EaSbGkeoG"
      }
    },
    {
      "cell_type": "markdown",
      "source": [
        "# Bibliografía\n",
        "* Anderson, David R., Dennis J. Sweeney, and Thomas A. Williams. 2008. Estadística Para Administración y Economía. 10th ed. Australia • Brasil • Corea • España • Estados Unidos • Japón • México • Reino Unido • Singapur: Cengage Learning,.\n",
        "\n",
        "* Mendenhall, William, Robert J. Beaver, and Barbara M. Beaver. 2010. Introducción a La Probabilidad y Estadística. 13th ed. Cengage Learning Editores, S.A. de C.V.,.\n",
        "\n",
        "* Walpole, Ronald E., Raymond H. Myers, and Sharon L. Myers. 2012. Probabilidad y Estadística Para Ingeniería y Ciencias. Novena Edición. México: Pearson."
      ],
      "metadata": {
        "id": "cIX67b-4fZT-"
      }
    }
  ]
}