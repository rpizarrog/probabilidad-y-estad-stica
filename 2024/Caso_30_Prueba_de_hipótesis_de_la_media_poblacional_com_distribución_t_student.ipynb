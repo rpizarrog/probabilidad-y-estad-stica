{
  "nbformat": 4,
  "nbformat_minor": 0,
  "metadata": {
    "colab": {
      "provenance": [],
      "authorship_tag": "ABX9TyPfXGxY7loY1YO5d50oMpw8",
      "include_colab_link": true
    },
    "kernelspec": {
      "name": "python3",
      "display_name": "Python 3"
    },
    "language_info": {
      "name": "python"
    }
  },
  "cells": [
    {
      "cell_type": "markdown",
      "metadata": {
        "id": "view-in-github",
        "colab_type": "text"
      },
      "source": [
        "<a href=\"https://colab.research.google.com/github/rpizarrog/probabilidad-y-estad-stica/blob/master/2024/Caso_30_Prueba_de_hip%C3%B3tesis_de_la_media_poblacional_com_distribuci%C3%B3n_t_student.ipynb\" target=\"_parent\"><img src=\"https://colab.research.google.com/assets/colab-badge.svg\" alt=\"Open In Colab\"/></a>"
      ]
    },
    {
      "cell_type": "markdown",
      "source": [
        "# Objetivo\n",
        "\n",
        "Realizar prueba de hipóteis de la media pobacional usando la distribución *t student*.\n",
        "\n"
      ],
      "metadata": {
        "id": "MgRYNv5IGhKY"
      }
    }
  ]
}