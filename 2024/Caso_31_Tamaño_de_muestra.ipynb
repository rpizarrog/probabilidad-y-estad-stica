{
  "nbformat": 4,
  "nbformat_minor": 0,
  "metadata": {
    "colab": {
      "provenance": [],
      "authorship_tag": "ABX9TyMEB7NhTARePFcgTqmRAzru",
      "include_colab_link": true
    },
    "kernelspec": {
      "name": "python3",
      "display_name": "Python 3"
    },
    "language_info": {
      "name": "python"
    }
  },
  "cells": [
    {
      "cell_type": "markdown",
      "metadata": {
        "id": "view-in-github",
        "colab_type": "text"
      },
      "source": [
        "<a href=\"https://colab.research.google.com/github/rpizarrog/probabilidad-y-estad-stica/blob/master/2024/Caso_31_Tama%C3%B1o_de_muestra.ipynb\" target=\"_parent\"><img src=\"https://colab.research.google.com/assets/colab-badge.svg\" alt=\"Open In Colab\"/></a>"
      ]
    },
    {
      "cell_type": "markdown",
      "source": [
        "# Objetivo\n",
        "\n",
        "Simular y calcular tamaños de muestra.\n",
        "\n",
        "\n"
      ],
      "metadata": {
        "id": "hlDMkJF5VPDg"
      }
    },
    {
      "cell_type": "markdown",
      "source": [
        "# Descripción\n",
        "\n",
        "Con un conjunto de datos extraídos de la lliteratura, se utilizan mecanismos de programación para determinar muestreos mediante técnicas de muestreo aleatorio simple, aleatorio sistemático, aleatorio estratificado y por conglomerados.\n",
        "\n",
        "* Se cargan librerias\n",
        "* Se cargan funciones específicas\n",
        "* Se cargan datos\n",
        "* Se determina el tamaño de la muestra\n",
        "* Se interpreta el tamaño de muestra y el caso al final del mismo\n",
        "\n"
      ],
      "metadata": {
        "id": "Dom12WfnVU8d"
      }
    },
    {
      "cell_type": "markdown",
      "source": [
        "## Cargar librerías\n",
        "\n"
      ],
      "metadata": {
        "id": "gXuFmQ12wYGL"
      }
    },
    {
      "cell_type": "code",
      "source": [
        "import numpy as np\n",
        "from scipy.stats import norm"
      ],
      "metadata": {
        "id": "5Mh3F1KmwZ2o"
      },
      "execution_count": null,
      "outputs": []
    },
    {
      "cell_type": "markdown",
      "source": [
        "## Cargar funciones\n"
      ],
      "metadata": {
        "id": "FKZqvcyOwaPR"
      }
    },
    {
      "cell_type": "markdown",
      "source": [
        "# Fundamento teórico\n",
        "\n",
        "Una rama avanza de la estadística es la estadística inferencial, el propósito de la estadística inferencial consiste en determinar y conocer el comportamiento sobre una población a partir del estudio de una muestra.\n",
        "\n",
        "El propósito de la estadística inferencial consiste en determinar y conocer el comportamiento sobre una población a partir de una muestra.\n",
        "\n",
        "Una muestra es una porción, una proporción o parte de la población de interés. En muchos casos, el muestreo resulta más accesible y sencillo que el estudio de toda la población. (Lind, Marchal, and Wathen 2015).\n",
        "\n",
        "Por otra parte la importancia del muestreo como lo menciona (Anderson, Sweeney, and Williams 2008) es cuestión de minimizar costo de trabajo, recopilar información de una muestra es sustancialmente menor, que hacerlo de una población completa; especialmente cuando se deben realizar entrevistas personales para recopilar la información.\n",
        "\n",
        "Finamente, los métodos de muestreo aleatorio y sin sesgos son muy importantes para realizar inferencias estadísticas válidas (Lind, Marchal, and Wathen 2015).\n",
        "\n",
        "\n"
      ],
      "metadata": {
        "id": "nLiqXmX6V0XF"
      }
    },
    {
      "cell_type": "code",
      "source": [
        "# Esta función devuelve el tamaño de muestra usando fórmula con valor de E\n",
        "# tamaño del margen de error planificado\n",
        "def f_tamanio_muestra_con_E(confianza, desv_std_poblacion, E):\n",
        "    # Calcular el valor crítico z\n",
        "    z = abs(norm.ppf((1 - confianza) / 2))\n",
        "    n = (z**2 * desv_std_poblacion**2) / (E**2)\n",
        "    print (\"Con un margen de Error esperado de \", E,)\n",
        "    print (\"a un nivel de confianza del \", confianza*100, \"%\", \"; z=\", np.round(z,6))\n",
        "    print (\"y con desviación estándar de población de \", desv_std_poblacion)\n",
        "    return n\n",
        "\n",
        "# Función que devuele el tamaño de muestra usando la proporción y el valor de E planificado\n",
        "def f_tamanio_muestra_pqE(confianza, p, E):\n",
        "    # Calcular el valor crítico z\n",
        "    z = abs(norm.ppf((1 - confianza) / 2))\n",
        "    n = (z**2 * p * (1-p)) / (E**2)\n",
        "    print (\"Con un margen de Error esperado de \", E,)\n",
        "    print (\"a un nivel de confianza del \", confianza*100, \"%\", \"; z=\", np.round(z,6))\n",
        "    print (\"y un aproporción de p= \", p)\n",
        "    return n\n",
        "\n",
        "# Fnción que calcula el tamaño de una muestra cnociendo el nivel de confianza,\n",
        "# el tamaño de la Población el valor de la proporción p y el valor de Error E.\n",
        "def f_tamanio_muestra_NpE(confianza, N, p, E):\n",
        "    q = 1 - p\n",
        "    # Calcular el valor crítico z\n",
        "    z = abs(norm.ppf((1 - confianza) / 2))\n",
        "    n = (z**2 * N * p * q) / ((E**2 * (N-1)) + (z**2 * p*q))\n",
        "    print (\"Con un margen de Error esperado de \", E,)\n",
        "    print (\"a un nivel de confianza del \", confianza*100, \"%\", \"; z=\", np.round(z,6))\n",
        "    print (\"y una proporción de p= \", p)\n",
        "    print (\"con tamaño de población N=\", N)\n",
        "    return n"
      ],
      "metadata": {
        "id": "EldS086Kwb0I"
      },
      "execution_count": null,
      "outputs": []
    },
    {
      "cell_type": "markdown",
      "source": [
        "## Tamaño de la muestra\n",
        "\n",
        "En la práctica, será conveniente saber qué tan grande necesita ser el tamaño de la muestra para que esta sea representativa de la población. Todo depende de las condiciones de la población y de los análisis que el analista realice acerca de la población.\n",
        "\n",
        "De acuerdo (Hernández, Fernández, & Pilar, 2010) cuando se hace una muestra probabilística, se debe cuestionar lo siguiente: dado que una población es de $N$ tamaño ¿cuál es el menor número de observaciones muestrales (personas, organizaciones, registros, elementos, datos, entre otros) que se requiere para conformar una muestra $n$; la respuesta está en asegurar que la muestra sea representativa, que minimice el error y que tenga un cierto nivel de confianza.\n",
        "\n",
        "Por otra parte (Sucasaire, 2020), menciona que no existe una fórmula general que se utilice para determinar el tamaño de la muestra. El tamaño de la muestra depende de factores tales como la variabilidad de la población; mientras más homogénea sea la población, menor será el tamaño de muestra.\n",
        "\n",
        "Algunas veces, si la variable de interés es numérica y tiene comportamiento de ser una distribución normal, tal vez con muestras de $30$ elementos sea suficiente, sin embargo, en distribuciones sesgadas tal vez el número recomendable sea alrededor de 50. (Anderson, Sweeney, & Williams, 2008).\n",
        "\n",
        "### Fórmula para tamaño de muestra con valor $E$ estimado de margen de error\n",
        "\n",
        "$$\n",
        "n=\\frac{(z^2\\cdot σ^2)}{E^2 }\n",
        "$$\n",
        "\n",
        "De donde:\n",
        "* $n$ ese el tamaño de la muestra\n",
        "* $z$ es el valor que depende del coeficiente de confianza en una distribución normal estándar a dos colas en valor absoluto.\n",
        "* $σ$ la desviación estándar de la población de la variable de interés y $\\sigma^2$ es la varianza.\n",
        "* $E$ un margen de error planificado y deseado que proviene de la fórmula siguiente:\n",
        "\n",
        "$$\n",
        "E=z \\cdot \\frac{σ}{√N}\n",
        "$$\n",
        "\n",
        "* $N$ es es el tamaño de la población.\n",
        "\n",
        "Por ejemplo para una pobación que tiene $N=6500$ obervaciones ¿cuál será el tamaño de la muestra a un $95$% de confianza ($z=|1.9596|$), si se tiene una desviación estándar de población de la variable de interés de $\\sigma= 5$ y un error planificado de $E=2$.\n",
        "\n",
        "Identificamos $E$ el margen de error planificado:\n",
        "\n",
        "$$\n",
        "E=2\n",
        "$$\n",
        "\n",
        "Se sustituye en la fórmula:\n",
        "\n",
        "$$\n",
        "n=\\frac{(z^2\\cdot σ^2)}{E^2 } \\\\\n",
        "n=\\frac{(1.9596^2\\cdot 5^2)}{2^2 } \\\\\n",
        "n=\\frac{96.000804}{4 } \\\\\n",
        "n= 24.0002 ≈ 24 \\text{  tamaño de la muestra}\n",
        "$$\n",
        "\n"
      ],
      "metadata": {
        "id": "0C5QFn1xdB4-"
      }
    },
    {
      "cell_type": "markdown",
      "source": [
        "### Tamaño de muestra con valor $E$ estimado de margen de error\n",
        "\n",
        "Se utiliza la fórmula siguiente:\n",
        "\n",
        "$$\n",
        "n=\\frac{(z^2\\cdot σ^2)}{E^2 }\n",
        "$$\n",
        "\n",
        "De donde:\n",
        "* $n$ ese el tamaño de la muestra\n",
        "* $z$ es el valor que depende del coeficiente de confianza en una distribución normal estándar a dos colas en valor absoluto.\n",
        "* $σ$ la desviación estándar de la población de la variable de interés y $\\sigma^2$ es la varianza.\n",
        "* $E$ un margen de error planificado y deseado que proviene de la fórmula siguiente:\n",
        "\n",
        "$$\n",
        "E=z \\cdot \\frac{σ}{√N}\n",
        "$$\n",
        "\n",
        "* $N$ es es el tamaño de la población.\n",
        "\n",
        "Por ejemplo para una pobación que tiene $N=6500$ obervaciones ¿cuál será el tamaño de la muestra a un $95$% de confianza ($z=|1.9596|$), si se tiene una desviación estándar de población de la variable de interés de $\\sigma= 5$ y un error planificado de $E=2$.\n",
        "\n",
        "Identificamos $E$ el margen de error planificado:\n",
        "\n",
        "$$\n",
        "E=2\n",
        "$$\n",
        "\n",
        "Se sustituye en la fórmula:\n",
        "\n",
        "$$\n",
        "n=\\frac{(z^2\\cdot σ^2)}{E^2 } \\\\\n",
        "n=\\frac{(1.9596^2\\cdot 5^2)}{2^2 } \\\\\n",
        "n=\\frac{96.000804}{4 } \\\\\n",
        "n= 24.0002 ≈ 25 \\text{  tamaño de la muestra}\n",
        "$$\n",
        "\n",
        "Mandando llamar la función previamente codificada *f_tamanio_muestra_con_E()* se estima el tamaño de la muestra."
      ],
      "metadata": {
        "id": "dMxEAgpWxDut"
      }
    },
    {
      "cell_type": "code",
      "source": [
        "confianza = 95/100\n",
        "desv_std_poblacion = 5\n",
        "E = 2\n",
        "n = np.ceil(f_tamanio_muestra_con_E(confianza, desv_std_poblacion, E))\n",
        "\n",
        "print (\"El tamaño de la muestra n, redondeado al valor entero mayor es:  \", n)\n"
      ],
      "metadata": {
        "colab": {
          "base_uri": "https://localhost:8080/"
        },
        "id": "43Hcri74ithQ",
        "outputId": "cb1746cc-9655-4e98-8776-d7676b414b4e"
      },
      "execution_count": null,
      "outputs": [
        {
          "output_type": "stream",
          "name": "stdout",
          "text": [
            "Con un margen de Error esperado de  2\n",
            "a un nivel de confianza del  95.0 % ; z= 1.959964\n",
            "y con desviación estándar de población de  5\n",
            "El tamaño de la muestra n, redondeado al valor entero mayor es:   25.0\n"
          ]
        }
      ]
    },
    {
      "cell_type": "markdown",
      "source": [
        "### Tamaño de muestra con una proporción $p$ y valor de $E$ estimado de margen de error\n",
        "\n",
        "Para deducir un tamaño de muestra además del coeficiente de confianza, la desviación estándar de la población σ, el margen de error E, también se puede incluir el estadístico de la proporción $p$.\n",
        "\n",
        "El estadístico $p$ representa la proporción que representa la variable de interés con respecto al total de observaciones estudiadas.\n",
        "\n",
        "Para ejemplificar una proporción hay que determinar la frecuencia de una situación con respecto a la cantidad de observaciones estudiadas en valores relativos o porcentuales.\n",
        "\n",
        "$$\n",
        "f =\\text{cantidad de casos exitosos}\n",
        "$$\n",
        "\n",
        "Y la proporción sería:\n",
        "$$\n",
        "p=f/n*100 \\text{ \"en valores relativos\"} \\\\\n",
        "p=f/n*100 \\text{ \"en valores porcentuales %\"}\n",
        "$$\n",
        "\n",
        "Ejemplo, se simula de una pregunta simple de estudio que se hace a las personas ¿están de acuerdo con un proyecto político en particular?, puede haber dos respuestas, SI o NO; la respuesta SI significa si está de acuerdo o caso exitoso y el NO significa no estar de acuerdo o no exitoso.\n",
        "\n",
        "Si se toma el valor de que las personas si están de acuerdo con eso se puede etiquetar que tanta proporción de la cantidad encuestada está de acuerdo.\n",
        "\n",
        "Se simula para este ejemplo que se encuestaron a $N=650$ personas de las cuales $f=375$ dijeron que, SI están de acuerdo con el proyecto, entonces la $frecuencia=375$, proporcionalmente significa ($\\text{casos exitosos SI})⁄N = 375⁄650=0.5769231≈57.69\\%$ están de acuerdo con respecto al total de encuestados.\n",
        "\n",
        "Entonces $p=0.5769$ en valor relativo o $57.69\\%$ en valor porcentual que significa la proporción de una variable de interés de que si está de acuerdo y el valor complementario llamado $q$ estará dado por $q=(1-p)=1-0.5729=0.423$ o el $42.31\\%$ no están de acuerdo.\n",
        "\n",
        "La pregunta es, ¿cómo obtener el valor de la proporción en un estudio de muestreo?\n",
        "Como lo sugiere (Anderson, Sweeney, & Williams, 2008) el valor planeado $p$ se determina mediante algunas estrategias siguientes: utilizar la proporción poblacional de unas muestras históricas similares y de la misma variable de interés; puede ser realizando un estudio piloto y elegir una muestra preliminar entonces la proporción muestral de esta muestra se usa como valor planeado de $p$; proponer bajo una sesión de expertos una mejor aproximación para el valor de $p$ o finalmente en caso de no aplicar ninguna de las opciones anteriores, se utiliza un valor de $p=0.50$, o $50\\%$ como valor de la proporción.\n",
        "\n",
        "Dado lo anterior, para calcular un tamaño de muestra con la proporción se puede utilizar la siguiente fórmula:\n",
        "\n",
        "$$\n",
        "n=\\frac{z^2\\cdot p \\cdot(1-p)}{E^2} ∴\n",
        "$$\n",
        "* $n$ tamaño de muestra a calcular\n",
        "* $z$ es el valor absoluto de $z$ de una distribución normal estándar a una probabilidad a dos colas de acuerdo al nivel de confianza.\n",
        "* $p$ es la probabilidad de éxito.\n",
        "* $q = (1-p)$ probabilidad de fracaso o complemento de $p$.\n",
        "* $E$ valor de margen de error planificado\n",
        "\n",
        "Ejemplo:\n",
        "\n",
        "Una empresa desea llevar a cabo un estudio para determinar la proporción en la población de golfistas que está satisfecha con la disponibilidad de horarios de salida.\n",
        "\n",
        "¿De qué tamaño deberá ser la muestra si se desea que en la estimación de la proporción poblacional el margen de error sea $E=0.025$ a $95\\%$ de confianza?\n",
        "Ejercicio extraído de (Anderson, Sweeney, & Williams, 2008).\n",
        "\n",
        "Como $E=.025$ y $z=1.9599$, se necesita un valor planeado $p$ para responder esta pregunta sobre el tamaño de la muestra. Un resultado de muestra anteriores indica que hay un $44\\%$ de mujeres que, si están de acuerdo en los horarios, entonces $p=0.44$.\n",
        "\n",
        "Entonces el tamaño de la muestra debe ser:\n",
        "$$\n",
        "n=\\frac{(z^2⋅p⋅(1-p))}{E^2} ∴ \\\\\n",
        "n=\\frac{(1.9599^2⋅0.44⋅(1-0.44))}{0.025^2} \\\\\n",
        "n=1514.3578 ≈1515 \\text { sería el tamaño de la muestra}\n",
        "$$\n",
        "\n",
        "Lamando la función *f_tamanio_muestra_pqE()* y con los parámetros adecuados\n"
      ],
      "metadata": {
        "id": "AiMO3ePJxLTD"
      }
    },
    {
      "cell_type": "code",
      "source": [
        "confianza = 95/100 # Valor relativo\n",
        "p = 0.44  # Probabilidad histórica\n",
        "E = 0.025 # Margen de Error planificado\n",
        "n = np.ceil(f_tamanio_muestra_pqE(confianza, p, E))\n",
        "\n",
        "print (\"El tamaño de la muestra n, redondeado al valor entero mayor es:  \", n)\n"
      ],
      "metadata": {
        "colab": {
          "base_uri": "https://localhost:8080/"
        },
        "id": "2ng9lTfB0ib5",
        "outputId": "0b24c106-9059-4ca3-dc03-314820225183"
      },
      "execution_count": null,
      "outputs": [
        {
          "output_type": "stream",
          "name": "stdout",
          "text": [
            "Con un margen de Error esperado de  0.025\n",
            "a un nivel de confianza del  95.0 % ; z= 1.959964\n",
            "y un aproporción de p=  0.44\n",
            "El tamaño de la muestra n, redondeado al valor entero mayor es:   1515.0\n"
          ]
        }
      ]
    },
    {
      "cell_type": "markdown",
      "source": [
        "## Tamaño de muestra cuando se conoce el tamaño de la población\n",
        "\n",
        "Se puede estimar el tamaño de muestra cuando se puede precisar el tamaño de la población $N$ (Sucasaire, 2020).\n",
        "\n",
        "Se puede calcular una muestra de tamaño n de una población de $N$ en un muestreo aleatorio cuando se dispone y se conoce el tamaño de la población $N$; el valor del coeficiente de confianza y por consecuencia el valor de $z$; el valor de la proporción $p$ y el error máximo admisible E planificado.\n",
        "\n",
        "Se puede aplicar la siguiente fórmula para maximizar la muestra contemplando el margen de error:\n",
        "\n",
        "$$\n",
        "n=\\frac{(z^2⋅N⋅p⋅q)}{(E^2 (N-1)+z^2⋅p⋅q)}\n",
        "$$\n",
        "\n",
        "(Anderson, Sweeney, & Williams, 2008)\n",
        "\n",
        "* $n$ es el tamaño de muestra a calcular,\n",
        "* $z$ es el valor de z con respecto al coeficiente de confianza establecido,\n",
        "* $p$ es el valor de la proporción,\n",
        "* q=(1-p) es el complemento de la proporción expresado frecuentemente como $q$. El producto de $p⋅q$ (pq) significa la varianza de las proporciones, donde $p$ es la proporción que presenta el atributo y $q$ su complemento,\n",
        "$E$ es el margen de error deseado,\n",
        "$N$ es el tamaño de la población conocida.\n",
        "\n",
        "\n",
        "Por ejemplo, se puede calcular el tamaño n de una muestra aleatoria simple de una población $N=10000$ habitantes de una comunidad, fijando un error máximo admisible del $E=0.04$ o $4$%, un nivel de confianza del $90$% y la varianza máxima de proporciones $p⋅q=0.25$, o sea el valor de $p=0.5$ y $q=0.5$, entonces $0.5×0.5=0.25$.\n",
        "\n",
        "Ejercicio extraído de (Tola, 2020).\n",
        "\n",
        "$$\n",
        "n=\\frac{(z^2⋅N⋅p⋅q)}{E^2 \\cdot (N-1)+z^2⋅p⋅q)} \\\\\n",
        "n=\\frac{(1.645^2) ⋅ (10000)⋅ (0.25)}{(0.04^2) \\cdot (10000-1)+((1.645)^2\\cdot (0.25) )} \\\\\n",
        "n = \\frac{2.706025\\cdot 10000 \\cdot 0.25}{0.0016\\cdot 9999 + (2.706025\\cdot 0.25)} \\\\\n",
        "n = \\frac{6765.0625}{15.9984+0.67650625} \\\\\n",
        "n = \\frac{6765.0625}{16.67490625} \\\\\n",
        "n= 405.7031805≈406 \\text{ sería el tamaño de la muestra}\n",
        "$$"
      ],
      "metadata": {
        "id": "ctTLYwVb4Sn7"
      }
    },
    {
      "cell_type": "code",
      "source": [
        "\n",
        "confianza = 90/100 # Valor relativo o 90%\n",
        "p = 0.5  # Probabilidad\n",
        "E = 0.04 # Margen de Error planificado\n",
        "N = 10000\n",
        "n = np.ceil(f_tamanio_muestra_NpE(confianza, N, p, E))\n",
        "\n",
        "print (\"El tamaño de la muestra n, redondeado al valor entero mayor es: \", n)"
      ],
      "metadata": {
        "colab": {
          "base_uri": "https://localhost:8080/"
        },
        "id": "8L3VRdG_9k4U",
        "outputId": "1396ebc8-1e9e-46b0-d654-ed6ddd3b3e5e"
      },
      "execution_count": null,
      "outputs": [
        {
          "output_type": "stream",
          "name": "stdout",
          "text": [
            "Con un margen de Error esperado de  0.04\n",
            "a un nivel de confianza del  90.0 % ; z= 1.644854\n",
            "y una proporción de p=  0.5\n",
            "con tamaño de población N= 10000\n",
            "El tamaño de la muestra n, redondeado al valor entero mayor es:  406.0\n"
          ]
        }
      ]
    },
    {
      "cell_type": "code",
      "source": [
        "confianza = 95/100 # Valor relativo o 90%\n",
        "p = 0.5  # Probabilidad\n",
        "E = 0.05 # Margen de Error planificado\n",
        "N = 5929\n",
        "n = np.ceil(f_tamanio_muestra_NpE(confianza, N, p, E))\n",
        "\n",
        "print (\"El tamaño de la muestra n, redondeado al valor entero mayor es: \", n)"
      ],
      "metadata": {
        "colab": {
          "base_uri": "https://localhost:8080/"
        },
        "id": "HPVf21ZPiAbc",
        "outputId": "be143adc-8589-48bc-c9a2-bfb5aee1190e"
      },
      "execution_count": null,
      "outputs": [
        {
          "output_type": "stream",
          "name": "stdout",
          "text": [
            "Con un margen de Error esperado de  0.05\n",
            "a un nivel de confianza del  95.0 % ; z= 1.959964\n",
            "y una proporción de p=  0.5\n",
            "con tamaño de población N= 5929\n",
            "El tamaño de la muestra n, redondeado al valor entero mayor es:  361.0\n"
          ]
        }
      ]
    },
    {
      "cell_type": "markdown",
      "source": [
        "# Desarrollo\n",
        "\n",
        "## Ejercicio 1. Tamaño de muestra con Margen de Error planificado E.\n",
        "\n",
        "$$\n",
        "n=\\frac{(z^2\\cdot σ^2)}{E^2 }\n",
        "$$\n",
        "\n",
        "Se quiere que determinar el tamaño de la muestra necesario para estimar la proporción de estudiantes en una universidad que están a favor de un nuevo programa académico, con un nivel de confianza del $95\\%$ y un margen de error esperado del $E=3\\%$. Se conoce una desviación estándar de $\\sigma = 0.5$\n",
        "\n",
        "### Datos:\n",
        "\n",
        "* Nivel de confianza: 95% ($z = 1.9695$ para una distribución normal estándar)\n",
        "* Margen de error esperado: $3\\%$ ($E = 0.03$)\n",
        "* Desviación estándar poblacional estimada: $\\sigma=0.5$.\n",
        "\n",
        "### Cálculo\n",
        "\n",
        "$$\n",
        "n=\\frac{(z^2\\cdot σ^2)}{E^2 } \\\\\n",
        "n=\\frac{(1.9599^2\\cdot 0.5^2)}{0.03^2 } \\\\\n",
        "n \\approx 1068\n",
        "$$\n",
        "\n",
        "Llamando la función *f_tamanio_muestra_con_E(confianza, desv_std_poblacion, E)* con los par´metros adecuados.\n"
      ],
      "metadata": {
        "id": "va4X_ziBV5Hf"
      }
    },
    {
      "cell_type": "code",
      "source": [
        "confianza = 95/100\n",
        "desv_std_poblacion = 0.5\n",
        "E = 0.03\n",
        "n = np.ceil(f_tamanio_muestra_con_E(confianza, desv_std_poblacion, E))\n",
        "\n",
        "print (\"El tamaño de la muestra n, redondeado al valor entero mayor es: \", n)"
      ],
      "metadata": {
        "colab": {
          "base_uri": "https://localhost:8080/"
        },
        "id": "yKmEzhFspVWf",
        "outputId": "76eae4cd-419e-47e0-acd1-1c71adc22f5c"
      },
      "execution_count": null,
      "outputs": [
        {
          "output_type": "stream",
          "name": "stdout",
          "text": [
            "Con un margen de Error esperado de  0.03\n",
            "a un nivel de confianza del  95.0 % ; z= 1.959964\n",
            "y con desviación estándar de población de  0.5\n",
            "El tamaño de la muestra n, redondeado al valor entero mayor es:  1068.0\n"
          ]
        }
      ]
    },
    {
      "cell_type": "markdown",
      "source": [
        "## Ejercicio 2. Tamaño de muestra con proporción p y margen de error planificado E\n",
        "\n",
        "Se desea determinar el tamaño de la muestra necesario para estimar la proporción de personas en una ciudad que están satisfechas con un servicio público, con un nivel de confianza del $95\\%$ y un margen de error esperado del $4\\%$. Se hace una prueba piloto y hay un aproximadamente un $p=60\\%$ de la muestra que está de acuerdo con el servicio.\n",
        "\n",
        "### Datos:\n",
        "\n",
        "* Nivel de confianza: 95% ($z = 1.9599$ para una distribución normal estándar)\n",
        "* Margen de error esperado: $4\\%$ ($E = 0.04$)\n",
        "* Proporción $p=0.60$ ($60\\%$)\n",
        "\n",
        "### Cálculo\n",
        "\n",
        "$$\n",
        "n=\\frac{(z^2⋅p⋅(1-p))}{E^2} ∴ \\\\\n",
        "n=\\frac{(1.9599^2⋅0.60⋅(1-0.60))}{0.04^2} \\\\\n",
        "n=576.6 ≈577 \\text { sería el tamaño de la muestra}\n",
        "$$\n",
        "\n",
        "\n",
        "\n",
        "\n"
      ],
      "metadata": {
        "id": "GvDXuXLSnL-p"
      }
    },
    {
      "cell_type": "code",
      "source": [
        "confianza = 95/100 # Valor relativo\n",
        "p = 0.60  # Probabilidad\n",
        "E = 0.04 # Margen de Error planificado\n",
        "n = np.ceil(f_tamanio_muestra_pqE(confianza, p, E))\n",
        "\n",
        "print (\"El tamaño de la muestra n, redondeado al valor entero mayor es: \", n)"
      ],
      "metadata": {
        "colab": {
          "base_uri": "https://localhost:8080/"
        },
        "id": "Z_wbmkv_smXI",
        "outputId": "ecee5d5e-5333-44e7-fd7d-f7ca0231622e"
      },
      "execution_count": null,
      "outputs": [
        {
          "output_type": "stream",
          "name": "stdout",
          "text": [
            "Con un margen de Error esperado de  0.04\n",
            "a un nivel de confianza del  95.0 % ; z= 1.959964\n",
            "y un aproporción de p=  0.6\n",
            "El tamaño de la muestra n, redondeado al valor entero mayor es:  577.0\n"
          ]
        }
      ]
    },
    {
      "cell_type": "markdown",
      "source": [
        "## Ejercicio 3. Tamaño de muestra con tamaño de población P, proporción p y margen de error planificado E\n",
        "\n",
        "Un investigador quiere determinar el tamaño de la muestra necesaria para una encuesta en una población finita de $10000$ individuos.\n",
        "\n",
        "Supone que la proporción esperada de respuesta positiva es del $50\\%$ ($p = 0.50$), y desea un margen de error del $5\\%$ ($E = 0.05$) con un nivel de confianza del 95% ($z = 1.9599$). Calcula el tamaño de muestra necesario.\n",
        "\n",
        "### Datos:\n",
        "\n",
        "* Nivel de confianza: 95% ($z = 1.9599$ para una distribución normal estándar)\n",
        "* Margen de error esperado: $5\\%$ ($E = 0.05$)\n",
        "* Proporción $p=0.50$ ($50\\%$)\n",
        "* N = 10000\n",
        "\n",
        "### Cálculo\n",
        "\n",
        "$$\n",
        "n=\\frac{(z^2⋅N⋅p⋅q)}{E^2 \\cdot (N-1)+z^2⋅p⋅q)} \\\\\n",
        "n=\\frac{(1.9599^2) ⋅ (10000)⋅ (0.25)}{(0.05^2) \\cdot (10000-1)+((1.9599)^2\\cdot (0.25) )} \\\\\n",
        "n = \\frac{3.8416⋅10000⋅0.25}{0.0025⋅9999 + (3.8416⋅0.25)} \\\\\n",
        "n = \\frac{960400}{24.9975+0.9603} \\\\\n",
        "n = \\frac{960400}{25.9579} \\\\\n",
        "n= 369.9706≈370 \\text{ sería el tamaño de la muestra}\n",
        "$$\n",
        "\n",
        "\n"
      ],
      "metadata": {
        "id": "xRKziC5_nUB9"
      }
    },
    {
      "cell_type": "code",
      "source": [
        "confianza = 95/100 # Valor relativo o 90%\n",
        "p = 0.5  # Probabilidad\n",
        "E = 0.05 # Margen de Error planificado\n",
        "N = 10000\n",
        "n = (np.ceil(f_tamanio_muestra_NpE(confianza, N, p, E)))\n",
        "\n",
        "print (\"El tamaño de la muestra n, redondeado al valor entero mayor es: \", n)"
      ],
      "metadata": {
        "colab": {
          "base_uri": "https://localhost:8080/"
        },
        "id": "XJoTuWgv4wtn",
        "outputId": "7492b3e5-9a7e-49a0-a682-92b71710552a"
      },
      "execution_count": null,
      "outputs": [
        {
          "output_type": "stream",
          "name": "stdout",
          "text": [
            "Con un margen de Error esperado de  0.05\n",
            "a un nivel de confianza del  95.0 % ; z= 1.959964\n",
            "y una proporción de p=  0.5\n",
            "con tamaño de población N= 10000\n",
            "El tamaño de la muestra n, redondeado al valor entero mayor es:  370.0\n"
          ]
        }
      ]
    },
    {
      "cell_type": "markdown",
      "source": [
        "# Interpretación\n",
        "\n",
        "* ¿Qué significa una muestra y para que sirve?\n",
        "* ¿Para qué calcular el tamaño de muestra?\n",
        "* ¿Cuáles son las diferencias que existen entre las diferentes maneras de calcular muestras vistos en este caso?\n",
        "* ¿Qué sucede si se modifican los niveles de confianza en los tres ejercicios de este caso?\n",
        "\n"
      ],
      "metadata": {
        "id": "WdqC455BV2iD"
      }
    },
    {
      "cell_type": "markdown",
      "source": [
        "Ejercicio en clase.\n",
        "\n",
        "¿Cuál el tamaño de muestra para una población de tamaño $N=6600$ a un $95%$ de confianza con un margen de error del $E=5\\%$ y un valor de $p=0.5$.\n",
        "\n"
      ],
      "metadata": {
        "id": "yI8qefpjBcj3"
      }
    },
    {
      "cell_type": "code",
      "source": [
        "confianza = 95/100 # Valor relativo o 90%\n",
        "p = 0.5  # Probabilidad\n",
        "E = 0.05 # Margen de Error planificado\n",
        "N = 6600\n",
        "n = (np.ceil(f_tamanio_muestra_NpE(confianza, N, p, E)))\n",
        "\n",
        "print (\"El tamaño de la muestra n, redondeado al valor entero mayor es: \", n)"
      ],
      "metadata": {
        "colab": {
          "base_uri": "https://localhost:8080/"
        },
        "id": "SlptgjY5BpnO",
        "outputId": "401b9b58-d15d-46a9-b336-951298150cc0"
      },
      "execution_count": null,
      "outputs": [
        {
          "output_type": "stream",
          "name": "stdout",
          "text": [
            "Con un margen de Error esperado de  0.05\n",
            "a un nivel de confianza del  95.0 % ; z= 1.959964\n",
            "y una proporción de p=  0.5\n",
            "con tamaño de población N= 6600\n",
            "El tamaño de la muestra n, redondeado al valor entero mayor es:  364.0\n"
          ]
        }
      ]
    },
    {
      "cell_type": "markdown",
      "source": [
        "# Bibliografía\n",
        "\n",
        "* Anderson, David R., Dennis J. Sweeney, and Thomas A. Williams. 2008. Estadística Para Administración y Economía. 10th ed. Australia • Brasil • Corea • España • Estados Unidos • Japón • México • Reino Unido • Singapur: Cengage Learning,.\n",
        "\n",
        "* Lind, Douglas, William Marchal, and Samuel Wathen. 2015. Estadística Aplicada a Los Negocios y La Economía. Decimo Sexta. México, D.F.: McGraw-Hill.\n",
        "\n",
        "* Hernández, R., Fernández, C., & Pilar, B. M. (2010). Metodología de la Investigación. McGrawn Hill.\n",
        "\n",
        "* Sucasaire, J. (2020). Orientaciones para la selección y el cálculo del tamaño de la meustra en investigación. Lima-Perú: Primera edición digital – marzo 2022.\n",
        "\n",
        "* Tola, O. (2020). Tamaño de la muestra. Obtenido de Tamaño de la muestra: https://rpubs.com/osmartola/658826\n",
        "\n",
        "* ChatGPT\n"
      ],
      "metadata": {
        "id": "i_e_KhzJV65G"
      }
    }
  ]
}