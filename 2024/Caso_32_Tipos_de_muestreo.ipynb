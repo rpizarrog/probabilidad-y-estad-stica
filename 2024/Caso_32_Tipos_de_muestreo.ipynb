{
  "nbformat": 4,
  "nbformat_minor": 0,
  "metadata": {
    "colab": {
      "provenance": [],
      "authorship_tag": "ABX9TyOpJlljO+M4pFlKfgonZ5ga",
      "include_colab_link": true
    },
    "kernelspec": {
      "name": "python3",
      "display_name": "Python 3"
    },
    "language_info": {
      "name": "python"
    }
  },
  "cells": [
    {
      "cell_type": "markdown",
      "metadata": {
        "id": "view-in-github",
        "colab_type": "text"
      },
      "source": [
        "<a href=\"https://colab.research.google.com/github/rpizarrog/probabilidad-y-estad-stica/blob/master/2024/Caso_32_Tipos_de_muestreo.ipynb\" target=\"_parent\"><img src=\"https://colab.research.google.com/assets/colab-badge.svg\" alt=\"Open In Colab\"/></a>"
      ]
    },
    {
      "cell_type": "markdown",
      "source": [
        "# Objetivo\n",
        "\n",
        "Decribir la muestra conforme y de acuerdo al tipo de muestreo aleatorio.\n",
        "\n",
        "# Descripción\n",
        "\n",
        "Con un conjunto de datos utilizar mecanismos de programación para determinar muestreos mediante técnicas de aleatorio simple, aleatorio sistemático, aleatorio estratificado y por conglomerados.\n",
        "\n",
        "\n",
        "\n",
        "\n"
      ],
      "metadata": {
        "id": "IPnPKlMG_BVv"
      }
    },
    {
      "cell_type": "markdown",
      "source": [
        "# Fundamento teórico\n",
        "\n",
        "El propósito de la estadística inferencial consiste en determinar y conocer el comportamiento sobre una población a partir de una muestra.\n",
        "\n",
        "Una muestra es una porción, una proporción o parte de la población de interés. En muchos casos, el muestreo resulta más accesible y sencillo que el estudio de toda la población. (Lind, Marchal, and Wathen 2015).\n",
        "\n",
        "Por otra parte la importancia del muestreo como lo menciona (Anderson, Sweeney, and Williams 2008) es cuestión de minimizar costo de trabajo, recopilar información de una muestra es sustancialmente menor, que hacerlo de una población completa; especialmente cuando se deben realizar entrevistas personales para recopilar la información.\n",
        "\n",
        "Finamente, los métodos de muestreo aleatorio y sin sesgos son muy importantes para realizar inferencias estadísticas válidas (Lind, Marchal, and Wathen 2015).\n",
        "\n",
        "## Muestreo aleatorio simple\n",
        "\n",
        "Una muestra aleatoria simple de tamaño $n$\n",
        "de una población finita de tamaño $N$\n",
        "es una muestra seleccionada de manera que cada posible muestra de tamaño n\n",
        "tenga la misma probabilidad de ser seleccionada (Anderson, Sweeney, and Williams 2008).\n",
        "\n",
        "De un conjunto de $N$ elementos de una población, un muestreo aleatorio simple sería una especie de rifa o tómbola para elegir de de entre los $N$ total de población una cantidad de $n$ número de la muestra.\n",
        "\n",
        "## Muestreo aleatorio sistematizado\n",
        "\n",
        "Se selecciona un punto aleatorio de inicio y posteriormente se elige cada *k-ésimo* miembro de la población (Lind, Marchal, and Wathen 2015).\n",
        "\n",
        "Suele emplearse como alternativa al muestreo aleatorio simple, en especial cuando las poblaciones son grandes se lleva mucho tiempo tomar una muestra aleatoria simple en la que primero hay que hallar un número aleatorio y después contar o buscar en el marco el elemento correspondiente (Anderson, Sweeney, and Williams 2008).\n",
        "\n",
        "El primer elemento se elige aleatoriamente, lo que permite suponer que una muestra sistemática tiene las propiedades de una muestra aleatoria simple. Esta suposición suele ser correcta cuando el marco es un ordenamiento aleatorio de los elementos de la población (Anderson, Sweeney, and Williams 2008)\n",
        "\n",
        "\n",
        "## Muestreo estratificado\n",
        "\n",
        "Cuando una población se divide en grupos a partir de ciertas características, el muestreo aleatorio estratificado garantiza que cada grupo o estrato se encuentre representado en la muestra (Lind, Marchal, and Wathen 2015).\n",
        "\n",
        "(Anderson, Sweeney, and Williams 2008) describe el muestreo aleatorio estratificado en donde los elementos de la población primero se dividen en grupos, a los que se les llama estratos, de manera que cada elemento pertenezca a uno y sólo un estrato. La base para la formación de los estratos, que puede ser departamento, edad, tipo de industria, entre otros, está a discreción de la persona que diseña la muestra.\n",
        "\n",
        "Por otra parte, para asegurar que la muestra sea una representación imparcial de las N\n",
        "observaciones, se debe determinar la frecuencia relativa y a partir de ahí generar las cantidad de muestra de cada estrato. (Lind, Marchal, and Wathen 2015).\n",
        "\n",
        "## Muestreo por conglomerado\n",
        "\n",
        "La población se divide en conglomerados a partir de los límites naturales geográficos u otra clase. A continuación, estos se seleccionan al azar y se toma una muestra de forma aleatoria con elementos de cada grupo (Lind, Marchal, and Wathen 2015).\n",
        "\n",
        "\n"
      ],
      "metadata": {
        "id": "jyCQhAh__wzg"
      }
    },
    {
      "cell_type": "markdown",
      "source": [
        "# Desarrollo\n",
        "\n",
        "## Cargar librerías\n",
        "\n",
        "\n"
      ],
      "metadata": {
        "id": "X4V_TRy4_mzb"
      }
    },
    {
      "cell_type": "code",
      "source": [
        "import pandas as pd\n",
        "import numpy as np\n",
        "\n",
        "import random\n",
        "\n",
        "import folium"
      ],
      "metadata": {
        "id": "TtY5fbuYCPBe"
      },
      "execution_count": 83,
      "outputs": []
    },
    {
      "cell_type": "markdown",
      "source": [
        "## Cargar funciones"
      ],
      "metadata": {
        "id": "-WLKkP_n3_eJ"
      }
    },
    {
      "cell_type": "code",
      "source": [
        "# Función que hace un muestreo sistematizado, recibe, tamaño de poblacion y de muestra\n",
        "# Aleatoriamente comienza en un valor numérico en el rango de la población\n",
        "\n",
        "def f_muestreo_sistematizado_ver1(N, n):\n",
        "    # Define el inicio y los saltos\n",
        "    inicio = np.random.randint(1, N)\n",
        "    saltos = int(np.round(N / n, 0))\n",
        "\n",
        "    indices = [0] * n\n",
        "    indices[0] = inicio\n",
        "    i = 1\n",
        "    while i < n:\n",
        "        indice = indices[i-1] + saltos\n",
        "        if indice <= N:\n",
        "            indices[i] = indice\n",
        "        else:\n",
        "            indices[i] = indice - N\n",
        "        i += 1\n",
        "\n",
        "    return indices\n",
        "\n",
        "# Esta función mejorada a la version  f_muestreo_sistematizado_ver1()\n",
        "# Recibe los datos y el tamaño de la muestra\n",
        "# Devuele los regisrtos aleatoriamente sistematizados y la muestra\n",
        "def f_muestreo_sistematizado_ver2(datos, n):\n",
        "    # Define el inicio y los saltos\n",
        "    inicio = np.random.randint(0, N-1)\n",
        "    saltos = int(np.round(N / n, 0))\n",
        "\n",
        "    indices = [0] * n\n",
        "    indices[0] = inicio\n",
        "    i = 1\n",
        "    while i < n:\n",
        "        indice = indices[i-1] + saltos\n",
        "        if indice <= N:\n",
        "            indices[i] = indice\n",
        "        else:\n",
        "            indices[i] = indice - N\n",
        "        i += 1\n",
        "\n",
        "    # Convertir a índices de Python (0-based). Porque los arreglos comienzan en 0\n",
        "    indices = [x - 1 for x in indices]\n",
        "\n",
        "    # Obtener la muestra usando los índices\n",
        "    muestra = datos.iloc[indices]\n",
        "\n",
        "    return indices, muestra\n",
        "\n",
        "def f_mostrar_mapa(datos):\n",
        "    # Crear el mapa centrado en una ubicación inicial\n",
        "    m = folium.Map(location=[24.0, -104.5], zoom_start=10)\n",
        "\n",
        "    # Añadir marcadores al mapa\n",
        "    for i, row in datos.iterrows():\n",
        "      folium.Marker(\n",
        "        location=[row['latitud'], row['longitud']],\n",
        "        popup=f\"{row['localidad']}<br>n: {row['n']}\",\n",
        "        tooltip=row['localidad']).add_to(m)\n",
        "\n",
        "    # Mostrar el mapa\n",
        "    return m"
      ],
      "metadata": {
        "id": "CbB6Dabp3bpo"
      },
      "execution_count": 107,
      "outputs": []
    },
    {
      "cell_type": "markdown",
      "source": [
        "## Cargar datos\n",
        "\n",
        "Se carga el conjunto de datos de personas del enlace https://raw.githubusercontent.com/rpizarrog/probabilidad-y-estad-stica/master/2024/datos/datos_alumnos_deportes.csv por medio de la librería pandas para simular muestreo aleatorio simple y estratificdo.\n",
        "\n",
        "Los datos tienen variables ue se relacionan con *no,    nombres, sexo,  futbol,  basquetbol,  voleybol,  atletismo,  ajedrez,  tenis*.\n",
        "\n",
        "El atributo *no* define un valor único para cada alumno; el atributo nombres distingue el nombre del alumno; el atributo sexo define si es de género M Masculino o F Femenino y los atributos de deportes tienen valores de 1 y 0 para indicar si practican o están inscritos en una actividad deportiva específica."
      ],
      "metadata": {
        "id": "DO7EdpLdCWZh"
      }
    },
    {
      "cell_type": "code",
      "source": [
        "datos_alumnos_deportes  = pd.read_csv(\"https://raw.githubusercontent.com/rpizarrog/probabilidad-y-estad-stica/master/2024/datos/datos_alumnos_deportes.csv\")\n",
        "print (datos_alumnos_deportes.head(10))\n",
        "print (datos_alumnos_deportes.tail(10))\n",
        "\n"
      ],
      "metadata": {
        "colab": {
          "base_uri": "https://localhost:8080/"
        },
        "id": "V93j-KY3CZ2R",
        "outputId": "b302e960-26ac-4312-c3a1-d34c737b6609"
      },
      "execution_count": 85,
      "outputs": [
        {
          "output_type": "stream",
          "name": "stdout",
          "text": [
            "   no    nombres sexo  futbol  basquetbol  voleybol  atletismo  ajedrez  tenis\n",
            "0   1     Adrián    M       1           0         1          1        1      0\n",
            "1   2    Adriana    F       1           1         0          0        0      0\n",
            "2   3    América    F       1           1         1          1        1      0\n",
            "3   4        Ana    F       0           0         0          0        0      0\n",
            "4   5      Angel    M       1           1         0          0        0      0\n",
            "5   6   Angélica    F       1           1         1          0        0      0\n",
            "6   7  Antonieta    F       0           0         0          0        0      1\n",
            "7   8    Antonio    M       0           0         0          0        0      0\n",
            "8   9    Aracely    F       0           0         0          0        0      1\n",
            "9  10    Arcelia    F       0           0         0          0        1      1\n",
            "     no   nombres sexo  futbol  basquetbol  voleybol  atletismo  ajedrez  \\\n",
            "90   91      Saul    M       1           0         1          0        0   \n",
            "91   92    Sotelo    M       0           0         1          1        0   \n",
            "92   93    Susana    F       0           0         0          0        0   \n",
            "93   94  Teobaldo    M       1           0         0          0        1   \n",
            "94   95    Teresa    F       0           0         0          0        0   \n",
            "95   96  Tiburcio    M       0           0         0          1        0   \n",
            "96   97  Verónica    F       1           1         1          0        0   \n",
            "97   98    Walter    F       1           1         0          0        0   \n",
            "98   99   Xóchitl    F       0           1         1          1        1   \n",
            "99  100      Yuri    F       1           0         0          0        0   \n",
            "\n",
            "    tenis  \n",
            "90      0  \n",
            "91      0  \n",
            "92      0  \n",
            "93      1  \n",
            "94      0  \n",
            "95      0  \n",
            "96      0  \n",
            "97      0  \n",
            "98      0  \n",
            "99      0  \n"
          ]
        }
      ]
    },
    {
      "cell_type": "markdown",
      "source": [
        "## Muestreo aleatorio simple\n",
        "\n",
        "De este conjunto de datos se desea hacer una muestra de 20 alumnos, entonces $n=20$. Aquí el tamaño de la muestra fue arbitrario pero en el caso 31 se calculan tamaños de muestra mediante fórmulas estadísticas descritas en ese caso.\n",
        "\n",
        "La pregunta es ¿cuáles elegir?. El muestreo aleatorio simple implica elegir por aleatoriedad o random.\n",
        "\n",
        "En *pynthon* un valor aleatorio sería usando una función como sample(), con el tamaño de la muestra *n* y tal vez un valor *random_state*.\n",
        "\n",
        "El argumento *random_state* como una semilla o un valor fijo (por ejemplo, 1), se garantiza que cada vez que se ejecute el código, se obtendrá la misma muestra aleatoria. Sin *random_state*, la muestra sería diferente en cada ejecución.\n"
      ],
      "metadata": {
        "id": "Hb0GnsfpC5QS"
      }
    },
    {
      "cell_type": "code",
      "source": [
        "# Realizar el muestreo aleatorio simple\n",
        "muestra = datos_alumnos_deportes.sample(n=20)\n",
        "print (muestra[['no', 'nombres', 'sexo']])"
      ],
      "metadata": {
        "colab": {
          "base_uri": "https://localhost:8080/"
        },
        "id": "ga8jU1PqD-U-",
        "outputId": "e7086507-a769-4388-d77c-103ca96902b4"
      },
      "execution_count": 86,
      "outputs": [
        {
          "output_type": "stream",
          "name": "stdout",
          "text": [
            "    no    nombres sexo\n",
            "97  98     Walter    F\n",
            "19  20  Dagoberto    M\n",
            "34  35   Gabriela    F\n",
            "17  18     Carmen    F\n",
            "87  88     Sandra    F\n",
            "26  27    Ernesto    M\n",
            "72  73     Otilia    F\n",
            "49  50      Julio    M\n",
            "89  90      Sandy    F\n",
            "14  15       Bety    F\n",
            "67  68       Memo    M\n",
            "50  51       Lalo    M\n",
            "85  86       Rubý    F\n",
            "44  45   Jeorgina    F\n",
            "21  22       Dany    F\n",
            "6    7  Antonieta    F\n",
            "16  17     Carlos    M\n",
            "5    6   Angélica    F\n",
            "15  16    Calixto    M\n",
            "35  36     Genaro    M\n"
          ]
        }
      ]
    },
    {
      "cell_type": "code",
      "source": [
        "muestra = datos_alumnos_deportes.sample(n=20, random_state=2024)  # random_state asegura la reproducibilidad\n",
        "print (muestra[['no', 'nombres', 'sexo']])"
      ],
      "metadata": {
        "colab": {
          "base_uri": "https://localhost:8080/"
        },
        "id": "x1zxsxz5ErOH",
        "outputId": "d4a0a4e2-f2dc-4908-92e1-a072a616879a"
      },
      "execution_count": 87,
      "outputs": [
        {
          "output_type": "stream",
          "name": "stdout",
          "text": [
            "    no    nombres sexo\n",
            "35  36     Genaro    M\n",
            "19  20  Dagoberto    M\n",
            "26  27    Ernesto    M\n",
            "17  18     Carmen    F\n",
            "77  78      Perla    F\n",
            "24  25    Eraclio    M\n",
            "70  71    Orlando    M\n",
            "58  59      Luisa    F\n",
            "95  96   Tiburcio    M\n",
            "14  15       Bety    F\n",
            "91  92     Sotelo    M\n",
            "87  88     Sandra    F\n",
            "50  51       Lalo    M\n",
            "49  50      Julio    M\n",
            "21  22       Dany    F\n",
            "6    7  Antonieta    F\n",
            "16  17     Carlos    M\n",
            "5    6   Angélica    F\n",
            "15  16    Calixto    M\n",
            "34  35   Gabriela    F\n"
          ]
        }
      ]
    },
    {
      "cell_type": "markdown",
      "source": [
        "## Muestreo aleatorio sistematizado\n",
        "\n",
        "Del conjunto de datos *datos_alumnos_deportes* que tiene 100 registros se iniciará en un valor entero entre 1 y 100 considerando el atributo *no* que identiica a cada registro o alumno.\n",
        "\n",
        "Toda vez iniciado el siguiente registro será el valor inicial + el salto, y se repite el proceso. Si se llega al valor máximo de 100, el proceso continua con los valores empezando en 1.\n",
        "\n",
        "Se quiere una  muestra de tamanño $n=20$ de una poblacion de 100 observaciones. La sistematizada consiste en seleccionar el registro por decir arbitrariamente el 7 y los saltos es la relación que hay entre $N/n \\equiv 100/20 = 5$.\n",
        "\n",
        "La muestra incluye los valores {7, 12, 17, 22, 27, 32, 37, 42, 47, 52, 57, 62, 67, 72, 77, 82, 87, 92, 97, 2} que es lo correspondiene a:\n",
        "\n",
        "$$\n",
        "\\text{Inicia en 7 con saltos de 5 en 5}\\\\\n",
        "\\text{7 + 5 = 12}\\\\\n",
        "\\text{12 + 5 = 17}\\\\\n",
        "\\text{17 + 5 = 22}\\\\\n",
        "\\text{17 + 5 = 22}\\\\\n",
        "\\text{... ... ...}\\\\\n",
        "\\text{92 + 5 = 97}\\\\\n",
        "\\text{97 + 5 = 102}\\\\\n",
        "\\text{102 o sea el registro 2, se regresa}\n",
        "$$\n",
        "\n",
        "Se manda llamar la función *f_muestreo_sistematizado(datos, n)*, esta devuelve la lista de registros a seleccionar para crear una muestra.\n",
        "\n",
        "De los registros a seleccionar se impirme la lista y luego se accedo a cada uno de los registros que correspondan al atributo '*no*' del conjunto de datos *datos_alumnos_deportes*.\n",
        "\n",
        "\n",
        "Los datos en la muestra aparecen en orden conforme a la columna '*no*' de manera ascendente de tal forma que al observar la lista de los registros, estos mismos registros deben corresponder al valor del atributo '*no*'.\n",
        "\n",
        "Para este conjunto de datos la instrucción *datos_alumnos_deportes[datos_alumnos_deportes['no'].isin([index for index in registros])]* tiene efecto dado que hay una columna '*no*' en el conunto de datos; si no estuviera esta, habrpa que hacer ajustes al código.\n"
      ],
      "metadata": {
        "id": "_O8kRcGpFNSP"
      }
    },
    {
      "cell_type": "code",
      "source": [
        "# Semilla\n",
        "np.random.seed(2024) # Siempre y cuando se utilice np.random.() ..."
      ],
      "metadata": {
        "id": "1L3vNc74_lgl"
      },
      "execution_count": 88,
      "outputs": []
    },
    {
      "cell_type": "code",
      "source": [
        "N = len(datos_alumnos_deportes) # Tamaño de población\n",
        "n = 20 # Tamaño de muestra\n",
        "\n",
        "registros = f_muestreo_sistematizado_ver1(N, n)\n",
        "print (\"Los registros a seleccionar de la población para la muestra\")\n",
        "print (registros)\n",
        "print()\n",
        "\n",
        "# Acceder a los registros correspondientes en el DataFrame datos_alumnos_deportes que contiene el campo No\n",
        "# por el cual es como el número de registro o número de control de los alumnos\n",
        "muestra = datos_alumnos_deportes[datos_alumnos_deportes['no'].isin([index for index in registros])]\n",
        "print (muestra[['no', 'nombres', 'sexo']])\n"
      ],
      "metadata": {
        "colab": {
          "base_uri": "https://localhost:8080/"
        },
        "id": "kJWeLOWRF7XD",
        "outputId": "fa0e5a00-0333-4d65-b027-7e17eedacabd"
      },
      "execution_count": 89,
      "outputs": [
        {
          "output_type": "stream",
          "name": "stdout",
          "text": [
            "Los registros a seleccionar de la población para la muestra\n",
            "[9, 14, 19, 24, 29, 34, 39, 44, 49, 54, 59, 64, 69, 74, 79, 84, 89, 94, 99, 4]\n",
            "\n",
            "    no    nombres sexo\n",
            "3    4        Ana    F\n",
            "8    9    Aracely    F\n",
            "13  14     Arturo    M\n",
            "18  19   Consuelo    F\n",
            "23  24      Efren    M\n",
            "28  29   Federico    M\n",
            "33  34    Gabriel    M\n",
            "38  39   Giovanni    M\n",
            "43  44     Javier    M\n",
            "48  49    Julieta    F\n",
            "53  54    Liliana    F\n",
            "58  59      Luisa    F\n",
            "63  64  Margarito    M\n",
            "68  69     Miguel    M\n",
            "73  74       Paco    M\n",
            "78  79    Plácido    M\n",
            "83  84    Rosario    F\n",
            "88  89     Sandro    M\n",
            "93  94   Teobaldo    M\n",
            "98  99    Xóchitl    F\n"
          ]
        }
      ]
    },
    {
      "cell_type": "markdown",
      "source": [
        "Ahora mandar llamar la función *f_muestreo_sistematizado_ver2(datos, n)* que envía como argumentos los datos y el tamaño de la muestra.\n",
        "\n",
        "La función regresa los registros aleatoiamente sistematizados y la muestra"
      ],
      "metadata": {
        "id": "eU2p0vTb9Lj0"
      }
    },
    {
      "cell_type": "code",
      "source": [
        "registros, muestra = f_muestreo_sistematizado_ver2(datos_alumnos_deportes, n)\n",
        "print (\"Los registros a seleccionar de la población para la muestra\")\n",
        "print (registros)\n",
        "print()\n",
        "\n",
        "print (muestra[['no', 'nombres', 'sexo']])"
      ],
      "metadata": {
        "colab": {
          "base_uri": "https://localhost:8080/"
        },
        "id": "sI0vykUc9DYO",
        "outputId": "88333013-6905-4493-a423-476dbe0c1292"
      },
      "execution_count": 90,
      "outputs": [
        {
          "output_type": "stream",
          "name": "stdout",
          "text": [
            "Los registros a seleccionar de la población para la muestra\n",
            "[95, 0, 5, 10, 15, 20, 25, 30, 35, 40, 45, 50, 55, 60, 65, 70, 75, 80, 85, 90]\n",
            "\n",
            "    no      nombres sexo\n",
            "95  96     Tiburcio    M\n",
            "0    1       Adrián    M\n",
            "5    6     Angélica    F\n",
            "10  11      Argelia    F\n",
            "15  16      Calixto    M\n",
            "20  21        Dalia    F\n",
            "25  26    Ernestina    F\n",
            "30  31     Fernanda    F\n",
            "35  36       Genaro    M\n",
            "40  41  Guillermina    F\n",
            "45  46      Joaquín    M\n",
            "50  51         Lalo    M\n",
            "55  56        Lucía    F\n",
            "60  61       Manuel    M\n",
            "65  66        Mario    M\n",
            "70  71      Orlando    M\n",
            "75  76         Paty    F\n",
            "80  81         Raul    M\n",
            "85  86         Rubý    F\n",
            "90  91         Saul    M\n"
          ]
        }
      ]
    },
    {
      "cell_type": "markdown",
      "source": [
        "## Cargar datos\n",
        "\n",
        "Se cargan datos el enlae \"https://raw.githubusercontent.com/rpizarrog/probabilidad-y-estad-stica/master/2024/datos/datos_alumnos_lat_long.csv\" que permite emular muestreos estratificado y por conglomerado.\n",
        "\n",
        "Los datos *datos_alumnos_carrera_lat_long* tienen variables que se relacionan con *\"alumno\",\"semestre\",\"cred_apr.\",\"carga\",\"promedio\",\"carrera\",\"localidad\",\"latitud\",\"longitud\"*.\n",
        "\n",
        "El atributo *alumno* define un valor único para cada alumno; el atributo semestre es el semestre en que están inscritos los alumnos; \"cred_apr\" son los créditos que ha aprobado el alumno; *carga* son los créditos que cursa el alumno; *promedio* es el promedio escolar; *carrera* es la carrera que cursa; *localidad* es el nombre del lugar en donde vive; *latitud y longitud* definen las coordenadas del lugar donde viven.\n"
      ],
      "metadata": {
        "id": "jQbGZgr4dUyY"
      }
    },
    {
      "cell_type": "code",
      "source": [
        "datos_alumnos_carrera_lat_long  = pd.read_csv(\"https://raw.githubusercontent.com/rpizarrog/probabilidad-y-estad-stica/master/2024/datos/datos_alumnos_lat_long.csv\")\n",
        "print (datos_alumnos_carrera_lat_long.head(10))\n",
        "print (datos_alumnos_carrera_lat_long.tail(10))"
      ],
      "metadata": {
        "colab": {
          "base_uri": "https://localhost:8080/"
        },
        "id": "c_eawQIQdcjB",
        "outputId": "f3286e37-a87d-41bf-a2b2-fa51977e9a8e"
      },
      "execution_count": 91,
      "outputs": [
        {
          "output_type": "stream",
          "name": "stdout",
          "text": [
            "   alumno  semestre  cred_apr.  carga  promedio   carrera  \\\n",
            "0       1        11      198.0     19     80.21  SISTEMAS   \n",
            "1       2        11      235.0     10     84.33  SISTEMAS   \n",
            "2       3         9      235.0     10     95.25  SISTEMAS   \n",
            "3       4         9      226.0     19     95.00  SISTEMAS   \n",
            "4       5        10      231.0     14     82.32  SISTEMAS   \n",
            "5       6         9      212.0     23     95.02  SISTEMAS   \n",
            "6       7        12      221.0     10     79.06  SISTEMAS   \n",
            "7       8         9      226.0      9     92.47  SISTEMAS   \n",
            "8       9         9      231.0      4     91.08  SISTEMAS   \n",
            "9      10        11      222.0     13     80.42  SISTEMAS   \n",
            "\n",
            "                    localidad    latitud    longitud  \n",
            "0         Victoria de Durango  24.023988 -104.670194  \n",
            "1  Los Arroyos (Las Colonias)  23.691424 -105.032756  \n",
            "2         Victoria de Durango  24.023988 -104.670194  \n",
            "3         Victoria de Durango  24.023988 -104.670194  \n",
            "4         Victoria de Durango  24.023988 -104.670194  \n",
            "5         Victoria de Durango  24.023988 -104.670194  \n",
            "6         La Criba (Don Toño)  24.180146 -104.548244  \n",
            "7         Victoria de Durango  24.023988 -104.670194  \n",
            "8  Los Arroyos (Las Colonias)  23.691424 -105.032756  \n",
            "9         Victoria de Durango  24.023988 -104.670194  \n",
            "      alumno  semestre  cred_apr.  carga  promedio         carrera  \\\n",
            "5919    5920         7      169.0     23     89.14  ADMINISTRACION   \n",
            "5920    5921         5      109.0     26     87.83  ADMINISTRACION   \n",
            "5921    5922         3       55.0     29     92.83  ADMINISTRACION   \n",
            "5922    5923         2       23.0     23     88.60  ADMINISTRACION   \n",
            "5923    5924         2       27.0     28     92.83  ADMINISTRACION   \n",
            "5924    5925         7       94.0     13     80.95  ADMINISTRACION   \n",
            "5925    5926         5      103.0     32     92.68  ADMINISTRACION   \n",
            "5926    5927         4       79.0     34     86.18  ADMINISTRACION   \n",
            "5927    5928         5      108.0     32     90.48  ADMINISTRACION   \n",
            "5928    5929         7      169.0     32     92.33  ADMINISTRACION   \n",
            "\n",
            "                       localidad    latitud    longitud  \n",
            "5919         Victoria de Durango  24.023988 -104.670194  \n",
            "5920         Victoria de Durango  24.023988 -104.670194  \n",
            "5921         Victoria de Durango  24.023988 -104.670194  \n",
            "5922  Los Arroyos (Las Colonias)  23.691424 -105.032756  \n",
            "5923                La Esperanza  23.921388 -105.297257  \n",
            "5924         Victoria de Durango  24.023988 -104.670194  \n",
            "5925                La Esperanza  23.921388 -105.297257  \n",
            "5926         Victoria de Durango  24.023988 -104.670194  \n",
            "5927         La Criba (Don Toño)  24.180146 -104.548244  \n",
            "5928         La Criba (Don Toño)  24.180146 -104.548244  \n"
          ]
        }
      ]
    },
    {
      "cell_type": "markdown",
      "source": [
        "\n",
        "## Muestreo aleatoro estratificado\n",
        "\n",
        "Son $N=5929$ registros en toda la población, se quiere encontrar una muestra aproximada de  $n=361$\n",
        "\n",
        "Con un nivel de confianza de $95\\%$; valor de margen de error de $E=0.05$ y un valor de $p=0.5$, usando la fórmula:\n",
        "\n",
        "$$\n",
        "n=\\frac{(z^2⋅N⋅p⋅q)}{E^2 \\cdot (N-1)+z^2⋅p⋅q)} \\\\\n",
        "n=\\frac{(1.9599^2) ⋅ (5929)⋅ (0.25)}{(0.05^2) \\cdot (5929-1)+((1.9599)^2\\cdot (0.25) )} \\\\\n",
        "n= 361.00≈361 \\text{ sería el tamaño de la muestra}\n",
        "$$\n",
        "\n",
        "\n"
      ],
      "metadata": {
        "id": "OuI1L7yDgqz-"
      }
    },
    {
      "cell_type": "code",
      "source": [
        "N = len(datos_alumnos_carrera_lat_long)\n",
        "n = 361\n",
        "print (\"Tamaño de población: \", N)\n",
        "print (\"Tamaño de muestra: \", n)"
      ],
      "metadata": {
        "colab": {
          "base_uri": "https://localhost:8080/"
        },
        "id": "TeBuwRQthVYI",
        "outputId": "c2510aac-ee60-4479-f8bc-4bd158cd1807"
      },
      "execution_count": 92,
      "outputs": [
        {
          "output_type": "stream",
          "name": "stdout",
          "text": [
            "Tamaño de población:  5929\n",
            "Tamaño de muestra:  361\n"
          ]
        }
      ]
    },
    {
      "cell_type": "markdown",
      "source": [
        "Valores únicos de carrera\n"
      ],
      "metadata": {
        "id": "K_8ci1CRmDKO"
      }
    },
    {
      "cell_type": "code",
      "source": [
        "# Obtener valores únicos de la columna 'Carrera'\n",
        "valores_unicos = datos_alumnos_carrera_lat_long['carrera'].unique()\n",
        "\n",
        "print(\"Valores únicos en la columna 'Carrera':\", valores_unicos)"
      ],
      "metadata": {
        "colab": {
          "base_uri": "https://localhost:8080/"
        },
        "id": "D9HH0VcfmF5_",
        "outputId": "b1427cd4-e4e9-4a57-e43e-203d72f38d0d"
      },
      "execution_count": 93,
      "outputs": [
        {
          "output_type": "stream",
          "name": "stdout",
          "text": [
            "Valores únicos en la columna 'Carrera': ['SISTEMAS' 'ARQUITECTURA' 'BIOQUIMICA' 'CIVIL' 'ELECTRICA' 'ELECTRONICA'\n",
            " 'INDUSTRIAL' 'MECANICA' 'MECATRONICA' 'QUIMICA' 'GESTION EMPRESARIAL'\n",
            " 'TIC' 'INFORMATICA' 'ADMINISTRACION']\n"
          ]
        }
      ]
    },
    {
      "cell_type": "code",
      "source": [
        "# Calcular la tabla de frecuencias\n",
        "tabla_frec_car = datos_alumnos_carrera_lat_long['carrera'].value_counts(normalize=True).reset_index()\n",
        "tabla_frec_car.columns = ['carrera', 'rf']\n",
        "tabla_frec_car['rf_porc'] = np.round(tabla_frec_car['rf'] * 100, 2)\n",
        "print(tabla_frec_car)"
      ],
      "metadata": {
        "colab": {
          "base_uri": "https://localhost:8080/"
        },
        "id": "jghK-uLvgz-p",
        "outputId": "4f3734af-08c0-428e-e0c5-4bdd60c397ad"
      },
      "execution_count": 94,
      "outputs": [
        {
          "output_type": "stream",
          "name": "stdout",
          "text": [
            "                carrera        rf  rf_porc\n",
            "0            INDUSTRIAL  0.119244    11.92\n",
            "1          ARQUITECTURA  0.113847    11.38\n",
            "2                 CIVIL  0.109293    10.93\n",
            "3   GESTION EMPRESARIAL  0.098668     9.87\n",
            "4               QUIMICA  0.095800     9.58\n",
            "5        ADMINISTRACION  0.083825     8.38\n",
            "6              SISTEMAS  0.076235     7.62\n",
            "7            BIOQUIMICA  0.074380     7.44\n",
            "8           MECATRONICA  0.072862     7.29\n",
            "9              MECANICA  0.050767     5.08\n",
            "10            ELECTRICA  0.047226     4.72\n",
            "11          ELECTRONICA  0.027155     2.72\n",
            "12          INFORMATICA  0.017035     1.70\n",
            "13                  TIC  0.013662     1.37\n"
          ]
        }
      ]
    },
    {
      "cell_type": "markdown",
      "source": [
        "De cada carrera se toma el procentae correspondiente en relación al tamaño de la muestra.\n",
        "\n"
      ],
      "metadata": {
        "id": "Ef8apQLBjVRm"
      }
    },
    {
      "cell_type": "code",
      "source": [
        "tabla_frec_car['n_estrato'] = np.round(tabla_frec_car['rf'] * n)\n",
        "print(tabla_frec_car)\n",
        "print()\n",
        "print (\"Suma de n_estrato = \", sum(tabla_frec_car['n_estrato']))"
      ],
      "metadata": {
        "colab": {
          "base_uri": "https://localhost:8080/"
        },
        "id": "_xRRadyXjavw",
        "outputId": "859a0f9d-4df9-425c-b12b-99c3af80f0fe"
      },
      "execution_count": 95,
      "outputs": [
        {
          "output_type": "stream",
          "name": "stdout",
          "text": [
            "                carrera        rf  rf_porc  n_estrato\n",
            "0            INDUSTRIAL  0.119244    11.92       43.0\n",
            "1          ARQUITECTURA  0.113847    11.38       41.0\n",
            "2                 CIVIL  0.109293    10.93       39.0\n",
            "3   GESTION EMPRESARIAL  0.098668     9.87       36.0\n",
            "4               QUIMICA  0.095800     9.58       35.0\n",
            "5        ADMINISTRACION  0.083825     8.38       30.0\n",
            "6              SISTEMAS  0.076235     7.62       28.0\n",
            "7            BIOQUIMICA  0.074380     7.44       27.0\n",
            "8           MECATRONICA  0.072862     7.29       26.0\n",
            "9              MECANICA  0.050767     5.08       18.0\n",
            "10            ELECTRICA  0.047226     4.72       17.0\n",
            "11          ELECTRONICA  0.027155     2.72       10.0\n",
            "12          INFORMATICA  0.017035     1.70        6.0\n",
            "13                  TIC  0.013662     1.37        5.0\n",
            "\n",
            "Suma de n_estrato =  361.0\n"
          ]
        }
      ]
    },
    {
      "cell_type": "markdown",
      "source": [
        "Ahora para cada carrera se hace un muestreo aleatorio simple o sistematizado\n",
        "\n"
      ],
      "metadata": {
        "id": "rlzucbFEj62K"
      }
    },
    {
      "cell_type": "code",
      "source": [
        "# Pendiente ...\n",
        "# Pendiente ...\n"
      ],
      "metadata": {
        "id": "-hpdleb0kCDP"
      },
      "execution_count": 96,
      "outputs": []
    },
    {
      "cell_type": "markdown",
      "source": [
        "## Muestreo aleatorio por conglomerado\n",
        "\n",
        "Se utilizan el atributo de localidad y se usan los atributos de latitud y longitud para definir espacios geográficos.\n",
        "\n"
      ],
      "metadata": {
        "id": "hRLyEq57kIXS"
      }
    },
    {
      "cell_type": "markdown",
      "source": [
        "Valores únicos por localidad\n",
        "\n"
      ],
      "metadata": {
        "id": "XFRtj-D0mifn"
      }
    },
    {
      "cell_type": "code",
      "source": [
        "# Obtener valores únicos de 'localidad' y sus respectivas coordenadas\n",
        "# Obtener valores únicos de 'localidad' junto con 'latitud' y 'longitud'\n",
        "localidades = datos_alumnos_carrera_lat_long.drop_duplicates(subset=['localidad'])[['localidad', 'latitud', 'longitud']]\n",
        "\n",
        "print(\"Valores únicos en la columna 'localidad'; latitud y longitud:\")\n",
        "print(localidades)"
      ],
      "metadata": {
        "colab": {
          "base_uri": "https://localhost:8080/"
        },
        "id": "pVZLVHDfmlPG",
        "outputId": "409f6652-6292-44cf-e0be-a872ad5fc966"
      },
      "execution_count": 97,
      "outputs": [
        {
          "output_type": "stream",
          "name": "stdout",
          "text": [
            "Valores únicos en la columna 'localidad'; latitud y longitud:\n",
            "                     localidad    latitud    longitud\n",
            "0          Victoria de Durango  24.023988 -104.670194\n",
            "1   Los Arroyos (Las Colonias)  23.691424 -105.032756\n",
            "6          La Criba (Don Toño)  24.180146 -104.548244\n",
            "11                La Esperanza  23.921388 -105.297257\n",
            "17    Los Caballos de Don Cruz  23.957366 -104.551930\n",
            "19                  Las Curras  24.011718 -104.468644\n"
          ]
        }
      ]
    },
    {
      "cell_type": "code",
      "source": [
        "# Calcular la tabla de frecuencias\n",
        "tabla_frec_loc = datos_alumnos_carrera_lat_long['localidad'].value_counts(normalize=True).reset_index()\n",
        "tabla_frec_loc.columns = ['localidad', 'rf']\n",
        "tabla_frec_loc['rf_porc'] = np.round(tabla_frec_loc['rf'] * 100, 2)\n",
        "tabla_frec_loc['n'] = np.round(tabla_frec_loc['rf'] * n)\n",
        "print(tabla_frec_loc)\n",
        "print()\n",
        "print (\"Suma de n_estrato = \", sum(tabla_frec_loc['n']))\n"
      ],
      "metadata": {
        "colab": {
          "base_uri": "https://localhost:8080/"
        },
        "id": "L-jcNiv2kjvY",
        "outputId": "fcecd62d-3440-4b06-f3dc-15eb19f93bf7"
      },
      "execution_count": 105,
      "outputs": [
        {
          "output_type": "stream",
          "name": "stdout",
          "text": [
            "                    localidad        rf  rf_porc      n\n",
            "0         Victoria de Durango  0.594873    59.49  215.0\n",
            "1         La Criba (Don Toño)  0.126497    12.65   46.0\n",
            "2  Los Arroyos (Las Colonias)  0.096981     9.70   35.0\n",
            "3                La Esperanza  0.070670     7.07   26.0\n",
            "4    Los Caballos de Don Cruz  0.059875     5.99   22.0\n",
            "5                  Las Curras  0.051105     5.11   18.0\n",
            "\n",
            "Suma de n_estrato =  362.0\n"
          ]
        }
      ]
    },
    {
      "cell_type": "markdown",
      "source": [
        "Se hace un *join* o *merge* entre esta tabla de de frecuencias y las localidades.\n"
      ],
      "metadata": {
        "id": "F5qjFXIRoRGK"
      }
    },
    {
      "cell_type": "code",
      "source": [
        "# Realizar el \"join\" entre los dos DataFrames en la columna 'localidad'\n",
        "datos_join = pd.merge(tabla_frec_loc, localidades, on='localidad', how='left')\n",
        "print (datos_join[['localidad', 'n', 'latitud', 'longitud']])"
      ],
      "metadata": {
        "colab": {
          "base_uri": "https://localhost:8080/"
        },
        "id": "1EYKT4xZob8i",
        "outputId": "06bf40d8-dd30-4578-a852-0dfdb9b9638b"
      },
      "execution_count": 106,
      "outputs": [
        {
          "output_type": "stream",
          "name": "stdout",
          "text": [
            "                    localidad      n    latitud    longitud\n",
            "0         Victoria de Durango  215.0  24.023988 -104.670194\n",
            "1         La Criba (Don Toño)   46.0  24.180146 -104.548244\n",
            "2  Los Arroyos (Las Colonias)   35.0  23.691424 -105.032756\n",
            "3                La Esperanza   26.0  23.921388 -105.297257\n",
            "4    Los Caballos de Don Cruz   22.0  23.957366 -104.551930\n",
            "5                  Las Curras   18.0  24.011718 -104.468644\n"
          ]
        }
      ]
    },
    {
      "cell_type": "markdown",
      "source": [
        "Mostrar mapa por localidad. Se manda llamar la función *f_mostrar_mapa()* que muestra el mapa."
      ],
      "metadata": {
        "id": "fWErvOT7qGmO"
      }
    },
    {
      "cell_type": "code",
      "source": [
        "\n",
        "mapa = f_mostrar_mapa(datos_join)\n",
        "mapa"
      ],
      "metadata": {
        "colab": {
          "base_uri": "https://localhost:8080/",
          "height": 865
        },
        "id": "RZNHIXl4qIm_",
        "outputId": "9c115f5d-77f9-4f21-f393-4cc5d967459b"
      },
      "execution_count": 108,
      "outputs": [
        {
          "output_type": "execute_result",
          "data": {
            "text/plain": [
              "<folium.folium.Map at 0x7915f3bbdc90>"
            ],
            "text/html": [
              "<div style=\"width:100%;\"><div style=\"position:relative;width:100%;height:0;padding-bottom:60%;\"><span style=\"color:#565656\">Make this Notebook Trusted to load map: File -> Trust Notebook</span><iframe srcdoc=\"&lt;!DOCTYPE html&gt;\n",
              "&lt;html&gt;\n",
              "&lt;head&gt;\n",
              "    \n",
              "    &lt;meta http-equiv=&quot;content-type&quot; content=&quot;text/html; charset=UTF-8&quot; /&gt;\n",
              "    \n",
              "        &lt;script&gt;\n",
              "            L_NO_TOUCH = false;\n",
              "            L_DISABLE_3D = false;\n",
              "        &lt;/script&gt;\n",
              "    \n",
              "    &lt;style&gt;html, body {width: 100%;height: 100%;margin: 0;padding: 0;}&lt;/style&gt;\n",
              "    &lt;style&gt;#map {position:absolute;top:0;bottom:0;right:0;left:0;}&lt;/style&gt;\n",
              "    &lt;script src=&quot;https://cdn.jsdelivr.net/npm/leaflet@1.9.3/dist/leaflet.js&quot;&gt;&lt;/script&gt;\n",
              "    &lt;script src=&quot;https://code.jquery.com/jquery-1.12.4.min.js&quot;&gt;&lt;/script&gt;\n",
              "    &lt;script src=&quot;https://cdn.jsdelivr.net/npm/bootstrap@5.2.2/dist/js/bootstrap.bundle.min.js&quot;&gt;&lt;/script&gt;\n",
              "    &lt;script src=&quot;https://cdnjs.cloudflare.com/ajax/libs/Leaflet.awesome-markers/2.0.2/leaflet.awesome-markers.js&quot;&gt;&lt;/script&gt;\n",
              "    &lt;link rel=&quot;stylesheet&quot; href=&quot;https://cdn.jsdelivr.net/npm/leaflet@1.9.3/dist/leaflet.css&quot;/&gt;\n",
              "    &lt;link rel=&quot;stylesheet&quot; href=&quot;https://cdn.jsdelivr.net/npm/bootstrap@5.2.2/dist/css/bootstrap.min.css&quot;/&gt;\n",
              "    &lt;link rel=&quot;stylesheet&quot; href=&quot;https://netdna.bootstrapcdn.com/bootstrap/3.0.0/css/bootstrap.min.css&quot;/&gt;\n",
              "    &lt;link rel=&quot;stylesheet&quot; href=&quot;https://cdn.jsdelivr.net/npm/@fortawesome/fontawesome-free@6.2.0/css/all.min.css&quot;/&gt;\n",
              "    &lt;link rel=&quot;stylesheet&quot; href=&quot;https://cdnjs.cloudflare.com/ajax/libs/Leaflet.awesome-markers/2.0.2/leaflet.awesome-markers.css&quot;/&gt;\n",
              "    &lt;link rel=&quot;stylesheet&quot; href=&quot;https://cdn.jsdelivr.net/gh/python-visualization/folium/folium/templates/leaflet.awesome.rotate.min.css&quot;/&gt;\n",
              "    \n",
              "            &lt;meta name=&quot;viewport&quot; content=&quot;width=device-width,\n",
              "                initial-scale=1.0, maximum-scale=1.0, user-scalable=no&quot; /&gt;\n",
              "            &lt;style&gt;\n",
              "                #map_47140717c487ac7be711f5d2f75cfee6 {\n",
              "                    position: relative;\n",
              "                    width: 100.0%;\n",
              "                    height: 100.0%;\n",
              "                    left: 0.0%;\n",
              "                    top: 0.0%;\n",
              "                }\n",
              "                .leaflet-container { font-size: 1rem; }\n",
              "            &lt;/style&gt;\n",
              "        \n",
              "&lt;/head&gt;\n",
              "&lt;body&gt;\n",
              "    \n",
              "    \n",
              "            &lt;div class=&quot;folium-map&quot; id=&quot;map_47140717c487ac7be711f5d2f75cfee6&quot; &gt;&lt;/div&gt;\n",
              "        \n",
              "&lt;/body&gt;\n",
              "&lt;script&gt;\n",
              "    \n",
              "    \n",
              "            var map_47140717c487ac7be711f5d2f75cfee6 = L.map(\n",
              "                &quot;map_47140717c487ac7be711f5d2f75cfee6&quot;,\n",
              "                {\n",
              "                    center: [24.0, -104.5],\n",
              "                    crs: L.CRS.EPSG3857,\n",
              "                    zoom: 10,\n",
              "                    zoomControl: true,\n",
              "                    preferCanvas: false,\n",
              "                }\n",
              "            );\n",
              "\n",
              "            \n",
              "\n",
              "        \n",
              "    \n",
              "            var tile_layer_965a39f9d9a03897dbfc53b81f0c32f8 = L.tileLayer(\n",
              "                &quot;https://{s}.tile.openstreetmap.org/{z}/{x}/{y}.png&quot;,\n",
              "                {&quot;attribution&quot;: &quot;Data by \\u0026copy; \\u003ca target=\\&quot;_blank\\&quot; href=\\&quot;http://openstreetmap.org\\&quot;\\u003eOpenStreetMap\\u003c/a\\u003e, under \\u003ca target=\\&quot;_blank\\&quot; href=\\&quot;http://www.openstreetmap.org/copyright\\&quot;\\u003eODbL\\u003c/a\\u003e.&quot;, &quot;detectRetina&quot;: false, &quot;maxNativeZoom&quot;: 18, &quot;maxZoom&quot;: 18, &quot;minZoom&quot;: 0, &quot;noWrap&quot;: false, &quot;opacity&quot;: 1, &quot;subdomains&quot;: &quot;abc&quot;, &quot;tms&quot;: false}\n",
              "            ).addTo(map_47140717c487ac7be711f5d2f75cfee6);\n",
              "        \n",
              "    \n",
              "            var marker_919e420ca5e1f8ef6da93df8fb949ea5 = L.marker(\n",
              "                [24.023988, -104.670194],\n",
              "                {}\n",
              "            ).addTo(map_47140717c487ac7be711f5d2f75cfee6);\n",
              "        \n",
              "    \n",
              "        var popup_a08419eb6824d9a3a45a5e0b6cffdd00 = L.popup({&quot;maxWidth&quot;: &quot;100%&quot;});\n",
              "\n",
              "        \n",
              "            \n",
              "                var html_2c321f8cc9bb6ba8a9b793c18784c1d6 = $(`&lt;div id=&quot;html_2c321f8cc9bb6ba8a9b793c18784c1d6&quot; style=&quot;width: 100.0%; height: 100.0%;&quot;&gt;Victoria de Durango&lt;br&gt;n: 215.0&lt;/div&gt;`)[0];\n",
              "                popup_a08419eb6824d9a3a45a5e0b6cffdd00.setContent(html_2c321f8cc9bb6ba8a9b793c18784c1d6);\n",
              "            \n",
              "        \n",
              "\n",
              "        marker_919e420ca5e1f8ef6da93df8fb949ea5.bindPopup(popup_a08419eb6824d9a3a45a5e0b6cffdd00)\n",
              "        ;\n",
              "\n",
              "        \n",
              "    \n",
              "    \n",
              "            marker_919e420ca5e1f8ef6da93df8fb949ea5.bindTooltip(\n",
              "                `&lt;div&gt;\n",
              "                     Victoria de Durango\n",
              "                 &lt;/div&gt;`,\n",
              "                {&quot;sticky&quot;: true}\n",
              "            );\n",
              "        \n",
              "    \n",
              "            var marker_6d3c97c88766b6aa958ff4d4a24c760d = L.marker(\n",
              "                [24.180146, -104.548244],\n",
              "                {}\n",
              "            ).addTo(map_47140717c487ac7be711f5d2f75cfee6);\n",
              "        \n",
              "    \n",
              "        var popup_9f8d9e5f167008f0c434e86c22ab201c = L.popup({&quot;maxWidth&quot;: &quot;100%&quot;});\n",
              "\n",
              "        \n",
              "            \n",
              "                var html_56bb7494a7627ab6c8100868801e92c2 = $(`&lt;div id=&quot;html_56bb7494a7627ab6c8100868801e92c2&quot; style=&quot;width: 100.0%; height: 100.0%;&quot;&gt;La Criba (Don Toño)&lt;br&gt;n: 46.0&lt;/div&gt;`)[0];\n",
              "                popup_9f8d9e5f167008f0c434e86c22ab201c.setContent(html_56bb7494a7627ab6c8100868801e92c2);\n",
              "            \n",
              "        \n",
              "\n",
              "        marker_6d3c97c88766b6aa958ff4d4a24c760d.bindPopup(popup_9f8d9e5f167008f0c434e86c22ab201c)\n",
              "        ;\n",
              "\n",
              "        \n",
              "    \n",
              "    \n",
              "            marker_6d3c97c88766b6aa958ff4d4a24c760d.bindTooltip(\n",
              "                `&lt;div&gt;\n",
              "                     La Criba (Don Toño)\n",
              "                 &lt;/div&gt;`,\n",
              "                {&quot;sticky&quot;: true}\n",
              "            );\n",
              "        \n",
              "    \n",
              "            var marker_d2f5190687ed240794ede6fbdac2266e = L.marker(\n",
              "                [23.691424, -105.032756],\n",
              "                {}\n",
              "            ).addTo(map_47140717c487ac7be711f5d2f75cfee6);\n",
              "        \n",
              "    \n",
              "        var popup_339c640e6557fde568b96a994250b467 = L.popup({&quot;maxWidth&quot;: &quot;100%&quot;});\n",
              "\n",
              "        \n",
              "            \n",
              "                var html_d26d45f82c9774cff53ed8885c6a7337 = $(`&lt;div id=&quot;html_d26d45f82c9774cff53ed8885c6a7337&quot; style=&quot;width: 100.0%; height: 100.0%;&quot;&gt;Los Arroyos (Las Colonias)&lt;br&gt;n: 35.0&lt;/div&gt;`)[0];\n",
              "                popup_339c640e6557fde568b96a994250b467.setContent(html_d26d45f82c9774cff53ed8885c6a7337);\n",
              "            \n",
              "        \n",
              "\n",
              "        marker_d2f5190687ed240794ede6fbdac2266e.bindPopup(popup_339c640e6557fde568b96a994250b467)\n",
              "        ;\n",
              "\n",
              "        \n",
              "    \n",
              "    \n",
              "            marker_d2f5190687ed240794ede6fbdac2266e.bindTooltip(\n",
              "                `&lt;div&gt;\n",
              "                     Los Arroyos (Las Colonias)\n",
              "                 &lt;/div&gt;`,\n",
              "                {&quot;sticky&quot;: true}\n",
              "            );\n",
              "        \n",
              "    \n",
              "            var marker_dc8aa486a054986159d767aaa820ab71 = L.marker(\n",
              "                [23.921388, -105.297257],\n",
              "                {}\n",
              "            ).addTo(map_47140717c487ac7be711f5d2f75cfee6);\n",
              "        \n",
              "    \n",
              "        var popup_ec84a9a9ea6b8ea944f11f231af57994 = L.popup({&quot;maxWidth&quot;: &quot;100%&quot;});\n",
              "\n",
              "        \n",
              "            \n",
              "                var html_9d0956a78bd4883d2a621eeb87c2a4c6 = $(`&lt;div id=&quot;html_9d0956a78bd4883d2a621eeb87c2a4c6&quot; style=&quot;width: 100.0%; height: 100.0%;&quot;&gt;La Esperanza&lt;br&gt;n: 26.0&lt;/div&gt;`)[0];\n",
              "                popup_ec84a9a9ea6b8ea944f11f231af57994.setContent(html_9d0956a78bd4883d2a621eeb87c2a4c6);\n",
              "            \n",
              "        \n",
              "\n",
              "        marker_dc8aa486a054986159d767aaa820ab71.bindPopup(popup_ec84a9a9ea6b8ea944f11f231af57994)\n",
              "        ;\n",
              "\n",
              "        \n",
              "    \n",
              "    \n",
              "            marker_dc8aa486a054986159d767aaa820ab71.bindTooltip(\n",
              "                `&lt;div&gt;\n",
              "                     La Esperanza\n",
              "                 &lt;/div&gt;`,\n",
              "                {&quot;sticky&quot;: true}\n",
              "            );\n",
              "        \n",
              "    \n",
              "            var marker_02ed4f82612629fe0ab30deffcb34b4a = L.marker(\n",
              "                [23.957366, -104.55193],\n",
              "                {}\n",
              "            ).addTo(map_47140717c487ac7be711f5d2f75cfee6);\n",
              "        \n",
              "    \n",
              "        var popup_4b30e59e6213d91bfdd8cdebf45abe8f = L.popup({&quot;maxWidth&quot;: &quot;100%&quot;});\n",
              "\n",
              "        \n",
              "            \n",
              "                var html_5be029d449e81b264d16be5984a7f098 = $(`&lt;div id=&quot;html_5be029d449e81b264d16be5984a7f098&quot; style=&quot;width: 100.0%; height: 100.0%;&quot;&gt;Los Caballos de Don Cruz&lt;br&gt;n: 22.0&lt;/div&gt;`)[0];\n",
              "                popup_4b30e59e6213d91bfdd8cdebf45abe8f.setContent(html_5be029d449e81b264d16be5984a7f098);\n",
              "            \n",
              "        \n",
              "\n",
              "        marker_02ed4f82612629fe0ab30deffcb34b4a.bindPopup(popup_4b30e59e6213d91bfdd8cdebf45abe8f)\n",
              "        ;\n",
              "\n",
              "        \n",
              "    \n",
              "    \n",
              "            marker_02ed4f82612629fe0ab30deffcb34b4a.bindTooltip(\n",
              "                `&lt;div&gt;\n",
              "                     Los Caballos de Don Cruz\n",
              "                 &lt;/div&gt;`,\n",
              "                {&quot;sticky&quot;: true}\n",
              "            );\n",
              "        \n",
              "    \n",
              "            var marker_6a7c19880819a0c0f50e691921cf7772 = L.marker(\n",
              "                [24.011718, -104.468644],\n",
              "                {}\n",
              "            ).addTo(map_47140717c487ac7be711f5d2f75cfee6);\n",
              "        \n",
              "    \n",
              "        var popup_c14c0eb4240fa97766bead342680e932 = L.popup({&quot;maxWidth&quot;: &quot;100%&quot;});\n",
              "\n",
              "        \n",
              "            \n",
              "                var html_fe3688f8721a248539f14aa55751b869 = $(`&lt;div id=&quot;html_fe3688f8721a248539f14aa55751b869&quot; style=&quot;width: 100.0%; height: 100.0%;&quot;&gt;Las Curras&lt;br&gt;n: 18.0&lt;/div&gt;`)[0];\n",
              "                popup_c14c0eb4240fa97766bead342680e932.setContent(html_fe3688f8721a248539f14aa55751b869);\n",
              "            \n",
              "        \n",
              "\n",
              "        marker_6a7c19880819a0c0f50e691921cf7772.bindPopup(popup_c14c0eb4240fa97766bead342680e932)\n",
              "        ;\n",
              "\n",
              "        \n",
              "    \n",
              "    \n",
              "            marker_6a7c19880819a0c0f50e691921cf7772.bindTooltip(\n",
              "                `&lt;div&gt;\n",
              "                     Las Curras\n",
              "                 &lt;/div&gt;`,\n",
              "                {&quot;sticky&quot;: true}\n",
              "            );\n",
              "        \n",
              "&lt;/script&gt;\n",
              "&lt;/html&gt;\" style=\"position:absolute;width:100%;height:100%;left:0;top:0;border:none !important;\" allowfullscreen webkitallowfullscreen mozallowfullscreen></iframe></div></div>"
            ]
          },
          "metadata": {},
          "execution_count": 108
        }
      ]
    },
    {
      "cell_type": "markdown",
      "source": [
        "Ahora para cada localidad se hace un muestreo aleatorio simple o sistematizado\n",
        "\n"
      ],
      "metadata": {
        "id": "hTg3JJ_jliQQ"
      }
    },
    {
      "cell_type": "code",
      "source": [
        "# Pendiente\n",
        "# Pendiente"
      ],
      "metadata": {
        "id": "ypzbT8nwlkcD"
      },
      "execution_count": 101,
      "outputs": []
    },
    {
      "cell_type": "code",
      "source": [],
      "metadata": {
        "id": "zowYHFPxlnC4"
      },
      "execution_count": 101,
      "outputs": []
    },
    {
      "cell_type": "markdown",
      "source": [
        "# Interpretación\n",
        "\n",
        "* ¿Cómo se puede hacre un muestreo aleatorio simple?\n",
        "* ¿Cómo hacer un muestreo aleatorio sistematizado?\n",
        "* Para qué sirve la instrucción *np.random.seed(2024)?*\n",
        "\n"
      ],
      "metadata": {
        "id": "q9JX__vn_oan"
      }
    },
    {
      "cell_type": "markdown",
      "source": [
        "# Bibliografía\n",
        "\n",
        "* Anderson, David R., Dennis J. Sweeney, and Thomas A. Williams. 2008. Estadística Para Administración y Economía. 10th ed. Australia • Brasil • Corea • España • Estados Unidos • Japón • México • Reino Unido • Singapur: Cengage Learning,.\n",
        "\n",
        "* Lind, Douglas, William Marchal, and Samuel\n",
        "Wathen. 2015. Estadística Aplicada a Los Negocios y La Economía. Decimo Sexta. México, D.F.: McGraw-Hill."
      ],
      "metadata": {
        "id": "FuRccM11_p-J"
      }
    }
  ]
}