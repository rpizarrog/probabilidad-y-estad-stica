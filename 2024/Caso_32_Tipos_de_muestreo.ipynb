{
  "nbformat": 4,
  "nbformat_minor": 0,
  "metadata": {
    "colab": {
      "provenance": [],
      "authorship_tag": "ABX9TyNPCUru+U28braYuYRlC7Ro",
      "include_colab_link": true
    },
    "kernelspec": {
      "name": "python3",
      "display_name": "Python 3"
    },
    "language_info": {
      "name": "python"
    }
  },
  "cells": [
    {
      "cell_type": "markdown",
      "metadata": {
        "id": "view-in-github",
        "colab_type": "text"
      },
      "source": [
        "<a href=\"https://colab.research.google.com/github/rpizarrog/probabilidad-y-estad-stica/blob/master/2024/Caso_32_Tipos_de_muestreo.ipynb\" target=\"_parent\"><img src=\"https://colab.research.google.com/assets/colab-badge.svg\" alt=\"Open In Colab\"/></a>"
      ]
    },
    {
      "cell_type": "markdown",
      "source": [
        "# Objetivo\n",
        "\n",
        "Decribir la muestra conforme y de acuerdo al tipo de muestreo aleatorio.\n",
        "\n",
        "# Descripción\n",
        "\n",
        "Con un conjunto de datos utilizar mecanismos de programación para determinar muestreos mediante técnicas de aleatorio simple, aleatorio sistemático, aleatorio estratificado y por conglomerados.\n",
        "\n",
        "\n",
        "\n",
        "\n"
      ],
      "metadata": {
        "id": "IPnPKlMG_BVv"
      }
    },
    {
      "cell_type": "markdown",
      "source": [
        "# Fundamento teórico\n",
        "\n",
        "El propósito de la estadística inferencial consiste en determinar y conocer el comportamiento sobre una población a partir de una muestra.\n",
        "\n",
        "Una muestra es una porción, una proporción o parte de la población de interés. En muchos casos, el muestreo resulta más accesible y sencillo que el estudio de toda la población. (Lind, Marchal, and Wathen 2015).\n",
        "\n",
        "Por otra parte la importancia del muestreo como lo menciona (Anderson, Sweeney, and Williams 2008) es cuestión de minimizar costo de trabajo, recopilar información de una muestra es sustancialmente menor, que hacerlo de una población completa; especialmente cuando se deben realizar entrevistas personales para recopilar la información.\n",
        "\n",
        "Finamente, los métodos de muestreo aleatorio y sin sesgos son muy importantes para realizar inferencias estadísticas válidas (Lind, Marchal, and Wathen 2015).\n",
        "\n",
        "## Muestreo aleatorio simple\n",
        "\n",
        "Una muestra aleatoria simple de tamaño $n$\n",
        "de una población finita de tamaño $N$\n",
        "es una muestra seleccionada de manera que cada posible muestra de tamaño n\n",
        "tenga la misma probabilidad de ser seleccionada (Anderson, Sweeney, and Williams 2008).\n",
        "\n",
        "De un conjunto de $N$ elementos de una población, un muestreo aleatorio simple sería una especie de rifa o tómbola para elegir de de entre los $N$ total de población una cantidad de $n$ número de la muestra.\n",
        "\n",
        "## Muestreo aleatorio sistematizado\n",
        "\n",
        "Se selecciona un punto aleatorio de inicio y posteriormente se elige cada *k-ésimo* miembro de la población (Lind, Marchal, and Wathen 2015).\n",
        "\n",
        "Suele emplearse como alternativa al muestreo aleatorio simple, en especial cuando las poblaciones son grandes se lleva mucho tiempo tomar una muestra aleatoria simple en la que primero hay que hallar un número aleatorio y después contar o buscar en el marco el elemento correspondiente (Anderson, Sweeney, and Williams 2008).\n",
        "\n",
        "El primer elemento se elige aleatoriamente, lo que permite suponer que una muestra sistemática tiene las propiedades de una muestra aleatoria simple. Esta suposición suele ser correcta cuando el marco es un ordenamiento aleatorio de los elementos de la población (Anderson, Sweeney, and Williams 2008)\n",
        "\n",
        "\n",
        "## Muestreo estratificado\n",
        "\n",
        "Cuando una población se divide en grupos a partir de ciertas características, el muestreo aleatorio estratificado garantiza que cada grupo o estrato se encuentre representado en la muestra (Lind, Marchal, and Wathen 2015).\n",
        "\n",
        "(Anderson, Sweeney, and Williams 2008) describe el muestreo aleatorio estratificado en donde los elementos de la población primero se dividen en grupos, a los que se les llama estratos, de manera que cada elemento pertenezca a uno y sólo un estrato. La base para la formación de los estratos, que puede ser departamento, edad, tipo de industria, entre otros, está a discreción de la persona que diseña la muestra.\n",
        "\n",
        "Por otra parte, para asegurar que la muestra sea una representación imparcial de las N\n",
        "observaciones, se debe determinar la frecuencia relativa y a partir de ahí generar las cantidad de muestra de cada estrato. (Lind, Marchal, and Wathen 2015).\n",
        "\n",
        "## Muestreo por conglomerado\n",
        "\n",
        "La población se divide en conglomerados a partir de los límites naturales geográficos u otra clase. A continuación, estos se seleccionan al azar y se toma una muestra de forma aleatoria con elementos de cada grupo (Lind, Marchal, and Wathen 2015).\n",
        "\n",
        "\n"
      ],
      "metadata": {
        "id": "jyCQhAh__wzg"
      }
    },
    {
      "cell_type": "markdown",
      "source": [
        "# Desarrollo\n",
        "\n",
        "## Cargar librerías\n",
        "\n",
        "\n"
      ],
      "metadata": {
        "id": "X4V_TRy4_mzb"
      }
    },
    {
      "cell_type": "code",
      "source": [
        "import pandas as pd\n",
        "import numpy as np\n",
        "\n",
        "import random"
      ],
      "metadata": {
        "id": "TtY5fbuYCPBe"
      },
      "execution_count": 39,
      "outputs": []
    },
    {
      "cell_type": "markdown",
      "source": [
        "## Cargar funciones"
      ],
      "metadata": {
        "id": "-WLKkP_n3_eJ"
      }
    },
    {
      "cell_type": "code",
      "source": [
        "# Función que hace un muestreo sistematizado, recibe, tamaño de poblacion y de muestra\n",
        "# Aleatoriamente comienza en un valor numérico en el rango de la población\n",
        "\n",
        "def f_muestreo_sistematizado_ver1(N, n):\n",
        "    # Define el inicio y los saltos\n",
        "    inicio = np.random.randint(1, N)\n",
        "    saltos = int(np.round(N / n, 0))\n",
        "\n",
        "    indices = [0] * n\n",
        "    indices[0] = inicio\n",
        "    i = 1\n",
        "    while i < n:\n",
        "        indice = indices[i-1] + saltos\n",
        "        if indice <= N:\n",
        "            indices[i] = indice\n",
        "        else:\n",
        "            indices[i] = indice - N\n",
        "        i += 1\n",
        "\n",
        "    return indices\n",
        "\n",
        "# Esta función mejorada a la version  f_muestreo_sistematizado_ver1()\n",
        "# Recibe los datos y el tamaño de la muestra\n",
        "# Devuele los regisrtos aleatoriamente sistematizados y la muestra\n",
        "def f_muestreo_sistematizado_ver2(datos, n):\n",
        "    # Define el inicio y los saltos\n",
        "    inicio = np.random.randint(0, N-1)\n",
        "    saltos = int(np.round(N / n, 0))\n",
        "\n",
        "    indices = [0] * n\n",
        "    indices[0] = inicio\n",
        "    i = 1\n",
        "    while i < n:\n",
        "        indice = indices[i-1] + saltos\n",
        "        if indice <= N:\n",
        "            indices[i] = indice\n",
        "        else:\n",
        "            indices[i] = indice - N\n",
        "        i += 1\n",
        "\n",
        "    # Convertir a índices de Python (0-based). Porque los arreglos comienzan en 0\n",
        "    indices = [x - 1 for x in indices]\n",
        "\n",
        "    # Obtener la muestra usando los índices\n",
        "    muestra = datos.iloc[indices]\n",
        "\n",
        "    return indices, muestra"
      ],
      "metadata": {
        "id": "CbB6Dabp3bpo"
      },
      "execution_count": 112,
      "outputs": []
    },
    {
      "cell_type": "markdown",
      "source": [
        "## Cargar datos\n",
        "\n",
        "Se carga el conjunto de datos de personas del enlace https://raw.githubusercontent.com/rpizarrog/probabilidad-y-estad-stica/master/2024/datos/datos_alumnos_deportes.csv por medio de la librería pandas"
      ],
      "metadata": {
        "id": "DO7EdpLdCWZh"
      }
    },
    {
      "cell_type": "code",
      "source": [
        "datos_alumnos_deportes  = pd.read_csv(\"https://raw.githubusercontent.com/rpizarrog/probabilidad-y-estad-stica/master/2024/datos/datos_alumnos_deportes.csv\")\n",
        "print (datos_alumnos_deportes.head(10))\n",
        "print (datos_alumnos_deportes.tail(10))\n"
      ],
      "metadata": {
        "colab": {
          "base_uri": "https://localhost:8080/"
        },
        "id": "V93j-KY3CZ2R",
        "outputId": "82f8ce79-433a-4ff4-8b1f-3d68d9ce8d26"
      },
      "execution_count": 59,
      "outputs": [
        {
          "output_type": "stream",
          "name": "stdout",
          "text": [
            "   no    nombres sexo  futbol  basquetbol  voleybol  atletismo  ajedrez  tenis\n",
            "0   1     Adrián    M       1           0         1          1        1      0\n",
            "1   2    Adriana    F       1           1         0          0        0      0\n",
            "2   3    América    F       1           1         1          1        1      0\n",
            "3   4        Ana    F       0           0         0          0        0      0\n",
            "4   5      Angel    M       1           1         0          0        0      0\n",
            "5   6   Angélica    F       1           1         1          0        0      0\n",
            "6   7  Antonieta    F       0           0         0          0        0      1\n",
            "7   8    Antonio    M       0           0         0          0        0      0\n",
            "8   9    Aracely    F       0           0         0          0        0      1\n",
            "9  10    Arcelia    F       0           0         0          0        1      1\n",
            "     no   nombres sexo  futbol  basquetbol  voleybol  atletismo  ajedrez  \\\n",
            "90   91      Saul    M       1           0         1          0        0   \n",
            "91   92    Sotelo    M       0           0         1          1        0   \n",
            "92   93    Susana    F       0           0         0          0        0   \n",
            "93   94  Teobaldo    M       1           0         0          0        1   \n",
            "94   95    Teresa    F       0           0         0          0        0   \n",
            "95   96  Tiburcio    M       0           0         0          1        0   \n",
            "96   97  Verónica    F       1           1         1          0        0   \n",
            "97   98    Walter    F       1           1         0          0        0   \n",
            "98   99   Xóchitl    F       0           1         1          1        1   \n",
            "99  100      Yuri    F       1           0         0          0        0   \n",
            "\n",
            "    tenis  \n",
            "90      0  \n",
            "91      0  \n",
            "92      0  \n",
            "93      1  \n",
            "94      0  \n",
            "95      0  \n",
            "96      0  \n",
            "97      0  \n",
            "98      0  \n",
            "99      0  \n"
          ]
        }
      ]
    },
    {
      "cell_type": "markdown",
      "source": [
        "## Muestreo aleatorio simple\n",
        "\n",
        "De este conjunto de datos se desea hacer una muestra de 20 alumnos, entonces $n=20$. Aquí el tamaño de la muestra fue arbitrario pero en el caso 31 se calculan tamaños de muestra mediante fórmulas estadísticas descritas en ese caso.\n",
        "\n",
        "La pregunta es ¿cuáles elegir?. El muestreo aleatorio simple implica elegir por aleatoriedad o random.\n",
        "\n",
        "En *pynthon* un valor aleatorio sería usando una función como sample(), con el tamaño de la muestra *n* y tal vez un valor *random_state*.\n",
        "\n",
        "El argumento *random_state* como una semilla o un valor fijo (por ejemplo, 1), se garantiza que cada vez que se ejecute el código, se obtendrá la misma muestra aleatoria. Sin *random_state*, la muestra sería diferente en cada ejecución.\n"
      ],
      "metadata": {
        "id": "Hb0GnsfpC5QS"
      }
    },
    {
      "cell_type": "code",
      "source": [
        "# Realizar el muestreo aleatorio simple\n",
        "muestra = datos_alumnos_deportes.sample(n=20)\n",
        "print (muestra[['no', 'nombres', 'sexo']])"
      ],
      "metadata": {
        "colab": {
          "base_uri": "https://localhost:8080/"
        },
        "id": "ga8jU1PqD-U-",
        "outputId": "5004141d-8392-4c1d-d79f-07e95e4edf99"
      },
      "execution_count": 4,
      "outputs": [
        {
          "output_type": "stream",
          "name": "stdout",
          "text": [
            "    no    nombres sexo\n",
            "9   10    Arcelia    F\n",
            "52  53   Leonardo    M\n",
            "54  55    Lorenzo    M\n",
            "55  56      Lucía    F\n",
            "37  38    Gerardo    M\n",
            "29  30     Felipe    M\n",
            "10  11    Argelia    F\n",
            "94  95     Teresa    F\n",
            "13  14     Arturo    M\n",
            "60  61     Manuel    M\n",
            "77  78      Perla    F\n",
            "83  84    Rosario    F\n",
            "75  76       Paty    F\n",
            "47  48       Juan    M\n",
            "96  97   Verónica    F\n",
            "6    7  Antonieta    F\n",
            "0    1     Adrián    M\n",
            "93  94   Teobaldo    M\n",
            "45  46    Joaquín    M\n",
            "36  37  Gerardina    F\n"
          ]
        }
      ]
    },
    {
      "cell_type": "code",
      "source": [
        "muestra = datos_alumnos_deportes.sample(n=20, random_state=2024)  # random_state asegura la reproducibilidad\n",
        "print (muestra[['no', 'nombres', 'sexo']])"
      ],
      "metadata": {
        "colab": {
          "base_uri": "https://localhost:8080/"
        },
        "id": "x1zxsxz5ErOH",
        "outputId": "f3ceb4c5-d0d2-4d09-a35c-5cca727b93d1"
      },
      "execution_count": 23,
      "outputs": [
        {
          "output_type": "stream",
          "name": "stdout",
          "text": [
            "    no    nombres sexo\n",
            "35  36     Genaro    M\n",
            "19  20  Dagoberto    M\n",
            "26  27    Ernesto    M\n",
            "17  18     Carmen    F\n",
            "77  78      Perla    F\n",
            "24  25    Eraclio    M\n",
            "70  71    Orlando    M\n",
            "58  59      Luisa    F\n",
            "95  96   Tiburcio    M\n",
            "14  15       Bety    F\n",
            "91  92     Sotelo    M\n",
            "87  88     Sandra    F\n",
            "50  51       Lalo    M\n",
            "49  50      Julio    M\n",
            "21  22       Dany    F\n",
            "6    7  Antonieta    F\n",
            "16  17     Carlos    M\n",
            "5    6   Angélica    F\n",
            "15  16    Calixto    M\n",
            "34  35   Gabriela    F\n"
          ]
        }
      ]
    },
    {
      "cell_type": "markdown",
      "source": [
        "## Muestreo aleatorio sistematizado\n",
        "\n",
        "Del conjunto de datos *datos_alumnos_deportes* que tiene 100 registros se iniciará en un valor entero entre 1 y 100 considerando el atributo *no* que identiica a cada registro o alumno.\n",
        "\n",
        "Toda vez iniciado el siguiente registro será el valor inicial + el salto, y se repite el proceso. Si se llega al valor máximo de 100, el proceso continua con los valores empezando en 1.\n",
        "\n",
        "Se quiere una  muestra de tamanño $n=20$ de una poblacion de 100 observaciones. La sistematizada consiste en seleccionar el registro por decir arbitrariamente el 7 y los saltos es la relación que hay entre $N/n \\equiv 100/20 = 5$.\n",
        "\n",
        "La muestra incluye los valores {7, 12, 17, 22, 27, 32, 37, 42, 47, 52, 57, 62, 67, 72, 77, 82, 87, 92, 97, 2} que es lo correspondiene a:\n",
        "\n",
        "$$\n",
        "\\text{Inicia en 7 con saltos de 5 en 5}\\\\\n",
        "\\text{7 + 5 = 12}\\\\\n",
        "\\text{12 + 5 = 17}\\\\\n",
        "\\text{17 + 5 = 22}\\\\\n",
        "\\text{17 + 5 = 22}\\\\\n",
        "\\text{... ... ...}\\\\\n",
        "\\text{92 + 5 = 97}\\\\\n",
        "\\text{97 + 5 = 102}\\\\\n",
        "\\text{102 o sea el registro 2, se regresa}\n",
        "$$\n",
        "\n",
        "Se manda llamar la función *f_muestreo_sistematizado(datos, n)*, esta devuelve la lista de registros a seleccionar para crear una muestra.\n",
        "\n",
        "De los registros a seleccionar se impirme la lista y luego se accedo a cada uno de los registros que correspondan al atributo '*no*' del conjunto de datos *datos_alumnos_deportes*.\n",
        "\n",
        "\n",
        "Los datos en la muestra aparecen en orden conforme a la columna '*no*' de manera ascendente de tal forma que al observar la lista de los registros, estos mismos registros deben corresponder al valor del atributo '*no*'.\n",
        "\n",
        "Para este conjunto de datos la instrucción *datos_alumnos_deportes[datos_alumnos_deportes['no'].isin([index for index in registros])]* tiene efecto dado que hay una columna '*no*' en el conunto de datos; si no estuviera esta, habrpa que hacer ajustes al código.\n"
      ],
      "metadata": {
        "id": "_O8kRcGpFNSP"
      }
    },
    {
      "cell_type": "code",
      "source": [
        "# Semilla\n",
        "np.random.seed(2024) # Siempre y cuando se utilice np.random.() ..."
      ],
      "metadata": {
        "id": "1L3vNc74_lgl"
      },
      "execution_count": 115,
      "outputs": []
    },
    {
      "cell_type": "code",
      "source": [
        "N = len(datos_alumnos_deportes) # Tamaño de población\n",
        "n = 20 # Tamaño de muestra\n",
        "\n",
        "registros = f_muestreo_sistematizado_ver1(N, n)\n",
        "print (\"Los registros a seleccionar de la población para la muestra\")\n",
        "print (registros)\n",
        "print()\n",
        "\n",
        "# Acceder a los registros correspondientes en el DataFrame datos_alumnos_deportes que contiene el campo No\n",
        "# por el cual es como el número de registro o número de control de los alumnos\n",
        "muestra = datos_alumnos_deportes[datos_alumnos_deportes['no'].isin([index for index in registros])]\n",
        "print (muestra[['no', 'nombres', 'sexo']])\n"
      ],
      "metadata": {
        "colab": {
          "base_uri": "https://localhost:8080/"
        },
        "id": "kJWeLOWRF7XD",
        "outputId": "4c51aaa0-52e6-473d-fd0f-30104f4fc09d"
      },
      "execution_count": 116,
      "outputs": [
        {
          "output_type": "stream",
          "name": "stdout",
          "text": [
            "Los registros a seleccionar de la población para la muestra\n",
            "[9, 14, 19, 24, 29, 34, 39, 44, 49, 54, 59, 64, 69, 74, 79, 84, 89, 94, 99, 4]\n",
            "\n",
            "    no    nombres sexo\n",
            "3    4        Ana    F\n",
            "8    9    Aracely    F\n",
            "13  14     Arturo    M\n",
            "18  19   Consuelo    F\n",
            "23  24      Efren    M\n",
            "28  29   Federico    M\n",
            "33  34    Gabriel    M\n",
            "38  39   Giovanni    M\n",
            "43  44     Javier    M\n",
            "48  49    Julieta    F\n",
            "53  54    Liliana    F\n",
            "58  59      Luisa    F\n",
            "63  64  Margarito    M\n",
            "68  69     Miguel    M\n",
            "73  74       Paco    M\n",
            "78  79    Plácido    M\n",
            "83  84    Rosario    F\n",
            "88  89     Sandro    M\n",
            "93  94   Teobaldo    M\n",
            "98  99    Xóchitl    F\n"
          ]
        }
      ]
    },
    {
      "cell_type": "markdown",
      "source": [
        "Ahora mandar llamar la función *f_muestreo_sistematizado_ver2(datos, n)* que envía como argumentos los datos y el tamaño de la muestra.\n",
        "\n",
        "La función regresa los registros aleatoiamente sistematizados y la muestra"
      ],
      "metadata": {
        "id": "eU2p0vTb9Lj0"
      }
    },
    {
      "cell_type": "code",
      "source": [
        "registros, muestra = f_muestreo_sistematizado_ver2(datos_alumnos_deportes, n)\n",
        "print (\"Los registros a seleccionar de la población para la muestra\")\n",
        "print (registros)\n",
        "print()\n",
        "\n",
        "print (muestra[['no', 'nombres', 'sexo']])"
      ],
      "metadata": {
        "colab": {
          "base_uri": "https://localhost:8080/"
        },
        "id": "sI0vykUc9DYO",
        "outputId": "9ccdcc3e-eb0e-4cfe-e13b-c9581e7667da"
      },
      "execution_count": 103,
      "outputs": [
        {
          "output_type": "stream",
          "name": "stdout",
          "text": [
            "Los registros a seleccionar de la población para la muestra\n",
            "[96, 1, 6, 11, 16, 21, 26, 31, 36, 41, 46, 51, 56, 61, 66, 71, 76, 81, 86, 91]\n",
            "\n",
            "    no    nombres sexo\n",
            "96  97   Verónica    F\n",
            "1    2    Adriana    F\n",
            "6    7  Antonieta    F\n",
            "11  12    Armenia    F\n",
            "16  17     Carlos    M\n",
            "21  22       Dany    F\n",
            "26  27    Ernesto    M\n",
            "31  32   Fernando    M\n",
            "36  37  Gerardina    F\n",
            "41  42  Guillermo    M\n",
            "46  47      Jorge    M\n",
            "51  52      Laura    F\n",
            "56  57       Lucy    F\n",
            "61  62    Marcela    F\n",
            "66  67       Mary    F\n",
            "71  72      Oscar    M\n",
            "76  77      Pedro    M\n",
            "81  82   Romualdo    M\n",
            "86  87   Salvador    M\n",
            "91  92     Sotelo    M\n"
          ]
        }
      ]
    },
    {
      "cell_type": "markdown",
      "source": [
        "# Interpretación\n",
        "\n",
        "* ¿Cómo se puede hacre un muestreo aleatorio simple?\n",
        "* ¿Cómo hacer un muestreo aleatorio sistematizado?\n",
        "* Para qué sirve la instrucción *np.random.seed(2024)?*\n",
        "\n"
      ],
      "metadata": {
        "id": "q9JX__vn_oan"
      }
    },
    {
      "cell_type": "markdown",
      "source": [
        "# Bibliografía\n",
        "\n",
        "* Anderson, David R., Dennis J. Sweeney, and Thomas A. Williams. 2008. Estadística Para Administración y Economía. 10th ed. Australia • Brasil • Corea • España • Estados Unidos • Japón • México • Reino Unido • Singapur: Cengage Learning,.\n",
        "\n",
        "* Lind, Douglas, William Marchal, and Samuel\n",
        "Wathen. 2015. Estadística Aplicada a Los Negocios y La Economía. Decimo Sexta. México, D.F.: McGraw-Hill."
      ],
      "metadata": {
        "id": "FuRccM11_p-J"
      }
    }
  ]
}