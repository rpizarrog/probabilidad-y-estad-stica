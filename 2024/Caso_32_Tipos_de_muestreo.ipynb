{
  "nbformat": 4,
  "nbformat_minor": 0,
  "metadata": {
    "colab": {
      "provenance": [],
      "authorship_tag": "ABX9TyNrRBOUr+gWQsOFtfJUNifY",
      "include_colab_link": true
    },
    "kernelspec": {
      "name": "python3",
      "display_name": "Python 3"
    },
    "language_info": {
      "name": "python"
    }
  },
  "cells": [
    {
      "cell_type": "markdown",
      "metadata": {
        "id": "view-in-github",
        "colab_type": "text"
      },
      "source": [
        "<a href=\"https://colab.research.google.com/github/rpizarrog/probabilidad-y-estad-stica/blob/master/2024/Caso_32_Tipos_de_muestreo.ipynb\" target=\"_parent\"><img src=\"https://colab.research.google.com/assets/colab-badge.svg\" alt=\"Open In Colab\"/></a>"
      ]
    },
    {
      "cell_type": "code",
      "execution_count": null,
      "metadata": {
        "id": "9I7vHoM7--hB"
      },
      "outputs": [],
      "source": []
    },
    {
      "cell_type": "markdown",
      "source": [
        "# Objetivo\n",
        "\n",
        "Decribir la muestra conforme y de acuerdo al tipo de muestreo aleatorio.\n",
        "\n",
        "# Descripción\n",
        "\n",
        "Con un conjunto de datos utilizar mecanismos de programación para determinar muestreos mediante técnicas de aleatorio simple, aleatorio sistemático, aleatorio estratificado y por conglomerados.\n",
        "\n",
        "\n",
        "\n",
        "\n"
      ],
      "metadata": {
        "id": "IPnPKlMG_BVv"
      }
    },
    {
      "cell_type": "markdown",
      "source": [
        "# Fundamento teórico\n",
        "\n",
        "El propósito de la estadística inferencial consiste en determinar y conocer el comportamiento sobre una población a partir de una muestra.\n",
        "\n",
        "Una muestra es una porción, una proporción o parte de la población de interés. En muchos casos, el muestreo resulta más accesible y sencillo que el estudio de toda la población. (Lind, Marchal, and Wathen 2015).\n",
        "\n",
        "Por otra parte la importancia del muestreo como lo menciona (Anderson, Sweeney, and Williams 2008) es cuestión de minimizar costo de trabajo, recopilar información de una muestra es sustancialmente menor, que hacerlo de una población completa; especialmente cuando se deben realizar entrevistas personales para recopilar la información.\n",
        "\n",
        "Finamente, los métodos de muestreo aleatorio y sin sesgos son muy importantes para realizar inferencias estadísticas válidas (Lind, Marchal, and Wathen 2015).\n",
        "\n",
        "## Muestreo aleatorio simple\n",
        "\n",
        "Una muestra aleatoria simple de tamaño $n$\n",
        "de una población finita de tamaño $N$\n",
        "es una muestra seleccionada de manera que cada posible muestra de tamaño n\n",
        "tenga la misma probabilidad de ser seleccionada (Anderson, Sweeney, and Williams 2008).\n",
        "\n",
        "De un conjunto de $N$ elementos de una población, un muestreo aleatorio simple sería una especie de rifa o tómbola para elegir de de entre los $N$ total de población una cantidad de $n$ número de la muestra.\n",
        "\n",
        "## Muestreo aleatorio sistematizado\n",
        "\n",
        "Se selecciona un punto aleatorio de inicio y posteriormente se elige cada *k-ésimo* miembro de la población (Lind, Marchal, and Wathen 2015).\n",
        "\n",
        "Suele emplearse como alternativa al muestreo aleatorio simple, en especial cuando las poblaciones son grandes se lleva mucho tiempo tomar una muestra aleatoria simple en la que primero hay que hallar un número aleatorio y después contar o buscar en el marco el elemento correspondiente (Anderson, Sweeney, and Williams 2008).\n",
        "\n",
        "El primer elemento se elige aleatoriamente, lo que permite suponer que una muestra sistemática tiene las propiedades de una muestra aleatoria simple. Esta suposición suele ser correcta cuando el marco es un ordenamiento aleatorio de los elementos de la población (Anderson, Sweeney, and Williams 2008)\n",
        "\n",
        "\n",
        "## Muestreo estratificado\n",
        "\n",
        "Cuando una población se divide en grupos a partir de ciertas características, el muestreo aleatorio estratificado garantiza que cada grupo o estrato se encuentre representado en la muestra (Lind, Marchal, and Wathen 2015).\n",
        "\n",
        "(Anderson, Sweeney, and Williams 2008) describe el muestreo aleatorio estratificado en donde los elementos de la población primero se dividen en grupos, a los que se les llama estratos, de manera que cada elemento pertenezca a uno y sólo un estrato. La base para la formación de los estratos, que puede ser departamento, edad, tipo de industria, entre otros, está a discreción de la persona que diseña la muestra.\n",
        "\n",
        "Por otra parte, para asegurar que la muestra sea una representación imparcial de las N\n",
        "observaciones, se debe determinar la frecuencia relativa y a partir de ahí generar las cantidad de muestra de cada estrato. (Lind, Marchal, and Wathen 2015).\n",
        "\n",
        "## Muestreo por conglomerado\n",
        "\n",
        "La población se divide en conglomerados a partir de los límites naturales geográficos u otra clase. A continuación, estos se seleccionan al azar y se toma una muestra de forma aleatoria con elementos de cada grupo (Lind, Marchal, and Wathen 2015).\n",
        "\n",
        "\n"
      ],
      "metadata": {
        "id": "jyCQhAh__wzg"
      }
    },
    {
      "cell_type": "markdown",
      "source": [
        "# Desarrollo\n",
        "\n"
      ],
      "metadata": {
        "id": "X4V_TRy4_mzb"
      }
    },
    {
      "cell_type": "markdown",
      "source": [
        "# Interpretación\n",
        "\n"
      ],
      "metadata": {
        "id": "q9JX__vn_oan"
      }
    },
    {
      "cell_type": "markdown",
      "source": [
        "# Bibliografía\n",
        "\n"
      ],
      "metadata": {
        "id": "FuRccM11_p-J"
      }
    }
  ]
}