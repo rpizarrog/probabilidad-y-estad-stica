{
  "nbformat": 4,
  "nbformat_minor": 0,
  "metadata": {
    "colab": {
      "provenance": [],
      "authorship_tag": "ABX9TyMW8cqWD0Lx0cIiC2rRhl1b",
      "include_colab_link": true
    },
    "kernelspec": {
      "name": "python3",
      "display_name": "Python 3"
    },
    "language_info": {
      "name": "python"
    }
  },
  "cells": [
    {
      "cell_type": "markdown",
      "metadata": {
        "id": "view-in-github",
        "colab_type": "text"
      },
      "source": [
        "<a href=\"https://colab.research.google.com/github/rpizarrog/probabilidad-y-estad-stica/blob/master/2024/caso_prueba_declarar_variables_y_hola_mundo.ipynb\" target=\"_parent\"><img src=\"https://colab.research.google.com/assets/colab-badge.svg\" alt=\"Open In Colab\"/></a>"
      ]
    },
    {
      "cell_type": "markdown",
      "source": [
        "# Objetivo\n",
        "\n",
        "Declarar tres variables e imprimir en consola"
      ],
      "metadata": {
        "id": "Cm_QrUWRZ8IQ"
      }
    },
    {
      "cell_type": "markdown",
      "source": [
        "# Descripción\n",
        "\n",
        "Se crean tres variables a b y c, a cada una de ellas se les asignan los valores 10 20 y 30 repecticamnte\n",
        "\n",
        "Se imprimen los valores de las variables\n",
        "\n",
        "\n"
      ],
      "metadata": {
        "id": "3UVZlnS3aQRy"
      }
    },
    {
      "cell_type": "markdown",
      "source": [
        "# Desarrollo\n",
        "\n",
        "Pendiente..."
      ],
      "metadata": {
        "id": "--_mcfBTak5_"
      }
    },
    {
      "cell_type": "code",
      "source": [
        "a = 10\n",
        "b = 20\n",
        "c = 30\n",
        "x = 5\n",
        "print (\"Valor de a = \", a)\n",
        "print (\"Valor de b = \", b)\n",
        "print (\"Valor de c = \", c)\n",
        "print (\"Valor de x = \", x)"
      ],
      "metadata": {
        "colab": {
          "base_uri": "https://localhost:8080/"
        },
        "id": "XfkiPNlvcAK-",
        "outputId": "9dbe95d8-1f48-4dba-c9b4-c4ec0b624ce5"
      },
      "execution_count": null,
      "outputs": [
        {
          "output_type": "stream",
          "name": "stdout",
          "text": [
            "Valor de a =  10\n",
            "Valor de b =  20\n",
            "Valor de c =  30\n",
            "Valor de x =  5\n"
          ]
        }
      ]
    },
    {
      "cell_type": "code",
      "source": [
        "print(\"Hola mundo de Python estamos aprendiendo poco a poco\")"
      ],
      "metadata": {
        "colab": {
          "base_uri": "https://localhost:8080/"
        },
        "id": "PgwTNbC7eBcf",
        "outputId": "906896e6-c516-45f9-cc4e-5196e2f5e654"
      },
      "execution_count": null,
      "outputs": [
        {
          "output_type": "stream",
          "name": "stdout",
          "text": [
            "Hola mundo de Python estamos aprendiendo poco a poco\n"
          ]
        }
      ]
    },
    {
      "cell_type": "code",
      "source": [
        "\n"
      ],
      "metadata": {
        "id": "PnkaUoNNcHru"
      },
      "execution_count": null,
      "outputs": []
    },
    {
      "cell_type": "markdown",
      "source": [
        "# Interpretación\n",
        "\n",
        "Se declararron tres variables a b y c y luego una variable x, todas las varable son de tipo numerico.\n",
        "\n",
        "Se imprimieron las variables en pantalla\n",
        "\n",
        "Se imprimio un mensaje de saludos.\n",
        "\n"
      ],
      "metadata": {
        "id": "xtxgz0vManPr"
      }
    }
  ]
}