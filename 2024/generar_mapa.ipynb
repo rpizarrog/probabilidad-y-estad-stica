{
  "nbformat": 4,
  "nbformat_minor": 0,
  "metadata": {
    "colab": {
      "provenance": [],
      "authorship_tag": "ABX9TyM5n204ZE+wz79t6A4/Ktpw",
      "include_colab_link": true
    },
    "kernelspec": {
      "name": "python3",
      "display_name": "Python 3"
    },
    "language_info": {
      "name": "python"
    }
  },
  "cells": [
    {
      "cell_type": "markdown",
      "metadata": {
        "id": "view-in-github",
        "colab_type": "text"
      },
      "source": [
        "<a href=\"https://colab.research.google.com/github/rpizarrog/probabilidad-y-estad-stica/blob/master/2024/generar_mapa.ipynb\" target=\"_parent\"><img src=\"https://colab.research.google.com/assets/colab-badge.svg\" alt=\"Open In Colab\"/></a>"
      ]
    },
    {
      "cell_type": "code",
      "execution_count": 3,
      "metadata": {
        "id": "eyuzxclTD5rT"
      },
      "outputs": [],
      "source": [
        "import folium\n",
        "\n",
        "# Lista de pares de valores de latitud y longitud\n",
        "coordenadas = [\n",
        "    (19.4326, -99.1332),  # Ciudad de México\n",
        "    (40.7128, -74.0060),  # Nueva York\n",
        "    (51.5074, -0.1278),   # Londres\n",
        "    (35.6895, 139.6917)   # Tokio\n",
        "]\n",
        "\n",
        "# Crear un mapa centrado en la primera ubicación\n",
        "mapa = folium.Map(location=coordenadas[0], zoom_start=5)\n",
        "\n",
        "# Agregar marcadores y etiquetas para cada ubicación\n",
        "for i, (lat, lon) in enumerate(coordenadas, start=1):\n",
        "    folium.Marker(location=[lat, lon], popup=f\"Ubicación {i}\").add_to(mapa)\n",
        "\n",
        "# Guardar el mapa como un archivo HTML\n",
        "mapa.save(\"mapa_localizaciones.html\")\n"
      ]
    },
    {
      "cell_type": "code",
      "source": [
        "from IPython.display import IFrame\n",
        "\n",
        "# Mostrar el archivo HTML en Google Colab\n",
        "IFrame(src='mapa_localizaciones.html', width='100%', height=500)\n"
      ],
      "metadata": {
        "colab": {
          "base_uri": "https://localhost:8080/",
          "height": 521
        },
        "id": "gDRg96W9D87x",
        "outputId": "4c0f5d80-da9f-48a9-fff7-085c9e850368"
      },
      "execution_count": 4,
      "outputs": [
        {
          "output_type": "execute_result",
          "data": {
            "text/plain": [
              "<IPython.lib.display.IFrame at 0x7fa11821d360>"
            ],
            "text/html": [
              "\n",
              "        <iframe\n",
              "            width=\"100%\"\n",
              "            height=\"500\"\n",
              "            src=\"mapa_localizaciones.html\"\n",
              "            frameborder=\"0\"\n",
              "            allowfullscreen\n",
              "            \n",
              "        ></iframe>\n",
              "        "
            ]
          },
          "metadata": {},
          "execution_count": 4
        }
      ]
    }
  ]
}