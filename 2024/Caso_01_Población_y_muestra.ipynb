{
  "nbformat": 4,
  "nbformat_minor": 0,
  "metadata": {
    "colab": {
      "provenance": [],
      "authorship_tag": "ABX9TyPGo/2oodm4MSTXFEd24KSS",
      "include_colab_link": true
    },
    "kernelspec": {
      "name": "python3",
      "display_name": "Python 3"
    },
    "language_info": {
      "name": "python"
    }
  },
  "cells": [
    {
      "cell_type": "markdown",
      "metadata": {
        "id": "view-in-github",
        "colab_type": "text"
      },
      "source": [
        "<a href=\"https://colab.research.google.com/github/rpizarrog/probabilidad-y-estad-stica/blob/master/2024/Caso_01_Poblaci%C3%B3n_y_muestra.ipynb\" target=\"_parent\"><img src=\"https://colab.research.google.com/assets/colab-badge.svg\" alt=\"Open In Colab\"/></a>"
      ]
    },
    {
      "cell_type": "markdown",
      "source": [
        "# Población y muestra\n",
        "\n",
        "## Objetivo\n",
        "\n",
        "Simular datos de una población y de una muestra que representan promedios de calificaciones describiendo los parámetros y estadísticos más importantes para su adecuada interpretación.\n",
        "\n"
      ],
      "metadata": {
        "id": "dADMTFvwg0aD"
      }
    },
    {
      "cell_type": "markdown",
      "source": [
        "## Fundamento teórico\n",
        "\n",
        "La estadística como disciplina enseña a realizar juicios inteligentes y tomar decisiones informadas ante la presencia de incertidumbre y variación. Sin estas, habría poca necesidad de métodos estadísticos o de profesionales en estadística.\n",
        "\n",
        "La estadística ofrece no sólo métodos para analizar resultados de experimentos una vez que se han realizado, sino que también ofrece sugerencias y datos sobre cómo pueden llevarse a cabo los experimentos de una manera eficiente para disminuir los efectos de la variación y tener una mejor oportunidad de llegar a conclusiones y decisiones acertadas y correctas. (Devore, 2018)\n",
        "\n",
        "La estadística es una rama de las matemáticas que tiene aplicaciones en cada aspecto, suceso, evento, situación de la vida y de la interacción de personas, cosas, procesos, y hechos. Todo esto genera datos. (Mendenhall, Beaver, & Beaver, 2010).\n",
        "\n",
        "El uso de métodos estadísticos en la industria, el desarrollo de productos, comercio, servicios, educación, gobierno, deporte, agricultura, salud, biología, industria del software para computadoras, entre otras áreas, implican el acopio de información o datos científicos. (Walpole, Myers, Myers, & Ye, 2007).\n",
        "\n",
        "La información que se utiliza para aplicar técnicas estadísticas se colecta en forma de muestras o conjuntos de observaciones. Las muestras se reúnen a partir de poblaciones, que son conjuntos de todos los individuos o elementos individuales de un tipo específico. (Walpole R. , Myers, Myers, & Ye, 2012).\n",
        "\n",
        "En el lenguaje de la estadística, uno de los conceptos más elementales es el muestreo. En casi todos los problemas de estadística, un número especificado de mediciones o datos, es decir, una muestra, se toma de un cuerpo de mediciones más grande llamado población.\n",
        "\n",
        "La imagen siguiente identifica a una población de personas y una muestra que es una representación o parte de esa población y se eligen a través de un método de muestreo.\n",
        "\n",
        "\n",
        "\n",
        "\n",
        "\n",
        "\n"
      ],
      "metadata": {
        "id": "n5CONRFTOfW9"
      }
    },
    {
      "cell_type": "markdown",
      "source": [
        "Imagen de github.com: https://github.com/rpizarrog/probabilidad-y-estad-stica/blob/master/2024/imagenes/Poblacion_y_Muestra.png\n",
        "\n"
      ],
      "metadata": {
        "id": "iFTy1guXvxXh"
      }
    },
    {
      "cell_type": "markdown",
      "source": [
        "\n",
        "\n",
        "<figure style=\"text-align: center;\">\n",
        "  <img src=\"https://raw.githubusercontent.com/rpizarrog/probabilidad-y-estad-stica/master/2024/imagenes/Poblacion_y_Muestra.png\" alt=\"Población y Muestra\" title=\"Representación de Población y Muestra\" width=\"500\" height=\"300\">\n",
        "  <figcaption>\n",
        "    Población y Muestra. Fuente: <cite>OpenAI, 2024</cite>.\n",
        "  </figcaption>\n",
        "</figure>\n"
      ],
      "metadata": {
        "id": "cEat2BLjv6hE"
      }
    },
    {
      "cell_type": "markdown",
      "source": [
        "## Desarrollo\n",
        "\n",
        "### Cargar librerías\n",
        "\n",
        "Se cargan las librerías adecuadas y con la función *rnd.seed(2024)* se le indica al procesador que los datos aleatorios sean iguales al volver a ejecutar el código."
      ],
      "metadata": {
        "id": "fj3ZvUJ-hnCL"
      }
    },
    {
      "cell_type": "code",
      "source": [
        "# Cargar librerías\n",
        "\n",
        "import random as rnd # Para generar números aleatorios\n",
        "import numpy as np # Para estructuras de datos\n",
        "from collections import Counter as Counter\n",
        "import statistics as sta # paes estadisticos\n",
        "import matplotlib.pyplot as plt # para graficar\n",
        "\n",
        "rnd.seed(2024) # Semilla para valores aleatorios"
      ],
      "metadata": {
        "id": "L8sxEBB8hZO4"
      },
      "execution_count": null,
      "outputs": []
    },
    {
      "cell_type": "markdown",
      "source": [
        "### Crear funciones\n",
        "\n",
        "Se construyen las funciones personalizadas para la ejecución del caso.\n"
      ],
      "metadata": {
        "id": "4KQq_KtdKPxK"
      }
    },
    {
      "cell_type": "code",
      "source": [
        "# Función que recibe unos datos y devuelve el estaístico mayor y menor\n",
        "def f_menor_mayor(numeros):\n",
        "  # Encontrar el número mayor y el número menor y mayor\n",
        "  mayor = np.max(numeros)\n",
        "  menor = np.min(numeros)\n",
        "  return menor, mayor\n",
        "\n",
        "# Función que recibe unos datos y devuelve los estadíscitos\n",
        "# media, mediana y moda y la cantidad de datos\n",
        "def f_media_moda_mediana_n(numeros):\n",
        "  # Calcular la media aritmética\n",
        "  media = np.round(sum(numeros) / len(numeros), 4)\n",
        "\n",
        "  # Calcular la moda\n",
        "  contador = Counter(numeros)\n",
        "  moda = contador.most_common(1)[0][0]\n",
        "\n",
        "  # Calcular la mediana\n",
        "  mediana = sta.median(numeros)\n",
        "\n",
        "  # ¿Cuántos números son?\n",
        "  n = len(numeros)\n",
        "  return media, moda, mediana, n\n",
        "\n",
        "# Función que construye un histograma, a partir de los datos de entrada y su contexto\n",
        "def f_histograma(datos, contexto):\n",
        "  plt.hist(poblacion, bins=range(min, max, 2), edgecolor=\"black\")\n",
        "  plt.xlabel(contexto)\n",
        "\n",
        "  # Agregar líneas punteadas roja, azul y verde para representar media, mediana y moda\n",
        "  media, moda, mediana, N = f_media_moda_mediana_n(datos)\n",
        "  plt.axvline(x=media, color='red', linestyle='--', linewidth=2, label=f'Media: {media:.4f}')\n",
        "  plt.axvline(x=mediana, color='blue', linestyle='--', linewidth=2, label=f'Mediana: {mediana:.4f}')\n",
        "  plt.axvline(x=moda, color='yellow', linestyle='--', linewidth=2, label=f'Moda: {moda:.4f}')\n",
        "\n",
        "  plt.ylabel(\"Frecuencia\")\n",
        "  plt.title(\"Distribución de los datos: \"+contexto)\n",
        "\n",
        "  plt.legend()\n",
        "  plt.grid(False)\n",
        "  plt.show()"
      ],
      "metadata": {
        "id": "5G50K1nXKRzR"
      },
      "execution_count": null,
      "outputs": []
    },
    {
      "cell_type": "markdown",
      "source": [
        "### Generando población de promedios escolares\n",
        "\n",
        "La variable población es una lista que contienen 650 elementos generados aleatorioamente y represnta la población de la variable de interés promedio escolar.\n"
      ],
      "metadata": {
        "id": "EUPT7sq6mLGO"
      }
    },
    {
      "cell_type": "code",
      "source": [
        "# Generar una lista de N = 650 números aleatorios en el rango de 70 a 100\n",
        "min = 70\n",
        "max = 100\n",
        "N = 650\n",
        "poblacion = [rnd.randint(min, max) for _ in range(N)]\n",
        "print(poblacion)\n"
      ],
      "metadata": {
        "id": "bRvrG7tzIoXI",
        "outputId": "4a8ba4bf-697c-49ea-c9f5-c01038e32851",
        "colab": {
          "base_uri": "https://localhost:8080/"
        }
      },
      "execution_count": null,
      "outputs": [
        {
          "output_type": "stream",
          "name": "stdout",
          "text": [
            "[85, 75, 93, 88, 79, 76, 98, 93, 83, 94, 92, 94, 78, 87, 77, 90, 96, 93, 85, 81, 83, 86, 93, 89, 100, 76, 79, 87, 92, 80, 86, 72, 93, 94, 97, 76, 92, 94, 93, 84, 99, 92, 96, 97, 90, 74, 87, 76, 97, 83, 71, 94, 81, 90, 83, 84, 73, 93, 93, 74, 94, 80, 82, 80, 81, 95, 76, 80, 83, 83, 80, 88, 76, 98, 97, 83, 77, 76, 71, 93, 77, 94, 70, 97, 78, 97, 86, 80, 94, 100, 88, 95, 92, 83, 89, 73, 80, 97, 90, 89, 94, 77, 77, 84, 81, 74, 76, 81, 85, 89, 96, 90, 74, 78, 82, 89, 80, 80, 100, 92, 92, 84, 97, 75, 91, 92, 94, 97, 74, 80, 99, 76, 88, 91, 72, 73, 100, 96, 75, 70, 98, 74, 84, 92, 77, 81, 77, 72, 76, 95, 79, 77, 92, 84, 89, 78, 85, 86, 98, 83, 91, 83, 76, 96, 72, 79, 79, 78, 74, 88, 91, 93, 78, 86, 73, 85, 76, 98, 76, 95, 82, 75, 86, 97, 77, 80, 81, 94, 92, 98, 95, 71, 88, 98, 99, 91, 87, 82, 99, 93, 93, 100, 90, 72, 73, 77, 71, 86, 74, 100, 96, 76, 99, 90, 89, 99, 72, 100, 86, 75, 77, 85, 88, 95, 93, 75, 75, 72, 74, 89, 73, 95, 100, 89, 87, 95, 89, 90, 70, 89, 73, 87, 75, 87, 92, 80, 70, 73, 78, 70, 75, 71, 73, 90, 97, 89, 91, 89, 93, 76, 88, 76, 90, 76, 84, 75, 85, 80, 78, 93, 84, 90, 84, 96, 92, 95, 96, 76, 82, 88, 97, 84, 97, 83, 89, 92, 74, 98, 76, 75, 79, 82, 76, 94, 75, 81, 84, 91, 70, 73, 80, 91, 70, 94, 77, 94, 86, 83, 91, 71, 76, 89, 84, 87, 85, 87, 95, 71, 83, 80, 70, 86, 80, 87, 98, 100, 98, 78, 91, 93, 75, 77, 89, 73, 96, 95, 97, 83, 72, 100, 98, 74, 75, 70, 97, 80, 79, 100, 99, 78, 85, 75, 81, 96, 84, 99, 83, 100, 85, 89, 80, 75, 71, 94, 73, 73, 81, 83, 90, 100, 75, 86, 92, 73, 71, 91, 83, 98, 70, 95, 99, 98, 100, 78, 77, 73, 80, 87, 97, 88, 74, 76, 88, 88, 73, 83, 73, 100, 89, 92, 92, 78, 83, 87, 75, 94, 77, 100, 70, 86, 73, 76, 82, 87, 88, 83, 84, 88, 95, 75, 96, 90, 99, 77, 87, 99, 94, 79, 98, 96, 78, 88, 81, 84, 90, 73, 82, 82, 94, 79, 80, 86, 86, 77, 77, 96, 94, 95, 81, 77, 83, 95, 84, 88, 79, 79, 100, 91, 91, 99, 76, 84, 90, 87, 71, 78, 82, 96, 90, 76, 78, 83, 86, 74, 90, 80, 79, 92, 87, 95, 100, 74, 94, 72, 86, 77, 84, 89, 78, 79, 77, 90, 86, 82, 93, 79, 100, 75, 100, 98, 99, 100, 85, 95, 81, 100, 70, 89, 90, 82, 92, 72, 94, 93, 98, 74, 73, 83, 89, 80, 76, 94, 100, 100, 72, 94, 88, 78, 71, 95, 90, 94, 78, 91, 97, 86, 76, 100, 97, 95, 83, 75, 76, 92, 85, 96, 78, 72, 84, 73, 73, 88, 78, 74, 93, 82, 95, 88, 96, 90, 73, 77, 94, 88, 77, 75, 79, 90, 98, 74, 96, 92, 99, 95, 82, 91, 73, 74, 80, 83, 80, 90, 92, 80, 87, 96, 94, 77, 70, 89, 78, 82, 74, 88, 78, 75, 86, 95, 98, 78, 76, 98, 98, 87, 74, 92, 83, 93, 87, 76, 74, 96, 74, 91, 92, 77, 78, 70, 90, 89, 91, 73, 83, 86, 83, 71, 85, 74, 78, 92, 81, 84, 81, 79, 85, 98, 91, 88, 84, 99, 87, 90, 71, 91, 99, 79, 75, 82, 90, 98]\n"
          ]
        }
      ]
    },
    {
      "cell_type": "markdown",
      "source": [
        "### Media aritmética de la población.\n",
        "\n",
        "El valor de la cualquier medida estadística de una poblacón se llama parámetro. La media aritmética es el promedio de los datos.\n",
        "\n",
        "$$\n",
        "\\mu = \\sum_{i=1}^{N}=\\frac{x_i}{N}=\\frac{x_1+x_2+x_3+ ... x_{650}}{650}\n",
        "$$\n",
        "\n",
        "\n"
      ],
      "metadata": {
        "id": "lvy3ywyli6ls"
      }
    },
    {
      "cell_type": "code",
      "source": [
        "promedio = sum(poblacion) / 650\n",
        "print(promedio)"
      ],
      "metadata": {
        "colab": {
          "base_uri": "https://localhost:8080/"
        },
        "id": "44SZVlqtjuyF",
        "outputId": "12740599-e308-430c-ccae-34f262467b3c"
      },
      "execution_count": null,
      "outputs": [
        {
          "output_type": "stream",
          "name": "stdout",
          "text": [
            "85.25076923076924\n"
          ]
        }
      ]
    },
    {
      "cell_type": "code",
      "source": [
        "# Calcular la media o el promedio utilizando NumPy y la función mean()\n",
        "media_poblacion = np.mean(poblacion)\n",
        "print (media_poblacion)\n"
      ],
      "metadata": {
        "colab": {
          "base_uri": "https://localhost:8080/"
        },
        "id": "nMgZQbuulPW1",
        "outputId": "e16ffd64-eba3-4c07-bcbf-3f3e54fee81b"
      },
      "execution_count": null,
      "outputs": [
        {
          "output_type": "stream",
          "name": "stdout",
          "text": [
            "85.25076923076924\n"
          ]
        }
      ]
    },
    {
      "cell_type": "markdown",
      "source": [
        "### Parámetros de población\n",
        "\n",
        "Describir los datos llamando las funciones preparadas\n",
        "\n",
        "La función *f_media_moda_mediana_n(poblacion)* devuelve los parámetros de máximo, mínimo, media aritmética, moda, mediana, y el valor de N."
      ],
      "metadata": {
        "id": "9JhtZI2qx_Pn"
      }
    },
    {
      "cell_type": "code",
      "source": [
        "print (\"Los parámetros de la población\")\n",
        "# Menor Mayor\n",
        "menor, mayor = f_menor_mayor(poblacion)\n",
        "print (\"El número menor es:\", menor)\n",
        "print (\"El número mayor es:\", mayor)\n",
        "\n",
        "# Media, moda, mediana y N\n",
        "\n",
        "media, moda, mediana, N = f_media_moda_mediana_n(poblacion)\n",
        "print (\"La media aritmética es:\", media)\n",
        "print (\"La moda es es:\", moda)\n",
        "print (\"La mediana es:\", mediana)\n",
        "print (\"La cantidad de datos son:\", N)\n",
        "\n"
      ],
      "metadata": {
        "colab": {
          "base_uri": "https://localhost:8080/"
        },
        "id": "wYcxn9nQr3PQ",
        "outputId": "454de4a1-f6cf-4042-d449-4b24964ac8b4"
      },
      "execution_count": null,
      "outputs": [
        {
          "output_type": "stream",
          "name": "stdout",
          "text": [
            "Los parámetros de la población\n",
            "El número menor es: 70\n",
            "El número mayor es: 100\n",
            "La media aritmética es: 85.2508\n",
            "La moda es es: 76\n",
            "La mediana es: 85.0\n",
            "La cantidad de datos son: 650\n"
          ]
        }
      ]
    },
    {
      "cell_type": "markdown",
      "source": [
        "### Visualizando histograma de la población\n",
        "\n",
        "Al mandar llamar la función *f_histograma(poblacion, \"Promedio escolar\")* se construye el histograma que representa la distribución de los datos, además, con lineas punteadas se identifican los parámetros de la media aritmética, la mediana y la moda de los datos.\n"
      ],
      "metadata": {
        "id": "t3vSwMmR3dyQ"
      }
    },
    {
      "cell_type": "code",
      "source": [
        "f_histograma(poblacion, \"Promedio escolar\")"
      ],
      "metadata": {
        "colab": {
          "base_uri": "https://localhost:8080/",
          "height": 472
        },
        "id": "D3iod5Bc3g9Q",
        "outputId": "c611b95a-9821-4df6-c6db-c5151f4002af"
      },
      "execution_count": null,
      "outputs": [
        {
          "output_type": "display_data",
          "data": {
            "text/plain": [
              "<Figure size 640x480 with 1 Axes>"
            ],
            "image/png": "[encoded data removed]"
          },
          "metadata": {}
        }
      ]
    },
    {
      "cell_type": "markdown",
      "source": [
        "### Generando una muestra\n",
        "\n",
        "Se extrae una muestra del 10% a partir de datos de la población.\n",
        "\n",
        "Con la función de pyhton *rnd.sample(poblacion, n)* se construye la muestra de tamaño $n$.\n",
        "\n"
      ],
      "metadata": {
        "id": "cgK8nCLqmdHE"
      }
    },
    {
      "cell_type": "code",
      "source": [
        "n = int(N * 0.10)\n",
        "print (\"Cantidad de datos de la muetra\", n)\n",
        "muestra = rnd.sample(poblacion, n)\n",
        "print(muestra)"
      ],
      "metadata": {
        "colab": {
          "base_uri": "https://localhost:8080/"
        },
        "id": "9ZgZKX7gm9zd",
        "outputId": "323411af-2cac-45b4-be38-6ec513de9e54"
      },
      "execution_count": null,
      "outputs": [
        {
          "output_type": "stream",
          "name": "stdout",
          "text": [
            "Cantidad de datos de la muetra 65\n",
            "[94, 96, 77, 93, 93, 83, 84, 99, 73, 100, 96, 92, 87, 87, 90, 87, 90, 97, 85, 71, 84, 95, 93, 76, 91, 77, 71, 84, 86, 99, 100, 76, 95, 89, 94, 90, 75, 74, 99, 97, 76, 92, 92, 70, 91, 84, 100, 88, 79, 86, 93, 84, 97, 84, 77, 94, 76, 82, 85, 89, 100, 79, 78, 78, 98]\n"
          ]
        }
      ]
    },
    {
      "cell_type": "markdown",
      "source": [
        "Estadísiticos de la muestra media aritmética\n",
        "\n",
        "$$\n",
        "\\bar{x}=\\sum_{i=1}^{n}= \\frac{x_i}{n}\n",
        "$$\n"
      ],
      "metadata": {
        "id": "ZMpnZO7dnCRM"
      }
    },
    {
      "cell_type": "code",
      "source": [
        "promedio_muestra = sum(muestra) / (n)\n",
        "print(promedio_muestra)\n"
      ],
      "metadata": {
        "colab": {
          "base_uri": "https://localhost:8080/"
        },
        "id": "2v129lv1nGcc",
        "outputId": "67b37034-1dca-49b7-d0ea-42d0ff3c803b"
      },
      "execution_count": null,
      "outputs": [
        {
          "output_type": "stream",
          "name": "stdout",
          "text": [
            "85.67692307692307\n"
          ]
        }
      ]
    },
    {
      "cell_type": "code",
      "source": [
        "print(np.mean(muestra))"
      ],
      "metadata": {
        "colab": {
          "base_uri": "https://localhost:8080/"
        },
        "id": "0TeU0ZthnaLm",
        "outputId": "723bbf18-3e8a-4676-a5f6-f1ec4873b28d"
      },
      "execution_count": null,
      "outputs": [
        {
          "output_type": "stream",
          "name": "stdout",
          "text": [
            "85.67692307692307\n"
          ]
        }
      ]
    },
    {
      "cell_type": "markdown",
      "source": [
        "### Estadísticos de la muestra\n",
        "\n",
        "Se generan los estadísticos de la muestra, llamando a la función *f_media_moda_mediana_n(muestra)*"
      ],
      "metadata": {
        "id": "9Cnedkw6zITp"
      }
    },
    {
      "cell_type": "code",
      "source": [
        "print (\"Los estadísticos de la muestra\")\n",
        "# Menor Mayor\n",
        "menor, mayor = f_menor_mayor(muestra)\n",
        "print (\"El número menor es:\", menor)\n",
        "print (\"El número mayor es:\", mayor)\n",
        "\n",
        "# Media, moda, mediana y N\n",
        "\n",
        "media, moda, mediana, N = f_media_moda_mediana_n(muestra)\n",
        "print (\"La media aritmética es:\", media)\n",
        "print (\"La moda es es:\", moda)\n",
        "print (\"La mediana es:\", mediana)\n",
        "print (\"La cantidad de datos son:\", N)"
      ],
      "metadata": {
        "colab": {
          "base_uri": "https://localhost:8080/"
        },
        "id": "NjLNp2BtzNkY",
        "outputId": "205e36e7-d11e-454c-ea17-02e1f6f55b30"
      },
      "execution_count": null,
      "outputs": [
        {
          "output_type": "stream",
          "name": "stdout",
          "text": [
            "Los estadísticos de la muestra\n",
            "El número menor es: 70\n",
            "El número mayor es: 100\n",
            "La media aritmética es: 85.67692307692307\n",
            "La moda es es: 92\n",
            "La mediana es: 86\n",
            "La cantidad de datos son: 65\n"
          ]
        }
      ]
    },
    {
      "cell_type": "markdown",
      "source": [
        "### Visualizar histograma de la muestra\n",
        "\n",
        "Nuevamente, al mandar llamar la función *f_histograma(muestra, \"Promedio escolar\")* e construye el histograma que representa la distribución de los datos incluyendo los estadísticos de la media aritmética, la mediana y la moda.\n"
      ],
      "metadata": {
        "id": "BSUn3Hcj5OWk"
      }
    },
    {
      "cell_type": "code",
      "source": [
        "# Crear un histograma de la muestra de edades\n",
        "\n",
        "f_histograma(muestra, \"Promedio escolar\")"
      ],
      "metadata": {
        "colab": {
          "base_uri": "https://localhost:8080/",
          "height": 472
        },
        "id": "hhpeft3G5Ryz",
        "outputId": "2b3ed841-5499-4e13-8811-40c5e97e65f6"
      },
      "execution_count": null,
      "outputs": [
        {
          "output_type": "display_data",
          "data": {
            "text/plain": [
              "<Figure size 640x480 with 1 Axes>"
            ],
            "image/png": "[encoded data removed]"
          },
          "metadata": {}
        }
      ]
    },
    {
      "cell_type": "markdown",
      "source": [
        "\n",
        "## Interpretación\n",
        "\n",
        "Se construyó una población de 650 personas que tienen un promedio ecolar entre 70 y 100 años. $N=650$\n",
        "\n",
        "Se determinó el parámetro de la media poblacional siendo aproximadamente de 85.25. $μ = 85.25$.\n",
        "\n",
        "De la población, la moda es: 76 y la mediana es: 85.25.\n",
        "\n",
        "Se extrajo una muestra del 10% de la población. $n=65$.\n",
        "\n",
        "La media de la muestra fue de 85.67. $\\bar{x} = 85.67$\n",
        "\n",
        "De la muestra, la moda es es 92 y la mediana es 86.\n",
        "\n",
        "Los valores de los parámetros de la pblación son similares y la diferencia se le conoce como error muestral, que es la diferencia que hay entre los parámetros de la población y los estadíticos de la muestra.\n",
        "\n",
        "El caso permite ientificar la importancia de los estadísticos de las muestras, con ello se debe inferir que los parámetros de la población tienen un coportamiento similar a la muestra.\n"
      ],
      "metadata": {
        "id": "GHxFvxSjodPP"
      }
    },
    {
      "cell_type": "markdown",
      "source": [
        "## Bibliografía\n",
        "\n",
        "* Anderson, D., Sweeney, D., & Williams, T. (2008). Estadística para administración y economía Estadística para administración y economía. 10a. Edición. México, D.F: Cengage Learning Editores,S.A. de C.V.\n",
        "\n",
        "* Devore, J. L. (2018). Fundamentos de Probabilidad y Estadística. California Polytechnic State University, San Luis Obispo: CENCAGE.\n",
        "\n",
        "* Fernández, S., Córdova, A., & Cordero, J. (2002). Etadística Descriptiva. Madrid, España: ESIC Editorial.\n",
        "\n",
        "* Lind, D., Marchal, W., & Wathen, S. (2015). Estadística aplicada a los negocios y la econmía. DécimoSexta edición. ISBN: 978-607-15-1303-8. México, D.F: McGRAW-HILL/INTERAMERICANA EDITORES, S.A. DE C.V.\n",
        "\n",
        "* Mendenhall, W., Beaver, R. J., & Beaver, B. M. (2010). Introducción a la probabilidad y estadística. México, D.F.: Cengage Learning Editores, S.A. de C.V.\n",
        "\n",
        "* OpenAI. (2024). ChatGPT (May 25 version) [Large language model]. Retrieved from https://chat.openai.com/\n",
        "\n",
        "* Pizarro, R. (2022). Medidas de localización. Obtenido de Media, mediana y moda: https://rpubs.com/rpizarro/936259\n",
        "SlideShare. (2010). Descubre. Comparte. Aprende.\n",
        "\n",
        "* Walpole, R., Myers, R. H., Myers, S. L., & Ye, K. (2007). Probabilidad y estadística para Ingeniería y Ciencias. Octava Edición (Octava Edición ed.). México: Prentice Hill. Pearson Educación.\n",
        "\n",
        "* Walpole, R., Myers, R., Myers, S., & Ye, K. (2012). Probabilidad y estadística para ingeniería y ciencias (Novena Edición ed.). Cd. México: Pearson.\n",
        "\n",
        "\n"
      ],
      "metadata": {
        "id": "tcJLnviWItJf"
      }
    }
  ]
}