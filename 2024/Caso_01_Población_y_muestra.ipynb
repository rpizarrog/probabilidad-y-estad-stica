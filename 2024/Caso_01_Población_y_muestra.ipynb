{
  "nbformat": 4,
  "nbformat_minor": 0,
  "metadata": {
    "colab": {
      "provenance": [],
      "authorship_tag": "ABX9TyMcvVT8ElFswqxI427rz6bW",
      "include_colab_link": true
    },
    "kernelspec": {
      "name": "python3",
      "display_name": "Python 3"
    },
    "language_info": {
      "name": "python"
    }
  },
  "cells": [
    {
      "cell_type": "markdown",
      "metadata": {
        "id": "view-in-github",
        "colab_type": "text"
      },
      "source": [
        "<a href=\"https://colab.research.google.com/github/rpizarrog/probabilidad-y-estad-stica/blob/master/2024/Caso_01_Poblaci%C3%B3n_y_muestra.ipynb\" target=\"_parent\"><img src=\"https://colab.research.google.com/assets/colab-badge.svg\" alt=\"Open In Colab\"/></a>"
      ]
    },
    {
      "cell_type": "markdown",
      "source": [
        "# Objetivo\n",
        "\n",
        "Simular datos de una población y de una muestra que representan promedios de calificaciones describiendo los parámetros y estadísticos más importantes para su adecuada interpretación.\n",
        "\n"
      ],
      "metadata": {
        "id": "dADMTFvwg0aD"
      }
    },
    {
      "cell_type": "markdown",
      "source": [
        "# Desarrollo\n",
        "\n",
        "* Construir una población de 650 estudiantes ue tienen promedio escolar con valores\n",
        "numéricos entre 70 y 100.\n",
        "* Los valores representan promedio de calificaciones de estudiantes.\n",
        "* Determinar la media de promedio de la población.\n",
        "* Describir los parámetros poblaciones.\n",
        "* Extraer y determinar una muestra del 10% de la población de dichos edades.\n",
        "* Determina la media de la muestra de la variable del promedio de calificaciones\n",
        "* Visualizar el histograma de la población.\n",
        "* Visualiar el histograma de la muestra.\n",
        "* Intrepretar el caso.\n",
        "\n",
        "\n",
        "\n"
      ],
      "metadata": {
        "id": "bwDxz3RyhRlT"
      }
    },
    {
      "cell_type": "markdown",
      "source": [
        "## Cargar librerías"
      ],
      "metadata": {
        "id": "fj3ZvUJ-hnCL"
      }
    },
    {
      "cell_type": "code",
      "source": [
        "# Cargar librerías\n",
        "\n",
        "import random as rnd # Para generar números aleatorios\n",
        "import numpy as np # Para\n",
        "from collections import Counter as Counter\n",
        "import statistics as sta\n",
        "import matplotlib.pyplot as plt\n",
        "\n",
        "rnd.seed(2024) # Semilla para valores aleatorios"
      ],
      "metadata": {
        "id": "L8sxEBB8hZO4"
      },
      "execution_count": null,
      "outputs": []
    },
    {
      "cell_type": "markdown",
      "source": [
        "## Crear funciones\n"
      ],
      "metadata": {
        "id": "4KQq_KtdKPxK"
      }
    },
    {
      "cell_type": "code",
      "source": [
        "def f_menor_mayor(numeros):\n",
        "  # Encontrar el número mayor y el número menor y mayor\n",
        "  mayor = np.max(numeros)\n",
        "  menor = np.min(numeros)\n",
        "  return mayor, menor\n",
        "\n",
        "def f_media_moda_mediana_n(numeros):\n",
        "  # Calcular la media aritmética\n",
        "  media = sum(numeros) / len(numeros)\n",
        "\n",
        "  # Calcular la moda\n",
        "  contador = Counter(numeros)\n",
        "  moda = contador.most_common(1)[0][0]\n",
        "\n",
        "  # Calcular la mediana\n",
        "  mediana = sta.median(numeros)\n",
        "\n",
        "  # ¿Cuántos números son?\n",
        "  n = len(numeros)\n",
        "  return media, moda, mediana, n\n",
        "\n",
        "def f_histograma(datos, contexto):\n",
        "  plt.hist(poblacion, bins=range(min, max, 2), edgecolor=\"black\")\n",
        "  plt.xlabel(contexto)\n",
        "  plt.ylabel(\"Frecuencia\")\n",
        "  plt.title(\"Distribución de los datos: \"+contexto)\n",
        "  plt.grid(False)\n",
        "  plt.show()"
      ],
      "metadata": {
        "id": "5G50K1nXKRzR"
      },
      "execution_count": null,
      "outputs": []
    },
    {
      "cell_type": "markdown",
      "source": [
        "### Generando población de promedios escolares\n",
        "\n",
        "La variable población es una lista que contienen 650 elementos generados aleatorioamente y represnta la población de la variable de interés promedio escolar.\n"
      ],
      "metadata": {
        "id": "EUPT7sq6mLGO"
      }
    },
    {
      "cell_type": "code",
      "source": [
        "# Generar una lista de N = 650 números aleatorios en el rango de 70 a 100\n",
        "min = 70\n",
        "max = 100\n",
        "N = 650\n",
        "poblacion = [rnd.randint(min, max) for _ in range(N)]\n",
        "print(poblacion)\n"
      ],
      "metadata": {
        "id": "bRvrG7tzIoXI",
        "outputId": "267143e7-68fb-4b6d-9102-47fd0797a747",
        "colab": {
          "base_uri": "https://localhost:8080/"
        }
      },
      "execution_count": null,
      "outputs": [
        {
          "output_type": "stream",
          "name": "stdout",
          "text": [
            "[85, 75, 93, 88, 79, 76, 98, 93, 83, 94, 92, 94, 78, 87, 77, 90, 96, 93, 85, 81, 83, 86, 93, 89, 100, 76, 79, 87, 92, 80, 86, 72, 93, 94, 97, 76, 92, 94, 93, 84, 99, 92, 96, 97, 90, 74, 87, 76, 97, 83, 71, 94, 81, 90, 83, 84, 73, 93, 93, 74, 94, 80, 82, 80, 81, 95, 76, 80, 83, 83, 80, 88, 76, 98, 97, 83, 77, 76, 71, 93, 77, 94, 70, 97, 78, 97, 86, 80, 94, 100, 88, 95, 92, 83, 89, 73, 80, 97, 90, 89, 94, 77, 77, 84, 81, 74, 76, 81, 85, 89, 96, 90, 74, 78, 82, 89, 80, 80, 100, 92, 92, 84, 97, 75, 91, 92, 94, 97, 74, 80, 99, 76, 88, 91, 72, 73, 100, 96, 75, 70, 98, 74, 84, 92, 77, 81, 77, 72, 76, 95, 79, 77, 92, 84, 89, 78, 85, 86, 98, 83, 91, 83, 76, 96, 72, 79, 79, 78, 74, 88, 91, 93, 78, 86, 73, 85, 76, 98, 76, 95, 82, 75, 86, 97, 77, 80, 81, 94, 92, 98, 95, 71, 88, 98, 99, 91, 87, 82, 99, 93, 93, 100, 90, 72, 73, 77, 71, 86, 74, 100, 96, 76, 99, 90, 89, 99, 72, 100, 86, 75, 77, 85, 88, 95, 93, 75, 75, 72, 74, 89, 73, 95, 100, 89, 87, 95, 89, 90, 70, 89, 73, 87, 75, 87, 92, 80, 70, 73, 78, 70, 75, 71, 73, 90, 97, 89, 91, 89, 93, 76, 88, 76, 90, 76, 84, 75, 85, 80, 78, 93, 84, 90, 84, 96, 92, 95, 96, 76, 82, 88, 97, 84, 97, 83, 89, 92, 74, 98, 76, 75, 79, 82, 76, 94, 75, 81, 84, 91, 70, 73, 80, 91, 70, 94, 77, 94, 86, 83, 91, 71, 76, 89, 84, 87, 85, 87, 95, 71, 83, 80, 70, 86, 80, 87, 98, 100, 98, 78, 91, 93, 75, 77, 89, 73, 96, 95, 97, 83, 72, 100, 98, 74, 75, 70, 97, 80, 79, 100, 99, 78, 85, 75, 81, 96, 84, 99, 83, 100, 85, 89, 80, 75, 71, 94, 73, 73, 81, 83, 90, 100, 75, 86, 92, 73, 71, 91, 83, 98, 70, 95, 99, 98, 100, 78, 77, 73, 80, 87, 97, 88, 74, 76, 88, 88, 73, 83, 73, 100, 89, 92, 92, 78, 83, 87, 75, 94, 77, 100, 70, 86, 73, 76, 82, 87, 88, 83, 84, 88, 95, 75, 96, 90, 99, 77, 87, 99, 94, 79, 98, 96, 78, 88, 81, 84, 90, 73, 82, 82, 94, 79, 80, 86, 86, 77, 77, 96, 94, 95, 81, 77, 83, 95, 84, 88, 79, 79, 100, 91, 91, 99, 76, 84, 90, 87, 71, 78, 82, 96, 90, 76, 78, 83, 86, 74, 90, 80, 79, 92, 87, 95, 100, 74, 94, 72, 86, 77, 84, 89, 78, 79, 77, 90, 86, 82, 93, 79, 100, 75, 100, 98, 99, 100, 85, 95, 81, 100, 70, 89, 90, 82, 92, 72, 94, 93, 98, 74, 73, 83, 89, 80, 76, 94, 100, 100, 72, 94, 88, 78, 71, 95, 90, 94, 78, 91, 97, 86, 76, 100, 97, 95, 83, 75, 76, 92, 85, 96, 78, 72, 84, 73, 73, 88, 78, 74, 93, 82, 95, 88, 96, 90, 73, 77, 94, 88, 77, 75, 79, 90, 98, 74, 96, 92, 99, 95, 82, 91, 73, 74, 80, 83, 80, 90, 92, 80, 87, 96, 94, 77, 70, 89, 78, 82, 74, 88, 78, 75, 86, 95, 98, 78, 76, 98, 98, 87, 74, 92, 83, 93, 87, 76, 74, 96, 74, 91, 92, 77, 78, 70, 90, 89, 91, 73, 83, 86, 83, 71, 85, 74, 78, 92, 81, 84, 81, 79, 85, 98, 91, 88, 84, 99, 87, 90, 71, 91, 99, 79, 75, 82, 90, 98]\n"
          ]
        }
      ]
    },
    {
      "cell_type": "markdown",
      "source": [
        "#### Media aritmética de la población.\n",
        "\n",
        "El valor de la cualquier medida estadística de una poblacón se llama parámetro. La media artimética es el promedio de los datos.\n",
        "\n",
        "$$\n",
        "\\mu = \\sum_{i=1}^{N}=\\frac{x_i}{N}=\\frac{x_1+x_2+x_3+ ... x_{650}}{650}\n",
        "$$\n",
        "\n",
        "\n"
      ],
      "metadata": {
        "id": "lvy3ywyli6ls"
      }
    },
    {
      "cell_type": "code",
      "source": [
        "promedio = sum(poblacion) / 650\n",
        "print(promedio)"
      ],
      "metadata": {
        "colab": {
          "base_uri": "https://localhost:8080/"
        },
        "id": "44SZVlqtjuyF",
        "outputId": "d4221c04-80ee-43cd-d89d-ba8966ce1092"
      },
      "execution_count": null,
      "outputs": [
        {
          "output_type": "stream",
          "name": "stdout",
          "text": [
            "85.25076923076924\n"
          ]
        }
      ]
    },
    {
      "cell_type": "code",
      "source": [
        "# Calcular la media o el promedio utilizando NumPy y la función mean()\n",
        "media_poblacion = np.mean(poblacion)\n",
        "print (media_poblacion)\n"
      ],
      "metadata": {
        "colab": {
          "base_uri": "https://localhost:8080/"
        },
        "id": "nMgZQbuulPW1",
        "outputId": "4f286630-47f3-4381-b9c1-a7cd5d864cb6"
      },
      "execution_count": null,
      "outputs": [
        {
          "output_type": "stream",
          "name": "stdout",
          "text": [
            "85.25076923076924\n"
          ]
        }
      ]
    },
    {
      "cell_type": "markdown",
      "source": [
        "Describir los datos llamando las funciones preparadas\n",
        "\n",
        "Las funciones devuelve los parámetros y etadísticos de máximo, mínimo, media aritmética, moda, mediana, y el valor de N o n."
      ],
      "metadata": {
        "id": "9JhtZI2qx_Pn"
      }
    },
    {
      "cell_type": "code",
      "source": [
        "print (\"Los parámetros de la población\")\n",
        "# Menor Mayor\n",
        "menor, mayor = f_menor_mayor(poblacion)\n",
        "print (\"El número menor es:\", menor)\n",
        "print (\"El número mayor es:\", mayor)\n",
        "\n",
        "# Media, moda, mediana y N\n",
        "\n",
        "media, moda, mediaana, N = f_media_moda_mediana_n(poblacion)\n",
        "print (\"La media aritmética es:\", media)\n",
        "print (\"La moda es es:\", moda)\n",
        "print (\"La mediana es:\", media)\n",
        "print (\"La cantidad de datos son:\", N)\n",
        "\n"
      ],
      "metadata": {
        "colab": {
          "base_uri": "https://localhost:8080/"
        },
        "id": "wYcxn9nQr3PQ",
        "outputId": "99bc196f-a5f5-472c-947a-a4d768b318a6"
      },
      "execution_count": null,
      "outputs": [
        {
          "output_type": "stream",
          "name": "stdout",
          "text": [
            "Los parámetros de la población\n",
            "El número menor es: 100\n",
            "El número mayor es: 70\n",
            "La media aritmética es: 85.25076923076924\n",
            "La moda es es: 76\n",
            "La mediana es: 85.25076923076924\n",
            "La cantidad de datos son: 650\n"
          ]
        }
      ]
    },
    {
      "cell_type": "markdown",
      "source": [
        "### Visualizando histograma de la población\n"
      ],
      "metadata": {
        "id": "t3vSwMmR3dyQ"
      }
    },
    {
      "cell_type": "code",
      "source": [
        "f_histograma(poblacion, \"Promedio escolar\")"
      ],
      "metadata": {
        "colab": {
          "base_uri": "https://localhost:8080/",
          "height": 472
        },
        "id": "D3iod5Bc3g9Q",
        "outputId": "353d5ab8-beb7-41bd-d555-fb842956f082"
      },
      "execution_count": null,
      "outputs": [
        {
          "output_type": "display_data",
          "data": {
            "text/plain": [
              "<Figure size 640x480 with 1 Axes>"
            ],
            "image/png": "[encoded data removed]"
          },
          "metadata": {}
        }
      ]
    },
    {
      "cell_type": "markdown",
      "source": [
        "### Generando una muestra del 10% a partir de datos de la población\n",
        "\n"
      ],
      "metadata": {
        "id": "cgK8nCLqmdHE"
      }
    },
    {
      "cell_type": "code",
      "source": [
        "n = int(N * 0.10)\n",
        "print (\"Cantidad de datos de la muetra\", n)\n",
        "muestra = rnd.sample(poblacion, n)\n",
        "print(muestra)"
      ],
      "metadata": {
        "colab": {
          "base_uri": "https://localhost:8080/"
        },
        "id": "9ZgZKX7gm9zd",
        "outputId": "9d94bb97-e243-4f56-9253-aa0a3b29a98c"
      },
      "execution_count": null,
      "outputs": [
        {
          "output_type": "stream",
          "name": "stdout",
          "text": [
            "Cantidad de datos de la muetra 65\n",
            "[89, 100, 74, 75, 92, 83, 76, 80, 77, 92, 100, 81, 83, 92, 96, 91, 98, 77, 80, 84, 71, 76, 97, 78, 90, 74, 99, 95, 98, 70, 70, 94, 98, 71, 98, 80, 88, 93, 72, 78, 77, 71, 95, 86, 91, 83, 99, 92, 88, 84, 80, 84, 96, 89, 83, 100, 90, 98, 87, 80, 93, 71, 79, 71, 92]\n"
          ]
        }
      ]
    },
    {
      "cell_type": "markdown",
      "source": [
        "Estadísiticos de la muestra media aritmética\n",
        "\n",
        "$$\n",
        "\\bar{x}=\\sum_{i=1}^{n}= \\frac{x_i}{n}\n",
        "$$\n"
      ],
      "metadata": {
        "id": "ZMpnZO7dnCRM"
      }
    },
    {
      "cell_type": "code",
      "source": [
        "promedio_muestra = sum(muestra) / (n)\n",
        "print(promedio_muestra)\n"
      ],
      "metadata": {
        "colab": {
          "base_uri": "https://localhost:8080/"
        },
        "id": "2v129lv1nGcc",
        "outputId": "8544b441-d35d-44bd-92c5-49def40632f2"
      },
      "execution_count": null,
      "outputs": [
        {
          "output_type": "stream",
          "name": "stdout",
          "text": [
            "85.67692307692307\n"
          ]
        }
      ]
    },
    {
      "cell_type": "code",
      "source": [
        "print(np.mean(muestra))"
      ],
      "metadata": {
        "colab": {
          "base_uri": "https://localhost:8080/"
        },
        "id": "0TeU0ZthnaLm",
        "outputId": "a6d14f2e-fb79-41f1-cbd3-d14abeaf0626"
      },
      "execution_count": null,
      "outputs": [
        {
          "output_type": "stream",
          "name": "stdout",
          "text": [
            "85.67692307692307\n"
          ]
        }
      ]
    },
    {
      "cell_type": "markdown",
      "source": [
        "### Estadísticos de la muestra\n",
        "\n",
        "Se generan los estadísticos de la muestra"
      ],
      "metadata": {
        "id": "9Cnedkw6zITp"
      }
    },
    {
      "cell_type": "code",
      "source": [
        "print (\"Los estadísticos de la muestra\")\n",
        "# Menor Mayor\n",
        "menor, mayor = f_menor_mayor(muestra)\n",
        "print (\"El número menor es:\", menor)\n",
        "print (\"El número mayor es:\", mayor)\n",
        "\n",
        "# Media, moda, mediana y N\n",
        "\n",
        "media, moda, mediana, N = f_media_moda_mediana_n(muestra)\n",
        "print (\"La media aritmética es:\", media)\n",
        "print (\"La moda es es:\", moda)\n",
        "print (\"La mediana es:\", mediana)\n",
        "print (\"La cantidad de datos son:\", N)"
      ],
      "metadata": {
        "colab": {
          "base_uri": "https://localhost:8080/"
        },
        "id": "NjLNp2BtzNkY",
        "outputId": "2c4f508c-f2ee-4542-a1d2-f45f1147740d"
      },
      "execution_count": null,
      "outputs": [
        {
          "output_type": "stream",
          "name": "stdout",
          "text": [
            "Los estadísticos de la muestra\n",
            "El número menor es: 100\n",
            "El número mayor es: 70\n",
            "La media aritmética es: 85.67692307692307\n",
            "La moda es es: 92\n",
            "La mediana es: 86\n",
            "La cantidad de datos son: 65\n"
          ]
        }
      ]
    },
    {
      "cell_type": "markdown",
      "source": [
        "Crear histograma de la meustra\n"
      ],
      "metadata": {
        "id": "BSUn3Hcj5OWk"
      }
    },
    {
      "cell_type": "code",
      "source": [
        "# Crear un histograma de la población de edades\n",
        "\n",
        "f_histograma(muestra, \"Promedio escolar\")"
      ],
      "metadata": {
        "colab": {
          "base_uri": "https://localhost:8080/",
          "height": 472
        },
        "id": "hhpeft3G5Ryz",
        "outputId": "20b6ca13-d925-4927-ee2d-00c2971f6b7e"
      },
      "execution_count": null,
      "outputs": [
        {
          "output_type": "display_data",
          "data": {
            "text/plain": [
              "<Figure size 640x480 with 1 Axes>"
            ],
            "image/png": "[encoded data removed]"
          },
          "metadata": {}
        }
      ]
    },
    {
      "cell_type": "markdown",
      "source": [
        "\n",
        "# Interpretación\n",
        "\n",
        "Se construyó una población de 650 personas que tienen un promedio ecolar entre 70 y 100 años. $N=650$\n",
        "\n",
        "Se determinó el parámetro de la media poblacional siendo aproximadamente de 85.25. $μ = 85.25$.\n",
        "\n",
        "De la población, la moda es: 76 y la mediana es: 85.25.\n",
        "\n",
        "Se extrajo una muestra del 10% de la población. $n=65$.\n",
        "\n",
        "La media de la muestra fue de 85.67. $\\bar{x} = 85.67$\n",
        "\n",
        "De la muestra, la moda es es 92 y la mediana es 86.\n",
        "\n",
        "Los valores de los parámetros de la pblación son similares y la diferencia se le conoce como error muestral, que es la diferencia que hay entre los parámetros de la población y los estadíticos de la muestra.\n",
        "\n",
        "El caso ayudó a ... pendiente"
      ],
      "metadata": {
        "id": "GHxFvxSjodPP"
      }
    }
  ]
}