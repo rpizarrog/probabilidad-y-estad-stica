{
  "nbformat": 4,
  "nbformat_minor": 0,
  "metadata": {
    "colab": {
      "provenance": [],
      "authorship_tag": "ABX9TyP/oRW4kvITZ8VEAL1ktunG",
      "include_colab_link": true
    },
    "kernelspec": {
      "name": "python3",
      "display_name": "Python 3"
    },
    "language_info": {
      "name": "python"
    }
  },
  "cells": [
    {
      "cell_type": "markdown",
      "metadata": {
        "id": "view-in-github",
        "colab_type": "text"
      },
      "source": [
        "<a href=\"https://colab.research.google.com/github/rpizarrog/probabilidad-y-estad-stica/blob/master/2024/Caso_14_Contexto_de_las_variables_aleatorias_continuas.ipynb\" target=\"_parent\"><img src=\"https://colab.research.google.com/assets/colab-badge.svg\" alt=\"Open In Colab\"/></a>"
      ]
    },
    {
      "cell_type": "markdown",
      "source": [
        "# Objetivo\n",
        "\n",
        "Construir valores de variables aleatorias continuas y visualizar su histograma y densidad."
      ],
      "metadata": {
        "id": "_NHaDKP7Iqe2"
      }
    },
    {
      "cell_type": "markdown",
      "source": [
        "# Fundamento teórico\n",
        "\n",
        "Las variables continuas son un tipo de variable en estadística y matemáticas que pueden tomar un número infinito de valores dentro de un rango específico. A diferencia de las variables discretas, que solo pueden tomar valores específicos y a menudo enteros, las variables continuas pueden tomar cualquier valor real dentro de un intervalo dado.\n",
        "\n",
        "Una diferencia fundamental entre las variables aleatorias discretas y las variables aleatorias continuas es cómo se calculan las probabilidades.\n",
        "\n",
        "En las variables aleatorias discretas la función de probabilidad $f(x)$ da la probabilidad de que la variable aleatoria tome un valor determinado.\n",
        "\n",
        "En las variables aleatorias continuas, la contraparte de la función de probabilidad es la función de densidad de probabilidad, que también se denota $f(x)$.\n",
        "\n",
        "Cuando se calculan probabilidades de variables aleatorias continuas se calcula la probabilidad de que la variable aleatoria tome alguno de los valores dentro de un intervalo.\n",
        "\n",
        "La diferencia está en que la función de densidad de probabilidad no da probabilidades directamente. El área bajo la curva es $f(x)$  que corresponde a un intervalo determinado proporciona la probabilidad de que la variable aleatoria tome uno de los valores de ese intervalo[@anderson_estadistica_2008].\n",
        "\n",
        "Como en cualquier punto determinado el área bajo la gráfica de $f(x)$ es cero, una de las consecuencias de la definición de la probabilidad de una variable aleatoria continua es que la probabilidad de cualquier valor determinado de la variable aleatoria es cero.\n",
        "\n",
        "La variable aleatoria estatura se considera continua por dos razones: tiene valores de números reales, es decir, una persona puede medir $\\text {196.23 cm.}$ o una persona puede medir $\\text{196.30 cm. o 151.32 cm}$.\n",
        "\n",
        "La otra razón del porqué considerarla como variable continua es porque es muy difícil encontrar a una persona que exactamente mida $\\text{162.35 cm.}$ Sería muy difícil por eso se menciona que la $\\text{P(x=1.62.35) es igual a 0}$.\n",
        "\n",
        "Sin embargo la idea de las variables aleatorias es encontrar probabilidades de un determinado rango por ejemplo la probabilidad de encontrar personas con una estatura de entre $\\text{150 y 170}$; si de una muestra de $100$ personas hay $20$ personas que estén dentro de este rango entonces la probabilidad es del $20\\%$.\n",
        "\n",
        "### La densidad\n",
        "\n",
        "Los conceptos de variable aleatoria continua y de función de densidad se definen a partir de la noción de probabilidad. Como una mera aproximación, se dice que la función de densidad sería el polígono de frecuencias que se construiría si se tuviese un conjunto infinito de datos.\n",
        "\n",
        "En este caso, el polígono tendría la forma de una función matemática continua y derivable."
      ],
      "metadata": {
        "id": "ux7vWjfLT9BG"
      }
    },
    {
      "cell_type": "markdown",
      "source": [
        "# Desarrollo\n"
      ],
      "metadata": {
        "id": "WvLr9RRfImyH"
      }
    },
    {
      "cell_type": "markdown",
      "source": [
        "## Librerías\n",
        "\n"
      ],
      "metadata": {
        "id": "KVu8H0CEIh00"
      }
    },
    {
      "cell_type": "code",
      "source": [
        "import pandas as pd\n",
        "import seaborn as sns\n",
        "import matplotlib.pyplot as plt\n",
        "import numpy as np\n",
        "\n",
        "from IPython.display import display, HTML # Para html tablas ...\n"
      ],
      "metadata": {
        "id": "DBYMt3YuIjjc"
      },
      "execution_count": null,
      "outputs": []
    },
    {
      "cell_type": "markdown",
      "source": [
        "## Crear funciones\n"
      ],
      "metadata": {
        "id": "AbHMcq-fPa0H"
      }
    },
    {
      "cell_type": "code",
      "source": [
        "def f_visualizar_histograma_continua (datos, k):\n",
        "  # Crear un gráfico de distribución de la variable continua\n",
        "  sns.histplot(data=datos, kde=True, bins = k)\n",
        "  plt.xlabel(datos.columns[0])\n",
        "  plt.ylabel('Frecuencia')\n",
        "  plt.title('Distribución de Variable Continua')\n",
        "  plt.show()\n",
        "\n",
        "# Recibe una datos con una variabel continua y el número de cortes o clases\n",
        "# que sirven para construir tabla basados en los k clases\n",
        "def f_construye_tabla_distribucion_continua(datos, k):\n",
        "  # Crear una tabla de frecuencia\n",
        "  tabla_frecuencia = pd.cut(datos.iloc[:, 0], bins=k, include_lowest=True).value_counts().reset_index()\n",
        "  tabla_frecuencia.columns = ['Clase', 'Frec']\n",
        "  # tabla_frecuencia\n",
        "\n",
        "  # Ordenar la tabla de frecuencia por el intervalo\n",
        "  tabla_frecuencia = tabla_frecuencia.sort_values(by='Clase')\n",
        "  tabla_frecuencia = tabla_frecuencia.reset_index(drop=True) # Regenera index\n",
        "\n",
        "  # Generar columnas siguientes\n",
        "  tabla_frecuencia['Frec Rel'] = tabla_frecuencia['Frec'] / n\n",
        "  tabla_frecuencia['Frec Porc'] = tabla_frecuencia['Frec'] / n * 100\n",
        "  tabla_frecuencia['Frec Ac'] = tabla_frecuencia['Frec'].cumsum()\n",
        "\n",
        "  return tabla_frecuencia"
      ],
      "metadata": {
        "id": "3vQjIQU6PdKF"
      },
      "execution_count": null,
      "outputs": []
    },
    {
      "cell_type": "code",
      "source": [
        "datos.columns[0]"
      ],
      "metadata": {
        "colab": {
          "base_uri": "https://localhost:8080/",
          "height": 35
        },
        "id": "5_8uLV7hdzXl",
        "outputId": "915d4bb6-1a8e-4d84-edf3-7f4177068eaa"
      },
      "execution_count": null,
      "outputs": [
        {
          "output_type": "execute_result",
          "data": {
            "text/plain": [
              "'tiempos'"
            ],
            "application/vnd.google.colaboratory.intrinsic+json": {
              "type": "string"
            }
          },
          "metadata": {},
          "execution_count": 144
        }
      ]
    },
    {
      "cell_type": "markdown",
      "source": [
        "## Ejercicio de calificaciones\n",
        "\n",
        "### Crear los datos\n",
        "\n",
        "Se crear y simulan datos de cien calificaciones de alumnos de una asignatura de probabilida y estadística"
      ],
      "metadata": {
        "id": "8uZkYz6EI6UQ"
      }
    },
    {
      "cell_type": "code",
      "execution_count": null,
      "metadata": {
        "colab": {
          "base_uri": "https://localhost:8080/"
        },
        "id": "3cT02JqczhCs",
        "outputId": "319f5f3c-9cce-4d85-c971-fc8a358be0a9"
      },
      "outputs": [
        {
          "output_type": "stream",
          "name": "stdout",
          "text": [
            "Número de observaciones 40\n"
          ]
        }
      ],
      "source": [
        "\n",
        "\n",
        "# Crear un DataFrame con una columna de variable continua\n",
        "calificaciones = np.array([86.05, 91.32, 89.47, 89.43, 89.08, 84.18, 80.81, 78.97,\n",
        "                  83.23, 85.39, 81.19, 90.64, 85.31, 94.91, 84.56, 82.38,\n",
        "                  86.74, 83.75, 75.98, 89.42, 81.03, 81.44, 86.6,  81.8,\n",
        "                  83.18, 89.99, 86.97, 85.01, 83.2,  87.71, 81.28, 79.45,\n",
        "                  85.38, 86.81, 84.08, 85.94, 82.45, 82.93, 87.07, 86.46,\n",
        "                  ])\n",
        "\n",
        "n = len(calificaciones)\n",
        "print (\"Número de observaciones\", n)\n",
        "\n",
        "\n"
      ]
    },
    {
      "cell_type": "markdown",
      "source": [
        "### Construir tabla de distribución de los datos mediante clases\n",
        "\n",
        "Los datos continuos se pueden describir por medio de tablas de distribución usando clases o intervalos que agrupan los datos.\n",
        "\n",
        "Se manda llamar las funciones previamente codificadas que construyen la tabla de distribución de frecuencias y el histograma incluyendo la densidad.\n",
        "\n",
        "\n"
      ],
      "metadata": {
        "id": "qDPlwPB3KGYO"
      }
    },
    {
      "cell_type": "code",
      "source": [
        "k = 7 # no de clases o cortes\n",
        "\n",
        "# Convertir a data.frame\n",
        "datos = pd.DataFrame({'calificaciones' : calificaciones})\n",
        "\n",
        "# Solo mandar llamar la función y construir tabla de distribución\n",
        "resultado = f_construye_tabla_distribucion_continua(datos, k)\n",
        "# Convertir el data frame a una tabla HTML\n",
        "tabla_html = resultado.to_html(index=False, classes='table table-bordered table-striped')\n",
        "\n",
        "# Mostrar la tabla directamente\n",
        "display(HTML(tabla_html))\n"
      ],
      "metadata": {
        "colab": {
          "base_uri": "https://localhost:8080/",
          "height": 269
        },
        "id": "qcm4TOwnLdzx",
        "outputId": "728f32d3-d465-4329-d8ff-3e8f240acf9a"
      },
      "execution_count": null,
      "outputs": [
        {
          "output_type": "display_data",
          "data": {
            "text/plain": [
              "<IPython.core.display.HTML object>"
            ],
            "text/html": [
              "<table border=\"1\" class=\"dataframe table table-bordered table-striped\">\n",
              "  <thead>\n",
              "    <tr style=\"text-align: right;\">\n",
              "      <th>Clase</th>\n",
              "      <th>Frec</th>\n",
              "      <th>Frec Rel</th>\n",
              "      <th>Frec Porc</th>\n",
              "      <th>Frec Ac</th>\n",
              "    </tr>\n",
              "  </thead>\n",
              "  <tbody>\n",
              "    <tr>\n",
              "      <td>(75.96, 78.684]</td>\n",
              "      <td>1</td>\n",
              "      <td>0.025</td>\n",
              "      <td>2.5</td>\n",
              "      <td>1</td>\n",
              "    </tr>\n",
              "    <tr>\n",
              "      <td>(78.684, 81.389]</td>\n",
              "      <td>6</td>\n",
              "      <td>0.150</td>\n",
              "      <td>15.0</td>\n",
              "      <td>7</td>\n",
              "    </tr>\n",
              "    <tr>\n",
              "      <td>(81.389, 84.093]</td>\n",
              "      <td>10</td>\n",
              "      <td>0.250</td>\n",
              "      <td>25.0</td>\n",
              "      <td>17</td>\n",
              "    </tr>\n",
              "    <tr>\n",
              "      <td>(84.093, 86.797]</td>\n",
              "      <td>11</td>\n",
              "      <td>0.275</td>\n",
              "      <td>27.5</td>\n",
              "      <td>28</td>\n",
              "    </tr>\n",
              "    <tr>\n",
              "      <td>(86.797, 89.501]</td>\n",
              "      <td>8</td>\n",
              "      <td>0.200</td>\n",
              "      <td>20.0</td>\n",
              "      <td>36</td>\n",
              "    </tr>\n",
              "    <tr>\n",
              "      <td>(89.501, 92.206]</td>\n",
              "      <td>3</td>\n",
              "      <td>0.075</td>\n",
              "      <td>7.5</td>\n",
              "      <td>39</td>\n",
              "    </tr>\n",
              "    <tr>\n",
              "      <td>(92.206, 94.91]</td>\n",
              "      <td>1</td>\n",
              "      <td>0.025</td>\n",
              "      <td>2.5</td>\n",
              "      <td>40</td>\n",
              "    </tr>\n",
              "  </tbody>\n",
              "</table>"
            ]
          },
          "metadata": {}
        }
      ]
    },
    {
      "cell_type": "markdown",
      "source": [
        "### Visualizar histograma y su densidad\n"
      ],
      "metadata": {
        "id": "Q2i3AQInJVbd"
      }
    },
    {
      "cell_type": "code",
      "source": [
        "# Solo mandar llamar la función:\n",
        "f_visualizar_histograma_continua (datos, k)\n"
      ],
      "metadata": {
        "colab": {
          "base_uri": "https://localhost:8080/",
          "height": 472
        },
        "id": "5AitGTiNJZUu",
        "outputId": "5fb6025f-bf25-4e67-d760-52943e04f6de"
      },
      "execution_count": null,
      "outputs": [
        {
          "output_type": "display_data",
          "data": {
            "text/plain": [
              "<Figure size 640x480 with 1 Axes>"
            ],
            "image/png": "[encoded data removed]"
          },
          "metadata": {}
        }
      ]
    },
    {
      "cell_type": "markdown",
      "source": [
        "### Probabilidades\n",
        "\n",
        "¿Cuál es la probabilida de encontrar alumnos ue tengan un promedio de 80.4565. La respuesta es 0.\n",
        "\n",
        "Por eso en variable aleatorias continuas se utilizan rangos o intervalos.\n",
        "\n",
        "¿Cuál es la probabilidad de encontrar a un alumno que tengan un promedio entre 80 y 85?.\n",
        "\n",
        "\n",
        "\n",
        "\n",
        "\n",
        "\n",
        "\n",
        "\n",
        "\n"
      ],
      "metadata": {
        "id": "7eFqJzgzU_-t"
      }
    },
    {
      "cell_type": "markdown",
      "source": [
        "## Ejercicio de pesos de paquetes en servicio de paquetería\n",
        "\n",
        "Se tiene un historial de los pesos de paquetes que es entregan a los clientes\n",
        "\n",
        "### Los datos\n"
      ],
      "metadata": {
        "id": "XQ0OPb3hYUXk"
      }
    },
    {
      "cell_type": "code",
      "source": [
        "pesos = np.array([10.579, 4.287, 2.498, 7.546, 3.684, 1.153, 5.925, 2.216,\n",
        "                  4.189, 1.748, 2.186, 2.782, 3.089, 1.263, 1.489, 10.758,\n",
        "                  5.601, 5.303, 0.942, 2.56, 0.623, 8.042, 4.167, 7.756,\n",
        "                  10.335, 4.319, 4.154, 9.282, 6.145, 1.575, 6.549, 5.05,\n",
        "                  4.512, 6.338, 5.641, 0.459, 7.225, 1.04, 4.252, 2.875,\n",
        "                  5.184, 6.087, 6.437, 3.913, 1.061, 1.578, 9.183, 4.209,\n",
        "                  2.7, 0.559, 2.573, 8.322, 1.415, 4.861, 4.468, 4.61, 0.502,\n",
        "                  3.956, 2.388, 5.094, 0.804, 4.501, 0.879, 2.937, 12.75,\n",
        "                  4.13, 2.086, 3.759, 3.584, 4.214, 0.417, 2.618, 2.369, 2.02,\n",
        "                  1.594, 1.485, 8.603, 4.286, 4.285, 4.138, 4.59, 2.526, 2.945,\n",
        "                  1.584, 4.08, 12.855, 3.636, 2.661, 2.847, 3.108, 3.613,\n",
        "                  2.979, 1.42, 0.797, 1.382, 1.42, 6.052, 12.84, 5.309, 2.831])\n",
        "\n",
        "n = len(pesos)\n",
        "print (\"Número de obsesrvaciones\", n)"
      ],
      "metadata": {
        "colab": {
          "base_uri": "https://localhost:8080/"
        },
        "id": "-0E9kIvAY1uY",
        "outputId": "5767efc0-df46-4e2c-b8da-5d3a09b6c25c"
      },
      "execution_count": null,
      "outputs": [
        {
          "output_type": "stream",
          "name": "stdout",
          "text": [
            "Número de obsesrvaciones 100\n"
          ]
        }
      ]
    },
    {
      "cell_type": "markdown",
      "source": [],
      "metadata": {
        "id": "MsSSvP5RZFKF"
      }
    },
    {
      "cell_type": "markdown",
      "source": [
        "### Construir tabla de distribución de los datos mediante clases\n",
        "\n"
      ],
      "metadata": {
        "id": "O1XkhIHEZIkG"
      }
    },
    {
      "cell_type": "code",
      "source": [
        "k = 5 # no de clases o cortes\n",
        "\n",
        "# Convertir a data.frame\n",
        "datos = pd.DataFrame({'pesos' : pesos})\n",
        "\n",
        "# Solo mandar llamar la función y construir tabla de distribución\n",
        "resultado = f_construye_tabla_distribucion_continua(datos, k)\n",
        "# Convertir el data frame a una tabla HTML\n",
        "tabla_html = resultado.to_html(index=False, classes='table table-bordered table-striped')\n",
        "\n",
        "# Mostrar la tabla directamente\n",
        "display(HTML(tabla_html))"
      ],
      "metadata": {
        "colab": {
          "base_uri": "https://localhost:8080/",
          "height": 206
        },
        "id": "RpLdeDr4ZKGe",
        "outputId": "fca7feae-b46a-4f94-b46a-461b5d5ce95c"
      },
      "execution_count": null,
      "outputs": [
        {
          "output_type": "display_data",
          "data": {
            "text/plain": [
              "<IPython.core.display.HTML object>"
            ],
            "text/html": [
              "<table border=\"1\" class=\"dataframe table table-bordered table-striped\">\n",
              "  <thead>\n",
              "    <tr style=\"text-align: right;\">\n",
              "      <th>Clase</th>\n",
              "      <th>Frec</th>\n",
              "      <th>Frec Rel</th>\n",
              "      <th>Frec Porc</th>\n",
              "      <th>Frec Ac</th>\n",
              "    </tr>\n",
              "  </thead>\n",
              "  <tbody>\n",
              "    <tr>\n",
              "      <td>(0.404, 2.905]</td>\n",
              "      <td>41</td>\n",
              "      <td>0.41</td>\n",
              "      <td>41.0</td>\n",
              "      <td>41</td>\n",
              "    </tr>\n",
              "    <tr>\n",
              "      <td>(2.905, 5.392]</td>\n",
              "      <td>36</td>\n",
              "      <td>0.36</td>\n",
              "      <td>36.0</td>\n",
              "      <td>77</td>\n",
              "    </tr>\n",
              "    <tr>\n",
              "      <td>(5.392, 7.88]</td>\n",
              "      <td>12</td>\n",
              "      <td>0.12</td>\n",
              "      <td>12.0</td>\n",
              "      <td>89</td>\n",
              "    </tr>\n",
              "    <tr>\n",
              "      <td>(7.88, 10.367]</td>\n",
              "      <td>6</td>\n",
              "      <td>0.06</td>\n",
              "      <td>6.0</td>\n",
              "      <td>95</td>\n",
              "    </tr>\n",
              "    <tr>\n",
              "      <td>(10.367, 12.855]</td>\n",
              "      <td>5</td>\n",
              "      <td>0.05</td>\n",
              "      <td>5.0</td>\n",
              "      <td>100</td>\n",
              "    </tr>\n",
              "  </tbody>\n",
              "</table>"
            ]
          },
          "metadata": {}
        }
      ]
    },
    {
      "cell_type": "markdown",
      "source": [
        "### Visualizar histograma y su densidad\n",
        "\n"
      ],
      "metadata": {
        "id": "-Pb5e8kvavAV"
      }
    },
    {
      "cell_type": "code",
      "source": [
        "# Solo mandar llamar la función:\n",
        "f_visualizar_histograma_continua (datos, k)"
      ],
      "metadata": {
        "colab": {
          "base_uri": "https://localhost:8080/",
          "height": 472
        },
        "id": "zygR-Nzzax33",
        "outputId": "12cdb990-fa1c-433a-a036-4d89f187f2de"
      },
      "execution_count": null,
      "outputs": [
        {
          "output_type": "display_data",
          "data": {
            "text/plain": [
              "<Figure size 640x480 with 1 Axes>"
            ],
            "image/png": "[encoded data removed]"
          },
          "metadata": {}
        }
      ]
    },
    {
      "cell_type": "markdown",
      "source": [
        "## Tiempo de llegada de una Pizza a casa\n",
        "\n",
        "Los tiempos que se garda en llegar una pizaa a domicilio aproximadamente son los mismos variando de 15 a 30 minutos(muy uniforme). Puede llegar entre 15 y 30 minutos la pizza al domicilio que realizó el pedido.\n",
        "\n",
        "### Los datos"
      ],
      "metadata": {
        "id": "rO6lYFi6bSf_"
      }
    },
    {
      "cell_type": "code",
      "source": [
        "tiempos = np.array([19.5, 16, 27.8, 19.7, 23, 23.4, 29.4, 28.1,\n",
        "                    24.4, 29.7, 24.2, 28.3, 15.7, 28, 24.3,\n",
        "                    17.1, 23.6, 17.6, 18.3, 16.7, 16.4, 15.5,\n",
        "                    25.9, 21.5, 24.8, 29.2, 28.4, 20.6, 23.2,\n",
        "                    19.2, 27.2, 18.4, 28.8, 22.8, 29.9, 27.2,\n",
        "                    27.1, 28.9, 26.5, 16.4, 22.5, 19.3, 29.7,\n",
        "                    23, 15.8, 29.3, 15.7, 27.4, 16.4, 16.7,\n",
        "                    24.8, 22, 16.3, 21.8, 18.7, 16.2, 23.1,\n",
        "                    18.1, 25.4, 18.8])\n",
        "\n",
        "n = len(tiempos)\n",
        "print (\"Número de obsesrvaciones\", n)"
      ],
      "metadata": {
        "colab": {
          "base_uri": "https://localhost:8080/"
        },
        "id": "awxxUzLkbrTn",
        "outputId": "50b4eed8-4b2e-4025-fd8e-578f12d9e101"
      },
      "execution_count": null,
      "outputs": [
        {
          "output_type": "stream",
          "name": "stdout",
          "text": [
            "Número de obsesrvaciones 60\n"
          ]
        }
      ]
    },
    {
      "cell_type": "markdown",
      "source": [
        "### Construir tabla de distribución\n"
      ],
      "metadata": {
        "id": "1AB9KN4xb8Vg"
      }
    },
    {
      "cell_type": "code",
      "source": [
        "k = 10 # no de clases o cortes\n",
        "\n",
        "# Convertir a data.frame\n",
        "datos = pd.DataFrame({'tiempos' : tiempos})\n",
        "\n",
        "# Solo mandar llamar la función y construir tabla de distribución\n",
        "resultado = f_construye_tabla_distribucion_continua(datos, k)\n",
        "# Convertir el data frame a una tabla HTML\n",
        "tabla_html = resultado.to_html(index=False, classes='table table-bordered table-striped')\n",
        "\n",
        "# Mostrar la tabla directamente\n",
        "display(HTML(tabla_html))"
      ],
      "metadata": {
        "colab": {
          "base_uri": "https://localhost:8080/",
          "height": 363
        },
        "id": "kv63IvdQb_BJ",
        "outputId": "b456af5d-5c55-4476-fc59-cef5f0d458db"
      },
      "execution_count": null,
      "outputs": [
        {
          "output_type": "display_data",
          "data": {
            "text/plain": [
              "<IPython.core.display.HTML object>"
            ],
            "text/html": [
              "<table border=\"1\" class=\"dataframe table table-bordered table-striped\">\n",
              "  <thead>\n",
              "    <tr style=\"text-align: right;\">\n",
              "      <th>Clase</th>\n",
              "      <th>Frec</th>\n",
              "      <th>Frec Rel</th>\n",
              "      <th>Frec Porc</th>\n",
              "      <th>Frec Ac</th>\n",
              "    </tr>\n",
              "  </thead>\n",
              "  <tbody>\n",
              "    <tr>\n",
              "      <td>(15.485000000000001, 16.94]</td>\n",
              "      <td>12</td>\n",
              "      <td>0.200000</td>\n",
              "      <td>20.000000</td>\n",
              "      <td>12</td>\n",
              "    </tr>\n",
              "    <tr>\n",
              "      <td>(16.94, 18.38]</td>\n",
              "      <td>4</td>\n",
              "      <td>0.066667</td>\n",
              "      <td>6.666667</td>\n",
              "      <td>16</td>\n",
              "    </tr>\n",
              "    <tr>\n",
              "      <td>(18.38, 19.82]</td>\n",
              "      <td>7</td>\n",
              "      <td>0.116667</td>\n",
              "      <td>11.666667</td>\n",
              "      <td>23</td>\n",
              "    </tr>\n",
              "    <tr>\n",
              "      <td>(19.82, 21.26]</td>\n",
              "      <td>1</td>\n",
              "      <td>0.016667</td>\n",
              "      <td>1.666667</td>\n",
              "      <td>24</td>\n",
              "    </tr>\n",
              "    <tr>\n",
              "      <td>(21.26, 22.7]</td>\n",
              "      <td>4</td>\n",
              "      <td>0.066667</td>\n",
              "      <td>6.666667</td>\n",
              "      <td>28</td>\n",
              "    </tr>\n",
              "    <tr>\n",
              "      <td>(22.7, 24.14]</td>\n",
              "      <td>7</td>\n",
              "      <td>0.116667</td>\n",
              "      <td>11.666667</td>\n",
              "      <td>35</td>\n",
              "    </tr>\n",
              "    <tr>\n",
              "      <td>(24.14, 25.58]</td>\n",
              "      <td>6</td>\n",
              "      <td>0.100000</td>\n",
              "      <td>10.000000</td>\n",
              "      <td>41</td>\n",
              "    </tr>\n",
              "    <tr>\n",
              "      <td>(25.58, 27.02]</td>\n",
              "      <td>2</td>\n",
              "      <td>0.033333</td>\n",
              "      <td>3.333333</td>\n",
              "      <td>43</td>\n",
              "    </tr>\n",
              "    <tr>\n",
              "      <td>(27.02, 28.46]</td>\n",
              "      <td>9</td>\n",
              "      <td>0.150000</td>\n",
              "      <td>15.000000</td>\n",
              "      <td>52</td>\n",
              "    </tr>\n",
              "    <tr>\n",
              "      <td>(28.46, 29.9]</td>\n",
              "      <td>8</td>\n",
              "      <td>0.133333</td>\n",
              "      <td>13.333333</td>\n",
              "      <td>60</td>\n",
              "    </tr>\n",
              "  </tbody>\n",
              "</table>"
            ]
          },
          "metadata": {}
        }
      ]
    },
    {
      "cell_type": "markdown",
      "source": [
        "### Visualizar histograma y su densidad\n",
        "\n"
      ],
      "metadata": {
        "id": "jFgeCiKjcnnJ"
      }
    },
    {
      "cell_type": "code",
      "source": [
        "# Solo mandar llamar la función:\n",
        "f_visualizar_histograma_continua (datos, k)"
      ],
      "metadata": {
        "colab": {
          "base_uri": "https://localhost:8080/",
          "height": 472
        },
        "id": "BHNWuAuJcwiH",
        "outputId": "762d403c-c113-484d-fedf-77a851c43ee0"
      },
      "execution_count": null,
      "outputs": [
        {
          "output_type": "display_data",
          "data": {
            "text/plain": [
              "<Figure size 640x480 with 1 Axes>"
            ],
            "image/png": "[encoded data removed]"
          },
          "metadata": {}
        }
      ]
    },
    {
      "cell_type": "markdown",
      "source": [
        "# Interpretación del caso\n",
        "\n",
        "El caso inicializa datos de una variable aleatoria continua que permiten describirse mediante una tabla de frecuencia para ubicar frecuncias de clase y se utiliza un histograma para reflejar las clases y la densidad que refleja el comportamiento de la variable aleatoria coninua a infinitos valores.\n",
        "\n",
        "Las clases de una tabla de frecuencia que representa valores continos agrupan un intervalo.\n",
        "\n",
        "La curva llamada densidad representa valores infinitos que peude tomar la variable aleatoria continua.\n",
        "\n",
        "¿La pregunta es como obtener probabilidades?.\n",
        "\n",
        "El histograma y la tabla de distribución pueden ayudar pero no hay certeza en ello, se puede calcular de manera más exacta?.\n",
        "\n",
        "La respuesta es si mediante integrales o mediante funciones de Python.\n",
        "\n",
        "Próximo caso.\n"
      ],
      "metadata": {
        "id": "AI_NYhegWYmd"
      }
    },
    {
      "cell_type": "markdown",
      "source": [
        "# Referencias bibliográficas\n",
        "\n",
        "- Anderson, David R., Dennis J. Sweeney, and Thomas A. Williams. 2008. Estadística Para Administración y Economía. 10th ed. Australia • Brasil • Corea • España • Estados Unidos • Japón • México • Reino Unido • Singapur: Cengage Learning,.\n",
        "\n",
        "- Lind, Douglas, William Marchal, and Samuel Wathen. 2015. Estadística Aplicada a Los Negocios y La Economía. Decimo Sexta. México, D.F.: McGraw-Hill.\n",
        "\n",
        "- Mendenhall, William, Robert J. Beaver, and Barbara M. Beaver. 2010. Introducción a La Probabilidad y Estadística. 13th ed. Cengage Learning Editores, S.A. de C.V.,.\n",
        "\n",
        "- Walpole, Ronald E., Raymond H. Myers, and Sharon L. Myers. 2012. Probabilidad y Estadística Para Ingeniería y Ciencias. Novena Edición. México: Pearson."
      ],
      "metadata": {
        "id": "2XtG5qBzgD1l"
      }
    }
  ]
}