{
  "nbformat": 4,
  "nbformat_minor": 0,
  "metadata": {
    "colab": {
      "provenance": [],
      "include_colab_link": true
    },
    "kernelspec": {
      "name": "python3",
      "display_name": "Python 3"
    },
    "language_info": {
      "name": "python"
    }
  },
  "cells": [
    {
      "cell_type": "markdown",
      "metadata": {
        "id": "view-in-github",
        "colab_type": "text"
      },
      "source": [
        "<a href=\"https://colab.research.google.com/github/rpizarrog/probabilidad-y-estad-stica/blob/master/2024/Caso_29_Pruebas_de_hip%C3%B3tesis.ipynb\" target=\"_parent\"><img src=\"https://colab.research.google.com/assets/colab-badge.svg\" alt=\"Open In Colab\"/></a>"
      ]
    },
    {
      "cell_type": "markdown",
      "source": [
        "# Objetivo\n",
        "\n",
        "Realizar prueba de hipótesis"
      ],
      "metadata": {
        "id": "9k_0F1hOhGK8"
      }
    },
    {
      "cell_type": "markdown",
      "source": [
        "# Descripcón\n",
        "\n",
        "- Cargar librerías.\n",
        "- Cargar funciones para este caso.\n",
        "- Identificar datos iniciales de ejercicios para prueba de hipótesis a dos colas, hipótesis nula alternativa y comprobación.\n",
        "- Identificar datos inicales de ejercicios para prueba de hipótesis cola a la izquierda, hipótesis nula alternativa y comprobación.\n",
        "- Identificar datos inicales de ejercicios para prueba de hipótesis cola a la derecha, hipótesis nula alternativa y comprobación.\n",
        "- Interpretación de ejercicios y del caso"
      ],
      "metadata": {
        "id": "7cKFjawySTMT"
      }
    },
    {
      "cell_type": "markdown",
      "source": [
        "# Fundamento teórico\n",
        "\n",
        "La prueba de hipótesis es un método estadístico que se utiliza para tomar decisiones sobre las características de una población, basándose en la información obtenida de una muestra de esa población.\n",
        "\n",
        "¿Existe relación de prueba de hipótesis con intervalos de confianza?\n",
        "\n",
        "La relación que existe entre los intervalos de confianza y la prueba de hipótesis es tal, que precisamente los valores de prueba deben estar en la zona de intervalo de confianza determinado y permite con ello hacer contraste de valores de prueba para aceptar o rechazar alguna hipótesis.\n",
        "\n",
        "La inferencia estadística basada en lograr la resolver la naturaleza de afirmaciones contradictorias está relacionada con la prueba de hipótesis.\n",
        "\n",
        "Estas afirmaciones contradictorias, tiene que ver con el concepto de declaración de hipótesis. A lo que da lugar el concepto de hipótesis estadística que lo define con claridad.\n",
        "\n",
        "Una hipótesis estadística o simplemente una hipótesis es una afirmación o aseveración sobre el valor de un solo parámetro (característica de una población o característica de una distribución de probabilidad)” (Devore, 2018, pág. 253).\n",
        "\n",
        "Una hipótesis estadística es una aseveración o conjetura con respecto a una o más poblaciones” (Mendenhall, Beaver, & Beaver, 2010, pág. 321).\n",
        "\n",
        "\n",
        "Un contraste o prueba de hipótesis, consiste en plantear dos hipótesis, la hipótesis nula $(H_0)$ y la hipótesis alternativa $(H_1)$, y luego recopilar evidencia en forma de datos para determinar si hay suficiente evidencia para rechazar la hipótesis nula en favor de la hipótesis alternativa.\n",
        "\n",
        "\n",
        "\n",
        "\n"
      ],
      "metadata": {
        "id": "cnsumB-tS1Kh"
      }
    },
    {
      "cell_type": "markdown",
      "source": [
        "## Proceso para prueba de hipótesis\n",
        "\n",
        "Proceso para realizar prueba de hipótesis:\n",
        "\n",
        "1. Formulación de hipótesis: Se establecen la hipótesis nula $(H_0)$, que generalmente afirma que no hay efecto o diferencia, y la hipótesis alternativa $(H_1)$, que afirma lo contrario.\n",
        "\n",
        "2. Selección de nivel de significancia: Se elige un nivel de significancia (α) que representa la probabilidad de cometer un error de tipo I al rechazar la hipótesis nula cuando es verdadera. Un valor común para alpha es $α$ es $0.05$.\n",
        "\n",
        "  En casos anteriores, al identificar intervalos de confianza se requería el nivel de confianza para determinar el valor de alfa.\n",
        "\n",
        "3. Selección de prueba estadística: Se selecciona una prueba estadística apropiada basada en el tipo de datos y la naturaleza de la hipótesis.\n",
        "\n",
        "4. Cálculo del estadístico de prueba: Se calcula el estadístico de prueba a partir de los datos de la muestra.\n",
        "\n",
        "5. Decisión: Se compara el valor del estadístico de prueba con un valor crítico basado en la distribución de probabilidad bajo la hipótesis nula, o se calcula un valor $p$ que representa la probabilidad de obtener un estadístico de prueba al menos tan extremo como el observado si la hipótesis nula es verdadera.\n",
        "\n",
        "6 Conclusión: Si el valor p es menor que α, se rechaza la hipótesis nula en favor de la hipótesis alternativa. De lo contrario, no se puede rechazar la hipótesis nula."
      ],
      "metadata": {
        "id": "K4YuBwBdpU75"
      }
    },
    {
      "cell_type": "markdown",
      "source": [
        "## Escenarios de declaración de hipótesis\n",
        "\n",
        "Ejemplos de declaración de hipótesis:\n",
        "\n",
        "### Ejemplo 1:\n",
        "\n",
        "En el escenario del acusado, la  H0  es que el acusado es inocente, \"El acusado no es culplable\"; por consiguiente, la  H1  no es inocente y por consecuencia, \"El acusado es culpable\".\n",
        "\n",
        "$$\n",
        "H_0:  \\text{Acusado no es  culplable}\n",
        "\\\\acusado=inocente\n",
        "$$\n",
        "\n",
        "$$\n",
        "H_1:  \\text{Acusado es culplable}\n",
        "\\\\acusado ≠inocente\n",
        "$$\n",
        "\n",
        "Estadísticamente se tendría que tener elementos cuantificables de la variable inocente que se contrastarían con los elementos de acusaciones para aceptar o rechazar la hipótesis nula.\n",
        "\n",
        "### Ejemplo 2:\n",
        "\n",
        "* En un primer escenario de este ejemplo, es estudiar la edad promedio de las personas $(μ)$, una hipótesis es suponer que la media de la edad de una población de personas podría ser que en promedio tengan 32 años $(μ=32)$, y la otra decir lo contrario, que la media no es 32 años $(μ≠32)$.\n",
        "\n",
        "$$\n",
        "H_0: \\text{La edad promedio no es de 32 años}\\\\ edad \\ne 32\n",
        "$$\n",
        "\n",
        "$$\n",
        "H_1: \\text{La edad promedio es de 32 años}\\\\ edad = 32\n",
        "$$\n",
        "\n",
        "* Un segundo escenario pudiera ser que se afirme que la edad promedio (media de la edad en años) pudiera estar por encima o igual a 32 años $(μ≥32)$ y la segunda afirmación sería lo contrario, edad por debajo de 32 años. $(μ<32)$.\n",
        "\n",
        "$$\n",
        "H_0: \\text{La edad promedio no es mayor o igual que 32 años}\\\\ edad < 32\n",
        "$$\n",
        "\n",
        "$$\n",
        "H_1: \\text{La edad promedio es mayor o igual a 32 años}\\\\ edad \\ge 32\n",
        "$$\n",
        "\n",
        "* Un tercer escenario de la edad promedio de una población sería a la inversa del segundo escenario, afirmar que la edad promedio esté por debajo o igual a 32 años $(μ≤32)$ y la segunda afirmación sería lo contrario, edad por encima de 32 años. $(μ>32)$.\n",
        "\n",
        "$$\n",
        "H_0: \\text{La edad promedio no es menor o igual que 32 años}\\\\ edad > 32\n",
        "$$\n",
        "\n",
        "$$\n",
        "H_1: \\text{La edad promedio es menor o igual a 32 años}\\\\ edad \\le 32\n",
        "$$\n",
        "\n",
        "\n",
        "\n",
        "\n",
        "\n",
        "\n",
        "\n",
        "### Ejemplo 3:\n",
        "\n",
        "Considere un escenario en donde se tiene que aprobar una vacuna nueva y se requiere hacer un experimento en una muestra de datos de personas y determinar si una vacuna es efectiva o no en un periodo de tiempo en donde las personas sean inmunes a cierta enfermedad.\n",
        "\n",
        "El resultado del experimento devuelve un valor de efectividad de una nueva vacuna de  0  a  100 %.\n",
        "\n",
        "Históricamente se tiene que una vacuna actual tiene una efectivad del  75 % o de  0.75 , es decir  75  de cada cien personas no se enferman poniéndose la vacuna.\n",
        "\n",
        "Un laboratorio imaginario lanza una nueva vacuna tratando de descartar la efectividad de la nueva vacuna haciendo pruebas. Entonces se declaran hipótesis nula y alternativa: La efectividad de la actual vacuna es del  0.75  o menor, si hay alguna vacuna nueva para cambiar de vacuna debe tener una efectividad por encima del  0.75  de manera general.\n",
        "\n",
        "Frases para comprender hipótesis nula: “la nueva vacuna no tiene ningún efecto y la tasa de prevención es menor o igual al  75 % (la tasa histórica)”; y para la hipótesis alternativa: “la nueva vacuna es efectiva y la tasa de prevención es mayor al 75%”.\n",
        "\n",
        "$$\n",
        "H_0: \\text{No es efectiva la nueva vacuna}\n",
        "\\\\Efectividad ≤ 0.75\n",
        "$$\n",
        "\n",
        "$$\n",
        "H_1:  \\text{Si es efeciva la nueva vacuna}\n",
        "\\\\Efectividad > 0.75\n",
        "$$\n",
        "\n",
        "Estadísticamente, hay que calcular el valor de la efectividad y contrastar con valores específicos para tomar la decisión de aceptar o rechazar $H_0$.\n",
        "\n"
      ],
      "metadata": {
        "id": "q8b-4JdSpYX2"
      }
    },
    {
      "cell_type": "markdown",
      "source": [
        "## Tipos de hipótesis\n",
        "\n",
        "En estadística se puede declarar tres tipos de hipótesis, hipótesis a dos colas, cuando el valor de significancia de *alpha* $α$ se reparte a ambos lados de la curva y conforme a la probabilidad; cola a la izquierdda y cola a la derecha cuando solo una parte del valor valor de *alpha* $α$ es usado ya sea hacia la derecha o hacia la izquierda de acuerdo a la expresió y/o a la condición.\n",
        "\n",
        "De acuerdo la prueba de hipótesis se debe comparar un parámetro estimado de la población contra un valor crítico calculado.\n",
        "\n",
        "La decisión de aceptar la $H_0$ dependerá de la condición de comparación.\n",
        "\n",
        "|                 | Dos colas        | Cola a la izquierda | Cola a la derecha |\n",
        "|-----------------|------------------|----------------------|-------------------|\n",
        "| Acepta          | H₀: parámetro=valor | H₀: parámetro≥ valor | H₀: parámetro≤ valor |\n",
        "| Rechaza         | Hₐ: parámetro≠valor | Hₐ: parámetro< valor | Hₐ: parámetro> valor |\n"
      ],
      "metadata": {
        "id": "inTY9blu2it3"
      }
    },
    {
      "cell_type": "markdown",
      "source": [
        "# Desarrollo\n",
        "\n",
        "Pendiente ...\n",
        "\n"
      ],
      "metadata": {
        "id": "yEi9MxiBSua7"
      }
    },
    {
      "cell_type": "markdown",
      "source": [
        "## Cargar librerías"
      ],
      "metadata": {
        "id": "V1LmaJX-SwIr"
      }
    },
    {
      "cell_type": "markdown",
      "source": [
        "## Cargar funciones"
      ],
      "metadata": {
        "id": "zt_YhrkLSy-y"
      }
    },
    {
      "cell_type": "markdown",
      "source": [
        "# Interpretación del caso\n",
        "\n",
        "Pendiente\n",
        "\n"
      ],
      "metadata": {
        "id": "OqIkw88tTCiL"
      }
    },
    {
      "cell_type": "markdown",
      "source": [
        "# Bibliografía\n",
        "\n",
        "* Anderson, D., Sweeney, D., & Williams, T. (2008). Estadística para administración y economía Estadística para administración y economía. 10a. Edición. México, D.F: Cengage Learning Editores,S.A. de C.V.\n",
        "* Devore, J. L. (2018). Fundamentos de Probabilidad y Estadística. California Polytechnic State University, San Luis Obispo: CENCAGE.\n",
        "* Mendenhall, W., Beaver, R. J., & Beaver, B. M. (2010). Introducción a la probabilidad y estadística. México, D.F.: Cengage Learning Editores, S.A. de C.V.\n"
      ],
      "metadata": {
        "id": "LZqgEYevTEjE"
      }
    },
    {
      "cell_type": "markdown",
      "source": [],
      "metadata": {
        "id": "Ju0cBnldSPu2"
      }
    }
  ]
}