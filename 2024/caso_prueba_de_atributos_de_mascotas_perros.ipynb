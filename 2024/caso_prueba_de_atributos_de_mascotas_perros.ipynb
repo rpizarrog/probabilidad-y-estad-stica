{
  "nbformat": 4,
  "nbformat_minor": 0,
  "metadata": {
    "colab": {
      "provenance": [],
      "authorship_tag": "ABX9TyMhSxG95TGwlHU76cz7d5DF",
      "include_colab_link": true
    },
    "kernelspec": {
      "name": "python3",
      "display_name": "Python 3"
    },
    "language_info": {
      "name": "python"
    }
  },
  "cells": [
    {
      "cell_type": "markdown",
      "metadata": {
        "id": "view-in-github",
        "colab_type": "text"
      },
      "source": [
        "<a href=\"https://colab.research.google.com/github/rpizarrog/probabilidad-y-estad-stica/blob/master/2024/caso_prueba_de_atributos_de_mascotas_perros.ipynb\" target=\"_parent\"><img src=\"https://colab.research.google.com/assets/colab-badge.svg\" alt=\"Open In Colab\"/></a>"
      ]
    },
    {
      "cell_type": "markdown",
      "source": [
        "# Objetivo\n",
        "\n",
        "Simular y describir un conjunto de datos de características de mascotas perros\n",
        "\n"
      ],
      "metadata": {
        "id": "uIrmCCFfow0T"
      }
    },
    {
      "cell_type": "markdown",
      "source": [
        "# Descripción\n",
        "\n",
        "El contexto de los datos es de un hospital veterinario que controla o atiende la salud de pacientes perros que sus dueños llevan a revisión y atención.\n",
        "\n",
        "* Se declaran nombres de perros comumes\n",
        "* La edad de los perros es entre 1 y 15 años\n",
        "* El sexo del perror es Macho o Hembra\n",
        "* Se declaran nombres enfermedades para perros de un cuadro básico, en donde cada variable tiene valores de 0 para NO tiene y 1 SI tiene enfermedad respectivamente\n",
        "* El estado de salud es Enfermo o Saludable\n",
        "* Se simula una población de 250 o 500 perros\n"
      ],
      "metadata": {
        "id": "hHw1olTBo4BO"
      }
    },
    {
      "cell_type": "markdown",
      "source": [
        "# Desarrollo\n",
        "\n"
      ],
      "metadata": {
        "id": "p3qu174opTED"
      }
    },
    {
      "cell_type": "markdown",
      "source": [
        "## Se cargan librerías necesarias\n"
      ],
      "metadata": {
        "id": "mhCOLcqupah4"
      }
    },
    {
      "cell_type": "code",
      "source": [
        "import random as rnd\n",
        "import pandas as pd"
      ],
      "metadata": {
        "id": "mXUFjEegpdUC"
      },
      "execution_count": 1,
      "outputs": []
    },
    {
      "cell_type": "markdown",
      "source": [
        "## Inicializar variables\n",
        "\n",
        "Se crean arreglos de nombres de perros, vacuna y enfermedades\n"
      ],
      "metadata": {
        "id": "Rf6bMSJ4phh5"
      }
    },
    {
      "cell_type": "code",
      "source": [
        "\n",
        "# Lista de nombres de perros\n",
        "nombres_perros = [\"Buddy\", \"Max\", \"Bella\", \"Lucy\", \"Charlie\", \"Bailey\", \"Sadie\", \"Daisy\", \"Molly\", \"Rocky\"]\n",
        "\n",
        "# Lista de enfermedades comunes\n",
        "enfermedades_comunes = [\"Parvovirosis\", \"Leptospirosis\", \"Moquillo\", \"Rabia\", \"Tos de las perreras\"]\n",
        "\n",
        "\n"
      ],
      "metadata": {
        "id": "sGKIHoFzpWtN"
      },
      "execution_count": 2,
      "outputs": []
    },
    {
      "cell_type": "markdown",
      "source": [
        "## Se crea un data.frame de los N perros"
      ],
      "metadata": {
        "id": "Z2Yxl1Hnppn3"
      }
    },
    {
      "cell_type": "code",
      "source": [
        "# Generar datos simulados para cada perro\n",
        "datos_perros = []\n",
        "N = 250\n",
        "for _ in range(N):\n",
        "    nombre_perro = rnd.choice(nombres_perros)\n",
        "    edad = rnd.randint(1, 15)\n",
        "    sexo = rnd.choice([\"Macho\", \"Hembra\"])\n",
        "\n",
        "    enfermedades = rnd.sample(enfermedades_comunes, rnd.randint(0, len(enfermedades_comunes)))\n",
        "    estado_salud = rnd.choice([\"Saludable\", \"Enfermo\"])\n",
        "\n",
        "    datos_perro = {'Nombre': nombre_perro, 'Edad': edad, 'Sexo': sexo, 'Estado de salud': estado_salud}\n",
        "    for enfermedad in enfermedades_comunes:\n",
        "        datos_perro[enfermedad] = 1 if enfermedad in enfermedades else 0\n",
        "\n",
        "    datos_perros.append(datos_perro)\n",
        "\n",
        "# Crear DataFrame\n",
        "df_perros = pd.DataFrame(datos_perros)\n",
        "\n",
        "# Mostrar DataFrame\n",
        "print(df_perros)"
      ],
      "metadata": {
        "colab": {
          "base_uri": "https://localhost:8080/"
        },
        "id": "N-LvRXzguoaz",
        "outputId": "fa37d39d-3b64-4371-fd49-0f44541c5c90"
      },
      "execution_count": 3,
      "outputs": [
        {
          "output_type": "stream",
          "name": "stdout",
          "text": [
            "      Nombre  Edad    Sexo Estado de salud  Parvovirosis  Leptospirosis  \\\n",
            "0    Charlie     4   Macho       Saludable             1              0   \n",
            "1      Sadie     3   Macho       Saludable             0              0   \n",
            "2      Bella    12   Macho         Enfermo             1              1   \n",
            "3      Bella    15   Macho         Enfermo             1              1   \n",
            "4      Sadie     8   Macho         Enfermo             1              1   \n",
            "..       ...   ...     ...             ...           ...            ...   \n",
            "245    Rocky    12  Hembra         Enfermo             0              0   \n",
            "246   Bailey     2   Macho       Saludable             1              0   \n",
            "247   Bailey     2   Macho       Saludable             1              1   \n",
            "248  Charlie    11  Hembra         Enfermo             1              0   \n",
            "249  Charlie    14   Macho       Saludable             1              1   \n",
            "\n",
            "     Moquillo  Rabia  Tos de las perreras  \n",
            "0           1      0                    0  \n",
            "1           0      0                    0  \n",
            "2           1      1                    1  \n",
            "3           0      1                    1  \n",
            "4           1      1                    1  \n",
            "..        ...    ...                  ...  \n",
            "245         0      0                    0  \n",
            "246         0      1                    1  \n",
            "247         1      1                    1  \n",
            "248         1      1                    1  \n",
            "249         1      1                    1  \n",
            "\n",
            "[250 rows x 9 columns]\n"
          ]
        }
      ]
    },
    {
      "cell_type": "markdown",
      "source": [
        "## Estadísticos de los datos\n"
      ],
      "metadata": {
        "id": "8L8twCjkrEOT"
      }
    },
    {
      "cell_type": "code",
      "source": [
        "# Mostrar los estadísticos más importantes\n",
        "print(df_perros.describe())"
      ],
      "metadata": {
        "colab": {
          "base_uri": "https://localhost:8080/"
        },
        "id": "5MfBO3a9rIqd",
        "outputId": "63600347-1a3a-41c0-b036-2c806f6f9ac5"
      },
      "execution_count": 4,
      "outputs": [
        {
          "output_type": "stream",
          "name": "stdout",
          "text": [
            "             Edad  Parvovirosis  Leptospirosis    Moquillo       Rabia  \\\n",
            "count  250.000000    250.000000     250.000000  250.000000  250.000000   \n",
            "mean     8.356000      0.524000       0.496000    0.456000    0.516000   \n",
            "std      4.293133      0.500426       0.500987    0.499059    0.500746   \n",
            "min      1.000000      0.000000       0.000000    0.000000    0.000000   \n",
            "25%      5.000000      0.000000       0.000000    0.000000    0.000000   \n",
            "50%      9.000000      1.000000       0.000000    0.000000    1.000000   \n",
            "75%     12.000000      1.000000       1.000000    1.000000    1.000000   \n",
            "max     15.000000      1.000000       1.000000    1.000000    1.000000   \n",
            "\n",
            "       Tos de las perreras  \n",
            "count           250.000000  \n",
            "mean              0.544000  \n",
            "std               0.499059  \n",
            "min               0.000000  \n",
            "25%               0.000000  \n",
            "50%               1.000000  \n",
            "75%               1.000000  \n",
            "max               1.000000  \n"
          ]
        }
      ]
    },
    {
      "cell_type": "markdown",
      "source": [
        "## El nombre más común\n",
        "\n"
      ],
      "metadata": {
        "id": "x0t6wgdPr3F2"
      }
    },
    {
      "cell_type": "code",
      "source": [
        "# Encontrar el nombre más común\n",
        "nombre_mas_comun = df_perros['Nombre'].mode()[0]\n",
        "\n",
        "print(\"El nombre más común es:\", nombre_mas_comun)\n"
      ],
      "metadata": {
        "colab": {
          "base_uri": "https://localhost:8080/"
        },
        "id": "PEpIaRTPr6S8",
        "outputId": "84235533-4f4b-4f56-daef-0125195b2eb0"
      },
      "execution_count": 5,
      "outputs": [
        {
          "output_type": "stream",
          "name": "stdout",
          "text": [
            "El nombre más común es: Bella\n"
          ]
        }
      ]
    },
    {
      "cell_type": "markdown",
      "source": [
        "## La media aritmética de la edad de los perros\n"
      ],
      "metadata": {
        "id": "SCv7wMtfsId7"
      }
    },
    {
      "cell_type": "code",
      "source": [
        "# Calcular la media aritmética de la edad\n",
        "media = df_perros['Edad'].mean()\n",
        "\n",
        "print(\"La media aritmética de la edad de los perros\", media)"
      ],
      "metadata": {
        "colab": {
          "base_uri": "https://localhost:8080/"
        },
        "id": "3LiT-_ctsOtZ",
        "outputId": "9a9aa6a2-cae4-4d21-9307-29f5fbfcf221"
      },
      "execution_count": 6,
      "outputs": [
        {
          "output_type": "stream",
          "name": "stdout",
          "text": [
            "La media aritmética de la edad de los perros 8.356\n"
          ]
        }
      ]
    },
    {
      "cell_type": "markdown",
      "source": [
        "## ¿Qué perros se atienden más, machos o hembras?\n"
      ],
      "metadata": {
        "id": "MNHi3xXYu8X7"
      }
    },
    {
      "cell_type": "code",
      "source": [
        "# Contar el número de registros para cada sexo\n",
        "conteo_sexo = df_perros['Sexo'].value_counts()\n",
        "\n",
        "# Mostrar el resultado\n",
        "print(\"Número de perros atendidos por sexo:\")\n",
        "print(conteo_sexo)"
      ],
      "metadata": {
        "colab": {
          "base_uri": "https://localhost:8080/"
        },
        "id": "dS7I7TbWu-Za",
        "outputId": "aa3c6570-1569-4d64-9f64-8bd102856aa2"
      },
      "execution_count": 7,
      "outputs": [
        {
          "output_type": "stream",
          "name": "stdout",
          "text": [
            "Número de perros atendidos por sexo:\n",
            "Macho     135\n",
            "Hembra    115\n",
            "Name: Sexo, dtype: int64\n"
          ]
        }
      ]
    },
    {
      "cell_type": "markdown",
      "source": [
        "## ¿Qué enfermedad es la más común?"
      ],
      "metadata": {
        "id": "q66AV6EZvIXZ"
      }
    },
    {
      "cell_type": "code",
      "source": [
        "# Crear una Serie con todas las enfermedades\n",
        "enfermedades = df_perros[enfermedades_comunes].sum()\n",
        "\n",
        "# Encontrar la enfermedad más común\n",
        "enfermedad_mas_comun = enfermedades.idxmax()\n",
        "\n",
        "# Mostrar el resultado\n",
        "print(\"La enfermedad más común es:\", enfermedad_mas_comun)"
      ],
      "metadata": {
        "colab": {
          "base_uri": "https://localhost:8080/"
        },
        "id": "rfqb4S2yvJhk",
        "outputId": "31f821d8-5c13-4c6e-a3bf-74d2656e868b"
      },
      "execution_count": 8,
      "outputs": [
        {
          "output_type": "stream",
          "name": "stdout",
          "text": [
            "La enfermedad más común es: Tos de las perreras\n"
          ]
        }
      ]
    },
    {
      "cell_type": "markdown",
      "source": [
        "## Saludables o Enfermos\n"
      ],
      "metadata": {
        "id": "blsrM1RjzQOJ"
      }
    },
    {
      "cell_type": "code",
      "source": [
        "# Contar el número de registros para cada estado de salud\n",
        "conteo_estado_salud = df_perros['Estado de salud'].value_counts()\n",
        "\n",
        "# Mostrar el resultado\n",
        "print(\"Número de perros por estado de salud:\")\n",
        "print(conteo_estado_salud)\n"
      ],
      "metadata": {
        "colab": {
          "base_uri": "https://localhost:8080/"
        },
        "id": "iX1oqDflzUAY",
        "outputId": "5ba89161-26ae-49a3-9872-116c13b7ee1f"
      },
      "execution_count": 9,
      "outputs": [
        {
          "output_type": "stream",
          "name": "stdout",
          "text": [
            "Número de perros por estado de salud:\n",
            "Enfermo      130\n",
            "Saludable    120\n",
            "Name: Estado de salud, dtype: int64\n"
          ]
        }
      ]
    },
    {
      "cell_type": "markdown",
      "source": [],
      "metadata": {
        "id": "B4k4XD4Xr_lv"
      }
    },
    {
      "cell_type": "markdown",
      "source": [
        "# Interpretación\n",
        "\n",
        "* ¿Cuál es el nombre más comun o que más se repite?, la moda\n",
        "* ¿Cuál es la media aritmética de la edad de los perros ?\n",
        "* ¿Qué perros se atienden más, machos o hembras?\n",
        "* ¿Qué enfermedad es la más común?\n",
        "* ¿Que hay más mascotas perros enfermos o saludables?\n",
        "\n",
        "Pendiente ...\n",
        "\n"
      ],
      "metadata": {
        "id": "Ik0EN2BdrTkJ"
      }
    }
  ]
}