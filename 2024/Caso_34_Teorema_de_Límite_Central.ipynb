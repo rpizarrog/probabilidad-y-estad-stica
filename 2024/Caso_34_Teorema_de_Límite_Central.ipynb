{
  "nbformat": 4,
  "nbformat_minor": 0,
  "metadata": {
    "colab": {
      "provenance": [],
      "authorship_tag": "ABX9TyM8vExTXvXo62B38YE+n0zN",
      "include_colab_link": true
    },
    "kernelspec": {
      "name": "python3",
      "display_name": "Python 3"
    },
    "language_info": {
      "name": "python"
    }
  },
  "cells": [
    {
      "cell_type": "markdown",
      "metadata": {
        "id": "view-in-github",
        "colab_type": "text"
      },
      "source": [
        "<a href=\"https://colab.research.google.com/github/rpizarrog/probabilidad-y-estad-stica/blob/master/2024/Caso_34_Teorema_de_L%C3%ADmite_Central.ipynb\" target=\"_parent\"><img src=\"https://colab.research.google.com/assets/colab-badge.svg\" alt=\"Open In Colab\"/></a>"
      ]
    },
    {
      "cell_type": "markdown",
      "source": [
        "# Objetivo\n",
        "\n",
        "Demostrar el teorema de límite central"
      ],
      "metadata": {
        "id": "s1E79d-kqwlU"
      }
    },
    {
      "cell_type": "markdown",
      "source": [
        "# Descripción\n",
        "\n",
        "Por meio de una simulación de una población se describe y demuestra la importancia del teorema del límite central.\n",
        "\n",
        "\n"
      ],
      "metadata": {
        "id": "iHb1oLmEq2eM"
      }
    },
    {
      "cell_type": "markdown",
      "source": [
        "# Fundamento teórico\n",
        "\n",
        "Los conceptos de error muestral y la aplicación a la distribución muestral de medias presentados anteriormente; permite utilizar la distribución de probabilidad normal para crear intervalos de confianza de la media poblacional descrita en casos siguientes así como la pruebas de hipótesis\n",
        "\n",
        "El teorema del límite central hace hincapié en que, en el caso de muestras aleatorias grandes, la forma de la distribución muestral de la media se aproxima a la distribución de probabilidad normal.\n",
        "\n",
        "Una definición sería si todas las muestras de un tamaño en particular se seleccionan de cualquier población, la distribución muestral de la media se aproxima a una distribución normal; esta mejora con muestras más grandes (lind2015?).\n",
        "\n",
        "La aproximación es más exacta en el caso de muestras grandes que en el de muestras pequeñas; lo cual es una de las conclusiones más útiles de la estadística porque permite razonar sobre la distribución de las medias muestrales sin ninguna información acerca de la forma de la distribución de la población de la que se toma la muestra. (lind2015?)\n",
        "\n",
        "El teorema central del límite se cumple en el caso de todas las distribuciones.\n",
        "\n",
        "Cuando se seleccionan muestras aleatorias simples de tamaño $n$\n",
        "de una población $N$, la distribución muestral de la media muestral puede aproximarse a la media poblacional mediante una distribución normal a medida que el tamaño de la muestra se hace grande (Anderson, Sweeney, and Williams 2008a).\n",
        "\n",
        "El planteamiento del teorema, la suposición de normalidad en la distribución de la media $\\mu_{\\bar{x}}$\n",
        "se vuelve más precisa a medida que $n$ se hace más grande (walpole2012?).\n",
        "\n",
        "La media muestral se le conoce como el estimador puntual de la media poblacional μ, a la desviación estándar muestral S como el estimador puntual de la desviación estándar poblacional σ\n",
        "(anderson2008?).\n",
        "\n",
        "La distribución muestral de la media un estadístico que depende de la distribución de la población, del tamaño de las muestras y del método de selección de las muestras.(walpole2012?)\n",
        "\n",
        "Como la variable aleatoria media muestral puede tener muchos valores diferentes, suele ser de interés conocer la media de todos los valores de $\\mu_{\\bar{x}}$ que se obtienen con diferentes muestras aleatorias simples.\n",
        "\n",
        "La media de todas las variables aleatoria es el valor esperado de $\\bar{x}$. El valor esperado se denota como E(\\bar{x}) (anderson2008?).\n",
        "\n",
        "Con respecto a determinar si un estimador puntual como la media muestral $\\mu_{\\bar{x}}$, esta se debe valorar por sus propiedades de insesgadez, eficiencia y consistencia.\n",
        "\n",
        "* insesgadez. Si el valor esperado del estadístico muestral $E(\\hatθ)$\n",
        "es igual al parámetro poblacional $E(θ)$\n",
        "que se estudia, se dice que el estadístico muestral es un estimador insesgado del parámetro poblacional. Algunas veces, el valor del estimador puntual $E(\\hatθ)$ puede ser menor que $E(θ)$ y otras veces sea mayor que $E(θ)$.\n",
        "\n",
        "La importancia radica en si la distribución muestral está muy sesgada, los estadísticos generados pueden ser subestimados o sobreestimados (anderson2008?).\n",
        "\n",
        "* Eficiencia. Una distribución muestral es mas eficiente cuando tiene menor error muestral, siendo este último la diferencia de la media poblacional μ\n",
        " con la media muestral $\\bar{x}$.\n",
        "\n",
        "* Se dice que el estimador puntual con menor error estándar tiene mayor eficiencia relativa que los otros (anderson2008?).\n",
        "\n",
        "* Consistencia. Cuanto se obtienen varias muestra se debe observar que la media muestral $\\bar{x}$ debe acercarse a la media poblacional μ conforme la muestra aumenta.\n",
        "\n",
        "Si la población es una distribución normal $\\mu_{\\bar{x}}$, entonces, en el caso de cualquier tamaño de muestra, la distribución muestral de las medias también será de naturaleza normal.\n",
        "\n",
        "Si la distribución poblacional es simétrica (pero no normal), la forma normal de la distribución muestral de las\n",
        "medias se presenta con muestras tan pequeñas como 10.\n",
        "\n",
        "Por otra parte, si se comienza con una distribución sesgada o con colas anchas, quizá se requieran muestras de 30 o más para registrar la característica de normalidad (lind2015?)\n",
        "\n",
        "Es posible comparar la media de las medias de la muestra con la media de la población.\n",
        "\n",
        "$$\n",
        "\\text{media de la población = }\\mu = \\frac{\\sum_{i=1}^{N} x_i}{N}\n",
        "$$\n",
        "\n",
        "$$\n",
        "\\text{media de medias de la distribución muestral = }\\mu_{\\bar{x}} =\n",
        "\\frac{\\sum_{i=1}^{n} \\bar{x}_i}{n}\n",
        "$$\n",
        "\n",
        "Ahora bien ¿qué pasa con respecto a la desviación estándar de una población con respecto a la desviación de una distribución de medias?\n",
        "\n",
        "En los ejemplos que se muestran abajo hay menor dispersión en la distribución de la media muestral que en la distribución de la población, lo cual indica la diferencia entre los rangos de la población y los de las medias muestrales.\n",
        "\n",
        "Además se advierte que la media de las medias de las muestras se encuentra cerca de la de la población; es posible demostrar que la media de la distribución muestral es la media poblacional, es decir,\n",
        "$\\mu ≈ \\mu_{\\bar{x}}$ y si la desviación estándar de la población es $σ$, la desviación estándar de las medias muestrales es $\\sigma / \\sqrt{n}$, en la que $n$ es el número de observaciones de cada muestra.\n",
        "\n",
        "Entonces, $\\sigma/\\sqrt{n}$ es el error estándar de la media. En realidad, el nombre completo es desviación estándar de la distribución muestral de la media."
      ],
      "metadata": {
        "id": "1v8FKpQgrgLl"
      }
    },
    {
      "cell_type": "markdown",
      "source": [
        "# Desarrollo\n",
        "\n"
      ],
      "metadata": {
        "id": "dcEC7H1zrCbE"
      }
    },
    {
      "cell_type": "markdown",
      "source": [
        "## Cargar librerías\n",
        "\n",
        "\n",
        "\n"
      ],
      "metadata": {
        "id": "YOmUGwxcuElH"
      }
    },
    {
      "cell_type": "code",
      "source": [
        "import pandas as pd\n",
        "import numpy as np\n",
        "\n",
        "import random\n",
        "\n",
        "import matplotlib.pyplot as plt\n",
        "\n",
        "from matplotlib.ticker import ScalarFormatter\n",
        "import seaborn as sns"
      ],
      "metadata": {
        "id": "Cnn9LvHbuHON"
      },
      "execution_count": 1,
      "outputs": []
    },
    {
      "cell_type": "markdown",
      "source": [
        "## Cargar funciones\n"
      ],
      "metadata": {
        "id": "btKcM1-9uHhj"
      }
    },
    {
      "cell_type": "code",
      "source": [
        "def f_histograma(ax, datos, error, contexto):\n",
        "    # Crear el histograma con densidad en el eje dado\n",
        "    ax.hist(datos, bins=30, edgecolor='black', density=True, alpha=0.6, color='blue')\n",
        "\n",
        "    # Añadir la curva de densidad\n",
        "    sns.kdeplot(datos, color='green', linewidth=2, ax=ax)\n",
        "\n",
        "    # Calcular la media de los datos\n",
        "    media = np.mean(datos)\n",
        "\n",
        "    # Añadir una línea vertical en la media\n",
        "    # Calcular la media de los datos\n",
        "    media = np.mean(datos)\n",
        "\n",
        "    # Añadir una línea vertical en la media\n",
        "    ax.axvline(media, color='red', linestyle='--', linewidth=2, label=f'Me: {media:.4f}; Er. Mu:{error:.4f}')\n",
        "\n",
        "\n",
        "    ax.set_title('Histograma ' + contexto)\n",
        "    ax.set_xlabel('Datos')\n",
        "    ax.set_ylabel('Densidad')\n",
        "\n",
        "    # Ajustar el formateador del eje y para eliminar la notación científica\n",
        "    ax.yaxis.set_major_formatter(plt.ScalarFormatter(useMathText=True))\n",
        "    ax.yaxis.get_offset_text().set_visible(False)\n",
        "\n",
        "    # Añadir la leyenda\n",
        "    ax.legend()\n",
        "\n",
        "# Función que recibe una población y devuelve las medias muestrales,\n",
        "# la media de todas las medias muestrales y el error de la media\n",
        "def f_media_muestral(q, datos, n):\n",
        "    muestras = []\n",
        "    m_muestras = []\n",
        "    media_poblacional = np.mean(datos)\n",
        "\n",
        "    # Tomar q muestras y calcular la media de cada muestra\n",
        "    for _ in range(q):\n",
        "        muestra = np.random.choice(datos, n, replace=False)\n",
        "        muestras.append(muestra)\n",
        "        m_muestras.append(np.mean(muestra))\n",
        "\n",
        "    media_muestral = np.mean(m_muestras)\n",
        "    error_muestral = abs(media_poblacional - media_muestral)\n",
        "\n",
        "    return m_muestras, media_muestral, error_muestral"
      ],
      "metadata": {
        "id": "dELliRuguJO7"
      },
      "execution_count": null,
      "outputs": []
    },
    {
      "cell_type": "markdown",
      "source": [
        "# Interpretación\n",
        "\n"
      ],
      "metadata": {
        "id": "siC_JqIirDpu"
      }
    },
    {
      "cell_type": "markdown",
      "source": [
        "# Bibliografía\n",
        "\n",
        "* Anderson, David R., Dennis J. Sweeney, and Thomas A. Williams. 2008. Estadística Para Administración y Economía. 10th ed. Australia • Brasil • Corea • España • Estados Unidos • Japón • México • Reino Unido • Singapur: Cengage Learning,.\n",
        "\n",
        "* Lind, D., Marchal, W., & Wathen, S. (2015). Estadística aplicada a los negocios y la econmía. DécimoSexta edición. ISBN: 978-607-15-1303-8. México, D.F: McGRAW-HILL/INTERAMERICANA EDITORES, S.A. DE C.V.\n",
        "\n",
        "* Mendenhall, William, Robert J. Beaver, and Barbara M. Beaver. 2006. Introducción a La Probabilidad y Estadística. 13a Edición.\n",
        "\n",
        "* Walpole, Ronald E., Raymond H. Myers, and Sharon L. Myers. 2012. Probabilidad y Estadística Para Ingeniería y Ciencias. Novena Edición. México: Pearson.\n",
        "\n",
        "* ChatGPT 4.0 (2024)"
      ],
      "metadata": {
        "id": "ImdVzZVWrGH8"
      }
    }
  ]
}