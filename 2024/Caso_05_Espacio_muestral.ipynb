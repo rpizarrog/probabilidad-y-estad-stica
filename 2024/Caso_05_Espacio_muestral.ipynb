{
  "nbformat": 4,
  "nbformat_minor": 0,
  "metadata": {
    "colab": {
      "provenance": [],
      "authorship_tag": "ABX9TyNWbigp7SVCfVwLVMFGzOx7",
      "include_colab_link": true
    },
    "kernelspec": {
      "name": "python3",
      "display_name": "Python 3"
    },
    "language_info": {
      "name": "python"
    },
    "widgets": {
      "application/vnd.jupyter.widget-state+json": {
        "fc3ed991c2d74511a192d2dc2e103c64": {
          "model_module": "@jupyter-widgets/output",
          "model_name": "OutputModel",
          "model_module_version": "1.0.0",
          "state": {
            "_dom_classes": [],
            "_model_module": "@jupyter-widgets/output",
            "_model_module_version": "1.0.0",
            "_model_name": "OutputModel",
            "_view_count": null,
            "_view_module": "@jupyter-widgets/output",
            "_view_module_version": "1.0.0",
            "_view_name": "OutputView",
            "layout": "IPY_MODEL_463f6d2b89cb4fe6aee20cd1c8a7b478",
            "msg_id": "",
            "outputs": [
              {
                "output_type": "display_data",
                "data": {
                  "text/plain": "<IPython.core.display.HTML object>",
                  "text/html": "<h2>Primeros registros de >= 90</h2>"
                },
                "metadata": {}
              },
              {
                "output_type": "display_data",
                "data": {
                  "text/plain": "     matricula         carrera genero  promedio  edad   peso  altura\n22          23      INDUSTRIAL      F     90.22    22  59.28  159.28\n28          29  ADMINISTRACION      M     91.25    23  80.17  180.17\n29          30      INDUSTRIAL      M     95.48    24  81.77  181.77\n31          32    ARQUITECTURA      F     90.42    22  58.68  158.68\n46          47    ARQUITECTURA      F     94.22    23  59.92  159.92\n53          54     MECATRONICA      F     90.10    22  56.61  156.61\n54          55      BIOQUIMICA      F     91.49    23  57.56  157.56\n55          56    ARQUITECTURA      F     93.90    23  57.03  157.03\n81          82       ELECTRICA      F     92.04    23  56.04  156.04\n93          94           CIVIL      F     93.90    23  61.62  161.62\n95          96           CIVIL      F     90.30    22  62.54  162.54\n109        110      BIOQUIMICA      M     90.81    22  77.89  177.89\n117        118       ELECTRICA      F     94.93    24  58.84  158.84\n119        120       ELECTRICA      F     92.51    23  60.02  160.02\n129        130  ADMINISTRACION      F     90.33    22  58.94  158.94\n131        132     INFORMATICA      F     94.31    23  59.44  159.44\n135        136    ARQUITECTURA      M     90.56    22  85.51  185.51\n151        152      INDUSTRIAL      M     95.37    24  81.63  181.63\n159        160        MECANICA      F     91.52    23  56.47  156.47\n160        161           CIVIL      F     91.97    23  60.34  160.34",
                  "text/html": "\n  <div id=\"df-2d4be3ec-96b8-4e7f-be4e-16a160d178d5\" class=\"colab-df-container\">\n    <div>\n<style scoped>\n    .dataframe tbody tr th:only-of-type {\n        vertical-align: middle;\n    }\n\n    .dataframe tbody tr th {\n        vertical-align: top;\n    }\n\n    .dataframe thead th {\n        text-align: right;\n    }\n</style>\n<table border=\"1\" class=\"dataframe\">\n  <thead>\n    <tr style=\"text-align: right;\">\n      <th></th>\n      <th>matricula</th>\n      <th>carrera</th>\n      <th>genero</th>\n      <th>promedio</th>\n      <th>edad</th>\n      <th>peso</th>\n      <th>altura</th>\n    </tr>\n  </thead>\n  <tbody>\n    <tr>\n      <th>22</th>\n      <td>23</td>\n      <td>INDUSTRIAL</td>\n      <td>F</td>\n      <td>90.22</td>\n      <td>22</td>\n      <td>59.28</td>\n      <td>159.28</td>\n    </tr>\n    <tr>\n      <th>28</th>\n      <td>29</td>\n      <td>ADMINISTRACION</td>\n      <td>M</td>\n      <td>91.25</td>\n      <td>23</td>\n      <td>80.17</td>\n      <td>180.17</td>\n    </tr>\n    <tr>\n      <th>29</th>\n      <td>30</td>\n      <td>INDUSTRIAL</td>\n      <td>M</td>\n      <td>95.48</td>\n      <td>24</td>\n      <td>81.77</td>\n      <td>181.77</td>\n    </tr>\n    <tr>\n      <th>31</th>\n      <td>32</td>\n      <td>ARQUITECTURA</td>\n      <td>F</td>\n      <td>90.42</td>\n      <td>22</td>\n      <td>58.68</td>\n      <td>158.68</td>\n    </tr>\n    <tr>\n      <th>46</th>\n      <td>47</td>\n      <td>ARQUITECTURA</td>\n      <td>F</td>\n      <td>94.22</td>\n      <td>23</td>\n      <td>59.92</td>\n      <td>159.92</td>\n    </tr>\n    <tr>\n      <th>53</th>\n      <td>54</td>\n      <td>MECATRONICA</td>\n      <td>F</td>\n      <td>90.10</td>\n      <td>22</td>\n      <td>56.61</td>\n      <td>156.61</td>\n    </tr>\n    <tr>\n      <th>54</th>\n      <td>55</td>\n      <td>BIOQUIMICA</td>\n      <td>F</td>\n      <td>91.49</td>\n      <td>23</td>\n      <td>57.56</td>\n      <td>157.56</td>\n    </tr>\n    <tr>\n      <th>55</th>\n      <td>56</td>\n      <td>ARQUITECTURA</td>\n      <td>F</td>\n      <td>93.90</td>\n      <td>23</td>\n      <td>57.03</td>\n      <td>157.03</td>\n    </tr>\n    <tr>\n      <th>81</th>\n      <td>82</td>\n      <td>ELECTRICA</td>\n      <td>F</td>\n      <td>92.04</td>\n      <td>23</td>\n      <td>56.04</td>\n      <td>156.04</td>\n    </tr>\n    <tr>\n      <th>93</th>\n      <td>94</td>\n      <td>CIVIL</td>\n      <td>F</td>\n      <td>93.90</td>\n      <td>23</td>\n      <td>61.62</td>\n      <td>161.62</td>\n    </tr>\n    <tr>\n      <th>95</th>\n      <td>96</td>\n      <td>CIVIL</td>\n      <td>F</td>\n      <td>90.30</td>\n      <td>22</td>\n      <td>62.54</td>\n      <td>162.54</td>\n    </tr>\n    <tr>\n      <th>109</th>\n      <td>110</td>\n      <td>BIOQUIMICA</td>\n      <td>M</td>\n      <td>90.81</td>\n      <td>22</td>\n      <td>77.89</td>\n      <td>177.89</td>\n    </tr>\n    <tr>\n      <th>117</th>\n      <td>118</td>\n      <td>ELECTRICA</td>\n      <td>F</td>\n      <td>94.93</td>\n      <td>24</td>\n      <td>58.84</td>\n      <td>158.84</td>\n    </tr>\n    <tr>\n      <th>119</th>\n      <td>120</td>\n      <td>ELECTRICA</td>\n      <td>F</td>\n      <td>92.51</td>\n      <td>23</td>\n      <td>60.02</td>\n      <td>160.02</td>\n    </tr>\n    <tr>\n      <th>129</th>\n      <td>130</td>\n      <td>ADMINISTRACION</td>\n      <td>F</td>\n      <td>90.33</td>\n      <td>22</td>\n      <td>58.94</td>\n      <td>158.94</td>\n    </tr>\n    <tr>\n      <th>131</th>\n      <td>132</td>\n      <td>INFORMATICA</td>\n      <td>F</td>\n      <td>94.31</td>\n      <td>23</td>\n      <td>59.44</td>\n      <td>159.44</td>\n    </tr>\n    <tr>\n      <th>135</th>\n      <td>136</td>\n      <td>ARQUITECTURA</td>\n      <td>M</td>\n      <td>90.56</td>\n      <td>22</td>\n      <td>85.51</td>\n      <td>185.51</td>\n    </tr>\n    <tr>\n      <th>151</th>\n      <td>152</td>\n      <td>INDUSTRIAL</td>\n      <td>M</td>\n      <td>95.37</td>\n      <td>24</td>\n      <td>81.63</td>\n      <td>181.63</td>\n    </tr>\n    <tr>\n      <th>159</th>\n      <td>160</td>\n      <td>MECANICA</td>\n      <td>F</td>\n      <td>91.52</td>\n      <td>23</td>\n      <td>56.47</td>\n      <td>156.47</td>\n    </tr>\n    <tr>\n      <th>160</th>\n      <td>161</td>\n      <td>CIVIL</td>\n      <td>F</td>\n      <td>91.97</td>\n      <td>23</td>\n      <td>60.34</td>\n      <td>160.34</td>\n    </tr>\n  </tbody>\n</table>\n</div>\n    <div class=\"colab-df-buttons\">\n\n  <div class=\"colab-df-container\">\n    <button class=\"colab-df-convert\" onclick=\"convertToInteractive('df-2d4be3ec-96b8-4e7f-be4e-16a160d178d5')\"\n            title=\"Convert this dataframe to an interactive table.\"\n            style=\"display:none;\">\n\n  <svg xmlns=\"http://www.w3.org/2000/svg\" height=\"24px\" viewBox=\"0 -960 960 960\">\n    <path d=\"M120-120v-720h720v720H120Zm60-500h600v-160H180v160Zm220 220h160v-160H400v160Zm0 220h160v-160H400v160ZM180-400h160v-160H180v160Zm440 0h160v-160H620v160ZM180-180h160v-160H180v160Zm440 0h160v-160H620v160Z\"/>\n  </svg>\n    </button>\n\n  <style>\n    .colab-df-container {\n      display:flex;\n      gap: 12px;\n    }\n\n    .colab-df-convert {\n      background-color: #E8F0FE;\n      border: none;\n      border-radius: 50%;\n      cursor: pointer;\n      display: none;\n      fill: #1967D2;\n      height: 32px;\n      padding: 0 0 0 0;\n      width: 32px;\n    }\n\n    .colab-df-convert:hover {\n      background-color: #E2EBFA;\n      box-shadow: 0px 1px 2px rgba(60, 64, 67, 0.3), 0px 1px 3px 1px rgba(60, 64, 67, 0.15);\n      fill: #174EA6;\n    }\n\n    .colab-df-buttons div {\n      margin-bottom: 4px;\n    }\n\n    [theme=dark] .colab-df-convert {\n      background-color: #3B4455;\n      fill: #D2E3FC;\n    }\n\n    [theme=dark] .colab-df-convert:hover {\n      background-color: #434B5C;\n      box-shadow: 0px 1px 3px 1px rgba(0, 0, 0, 0.15);\n      filter: drop-shadow(0px 1px 2px rgba(0, 0, 0, 0.3));\n      fill: #FFFFFF;\n    }\n  </style>\n\n    <script>\n      const buttonEl =\n        document.querySelector('#df-2d4be3ec-96b8-4e7f-be4e-16a160d178d5 button.colab-df-convert');\n      buttonEl.style.display =\n        google.colab.kernel.accessAllowed ? 'block' : 'none';\n\n      async function convertToInteractive(key) {\n        const element = document.querySelector('#df-2d4be3ec-96b8-4e7f-be4e-16a160d178d5');\n        const dataTable =\n          await google.colab.kernel.invokeFunction('convertToInteractive',\n                                                    [key], {});\n        if (!dataTable) return;\n\n        const docLinkHtml = 'Like what you see? Visit the ' +\n          '<a target=\"_blank\" href=https://colab.research.google.com/notebooks/data_table.ipynb>data table notebook</a>'\n          + ' to learn more about interactive tables.';\n        element.innerHTML = '';\n        dataTable['output_type'] = 'display_data';\n        await google.colab.output.renderOutput(dataTable, element);\n        const docLink = document.createElement('div');\n        docLink.innerHTML = docLinkHtml;\n        element.appendChild(docLink);\n      }\n    </script>\n  </div>\n\n\n<div id=\"df-ac7027b6-982d-4cee-ba11-63ef6e0282ff\">\n  <button class=\"colab-df-quickchart\" onclick=\"quickchart('df-ac7027b6-982d-4cee-ba11-63ef6e0282ff')\"\n            title=\"Suggest charts\"\n            style=\"display:none;\">\n\n<svg xmlns=\"http://www.w3.org/2000/svg\" height=\"24px\"viewBox=\"0 0 24 24\"\n     width=\"24px\">\n    <g>\n        <path d=\"M19 3H5c-1.1 0-2 .9-2 2v14c0 1.1.9 2 2 2h14c1.1 0 2-.9 2-2V5c0-1.1-.9-2-2-2zM9 17H7v-7h2v7zm4 0h-2V7h2v10zm4 0h-2v-4h2v4z\"/>\n    </g>\n</svg>\n  </button>\n\n<style>\n  .colab-df-quickchart {\n      --bg-color: #E8F0FE;\n      --fill-color: #1967D2;\n      --hover-bg-color: #E2EBFA;\n      --hover-fill-color: #174EA6;\n      --disabled-fill-color: #AAA;\n      --disabled-bg-color: #DDD;\n  }\n\n  [theme=dark] .colab-df-quickchart {\n      --bg-color: #3B4455;\n      --fill-color: #D2E3FC;\n      --hover-bg-color: #434B5C;\n      --hover-fill-color: #FFFFFF;\n      --disabled-bg-color: #3B4455;\n      --disabled-fill-color: #666;\n  }\n\n  .colab-df-quickchart {\n    background-color: var(--bg-color);\n    border: none;\n    border-radius: 50%;\n    cursor: pointer;\n    display: none;\n    fill: var(--fill-color);\n    height: 32px;\n    padding: 0;\n    width: 32px;\n  }\n\n  .colab-df-quickchart:hover {\n    background-color: var(--hover-bg-color);\n    box-shadow: 0 1px 2px rgba(60, 64, 67, 0.3), 0 1px 3px 1px rgba(60, 64, 67, 0.15);\n    fill: var(--button-hover-fill-color);\n  }\n\n  .colab-df-quickchart-complete:disabled,\n  .colab-df-quickchart-complete:disabled:hover {\n    background-color: var(--disabled-bg-color);\n    fill: var(--disabled-fill-color);\n    box-shadow: none;\n  }\n\n  .colab-df-spinner {\n    border: 2px solid var(--fill-color);\n    border-color: transparent;\n    border-bottom-color: var(--fill-color);\n    animation:\n      spin 1s steps(1) infinite;\n  }\n\n  @keyframes spin {\n    0% {\n      border-color: transparent;\n      border-bottom-color: var(--fill-color);\n      border-left-color: var(--fill-color);\n    }\n    20% {\n      border-color: transparent;\n      border-left-color: var(--fill-color);\n      border-top-color: var(--fill-color);\n    }\n    30% {\n      border-color: transparent;\n      border-left-color: var(--fill-color);\n      border-top-color: var(--fill-color);\n      border-right-color: var(--fill-color);\n    }\n    40% {\n      border-color: transparent;\n      border-right-color: var(--fill-color);\n      border-top-color: var(--fill-color);\n    }\n    60% {\n      border-color: transparent;\n      border-right-color: var(--fill-color);\n    }\n    80% {\n      border-color: transparent;\n      border-right-color: var(--fill-color);\n      border-bottom-color: var(--fill-color);\n    }\n    90% {\n      border-color: transparent;\n      border-bottom-color: var(--fill-color);\n    }\n  }\n</style>\n\n  <script>\n    async function quickchart(key) {\n      const quickchartButtonEl =\n        document.querySelector('#' + key + ' button');\n      quickchartButtonEl.disabled = true;  // To prevent multiple clicks.\n      quickchartButtonEl.classList.add('colab-df-spinner');\n      try {\n        const charts = await google.colab.kernel.invokeFunction(\n            'suggestCharts', [key], {});\n      } catch (error) {\n        console.error('Error during call to suggestCharts:', error);\n      }\n      quickchartButtonEl.classList.remove('colab-df-spinner');\n      quickchartButtonEl.classList.add('colab-df-quickchart-complete');\n    }\n    (() => {\n      let quickchartButtonEl =\n        document.querySelector('#df-ac7027b6-982d-4cee-ba11-63ef6e0282ff button');\n      quickchartButtonEl.style.display =\n        google.colab.kernel.accessAllowed ? 'block' : 'none';\n    })();\n  </script>\n</div>\n    </div>\n  </div>\n",
                  "application/vnd.google.colaboratory.intrinsic+json": {
                    "type": "dataframe",
                    "summary": "{\n  \"name\": \"print (\\\"Hay \\\", cuantos, \\\" alumnos que tienen promedio igual o mayor que 90\\\", \\\"que representan una probabilidad de \\\", np\",\n  \"rows\": 20,\n  \"fields\": [\n    {\n      \"column\": \"matricula\",\n      \"properties\": {\n        \"dtype\": \"number\",\n        \"std\": 47,\n        \"min\": 23,\n        \"max\": 161,\n        \"num_unique_values\": 20,\n        \"samples\": [\n          23,\n          152,\n          132\n        ],\n        \"semantic_type\": \"\",\n        \"description\": \"\"\n      }\n    },\n    {\n      \"column\": \"carrera\",\n      \"properties\": {\n        \"dtype\": \"category\",\n        \"num_unique_values\": 9,\n        \"samples\": [\n          \"INFORMATICA\",\n          \"ADMINISTRACION\",\n          \"ELECTRICA\"\n        ],\n        \"semantic_type\": \"\",\n        \"description\": \"\"\n      }\n    },\n    {\n      \"column\": \"genero\",\n      \"properties\": {\n        \"dtype\": \"category\",\n        \"num_unique_values\": 2,\n        \"samples\": [\n          \"M\",\n          \"F\"\n        ],\n        \"semantic_type\": \"\",\n        \"description\": \"\"\n      }\n    },\n    {\n      \"column\": \"promedio\",\n      \"properties\": {\n        \"dtype\": \"number\",\n        \"std\": 1.887784206557075,\n        \"min\": 90.1,\n        \"max\": 95.48,\n        \"num_unique_values\": 19,\n        \"samples\": [\n          90.22,\n          90.1\n        ],\n        \"semantic_type\": \"\",\n        \"description\": \"\"\n      }\n    },\n    {\n      \"column\": \"edad\",\n      \"properties\": {\n        \"dtype\": \"number\",\n        \"std\": 0,\n        \"min\": 22,\n        \"max\": 24,\n        \"num_unique_values\": 3,\n        \"samples\": [\n          22,\n          23\n        ],\n        \"semantic_type\": \"\",\n        \"description\": \"\"\n      }\n    },\n    {\n      \"column\": \"peso\",\n      \"properties\": {\n        \"dtype\": \"number\",\n        \"std\": 10.209328809321507,\n        \"min\": 56.04,\n        \"max\": 85.51,\n        \"num_unique_values\": 20,\n        \"samples\": [\n          59.28,\n          81.63\n        ],\n        \"semantic_type\": \"\",\n        \"description\": \"\"\n      }\n    },\n    {\n      \"column\": \"altura\",\n      \"properties\": {\n        \"dtype\": \"number\",\n        \"std\": 10.209328809321505,\n        \"min\": 156.04,\n        \"max\": 185.51,\n        \"num_unique_values\": 20,\n        \"samples\": [\n          159.28,\n          181.63\n        ],\n        \"semantic_type\": \"\",\n        \"description\": \"\"\n      }\n    }\n  ]\n}"
                  }
                },
                "metadata": {}
              },
              {
                "output_type": "display_data",
                "data": {
                  "text/plain": "<IPython.core.display.HTML object>",
                  "text/html": "<h2>Últimos registros de >=¨90</h2>"
                },
                "metadata": {}
              },
              {
                "output_type": "display_data",
                "data": {
                  "text/plain": "      matricula         carrera genero  promedio  edad   peso  altura\n7421       7422    ARQUITECTURA      F     91.26    23  57.66  157.66\n7426       7427      BIOQUIMICA      M     91.06    22  79.97  179.97\n7428       7429     ELECTRONICA      F     94.13    23  65.43  165.43\n7429       7430        SISTEMAS      M     91.22    23  84.83  184.83\n7438       7439     ELECTRONICA      M     90.79    22  78.74  178.74\n7473       7474             TIC      F     90.24    22  61.38  161.38\n7474       7475     ELECTRONICA      M     92.18    23  80.45  180.45\n7477       7478      BIOQUIMICA      M     91.63    23  77.50  177.50\n7483       7484    ARQUITECTURA      M     90.58    22  80.42  180.42\n7488       7489  ADMINISTRACION      M     91.63    23  87.33  187.33\n7494       7495             TIC      F     91.48    23  64.03  164.03\n7500       7501             TIC      F     91.28    23  63.09  163.09\n7512       7513        MECANICA      F     90.43    22  59.16  159.16\n7515       7516             TIC      M     92.40    23  81.67  181.67\n7526       7527        MECANICA      F     92.69    23  57.91  157.91\n7527       7528        SISTEMAS      M     90.71    22  81.73  181.73\n7529       7530        SISTEMAS      F     92.44    23  61.30  161.30\n7545       7546     INFORMATICA      F     90.47    22  58.15  158.15\n7547       7548             TIC      F     91.55    23  56.96  156.96\n7551       7552  ADMINISTRACION      F     90.00    22  62.62  162.62",
                  "text/html": "\n  <div id=\"df-8c006d04-fddf-4e0b-ab31-f233200d204b\" class=\"colab-df-container\">\n    <div>\n<style scoped>\n    .dataframe tbody tr th:only-of-type {\n        vertical-align: middle;\n    }\n\n    .dataframe tbody tr th {\n        vertical-align: top;\n    }\n\n    .dataframe thead th {\n        text-align: right;\n    }\n</style>\n<table border=\"1\" class=\"dataframe\">\n  <thead>\n    <tr style=\"text-align: right;\">\n      <th></th>\n      <th>matricula</th>\n      <th>carrera</th>\n      <th>genero</th>\n      <th>promedio</th>\n      <th>edad</th>\n      <th>peso</th>\n      <th>altura</th>\n    </tr>\n  </thead>\n  <tbody>\n    <tr>\n      <th>7421</th>\n      <td>7422</td>\n      <td>ARQUITECTURA</td>\n      <td>F</td>\n      <td>91.26</td>\n      <td>23</td>\n      <td>57.66</td>\n      <td>157.66</td>\n    </tr>\n    <tr>\n      <th>7426</th>\n      <td>7427</td>\n      <td>BIOQUIMICA</td>\n      <td>M</td>\n      <td>91.06</td>\n      <td>22</td>\n      <td>79.97</td>\n      <td>179.97</td>\n    </tr>\n    <tr>\n      <th>7428</th>\n      <td>7429</td>\n      <td>ELECTRONICA</td>\n      <td>F</td>\n      <td>94.13</td>\n      <td>23</td>\n      <td>65.43</td>\n      <td>165.43</td>\n    </tr>\n    <tr>\n      <th>7429</th>\n      <td>7430</td>\n      <td>SISTEMAS</td>\n      <td>M</td>\n      <td>91.22</td>\n      <td>23</td>\n      <td>84.83</td>\n      <td>184.83</td>\n    </tr>\n    <tr>\n      <th>7438</th>\n      <td>7439</td>\n      <td>ELECTRONICA</td>\n      <td>M</td>\n      <td>90.79</td>\n      <td>22</td>\n      <td>78.74</td>\n      <td>178.74</td>\n    </tr>\n    <tr>\n      <th>7473</th>\n      <td>7474</td>\n      <td>TIC</td>\n      <td>F</td>\n      <td>90.24</td>\n      <td>22</td>\n      <td>61.38</td>\n      <td>161.38</td>\n    </tr>\n    <tr>\n      <th>7474</th>\n      <td>7475</td>\n      <td>ELECTRONICA</td>\n      <td>M</td>\n      <td>92.18</td>\n      <td>23</td>\n      <td>80.45</td>\n      <td>180.45</td>\n    </tr>\n    <tr>\n      <th>7477</th>\n      <td>7478</td>\n      <td>BIOQUIMICA</td>\n      <td>M</td>\n      <td>91.63</td>\n      <td>23</td>\n      <td>77.50</td>\n      <td>177.50</td>\n    </tr>\n    <tr>\n      <th>7483</th>\n      <td>7484</td>\n      <td>ARQUITECTURA</td>\n      <td>M</td>\n      <td>90.58</td>\n      <td>22</td>\n      <td>80.42</td>\n      <td>180.42</td>\n    </tr>\n    <tr>\n      <th>7488</th>\n      <td>7489</td>\n      <td>ADMINISTRACION</td>\n      <td>M</td>\n      <td>91.63</td>\n      <td>23</td>\n      <td>87.33</td>\n      <td>187.33</td>\n    </tr>\n    <tr>\n      <th>7494</th>\n      <td>7495</td>\n      <td>TIC</td>\n      <td>F</td>\n      <td>91.48</td>\n      <td>23</td>\n      <td>64.03</td>\n      <td>164.03</td>\n    </tr>\n    <tr>\n      <th>7500</th>\n      <td>7501</td>\n      <td>TIC</td>\n      <td>F</td>\n      <td>91.28</td>\n      <td>23</td>\n      <td>63.09</td>\n      <td>163.09</td>\n    </tr>\n    <tr>\n      <th>7512</th>\n      <td>7513</td>\n      <td>MECANICA</td>\n      <td>F</td>\n      <td>90.43</td>\n      <td>22</td>\n      <td>59.16</td>\n      <td>159.16</td>\n    </tr>\n    <tr>\n      <th>7515</th>\n      <td>7516</td>\n      <td>TIC</td>\n      <td>M</td>\n      <td>92.40</td>\n      <td>23</td>\n      <td>81.67</td>\n      <td>181.67</td>\n    </tr>\n    <tr>\n      <th>7526</th>\n      <td>7527</td>\n      <td>MECANICA</td>\n      <td>F</td>\n      <td>92.69</td>\n      <td>23</td>\n      <td>57.91</td>\n      <td>157.91</td>\n    </tr>\n    <tr>\n      <th>7527</th>\n      <td>7528</td>\n      <td>SISTEMAS</td>\n      <td>M</td>\n      <td>90.71</td>\n      <td>22</td>\n      <td>81.73</td>\n      <td>181.73</td>\n    </tr>\n    <tr>\n      <th>7529</th>\n      <td>7530</td>\n      <td>SISTEMAS</td>\n      <td>F</td>\n      <td>92.44</td>\n      <td>23</td>\n      <td>61.30</td>\n      <td>161.30</td>\n    </tr>\n    <tr>\n      <th>7545</th>\n      <td>7546</td>\n      <td>INFORMATICA</td>\n      <td>F</td>\n      <td>90.47</td>\n      <td>22</td>\n      <td>58.15</td>\n      <td>158.15</td>\n    </tr>\n    <tr>\n      <th>7547</th>\n      <td>7548</td>\n      <td>TIC</td>\n      <td>F</td>\n      <td>91.55</td>\n      <td>23</td>\n      <td>56.96</td>\n      <td>156.96</td>\n    </tr>\n    <tr>\n      <th>7551</th>\n      <td>7552</td>\n      <td>ADMINISTRACION</td>\n      <td>F</td>\n      <td>90.00</td>\n      <td>22</td>\n      <td>62.62</td>\n      <td>162.62</td>\n    </tr>\n  </tbody>\n</table>\n</div>\n    <div class=\"colab-df-buttons\">\n\n  <div class=\"colab-df-container\">\n    <button class=\"colab-df-convert\" onclick=\"convertToInteractive('df-8c006d04-fddf-4e0b-ab31-f233200d204b')\"\n            title=\"Convert this dataframe to an interactive table.\"\n            style=\"display:none;\">\n\n  <svg xmlns=\"http://www.w3.org/2000/svg\" height=\"24px\" viewBox=\"0 -960 960 960\">\n    <path d=\"M120-120v-720h720v720H120Zm60-500h600v-160H180v160Zm220 220h160v-160H400v160Zm0 220h160v-160H400v160ZM180-400h160v-160H180v160Zm440 0h160v-160H620v160ZM180-180h160v-160H180v160Zm440 0h160v-160H620v160Z\"/>\n  </svg>\n    </button>\n\n  <style>\n    .colab-df-container {\n      display:flex;\n      gap: 12px;\n    }\n\n    .colab-df-convert {\n      background-color: #E8F0FE;\n      border: none;\n      border-radius: 50%;\n      cursor: pointer;\n      display: none;\n      fill: #1967D2;\n      height: 32px;\n      padding: 0 0 0 0;\n      width: 32px;\n    }\n\n    .colab-df-convert:hover {\n      background-color: #E2EBFA;\n      box-shadow: 0px 1px 2px rgba(60, 64, 67, 0.3), 0px 1px 3px 1px rgba(60, 64, 67, 0.15);\n      fill: #174EA6;\n    }\n\n    .colab-df-buttons div {\n      margin-bottom: 4px;\n    }\n\n    [theme=dark] .colab-df-convert {\n      background-color: #3B4455;\n      fill: #D2E3FC;\n    }\n\n    [theme=dark] .colab-df-convert:hover {\n      background-color: #434B5C;\n      box-shadow: 0px 1px 3px 1px rgba(0, 0, 0, 0.15);\n      filter: drop-shadow(0px 1px 2px rgba(0, 0, 0, 0.3));\n      fill: #FFFFFF;\n    }\n  </style>\n\n    <script>\n      const buttonEl =\n        document.querySelector('#df-8c006d04-fddf-4e0b-ab31-f233200d204b button.colab-df-convert');\n      buttonEl.style.display =\n        google.colab.kernel.accessAllowed ? 'block' : 'none';\n\n      async function convertToInteractive(key) {\n        const element = document.querySelector('#df-8c006d04-fddf-4e0b-ab31-f233200d204b');\n        const dataTable =\n          await google.colab.kernel.invokeFunction('convertToInteractive',\n                                                    [key], {});\n        if (!dataTable) return;\n\n        const docLinkHtml = 'Like what you see? Visit the ' +\n          '<a target=\"_blank\" href=https://colab.research.google.com/notebooks/data_table.ipynb>data table notebook</a>'\n          + ' to learn more about interactive tables.';\n        element.innerHTML = '';\n        dataTable['output_type'] = 'display_data';\n        await google.colab.output.renderOutput(dataTable, element);\n        const docLink = document.createElement('div');\n        docLink.innerHTML = docLinkHtml;\n        element.appendChild(docLink);\n      }\n    </script>\n  </div>\n\n\n<div id=\"df-a2936f69-791c-486f-8465-1ff83f38e3fa\">\n  <button class=\"colab-df-quickchart\" onclick=\"quickchart('df-a2936f69-791c-486f-8465-1ff83f38e3fa')\"\n            title=\"Suggest charts\"\n            style=\"display:none;\">\n\n<svg xmlns=\"http://www.w3.org/2000/svg\" height=\"24px\"viewBox=\"0 0 24 24\"\n     width=\"24px\">\n    <g>\n        <path d=\"M19 3H5c-1.1 0-2 .9-2 2v14c0 1.1.9 2 2 2h14c1.1 0 2-.9 2-2V5c0-1.1-.9-2-2-2zM9 17H7v-7h2v7zm4 0h-2V7h2v10zm4 0h-2v-4h2v4z\"/>\n    </g>\n</svg>\n  </button>\n\n<style>\n  .colab-df-quickchart {\n      --bg-color: #E8F0FE;\n      --fill-color: #1967D2;\n      --hover-bg-color: #E2EBFA;\n      --hover-fill-color: #174EA6;\n      --disabled-fill-color: #AAA;\n      --disabled-bg-color: #DDD;\n  }\n\n  [theme=dark] .colab-df-quickchart {\n      --bg-color: #3B4455;\n      --fill-color: #D2E3FC;\n      --hover-bg-color: #434B5C;\n      --hover-fill-color: #FFFFFF;\n      --disabled-bg-color: #3B4455;\n      --disabled-fill-color: #666;\n  }\n\n  .colab-df-quickchart {\n    background-color: var(--bg-color);\n    border: none;\n    border-radius: 50%;\n    cursor: pointer;\n    display: none;\n    fill: var(--fill-color);\n    height: 32px;\n    padding: 0;\n    width: 32px;\n  }\n\n  .colab-df-quickchart:hover {\n    background-color: var(--hover-bg-color);\n    box-shadow: 0 1px 2px rgba(60, 64, 67, 0.3), 0 1px 3px 1px rgba(60, 64, 67, 0.15);\n    fill: var(--button-hover-fill-color);\n  }\n\n  .colab-df-quickchart-complete:disabled,\n  .colab-df-quickchart-complete:disabled:hover {\n    background-color: var(--disabled-bg-color);\n    fill: var(--disabled-fill-color);\n    box-shadow: none;\n  }\n\n  .colab-df-spinner {\n    border: 2px solid var(--fill-color);\n    border-color: transparent;\n    border-bottom-color: var(--fill-color);\n    animation:\n      spin 1s steps(1) infinite;\n  }\n\n  @keyframes spin {\n    0% {\n      border-color: transparent;\n      border-bottom-color: var(--fill-color);\n      border-left-color: var(--fill-color);\n    }\n    20% {\n      border-color: transparent;\n      border-left-color: var(--fill-color);\n      border-top-color: var(--fill-color);\n    }\n    30% {\n      border-color: transparent;\n      border-left-color: var(--fill-color);\n      border-top-color: var(--fill-color);\n      border-right-color: var(--fill-color);\n    }\n    40% {\n      border-color: transparent;\n      border-right-color: var(--fill-color);\n      border-top-color: var(--fill-color);\n    }\n    60% {\n      border-color: transparent;\n      border-right-color: var(--fill-color);\n    }\n    80% {\n      border-color: transparent;\n      border-right-color: var(--fill-color);\n      border-bottom-color: var(--fill-color);\n    }\n    90% {\n      border-color: transparent;\n      border-bottom-color: var(--fill-color);\n    }\n  }\n</style>\n\n  <script>\n    async function quickchart(key) {\n      const quickchartButtonEl =\n        document.querySelector('#' + key + ' button');\n      quickchartButtonEl.disabled = true;  // To prevent multiple clicks.\n      quickchartButtonEl.classList.add('colab-df-spinner');\n      try {\n        const charts = await google.colab.kernel.invokeFunction(\n            'suggestCharts', [key], {});\n      } catch (error) {\n        console.error('Error during call to suggestCharts:', error);\n      }\n      quickchartButtonEl.classList.remove('colab-df-spinner');\n      quickchartButtonEl.classList.add('colab-df-quickchart-complete');\n    }\n    (() => {\n      let quickchartButtonEl =\n        document.querySelector('#df-a2936f69-791c-486f-8465-1ff83f38e3fa button');\n      quickchartButtonEl.style.display =\n        google.colab.kernel.accessAllowed ? 'block' : 'none';\n    })();\n  </script>\n</div>\n    </div>\n  </div>\n",
                  "application/vnd.google.colaboratory.intrinsic+json": {
                    "type": "dataframe",
                    "summary": "{\n  \"name\": \"print (\\\"Hay \\\", cuantos, \\\" alumnos que tienen promedio igual o mayor que 90\\\", \\\"que representan una probabilidad de \\\", np\",\n  \"rows\": 20,\n  \"fields\": [\n    {\n      \"column\": \"matricula\",\n      \"properties\": {\n        \"dtype\": \"number\",\n        \"std\": 43,\n        \"min\": 7422,\n        \"max\": 7552,\n        \"num_unique_values\": 20,\n        \"samples\": [\n          7422,\n          7546,\n          7528\n        ],\n        \"semantic_type\": \"\",\n        \"description\": \"\"\n      }\n    },\n    {\n      \"column\": \"carrera\",\n      \"properties\": {\n        \"dtype\": \"category\",\n        \"num_unique_values\": 8,\n        \"samples\": [\n          \"BIOQUIMICA\",\n          \"ADMINISTRACION\",\n          \"ARQUITECTURA\"\n        ],\n        \"semantic_type\": \"\",\n        \"description\": \"\"\n      }\n    },\n    {\n      \"column\": \"genero\",\n      \"properties\": {\n        \"dtype\": \"category\",\n        \"num_unique_values\": 2,\n        \"samples\": [\n          \"M\",\n          \"F\"\n        ],\n        \"semantic_type\": \"\",\n        \"description\": \"\"\n      }\n    },\n    {\n      \"column\": \"promedio\",\n      \"properties\": {\n        \"dtype\": \"number\",\n        \"std\": 0.9935119791082431,\n        \"min\": 90.0,\n        \"max\": 94.13,\n        \"num_unique_values\": 19,\n        \"samples\": [\n          91.26,\n          90.24\n        ],\n        \"semantic_type\": \"\",\n        \"description\": \"\"\n      }\n    },\n    {\n      \"column\": \"edad\",\n      \"properties\": {\n        \"dtype\": \"number\",\n        \"std\": 0,\n        \"min\": 22,\n        \"max\": 23,\n        \"num_unique_values\": 2,\n        \"samples\": [\n          22,\n          23\n        ],\n        \"semantic_type\": \"\",\n        \"description\": \"\"\n      }\n    },\n    {\n      \"column\": \"peso\",\n      \"properties\": {\n        \"dtype\": \"number\",\n        \"std\": 10.952042960105663,\n        \"min\": 56.96,\n        \"max\": 87.33,\n        \"num_unique_values\": 20,\n        \"samples\": [\n          57.66,\n          58.15\n        ],\n        \"semantic_type\": \"\",\n        \"description\": \"\"\n      }\n    },\n    {\n      \"column\": \"altura\",\n      \"properties\": {\n        \"dtype\": \"number\",\n        \"std\": 10.95204296010566,\n        \"min\": 156.96,\n        \"max\": 187.33,\n        \"num_unique_values\": 20,\n        \"samples\": [\n          157.66,\n          158.15\n        ],\n        \"semantic_type\": \"\",\n        \"description\": \"\"\n      }\n    }\n  ]\n}"
                  }
                },
                "metadata": {}
              }
            ]
          }
        },
        "463f6d2b89cb4fe6aee20cd1c8a7b478": {
          "model_module": "@jupyter-widgets/base",
          "model_name": "LayoutModel",
          "model_module_version": "1.2.0",
          "state": {
            "_model_module": "@jupyter-widgets/base",
            "_model_module_version": "1.2.0",
            "_model_name": "LayoutModel",
            "_view_count": null,
            "_view_module": "@jupyter-widgets/base",
            "_view_module_version": "1.2.0",
            "_view_name": "LayoutView",
            "align_content": null,
            "align_items": null,
            "align_self": null,
            "border": null,
            "bottom": null,
            "display": null,
            "flex": null,
            "flex_flow": null,
            "grid_area": null,
            "grid_auto_columns": null,
            "grid_auto_flow": null,
            "grid_auto_rows": null,
            "grid_column": null,
            "grid_gap": null,
            "grid_row": null,
            "grid_template_areas": null,
            "grid_template_columns": null,
            "grid_template_rows": null,
            "height": null,
            "justify_content": null,
            "justify_items": null,
            "left": null,
            "margin": null,
            "max_height": null,
            "max_width": null,
            "min_height": null,
            "min_width": null,
            "object_fit": null,
            "object_position": null,
            "order": null,
            "overflow": null,
            "overflow_x": null,
            "overflow_y": null,
            "padding": null,
            "right": null,
            "top": null,
            "visibility": null,
            "width": null
          }
        }
      }
    }
  },
  "cells": [
    {
      "cell_type": "markdown",
      "metadata": {
        "id": "view-in-github",
        "colab_type": "text"
      },
      "source": [
        "<a href=\"https://colab.research.google.com/github/rpizarrog/probabilidad-y-estad-stica/blob/master/2024/Caso_05_Espacio_muestral.ipynb\" target=\"_parent\"><img src=\"https://colab.research.google.com/assets/colab-badge.svg\" alt=\"Open In Colab\"/></a>"
      ]
    },
    {
      "cell_type": "markdown",
      "source": [
        "# Objetivo\n",
        "\n",
        "Crear eventos a partir de un espacio muestral de alumnos."
      ],
      "metadata": {
        "id": "7u8ShwUu9K6A"
      }
    },
    {
      "cell_type": "markdown",
      "source": [
        "# Desarrollo\n",
        "## Cargar librerías"
      ],
      "metadata": {
        "id": "7pW6SuZ89TSB"
      }
    },
    {
      "cell_type": "code",
      "execution_count": null,
      "metadata": {
        "id": "snKsly5C9IFm"
      },
      "outputs": [],
      "source": [
        "# Cargar librerías\n",
        "\n",
        "import pandas as pd\n",
        "import numpy as np\n",
        "\n",
        "# Para widgetes\n",
        "import ipywidgets as widgets\n",
        "from IPython.display import display, HTML, clear_output"
      ]
    },
    {
      "cell_type": "markdown",
      "source": [
        "## Crear fuciones\n",
        "\n"
      ],
      "metadata": {
        "id": "e5zxa3a2r2Wa"
      }
    },
    {
      "cell_type": "code",
      "source": [
        "def f_crear_tabla_frecuencia(tabla_frecuencia):\n",
        "  # Agregando las demas columnas\n",
        "  tabla_frecuencia['Frec Rel'] = tabla_frecuencia['Frec'] / n\n",
        "  tabla_frecuencia['Frec Porc'] = tabla_frecuencia['Frec'] / n * 100\n",
        "  tabla_frecuencia['Frec Ac'] = tabla_frecuencia['Frec'].cumsum()\n",
        "  tabla_frecuencia['Frec Rel Ac'] = tabla_frecuencia['Frec Rel'].cumsum()\n",
        "  tabla_frecuencia['Frec Porc Ac'] = tabla_frecuencia['Frec Porc'].cumsum()\n",
        "  return tabla_frecuencia\n",
        "\n",
        "\n",
        "\n",
        "\n",
        "# Crear un widget de salida\n",
        "visualizar = widgets.Output()\n",
        "\n",
        "# Función para actualizar y mostrar el contenido dinámicamente en el widget de salida visualizar\n",
        "def f_visualizar_datos(datos1, datos2, titulo1, titulo2):\n",
        "    with visualizar:\n",
        "        #global titulo1, titulo2\n",
        "        #titulo1 = \"Primeros 20 registros de datos\"\n",
        "        visualizar.clear_output(wait=True)  # Limpiar el contenido anterior\n",
        "        display(HTML(f\"<h2>{titulo1}</h2>\"))  # Establecer el nuevo título\n",
        "        # Visualizar datos\n",
        "        display(datos1)\n",
        "\n",
        "        #titulo2 = \"Últimos 20 registros de datos\"\n",
        "        display(HTML(f\"<h2>{titulo2}</h2>\"))  # Establecer el nuevo título\n",
        "        # Visualizar datos\n",
        "        display(datos2)\n",
        "  #display(visualizar)"
      ],
      "metadata": {
        "id": "H8s8jBQNr37y"
      },
      "execution_count": null,
      "outputs": []
    },
    {
      "cell_type": "markdown",
      "source": [
        "## Cargar los datos\n"
      ],
      "metadata": {
        "id": "g1kWiiEP9XUv"
      }
    },
    {
      "cell_type": "code",
      "source": [
        "# URL del archivo CSV\n",
        "url = \"https://raw.githubusercontent.com/rpizarrog/probabilidad-y-estad-stica/master/2023/datos/alumnos.csv\"\n",
        "\n",
        "# Cargar los datos en un DataFrame\n",
        "datos = pd.read_csv(url)\n",
        "\n",
        "# Llamar a la función para mostrar datos de entrenamiento ordenados por índice\n",
        "f_visualizar_datos(datos.head(20), datos.tail(20), \"Primeros registros de Datos\", \"Últimos registros de Datos\")\n",
        "\n",
        "# Para mostrar el widget de salida llamado visualizar\n",
        "display(visualizar)\n",
        "\n",
        "# print(\"Los primeros y últimos registros de datos (alumnos)\")\n",
        "\n",
        "# print(datos.head(50))\n",
        "\n",
        "# print(datos.tail(50))\n",
        "\n",
        "\n",
        "\n",
        "\n",
        "\n"
      ],
      "metadata": {
        "colab": {
          "base_uri": "https://localhost:8080/",
          "height": 1000,
          "referenced_widgets": [
            "fc3ed991c2d74511a192d2dc2e103c64",
            "463f6d2b89cb4fe6aee20cd1c8a7b478"
          ]
        },
        "id": "mKV-IBg29Y6m",
        "outputId": "216b8793-997b-4979-d578-04ceaab40885"
      },
      "execution_count": null,
      "outputs": [
        {
          "output_type": "display_data",
          "data": {
            "text/plain": [
              "Output()"
            ],
            "application/vnd.jupyter.widget-view+json": {
              "version_major": 2,
              "version_minor": 0,
              "model_id": "fc3ed991c2d74511a192d2dc2e103c64"
            }
          },
          "metadata": {}
        }
      ]
    },
    {
      "cell_type": "code",
      "source": [
        "descripcion_numericas = datos[['promedio', 'edad', 'peso', 'altura']].describe()\n",
        "\n",
        "# Usar describe en datos no numéricos sin FutureWarning\n",
        "descripcion_categoricas = datos.describe(include=['object', 'category'])\n",
        "\n",
        "# print(descripcion_categoricas)\n",
        "\n",
        "# print(descripcion_categorica)\n",
        "# Llamar a la función para mostrar datos de entrenamiento ordenados por índice\n",
        "f_visualizar_datos(descripcion_numericas, descripcion_categoricas,\n",
        "                   \"Estadísticos de variables numéricas\", \"Estadísticos de variables categóricas\")\n",
        "\n",
        "# Para mostrar el widget de salida llamado visualizar\n",
        "display(visualizar)\n",
        "\n",
        "n = len(datos)   # La cantidad de datos\n",
        "print (\"Valor de n\", n)"
      ],
      "metadata": {
        "colab": {
          "base_uri": "https://localhost:8080/",
          "height": 1000,
          "referenced_widgets": [
            "fc3ed991c2d74511a192d2dc2e103c64",
            "463f6d2b89cb4fe6aee20cd1c8a7b478"
          ]
        },
        "id": "G05z4AY-E7op",
        "outputId": "38243e6c-68de-4d64-cebb-9e54ce61ff00"
      },
      "execution_count": null,
      "outputs": [
        {
          "output_type": "display_data",
          "data": {
            "text/plain": [
              "Output()"
            ],
            "application/vnd.jupyter.widget-view+json": {
              "version_major": 2,
              "version_minor": 0,
              "model_id": "fc3ed991c2d74511a192d2dc2e103c64"
            }
          },
          "metadata": {}
        },
        {
          "output_type": "stream",
          "name": "stdout",
          "text": [
            "Valor de n 7560\n"
          ]
        }
      ]
    },
    {
      "cell_type": "markdown",
      "source": [
        "## Preguntas\n",
        "\n",
        "De todo el espacio muestral de alumnos conteste lo siguente:\n",
        "\n",
        "* ¿Cúantos alumnos hay de cada carrera: SISTEMAS, AQUITECTURA, QUIMICA?\n",
        "* ¿Cuál es la probabilidad de seleccionar a un alumno aleatoriamente y que este sea de la carrera de SISTEMAS?\n",
        "* ¿Cuál es la probabilidad de seleccionar a un alumno aleatoriamente y que este sea de la carrera de ARQUITECTURA?\n",
        "* ¿Cuál es la probabilidad de seleccionar a un alumno aleatoriamente y que este sea de la carrera de QUIMICA?\n",
        "* ¿Cuántos alumnos hay del género M Masculino?\n",
        "* ¿Cuál es la probabilida de seleccionar aleatoriamente a un alumno del género M?\n",
        "* ¿Cuántos alumnos hay del género F Femenino?\n",
        "* ¿Cuál es la probabilidad de seleccionar a un alumno del género F?\n",
        "* ¿Cuántos alumnos tienen promedio superior o igual a 90?\n",
        "* ¿Cuál es la probabilidad de seleccionar aleatoriamente a un alumno que tenga promedio superior o igual a 90?\n",
        "* ¿cuántos alumnos hay entre 20 y 22 años?\n",
        "¿Cuál es la probabilidad de seleccionar a un alumno que tenga edad entre 20 y 22 años?\n",
        "* ¿Cuántos alumnos miden por encima de 190 cms de estatura?\n",
        "¿Cuál es la probabilidad de elegir a un alumno que mida por encima de 190 cms?\n",
        "* ¿cuántos alumnos pesan entre un rango de 60 a 65 kgs. que sean del género femenino?\n",
        "* ¿cuántos alumnos pesan entre un rango de 80 a 90 kgs. que sean del género masculino?\n",
        "\n",
        "Se debe mostrar el código Python que resuelva las preguntas\n",
        "\n"
      ],
      "metadata": {
        "id": "yU8hY1YR-YZJ"
      }
    },
    {
      "cell_type": "markdown",
      "source": [
        "## ¿Cúantos alumnos hay de cada carrera: SISTEMAS?\n",
        "\n"
      ],
      "metadata": {
        "id": "MWmh7tU0FeIt"
      }
    },
    {
      "cell_type": "code",
      "source": [
        "sistemas = datos[datos['carrera'] =='SISTEMAS']\n",
        "\n",
        "# sistemas\n",
        "\n",
        "nsistemas = len(sistemas)\n",
        "print (\"¿Cuántos alumnos hay de sistemas \",nsistemas, )\n",
        "\n",
        "print (\"La probabilidad de seleccionar un alumno de sistemas es \", np.round(nsistemas / n * 100, 4))\n"
      ],
      "metadata": {
        "colab": {
          "base_uri": "https://localhost:8080/"
        },
        "id": "duz4t7c1FiAK",
        "outputId": "15cec969-5899-459e-d0f3-99d497af92aa"
      },
      "execution_count": null,
      "outputs": [
        {
          "output_type": "stream",
          "name": "stdout",
          "text": [
            "¿Cuántos alumnos hay de sistemas  613\n",
            "La probabilidad de seleccionar un alumno de sistemas es  8.1085\n"
          ]
        }
      ]
    },
    {
      "cell_type": "markdown",
      "source": [
        "## Tabla de frecuencias por carrera\n"
      ],
      "metadata": {
        "id": "8ociFyS9Lyzz"
      }
    },
    {
      "cell_type": "code",
      "source": [
        "# Crear una tabla de frecuencia para identificar cuántos alumnos hay en cada carrera\n",
        "tabla_frecuencia = datos['carrera'].value_counts().reset_index()\n",
        "tabla_frecuencia.columns = ['Carrera', 'Frec']\n",
        "\n",
        "# Mandar llamar la función que construye y agrega columnas de tablas de frecuencias\n",
        "tabla_frecuencia = f_crear_tabla_frecuencia(tabla_frecuencia)\n",
        "\n",
        "# Llamar a la función para mostrar datos de entrenamiento ordenados por índice\n",
        "f_visualizar_datos(tabla_frecuencia, \"\", \"Tabla de Frecuencia de carreras\", \"\")\n",
        "\n",
        "# Para mostrar el widget de salida llamado visualizar\n",
        "display(visualizar)\n",
        "\n",
        "# Mostrar la tabla de frecuencia\n",
        "#print(tabla_frecuencia)"
      ],
      "metadata": {
        "colab": {
          "base_uri": "https://localhost:8080/",
          "height": 1000,
          "referenced_widgets": [
            "fc3ed991c2d74511a192d2dc2e103c64",
            "463f6d2b89cb4fe6aee20cd1c8a7b478"
          ]
        },
        "id": "-qP0CwbyL1MB",
        "outputId": "339ea98f-44e5-45c4-ecc7-6c56c7f2407e"
      },
      "execution_count": null,
      "outputs": [
        {
          "output_type": "display_data",
          "data": {
            "text/plain": [
              "Output()"
            ],
            "application/vnd.jupyter.widget-view+json": {
              "version_major": 2,
              "version_minor": 0,
              "model_id": "fc3ed991c2d74511a192d2dc2e103c64"
            }
          },
          "metadata": {}
        }
      ]
    },
    {
      "cell_type": "markdown",
      "source": [
        "## Tabla de frecuencias por género\n"
      ],
      "metadata": {
        "id": "YfTCB8yoNC3N"
      }
    },
    {
      "cell_type": "code",
      "source": [
        "# Crear una tabla de frecuencia para identificar cuántos alumnos hay en cada carrera\n",
        "tabla_frecuencia = datos['genero'].value_counts().reset_index()\n",
        "tabla_frecuencia.columns = ['genero', 'Frec']\n",
        "\n",
        "\n",
        "# Mandar llamar la función que construye y agrega columnas de tablas de frecuencias\n",
        "tabla_frecuencia = f_crear_tabla_frecuencia(tabla_frecuencia)\n",
        "\n",
        "# Mostrar la tabla de frecuencia\n",
        "# Llamar a la función para mostrar datos de entrenamiento ordenados por índice\n",
        "f_visualizar_datos(tabla_frecuencia, \"\", \"Tabla de Frecuencia de géneros\", \"\")\n",
        "\n",
        "# Para mostrar el widget de salida llamado visualizar\n",
        "display(visualizar)"
      ],
      "metadata": {
        "colab": {
          "base_uri": "https://localhost:8080/",
          "height": 1000,
          "referenced_widgets": [
            "fc3ed991c2d74511a192d2dc2e103c64",
            "463f6d2b89cb4fe6aee20cd1c8a7b478"
          ]
        },
        "id": "PyOJSmTmNE2o",
        "outputId": "6d982b00-aab0-4ca0-e311-f6852a57a7cb"
      },
      "execution_count": null,
      "outputs": [
        {
          "output_type": "display_data",
          "data": {
            "text/plain": [
              "Output()"
            ],
            "application/vnd.jupyter.widget-view+json": {
              "version_major": 2,
              "version_minor": 0,
              "model_id": "fc3ed991c2d74511a192d2dc2e103c64"
            }
          },
          "metadata": {}
        }
      ]
    },
    {
      "cell_type": "markdown",
      "source": [
        "## Pregunta sobre calificaciones\n",
        "\n",
        "\n",
        "* ¿Cuántos alumnos tienen promedio superior o igual a 90?\n",
        "* ¿Cuál es la probabilidad de seleccionar aleatoriamente a un alumno que tenga promedio superior o igual a 90?\n"
      ],
      "metadata": {
        "id": "bbFYvxoKP_ZB"
      }
    },
    {
      "cell_type": "code",
      "source": [
        "cuales_datos = datos.query('promedio >= 90')\n",
        "# print(cuales)\n",
        "\n",
        "# Llamar a la función para mostrar datos de entrenamiento ordenados por índice\n",
        "f_visualizar_datos(cuales_datos.head(20), cuales_datos.tail(20),\n",
        "                   \"Primeros registros de >= 90\", \"Últimos registros de >=¨90\")\n",
        "\n",
        "# Para mostrar el widget de salida llamado visualizar\n",
        "display(visualizar)\n",
        "\n",
        "cuantos = len(cuales_datos)\n",
        "print (\"Hay \", cuantos, \" alumnos que tienen promedio igual o mayor que 90\", \"que representan una probabilidad de \", np.round(cuantos/n * 100, 4), \"%\")"
      ],
      "metadata": {
        "colab": {
          "base_uri": "https://localhost:8080/",
          "height": 1000,
          "referenced_widgets": [
            "fc3ed991c2d74511a192d2dc2e103c64",
            "463f6d2b89cb4fe6aee20cd1c8a7b478"
          ]
        },
        "id": "FL4XV2v3QcKZ",
        "outputId": "e10870a3-8c2d-4124-be2a-d6b79d1f758c"
      },
      "execution_count": null,
      "outputs": [
        {
          "output_type": "display_data",
          "data": {
            "text/plain": [
              "Output()"
            ],
            "application/vnd.jupyter.widget-view+json": {
              "version_major": 2,
              "version_minor": 0,
              "model_id": "fc3ed991c2d74511a192d2dc2e103c64"
            }
          },
          "metadata": {}
        },
        {
          "output_type": "stream",
          "name": "stdout",
          "text": [
            "Hay  908  alumnos que tienen promedio igual o mayor que 90 que representan una probabilidad de  12.0106 %\n"
          ]
        }
      ]
    },
    {
      "cell_type": "markdown",
      "source": [
        "# Interpretación\n",
        "\n",
        "Describir con al menos 100 palabras lo aprendido del caso. Conteste de manera descriptiva las preguntas.\n",
        "\n",
        "* ¿Cúantos alumnos hay de cada carrera: SISTEMAS, AQUITECTURA, QUIMICA?\n",
        "* ¿Cuál es la probabilidad de seleccionar a un alumno aleatoriamente y que este sea de la carrera de SISTEMAS?\n",
        "* ¿Cuál es la probabilidad de seleccionar a un alumno aleatoriamente y que este sea de la carrera de ARQUITECTURA?\n",
        "* ¿Cuál es la probabilidad de seleccionar a un alumno aleatoriamente y que este sea de la carrera de QUIMICA?\n",
        "* ¿Cuántos alumnos hay del género M Masculino?\n",
        "* ¿Cuál es la probabilida de seleccionar aleatoriamente a un alumno del género M?\n",
        "* ¿Cuántos alumnos hay del género F Femenino?\n",
        "* ¿Cuál es la probabilidad de seleccionar a un alumno del género F?\n",
        "* ¿Cuántos alumnos tienen promedio superior o igual a 90?\n",
        "* ¿Cuál es la probabilidad de seleccionar aleatoriamente a un alumno que tenga promedio superior o igual a 90?\n",
        "* ¿cuántos alumnos hay entre 20 y 22 años?\n",
        "¿Cuál es la probabilidad de seleccionar a un alumno que tenga edad entre 20 y 22 años?\n",
        "* ¿Cuántos alumnos miden por encima de 190 cms de estatura?\n",
        "¿Cuál es la probabilidad de elegir a un alumno que mida por encima de 190 cms?\n",
        "* ¿cuántos alumnos pesan entre un rango de 60 a 65 kgs. que sean del género femenino?\n",
        "* ¿cuántos alumnos pesan entre un rango de 80 a 90 kgs. que sean del género masculino?\n",
        "\n",
        "\n",
        "\n",
        "\n"
      ],
      "metadata": {
        "id": "v2ukU1qk-59Y"
      }
    }
  ]
}