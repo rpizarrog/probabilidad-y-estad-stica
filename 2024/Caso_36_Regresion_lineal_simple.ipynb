{
  "nbformat": 4,
  "nbformat_minor": 0,
  "metadata": {
    "colab": {
      "provenance": [],
      "authorship_tag": "ABX9TyOGQLTcOgfW9zeyaGk7d8Ff",
      "include_colab_link": true
    },
    "kernelspec": {
      "name": "python3",
      "display_name": "Python 3"
    },
    "language_info": {
      "name": "python"
    }
  },
  "cells": [
    {
      "cell_type": "markdown",
      "metadata": {
        "id": "view-in-github",
        "colab_type": "text"
      },
      "source": [
        "<a href=\"https://colab.research.google.com/github/rpizarrog/probabilidad-y-estad-stica/blob/master/2024/Caso_36_Regresion_lineal_simple.ipynb\" target=\"_parent\"><img src=\"https://colab.research.google.com/assets/colab-badge.svg\" alt=\"Open In Colab\"/></a>"
      ]
    },
    {
      "cell_type": "markdown",
      "source": [
        "# Objetivo\n",
        "\n",
        "Evaluar y realizar predicciones con un modelo de regresión lineal simple.\n",
        "\n",
        "\n",
        "\n"
      ],
      "metadata": {
        "id": "FWEsXR7uQRZl"
      }
    },
    {
      "cell_type": "markdown",
      "source": [
        "# Descripción\n",
        "\n",
        "* Cargar librerias\n",
        "* Cargar funciones\n",
        "* Cargar datos\n",
        "* Construir modelo de regresión lineal simple\n",
        "* Evaluar modelo con *root mean squared error RMSE*.\n",
        "* Hacer predicciones\n",
        "* Interpretar el caso"
      ],
      "metadata": {
        "id": "pZpyQtYFQoMN"
      }
    },
    {
      "cell_type": "markdown",
      "source": [
        "# Fundamento teórico\n",
        "\n",
        "La regresión lineal simple implica aplicar una ecuación matemática de mínimos cuadrados que permite pronosticar o predecir el valor de una variable con base en el valor de otra; este procedimiento se llama análisis de regresión.\n",
        "\n",
        "El análisis de regresión es un método para examinar una relación lineal entre dos variables; se utiliza el concepto de correlación r\n",
        ", sin embargo, la regresión proporciona mucho más información, además de permitir estimaciones o predicciones de la relación lineal con la ecuación de mínimos cuadrados (Lind, Marchal, and Wathen 2015).\n",
        "\n",
        "De auerdo a chat gpt: La regresión lineal simple es un método estadístico utilizado para modelar la relación entre dos variables: una independiente (predictora) y una dependiente (respuesta). La relación se representa mediante una línea recta, cuya ecuación es $𝑦=𝑚𝑥+a$, donde 𝑦 es la variable dependiente, 𝑥 es la variable independiente, 𝑚 es la pendiente de la línea, y\n",
        "$a$ es la intersección con el eje 𝑦.\n",
        "\n",
        "Este modelo ayuda a predecir valores de\n",
        "𝑦 basados en valores de 𝑥 y a entender la relación entre las dos variables.\n",
        "\n",
        "Fórmula de mínimos cuadrados:\n",
        "\n",
        "$$\n",
        "Y = a + bx\n",
        "$$\n",
        "\n",
        "* $Y$ Es el valor de una predicccón\n",
        "* $a$ es el coeficiente de la abcisa\n",
        "* $b$ es el valor de la pendiente de la recta de regresión\n",
        "* $x_i$ son los valores de la variable independiente $x$ que permiten hacer prediciones."
      ],
      "metadata": {
        "id": "3ThgLBlyQiaO"
      }
    },
    {
      "cell_type": "markdown",
      "source": [
        "# Interpretación"
      ],
      "metadata": {
        "id": "BLl28YFpQfLu"
      }
    },
    {
      "cell_type": "markdown",
      "source": [
        "\n",
        "\n",
        "# Bibliografía\n",
        "\n",
        "* Amat Rodrigo, Joaquín. 2016. “Correlación Lineal y Regresión Lineal Simple.” 2016. https://www.cienciadedatos.net/documentos/24_correlacion_y_regresion_lineal.\n",
        "* OpenAI. (2024, Mayo 28). Respuesta generada por ChatGPT [Respuesta a consulta]. Obtenido de https://www.openai.com/chatgpt\n",
        "* Hernández Sampieri, Roberto, Carlos Fernández Collado, and María del Pilar Baptista Lucio. 2014. Metodología de La Investigación. Sexta.\n",
        "* Lind, Douglas, William Marchal, and Samuel Wathen. 2015. Estadística Aplicada a Los Negocios y La Economía. Decimo Sexta. México, D.F.: McGraw-Hill.\n",
        "* Walpole, Ronald E., Raymond H. Myers, and Sharon L. Myers. 2012. Probabilidad y Estadística Para Ingeniería y Ciencias. Novena Edición. México: Pearson.\n",
        "* Walpole, Ronald E., Raymond H. Myers, Sharon L. Myers, and Keying Ye. 2007. Probabilidad y Estadística Para Ingeniería y Ciencias. Octava Edición. México: Pearson Education."
      ],
      "metadata": {
        "id": "FYoEJB-CQc-Z"
      }
    }
  ]
}