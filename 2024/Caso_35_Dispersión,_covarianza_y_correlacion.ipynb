{
  "nbformat": 4,
  "nbformat_minor": 0,
  "metadata": {
    "colab": {
      "provenance": [],
      "authorship_tag": "ABX9TyNyh0TYT+epuLyX7udvFV/Z",
      "include_colab_link": true
    },
    "kernelspec": {
      "name": "python3",
      "display_name": "Python 3"
    },
    "language_info": {
      "name": "python"
    }
  },
  "cells": [
    {
      "cell_type": "markdown",
      "metadata": {
        "id": "view-in-github",
        "colab_type": "text"
      },
      "source": [
        "<a href=\"https://colab.research.google.com/github/rpizarrog/probabilidad-y-estad-stica/blob/master/2024/Caso_35_Dispersi%C3%B3n%2C_covarianza_y_correlacion.ipynb\" target=\"_parent\"><img src=\"https://colab.research.google.com/assets/colab-badge.svg\" alt=\"Open In Colab\"/></a>"
      ]
    },
    {
      "cell_type": "markdown",
      "source": [
        "# Objetivo\n",
        "\n",
        "Visualizar e interpretar la dispersión, covarianza y correlación de un conjunto de datos bivariados.\n",
        "\n",
        "\n",
        "\n"
      ],
      "metadata": {
        "id": "CjXS4p13-3xv"
      }
    },
    {
      "cell_type": "markdown",
      "source": [
        "# Descripción\n",
        "\n",
        "* Cargar librerías\n",
        "* Cargar funcones\n",
        "* Cargar datos\n",
        "* Visualizar dispersión de datos\n",
        "* Interpretar el caso"
      ],
      "metadata": {
        "id": "GDp2wrvg_FtF"
      }
    },
    {
      "cell_type": "markdown",
      "source": [
        "# Fundamento teórico\n",
        "\n",
        "La dispersión de datos significa un diagrama que identifica como el grado de distanciamiento de un conjunto de valores respecto a su valor medio.\n",
        "\n",
        "Un ejemplo de una dispersión sería asociar a través de punto que son coordenadas de valores de dos variables x,y.\n",
        "\n",
        "La dispersión de datos bivariados se refiere al análisis de la relación y la variabilidad entre dos variables. En el contexto de datos bivariados, no solo se examina la dispersión de cada variable individualmente, sino también cómo se dispersan conjuntamente y cómo se relacionan entre sí.\n",
        "\n",
        "La dispersión de los datos de dos variables, se puede representar gráficamente ya que muestra la relación entre dos variables mediante puntos en un plano cartesiano.\n",
        "\n",
        "Cada punto representa un par de valores de las dos variables. Permite visualizar patrones, tendencias, correlaciones y posibles outliers o datos atípicos.\n",
        "\n",
        "## Covarianza\n",
        "\n",
        "La covarianza es una medida de cómo dos variables cambian conjuntamente. Una covarianza positiva indica que las variables tienden a aumentar o disminuir juntas, mientras que una covarianza negativa indica que una variable tiende a aumentar cuando la otra disminuye.\n",
        "\n",
        "\n",
        "Fórmula de covarianza\n",
        "\n",
        "$$\n",
        "\\text{Cov}(X, Y) = \\frac{\\sum_{i=1}^{N} (x_i - \\bar{x})(y_i - \\bar{y})}{N}\n",
        "$$\n",
        "\n",
        "* $x_i$ representa la variable numérica $x$\n",
        "* $y_i$ representa la variable numérica $y$\n",
        "* $\\bar{x}$ es la media aritmética de la variable $x$\n",
        "* $\\bar{y}$ es la media aritmética de la variable $y$\n",
        "* N es la cantidad de observaciones de las variabes $x_i$ e $y_i$\n",
        "* $\\text{Cov}(X, Y)$  es el valor numérico de la covarianza\n",
        "\n",
        "En lenguaje Python se puede utilizar la función *covarianza = np.cov(X, Y)* para calcular la covarianza.\n",
        "\n",
        "## Correlación de Pearson\n",
        "\n",
        "La correlación comunmente identificad como $r$ se interpreta como la fuerza de relación entre dos variables numéricas. Comúnmente se le puede denotar como correlación de Pearson\n",
        "\n",
        "Fórmula de correlción de Pearson\n",
        "\n",
        "$$\n",
        "r = \\frac{\\text{Cov}(X, Y)}{\\sigma_x \\sigma_y}\n",
        "$$\n",
        "\n",
        "* $r$ es el valor numérico de la correlación de Pearson\n",
        "* $\\text{Cov}(X, Y)$ es el valor de la covarianza\n",
        "* $\\sigma_x$ es desviación estándar de la variable $x$.\n",
        "* $\\sigma_y$ es desviación estándar de la variable $y$.\n",
        "\n",
        "* El coeficiente de correlación de la muestra se identifica con la letra minúscula r.\n",
        "* Muestra la dirección y fuerza de la relación lineal (recta) entre dos variables en escala de intervalo o de razón. Varía desde -1 hasta +1, inclusive.\n",
        "* Un valor cercano a cero indica que hay poca asociación entre las variables\n",
        "* Un valor cercano a 1 indica una asociación directa o positiva entre las variables.\n",
        "* Un valor cercano a -1 indica una asociación inversa o negativa entre las variables.\n",
        "(Hernández, Fernández, & Baptista, 2014).\n",
        "\n",
        "Se puede interpretar el valor de la correlación de la siguente manera:\n",
        "\n",
        "* -0.90\tCorrelación negativa muy fuerte.\n",
        "* -0.75\tCorrelación negativa considerable.\n",
        "* -0.50\tCorrelación negativa media.\n",
        "* -0.25\tCorrelación negativa débil.\n",
        "* -0.10\tCorrelación negativa muy débil.\n",
        "* 0.00\tNo existe correlación alguna entre las variables.\n",
        "* +0.10\tCorrelación positiva muy débil.\n",
        "* +0.25\tCorrelación positiva débil.\n",
        "* +0.50\tCorrelación positiva media.\n",
        "* +0.75\tCorrelación positiva considerable.\n",
        "* +0.90\tCorrelación positiva muy fuerte.\n",
        "* +1.00\tCorrelación positiva perfecta (“A mayor X, mayor Y” o “a menor X, menor Y”, de manera inversa es la misma. (Hernández, Fernández, & Baptista, 2014)\n",
        "\n",
        "En lenguaje Python se puede utilizar la función de correlación de Pearson con *np.corrcoef(X, Y)* .\n"
      ],
      "metadata": {
        "id": "qILeAng5_O0e"
      }
    },
    {
      "cell_type": "markdown",
      "source": [
        "# Desarrollo\n",
        "\n"
      ],
      "metadata": {
        "id": "0Xs3AXc3DGl5"
      }
    },
    {
      "cell_type": "markdown",
      "source": [
        "## Cargar librerias\n",
        "\n"
      ],
      "metadata": {
        "id": "x0uJO6sXDJD9"
      }
    },
    {
      "cell_type": "code",
      "source": [
        "import numpy as np\n",
        "import pandas as pd\n",
        "import matplotlib.pyplot as plt\n"
      ],
      "metadata": {
        "id": "MraX-M9KDKvT"
      },
      "execution_count": 95,
      "outputs": []
    },
    {
      "cell_type": "markdown",
      "source": [
        "## Cargar funciones\n",
        "\n",
        "La función *cov()* y *cor()* incluyen el argumento rowvar=True (valor por defecto) que significa que cada fila representa una variable, y cada columna representa una observación. *rowvar=False*: Cada columna representa una variable, y cada fila representa una observación.\n"
      ],
      "metadata": {
        "id": "hICnvzdZDPif"
      }
    },
    {
      "cell_type": "code",
      "source": [
        "# Calcula la covarianza de un conjunto de datos bivariados\n",
        "# Los datos deben contener dos variable numéricas\n",
        "def f_covarianza_1(datos):\n",
        "  # Verificar que los datos tengan dos variables\n",
        "  if datos.shape[1] != 2:\n",
        "    raise ValueError(\"Los datos deben contener exactamente dos variables numéricas.\")\n",
        "  # Calcular la covarianza\n",
        "  covarianza = np.cov(datos, rowvar=False)\n",
        "  return covarianza\n",
        "\n",
        "def f_covarianza_2(datos):\n",
        "  # Verificar que los datos tengan dos variables\n",
        "  if datos.shape[1] != 2:\n",
        "    raise ValueError(\"Los datos deben contener exactamente dos variables numéricas.\")\n",
        "  # Calcular las medias de X y Y\n",
        "\n",
        "  # Extraer las dos columnas\n",
        "  X = datos.iloc[:, 0].values\n",
        "  Y = datos.iloc[:, 1].values\n",
        "\n",
        "  mean_X = np.mean(X)\n",
        "  mean_Y = np.mean(Y)\n",
        "\n",
        "  # Calcular la covarianza\n",
        "  # Hace el cálculo manual de la covarianza\n",
        "  # Calcular el numerador de la covarianza\n",
        "  numerador = sum((X - mean_X) * (Y - mean_Y))\n",
        "\n",
        "  # Calcular el denominador (n - 1, donde n es el número de observaciones)\n",
        "  denominador = len(X) - 1\n",
        "  covarianza = numerador / denominador\n",
        "  return covarianza\n",
        "\n",
        "# Calcula la correlación de Pearson de un conjunto de datos\n",
        "# Los datos deben contener dos variable numéricas\n",
        "def f_correlacion_1(datos):\n",
        "    # Verificar que los datos tengan dos variables\n",
        "    if datos.shape[1] != 2:\n",
        "        raise ValueError(\"Los datos deben contener exactamente dos variables numéricas.\")\n",
        "    # Calcular la correlación de Pearson\n",
        "    r = np.corrcoef(datos, rowvar=False)\n",
        "    r = r[0, 1]\n",
        "\n",
        "    return r\n",
        "\n",
        "# Calcula la correlación de Pearson de un conjunto de datos\n",
        "# Los datos deben contener dos variable numéricas\n",
        "# El cálculo de la correlación se hace manual\n",
        "def f_correlacion_2(datos):\n",
        "    # Verificar que los datos tengan dos variables\n",
        "    if datos.shape[1] != 2:\n",
        "        raise ValueError(\"Los datos deben contener exactamente dos variables numéricas.\")\n",
        "\n",
        "    # Calcular la covarianza\n",
        "    numerador = f_covarianza_2(datos)\n",
        "\n",
        "    # Extraer las dos columnas\n",
        "    X = datos.iloc[:, 0].values\n",
        "    Y = datos.iloc[:, 1].values\n",
        "\n",
        "    # Calcular las desviaciones estándar de X y Y\n",
        "    std_X = np.std(X, ddof=1)\n",
        "    std_Y = np.std(Y, ddof=1)\n",
        "\n",
        "    # Calcular el denominador de la correlación de Pearson\n",
        "    denominador = std_X * std_Y\n",
        "\n",
        "    # Calcular la correlación de Pearson\n",
        "    r = numerador / denominador\n",
        "\n",
        "    return r\n",
        "\n",
        "\n",
        "# Función que visualzia la dispersión de un conjunto de datos bivariados\n",
        "def f_dispersión(datos, contexto):\n",
        "    # Extraer las variables X e Y\n",
        "    X = datos.iloc[:, 0].values\n",
        "    Y = datos.iloc[:, 1].values\n",
        "\n",
        "    # Extraer los nombres de las columnas\n",
        "    columnax = datos.columns[0]\n",
        "    columnay = datos.columns[1]\n",
        "\n",
        "    # Mostrar el diagrama de dispersión con puntos en color rojo\n",
        "    plt.scatter(X, Y, color='red')\n",
        "    plt.title('Diagrama de Dispersión - ' + contexto)\n",
        "    plt.xlabel(columnax)\n",
        "    plt.ylabel(columnay)\n",
        "    plt.show()\n",
        "\n",
        "# Función para interpretar correlación de Pearson\n",
        "def f_interpretar_correlacion(r):\n",
        "    if r == 1.00:\n",
        "        return \"Correlación positiva perfecta\"\n",
        "    elif r >= 0.90:\n",
        "        return \"Correlación positiva muy fuerte\"\n",
        "    elif r >= 0.75:\n",
        "        return \"Correlación positiva considerable\"\n",
        "    elif r >= 0.50:\n",
        "        return \"Correlación positiva media\"\n",
        "    elif r >= 0.25:\n",
        "        return \"Correlación positiva débil\"\n",
        "    elif r >= 0.10:\n",
        "        return \"Correlación positiva muy débil\"\n",
        "    elif r >= -0.10:\n",
        "        return \"No existe correlación alguna entre las variables\"\n",
        "    elif r >= -0.25:\n",
        "        return \"Correlación negativa muy débil\"\n",
        "    elif r >= -0.50:\n",
        "        return \"Correlación negativa débil\"\n",
        "    elif r >= -0.75:\n",
        "        return \"Correlación negativa media\"\n",
        "    elif r >= -0.90:\n",
        "        return \"Correlación negativa considerable\"\n",
        "    elif r > -1.00:\n",
        "        return \"Correlación negativa muy fuerte\"\n",
        "    elif r == -1.00:\n",
        "        return \"Correlación negativa perfecta\"\n",
        "    else:\n",
        "        return \"Valor fuera de rango\"\n",
        "\n"
      ],
      "metadata": {
        "id": "If4TtfrdDRhn"
      },
      "execution_count": 103,
      "outputs": []
    },
    {
      "cell_type": "markdown",
      "source": [
        "# Crear datos llamadas y ventas\n",
        "\n",
        "Se crea un conjunto de datos de datos con dos variables que representan valores numéricos de cantidad de llamadas que hace un vendedor en relación con la cantidad de ventas que concreta. Se puede pueden pensar que entre mas llamadas realiza mas ventas concreta.\n"
      ],
      "metadata": {
        "id": "rfhBhZ0FE3Dh"
      }
    },
    {
      "cell_type": "code",
      "source": [
        "# Definir los datos\n",
        "llamadas = np.array([96, 40, 104, 128, 164, 76, 72, 80, 36, 84, 180, 132, 120, 44, 84])\n",
        "ventas = np.array([41, 41, 51, 60, 61, 29, 39, 50, 28, 43, 70, 56, 45, 31, 30])\n",
        "\n",
        "\n",
        "# Crear un DataFrame de datos bivariados\n",
        "datos = pd.DataFrame({'llamadas': llamadas, 'ventas': ventas})\n",
        "print (datos)\n",
        "f_dispersión(datos, \"Llamadas  ventas\")\n",
        "print (\"La covarianza es de : \", np.round(f_covarianza_1(datos), 4))\n",
        "print()\n",
        "print(\"La covarianza es \", np.round(f_covarianza_2(datos), 4))\n",
        "print ()\n",
        "print (\"La correlacion es: \", np.round(f_correlacion_1(datos), 4))\n",
        "print (\"La correlacion es: \", np.round(f_correlacion_2(datos), 4))\n",
        "print (f_interpretar_correlacion(f_correlacion_2(datos)))"
      ],
      "metadata": {
        "colab": {
          "base_uri": "https://localhost:8080/",
          "height": 910
        },
        "id": "Kt5NI3EDIvN5",
        "outputId": "36eb874c-4d73-4d08-da91-11f8117ecd45"
      },
      "execution_count": 104,
      "outputs": [
        {
          "output_type": "stream",
          "name": "stdout",
          "text": [
            "    llamadas  ventas\n",
            "0         96      41\n",
            "1         40      41\n",
            "2        104      51\n",
            "3        128      60\n",
            "4        164      61\n",
            "5         76      29\n",
            "6         72      39\n",
            "7         80      50\n",
            "8         36      28\n",
            "9         84      43\n",
            "10       180      70\n",
            "11       132      56\n",
            "12       120      45\n",
            "13        44      31\n",
            "14        84      30\n"
          ]
        },
        {
          "output_type": "display_data",
          "data": {
            "text/plain": [
              "<Figure size 640x480 with 1 Axes>"
            ],
            "image/png": "[encoded data removed]"
          },
          "metadata": {}
        },
        {
          "output_type": "stream",
          "name": "stdout",
          "text": [
            "La covarianza es de :  [[1828.5714  476.5714]\n",
            " [ 476.5714  166.1429]]\n",
            "\n",
            "La covarianza es  476.5714\n",
            "\n",
            "La correlacion es:  0.8646\n",
            "La correlacion es:  0.8646\n",
            "Correlación positiva considerable\n"
          ]
        }
      ]
    },
    {
      "cell_type": "code",
      "source": [],
      "metadata": {
        "id": "Kg66ua0fFAk9"
      },
      "execution_count": null,
      "outputs": []
    },
    {
      "cell_type": "markdown",
      "source": [
        "## Cargar datos\n",
        "\n",
        "Solo se describen las columnas 1 y 2 de los datos. La estatura de una presona va asociada con el peso corporal."
      ],
      "metadata": {
        "id": "XKpxVSDiLQhI"
      }
    },
    {
      "cell_type": "code",
      "source": [
        "datos = pd.read_csv(\"https://raw.githubusercontent.com/rpizarrog/probabilidad-y-estad-stica/master/2024/datos/estaturas_pesos.csv\")\n",
        "datos.iloc[:, [1, 2]].describe()\n",
        "print (datos)\n",
        "print (\"La covarianza es de : \", np.round(f_covarianza_1(datos.iloc[:, [1, 2]]), 4))\n",
        "print()\n",
        "print(\"La covarianza es \", np.round(f_covarianza_2(datos.iloc[:, [1, 2]]), 4))\n",
        "print ()\n",
        "print (\"La correlacion es: \", np.round(f_correlacion_1(datos.iloc[:, [1, 2]]), 4))\n",
        "print (\"La correlacion es: \", np.round(f_correlacion_2(datos.iloc[:, [1, 2]]), 4))\n",
        "print ()\n",
        "f_dispersión(datos.iloc[:, [1, 2]], \"Estaturas y pesos\")\n",
        "print (f_interpretar_correlacion(f_correlacion_2(datos.iloc[:, [1, 2]])))\n"
      ],
      "metadata": {
        "colab": {
          "base_uri": "https://localhost:8080/",
          "height": 1000
        },
        "id": "OJJdzUBmL3cO",
        "outputId": "20a47c2d-03ce-4dd6-eaaf-6c7569607ec7"
      },
      "execution_count": 108,
      "outputs": [
        {
          "output_type": "stream",
          "name": "stdout",
          "text": [
            "    obs  estaturas  pesos\n",
            "0     1        178     79\n",
            "1     2        172     75\n",
            "2     3        160     62\n",
            "3     4        192    107\n",
            "4     5        167     72\n",
            "5     6        170     52\n",
            "6     7        185     90\n",
            "7     8        175     70\n",
            "8     9        180     85\n",
            "9    10        170     92\n",
            "10   11        180     87\n",
            "11   12        180     82\n",
            "12   13        170     75\n",
            "13   14        183     90\n",
            "14   15        161     65\n",
            "15   16        150     56\n",
            "16   17        162     56\n",
            "17   18        177     82\n",
            "18   19        190     95\n",
            "19   20        165     70\n",
            "20   21        164     80\n",
            "21   22        183     92\n",
            "22   23        175     74\n",
            "23   24        168     65\n",
            "24   25        170     77\n",
            "25   26        175     72\n",
            "26   27        175     65\n",
            "27   28        178     70\n",
            "28   29        170     75\n",
            "29   30        160     65\n",
            "30   31        162     60\n",
            "31   32        166     67\n",
            "32   33        178     75\n",
            "33   34        170     70\n",
            "34   35        163     60\n",
            "35   36        165     72\n",
            "36   37        170     76\n",
            "37   38        167     78\n",
            "38   39        159     60\n",
            "39   40        165     68\n",
            "40   41        181     76\n",
            "41   42        170     60\n",
            "42   43        172     75\n",
            "43   44        171     78\n",
            "44   45        178     76\n",
            "45   46        165     64\n",
            "46   47        162     62\n",
            "47   48        187     87\n",
            "48   49        189     90\n",
            "49   50        174     72\n",
            "La covarianza es de :  [[ 80.9996  83.0829]\n",
            " [ 83.0829 131.5269]]\n",
            "\n",
            "La covarianza es  83.0829\n",
            "\n",
            "La correlacion es:  0.8049\n",
            "La correlacion es:  0.8049\n",
            "\n"
          ]
        },
        {
          "output_type": "display_data",
          "data": {
            "text/plain": [
              "<Figure size 640x480 with 1 Axes>"
            ],
            "image/png": "[encoded data removed]"
          },
          "metadata": {}
        },
        {
          "output_type": "stream",
          "name": "stdout",
          "text": [
            "Correlación positiva considerable\n"
          ]
        }
      ]
    },
    {
      "cell_type": "markdown",
      "source": [
        "## Cargar datos de años y sueldos de personas\n",
        "\n",
        "Suele pensarse que entre mas años de experiencia tiene una persona mas salario o ingreso económico tiene.\n"
      ],
      "metadata": {
        "id": "JQEcmOZrM8eN"
      }
    },
    {
      "cell_type": "code",
      "source": [
        "datos = pd.read_csv(\"https://raw.githubusercontent.com/rpizarrog/probabilidad-y-estad-stica/master/2024/datos/agnios_ingresos.csv\")\n",
        "datos = np.round(datos, 2)\n",
        "datos.describe()\n",
        "print (datos)\n",
        "print (\"La covarianza es de : \", np.round(f_covarianza_1(datos), 4))\n",
        "print()\n",
        "print(\"La covarianza es \", np.round(f_covarianza_2(datos), 4))\n",
        "print ()\n",
        "print (\"La correlacion es: \", np.round(f_correlacion_1(datos), 4))\n",
        "print (\"La correlacion es: \", np.round(f_correlacion_2(datos), 4))\n",
        "print ()\n",
        "print (f_interpretar_correlacion(f_correlacion_2(datos)))\n",
        "\n",
        "\n",
        "f_dispersión(datos, \"Años de experiencia y salario\")\n",
        "\n"
      ],
      "metadata": {
        "colab": {
          "base_uri": "https://localhost:8080/",
          "height": 891
        },
        "id": "uPpimDvbNAh3",
        "outputId": "bb7e0994-1097-4de3-84a0-b4ef90eea291"
      },
      "execution_count": 107,
      "outputs": [
        {
          "output_type": "stream",
          "name": "stdout",
          "text": [
            "     years_experience     salary\n",
            "0                4.60   66228.63\n",
            "1                6.05   82864.99\n",
            "2                9.57  115587.22\n",
            "3                6.37   86050.69\n",
            "4                2.82   55510.70\n",
            "..                ...        ...\n",
            "495              3.43   59651.48\n",
            "496             10.26  120788.10\n",
            "497              3.79   61684.19\n",
            "498              3.24   58560.85\n",
            "499              2.06   44332.17\n",
            "\n",
            "[500 rows x 2 columns]\n",
            "La covarianza es de :  [[8.23840000e+00 7.42809551e+04]\n",
            " [7.42809551e+04 6.72543406e+08]]\n",
            "\n",
            "La covarianza es  74280.9551\n",
            "\n",
            "La correlacion es:  0.9979\n",
            "La correlacion es:  0.9979\n",
            "\n",
            "Correlación positiva muy fuerte\n"
          ]
        },
        {
          "output_type": "display_data",
          "data": {
            "text/plain": [
              "<Figure size 640x480 with 1 Axes>"
            ],
            "image/png": "[encoded data removed]"
          },
          "metadata": {}
        }
      ]
    },
    {
      "cell_type": "markdown",
      "source": [
        "# Interpretación\n",
        "\n",
        "* ¿Cómo se interpreta un diagrama de dispersion de dos variables numéricas?\n",
        "* ¿Cómo se interpreta el valor de a covarianza?\n",
        "* ¿Cómo se intreprta el valor de la correlación de Pearson?\n",
        "\n",
        "La covarianza y la correlación son medidas estadísticas que se deben interprear como el grado de relación que existe entre dos variables numéricas.\n",
        "\n",
        "* El primer conjunto de datos de llamadas y ventas tienen una correlación positiva considerable.\n",
        "* El segundo conjunto de datos de pesos y estaturas tienen una correlacion positiva considerable.\n",
        "* El tercer conjunto de datos de años de experiencia y salario tienen una correlación positiva muy fuerte."
      ],
      "metadata": {
        "id": "K29XxaKp_RfW"
      }
    },
    {
      "cell_type": "markdown",
      "source": [
        "# Bibliografía\n",
        "\n",
        "* Aldás, J., & Uriel, E. (2022). Análisis multivariante aplicado con R. Estadístico E books & Papers. Edicions Parainfo. Alfa Centauro.\n",
        "\n",
        "* Anderson, D., Sweeney, D., & Williams, T. (2008). Estadística para administración y economía Estadística para administración y economía. 10a. Edición. México, D.F: Cengage Learning Editores,S.A. de C.V.\n",
        "\n",
        "* chat openai. (25 de 08 de 2023). Chat Open AI. Obtenido de Chat Open AI: https://chat.openai.com/c/2f7311a3-d0db-45f3-acf8-f9be844afcfa\n",
        "Cristian. (10 de 2018). Definición de Distribución bidimensional. Obtenido de Definición de Distribución bidimensional: https://definicionesdepalabras.com/distribucion-bidimensional/\n",
        "\n",
        "* gadget-info.com. (2019). Diferencia entre covarianza y correlación. Obtenido de Diferencia entre covarianza y correlación: https://es.gadget-info.com/difference-between-covariance\n",
        "Hernández, R., Fernández, C., & Baptista, M. d. (2014). Metodología de la Investigación. México: McGRAW-HILL / INTERAMERICANA EDITORES, S.A. DE C.V.\n",
        "\n",
        "* Hernández, R., Fernández, C., & Baptista, M. d. (2014). Metodología de la Investigación. México: McGRAW-HILL / INTERAMERICANA EDITORES, S.A. DE C.V.\n",
        "\n",
        "* Langa, B. (2018). Creación de modelos de negocios de éxito basados en la inteligencia artificial.\n",
        "* Lind, D. A., Marchal, W. G., & Wathen, S. A. (2015). Estadística aplicada a los Negocios y a la Economía. México, D.F: McGrawn Hill Education. McGRAW-HILL/INTERAMERICANA EDITORES, S.A. DE C.V.\n",
        "\n"
      ],
      "metadata": {
        "id": "I_WuBhsj_TSV"
      }
    }
  ]
}