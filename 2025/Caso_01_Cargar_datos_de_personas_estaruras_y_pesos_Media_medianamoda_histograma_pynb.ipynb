{
  "nbformat": 4,
  "nbformat_minor": 0,
  "metadata": {
    "colab": {
      "provenance": [],
      "authorship_tag": "ABX9TyPQH7SQzCZ9TzJV/BCzosjj",
      "include_colab_link": true
    },
    "kernelspec": {
      "name": "python3",
      "display_name": "Python 3"
    },
    "language_info": {
      "name": "python"
    }
  },
  "cells": [
    {
      "cell_type": "markdown",
      "metadata": {
        "id": "view-in-github",
        "colab_type": "text"
      },
      "source": [
        "<a href=\"https://colab.research.google.com/github/rpizarrog/probabilidad-y-estad-stica/blob/master/2025/Caso_01_Cargar_datos_de_personas_estaruras_y_pesos_Media_medianamoda_histograma_pynb.ipynb\" target=\"_parent\"><img src=\"https://colab.research.google.com/assets/colab-badge.svg\" alt=\"Open In Colab\"/></a>"
      ]
    },
    {
      "cell_type": "markdown",
      "source": [
        "**Nombre**: Rubén Pizarro Gurrola\n",
        "\n",
        "Febrero 2025.\n",
        "\n",
        "\n",
        "---\n",
        "\n",
        "\n",
        "\n",
        "# Objetivo\n",
        "\n",
        "Cargar datos de archivo csv de personas con variables numéricas de interes.\n",
        "\n",
        "\n",
        "# Descripción\n",
        "\n",
        "\n",
        "El archivo despliega un *prompt* para identificar ruta en donde se encuntra un archivo con formato *csv* (archivo separado por comas).\n",
        "\n",
        "Se debe conocer los nombres de columnas o variables para seleccionar la variable de interés.\n",
        "\n",
        "Una variable de interés numérica puede ser como el peso o la estatura, ya que permite  calcular estadísticos o medidas de tendencia central media, mediana y moda.\n",
        "\n",
        "Los cálculos se hace principalmente a trvés de funciones tal como construir histograma o calcular estadísticos.\n",
        "\n",
        "\n"
      ],
      "metadata": {
        "id": "-VKQkJ9eV2GC"
      }
    },
    {
      "cell_type": "markdown",
      "source": [
        "# Fundamento teórico\n",
        "\n",
        "Un data frame en python es una tabla de datos\n",
        "Una variable de interés en python y/o en estadística es una columna del conunto de datos (dataframe) previamente cargado.\n",
        "\n",
        "Que es la media estadística y como obtenerla?\n",
        "\n",
        "La media estadítica es el promedio de los datos numéricos.\n",
        "\n",
        "La media significa el promedio o la suma de todos los elementos divididos entre el total de la muestra, o lo que es lo mismo es un promedio de todos los elementos.\n",
        "\n",
        "La media proporciona una medida de localización central de los datos. Si los datos son datos de una muestra, la media se denota $\\bar{x}$\n",
        "; si los datos son datos de una población, la media se denota con la letra griega μ[@anderson_estadistica_2008]\n",
        "\n",
        "Se necesita el valor de $n$ que es la cantidad de los datos.\n",
        "\n",
        "$$\n",
        "\\bar{x}= \\sum_{i=1}^{n}=\\frac{x_i}{n}=\\frac{x_1+x_2+x_3+ ... x_{n}}{n}\n",
        "$$\n",
        "\n",
        "Qué es la mediana estadítica y cómo calcularla?\n",
        "\n",
        "La mediana es el valo que está exactamente a la mitad de los datos ordenados.\n",
        "\n",
        "Hay que contar los elementos de los datos o de la muestra y si estos son pares la media es el promedio de los daos datos que están a la mitad, si el número de datos es impar, la mediana es el valor que está exactamente a la mitad de los datos.\n",
        "\n",
        "$$\n",
        "\\tilde{x} =\\begin{Bmatrix}x_{(n+1)/2}\\text{ Si n es impar,}\n",
        "\\\\ \\frac{1}{2}\\cdot(x_{n/2}+x_{n/2+1})\\text{ Si n es par,} \\end{Bmatrix}\n",
        "$$\n",
        "\n",
        "¿Qué es la moda de un variable numérica y cómo calcularla?\n",
        "\n",
        "La moda es el valor que se presenta con mayor frecuencia. [@anderson_estadistica_2008]. Walpole, 2012) indica que la moda muestral es el valor que ocurre con mayor frecuencia en los datos y es el punto sobre el eje horizontal donde la curva de una distribución de datos tiene su punto máximo. [@walpole_probabilidad_2012].\n"
      ],
      "metadata": {
        "id": "2VzJTxV7WZaa"
      }
    },
    {
      "cell_type": "markdown",
      "source": [
        "# Desarrollo\n",
        "\n",
        "* Cargar librerías\n",
        "* Crear funciones cargar datos, calcualar estadísticos y crear histgograma\n",
        "* Ejecutar código\n",
        "\n",
        "* Interpretar caso\n",
        "\n"
      ],
      "metadata": {
        "id": "d1R-r2W_WHXl"
      }
    },
    {
      "cell_type": "code",
      "source": [
        "# Cargar librerías\n",
        "import pandas as pd # Cargar archivos\n",
        "\n",
        "import numpy as np  # Analizar datos\n",
        "import statistics   # Algunas funciones estadísticas\n",
        "\n",
        "import matplotlib.pyplot as plt  # Graficar"
      ],
      "metadata": {
        "id": "v-E2oWkZY1i7"
      },
      "execution_count": null,
      "outputs": []
    },
    {
      "cell_type": "code",
      "source": [
        "# Crear funciones\n",
        "# Esta función regresa los datos cargados en memoria RAM\n",
        "def f_cargar_datos(ruta):\n",
        "  # Cargar datos de la carpeta sample_data\n",
        "  # datos = pd.read_csv('sample_data/estaturas_pesos.csv')\n",
        "\n",
        "  # cargar datos de github.com enlace en la nube internet\n",
        "  datos = pd.read_csv(ruta)\n",
        "  return datos\n",
        "\n",
        "# Esta funcion recibe la variable de itneres y\n",
        "# devuelve los estadisitocs media mediana y moda\n",
        "def f_calcular_estadisticos(variable):\n",
        "  media = np.mean(variable)\n",
        "  mediana = np.nanmedian(variable, )\n",
        "  moda = statistics.mode(variable)\n",
        "\n",
        "  return media, mediana, moda\n",
        "\n",
        "\n",
        "def f_crear_histograma(variable, etiqueta):\n",
        "  # Mandar llamar la función que previamente ha sido creaada\n",
        "  media, mediana, moda = f_calcular_estadisticos(variable)\n",
        "\n",
        "  # Crear el histograma\n",
        "  plt.hist(variable, bins=10, alpha=0.7, color='brown', edgecolor='black')\n",
        "\n",
        "  # Agregar líneas verticales para la media, mediana y moda\n",
        "  plt.axvline(media, color='red', linestyle='dashed', linewidth=1, label=f'Media: {media:.1f}')\n",
        "  plt.axvline(mediana, color='green', linestyle='dashed', linewidth=1, label=f'Mediana: {mediana:.1f}')\n",
        "  plt.axvline(moda, color='blue', linestyle='dashed', linewidth=1, label=f'Moda: {moda:.1f}')\n",
        "\n",
        "  # Agregar leyenda y títulos\n",
        "  plt.legend()\n",
        "  plt.title('Histograma con Media, Mediana y Moda')\n",
        "  plt.xlabel(etiqueta)\n",
        "  plt.ylabel('Frecuencia')"
      ],
      "metadata": {
        "id": "lDGVhckBY-IR"
      },
      "execution_count": null,
      "outputs": []
    },
    {
      "cell_type": "code",
      "source": [
        "# Ruta en donde están los datos URL\n",
        "ruta = input(\"Ruta github.com/rpizarrog en donde están los datos o el archivo texto tipo csv?\")\n"
      ],
      "metadata": {
        "colab": {
          "base_uri": "https://localhost:8080/"
        },
        "id": "TjnpRZRKAo3r",
        "outputId": "b8e8d5c6-66a6-4e43-9703-d1c16d68e135"
      },
      "execution_count": null,
      "outputs": [
        {
          "name": "stdout",
          "output_type": "stream",
          "text": [
            "Ruta github.com/rpizarrog en donde están los datos o el archivo texto tipo csv?https://raw.githubusercontent.com/rpizarrog/probabilidad-y-estad-stica/refs/heads/master/datos/personas_datos_ficticios.csv\n"
          ]
        }
      ]
    },
    {
      "cell_type": "code",
      "source": [
        "# Ejecutar funciones\n",
        "datos = f_cargar_datos(ruta)\n",
        "print(datos.head()) # muestra los prmeros 5 registros\n",
        "\n",
        "print(datos.tail()) # Muestra los últimos 5 registros"
      ],
      "metadata": {
        "colab": {
          "base_uri": "https://localhost:8080/"
        },
        "id": "MA9nvK0RZLPF",
        "outputId": "0eb46d27-6a02-47d3-8ccb-97b21beb3dca"
      },
      "execution_count": null,
      "outputs": [
        {
          "output_type": "stream",
          "name": "stdout",
          "text": [
            "   ID     Nombre  Edad     Género   Altura_cm    Peso_kg  Ingreso_anual_usd  \\\n",
            "0   1  Persona_1    50  Masculino  155.109270  51.699937              76540   \n",
            "1   2  Persona_2    31   Femenino  197.839133  71.011880              59902   \n",
            "2   3  Persona_3    31   Femenino  176.526282  53.495898              30126   \n",
            "3   4  Persona_4    25   Femenino  184.906978  76.660314              20118   \n",
            "4   5  Persona_5    31   Femenino  183.848761  76.309355              51266   \n",
            "\n",
            "  Nivel_de_estudios  Estado_Civil  Horas_de_trabajo_por_semana  \\\n",
            "0      Licenciatura  Divorciado/a                           26   \n",
            "1      Licenciatura  Divorciado/a                           37   \n",
            "2         Doctorado  Divorciado/a                           52   \n",
            "3         Doctorado      Casado/a                           60   \n",
            "4        Secundaria  Divorciado/a                           54   \n",
            "\n",
            "   Satisfaccion_laboral  Actividad_Física_horas  \n",
            "0                     1                5.084297  \n",
            "1                     8                7.443976  \n",
            "2                     3                2.923700  \n",
            "3                     5                6.173604  \n",
            "4                     5                2.906629  \n",
            "     ID       Nombre  Edad     Género   Altura_cm    Peso_kg  \\\n",
            "95   96   Persona_96    42  Masculino  197.836077  57.988506   \n",
            "96   97   Persona_97    25   Femenino  173.331298  77.589481   \n",
            "97   98   Persona_98    55  Masculino  174.030040  84.043423   \n",
            "98   99   Persona_99    60  Masculino  162.838383  73.274881   \n",
            "99  100  Persona_100    52  Masculino  190.663918  88.382548   \n",
            "\n",
            "    Ingreso_anual_usd Nivel_de_estudios  Estado_Civil  \\\n",
            "95              61359      Licenciatura      Casado/a   \n",
            "96              72770         Doctorado       Viudo/a   \n",
            "97             115723      Preparatoria      Casado/a   \n",
            "98              59865         Doctorado       Viudo/a   \n",
            "99              91816      Licenciatura  Divorciado/a   \n",
            "\n",
            "    Horas_de_trabajo_por_semana  Satisfaccion_laboral  Actividad_Física_horas  \n",
            "95                           51                     5                3.273134  \n",
            "96                           59                     9                4.812955  \n",
            "97                           40                     1                6.276040  \n",
            "98                           37                     9                8.780150  \n",
            "99                           42                     1                7.861903  \n"
          ]
        }
      ]
    },
    {
      "cell_type": "code",
      "source": [
        "# Variable de interés\n",
        "variable = input(\"Variable de interes. Enter al final: \")\n",
        "print (variable)\n",
        "\n",
        "print(datos[variable])"
      ],
      "metadata": {
        "colab": {
          "base_uri": "https://localhost:8080/"
        },
        "id": "Q1CHmOUTBelj",
        "outputId": "31c20f70-0ff4-4b11-a7e7-b09f7f2e2a7f"
      },
      "execution_count": null,
      "outputs": [
        {
          "output_type": "stream",
          "name": "stdout",
          "text": [
            "Variable de interes. Enter al final: Actividad_Física_horas\n",
            "Actividad_Física_horas\n",
            "0     5.084297\n",
            "1     7.443976\n",
            "2     2.923700\n",
            "3     6.173604\n",
            "4     2.906629\n",
            "        ...   \n",
            "95    3.273134\n",
            "96    4.812955\n",
            "97    6.276040\n",
            "98    8.780150\n",
            "99    7.861903\n",
            "Name: Actividad_Física_horas, Length: 100, dtype: float64\n"
          ]
        }
      ]
    },
    {
      "cell_type": "code",
      "source": [
        "#\n",
        "print(variable)\n",
        "media, mediana, moda = f_calcular_estadisticos(datos[variable])\n",
        "\n",
        "print (\"La media es: \", media)\n",
        "print (\"La mediana  es: \", mediana)\n",
        "print (\"La moda es: \", moda)\n",
        "\n",
        "f_crear_histograma(datos[variable], variable)\n",
        "\n",
        "\n",
        "\n"
      ],
      "metadata": {
        "colab": {
          "base_uri": "https://localhost:8080/",
          "height": 543
        },
        "id": "2UhigLI0b-l5",
        "outputId": "f4e95bea-43c3-4ca1-87ed-6ad4cc2e5c9e"
      },
      "execution_count": null,
      "outputs": [
        {
          "output_type": "stream",
          "name": "stdout",
          "text": [
            "Actividad_Física_horas\n",
            "La media es:  5.27674517883645\n",
            "La mediana  es:  5.259803319583968\n",
            "La moda es:  5.084297294873123\n"
          ]
        },
        {
          "output_type": "display_data",
          "data": {
            "text/plain": [
              "<Figure size 640x480 with 1 Axes>"
            ],
            "image/png": "[encoded data removed]"
          },
          "metadata": {}
        }
      ]
    },
    {
      "cell_type": "markdown",
      "source": [
        "# Interpretación\n",
        "\n",
        "* ¿Qué hace el caso?\n",
        "* En dónde está la fuente u origen de los datos... https://raw.githubusercontent.com/rpizarrog/probabilidad-y-estad-stica/master/2024/datos/estaturas_pesos.csv, local o en una URL?\n",
        "* ¿Cuáles fueron las variables de interés?\n",
        "* ¿Cuales fueron los valores de los estadísticos calculados?, media, mediana y moda de cada variable de interés?\n",
        "* ¿Qué representa el histograma?\n",
        "* De la nueva variable de interes edades del conjunto de datos de esta url: https://raw.githubusercontent.com/rpizarrog/probabilidad-y-estad-stica/master/2024/datos/estaturas_pesos.csv, cuales fueron los valores de los estadísticos y su histograma?\n",
        "* ¿Para qué utilizar funciones en Python y que importancia tienen?\n",
        "\n",
        "Describir estas respuestas a las preguntas en aproximadamente 50 palabras?"
      ],
      "metadata": {
        "id": "tM9_2G3Zjn5H"
      }
    },
    {
      "cell_type": "markdown",
      "source": [
        "# Bibliografía\n",
        "\n",
        "* Anderson, D., Sweeney, D., & Williams, T. (2008). Estadística para administración y economía Estadística para administración y economía. 10a. Edición. México, D.F: Cengage Learning Editores,S.A. de C.V.\n",
        "\n",
        "* Devore, J. L. (2018). Fundamentos de Probabilidad y Estadística. California Polytechnic State University, San Luis Obispo: CENCAGE.\n",
        "\n",
        "* Fernández, S., Córdova, A., & Cordero, J. (2002). Etadística Descriptiva. Madrid, España: ESIC Editorial.\n",
        "\n",
        "* Lind, D., Marchal, W., & Wathen, S. (2015). Estadística aplicada a los negocios y la econmía. DécimoSexta edición. ISBN: 978-607-15-1303-8. México, D.F: McGRAW-HILL/INTERAMERICANA EDITORES, S.A. DE C.V.\n",
        "\n",
        "* Mendenhall, W., Beaver, R. J., & Beaver, B. M. (2010). Introducción a la probabilidad y estadística. México, D.F.: Cengage Learning Editores, S.A. de C.V.\n",
        "\n",
        "* OpenAI. (2024). ChatGPT (May 25 version) [Large language model]. Retrieved from https://chat.openai.com/\n",
        "\n",
        "* Pizarro, R. (2022). Medidas de localización. Obtenido de Media, mediana y moda: https://rpubs.com/rpizarro/936259 SlideShare. (2010). Descubre. Comparte. Aprende.\n",
        "\n",
        "* Walpole, R., Myers, R. H., Myers, S. L., & Ye, K. (2007). Probabilidad y estadística para Ingeniería y Ciencias. Octava Edición (Octava Edición ed.). México: Prentice Hill. Pearson Educación.\n",
        "\n",
        "* Walpole, R., Myers, R., Myers, S., & Ye, K. (2012). Probabilidad y estadística para ingeniería y ciencias (Novena Edición ed.). Cd. México: Pearson."
      ],
      "metadata": {
        "id": "TFhYR-0C19IW"
      }
    }
  ]
}